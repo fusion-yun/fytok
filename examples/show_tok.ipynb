{
 "cells": [
  {
   "cell_type": "code",
   "execution_count": 6,
   "metadata": {},
   "outputs": [
    {
     "ename": "TypeError",
     "evalue": "Can not convert {shot} to <class 'int'>",
     "output_type": "error",
     "traceback": [
      "\u001b[0;31m---------------------------------------------------------------------------\u001b[0m",
      "\u001b[0;31mValueError\u001b[0m                                Traceback (most recent call last)",
      "File \u001b[0;32m~/workspace/fytok/SpDM/python/spdm/utils/typing.py:348\u001b[0m, in \u001b[0;36mtype_convert\u001b[0;34m(value, _type_hint, **kwargs)\u001b[0m\n\u001b[1;32m    347\u001b[0m \u001b[39mtry\u001b[39;00m:\n\u001b[0;32m--> 348\u001b[0m     tmp \u001b[39m=\u001b[39m _type_hint(value)\n\u001b[1;32m    349\u001b[0m \u001b[39mexcept\u001b[39;00m \u001b[39mException\u001b[39;00m \u001b[39mas\u001b[39;00m error:\n",
      "\u001b[0;31mValueError\u001b[0m: invalid literal for int() with base 10: '{shot}'",
      "\nThe above exception was the direct cause of the following exception:\n",
      "\u001b[0;31mTypeError\u001b[0m                                 Traceback (most recent call last)",
      "\u001b[1;32m/home/salmon/workspace/fytok/examples/show_tok.ipynb Cell 1\u001b[0m line \u001b[0;36m3\n\u001b[1;32m      <a href='vscode-notebook-cell://wsl%2Bubuntu-22.04/home/salmon/workspace/fytok/examples/show_tok.ipynb#W0sdnNjb2RlLXJlbW90ZQ%3D%3D?line=0'>1</a>\u001b[0m \u001b[39mfrom\u001b[39;00m \u001b[39mfytok\u001b[39;00m\u001b[39m.\u001b[39;00m\u001b[39mTokamak\u001b[39;00m \u001b[39mimport\u001b[39;00m Tokamak\n\u001b[0;32m----> <a href='vscode-notebook-cell://wsl%2Bubuntu-22.04/home/salmon/workspace/fytok/examples/show_tok.ipynb#W0sdnNjb2RlLXJlbW90ZQ%3D%3D?line=2'>3</a>\u001b[0m tok \u001b[39m=\u001b[39m Tokamak(\n\u001b[1;32m      <a href='vscode-notebook-cell://wsl%2Bubuntu-22.04/home/salmon/workspace/fytok/examples/show_tok.ipynb#W0sdnNjb2RlLXJlbW90ZQ%3D%3D?line=3'>4</a>\u001b[0m     \u001b[39mf\u001b[39;49m\u001b[39m\"\u001b[39;49m\u001b[39meast+mdsplus:///home/salmon/workspace/fytok_data/mdsplus/~t/?enable=efit_east&shot=70754\u001b[39;49m\u001b[39m\"\u001b[39;49m, device\u001b[39m=\u001b[39;49m\u001b[39m\"\u001b[39;49m\u001b[39mEAST\u001b[39;49m\u001b[39m\"\u001b[39;49m\n\u001b[1;32m      <a href='vscode-notebook-cell://wsl%2Bubuntu-22.04/home/salmon/workspace/fytok/examples/show_tok.ipynb#W0sdnNjb2RlLXJlbW90ZQ%3D%3D?line=4'>5</a>\u001b[0m )\n\u001b[1;32m      <a href='vscode-notebook-cell://wsl%2Bubuntu-22.04/home/salmon/workspace/fytok/examples/show_tok.ipynb#W0sdnNjb2RlLXJlbW90ZQ%3D%3D?line=6'>7</a>\u001b[0m tok\u001b[39m.\u001b[39mrefresh(time\u001b[39m=\u001b[39m\u001b[39m5.0\u001b[39m)\n",
      "File \u001b[0;32m~/workspace/fytok/python/fytok/Tokamak.py:82\u001b[0m, in \u001b[0;36mTokamak.__init__\u001b[0;34m(self, device, shot, run, *args, **kwargs)\u001b[0m\n\u001b[1;32m     67\u001b[0m entry \u001b[39m=\u001b[39m open_entry(\n\u001b[1;32m     68\u001b[0m     entry,\n\u001b[1;32m     69\u001b[0m     shot\u001b[39m=\u001b[39mshot,\n\u001b[0;32m   (...)\u001b[0m\n\u001b[1;32m     72\u001b[0m     global_schema\u001b[39m=\u001b[39mGLOBAL_ONTOLOGY,\n\u001b[1;32m     73\u001b[0m )\n\u001b[1;32m     75\u001b[0m \u001b[39msuper\u001b[39m()\u001b[39m.\u001b[39m\u001b[39m__init__\u001b[39m(\n\u001b[1;32m     76\u001b[0m     cache,\n\u001b[1;32m     77\u001b[0m     _entry\u001b[39m=\u001b[39mentry,\n\u001b[1;32m     78\u001b[0m     _parent\u001b[39m=\u001b[39mparent,\n\u001b[1;32m     79\u001b[0m \n\u001b[1;32m     80\u001b[0m )\n\u001b[0;32m---> 82\u001b[0m logger\u001b[39m.\u001b[39minfo(\u001b[39mself\u001b[39;49m\u001b[39m.\u001b[39;49mbrief_summary())\n",
      "File \u001b[0;32m~/workspace/fytok/python/fytok/Tokamak.py:85\u001b[0m, in \u001b[0;36mTokamak.brief_summary\u001b[0;34m(self)\u001b[0m\n\u001b[1;32m     84\u001b[0m     \u001b[39mdef\u001b[39;00m \u001b[39mbrief_summary\u001b[39m(\u001b[39mself\u001b[39m) \u001b[39m-\u001b[39m\u001b[39m>\u001b[39m \u001b[39mstr\u001b[39m:\n\u001b[0;32m---> 85\u001b[0m         \u001b[39mreturn\u001b[39;00m \u001b[39mf\u001b[39m\u001b[39m\"\"\"\u001b[39m\u001b[39mTokamak simulation : \u001b[39m\n\u001b[1;32m     86\u001b[0m \u001b[39m-----------------------------------------------------------------------------------------------------------------------\u001b[39m\n\u001b[1;32m     87\u001b[0m \u001b[39m                                                Brief Summary\u001b[39m\n\u001b[1;32m     88\u001b[0m \u001b[39m-----------------------------------------------------------------------------------------------------------------------\u001b[39m\n\u001b[1;32m     89\u001b[0m \u001b[39mDataset Description:\u001b[39m\n\u001b[1;32m     90\u001b[0m \u001b[39m{\u001b[39;00m\u001b[39mself\u001b[39m\u001b[39m.\u001b[39mdataset_fair\u001b[39m}\u001b[39;00m\n\u001b[1;32m     91\u001b[0m \u001b[39m-----------------------------------------------------------------------------------------------------------------------\u001b[39m\n\u001b[1;32m     92\u001b[0m \u001b[39mModules:\u001b[39m\n\u001b[1;32m     93\u001b[0m \u001b[39m    transport_solver        : \u001b[39m\u001b[39m{\u001b[39;00m\u001b[39mself\u001b[39m\u001b[39m.\u001b[39mtransport_solver\u001b[39m.\u001b[39mcode\u001b[39m.\u001b[39mname\u001b[39m \u001b[39m\u001b[39mor\u001b[39;00m\u001b[39m \u001b[39m\u001b[39m'\u001b[39m\u001b[39mN/A\u001b[39m\u001b[39m'\u001b[39m\u001b[39m}\u001b[39;00m\n\u001b[1;32m     94\u001b[0m \u001b[39m    equilibrium             : \u001b[39m\u001b[39m{\u001b[39;00m\u001b[39mself\u001b[39m\u001b[39m.\u001b[39mequilibrium\u001b[39m.\u001b[39mcode\u001b[39m.\u001b[39mname\u001b[39m \u001b[39m\u001b[39mor\u001b[39;00m\u001b[39m \u001b[39m\u001b[39m'\u001b[39m\u001b[39mN/A\u001b[39m\u001b[39m'\u001b[39m\u001b[39m}\u001b[39;00m\n\u001b[1;32m     95\u001b[0m \n\u001b[1;32m     96\u001b[0m \u001b[39m    core_profiles           : N/A             \u001b[39m\n\u001b[1;32m     97\u001b[0m \u001b[39m    core_transport          : \u001b[39m\u001b[39m{\u001b[39;00m\u001b[39m'\u001b[39m\u001b[39m,\u001b[39m\u001b[39m'\u001b[39m\u001b[39m.\u001b[39mjoin([s\u001b[39m.\u001b[39mcode\u001b[39m.\u001b[39mname\u001b[39m \u001b[39m\u001b[39mfor\u001b[39;00m\u001b[39m \u001b[39ms\u001b[39m \u001b[39m\u001b[39min\u001b[39;00m\u001b[39m \u001b[39m\u001b[39mself\u001b[39m\u001b[39m.\u001b[39mcore_transport\u001b[39m.\u001b[39mmodel])\u001b[39m}\u001b[39;00m\n\u001b[1;32m     98\u001b[0m \u001b[39m    core_sources            : \u001b[39m\u001b[39m{\u001b[39;00m\u001b[39m'\u001b[39m\u001b[39m,\u001b[39m\u001b[39m'\u001b[39m\u001b[39m.\u001b[39mjoin([s\u001b[39m.\u001b[39mcode\u001b[39m.\u001b[39mname\u001b[39m \u001b[39m\u001b[39mfor\u001b[39;00m\u001b[39m \u001b[39ms\u001b[39m \u001b[39m\u001b[39min\u001b[39;00m\u001b[39m \u001b[39m\u001b[39mself\u001b[39m\u001b[39m.\u001b[39mcore_sources\u001b[39m.\u001b[39msource])\u001b[39m}\u001b[39;00m\n\u001b[1;32m     99\u001b[0m \u001b[39m-----------------------------------------------------------------------------------------------------------------------\u001b[39m\n\u001b[1;32m    100\u001b[0m \u001b[39mData source:\u001b[39m\n\u001b[1;32m    101\u001b[0m \u001b[39m    \u001b[39m\u001b[39m{\u001b[39;00m\u001b[39mself\u001b[39m\u001b[39m.\u001b[39m_entry\u001b[39m}\u001b[39;00m\n\u001b[1;32m    102\u001b[0m \u001b[39m-----------------------------------------------------------------------------------------------------------------------\u001b[39m\n\u001b[1;32m    103\u001b[0m \u001b[39m    File: \u001b[39m\u001b[39m{\u001b[39;00m\u001b[39m__file__\u001b[39m\u001b[39m}\u001b[39;00m\u001b[39m:\u001b[39m\u001b[39m{\u001b[39;00m__package__\u001b[39m}\u001b[39;00m\u001b[39m.\u001b[39m\u001b[39m{\u001b[39;00m\u001b[39mself\u001b[39m\u001b[39m.\u001b[39m\u001b[39m__class__\u001b[39m\u001b[39m.\u001b[39m\u001b[39m__name__\u001b[39m\u001b[39m}\u001b[39;00m\n\u001b[1;32m    104\u001b[0m \u001b[39m\"\"\"\u001b[39m\n",
      "File \u001b[0;32m~/workspace/fytok/python/fytok/modules/DatasetFAIR.py:45\u001b[0m, in \u001b[0;36mDatasetFAIR.__str__\u001b[0;34m(self)\u001b[0m\n\u001b[1;32m     43\u001b[0m     \u001b[39mdef\u001b[39;00m \u001b[39m__str__\u001b[39m(\u001b[39mself\u001b[39m) \u001b[39m-\u001b[39m\u001b[39m>\u001b[39m \u001b[39mstr\u001b[39m:\n\u001b[1;32m     44\u001b[0m         \u001b[39mreturn\u001b[39;00m \u001b[39mf\u001b[39m\u001b[39m\"\"\"\u001b[39m\u001b[39m \u001b[39m\n\u001b[0;32m---> 45\u001b[0m \u001b[39m    Device: \u001b[39m\u001b[39m{\u001b[39;00m\u001b[39mself\u001b[39m\u001b[39m.\u001b[39mdescription\u001b[39m.\u001b[39mdevice\u001b[39m.\u001b[39mupper()\u001b[39m}\u001b[39;00m\u001b[39m, Shot: \u001b[39m\u001b[39m{\u001b[39;00m\u001b[39mself\u001b[39;49m\u001b[39m.\u001b[39;49mdescription\u001b[39m.\u001b[39;49mshot\u001b[39m}\u001b[39;00m\u001b[39m, Run: \u001b[39m\u001b[39m{\u001b[39;00m\u001b[39mself\u001b[39m\u001b[39m.\u001b[39mdescription\u001b[39m.\u001b[39mrun\u001b[39m}\u001b[39;00m\u001b[39m, \u001b[39m\n\u001b[1;32m     46\u001b[0m \u001b[39m    Run by \u001b[39m\u001b[39m{\u001b[39;00m\u001b[39mself\u001b[39m\u001b[39m.\u001b[39mcreator\u001b[39m}\u001b[39;00m\u001b[39m on \u001b[39m\u001b[39m{\u001b[39;00m\u001b[39mself\u001b[39m\u001b[39m.\u001b[39msite\u001b[39m}\u001b[39;00m\u001b[39m at \u001b[39m\u001b[39m{\u001b[39;00m\u001b[39mself\u001b[39m\u001b[39m.\u001b[39mcreate_time\u001b[39m}\u001b[39;00m\u001b[39m, base on ontology \u001b[39m\u001b[39m\\\"\u001b[39;00m\u001b[39m{\u001b[39;00m\u001b[39mself\u001b[39m\u001b[39m.\u001b[39montology\u001b[39m}\u001b[39;00m\u001b[39m\\\"\u001b[39;00m\n\u001b[1;32m     47\u001b[0m \u001b[39m\"\"\"\u001b[39m\n",
      "File \u001b[0;32m~/workspace/fytok/SpDM/python/spdm/data/sp_property.py:339\u001b[0m, in \u001b[0;36mSpProperty.__get__\u001b[0;34m(self, instance, owner)\u001b[0m\n\u001b[1;32m    336\u001b[0m     \u001b[39mraise\u001b[39;00m \u001b[39mAttributeError\u001b[39;00m(\u001b[39mf\u001b[39m\u001b[39m\"\u001b[39m\u001b[39mproperty_name is None!\u001b[39m\u001b[39m\"\u001b[39m)\n\u001b[1;32m    338\u001b[0m \u001b[39mwith\u001b[39;00m \u001b[39mself\u001b[39m\u001b[39m.\u001b[39mlock:\n\u001b[0;32m--> 339\u001b[0m     value \u001b[39m=\u001b[39m instance\u001b[39m.\u001b[39;49m__get_property__(\n\u001b[1;32m    340\u001b[0m         property_name,\n\u001b[1;32m    341\u001b[0m         _type_hint\u001b[39m=\u001b[39;49mtype_hint,\n\u001b[1;32m    342\u001b[0m         _getter\u001b[39m=\u001b[39;49m\u001b[39mself\u001b[39;49m\u001b[39m.\u001b[39;49mgetter,\n\u001b[1;32m    343\u001b[0m         \u001b[39m*\u001b[39;49m\u001b[39m*\u001b[39;49mmetadata,\n\u001b[1;32m    344\u001b[0m     )\n\u001b[1;32m    346\u001b[0m     \u001b[39mif\u001b[39;00m \u001b[39mself\u001b[39m\u001b[39m.\u001b[39mstrict \u001b[39mand\u001b[39;00m value \u001b[39mis\u001b[39;00m _not_found_:\n\u001b[1;32m    347\u001b[0m         \u001b[39mraise\u001b[39;00m \u001b[39mAttributeError\u001b[39;00m(\n\u001b[1;32m    348\u001b[0m             \u001b[39mf\u001b[39m\u001b[39m\"\u001b[39m\u001b[39mThe value of property \u001b[39m\u001b[39m'\u001b[39m\u001b[39m{\u001b[39;00mowner\u001b[39m.\u001b[39m\u001b[39m__name__\u001b[39m\u001b[39m \u001b[39m\u001b[39mif\u001b[39;00m\u001b[39m \u001b[39mowner\u001b[39m \u001b[39m\u001b[39mis\u001b[39;00m\u001b[39m \u001b[39m\u001b[39mnot\u001b[39;00m\u001b[39m \u001b[39m\u001b[39mNone\u001b[39;00m\u001b[39m \u001b[39m\u001b[39melse\u001b[39;00m\u001b[39m \u001b[39m\u001b[39m'\u001b[39m\u001b[39mnone\u001b[39m\u001b[39m'\u001b[39m\u001b[39m}\u001b[39;00m\u001b[39m.\u001b[39m\u001b[39m{\u001b[39;00mproperty_name\u001b[39m}\u001b[39;00m\u001b[39m'\u001b[39m\u001b[39m is not assigned!\u001b[39m\u001b[39m\"\u001b[39m\n\u001b[1;32m    349\u001b[0m         )\n",
      "File \u001b[0;32m~/workspace/fytok/SpDM/python/spdm/data/sp_property.py:67\u001b[0m, in \u001b[0;36mSpTree.__get_property__\u001b[0;34m(self, key, *args, **kwargs)\u001b[0m\n\u001b[1;32m     66\u001b[0m \u001b[39mdef\u001b[39;00m \u001b[39m__get_property__\u001b[39m(\u001b[39mself\u001b[39m, key: \u001b[39mstr\u001b[39m, \u001b[39m*\u001b[39margs, \u001b[39m*\u001b[39m\u001b[39m*\u001b[39mkwargs) \u001b[39m-\u001b[39m\u001b[39m>\u001b[39m SpTree:\n\u001b[0;32m---> 67\u001b[0m     \u001b[39mreturn\u001b[39;00m \u001b[39mself\u001b[39;49m\u001b[39m.\u001b[39;49m_get(key, \u001b[39m*\u001b[39;49margs, \u001b[39m*\u001b[39;49m\u001b[39m*\u001b[39;49mkwargs)\n",
      "File \u001b[0;32m~/workspace/fytok/SpDM/python/spdm/data/HTree.py:471\u001b[0m, in \u001b[0;36mHTree._get\u001b[0;34m(self, query, _type_hint, *args, **kwargs)\u001b[0m\n\u001b[1;32m    468\u001b[0m         value \u001b[39m=\u001b[39m \u001b[39mself\u001b[39m\u001b[39m.\u001b[39m_get_as_list(query, \u001b[39m*\u001b[39margs, _type_hint\u001b[39m=\u001b[39m_type_hint, \u001b[39m*\u001b[39m\u001b[39m*\u001b[39mkwargs)\n\u001b[1;32m    470\u001b[0m \u001b[39melif\u001b[39;00m \u001b[39misinstance\u001b[39m(query, \u001b[39mstr\u001b[39m):\n\u001b[0;32m--> 471\u001b[0m     value \u001b[39m=\u001b[39m \u001b[39mself\u001b[39;49m\u001b[39m.\u001b[39;49m_get_as_dict(query, \u001b[39m*\u001b[39;49margs, _type_hint\u001b[39m=\u001b[39;49m_type_hint, \u001b[39m*\u001b[39;49m\u001b[39m*\u001b[39;49mkwargs)\n\u001b[1;32m    473\u001b[0m \u001b[39melif\u001b[39;00m \u001b[39misinstance\u001b[39m(query, \u001b[39mset\u001b[39m):  \u001b[39m# compound\u001b[39;00m\n\u001b[1;32m    474\u001b[0m     \u001b[39mraise\u001b[39;00m \u001b[39mNotImplementedError\u001b[39;00m(\u001b[39mf\u001b[39m\u001b[39m\"\u001b[39m\u001b[39mTODO: NamedDict\u001b[39m\u001b[39m\"\u001b[39m)\n",
      "File \u001b[0;32m~/workspace/fytok/SpDM/python/spdm/data/HTree.py:512\u001b[0m, in \u001b[0;36mHTree._get_as_dict\u001b[0;34m(self, key, default_value, *args, **kwargs)\u001b[0m\n\u001b[1;32m    509\u001b[0m \u001b[39melse\u001b[39;00m:\n\u001b[1;32m    510\u001b[0m     _entry \u001b[39m=\u001b[39m \u001b[39mNone\u001b[39;00m\n\u001b[0;32m--> 512\u001b[0m value \u001b[39m=\u001b[39m \u001b[39mself\u001b[39;49m\u001b[39m.\u001b[39;49m_as_child(\n\u001b[1;32m    513\u001b[0m     cache, key, \u001b[39m*\u001b[39;49margs, _entry\u001b[39m=\u001b[39;49m_entry, _type_hint\u001b[39m=\u001b[39;49m_type_hint, default_value\u001b[39m=\u001b[39;49mdefault_value, \u001b[39m*\u001b[39;49m\u001b[39m*\u001b[39;49mkwargs\n\u001b[1;32m    514\u001b[0m )\n\u001b[1;32m    516\u001b[0m \u001b[39mif\u001b[39;00m \u001b[39mself\u001b[39m\u001b[39m.\u001b[39m_cache \u001b[39mis\u001b[39;00m _not_found_ \u001b[39mor\u001b[39;00m \u001b[39mself\u001b[39m\u001b[39m.\u001b[39m_cache \u001b[39mis\u001b[39;00m \u001b[39mNone\u001b[39;00m:\n\u001b[1;32m    517\u001b[0m     \u001b[39mself\u001b[39m\u001b[39m.\u001b[39m_cache \u001b[39m=\u001b[39m {}\n",
      "File \u001b[0;32m~/workspace/fytok/SpDM/python/spdm/data/HTree.py:426\u001b[0m, in \u001b[0;36mHTree._as_child\u001b[0;34m(self, value, key, default_value, _type_hint, _entry, _parent, _getter, force, *args, **kwargs)\u001b[0m\n\u001b[1;32m    423\u001b[0m                 \u001b[39mpass\u001b[39;00m\n\u001b[1;32m    425\u001b[0m         \u001b[39mif\u001b[39;00m _type_hint \u001b[39mis\u001b[39;00m \u001b[39mnot\u001b[39;00m \u001b[39mNone\u001b[39;00m:\n\u001b[0;32m--> 426\u001b[0m             value \u001b[39m=\u001b[39m type_convert(\n\u001b[1;32m    427\u001b[0m                 value, _type_hint\u001b[39m=\u001b[39;49m_type_hint, _parent\u001b[39m=\u001b[39;49m_parent, default_value\u001b[39m=\u001b[39;49mdefault_value, \u001b[39m*\u001b[39;49m\u001b[39m*\u001b[39;49mkwargs\n\u001b[1;32m    428\u001b[0m             )\n\u001b[1;32m    430\u001b[0m \u001b[39mif\u001b[39;00m \u001b[39mhasattr\u001b[39m(value, \u001b[39m\"\u001b[39m\u001b[39m_metadata\u001b[39m\u001b[39m\"\u001b[39m):\n\u001b[1;32m    431\u001b[0m     s_metadata \u001b[39m=\u001b[39m (\n\u001b[1;32m    432\u001b[0m         \u001b[39mgetattr\u001b[39m(\u001b[39mgetattr\u001b[39m(\u001b[39mself\u001b[39m\u001b[39m.\u001b[39m\u001b[39m__class__\u001b[39m, key, \u001b[39mNone\u001b[39;00m), \u001b[39m\"\u001b[39m\u001b[39mmetadata\u001b[39m\u001b[39m\"\u001b[39m, {})\n\u001b[1;32m    433\u001b[0m         \u001b[39mif\u001b[39;00m \u001b[39misinstance\u001b[39m(key, \u001b[39mstr\u001b[39m) \u001b[39mand\u001b[39;00m key\u001b[39m.\u001b[39misidentifier()\n\u001b[1;32m    434\u001b[0m         \u001b[39melse\u001b[39;00m {}\n\u001b[1;32m    435\u001b[0m     )\n",
      "File \u001b[0;32m~/workspace/fytok/SpDM/python/spdm/utils/typing.py:350\u001b[0m, in \u001b[0;36mtype_convert\u001b[0;34m(value, _type_hint, **kwargs)\u001b[0m\n\u001b[1;32m    348\u001b[0m     tmp \u001b[39m=\u001b[39m _type_hint(value)\n\u001b[1;32m    349\u001b[0m \u001b[39mexcept\u001b[39;00m \u001b[39mException\u001b[39;00m \u001b[39mas\u001b[39;00m error:\n\u001b[0;32m--> 350\u001b[0m     \u001b[39mraise\u001b[39;00m \u001b[39mTypeError\u001b[39;00m(\u001b[39mf\u001b[39m\u001b[39m\"\u001b[39m\u001b[39mCan not convert \u001b[39m\u001b[39m{\u001b[39;00mvalue\u001b[39m}\u001b[39;00m\u001b[39m to \u001b[39m\u001b[39m{\u001b[39;00m_type_hint\u001b[39m}\u001b[39;00m\u001b[39m\"\u001b[39m) \u001b[39mfrom\u001b[39;00m \u001b[39merror\u001b[39;00m\n\u001b[1;32m    351\u001b[0m \u001b[39melse\u001b[39;00m:\n\u001b[1;32m    352\u001b[0m     value \u001b[39m=\u001b[39m tmp\n",
      "\u001b[0;31mTypeError\u001b[0m: Can not convert {shot} to <class 'int'>"
     ]
    }
   ],
   "source": [
    "from fytok.Tokamak import Tokamak\n",
    "\n",
    "tok = Tokamak(\n",
    "    f\"east+mdsplus:///home/salmon/workspace/fytok_data/mdsplus/~t/?enable=efit_east&shot=70754\", device=\"EAST\"\n",
    ")\n",
    "\n",
    "tok.refresh(time=5.0)"
   ]
  },
  {
   "cell_type": "code",
   "execution_count": null,
   "metadata": {},
   "outputs": [],
   "source": [
    "display(tok)"
   ]
  },
  {
   "cell_type": "code",
   "execution_count": null,
   "metadata": {},
   "outputs": [],
   "source": [
    "tok.equilibrium"
   ]
  },
  {
   "cell_type": "code",
   "execution_count": null,
   "metadata": {},
   "outputs": [],
   "source": [
    "tok.wall"
   ]
  },
  {
   "cell_type": "code",
   "execution_count": null,
   "metadata": {},
   "outputs": [],
   "source": [
    "tok.pf_active"
   ]
  },
  {
   "cell_type": "code",
   "execution_count": null,
   "metadata": {},
   "outputs": [],
   "source": [
    "tok.magnetics"
   ]
  },
  {
   "cell_type": "code",
   "execution_count": null,
   "metadata": {},
   "outputs": [],
   "source": [
    "from spdm.view import View as sp_view\n",
    "\n",
    "fig=sp_view.display(tok.__geometry__(view=\"top\"))"
   ]
  },
  {
   "cell_type": "code",
   "execution_count": null,
   "metadata": {},
   "outputs": [],
   "source": [
    "software/f/fytok/0.2.1/lib/python3.10/site_pacakges/fytok\n",
    "software/f/fytok_ext/0.2.1/lib/python3.10/site_pacakges/fytok"
   ]
  }
 ],
 "metadata": {
  "kernelspec": {
   "display_name": "Python 3",
   "language": "python",
   "name": "python3"
  },
  "language_info": {
   "codemirror_mode": {
    "name": "ipython",
    "version": 3
   },
   "file_extension": ".py",
   "mimetype": "text/x-python",
   "name": "python",
   "nbconvert_exporter": "python",
   "pygments_lexer": "ipython3",
   "version": "3.10.12"
  },
  "orig_nbformat": 4
 },
 "nbformat": 4,
 "nbformat_minor": 2
}
