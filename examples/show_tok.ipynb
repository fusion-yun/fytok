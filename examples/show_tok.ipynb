{
 "cells": [
  {
   "cell_type": "code",
   "execution_count": 1,
   "metadata": {},
   "outputs": [
    {
     "name": "stdout",
     "output_type": "stream",
     "text": [
      "\u001b[0;34m2023-11-10 07:40:25,102 [   fytok]     INFO: \n",
      "#######################################################################################################################\n",
      "    ______      _____     _\n",
      "   / ____/_  __|_   _|__ | | __\n",
      "  / /_  / / / /  | |/ _ \\| |/ /\n",
      " / __/ / /_/ /   | | (_) |   <\n",
      "/_/    \\__, /    |_|\\___/|_|\\_\\\n",
      "      /____/\n",
      "\n",
      " Copyright (c) 2021-present Zhi YU (Institute of Plasma Physics Chinese Academy of Sciences)\n",
      "            \n",
      " url: https://gitee.com/openfusion/fytok_tutorial \n",
      "      https://github.com/fusion-yun/fytok_tutorial\n",
      "\n",
      " version = 0.2.2.dev45+g2d18fac.d20231106 ( extension=0.2.2.dev11+g706f667, imas_version=v3_38_1_dirty ) \n",
      "\n",
      " Run by salmon on Surface at 2023-11-10T07:40:25.102400\n",
      "\n",
      "#######################################################################################################################\n",
      "\u001b[0m\n"
     ]
    },
    {
     "ename": "NotImplementedError",
     "evalue": "TODO: File.read",
     "output_type": "error",
     "traceback": [
      "\u001b[0;31m---------------------------------------------------------------------------\u001b[0m",
      "\u001b[0;31mNotImplementedError\u001b[0m                       Traceback (most recent call last)",
      "\u001b[1;32m/home/salmon/workspace/fytok/examples/show_tok.ipynb Cell 1\u001b[0m line \u001b[0;36m3\n\u001b[1;32m      <a href='vscode-notebook-cell://wsl%2Bubuntu-22.04/home/salmon/workspace/fytok/examples/show_tok.ipynb#W0sdnNjb2RlLXJlbW90ZQ%3D%3D?line=0'>1</a>\u001b[0m \u001b[39mfrom\u001b[39;00m \u001b[39mfytok\u001b[39;00m\u001b[39m.\u001b[39;00m\u001b[39mTokamak\u001b[39;00m \u001b[39mimport\u001b[39;00m Tokamak\n\u001b[0;32m----> <a href='vscode-notebook-cell://wsl%2Bubuntu-22.04/home/salmon/workspace/fytok/examples/show_tok.ipynb#W0sdnNjb2RlLXJlbW90ZQ%3D%3D?line=2'>3</a>\u001b[0m tok \u001b[39m=\u001b[39m Tokamak(\u001b[39mf\u001b[39;49m\u001b[39m\"\u001b[39;49m\u001b[39mEAST+MDSplus:///home/salmon/workspace/fytok_data/mdsplus/~t/?enable=efit_east&shot=70754\u001b[39;49m\u001b[39m\"\u001b[39;49m)\n\u001b[1;32m      <a href='vscode-notebook-cell://wsl%2Bubuntu-22.04/home/salmon/workspace/fytok/examples/show_tok.ipynb#W0sdnNjb2RlLXJlbW90ZQ%3D%3D?line=4'>5</a>\u001b[0m tok\u001b[39m.\u001b[39mrefresh(time\u001b[39m=\u001b[39m\u001b[39m5.0\u001b[39m)\n",
      "File \u001b[0;32m~/workspace/fytok/python/fytok/Tokamak.py:67\u001b[0m, in \u001b[0;36mTokamak.__init__\u001b[0;34m(self, device, shot, run, *args, **kwargs)\u001b[0m\n\u001b[1;32m     64\u001b[0m \u001b[39mif\u001b[39;00m device \u001b[39mis\u001b[39;00m \u001b[39mnot\u001b[39;00m \u001b[39mNone\u001b[39;00m:\n\u001b[1;32m     65\u001b[0m     entry \u001b[39m=\u001b[39m [\u001b[39mf\u001b[39m\u001b[39m\"\u001b[39m\u001b[39m{\u001b[39;00mdevice\u001b[39m}\u001b[39;00m\u001b[39m+://\u001b[39m\u001b[39m\"\u001b[39m] \u001b[39m+\u001b[39m entry\n\u001b[0;32m---> 67\u001b[0m entry \u001b[39m=\u001b[39m open_entry(\n\u001b[1;32m     68\u001b[0m     entry,\n\u001b[1;32m     69\u001b[0m     shot\u001b[39m=\u001b[39;49mshot,\n\u001b[1;32m     70\u001b[0m     run\u001b[39m=\u001b[39;49mrun,\n\u001b[1;32m     71\u001b[0m     local_schema\u001b[39m=\u001b[39;49mdevice,\n\u001b[1;32m     72\u001b[0m     global_schema\u001b[39m=\u001b[39;49mGLOBAL_ONTOLOGY,\n\u001b[1;32m     73\u001b[0m )\n\u001b[1;32m     75\u001b[0m \u001b[39msuper\u001b[39m()\u001b[39m.\u001b[39m\u001b[39m__init__\u001b[39m(\n\u001b[1;32m     76\u001b[0m     cache,\n\u001b[1;32m     77\u001b[0m     _entry\u001b[39m=\u001b[39mentry,\n\u001b[1;32m     78\u001b[0m     _parent\u001b[39m=\u001b[39mparent,\n\u001b[1;32m     79\u001b[0m \n\u001b[1;32m     80\u001b[0m )\n\u001b[1;32m     82\u001b[0m logger\u001b[39m.\u001b[39minfo(\u001b[39mself\u001b[39m\u001b[39m.\u001b[39mbrief_summary())\n",
      "File \u001b[0;32m~/workspace/fytok/SpDM/python/spdm/data/Entry.py:358\u001b[0m, in \u001b[0;36mopen_entry\u001b[0;34m(entry, **kwargs)\u001b[0m\n\u001b[1;32m    355\u001b[0m     \u001b[39mreturn\u001b[39;00m \u001b[39mNone\u001b[39;00m\n\u001b[1;32m    357\u001b[0m \u001b[39melif\u001b[39;00m \u001b[39mlen\u001b[39m(entry) \u001b[39m>\u001b[39m \u001b[39m1\u001b[39m:\n\u001b[0;32m--> 358\u001b[0m     \u001b[39mreturn\u001b[39;00m ChainEntry(\u001b[39m*\u001b[39;49mentry, \u001b[39m*\u001b[39;49m\u001b[39m*\u001b[39;49mkwargs)\n\u001b[1;32m    360\u001b[0m \u001b[39melse\u001b[39;00m:\n\u001b[1;32m    361\u001b[0m     \u001b[39mreturn\u001b[39;00m _open_entry(entry[\u001b[39m0\u001b[39m], \u001b[39m*\u001b[39m\u001b[39m*\u001b[39mkwargs)\n",
      "File \u001b[0;32m~/workspace/fytok/SpDM/python/spdm/data/Entry.py:208\u001b[0m, in \u001b[0;36mChainEntry.__init__\u001b[0;34m(self, *args, **kwargs)\u001b[0m\n\u001b[1;32m    206\u001b[0m \u001b[39mfor\u001b[39;00m idx, v \u001b[39min\u001b[39;00m \u001b[39menumerate\u001b[39m(\u001b[39mself\u001b[39m\u001b[39m.\u001b[39m_entrys):\n\u001b[1;32m    207\u001b[0m     \u001b[39mif\u001b[39;00m \u001b[39mnot\u001b[39;00m \u001b[39misinstance\u001b[39m(v, Entry):\n\u001b[0;32m--> 208\u001b[0m         \u001b[39mself\u001b[39m\u001b[39m.\u001b[39m_entrys[idx] \u001b[39m=\u001b[39m _open_entry(v, \u001b[39m*\u001b[39;49m\u001b[39m*\u001b[39;49mkwargs)\n",
      "File \u001b[0;32m~/workspace/fytok/SpDM/python/spdm/data/Entry.py:332\u001b[0m, in \u001b[0;36m_open_entry\u001b[0;34m(url, **kwargs)\u001b[0m\n\u001b[1;32m    329\u001b[0m \u001b[39mif\u001b[39;00m new_url\u001b[39m.\u001b[39mprotocol\u001b[39m.\u001b[39mstartswith((\u001b[39m\"\u001b[39m\u001b[39mlocal+\u001b[39m\u001b[39m\"\u001b[39m, \u001b[39m\"\u001b[39m\u001b[39mfile+\u001b[39m\u001b[39m\"\u001b[39m)) \u001b[39mor\u001b[39;00m (new_url\u001b[39m.\u001b[39mprotocol \u001b[39m==\u001b[39m \u001b[39m\"\u001b[39m\u001b[39m\"\u001b[39m \u001b[39mand\u001b[39;00m new_url\u001b[39m.\u001b[39mpath \u001b[39m!=\u001b[39m \u001b[39m\"\u001b[39m\u001b[39m\"\u001b[39m):\n\u001b[1;32m    330\u001b[0m     \u001b[39m# 单一文件不进行 schema 检查，直接读取。因为schema转换在文件plugin中进行。\u001b[39;00m\n\u001b[1;32m    331\u001b[0m     \u001b[39mfrom\u001b[39;00m \u001b[39m.\u001b[39;00m\u001b[39mFile\u001b[39;00m \u001b[39mimport\u001b[39;00m File\n\u001b[0;32m--> 332\u001b[0m     entry \u001b[39m=\u001b[39m File(new_url, \u001b[39m*\u001b[39;49m\u001b[39m*\u001b[39;49mquery)\u001b[39m.\u001b[39;49mread()\n\u001b[1;32m    333\u001b[0m \u001b[39melif\u001b[39;00m new_url\u001b[39m.\u001b[39mprotocol\u001b[39m.\u001b[39mstartswith((\u001b[39m\"\u001b[39m\u001b[39mhttp\u001b[39m\u001b[39m\"\u001b[39m, \u001b[39m\"\u001b[39m\u001b[39mhttps\u001b[39m\u001b[39m\"\u001b[39m, \u001b[39m\"\u001b[39m\u001b[39mssh\u001b[39m\u001b[39m\"\u001b[39m)):\n\u001b[1;32m    334\u001b[0m     \u001b[39m# http/https/ssh 协议，不进行schema检查，直接读取\u001b[39;00m\n\u001b[1;32m    335\u001b[0m     \u001b[39mraise\u001b[39;00m \u001b[39mNotImplementedError\u001b[39;00m(\u001b[39mf\u001b[39m\u001b[39m\"\u001b[39m\u001b[39m{\u001b[39;00mnew_url\u001b[39m}\u001b[39;00m\u001b[39m\"\u001b[39m)\n",
      "File \u001b[0;32m~/workspace/fytok/SpDM/python/spdm/data/File.py:66\u001b[0m, in \u001b[0;36mFile.read\u001b[0;34m(self, lazy)\u001b[0m\n\u001b[1;32m     65\u001b[0m \u001b[39mdef\u001b[39;00m \u001b[39mread\u001b[39m(\u001b[39mself\u001b[39m, lazy\u001b[39m=\u001b[39m\u001b[39mFalse\u001b[39;00m) \u001b[39m-\u001b[39m\u001b[39m>\u001b[39m Entry:\n\u001b[0;32m---> 66\u001b[0m     \u001b[39mraise\u001b[39;00m \u001b[39mNotImplementedError\u001b[39;00m(\u001b[39mf\u001b[39m\u001b[39m\"\u001b[39m\u001b[39mTODO: \u001b[39m\u001b[39m{\u001b[39;00m\u001b[39mself\u001b[39m\u001b[39m.\u001b[39m\u001b[39m__class__\u001b[39m\u001b[39m.\u001b[39m\u001b[39m__name__\u001b[39m\u001b[39m}\u001b[39;00m\u001b[39m.read\u001b[39m\u001b[39m\"\u001b[39m)\n",
      "\u001b[0;31mNotImplementedError\u001b[0m: TODO: File.read"
     ]
    }
   ],
   "source": [
    "from fytok.Tokamak import Tokamak\n",
    "\n",
    "tok = Tokamak(f\"EAST+MDSplus:///home/salmon/workspace/fytok_data/mdsplus/~t/?enable=efit_east&shot=70754\")\n",
    "\n",
    "tok.refresh(time=5.0)"
   ]
  },
  {
   "cell_type": "code",
   "execution_count": null,
   "metadata": {},
   "outputs": [],
   "source": [
    "display(tok)"
   ]
  },
  {
   "cell_type": "code",
   "execution_count": null,
   "metadata": {},
   "outputs": [],
   "source": [
    "tok.equilibrium"
   ]
  },
  {
   "cell_type": "code",
   "execution_count": null,
   "metadata": {},
   "outputs": [],
   "source": [
    "tok.wall"
   ]
  },
  {
   "cell_type": "code",
   "execution_count": null,
   "metadata": {},
   "outputs": [],
   "source": [
    "tok.pf_active"
   ]
  },
  {
   "cell_type": "code",
   "execution_count": null,
   "metadata": {},
   "outputs": [],
   "source": [
    "tok.magnetics"
   ]
  },
  {
   "cell_type": "code",
   "execution_count": null,
   "metadata": {},
   "outputs": [],
   "source": [
    "from spdm.view import View as sp_view\n",
    "\n",
    "fig=sp_view.display(tok.__geometry__(view=\"top\"))"
   ]
  },
  {
   "cell_type": "code",
   "execution_count": null,
   "metadata": {},
   "outputs": [],
   "source": [
    "software/f/fytok/0.2.1/lib/python3.10/site_pacakges/fytok\n",
    "software/f/fytok_ext/0.2.1/lib/python3.10/site_pacakges/fytok"
   ]
  }
 ],
 "metadata": {
  "kernelspec": {
   "display_name": "Python 3",
   "language": "python",
   "name": "python3"
  },
  "language_info": {
   "codemirror_mode": {
    "name": "ipython",
    "version": 3
   },
   "file_extension": ".py",
   "mimetype": "text/x-python",
   "name": "python",
   "nbconvert_exporter": "python",
   "pygments_lexer": "ipython3",
   "version": "3.10.12"
  },
  "orig_nbformat": 4
 },
 "nbformat": 4,
 "nbformat_minor": 2
}
