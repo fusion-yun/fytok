{
 "cells": [
  {
   "cell_type": "code",
   "execution_count": 1,
   "metadata": {},
   "outputs": [
    {
     "name": "stdout",
     "output_type": "stream",
     "text": [
      "\u001b[0;34m2023-08-15 16:00:05,722 INFO [spdm] : Set mapping path: /home/salmon/workspace/fytok/python/fytok/_mapping\u001b[0m\n"
     ]
    }
   ],
   "source": [
    "import numpy as np\n",
    "from fytok.Tokamak import Tokamak\n",
    "from fytok.utils.load_scenario import load_scenario\n"
   ]
  },
  {
   "cell_type": "code",
   "execution_count": 2,
   "metadata": {},
   "outputs": [
    {
     "name": "stdout",
     "output_type": "stream",
     "text": [
      "\u001b[0;34m2023-08-15 16:00:07,087 INFO [spdm] : Load scenario/profiles from /home/salmon/workspace/data/15MA inductive - burn/15MA Inductive at burn-ASTRA.xls\u001b[0m\n",
      "\u001b[0;34m2023-08-15 16:00:07,151 INFO [spdm] : Load module spdm.plugins.data.PluginGEQdsk from /home/salmon/workspace/SpDB/python/spdm/plugins/data/PluginGEQdsk.py\u001b[0m\n",
      "\u001b[0;37m2023-08-15 16:00:07,153 DEBUG [spdm] /home/salmon/workspace/SpDB/python/spdm/plugins/data/PluginGEQdsk.py:329:__init__: Open File URITuple(protocol='local', authority='', path=PosixPath('/home/salmon/workspace/data/15MA inductive - burn/Increased domain R-Z/Medium resolution - 129x257/g900003.00230_ITER_15MA_eqdsk16VVMR.txt'), query=None, fragment='', format='', schema='') mode=Mode.read\u001b[0m\n",
      "\u001b[0;34m2023-08-15 16:00:07,171 INFO [spdm] : Load scenario/equilibrium from /home/salmon/workspace/data/15MA inductive - burn/Increased domain R-Z/Medium resolution - 129x257/g900003.00230_ITER_15MA_eqdsk16VVMR.txt\u001b[0m\n",
      "\u001b[0;34m2023-08-15 16:00:07,180 INFO [spdm] : Load module spdm.plugins.data.PluginXML from /home/salmon/workspace/SpDB/python/spdm/plugins/data/PluginXML.py\u001b[0m\n"
     ]
    }
   ],
   "source": [
    "scenario = load_scenario(\"/home/salmon/workspace/data/15MA inductive - burn\")\n",
    "tok = Tokamak(\"ITER\",\n",
    "              name=scenario[\"name\"],\n",
    "              description=scenario[\"description\"],\n",
    "              core_profiles={**scenario[\"core_profiles\"],\n",
    "                             \"$default_value\": {\"profiles_1d\": {\"grid\": {\n",
    "                                 \"rho_tor_norm\": np.linspace(0, 1.0, 100),                                 \n",
    "                             }}}\n",
    "                             },\n",
    "              equilibrium={**scenario[\"equilibrium\"],\n",
    "                           \"code\": {\"name\":  \"freegs\", \"parameters\": {\"boundary\": \"fixed\"}},\n",
    "                           \"$default_value\": {\"time_slice\": {\n",
    "                               \"boundary\": {\"psi_norm\": 0.99},\n",
    "                               \"coordinate_system\": {\"grid\": {\"dim1\": 256, \"dim2\": 128}}\n",
    "                           }}}\n",
    "              )\n"
   ]
  },
  {
   "cell_type": "code",
   "execution_count": 3,
   "metadata": {},
   "outputs": [
    {
     "name": "stdout",
     "output_type": "stream",
     "text": [
      "\u001b[0;37m2023-08-15 16:00:09,691 DEBUG [spdm] /home/salmon/workspace/SpDB/python/spdm/views/SVGView.py:46:render: <Wall />\u001b[0m\n"
     ]
    },
    {
     "ename": "AttributeError",
     "evalue": "'dict' object has no attribute 'bbox'",
     "output_type": "error",
     "traceback": [
      "\u001b[0;31m---------------------------------------------------------------------------\u001b[0m",
      "\u001b[0;31mAttributeError\u001b[0m                            Traceback (most recent call last)",
      "File \u001b[0;32m~/.local/lib/python3.10/site-packages/IPython/core/formatters.py:344\u001b[0m, in \u001b[0;36mBaseFormatter.__call__\u001b[0;34m(self, obj)\u001b[0m\n\u001b[1;32m    342\u001b[0m     method \u001b[39m=\u001b[39m get_real_method(obj, \u001b[39mself\u001b[39m\u001b[39m.\u001b[39mprint_method)\n\u001b[1;32m    343\u001b[0m     \u001b[39mif\u001b[39;00m method \u001b[39mis\u001b[39;00m \u001b[39mnot\u001b[39;00m \u001b[39mNone\u001b[39;00m:\n\u001b[0;32m--> 344\u001b[0m         \u001b[39mreturn\u001b[39;00m method()\n\u001b[1;32m    345\u001b[0m     \u001b[39mreturn\u001b[39;00m \u001b[39mNone\u001b[39;00m\n\u001b[1;32m    346\u001b[0m \u001b[39melse\u001b[39;00m:\n",
      "File \u001b[0;32m~/workspace/SpDB/python/spdm/data/HTree.py:98\u001b[0m, in \u001b[0;36mHTree._repr_svg_\u001b[0;34m(self)\u001b[0m\n\u001b[1;32m     96\u001b[0m \u001b[39mdef\u001b[39;00m \u001b[39m_repr_svg_\u001b[39m(\u001b[39mself\u001b[39m) \u001b[39m-\u001b[39m\u001b[39m>\u001b[39m \u001b[39mstr\u001b[39m:\n\u001b[1;32m     97\u001b[0m     \u001b[39mfrom\u001b[39;00m \u001b[39m.\u001b[39;00m\u001b[39m.\u001b[39;00m\u001b[39mviews\u001b[39;00m\u001b[39m.\u001b[39;00m\u001b[39mView\u001b[39;00m \u001b[39mimport\u001b[39;00m display\n\u001b[0;32m---> 98\u001b[0m     \u001b[39mreturn\u001b[39;00m display(\u001b[39mself\u001b[39;49m, output\u001b[39m=\u001b[39;49m\u001b[39m\"\u001b[39;49m\u001b[39msvg\u001b[39;49m\u001b[39m\"\u001b[39;49m)\n",
      "File \u001b[0;32m~/workspace/SpDB/python/spdm/views/View.py:129\u001b[0m, in \u001b[0;36mdisplay\u001b[0;34m(output, backend, *args, **kwargs)\u001b[0m\n\u001b[1;32m    126\u001b[0m \u001b[39mdef\u001b[39;00m \u001b[39mdisplay\u001b[39m(\u001b[39m*\u001b[39margs, output\u001b[39m=\u001b[39m\u001b[39mNone\u001b[39;00m, backend\u001b[39m=\u001b[39m\u001b[39mNone\u001b[39;00m, \u001b[39m*\u001b[39m\u001b[39m*\u001b[39mkwargs):\n\u001b[1;32m    127\u001b[0m \u001b[39m    \u001b[39m\u001b[39m\"\"\"Show an object\"\"\"\u001b[39;00m\n\u001b[0;32m--> 129\u001b[0m     \u001b[39mreturn\u001b[39;00m viewer(backend\u001b[39m=\u001b[39;49mbackend, output\u001b[39m=\u001b[39;49moutput)\u001b[39m.\u001b[39;49mrender(\u001b[39m*\u001b[39;49margs, output\u001b[39m=\u001b[39;49moutput, \u001b[39m*\u001b[39;49m\u001b[39m*\u001b[39;49mkwargs)\n",
      "File \u001b[0;32m~/workspace/SpDB/python/spdm/views/SVGView.py:56\u001b[0m, in \u001b[0;36mSVGView.render\u001b[0;34m(self, obj, **kwargs)\u001b[0m\n\u001b[1;32m     54\u001b[0m     geo, \u001b[39m*\u001b[39m_ \u001b[39m=\u001b[39m obj\u001b[39m.\u001b[39m__geometry__\n\u001b[1;32m     55\u001b[0m     contents\u001b[39m.\u001b[39mappend(geo)\n\u001b[0;32m---> 56\u001b[0m     bbox\u001b[39m.\u001b[39mappend(geo\u001b[39m.\u001b[39;49mbbox)\n\u001b[1;32m     57\u001b[0m \u001b[39melif\u001b[39;00m \u001b[39mhasattr\u001b[39m(obj, \u001b[39m\"\u001b[39m\u001b[39mbbox\u001b[39m\u001b[39m\"\u001b[39m):\n\u001b[1;32m     58\u001b[0m     contents\u001b[39m.\u001b[39mappend(obj\u001b[39m.\u001b[39mbbox\u001b[39m.\u001b[39m__repr_svg__(\u001b[39m*\u001b[39m\u001b[39m*\u001b[39mopts))\n",
      "\u001b[0;31mAttributeError\u001b[0m: 'dict' object has no attribute 'bbox'"
     ]
    },
    {
     "data": {
      "text/plain": [
       "<fytok.modules.Wall.Wall at 0x7fdc25052f80>"
      ]
     },
     "metadata": {},
     "output_type": "display_data"
    }
   ],
   "source": [
    "display(tok.wall)"
   ]
  },
  {
   "cell_type": "code",
   "execution_count": null,
   "metadata": {},
   "outputs": [],
   "source": []
  }
 ],
 "metadata": {
  "kernelspec": {
   "display_name": "Python 3",
   "language": "python",
   "name": "python3"
  },
  "language_info": {
   "codemirror_mode": {
    "name": "ipython",
    "version": 3
   },
   "file_extension": ".py",
   "mimetype": "text/x-python",
   "name": "python",
   "nbconvert_exporter": "python",
   "pygments_lexer": "ipython3",
   "version": "3.10.12"
  },
  "orig_nbformat": 4
 },
 "nbformat": 4,
 "nbformat_minor": 2
}
