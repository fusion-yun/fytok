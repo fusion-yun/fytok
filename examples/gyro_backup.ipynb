{
 "cells": [
  {
   "cell_type": "code",
   "execution_count": 32,
   "metadata": {},
   "outputs": [],
   "source": [
    "import sympy as sy\n",
    "import sympy.tensor.tensor as tr\n",
    "from sympy.vector import CoordSys3D\n"
   ]
  },
  {
   "cell_type": "code",
   "execution_count": 33,
   "metadata": {},
   "outputs": [],
   "source": [
    "Lorentz=tr.TensorIndexType(\"Lorentz\",dummy_name=\"L\")\n",
    "\n",
    "asym2 = tr.TensorSymmetry.fully_symmetric(-2)\n",
    "\n",
    "mu,nu,sigma=tr.tensor_indices(\"\\\\mu,\\\\nu,\\\\sigma\",Lorentz)\n",
    "\n",
    "Ex,Ey,Ez,Bx,By,Bz=sy.symbols(\"Ex,Ey,Ez,Bx,By,Bz\")\n",
    "\n",
    "omega_B,omega_E=sy.symbols(\"omega_B,omega_E\")\n",
    "\n",
    "F=tr.TensorHead(\"F\",[Lorentz,Lorentz],asym2)\n",
    "\n",
    "Fd=tr.TensorHead(\"\\\\mathcal{F}\",[Lorentz,Lorentz],asym2)\n",
    "\n",
    "I=tr.TensorHead(\"I\",[Lorentz,Lorentz],asym2)\n",
    "\n",
    "P0=(F(mu,-sigma)*F(sigma,-nu) + I(mu,-nu)* omega_B**2)/(omega_B**2+omega_E**2)\n",
    "\n",
    "P1=(-F(mu,-sigma)*F(sigma,-nu) + I(mu,-nu)* omega_E**2)/(omega_B**2+omega_E**2)\n",
    "\n",
    "repl={\n",
    "    Lorentz:[[1,0,0,0],[0,-1,0,0],[0,0,-1,0],[0,0,0,-1],],\n",
    "    F(-mu,-nu):[\n",
    "        [0,Ex,Ey,Ez],\n",
    "        [-Ex,0,-Bz,By],\n",
    "        [-Ey,Bz,0,-Bx],\n",
    "        [-Ez,-By,Bx,0]\n",
    "    ],\n",
    "    Fd(mu,nu):[\n",
    "        [0,-Bx,-By,-Bz],\n",
    "        [Bx,0,Ez,-Ey],\n",
    "        [By,-Ez,0,Ex],\n",
    "        [Bz,Ey,-Ex,0]\n",
    "    ],\n",
    "    I(mu,-nu):[[1,0,0,0],[0,1,0,0],[0,0,1,0],[0,0,0,1]]\n",
    "}\n",
    "\n"
   ]
  },
  {
   "cell_type": "code",
   "execution_count": 34,
   "metadata": {},
   "outputs": [],
   "source": [
    "Coord=CoordSys3D('C')\n",
    "B=Bx*Coord.i+By*Coord.j+Bz*Coord.k\n",
    "E=Ex*Coord.i+Ey*Coord.j+Ez*Coord.k"
   ]
  },
  {
   "cell_type": "code",
   "execution_count": 35,
   "metadata": {},
   "outputs": [],
   "source": [
    "lambda_1=(F(mu,nu)*F(-mu,-nu)/2)\n",
    "lambda_2=(Fd(-mu,-nu)*F(nu,mu)/4)"
   ]
  },
  {
   "cell_type": "code",
   "execution_count": 36,
   "metadata": {},
   "outputs": [
    {
     "data": {
      "text/latex": [
       "$\\displaystyle 0$"
      ],
      "text/plain": [
       "0"
      ]
     },
     "execution_count": 36,
     "metadata": {},
     "output_type": "execute_result"
    }
   ],
   "source": [
    "(lambda_1-(B.dot(B)-E.dot(E))).replace_with_arrays(repl,[])"
   ]
  },
  {
   "cell_type": "code",
   "execution_count": 37,
   "metadata": {},
   "outputs": [
    {
     "data": {
      "text/latex": [
       "$\\displaystyle 0$"
      ],
      "text/plain": [
       "0"
      ]
     },
     "execution_count": 37,
     "metadata": {},
     "output_type": "execute_result"
    }
   ],
   "source": [
    "(lambda_2-(B.dot(E))).replace_with_arrays(repl,[])"
   ]
  },
  {
   "cell_type": "code",
   "execution_count": 38,
   "metadata": {},
   "outputs": [
    {
     "data": {
      "text/latex": [
       "$\\displaystyle \\left[\\begin{matrix}0 & 0 & 0 & 0\\\\0 & 0 & 0 & 0\\\\0 & 0 & 0 & 0\\\\0 & 0 & 0 & 0\\end{matrix}\\right]$"
      ],
      "text/plain": [
       "[[0, 0, 0, 0], [0, 0, 0, 0], [0, 0, 0, 0], [0, 0, 0, 0]]"
      ]
     },
     "execution_count": 38,
     "metadata": {},
     "output_type": "execute_result"
    }
   ],
   "source": [
    "((F(mu,-sigma)*F(sigma,-nu) - Fd(mu,-sigma)*Fd(sigma,-nu))-(-I(mu,-nu)*lambda_1)).replace_with_arrays(repl,[])\n"
   ]
  },
  {
   "cell_type": "code",
   "execution_count": 39,
   "metadata": {},
   "outputs": [
    {
     "data": {
      "text/latex": [
       "$\\displaystyle \\left[\\begin{matrix}0 & 0 & 0 & 0\\\\0 & 0 & 0 & 0\\\\0 & 0 & 0 & 0\\\\0 & 0 & 0 & 0\\end{matrix}\\right]$"
      ],
      "text/plain": [
       "[[0, 0, 0, 0], [0, 0, 0, 0], [0, 0, 0, 0], [0, 0, 0, 0]]"
      ]
     },
     "execution_count": 39,
     "metadata": {},
     "output_type": "execute_result"
    }
   ],
   "source": [
    "((F(mu,-sigma)*Fd(sigma,-nu))-(I(mu,-nu)*lambda_2)).replace_with_arrays(repl,[])\n"
   ]
  },
  {
   "cell_type": "code",
   "execution_count": 40,
   "metadata": {},
   "outputs": [
    {
     "data": {
      "text/latex": [
       "$\\displaystyle \\left(\\frac{1}{4}\\right)\\mathcal{F}{}_{L_{1}L_{0}}F{}^{L_{0}L_{1}}$"
      ],
      "text/plain": [
       "(1/4)*\\mathcal{F}(-L_1, -L_0)*F(L_0, L_1)"
      ]
     },
     "execution_count": 40,
     "metadata": {},
     "output_type": "execute_result"
    }
   ],
   "source": [
    "lambda_2"
   ]
  },
  {
   "cell_type": "code",
   "execution_count": 57,
   "metadata": {},
   "outputs": [
    {
     "data": {
      "text/latex": [
       "$\\displaystyle Bx^{2} + By^{2} + Bz^{2} - Ex^{2} - Ey^{2} - Ez^{2}$"
      ],
      "text/plain": [
       "Bx**2 + By**2 + Bz**2 - Ex**2 - Ey**2 - Ez**2"
      ]
     },
     "execution_count": 57,
     "metadata": {},
     "output_type": "execute_result"
    }
   ],
   "source": [
    "lambda_1"
   ]
  },
  {
   "cell_type": "code",
   "execution_count": 7,
   "metadata": {},
   "outputs": [
    {
     "name": "stderr",
     "output_type": "stream",
     "text": [
      "/tmp/ipykernel_3170/4103216245.py:1: SymPyDeprecationWarning: \n",
      "\n",
      "Calling a tensor like Tensor(*indices) is deprecated. Use\n",
      "Tensor.substitute_indices() instead.\n",
      "\n",
      "See https://docs.sympy.org/latest/explanation/active-deprecations.html#deprecated-tensor-fun-eval\n",
      "for details.\n",
      "\n",
      "This has been deprecated since SymPy version 1.5. It\n",
      "will be removed in a future version of SymPy.\n",
      "\n",
      "  res=(P0(mu,-sigma)*P1(sigma,-nu)).replace_with_arrays(repl,[])\n"
     ]
    }
   ],
   "source": [
    "res=(P0(mu,-sigma)*P1(sigma,-nu)).replace_with_arrays(repl,[])"
   ]
  },
  {
   "cell_type": "code",
   "execution_count": 18,
   "metadata": {},
   "outputs": [
    {
     "data": {
      "text/latex": [
       "$\\displaystyle - Bz^{4} + 2 Bz^{3} Ez - Bz^{2} Ez^{2} - Ex^{4} - 2 Ex^{2} Ey^{2} - 2 Ex^{2} Ez^{2} - Ey^{4} - 2 Ey^{2} Ez^{2} - Ez^{4}$"
      ],
      "text/plain": [
       "-Bz**4 + 2*Bz**3*Ez - Bz**2*Ez**2 - Ex**4 - 2*Ex**2*Ey**2 - 2*Ex**2*Ez**2 - Ey**4 - 2*Ey**2*Ez**2 - Ez**4"
      ]
     },
     "execution_count": 18,
     "metadata": {},
     "output_type": "execute_result"
    }
   ],
   "source": [
    "sy.factor(sy.simplify(((omega_B**2+omega_E**2)**2*res[0,0]).subs({omega_B**2:Bx**2+By**2+Bz**2,omega_E:0,Bx:(-By*Ey-Bz*Bz)/Ex})))"
   ]
  },
  {
   "cell_type": "code",
   "execution_count": null,
   "metadata": {},
   "outputs": [],
   "source": []
  }
 ],
 "metadata": {
  "interpreter": {
   "hash": "7ad1475237ae0817e601552d8b87bcccd09bed7a3d2283cd00b88633837ae647"
  },
  "kernelspec": {
   "display_name": "Python 3.8.6 64-bit",
   "language": "python",
   "name": "python3"
  },
  "language_info": {
   "codemirror_mode": {
    "name": "ipython",
    "version": 3
   },
   "file_extension": ".py",
   "mimetype": "text/x-python",
   "name": "python",
   "nbconvert_exporter": "python",
   "pygments_lexer": "ipython3",
   "version": "3.8.6"
  },
  "orig_nbformat": 4
 },
 "nbformat": 4,
 "nbformat_minor": 2
}
