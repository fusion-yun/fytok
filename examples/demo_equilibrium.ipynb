{
 "cells": [
  {
   "cell_type": "code",
   "execution_count": 1,
   "metadata": {},
   "outputs": [
    {
     "name": "stdout",
     "output_type": "stream",
     "text": [
      "\u001b[0;34m2023-11-15 16:49:22,853 [   fytok]     INFO: \n",
      "#######################################################################################################################\n",
      "    ______      _____     _\n",
      "   / ____/_  __|_   _|__ | | __\n",
      "  / /_  / / / /  | |/ _ \\| |/ /\n",
      " / __/ / /_/ /   | | (_) |   <\n",
      "/_/    \\__, /    |_|\\___/|_|\\_\\\n",
      "      /____/\n",
      "\n",
      " Copyright (c) 2021-present Zhi YU (Institute of Plasma Physics Chinese Academy of Sciences)\n",
      "            \n",
      " url: https://gitee.com/openfusion/fytok_tutorial \n",
      "      https://github.com/fusion-yun/fytok_tutorial\n",
      "\n",
      " version = develop  (spdm=develop extension=0.2.2.dev11+g706f667, imas_version=v3_38_1_dirty)\n",
      "\n",
      " Run by salmon at 2023-11-15T16:49:22.853737.\n",
      " Job ID: fytok_salmon_surface_6191\n",
      "\n",
      "#######################################################################################################################\n",
      "\u001b[0m\n"
     ]
    }
   ],
   "source": [
    "import pathlib\n",
    "\n",
    "from fytok.modules.Equilibrium import Equilibrium\n",
    "from fytok.utils.logger import logger\n",
    "from spdm.view.View import display\n",
    "WORKSPACE = \"/home/salmon/workspace\"  # \"/ssd01/salmon_work/workspace/\"\n",
    "output_path = pathlib.Path(f\"{WORKSPACE}/output/\")"
   ]
  },
  {
   "cell_type": "code",
   "execution_count": 2,
   "metadata": {},
   "outputs": [
    {
     "name": "stdout",
     "output_type": "stream",
     "text": [
      "\u001b[0;37m2023-11-15 16:49:23,311 [   fytok]    DEBUG: /home/salmon/workspace/fytok/SpDM/python/spdm/utils/sp_export.py:66:sp_load_module: Load module fytok.plugins.equilibrium.fy_eq\u001b[0m\n",
      "\u001b[0;37m2023-11-15 16:49:23,315 [   fytok]    DEBUG: /home/salmon/workspace/fytok/SpDM/python/spdm/utils/sp_export.py:66:sp_load_module: Load module spdm.plugins.data.plugin_geqdsk\u001b[0m\n"
     ]
    }
   ],
   "source": [
    "# eq0 = Equilibrium(f\"file+GEQdsk://{WORKSPACE}/gacode/neo/tools/input/profile_data/g141459.03890#equilibrium\")\n",
    "eq0 = Equilibrium(\"file+geqdsk:///home/salmon/workspace/fytok_tutorial/tutorial/data/g900003.00230_ITER_15MA_eqdsk16HR.txt#equilibrium\")\n"
   ]
  },
  {
   "cell_type": "code",
   "execution_count": 5,
   "metadata": {},
   "outputs": [
    {
     "data": {
      "text/plain": [
       "array([[-7.84538435, -7.71294832, -7.58156586, ..., -0.58407165,\n",
       "        -0.60803645, -0.63207283],\n",
       "       [-7.89984975, -7.76630114, -7.63383576, ..., -0.58175821,\n",
       "        -0.60559463, -0.62951071],\n",
       "       [-7.95356843, -7.81890708, -7.68536858, ..., -0.57935224,\n",
       "        -0.60305478, -0.62684811],\n",
       "       ...,\n",
       "       [27.4435413 , 27.2151162 , 26.9905253 , ..., 15.601609  ,\n",
       "        15.6344144 , 15.6675985 ],\n",
       "       [27.4877399 , 27.2621474 , 27.0402629 , ..., 15.697998  ,\n",
       "        15.729454  , 15.7612592 ],\n",
       "       [27.5284127 , 27.3057556 , 27.0866567 , ..., 15.7943118 ,\n",
       "        15.8244062 , 15.8548087 ]])"
      ]
     },
     "execution_count": 5,
     "metadata": {},
     "output_type": "execute_result"
    }
   ],
   "source": [
    "eq0.time_slice.current.profiles_2d.psi.__array__()"
   ]
  },
  {
   "cell_type": "code",
   "execution_count": 4,
   "metadata": {},
   "outputs": [
    {
     "data": {
      "text/latex": [
       "$$\\int \\left(\\frac{d\\phi}{d\\psi} \\right)$$"
      ],
      "text/plain": [
       "\\int \\left(\\frac{d\\phi}{d\\psi} \\right)"
      ]
     },
     "execution_count": 4,
     "metadata": {},
     "output_type": "execute_result"
    }
   ],
   "source": [
    "eq0.time_slice.current.profiles_1d.phi"
   ]
  },
  {
   "cell_type": "code",
   "execution_count": null,
   "metadata": {},
   "outputs": [],
   "source": []
  }
 ],
 "metadata": {
  "kernelspec": {
   "display_name": "Python 3",
   "language": "python",
   "name": "python3"
  },
  "language_info": {
   "codemirror_mode": {
    "name": "ipython",
    "version": 3
   },
   "file_extension": ".py",
   "mimetype": "text/x-python",
   "name": "python",
   "nbconvert_exporter": "python",
   "pygments_lexer": "ipython3",
   "version": "3.10.12"
  }
 },
 "nbformat": 4,
 "nbformat_minor": 2
}
