{
 "cells": [
  {
   "cell_type": "code",
   "execution_count": 1,
   "metadata": {},
   "outputs": [
    {
     "name": "stdout",
     "output_type": "stream",
     "text": [
      "\u001b[0;34m2023-12-07 08:19:15,405 [    spdm]     INFO: \n",
      "###################################################################################################\n",
      "\n",
      "    ______      _____     _\n",
      "   / ____/_  __|_   _|__ | | __\n",
      "  / /_  / / / /  | |/ _ \\| |/ /\n",
      " / __/ / /_/ /   | | (_) |   <\n",
      "/_/    \\__, /    |_|\\___/|_|\\_\\\n",
      "      /____/\n",
      "\n",
      " Copyright (c) 2021-present Zhi YU (Institute of Plasma Physics Chinese Academy of Sciences)\n",
      "            \n",
      " url: https://gitee.com/openfusion/fytok_tutorial \n",
      "      https://github.com/fusion-yun/fytok_tutorial\n",
      "\n",
      " version = alpha  (spdm=beta extension=0.2.2.dev19+g14adade.d20231205, imas_version=v3_38_1_dirty)\n",
      "\n",
      " Run by salmon at 2023-12-07T08:19:15.021109.\n",
      " Job ID: fytok_salmon_surface_11381\n",
      "\n",
      "###################################################################################################\n",
      "\u001b[0m\n"
     ]
    }
   ],
   "source": [
    "import pathlib\n",
    "from fytok.Tokamak import Tokamak\n",
    "from fytok.modules.Equilibrium import Equilibrium\n",
    "from fytok.utils.logger import logger\n",
    "from spdm.view.View import display\n",
    "WORKSPACE = \"/home/salmon/workspace\"  # \"/ssd01/salmon_work/workspace/\"\n",
    "output_path = pathlib.Path(f\"{WORKSPACE}/output/\")"
   ]
  },
  {
   "cell_type": "code",
   "execution_count": 2,
   "metadata": {},
   "outputs": [
    {
     "name": "stdout",
     "output_type": "stream",
     "text": [
      "\u001b[0;34m2023-12-07 08:19:15,784 [    spdm]     INFO: Load module spdm.plugins.data.plugin_xml\u001b[0m\n",
      "\u001b[0;34m2023-12-07 08:19:15,801 [    spdm]     INFO: Load module spdm.plugins.data.plugin_geqdsk\u001b[0m\n"
     ]
    }
   ],
   "source": [
    "# eq0 = Equilibrium(f\"file+GEQdsk://{WORKSPACE}/gacode/neo/tools/input/profile_data/g141459.03890#equilibrium\")\n",
    "tok = Tokamak(\n",
    "    \"file+geqdsk:///home/salmon/workspace/fytok_tutorial/tutorial/data/g900003.00230_ITER_15MA_eqdsk16HR.txt\",\n",
    "    device=\"east\",\n",
    "    equilibrium={\"code\": {\"name\": \"freegs\"}},\n",
    ")"
   ]
  },
  {
   "cell_type": "code",
   "execution_count": 3,
   "metadata": {},
   "outputs": [
    {
     "name": "stdout",
     "output_type": "stream",
     "text": [
      "\u001b[0;34m2023-12-07 08:19:16,428 [    spdm]     INFO: Load module fytok.plugins.equilibrium.freegs\u001b[0m\n",
      "\u001b[0;34m2023-12-07 08:19:16,433 [    spdm]     INFO: Initialize module fytok.modules.Wall \u001b[0m\n",
      "\u001b[0;34m2023-12-07 08:19:16,440 [    spdm]     INFO: Initialize module fytok.modules.TF \u001b[0m\n",
      "\u001b[0;34m2023-12-07 08:19:16,446 [    spdm]     INFO: Initialize module fytok.modules.Magnetics \u001b[0m\n",
      "\u001b[0;34m2023-12-07 08:19:16,461 [    spdm]     INFO: Initialize module fytok.modules.PFActive \u001b[0m\n",
      "\u001b[0;34m2023-12-07 08:19:16,471 [    spdm]     INFO: Initialize module fytok.plugins.equilibrium.freegs \u001b[0m\n"
     ]
    },
    {
     "ename": "KeyboardInterrupt",
     "evalue": "",
     "output_type": "error",
     "traceback": [
      "\u001b[0;31m---------------------------------------------------------------------------\u001b[0m",
      "\u001b[0;31mKeyboardInterrupt\u001b[0m                         Traceback (most recent call last)",
      "\u001b[1;32m/home/salmon/workspace/fytok/examples/demo_equilibrium.ipynb Cell 3\u001b[0m line \u001b[0;36m1\n\u001b[0;32m----> <a href='vscode-notebook-cell://wsl%2Bubuntu-22.04/home/salmon/workspace/fytok/examples/demo_equilibrium.ipynb#W4sdnNjb2RlLXJlbW90ZQ%3D%3D?line=0'>1</a>\u001b[0m tok\u001b[39m.\u001b[39;49mrefresh()\n",
      "File \u001b[0;32m~/workspace/fytok/python/fytok/Tokamak.py:178\u001b[0m, in \u001b[0;36mTokamak.refresh\u001b[0;34m(self, *args, **kwargs)\u001b[0m\n\u001b[1;32m    175\u001b[0m \u001b[39mdef\u001b[39;00m \u001b[39mrefresh\u001b[39m(\u001b[39mself\u001b[39m, \u001b[39m*\u001b[39margs, \u001b[39m*\u001b[39m\u001b[39m*\u001b[39mkwargs) \u001b[39m-\u001b[39m\u001b[39m>\u001b[39m \u001b[39mNone\u001b[39;00m:\n\u001b[1;32m    176\u001b[0m     \u001b[39msuper\u001b[39m()\u001b[39m.\u001b[39mrefresh(\u001b[39m*\u001b[39margs, \u001b[39m*\u001b[39m\u001b[39m*\u001b[39mkwargs)\n\u001b[0;32m--> 178\u001b[0m     \u001b[39mself\u001b[39;49m\u001b[39m.\u001b[39;49mequilibrium\u001b[39m.\u001b[39;49mrefresh(time\u001b[39m=\u001b[39;49m\u001b[39mself\u001b[39;49m\u001b[39m.\u001b[39;49mtime, \u001b[39m*\u001b[39;49m\u001b[39m*\u001b[39;49m\u001b[39mself\u001b[39;49m\u001b[39m.\u001b[39;49m_inputs\u001b[39m.\u001b[39;49mfetch())\n\u001b[1;32m    180\u001b[0m     \u001b[39mself\u001b[39m\u001b[39m.\u001b[39mcore_sources\u001b[39m.\u001b[39mrefresh(time\u001b[39m=\u001b[39m\u001b[39mself\u001b[39m\u001b[39m.\u001b[39mtime, \u001b[39m*\u001b[39m\u001b[39m*\u001b[39m\u001b[39mself\u001b[39m\u001b[39m.\u001b[39m_inputs\u001b[39m.\u001b[39mfetch())\n\u001b[1;32m    182\u001b[0m     \u001b[39mself\u001b[39m\u001b[39m.\u001b[39mcore_transport\u001b[39m.\u001b[39mrefresh(time\u001b[39m=\u001b[39m\u001b[39mself\u001b[39m\u001b[39m.\u001b[39mtime, \u001b[39m*\u001b[39m\u001b[39m*\u001b[39m\u001b[39mself\u001b[39m\u001b[39m.\u001b[39m_inputs\u001b[39m.\u001b[39mfetch())\n",
      "File \u001b[0;32m~/workspace/fytok/python/fytok/modules/Equilibrium.py:496\u001b[0m, in \u001b[0;36mEquilibrium.refresh\u001b[0;34m(self, time, wall, tf, magnetics, pf_active, *args, **kwargs)\u001b[0m\n\u001b[1;32m    486\u001b[0m \u001b[39mdef\u001b[39;00m \u001b[39mrefresh\u001b[39m(\n\u001b[1;32m    487\u001b[0m     \u001b[39mself\u001b[39m,\n\u001b[1;32m    488\u001b[0m     \u001b[39m*\u001b[39margs,\n\u001b[0;32m   (...)\u001b[0m\n\u001b[1;32m    494\u001b[0m     \u001b[39m*\u001b[39m\u001b[39m*\u001b[39mkwargs,\n\u001b[1;32m    495\u001b[0m ) \u001b[39m-\u001b[39m\u001b[39m>\u001b[39m \u001b[39mNone\u001b[39;00m:\n\u001b[0;32m--> 496\u001b[0m     \u001b[39mreturn\u001b[39;00m \u001b[39msuper\u001b[39;49m()\u001b[39m.\u001b[39;49mrefresh(\n\u001b[1;32m    497\u001b[0m         \u001b[39m*\u001b[39;49margs,\n\u001b[1;32m    498\u001b[0m         time\u001b[39m=\u001b[39;49mtime,\n\u001b[1;32m    499\u001b[0m         tf\u001b[39m=\u001b[39;49mtf,\n\u001b[1;32m    500\u001b[0m         wall\u001b[39m=\u001b[39;49mwall,\n\u001b[1;32m    501\u001b[0m         magnetics\u001b[39m=\u001b[39;49mmagnetics,\n\u001b[1;32m    502\u001b[0m         pf_active\u001b[39m=\u001b[39;49mpf_active,\n\u001b[1;32m    503\u001b[0m         \u001b[39m*\u001b[39;49m\u001b[39m*\u001b[39;49mkwargs,\n\u001b[1;32m    504\u001b[0m     )\n",
      "File \u001b[0;32m~/workspace/fytok/SpDM/python/spdm/data/Actor.py:182\u001b[0m, in \u001b[0;36mActor.refresh\u001b[0;34m(self, time, *args, **kwargs)\u001b[0m\n\u001b[1;32m    176\u001b[0m \u001b[39m\u001b[39m\u001b[39m\"\"\"更新当前 Actor 的状态。\u001b[39;00m\n\u001b[1;32m    177\u001b[0m \u001b[39m若 time 为 None 或者与当前时间一致，则更新当前状态树，并执行 self.iteration+=1\u001b[39;00m\n\u001b[1;32m    178\u001b[0m \u001b[39m否则，向 time_slice 队列中压入新的时间片。\u001b[39;00m\n\u001b[1;32m    179\u001b[0m \u001b[39m\"\"\"\u001b[39;00m\n\u001b[1;32m    180\u001b[0m kwargs \u001b[39m=\u001b[39m \u001b[39mself\u001b[39m\u001b[39m.\u001b[39minputs\u001b[39m.\u001b[39mupdate(kwargs)  \u001b[39m# 更新 inputs，返回将不是 HTreeNode 的 input\u001b[39;00m\n\u001b[0;32m--> 182\u001b[0m \u001b[39mself\u001b[39;49m\u001b[39m.\u001b[39;49mpreprocess(\u001b[39m*\u001b[39;49margs, time\u001b[39m=\u001b[39;49mtime, \u001b[39m*\u001b[39;49m\u001b[39m*\u001b[39;49mkwargs)\n\u001b[1;32m    184\u001b[0m \u001b[39mself\u001b[39m\u001b[39m.\u001b[39mexecute(\u001b[39mself\u001b[39m\u001b[39m.\u001b[39mtime_slice\u001b[39m.\u001b[39mcurrent, \u001b[39mself\u001b[39m\u001b[39m.\u001b[39mtime_slice\u001b[39m.\u001b[39mprevious)\n\u001b[1;32m    186\u001b[0m \u001b[39mself\u001b[39m\u001b[39m.\u001b[39mpostprocess(\u001b[39mself\u001b[39m\u001b[39m.\u001b[39mtime_slice\u001b[39m.\u001b[39mcurrent)\n",
      "File \u001b[0;32m~/workspace/fytok/python/fytok/plugins/equilibrium/freegs.py:97\u001b[0m, in \u001b[0;36mEquilibriumFreeGS.preprocess\u001b[0;34m(self, *args, **kwargs)\u001b[0m\n\u001b[1;32m     94\u001b[0m \u001b[39msuper\u001b[39m()\u001b[39m.\u001b[39mpreprocess(\u001b[39m*\u001b[39margs, \u001b[39m*\u001b[39m\u001b[39m*\u001b[39mkwargs)\n\u001b[1;32m     96\u001b[0m \u001b[39mif\u001b[39;00m \u001b[39mself\u001b[39m\u001b[39m.\u001b[39m_eq_solver \u001b[39mis\u001b[39;00m \u001b[39mNone\u001b[39;00m:\n\u001b[0;32m---> 97\u001b[0m     machine \u001b[39m=\u001b[39m \u001b[39mself\u001b[39;49m\u001b[39m.\u001b[39;49m_setup_machine()\n\u001b[1;32m     99\u001b[0m     boundary_type \u001b[39m=\u001b[39m \u001b[39mself\u001b[39m\u001b[39m.\u001b[39mcode\u001b[39m.\u001b[39mparameters\u001b[39m.\u001b[39mget(\u001b[39m\"\u001b[39m\u001b[39mboundary\u001b[39m\u001b[39m\"\u001b[39m, \u001b[39m\"\u001b[39m\u001b[39mfree\u001b[39m\u001b[39m\"\u001b[39m)\n\u001b[1;32m    101\u001b[0m     nx, ny \u001b[39m=\u001b[39m \u001b[39mself\u001b[39m\u001b[39m.\u001b[39mcode\u001b[39m.\u001b[39mparameters\u001b[39m.\u001b[39mget(\u001b[39m\"\u001b[39m\u001b[39mdims\u001b[39m\u001b[39m\"\u001b[39m, (\u001b[39m128\u001b[39m, \u001b[39m128\u001b[39m))\n",
      "File \u001b[0;32m~/workspace/fytok/python/fytok/plugins/equilibrium/freegs.py:85\u001b[0m, in \u001b[0;36mEquilibriumFreeGS._setup_machine\u001b[0;34m(self, **kwargs)\u001b[0m\n\u001b[1;32m     83\u001b[0m     \u001b[39mfor\u001b[39;00m flux \u001b[39min\u001b[39;00m magnetics\u001b[39m.\u001b[39mflux_loop:\n\u001b[1;32m     84\u001b[0m         \u001b[39mfor\u001b[39;00m p \u001b[39min\u001b[39;00m flux\u001b[39m.\u001b[39mposition:\n\u001b[0;32m---> 85\u001b[0m             eq_sensors\u001b[39m.\u001b[39mappend(freegs\u001b[39m.\u001b[39mmachine\u001b[39m.\u001b[39mFluxLoopSensor(p\u001b[39m.\u001b[39mr, p\u001b[39m.\u001b[39;49mz, flux\u001b[39m.\u001b[39mname))\n\u001b[1;32m     87\u001b[0m \u001b[39mself\u001b[39m\u001b[39m.\u001b[39m_machine \u001b[39m=\u001b[39m freegs\u001b[39m.\u001b[39mmachine\u001b[39m.\u001b[39mMachine(coils\u001b[39m=\u001b[39meq_coils, wall\u001b[39m=\u001b[39meq_wall, sensors\u001b[39m=\u001b[39meq_sensors)\n\u001b[1;32m     89\u001b[0m logger\u001b[39m.\u001b[39minfo(\u001b[39mf\u001b[39m\u001b[39m\"\u001b[39m\u001b[39mSetup machine description: wall=\u001b[39m\u001b[39m{\u001b[39;00mwall\u001b[39m.\u001b[39mdescription_2d[\u001b[39m0\u001b[39m]\u001b[39m.\u001b[39mtype\u001b[39m}\u001b[39;00m\u001b[39m\"\u001b[39m)\n",
      "File \u001b[0;32m~/workspace/fytok/SpDM/python/spdm/data/sp_property.py:316\u001b[0m, in \u001b[0;36mSpProperty.__get__\u001b[0;34m(self, instance, owner_cls)\u001b[0m\n\u001b[1;32m    313\u001b[0m     \u001b[39mraise\u001b[39;00m \u001b[39mAttributeError\u001b[39;00m(\u001b[39mf\u001b[39m\u001b[39m\"\u001b[39m\u001b[39mproperty_name is None!\u001b[39m\u001b[39m\"\u001b[39m)\n\u001b[1;32m    315\u001b[0m \u001b[39mwith\u001b[39;00m \u001b[39mself\u001b[39m\u001b[39m.\u001b[39mlock:\n\u001b[0;32m--> 316\u001b[0m     value \u001b[39m=\u001b[39m instance\u001b[39m.\u001b[39;49m__get_property__(\n\u001b[1;32m    317\u001b[0m         property_name,\n\u001b[1;32m    318\u001b[0m         _type_hint\u001b[39m=\u001b[39;49m\u001b[39mself\u001b[39;49m\u001b[39m.\u001b[39;49mtype_hint,\n\u001b[1;32m    319\u001b[0m         _getter\u001b[39m=\u001b[39;49m\u001b[39mself\u001b[39;49m\u001b[39m.\u001b[39;49mgetter,\n\u001b[1;32m    320\u001b[0m         \u001b[39m*\u001b[39;49m\u001b[39m*\u001b[39;49m\u001b[39mself\u001b[39;49m\u001b[39m.\u001b[39;49mmetadata,\n\u001b[1;32m    321\u001b[0m     )\n\u001b[1;32m    323\u001b[0m     \u001b[39mif\u001b[39;00m \u001b[39mself\u001b[39m\u001b[39m.\u001b[39mstrict \u001b[39mand\u001b[39;00m value \u001b[39mis\u001b[39;00m _not_found_:\n\u001b[1;32m    324\u001b[0m         \u001b[39mraise\u001b[39;00m \u001b[39mAttributeError\u001b[39;00m(\n\u001b[1;32m    325\u001b[0m             \u001b[39mf\u001b[39m\u001b[39m\"\u001b[39m\u001b[39mThe value of property \u001b[39m\u001b[39m'\u001b[39m\u001b[39m{\u001b[39;00mowner_cls\u001b[39m.\u001b[39m\u001b[39m__name__\u001b[39m\u001b[39m \u001b[39m\u001b[39mif\u001b[39;00m\u001b[39m \u001b[39mowner_cls\u001b[39m \u001b[39m\u001b[39mis\u001b[39;00m\u001b[39m \u001b[39m\u001b[39mnot\u001b[39;00m\u001b[39m \u001b[39m\u001b[39mNone\u001b[39;00m\u001b[39m \u001b[39m\u001b[39melse\u001b[39;00m\u001b[39m \u001b[39m\u001b[39m'\u001b[39m\u001b[39mnone\u001b[39m\u001b[39m'\u001b[39m\u001b[39m}\u001b[39;00m\u001b[39m.\u001b[39m\u001b[39m{\u001b[39;00mproperty_name\u001b[39m}\u001b[39;00m\u001b[39m'\u001b[39m\u001b[39m is not assigned!\u001b[39m\u001b[39m\"\u001b[39m\n\u001b[1;32m    326\u001b[0m         )\n",
      "File \u001b[0;32m~/workspace/fytok/SpDM/python/spdm/data/sp_property.py:67\u001b[0m, in \u001b[0;36mSpTree.__get_property__\u001b[0;34m(self, key, *args, **kwargs)\u001b[0m\n\u001b[1;32m     66\u001b[0m \u001b[39mdef\u001b[39;00m \u001b[39m__get_property__\u001b[39m(\u001b[39mself\u001b[39m, key: \u001b[39mstr\u001b[39m, \u001b[39m*\u001b[39margs, \u001b[39m*\u001b[39m\u001b[39m*\u001b[39mkwargs) \u001b[39m-\u001b[39m\u001b[39m>\u001b[39m SpTree:\n\u001b[0;32m---> 67\u001b[0m     \u001b[39mreturn\u001b[39;00m \u001b[39mself\u001b[39;49m\u001b[39m.\u001b[39;49m_get(key, \u001b[39m*\u001b[39;49margs, \u001b[39m*\u001b[39;49m\u001b[39m*\u001b[39;49mkwargs)\n",
      "File \u001b[0;32m~/workspace/fytok/SpDM/python/spdm/data/HTree.py:467\u001b[0m, in \u001b[0;36mHTree._get\u001b[0;34m(self, query, _type_hint, *args, **kwargs)\u001b[0m\n\u001b[1;32m    464\u001b[0m         value \u001b[39m=\u001b[39m \u001b[39mself\u001b[39m\u001b[39m.\u001b[39m_get_as_list(query, \u001b[39m*\u001b[39margs, _type_hint\u001b[39m=\u001b[39m_type_hint, \u001b[39m*\u001b[39m\u001b[39m*\u001b[39mkwargs)\n\u001b[1;32m    466\u001b[0m \u001b[39melif\u001b[39;00m \u001b[39misinstance\u001b[39m(query, \u001b[39mstr\u001b[39m):\n\u001b[0;32m--> 467\u001b[0m     value \u001b[39m=\u001b[39m \u001b[39mself\u001b[39;49m\u001b[39m.\u001b[39;49m_get_as_dict(query, \u001b[39m*\u001b[39;49margs, _type_hint\u001b[39m=\u001b[39;49m_type_hint, \u001b[39m*\u001b[39;49m\u001b[39m*\u001b[39;49mkwargs)\n\u001b[1;32m    469\u001b[0m \u001b[39melif\u001b[39;00m \u001b[39misinstance\u001b[39m(query, \u001b[39mset\u001b[39m):  \u001b[39m# compound\u001b[39;00m\n\u001b[1;32m    470\u001b[0m     \u001b[39mraise\u001b[39;00m \u001b[39mNotImplementedError\u001b[39;00m(\u001b[39mf\u001b[39m\u001b[39m\"\u001b[39m\u001b[39mTODO: NamedDict\u001b[39m\u001b[39m\"\u001b[39m)\n",
      "File \u001b[0;32m~/workspace/fytok/SpDM/python/spdm/data/HTree.py:498\u001b[0m, in \u001b[0;36mHTree._get_as_dict\u001b[0;34m(self, key, **kwargs)\u001b[0m\n\u001b[1;32m    496\u001b[0m     cache \u001b[39m=\u001b[39m \u001b[39mself\u001b[39m\u001b[39m.\u001b[39m_cache\u001b[39m.\u001b[39mget(key, _not_found_)\n\u001b[1;32m    497\u001b[0m \u001b[39mif\u001b[39;00m \u001b[39mself\u001b[39m\u001b[39m.\u001b[39m_entry \u001b[39mis\u001b[39;00m \u001b[39mnot\u001b[39;00m \u001b[39mNone\u001b[39;00m:\n\u001b[0;32m--> 498\u001b[0m     _entry \u001b[39m=\u001b[39m \u001b[39mself\u001b[39;49m\u001b[39m.\u001b[39;49m_entry\u001b[39m.\u001b[39;49mchild(key)\n\u001b[1;32m    499\u001b[0m \u001b[39melse\u001b[39;00m:\n\u001b[1;32m    500\u001b[0m     _entry \u001b[39m=\u001b[39m \u001b[39mNone\u001b[39;00m\n",
      "File \u001b[0;32m~/workspace/fytok/SpDM/python/spdm/data/Entry.py:182\u001b[0m, in \u001b[0;36mEntry.child\u001b[0;34m(self, path, *args, **kwargs)\u001b[0m\n\u001b[1;32m    179\u001b[0m \u001b[39melse\u001b[39;00m:\n\u001b[1;32m    180\u001b[0m     \u001b[39mself\u001b[39m\u001b[39m.\u001b[39m_data \u001b[39m=\u001b[39m []\n\u001b[0;32m--> 182\u001b[0m other \u001b[39m=\u001b[39m \u001b[39mself\u001b[39;49m\u001b[39m.\u001b[39;49m__copy__()\n\u001b[1;32m    183\u001b[0m other\u001b[39m.\u001b[39m_path\u001b[39m.\u001b[39mappend(path)\n\u001b[1;32m    184\u001b[0m \u001b[39mreturn\u001b[39;00m other\n",
      "File \u001b[0;32m~/workspace/fytok/SpDM/python/spdm/data/Entry.py:50\u001b[0m, in \u001b[0;36mEntry.__copy__\u001b[0;34m(self)\u001b[0m\n\u001b[1;32m     48\u001b[0m \u001b[39mdef\u001b[39;00m \u001b[39m__copy__\u001b[39m(\u001b[39mself\u001b[39m) \u001b[39m-\u001b[39m\u001b[39m>\u001b[39m Entry:\n\u001b[1;32m     49\u001b[0m     obj \u001b[39m=\u001b[39m \u001b[39mobject\u001b[39m\u001b[39m.\u001b[39m\u001b[39m__new__\u001b[39m(\u001b[39mself\u001b[39m\u001b[39m.\u001b[39m\u001b[39m__class__\u001b[39m)\n\u001b[0;32m---> 50\u001b[0m     obj\u001b[39m.\u001b[39;49m__copy_from__(\u001b[39mself\u001b[39;49m)\n\u001b[1;32m     51\u001b[0m     \u001b[39mreturn\u001b[39;00m obj\n",
      "File \u001b[0;32m~/workspace/fytok/SpDM/python/spdm/data/Entry.py:251\u001b[0m, in \u001b[0;36mChainEntry.__copy_from__\u001b[0;34m(self, other)\u001b[0m\n\u001b[1;32m    249\u001b[0m \u001b[39mdef\u001b[39;00m \u001b[39m__copy_from__\u001b[39m(\u001b[39mself\u001b[39m, other: Entry) \u001b[39m-\u001b[39m\u001b[39m>\u001b[39m ChainEntry:\n\u001b[1;32m    250\u001b[0m     \u001b[39mself\u001b[39m\u001b[39m.\u001b[39m_data \u001b[39m=\u001b[39m other\u001b[39m.\u001b[39m_data\n\u001b[0;32m--> 251\u001b[0m     \u001b[39mself\u001b[39m\u001b[39m.\u001b[39m_path \u001b[39m=\u001b[39m copy(other\u001b[39m.\u001b[39;49m_path)\n\u001b[1;32m    252\u001b[0m     \u001b[39mself\u001b[39m\u001b[39m.\u001b[39m_entrys \u001b[39m=\u001b[39m \u001b[39mgetattr\u001b[39m(other, \u001b[39m\"\u001b[39m\u001b[39m_entrys\u001b[39m\u001b[39m\"\u001b[39m, [])\n\u001b[1;32m    253\u001b[0m     \u001b[39mreturn\u001b[39;00m \u001b[39mself\u001b[39m\n",
      "File \u001b[0;32m/usr/lib/python3.10/copy.py:84\u001b[0m, in \u001b[0;36mcopy\u001b[0;34m(x)\u001b[0m\n\u001b[1;32m     82\u001b[0m copier \u001b[39m=\u001b[39m \u001b[39mgetattr\u001b[39m(\u001b[39mcls\u001b[39m, \u001b[39m\"\u001b[39m\u001b[39m__copy__\u001b[39m\u001b[39m\"\u001b[39m, \u001b[39mNone\u001b[39;00m)\n\u001b[1;32m     83\u001b[0m \u001b[39mif\u001b[39;00m copier \u001b[39mis\u001b[39;00m \u001b[39mnot\u001b[39;00m \u001b[39mNone\u001b[39;00m:\n\u001b[0;32m---> 84\u001b[0m     \u001b[39mreturn\u001b[39;00m copier(x)\n\u001b[1;32m     86\u001b[0m reductor \u001b[39m=\u001b[39m dispatch_table\u001b[39m.\u001b[39mget(\u001b[39mcls\u001b[39m)\n\u001b[1;32m     87\u001b[0m \u001b[39mif\u001b[39;00m reductor \u001b[39mis\u001b[39;00m \u001b[39mnot\u001b[39;00m \u001b[39mNone\u001b[39;00m:\n",
      "File \u001b[0;32m~/workspace/fytok/SpDM/python/spdm/data/Path.py:278\u001b[0m, in \u001b[0;36mPath.__copy__\u001b[0;34m(self)\u001b[0m\n\u001b[1;32m    277\u001b[0m \u001b[39mdef\u001b[39;00m \u001b[39m__copy__\u001b[39m(\u001b[39mself\u001b[39m) \u001b[39m-\u001b[39m\u001b[39m>\u001b[39m Path:\n\u001b[0;32m--> 278\u001b[0m     \u001b[39mreturn\u001b[39;00m \u001b[39mself\u001b[39;49m\u001b[39m.\u001b[39;49m\u001b[39m__class__\u001b[39;49m(\u001b[39mself\u001b[39;49m[:])\n",
      "File \u001b[0;32m~/workspace/fytok/SpDM/python/spdm/data/Path.py:263\u001b[0m, in \u001b[0;36mPath.__init__\u001b[0;34m(self, path, force, **kwargs)\u001b[0m\n\u001b[1;32m    261\u001b[0m \u001b[39mdef\u001b[39;00m \u001b[39m__init__\u001b[39m(\u001b[39mself\u001b[39m, path\u001b[39m=\u001b[39m[], force\u001b[39m=\u001b[39m\u001b[39mNone\u001b[39;00m, \u001b[39m*\u001b[39m\u001b[39m*\u001b[39mkwargs):\n\u001b[1;32m    262\u001b[0m     \u001b[39mif\u001b[39;00m \u001b[39mnot\u001b[39;00m force:\n\u001b[0;32m--> 263\u001b[0m         path \u001b[39m=\u001b[39m Path\u001b[39m.\u001b[39;49m_parser(path)\n\u001b[1;32m    264\u001b[0m     \u001b[39melif\u001b[39;00m \u001b[39mnot\u001b[39;00m \u001b[39misinstance\u001b[39m(path, \u001b[39mlist\u001b[39m):\n\u001b[1;32m    265\u001b[0m         path \u001b[39m=\u001b[39m [path]\n",
      "File \u001b[0;32m~/workspace/fytok/SpDM/python/spdm/data/Path.py:567\u001b[0m, in \u001b[0;36mPath._parser\u001b[0;34m(path, target)\u001b[0m\n\u001b[1;32m    564\u001b[0m \u001b[39m@staticmethod\u001b[39m\n\u001b[1;32m    565\u001b[0m \u001b[39mdef\u001b[39;00m \u001b[39m_parser\u001b[39m(path, target: \u001b[39mlist\u001b[39m \u001b[39m|\u001b[39m \u001b[39mNone\u001b[39;00m \u001b[39m=\u001b[39m \u001b[39mNone\u001b[39;00m) \u001b[39m-\u001b[39m\u001b[39m>\u001b[39m \u001b[39mlist\u001b[39m:\n\u001b[1;32m    566\u001b[0m \u001b[39m    \u001b[39m\u001b[39m\"\"\"Parse the PathLike to list\"\"\"\u001b[39;00m\n\u001b[0;32m--> 567\u001b[0m     \u001b[39mreturn\u001b[39;00m [\u001b[39m*\u001b[39mPath\u001b[39m.\u001b[39m_parser_iter(path)]\n",
      "File \u001b[0;32m~/workspace/fytok/SpDM/python/spdm/data/Path.py:521\u001b[0m, in \u001b[0;36mPath._parser_iter\u001b[0;34m(path)\u001b[0m\n\u001b[1;32m    517\u001b[0m         item \u001b[39m=\u001b[39m s\n\u001b[1;32m    519\u001b[0m     \u001b[39mreturn\u001b[39;00m item\n\u001b[0;32m--> 521\u001b[0m \u001b[39m@staticmethod\u001b[39m\n\u001b[1;32m    522\u001b[0m \u001b[39mdef\u001b[39;00m \u001b[39m_parser_iter\u001b[39m(path: typing\u001b[39m.\u001b[39mAny) \u001b[39m-\u001b[39m\u001b[39m>\u001b[39m typing\u001b[39m.\u001b[39mGenerator[PathLike, \u001b[39mNone\u001b[39;00m, \u001b[39mNone\u001b[39;00m]:\n\u001b[1;32m    523\u001b[0m     \u001b[39mif\u001b[39;00m \u001b[39mnot\u001b[39;00m \u001b[39misinstance\u001b[39m(path, \u001b[39mstr\u001b[39m):\n\u001b[1;32m    524\u001b[0m         \u001b[39mif\u001b[39;00m \u001b[39misinstance\u001b[39m(path, \u001b[39mlist\u001b[39m) \u001b[39mor\u001b[39;00m inspect\u001b[39m.\u001b[39misgenerator(path):\n",
      "\u001b[0;31mKeyboardInterrupt\u001b[0m: "
     ]
    }
   ],
   "source": [
    "tok.refresh()"
   ]
  },
  {
   "cell_type": "code",
   "execution_count": null,
   "metadata": {},
   "outputs": [],
   "source": [
    "profiles_2d.grid"
   ]
  },
  {
   "cell_type": "code",
   "execution_count": null,
   "metadata": {},
   "outputs": [],
   "source": []
  }
 ],
 "metadata": {
  "kernelspec": {
   "display_name": "Python 3",
   "language": "python",
   "name": "python3"
  },
  "language_info": {
   "codemirror_mode": {
    "name": "ipython",
    "version": 3
   },
   "file_extension": ".py",
   "mimetype": "text/x-python",
   "name": "python",
   "nbconvert_exporter": "python",
   "pygments_lexer": "ipython3",
   "version": "3.10.12"
  }
 },
 "nbformat": 4,
 "nbformat_minor": 2
}
