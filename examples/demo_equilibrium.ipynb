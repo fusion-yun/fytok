{
 "cells": [
  {
   "cell_type": "code",
   "execution_count": 1,
   "metadata": {},
   "outputs": [
    {
     "name": "stdout",
     "output_type": "stream",
     "text": [
      "\u001b[0;34m2023-12-07 10:25:30,492 [    spdm]     INFO: \n",
      "###################################################################################################\n",
      "\n",
      "    ______      _____     _\n",
      "   / ____/_  __|_   _|__ | | __\n",
      "  / /_  / / / /  | |/ _ \\| |/ /\n",
      " / __/ / /_/ /   | | (_) |   <\n",
      "/_/    \\__, /    |_|\\___/|_|\\_\\\n",
      "      /____/\n",
      "\n",
      " Copyright (c) 2021-present Zhi YU (Institute of Plasma Physics Chinese Academy of Sciences)\n",
      "            \n",
      " url: https://gitee.com/openfusion/fytok_tutorial \n",
      "      https://github.com/fusion-yun/fytok_tutorial\n",
      "\n",
      " version = alpha  (spdm=beta extension=0.2.2.dev19+g14adade.d20231205, imas_version=v3_38_1_dirty)\n",
      "\n",
      " Run by salmon at 2023-12-07T10:25:30.171665.\n",
      " Job ID: fytok_salmon_surface_6942\n",
      "\n",
      "###################################################################################################\n",
      "\u001b[0m\n"
     ]
    }
   ],
   "source": [
    "import pathlib\n",
    "from fytok.Tokamak import Tokamak\n",
    "from fytok.modules.Equilibrium import Equilibrium\n",
    "from fytok.utils.logger import logger\n",
    "from spdm.view.View import display\n",
    "from spdm.data.File import File\n",
    "from spdm.data.Path import Path\n",
    "from spdm.data.Entry import Entry\n",
    "\n",
    "WORKSPACE = \"/home/salmon/workspace\"  # \"/ssd01/salmon_work/workspace/\"\n",
    "output_path = pathlib.Path(f\"{WORKSPACE}/output/\")"
   ]
  },
  {
   "cell_type": "code",
   "execution_count": 2,
   "metadata": {},
   "outputs": [
    {
     "name": "stdout",
     "output_type": "stream",
     "text": [
      "\u001b[0;34m2023-12-07 10:25:30,709 [    spdm]     INFO: Load module spdm.plugins.data.plugin_xml\u001b[0m\n",
      "\u001b[0;34m2023-12-07 10:25:30,713 [    spdm]     INFO: Load module spdm.plugins.data.plugin_geqdsk\u001b[0m\n"
     ]
    }
   ],
   "source": [
    "# eq0 = Equilibrium(f\"file+GEQdsk://{WORKSPACE}/gacode/neo/tools/input/profile_data/g141459.03890#equilibrium\")\n",
    "tok = Tokamak(\n",
    "    \"file+geqdsk:///home/salmon/workspace/fytok_tutorial/tutorial/data/g900003.00230_ITER_15MA_eqdsk16HR.txt\",\n",
    "    device=\"east\",\n",
    "    equilibrium={\"code\": {\"name\": \"freegs\"}},\n",
    ")"
   ]
  },
  {
   "cell_type": "code",
   "execution_count": 3,
   "metadata": {},
   "outputs": [
    {
     "name": "stdout",
     "output_type": "stream",
     "text": [
      "\u001b[0;34m2023-12-07 10:25:31,085 [    spdm]     INFO: Load module fytok.plugins.equilibrium.freegs\u001b[0m\n",
      "\u001b[0;34m2023-12-07 10:25:31,089 [    spdm]     INFO: Initialize module fytok.modules.Wall \u001b[0m\n",
      "\u001b[0;34m2023-12-07 10:25:31,095 [    spdm]     INFO: Initialize module fytok.modules.TF \u001b[0m\n",
      "\u001b[0;34m2023-12-07 10:25:31,100 [    spdm]     INFO: Initialize module fytok.modules.Magnetics \u001b[0m\n",
      "\u001b[0;34m2023-12-07 10:25:31,106 [    spdm]     INFO: Initialize module fytok.modules.PFActive \u001b[0m\n",
      "\u001b[0;34m2023-12-07 10:25:31,109 [    spdm]     INFO: Initialize module fytok.plugins.equilibrium.freegs \u001b[0m\n",
      "\u001b[0;34m2023-12-07 10:25:31,128 [    spdm]     INFO: Load module spdm.mesh.mesh_rectangular\u001b[0m\n"
     ]
    }
   ],
   "source": [
    "with File(\"test.geqdsk\", mode=\"w\", format=\"GEQDSK\") as fid:\n",
    "    fid.write({\"equilibrium\": {\"time_slice\": [tok.equilibrium.time_slice[0]]}, \"wall\": tok.wall})"
   ]
  },
  {
   "cell_type": "code",
   "execution_count": 4,
   "metadata": {},
   "outputs": [
    {
     "data": {
      "text/plain": [
       "6.201716537311407"
      ]
     },
     "execution_count": 4,
     "metadata": {},
     "output_type": "execute_result"
    }
   ],
   "source": [
    "Entry(tok.equilibrium.time_slice[0]).get(\"boundary/geometric_axis/r\")"
   ]
  },
  {
   "cell_type": "code",
   "execution_count": null,
   "metadata": {},
   "outputs": [],
   "source": []
  },
  {
   "cell_type": "code",
   "execution_count": 5,
   "metadata": {},
   "outputs": [
    {
     "name": "stdout",
     "output_type": "stream",
     "text": [
      "\u001b[0;37m2023-12-07 10:25:32,715 [    spdm]    DEBUG: /home/salmon/workspace/fytok/python/fytok/plugins/equilibrium/freegs.py:51:_setup_machine: Setup machine\u001b[0m\n",
      "\u001b[0;34m2023-12-07 10:25:32,915 [    spdm]     INFO: Setup machine description: wall=<_T_identifier_static />\u001b[0m\n",
      "\u001b[0;37m2023-12-07 10:25:32,916 [    spdm]    DEBUG: /home/salmon/workspace/fytok/python/fytok/plugins/equilibrium/freegs.py:93:preprocess: Setup freegs solver\u001b[0m\n",
      "\u001b[0;34m2023-12-07 10:25:34,520 [    spdm]     INFO: Using free boundary\u001b[0m\n",
      "\u001b[0;37m2023-12-07 10:25:34,523 [    spdm]    DEBUG: /home/salmon/workspace/fytok/python/fytok/plugins/equilibrium/freegs.py:132:preprocess: Setup profiles for equilibrium solver\u001b[0m\n"
     ]
    },
    {
     "ename": "RuntimeError",
     "evalue": "Can not create freegs profile!",
     "output_type": "error",
     "traceback": [
      "\u001b[0;31m---------------------------------------------------------------------------\u001b[0m",
      "\u001b[0;31mRuntimeError\u001b[0m                              Traceback (most recent call last)",
      "\u001b[1;32m/home/salmon/workspace/fytok/examples/demo_equilibrium.ipynb Cell 6\u001b[0m line \u001b[0;36m1\n\u001b[0;32m----> <a href='vscode-notebook-cell://wsl%2Bubuntu-22.04/home/salmon/workspace/fytok/examples/demo_equilibrium.ipynb#W2sdnNjb2RlLXJlbW90ZQ%3D%3D?line=0'>1</a>\u001b[0m tok\u001b[39m.\u001b[39;49mrefresh()\n",
      "File \u001b[0;32m~/workspace/fytok/python/fytok/Tokamak.py:178\u001b[0m, in \u001b[0;36mTokamak.refresh\u001b[0;34m(self, *args, **kwargs)\u001b[0m\n\u001b[1;32m    175\u001b[0m \u001b[39mdef\u001b[39;00m \u001b[39mrefresh\u001b[39m(\u001b[39mself\u001b[39m, \u001b[39m*\u001b[39margs, \u001b[39m*\u001b[39m\u001b[39m*\u001b[39mkwargs) \u001b[39m-\u001b[39m\u001b[39m>\u001b[39m \u001b[39mNone\u001b[39;00m:\n\u001b[1;32m    176\u001b[0m     \u001b[39msuper\u001b[39m()\u001b[39m.\u001b[39mrefresh(\u001b[39m*\u001b[39margs, \u001b[39m*\u001b[39m\u001b[39m*\u001b[39mkwargs)\n\u001b[0;32m--> 178\u001b[0m     \u001b[39mself\u001b[39;49m\u001b[39m.\u001b[39;49mequilibrium\u001b[39m.\u001b[39;49mrefresh(time\u001b[39m=\u001b[39;49m\u001b[39mself\u001b[39;49m\u001b[39m.\u001b[39;49mtime, \u001b[39m*\u001b[39;49m\u001b[39m*\u001b[39;49m\u001b[39mself\u001b[39;49m\u001b[39m.\u001b[39;49m_inputs\u001b[39m.\u001b[39;49mfetch())\n\u001b[1;32m    180\u001b[0m     \u001b[39mself\u001b[39m\u001b[39m.\u001b[39mcore_sources\u001b[39m.\u001b[39mrefresh(time\u001b[39m=\u001b[39m\u001b[39mself\u001b[39m\u001b[39m.\u001b[39mtime, \u001b[39m*\u001b[39m\u001b[39m*\u001b[39m\u001b[39mself\u001b[39m\u001b[39m.\u001b[39m_inputs\u001b[39m.\u001b[39mfetch())\n\u001b[1;32m    182\u001b[0m     \u001b[39mself\u001b[39m\u001b[39m.\u001b[39mcore_transport\u001b[39m.\u001b[39mrefresh(time\u001b[39m=\u001b[39m\u001b[39mself\u001b[39m\u001b[39m.\u001b[39mtime, \u001b[39m*\u001b[39m\u001b[39m*\u001b[39m\u001b[39mself\u001b[39m\u001b[39m.\u001b[39m_inputs\u001b[39m.\u001b[39mfetch())\n",
      "File \u001b[0;32m~/workspace/fytok/python/fytok/modules/Equilibrium.py:496\u001b[0m, in \u001b[0;36mEquilibrium.refresh\u001b[0;34m(self, time, wall, tf, magnetics, pf_active, *args, **kwargs)\u001b[0m\n\u001b[1;32m    486\u001b[0m \u001b[39mdef\u001b[39;00m \u001b[39mrefresh\u001b[39m(\n\u001b[1;32m    487\u001b[0m     \u001b[39mself\u001b[39m,\n\u001b[1;32m    488\u001b[0m     \u001b[39m*\u001b[39margs,\n\u001b[0;32m   (...)\u001b[0m\n\u001b[1;32m    494\u001b[0m     \u001b[39m*\u001b[39m\u001b[39m*\u001b[39mkwargs,\n\u001b[1;32m    495\u001b[0m ) \u001b[39m-\u001b[39m\u001b[39m>\u001b[39m \u001b[39mNone\u001b[39;00m:\n\u001b[0;32m--> 496\u001b[0m     \u001b[39mreturn\u001b[39;00m \u001b[39msuper\u001b[39;49m()\u001b[39m.\u001b[39;49mrefresh(\n\u001b[1;32m    497\u001b[0m         \u001b[39m*\u001b[39;49margs,\n\u001b[1;32m    498\u001b[0m         time\u001b[39m=\u001b[39;49mtime,\n\u001b[1;32m    499\u001b[0m         tf\u001b[39m=\u001b[39;49mtf,\n\u001b[1;32m    500\u001b[0m         wall\u001b[39m=\u001b[39;49mwall,\n\u001b[1;32m    501\u001b[0m         magnetics\u001b[39m=\u001b[39;49mmagnetics,\n\u001b[1;32m    502\u001b[0m         pf_active\u001b[39m=\u001b[39;49mpf_active,\n\u001b[1;32m    503\u001b[0m         \u001b[39m*\u001b[39;49m\u001b[39m*\u001b[39;49mkwargs,\n\u001b[1;32m    504\u001b[0m     )\n",
      "File \u001b[0;32m~/workspace/fytok/SpDM/python/spdm/data/Actor.py:182\u001b[0m, in \u001b[0;36mActor.refresh\u001b[0;34m(self, time, *args, **kwargs)\u001b[0m\n\u001b[1;32m    176\u001b[0m \u001b[39m\u001b[39m\u001b[39m\"\"\"更新当前 Actor 的状态。\u001b[39;00m\n\u001b[1;32m    177\u001b[0m \u001b[39m若 time 为 None 或者与当前时间一致，则更新当前状态树，并执行 self.iteration+=1\u001b[39;00m\n\u001b[1;32m    178\u001b[0m \u001b[39m否则，向 time_slice 队列中压入新的时间片。\u001b[39;00m\n\u001b[1;32m    179\u001b[0m \u001b[39m\"\"\"\u001b[39;00m\n\u001b[1;32m    180\u001b[0m kwargs \u001b[39m=\u001b[39m \u001b[39mself\u001b[39m\u001b[39m.\u001b[39minputs\u001b[39m.\u001b[39mupdate(kwargs)  \u001b[39m# 更新 inputs，返回将不是 HTreeNode 的 input\u001b[39;00m\n\u001b[0;32m--> 182\u001b[0m \u001b[39mself\u001b[39;49m\u001b[39m.\u001b[39;49mpreprocess(\u001b[39m*\u001b[39;49margs, time\u001b[39m=\u001b[39;49mtime, \u001b[39m*\u001b[39;49m\u001b[39m*\u001b[39;49mkwargs)\n\u001b[1;32m    184\u001b[0m \u001b[39mself\u001b[39m\u001b[39m.\u001b[39mexecute(\u001b[39mself\u001b[39m\u001b[39m.\u001b[39mtime_slice\u001b[39m.\u001b[39mcurrent, \u001b[39mself\u001b[39m\u001b[39m.\u001b[39mtime_slice\u001b[39m.\u001b[39mprevious)\n\u001b[1;32m    186\u001b[0m \u001b[39mself\u001b[39m\u001b[39m.\u001b[39mpostprocess(\u001b[39mself\u001b[39m\u001b[39m.\u001b[39mtime_slice\u001b[39m.\u001b[39mcurrent)\n",
      "File \u001b[0;32m~/workspace/fytok/python/fytok/plugins/equilibrium/freegs.py:190\u001b[0m, in \u001b[0;36mEquilibriumFreeGS.preprocess\u001b[0;34m(self, *args, **kwargs)\u001b[0m\n\u001b[1;32m    188\u001b[0m     logger\u001b[39m.\u001b[39minfo(\u001b[39m\"\u001b[39m\u001b[39mCreate Profile: Specified profile functions p\u001b[39m\u001b[39m'\u001b[39m\u001b[39m(psi), ff\u001b[39m\u001b[39m'\u001b[39m\u001b[39m(psi)\u001b[39m\u001b[39m\"\u001b[39m)\n\u001b[1;32m    189\u001b[0m \u001b[39melse\u001b[39;00m:\n\u001b[0;32m--> 190\u001b[0m     \u001b[39mraise\u001b[39;00m \u001b[39mRuntimeError\u001b[39;00m(\u001b[39mf\u001b[39m\u001b[39m\"\u001b[39m\u001b[39mCan not create freegs profile!\u001b[39m\u001b[39m\"\u001b[39m)\n\u001b[1;32m    192\u001b[0m \u001b[39mself\u001b[39m\u001b[39m.\u001b[39m_freegs_constraints \u001b[39m=\u001b[39m \u001b[39mNone\u001b[39;00m\n\u001b[1;32m    194\u001b[0m \u001b[39m# if boundary_type == \"fixed\":\u001b[39;00m\n\u001b[1;32m    195\u001b[0m \u001b[39m#     freegs_constraints = None\u001b[39;00m\n\u001b[1;32m    196\u001b[0m \n\u001b[0;32m   (...)\u001b[0m\n\u001b[1;32m    218\u001b[0m \n\u001b[1;32m    219\u001b[0m \u001b[39m# isoflux = kwargs.pop(\"isoflux\", False)\u001b[39;00m\n",
      "\u001b[0;31mRuntimeError\u001b[0m: Can not create freegs profile!"
     ]
    }
   ],
   "source": [
    "tok.refresh()"
   ]
  },
  {
   "cell_type": "code",
   "execution_count": null,
   "metadata": {},
   "outputs": [],
   "source": [
    "profiles_2d.grid"
   ]
  },
  {
   "cell_type": "code",
   "execution_count": null,
   "metadata": {},
   "outputs": [],
   "source": []
  }
 ],
 "metadata": {
  "kernelspec": {
   "display_name": "Python 3",
   "language": "python",
   "name": "python3"
  },
  "language_info": {
   "codemirror_mode": {
    "name": "ipython",
    "version": 3
   },
   "file_extension": ".py",
   "mimetype": "text/x-python",
   "name": "python",
   "nbconvert_exporter": "python",
   "pygments_lexer": "ipython3",
   "version": "3.10.12"
  }
 },
 "nbformat": 4,
 "nbformat_minor": 2
}
