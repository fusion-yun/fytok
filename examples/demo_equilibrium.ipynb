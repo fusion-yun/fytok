{
 "cells": [
  {
   "cell_type": "code",
   "execution_count": 1,
   "metadata": {},
   "outputs": [
    {
     "name": "stdout",
     "output_type": "stream",
     "text": [
      "\u001b[0;34m2023-12-06 21:29:13,100 [    spdm]     INFO: \n",
      "###################################################################################################\n",
      "\n",
      "    ______      _____     _\n",
      "   / ____/_  __|_   _|__ | | __\n",
      "  / /_  / / / /  | |/ _ \\| |/ /\n",
      " / __/ / /_/ /   | | (_) |   <\n",
      "/_/    \\__, /    |_|\\___/|_|\\_\\\n",
      "      /____/\n",
      "\n",
      " Copyright (c) 2021-present Zhi YU (Institute of Plasma Physics Chinese Academy of Sciences)\n",
      "            \n",
      " url: https://gitee.com/openfusion/fytok_tutorial \n",
      "      https://github.com/fusion-yun/fytok_tutorial\n",
      "\n",
      " version = alpha  (spdm=beta extension=0.2.2.dev19+g14adade.d20231205, imas_version=v3_38_1_dirty)\n",
      "\n",
      " Run by salmon at 2023-12-06T21:29:12.833799.\n",
      " Job ID: fytok_salmon_surface_29643\n",
      "\n",
      "###################################################################################################\n",
      "\u001b[0m\n"
     ]
    }
   ],
   "source": [
    "import pathlib\n",
    "\n",
    "from fytok.modules.Equilibrium import Equilibrium\n",
    "from fytok.utils.logger import logger\n",
    "from spdm.view.View import display\n",
    "WORKSPACE = \"/home/salmon/workspace\"  # \"/ssd01/salmon_work/workspace/\"\n",
    "output_path = pathlib.Path(f\"{WORKSPACE}/output/\")"
   ]
  },
  {
   "cell_type": "code",
   "execution_count": 2,
   "metadata": {},
   "outputs": [
    {
     "name": "stdout",
     "output_type": "stream",
     "text": [
      "\u001b[0;34m2023-12-06 21:29:13,531 [    spdm]     INFO: Load module fytok.plugins.equilibrium.freegs\u001b[0m\n",
      "\u001b[0;34m2023-12-06 21:29:13,535 [    spdm]     INFO: Load module spdm.plugins.data.plugin_geqdsk\u001b[0m\n",
      "\u001b[0;34m2023-12-06 21:29:13,645 [    spdm]     INFO: Initialize module fytok.plugins.equilibrium.freegs \u001b[0m\n"
     ]
    }
   ],
   "source": [
    "# eq0 = Equilibrium(f\"file+GEQdsk://{WORKSPACE}/gacode/neo/tools/input/profile_data/g141459.03890#equilibrium\")\n",
    "eq0 = Equilibrium(\"file+geqdsk:///home/salmon/workspace/fytok_tutorial/tutorial/data/g900003.00230_ITER_15MA_eqdsk16HR.txt#equilibrium\",\n",
    "                  code={\"name\":\"freegs\"})"
   ]
  },
  {
   "cell_type": "code",
   "execution_count": 3,
   "metadata": {},
   "outputs": [],
   "source": [
    "profiles_2d=eq0.time_slice.current.profiles_2d"
   ]
  },
  {
   "cell_type": "code",
   "execution_count": 4,
   "metadata": {},
   "outputs": [
    {
     "name": "stdout",
     "output_type": "stream",
     "text": [
      "\u001b[0;34m2023-12-06 21:29:13,676 [    spdm]     INFO: Load module spdm.mesh.mesh_rectangular\u001b[0m\n"
     ]
    },
    {
     "data": {
      "text/plain": [
       "<spdm.mesh.mesh_rectangular.RectangularMesh at 0x7f06f63c8c70>"
      ]
     },
     "execution_count": 4,
     "metadata": {},
     "output_type": "execute_result"
    }
   ],
   "source": [
    "profiles_2d.grid"
   ]
  },
  {
   "cell_type": "code",
   "execution_count": 5,
   "metadata": {},
   "outputs": [
    {
     "name": "stdout",
     "output_type": "stream",
     "text": [
      "\u001b[0;34m2023-12-06 21:29:13,695 [    spdm]     INFO: Execute module fytok.plugins.equilibrium.freegs\u001b[0m\n"
     ]
    }
   ],
   "source": [
    "eq0.refresh()"
   ]
  },
  {
   "cell_type": "code",
   "execution_count": 6,
   "metadata": {},
   "outputs": [
    {
     "ename": "RuntimeError",
     "evalue": "<class 'fytok.plugins.equilibrium.fy_eq.FyEquilibriumProfiles2D'> id=grid: 'getter' failed!",
     "output_type": "error",
     "traceback": [
      "\u001b[0;31m---------------------------------------------------------------------------\u001b[0m",
      "\u001b[0;31mRuntimeError\u001b[0m                              Traceback (most recent call last)",
      "File \u001b[0;32m~/workspace/fytok/SpDM/python/spdm/data/HTree.py:407\u001b[0m, in \u001b[0;36mHTree._as_child\u001b[0;34m(self, value, key, default_value, _type_hint, _entry, _parent, _getter, force, **kwargs)\u001b[0m\n\u001b[1;32m    406\u001b[0m \u001b[39mtry\u001b[39;00m:\n\u001b[0;32m--> 407\u001b[0m     value \u001b[39m=\u001b[39m _getter(\u001b[39mself\u001b[39;49m)\n\u001b[1;32m    408\u001b[0m \u001b[39mexcept\u001b[39;00m \u001b[39mException\u001b[39;00m \u001b[39mas\u001b[39;00m error:\n",
      "File \u001b[0;32m~/workspace/fytok/python/fytok/plugins/equilibrium/fy_eq.py:910\u001b[0m, in \u001b[0;36mFyEquilibriumProfiles2D.grid\u001b[0;34m(self)\u001b[0m\n\u001b[1;32m    908\u001b[0m \u001b[39m@sp_property\u001b[39m\n\u001b[1;32m    909\u001b[0m \u001b[39mdef\u001b[39;00m \u001b[39mgrid\u001b[39m(\u001b[39mself\u001b[39m) \u001b[39m-\u001b[39m\u001b[39m>\u001b[39m Mesh:\n\u001b[0;32m--> 910\u001b[0m     dim1 \u001b[39m=\u001b[39m \u001b[39msuper\u001b[39;49m()\u001b[39m.\u001b[39;49mgrid\u001b[39m.\u001b[39mdim1\n\u001b[1;32m    911\u001b[0m     dim2 \u001b[39m=\u001b[39m \u001b[39msuper\u001b[39m()\u001b[39m.\u001b[39mgrid\u001b[39m.\u001b[39mdim2\n",
      "File \u001b[0;32m~/workspace/fytok/SpDM/python/spdm/data/sp_property.py:316\u001b[0m, in \u001b[0;36mSpProperty.__get__\u001b[0;34m(self, instance, owner_cls)\u001b[0m\n\u001b[1;32m    315\u001b[0m \u001b[39mwith\u001b[39;00m \u001b[39mself\u001b[39m\u001b[39m.\u001b[39mlock:\n\u001b[0;32m--> 316\u001b[0m     value \u001b[39m=\u001b[39m instance\u001b[39m.\u001b[39;49m__get_property__(\n\u001b[1;32m    317\u001b[0m         property_name,\n\u001b[1;32m    318\u001b[0m         _type_hint\u001b[39m=\u001b[39;49m\u001b[39mself\u001b[39;49m\u001b[39m.\u001b[39;49mtype_hint,\n\u001b[1;32m    319\u001b[0m         _getter\u001b[39m=\u001b[39;49m\u001b[39mself\u001b[39;49m\u001b[39m.\u001b[39;49mgetter,\n\u001b[1;32m    320\u001b[0m         \u001b[39m*\u001b[39;49m\u001b[39m*\u001b[39;49m\u001b[39mself\u001b[39;49m\u001b[39m.\u001b[39;49mmetadata,\n\u001b[1;32m    321\u001b[0m     )\n\u001b[1;32m    323\u001b[0m     \u001b[39mif\u001b[39;00m \u001b[39mself\u001b[39m\u001b[39m.\u001b[39mstrict \u001b[39mand\u001b[39;00m value \u001b[39mis\u001b[39;00m _not_found_:\n",
      "File \u001b[0;32m~/workspace/fytok/SpDM/python/spdm/data/sp_property.py:67\u001b[0m, in \u001b[0;36mSpTree.__get_property__\u001b[0;34m(self, key, *args, **kwargs)\u001b[0m\n\u001b[1;32m     66\u001b[0m \u001b[39mdef\u001b[39;00m \u001b[39m__get_property__\u001b[39m(\u001b[39mself\u001b[39m, key: \u001b[39mstr\u001b[39m, \u001b[39m*\u001b[39margs, \u001b[39m*\u001b[39m\u001b[39m*\u001b[39mkwargs) \u001b[39m-\u001b[39m\u001b[39m>\u001b[39m SpTree:\n\u001b[0;32m---> 67\u001b[0m     \u001b[39mreturn\u001b[39;00m \u001b[39mself\u001b[39;49m\u001b[39m.\u001b[39;49m_get(key, \u001b[39m*\u001b[39;49margs, \u001b[39m*\u001b[39;49m\u001b[39m*\u001b[39;49mkwargs)\n",
      "File \u001b[0;32m~/workspace/fytok/SpDM/python/spdm/data/HTree.py:467\u001b[0m, in \u001b[0;36mHTree._get\u001b[0;34m(self, query, _type_hint, *args, **kwargs)\u001b[0m\n\u001b[1;32m    466\u001b[0m \u001b[39melif\u001b[39;00m \u001b[39misinstance\u001b[39m(query, \u001b[39mstr\u001b[39m):\n\u001b[0;32m--> 467\u001b[0m     value \u001b[39m=\u001b[39m \u001b[39mself\u001b[39;49m\u001b[39m.\u001b[39;49m_get_as_dict(query, \u001b[39m*\u001b[39;49margs, _type_hint\u001b[39m=\u001b[39;49m_type_hint, \u001b[39m*\u001b[39;49m\u001b[39m*\u001b[39;49mkwargs)\n\u001b[1;32m    469\u001b[0m \u001b[39melif\u001b[39;00m \u001b[39misinstance\u001b[39m(query, \u001b[39mset\u001b[39m):  \u001b[39m# compound\u001b[39;00m\n",
      "File \u001b[0;32m~/workspace/fytok/SpDM/python/spdm/data/HTree.py:502\u001b[0m, in \u001b[0;36mHTree._get_as_dict\u001b[0;34m(self, key, **kwargs)\u001b[0m\n\u001b[1;32m    500\u001b[0m     _entry \u001b[39m=\u001b[39m \u001b[39mNone\u001b[39;00m\n\u001b[0;32m--> 502\u001b[0m value \u001b[39m=\u001b[39m \u001b[39mself\u001b[39;49m\u001b[39m.\u001b[39;49m_as_child(cache, key, _entry\u001b[39m=\u001b[39;49m_entry, \u001b[39m*\u001b[39;49m\u001b[39m*\u001b[39;49mkwargs)\n\u001b[1;32m    504\u001b[0m \u001b[39mif\u001b[39;00m \u001b[39mself\u001b[39m\u001b[39m.\u001b[39m_cache \u001b[39mis\u001b[39;00m _not_found_ \u001b[39mor\u001b[39;00m \u001b[39mself\u001b[39m\u001b[39m.\u001b[39m_cache \u001b[39mis\u001b[39;00m \u001b[39mNone\u001b[39;00m:\n",
      "File \u001b[0;32m~/workspace/fytok/SpDM/python/spdm/data/HTree.py:424\u001b[0m, in \u001b[0;36mHTree._as_child\u001b[0;34m(self, value, key, default_value, _type_hint, _entry, _parent, _getter, force, **kwargs)\u001b[0m\n\u001b[1;32m    423\u001b[0m     \u001b[39melse\u001b[39;00m:\n\u001b[0;32m--> 424\u001b[0m         res \u001b[39m=\u001b[39m type_convert(value, _type_hint)\n\u001b[1;32m    426\u001b[0m \u001b[39mif\u001b[39;00m \u001b[39misinstance\u001b[39m(res, HTreeNode):\n",
      "File \u001b[0;32m~/workspace/fytok/SpDM/python/spdm/utils/typing.py:313\u001b[0m, in \u001b[0;36mtype_convert\u001b[0;34m(value, _type_hint, **kwargs)\u001b[0m\n\u001b[1;32m    311\u001b[0m \u001b[39mif\u001b[39;00m (\u001b[39mnot\u001b[39;00m inspect\u001b[39m.\u001b[39misclass(_type_hint) \u001b[39mor\u001b[39;00m \u001b[39mnot\u001b[39;00m \u001b[39missubclass\u001b[39m(_type_hint, (Enum, \u001b[39m*\u001b[39mprimary_type)))\\\n\u001b[1;32m    312\u001b[0m         \u001b[39mand\u001b[39;00m \u001b[39mnot\u001b[39;00m dataclasses\u001b[39m.\u001b[39mis_dataclass(_type_hint):\n\u001b[0;32m--> 313\u001b[0m     \u001b[39mreturn\u001b[39;00m _type_hint(value, \u001b[39m*\u001b[39;49m\u001b[39m*\u001b[39;49mkwargs)\n\u001b[1;32m    315\u001b[0m default_value \u001b[39m=\u001b[39m kwargs\u001b[39m.\u001b[39mpop(\u001b[39m\"\u001b[39m\u001b[39mdefault_value\u001b[39m\u001b[39m\"\u001b[39m, _not_found_)\n",
      "File \u001b[0;32m~/workspace/fytok/SpDM/python/spdm/mesh/Mesh.py:70\u001b[0m, in \u001b[0;36mMesh.__init__\u001b[0;34m(self, *args, **kwargs)\u001b[0m\n\u001b[1;32m     69\u001b[0m         \u001b[39melse\u001b[39;00m:\n\u001b[0;32m---> 70\u001b[0m             \u001b[39mraise\u001b[39;00m \u001b[39mRuntimeError\u001b[39;00m(\u001b[39mf\u001b[39m\u001b[39m\"\u001b[39m\u001b[39millegal dims \u001b[39m\u001b[39m{\u001b[39;00mdims\u001b[39m}\u001b[39;00m\u001b[39m\"\u001b[39m)\n\u001b[1;32m     72\u001b[0m \u001b[39mif\u001b[39;00m mesh_type \u001b[39mis\u001b[39;00m \u001b[39mnot\u001b[39;00m \u001b[39mNone\u001b[39;00m:\n",
      "\u001b[0;31mRuntimeError\u001b[0m: illegal dims (array(0), array(0))",
      "\nThe above exception was the direct cause of the following exception:\n",
      "\u001b[0;31mRuntimeError\u001b[0m                              Traceback (most recent call last)",
      "\u001b[1;32m/home/salmon/workspace/fytok/examples/demo_equilibrium.ipynb Cell 6\u001b[0m line \u001b[0;36m1\n\u001b[0;32m----> <a href='vscode-notebook-cell://wsl%2Bubuntu-22.04/home/salmon/workspace/fytok/examples/demo_equilibrium.ipynb#W5sdnNjb2RlLXJlbW90ZQ%3D%3D?line=0'>1</a>\u001b[0m profiles_2d\u001b[39m.\u001b[39;49mgrid\n",
      "File \u001b[0;32m~/workspace/fytok/SpDM/python/spdm/data/sp_property.py:316\u001b[0m, in \u001b[0;36mSpProperty.__get__\u001b[0;34m(self, instance, owner_cls)\u001b[0m\n\u001b[1;32m    313\u001b[0m     \u001b[39mraise\u001b[39;00m \u001b[39mAttributeError\u001b[39;00m(\u001b[39mf\u001b[39m\u001b[39m\"\u001b[39m\u001b[39mproperty_name is None!\u001b[39m\u001b[39m\"\u001b[39m)\n\u001b[1;32m    315\u001b[0m \u001b[39mwith\u001b[39;00m \u001b[39mself\u001b[39m\u001b[39m.\u001b[39mlock:\n\u001b[0;32m--> 316\u001b[0m     value \u001b[39m=\u001b[39m instance\u001b[39m.\u001b[39;49m__get_property__(\n\u001b[1;32m    317\u001b[0m         property_name,\n\u001b[1;32m    318\u001b[0m         _type_hint\u001b[39m=\u001b[39;49m\u001b[39mself\u001b[39;49m\u001b[39m.\u001b[39;49mtype_hint,\n\u001b[1;32m    319\u001b[0m         _getter\u001b[39m=\u001b[39;49m\u001b[39mself\u001b[39;49m\u001b[39m.\u001b[39;49mgetter,\n\u001b[1;32m    320\u001b[0m         \u001b[39m*\u001b[39;49m\u001b[39m*\u001b[39;49m\u001b[39mself\u001b[39;49m\u001b[39m.\u001b[39;49mmetadata,\n\u001b[1;32m    321\u001b[0m     )\n\u001b[1;32m    323\u001b[0m     \u001b[39mif\u001b[39;00m \u001b[39mself\u001b[39m\u001b[39m.\u001b[39mstrict \u001b[39mand\u001b[39;00m value \u001b[39mis\u001b[39;00m _not_found_:\n\u001b[1;32m    324\u001b[0m         \u001b[39mraise\u001b[39;00m \u001b[39mAttributeError\u001b[39;00m(\n\u001b[1;32m    325\u001b[0m             \u001b[39mf\u001b[39m\u001b[39m\"\u001b[39m\u001b[39mThe value of property \u001b[39m\u001b[39m'\u001b[39m\u001b[39m{\u001b[39;00mowner_cls\u001b[39m.\u001b[39m\u001b[39m__name__\u001b[39m\u001b[39m \u001b[39m\u001b[39mif\u001b[39;00m\u001b[39m \u001b[39mowner_cls\u001b[39m \u001b[39m\u001b[39mis\u001b[39;00m\u001b[39m \u001b[39m\u001b[39mnot\u001b[39;00m\u001b[39m \u001b[39m\u001b[39mNone\u001b[39;00m\u001b[39m \u001b[39m\u001b[39melse\u001b[39;00m\u001b[39m \u001b[39m\u001b[39m'\u001b[39m\u001b[39mnone\u001b[39m\u001b[39m'\u001b[39m\u001b[39m}\u001b[39;00m\u001b[39m.\u001b[39m\u001b[39m{\u001b[39;00mproperty_name\u001b[39m}\u001b[39;00m\u001b[39m'\u001b[39m\u001b[39m is not assigned!\u001b[39m\u001b[39m\"\u001b[39m\n\u001b[1;32m    326\u001b[0m         )\n",
      "File \u001b[0;32m~/workspace/fytok/SpDM/python/spdm/data/sp_property.py:67\u001b[0m, in \u001b[0;36mSpTree.__get_property__\u001b[0;34m(self, key, *args, **kwargs)\u001b[0m\n\u001b[1;32m     66\u001b[0m \u001b[39mdef\u001b[39;00m \u001b[39m__get_property__\u001b[39m(\u001b[39mself\u001b[39m, key: \u001b[39mstr\u001b[39m, \u001b[39m*\u001b[39margs, \u001b[39m*\u001b[39m\u001b[39m*\u001b[39mkwargs) \u001b[39m-\u001b[39m\u001b[39m>\u001b[39m SpTree:\n\u001b[0;32m---> 67\u001b[0m     \u001b[39mreturn\u001b[39;00m \u001b[39mself\u001b[39;49m\u001b[39m.\u001b[39;49m_get(key, \u001b[39m*\u001b[39;49margs, \u001b[39m*\u001b[39;49m\u001b[39m*\u001b[39;49mkwargs)\n",
      "File \u001b[0;32m~/workspace/fytok/SpDM/python/spdm/data/HTree.py:467\u001b[0m, in \u001b[0;36mHTree._get\u001b[0;34m(self, query, _type_hint, *args, **kwargs)\u001b[0m\n\u001b[1;32m    464\u001b[0m         value \u001b[39m=\u001b[39m \u001b[39mself\u001b[39m\u001b[39m.\u001b[39m_get_as_list(query, \u001b[39m*\u001b[39margs, _type_hint\u001b[39m=\u001b[39m_type_hint, \u001b[39m*\u001b[39m\u001b[39m*\u001b[39mkwargs)\n\u001b[1;32m    466\u001b[0m \u001b[39melif\u001b[39;00m \u001b[39misinstance\u001b[39m(query, \u001b[39mstr\u001b[39m):\n\u001b[0;32m--> 467\u001b[0m     value \u001b[39m=\u001b[39m \u001b[39mself\u001b[39;49m\u001b[39m.\u001b[39;49m_get_as_dict(query, \u001b[39m*\u001b[39;49margs, _type_hint\u001b[39m=\u001b[39;49m_type_hint, \u001b[39m*\u001b[39;49m\u001b[39m*\u001b[39;49mkwargs)\n\u001b[1;32m    469\u001b[0m \u001b[39melif\u001b[39;00m \u001b[39misinstance\u001b[39m(query, \u001b[39mset\u001b[39m):  \u001b[39m# compound\u001b[39;00m\n\u001b[1;32m    470\u001b[0m     \u001b[39mraise\u001b[39;00m \u001b[39mNotImplementedError\u001b[39;00m(\u001b[39mf\u001b[39m\u001b[39m\"\u001b[39m\u001b[39mTODO: NamedDict\u001b[39m\u001b[39m\"\u001b[39m)\n",
      "File \u001b[0;32m~/workspace/fytok/SpDM/python/spdm/data/HTree.py:502\u001b[0m, in \u001b[0;36mHTree._get_as_dict\u001b[0;34m(self, key, **kwargs)\u001b[0m\n\u001b[1;32m    499\u001b[0m \u001b[39melse\u001b[39;00m:\n\u001b[1;32m    500\u001b[0m     _entry \u001b[39m=\u001b[39m \u001b[39mNone\u001b[39;00m\n\u001b[0;32m--> 502\u001b[0m value \u001b[39m=\u001b[39m \u001b[39mself\u001b[39;49m\u001b[39m.\u001b[39;49m_as_child(cache, key, _entry\u001b[39m=\u001b[39;49m_entry, \u001b[39m*\u001b[39;49m\u001b[39m*\u001b[39;49mkwargs)\n\u001b[1;32m    504\u001b[0m \u001b[39mif\u001b[39;00m \u001b[39mself\u001b[39m\u001b[39m.\u001b[39m_cache \u001b[39mis\u001b[39;00m _not_found_ \u001b[39mor\u001b[39;00m \u001b[39mself\u001b[39m\u001b[39m.\u001b[39m_cache \u001b[39mis\u001b[39;00m \u001b[39mNone\u001b[39;00m:\n\u001b[1;32m    505\u001b[0m     \u001b[39mself\u001b[39m\u001b[39m.\u001b[39m_cache \u001b[39m=\u001b[39m {}\n",
      "File \u001b[0;32m~/workspace/fytok/SpDM/python/spdm/data/HTree.py:409\u001b[0m, in \u001b[0;36mHTree._as_child\u001b[0;34m(self, value, key, default_value, _type_hint, _entry, _parent, _getter, force, **kwargs)\u001b[0m\n\u001b[1;32m    407\u001b[0m         value \u001b[39m=\u001b[39m _getter(\u001b[39mself\u001b[39m)\n\u001b[1;32m    408\u001b[0m     \u001b[39mexcept\u001b[39;00m \u001b[39mException\u001b[39;00m \u001b[39mas\u001b[39;00m error:\n\u001b[0;32m--> 409\u001b[0m         \u001b[39mraise\u001b[39;00m \u001b[39mRuntimeError\u001b[39;00m(\u001b[39mf\u001b[39m\u001b[39m\"\u001b[39m\u001b[39m{\u001b[39;00m\u001b[39mself\u001b[39m\u001b[39m.\u001b[39m\u001b[39m__class__\u001b[39m\u001b[39m}\u001b[39;00m\u001b[39m id=\u001b[39m\u001b[39m{\u001b[39;00mkey\u001b[39m}\u001b[39;00m\u001b[39m: \u001b[39m\u001b[39m'\u001b[39m\u001b[39mgetter\u001b[39m\u001b[39m'\u001b[39m\u001b[39m failed!\u001b[39m\u001b[39m\"\u001b[39m) \u001b[39mfrom\u001b[39;00m \u001b[39merror\u001b[39;00m\n\u001b[1;32m    411\u001b[0m \u001b[39mif\u001b[39;00m value \u001b[39mis\u001b[39;00m _not_found_:\n\u001b[1;32m    412\u001b[0m     res \u001b[39m=\u001b[39m default_value\n",
      "\u001b[0;31mRuntimeError\u001b[0m: <class 'fytok.plugins.equilibrium.fy_eq.FyEquilibriumProfiles2D'> id=grid: 'getter' failed!"
     ]
    }
   ],
   "source": [
    "profiles_2d.grid"
   ]
  },
  {
   "cell_type": "code",
   "execution_count": null,
   "metadata": {},
   "outputs": [],
   "source": []
  }
 ],
 "metadata": {
  "kernelspec": {
   "display_name": "Python 3",
   "language": "python",
   "name": "python3"
  },
  "language_info": {
   "codemirror_mode": {
    "name": "ipython",
    "version": 3
   },
   "file_extension": ".py",
   "mimetype": "text/x-python",
   "name": "python",
   "nbconvert_exporter": "python",
   "pygments_lexer": "ipython3",
   "version": "3.10.12"
  }
 },
 "nbformat": 4,
 "nbformat_minor": 2
}
