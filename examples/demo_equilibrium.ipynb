{
 "cells": [
  {
   "cell_type": "code",
   "execution_count": 1,
   "metadata": {},
   "outputs": [
    {
     "name": "stdout",
     "output_type": "stream",
     "text": [
      "\u001b[0;37m2024-06-04 08:58:04,343 [   fytok]  VERBOSE: Failed to import IMAS ontology: No module named 'fytok.ontology.imas_lastest'\u001b[0m\n",
      "\u001b[0;34m2024-06-04 08:58:04,344 [   fytok]     INFO: Failed to import IMAS wrapper. Using dummy ontology as fallback.\u001b[0m\n",
      "\u001b[0;34m2024-06-04 08:58:04,776 [   fytok]     INFO: \n",
      "###################################################################################################\n",
      "\n",
      "    ______      _____     _\n",
      "   / ____/_  __|_   _|__ | | __\n",
      "  / /_  / / / /  | |/ _ \\| |/ /\n",
      " / __/ / /_/ /   | | (_) |   <\n",
      "/_/    \\__, /    |_|\\___/|_|\\_\\\n",
      "      /____/\n",
      "\n",
      " Copyright (c) 2021-present Zhi YU @ Institute of Plasma Physics Chinese Academy of Sciences \n",
      "            \n",
      " version = 0.4.1  (spdm=beta extension=0.2.3.dev0+g2cc21ff.d20240223)\n",
      "\n",
      " Run by salmon at 2024-06-04T08:58:04.343071.\n",
      " Job ID: fytok_salmon_surface_18254\n",
      "\n",
      "###################################################################################################\n",
      "\u001b[0m\n"
     ]
    }
   ],
   "source": [
    "import pathlib\n",
    "import pandas as pd\n",
    "import numpy as np\n",
    "import matplotlib.pyplot as plt\n",
    "import scipy.constants\n",
    "\n",
    "from fytok.modules.equilibrium import Equilibrium\n",
    "from spdm.core.file import File\n",
    "from spdm.core.function import Function\n",
    "from spdm.view import sp_view\n",
    "\n",
    "WORKSPACE = \"/home/salmon/workspace\"  # \"/ssd01/salmon_work/workspace/\"\n",
    "output_path = pathlib.Path(f\"{WORKSPACE}/output/\")"
   ]
  },
  {
   "cell_type": "code",
   "execution_count": 2,
   "metadata": {},
   "outputs": [
    {
     "name": "stdout",
     "output_type": "stream",
     "text": [
      "\u001b[0;37m2024-06-04 08:58:04,990 [   fytok]  VERBOSE: Load module spdm.plugins.data.plugin_geqdsk\u001b[0m\n",
      "\u001b[0;37m2024-06-04 08:58:05,262 [   fytok]  VERBOSE: Load module fytok.plugins.modules.equilibrium.fy_eq\u001b[0m\n",
      "\u001b[0;37m2024-06-04 08:58:05,295 [   fytok]  VERBOSE: Initialize module fy_eq-0_0_0-FUYUN \u001b[0m\n"
     ]
    }
   ],
   "source": [
    "data_path = pathlib.Path(\"/home/salmon/workspace/fytok_data/data/15MA inductive - burn\")\n",
    "astra_profiles = pd.read_excel(\n",
    "    next(data_path.glob(\"*ASTRA.xls\")).absolute().as_posix(), sheet_name=1, header=10, usecols=\"B:BN\"\n",
    ")\n",
    "eqdsk_file = File(f\"file+geqdsk://{next(data_path.glob('**/g*.txt')).absolute().as_posix()}\", format=\"GEQdsk\").read()\n",
    "\n",
    "equilibrium = Equilibrium(\n",
    "    f\"file+geqdsk://{next(data_path.glob('**/g*.txt')).absolute().as_posix()}#equilibrium\",\n",
    "    # code={\"parameters\": {\"psi_norm\": np.linspace(0.01, 0.999, 128)}},\n",
    ")"
   ]
  },
  {
   "cell_type": "code",
   "execution_count": 3,
   "metadata": {},
   "outputs": [],
   "source": [
    "eq=equilibrium.time_slice.current\n",
    "eq_profiles_2d = eq.profiles_2d\n",
    "eq_profiles_1d = eq.profiles_1d"
   ]
  },
  {
   "cell_type": "code",
   "execution_count": 4,
   "metadata": {},
   "outputs": [
    {
     "name": "stdout",
     "output_type": "stream",
     "text": [
      "\u001b[0;37m2024-06-04 08:58:05,329 [   fytok]  VERBOSE: Load module spdm.mesh.mesh_rectangular\u001b[0m\n"
     ]
    },
    {
     "ename": "TypeError",
     "evalue": "Can not convert {'dim1': array([ 3.       ,  3.0546875,  3.109375 ,  3.1640625,  3.21875  ,\n        3.2734375,  3.328125 ,  3.3828125,  3.4375   ,  3.4921875,\n        3.546875 ,  3.6015625,  3.65625  ,  3.7109375,  3.765625 ,\n        3.8203125,  3.875    ,  3.9296875,  3.984375 ,  4.0390625,\n        4.09375  ,  4.1484375,  4.203125 ,  4.2578125,  4.3125   ,\n        4.3671875,  4.421875 ,  4.4765625,  4.53125  ,  4.5859375,\n        4.640625 ,  4.6953125,  4.75     ,  4.8046875,  4.859375 ,\n        4.9140625,  4.96875  ,  5.0234375,  5.078125 ,  5.1328125,\n        5.1875   ,  5.2421875,  5.296875 ,  5.3515625,  5.40625  ,\n        5.4609375,  5.515625 ,  5.5703125,  5.625    ,  5.6796875,\n        5.734375 ,  5.7890625,  5.84375  ,  5.8984375,  5.953125 ,\n        6.0078125,  6.0625   ,  6.1171875,  6.171875 ,  6.2265625,\n        6.28125  ,  6.3359375,  6.390625 ,  6.4453125,  6.5      ,\n        6.5546875,  6.609375 ,  6.6640625,  6.71875  ,  6.7734375,\n        6.828125 ,  6.8828125,  6.9375   ,  6.9921875,  7.046875 ,\n        7.1015625,  7.15625  ,  7.2109375,  7.265625 ,  7.3203125,\n        7.375    ,  7.4296875,  7.484375 ,  7.5390625,  7.59375  ,\n        7.6484375,  7.703125 ,  7.7578125,  7.8125   ,  7.8671875,\n        7.921875 ,  7.9765625,  8.03125  ,  8.0859375,  8.140625 ,\n        8.1953125,  8.25     ,  8.3046875,  8.359375 ,  8.4140625,\n        8.46875  ,  8.5234375,  8.578125 ,  8.6328125,  8.6875   ,\n        8.7421875,  8.796875 ,  8.8515625,  8.90625  ,  8.9609375,\n        9.015625 ,  9.0703125,  9.125    ,  9.1796875,  9.234375 ,\n        9.2890625,  9.34375  ,  9.3984375,  9.453125 ,  9.5078125,\n        9.5625   ,  9.6171875,  9.671875 ,  9.7265625,  9.78125  ,\n        9.8359375,  9.890625 ,  9.9453125, 10.       ]), 'dim2': array([-5.99    , -5.943125, -5.89625 , -5.849375, -5.8025  , -5.755625,\n       -5.70875 , -5.661875, -5.615   , -5.568125, -5.52125 , -5.474375,\n       -5.4275  , -5.380625, -5.33375 , -5.286875, -5.24    , -5.193125,\n       -5.14625 , -5.099375, -5.0525  , -5.005625, -4.95875 , -4.911875,\n       -4.865   , -4.818125, -4.77125 , -4.724375, -4.6775  , -4.630625,\n       -4.58375 , -4.536875, -4.49    , -4.443125, -4.39625 , -4.349375,\n       -4.3025  , -4.255625, -4.20875 , -4.161875, -4.115   , -4.068125,\n       -4.02125 , -3.974375, -3.9275  , -3.880625, -3.83375 , -3.786875,\n       -3.74    , -3.693125, -3.64625 , -3.599375, -3.5525  , -3.505625,\n       -3.45875 , -3.411875, -3.365   , -3.318125, -3.27125 , -3.224375,\n       -3.1775  , -3.130625, -3.08375 , -3.036875, -2.99    , -2.943125,\n       -2.89625 , -2.849375, -2.8025  , -2.755625, -2.70875 , -2.661875,\n       -2.615   , -2.568125, -2.52125 , -2.474375, -2.4275  , -2.380625,\n       -2.33375 , -2.286875, -2.24    , -2.193125, -2.14625 , -2.099375,\n       -2.0525  , -2.005625, -1.95875 , -1.911875, -1.865   , -1.818125,\n       -1.77125 , -1.724375, -1.6775  , -1.630625, -1.58375 , -1.536875,\n       -1.49    , -1.443125, -1.39625 , -1.349375, -1.3025  , -1.255625,\n       -1.20875 , -1.161875, -1.115   , -1.068125, -1.02125 , -0.974375,\n       -0.9275  , -0.880625, -0.83375 , -0.786875, -0.74    , -0.693125,\n       -0.64625 , -0.599375, -0.5525  , -0.505625, -0.45875 , -0.411875,\n       -0.365   , -0.318125, -0.27125 , -0.224375, -0.1775  , -0.130625,\n       -0.08375 , -0.036875,  0.01    ,  0.056875,  0.10375 ,  0.150625,\n        0.1975  ,  0.244375,  0.29125 ,  0.338125,  0.385   ,  0.431875,\n        0.47875 ,  0.525625,  0.5725  ,  0.619375,  0.66625 ,  0.713125,\n        0.76    ,  0.806875,  0.85375 ,  0.900625,  0.9475  ,  0.994375,\n        1.04125 ,  1.088125,  1.135   ,  1.181875,  1.22875 ,  1.275625,\n        1.3225  ,  1.369375,  1.41625 ,  1.463125,  1.51    ,  1.556875,\n        1.60375 ,  1.650625,  1.6975  ,  1.744375,  1.79125 ,  1.838125,\n        1.885   ,  1.931875,  1.97875 ,  2.025625,  2.0725  ,  2.119375,\n        2.16625 ,  2.213125,  2.26    ,  2.306875,  2.35375 ,  2.400625,\n        2.4475  ,  2.494375,  2.54125 ,  2.588125,  2.635   ,  2.681875,\n        2.72875 ,  2.775625,  2.8225  ,  2.869375,  2.91625 ,  2.963125,\n        3.01    ,  3.056875,  3.10375 ,  3.150625,  3.1975  ,  3.244375,\n        3.29125 ,  3.338125,  3.385   ,  3.431875,  3.47875 ,  3.525625,\n        3.5725  ,  3.619375,  3.66625 ,  3.713125,  3.76    ,  3.806875,\n        3.85375 ,  3.900625,  3.9475  ,  3.994375,  4.04125 ,  4.088125,\n        4.135   ,  4.181875,  4.22875 ,  4.275625,  4.3225  ,  4.369375,\n        4.41625 ,  4.463125,  4.51    ,  4.556875,  4.60375 ,  4.650625,\n        4.6975  ,  4.744375,  4.79125 ,  4.838125,  4.885   ,  4.931875,\n        4.97875 ,  5.025625,  5.0725  ,  5.119375,  5.16625 ,  5.213125,\n        5.26    ,  5.306875,  5.35375 ,  5.400625,  5.4475  ,  5.494375,\n        5.54125 ,  5.588125,  5.635   ,  5.681875,  5.72875 ,  5.775625,\n        5.8225  ,  5.869375,  5.91625 ,  5.963125,  6.01    ]), '@type': 'rectangular'}(<class 'dict'>) to <class 'spdm.core.mesh.Mesh'>",
     "output_type": "error",
     "traceback": [
      "\u001b[0;31m---------------------------------------------------------------------------\u001b[0m",
      "\u001b[0;31mTypeError\u001b[0m                                 Traceback (most recent call last)",
      "File \u001b[0;32m~/workspace/fytok/SpDM/python/spdm/utils/typing.py:417\u001b[0m, in \u001b[0;36mtype_convert\u001b[0;34m(tp, value, *args, **kwargs)\u001b[0m\n\u001b[1;32m    416\u001b[0m \u001b[38;5;28;01mtry\u001b[39;00m:\n\u001b[0;32m--> 417\u001b[0m     value \u001b[38;5;241m=\u001b[39m \u001b[43mtp\u001b[49m\u001b[43m(\u001b[49m\u001b[43mvalue\u001b[49m\u001b[43m,\u001b[49m\u001b[43m \u001b[49m\u001b[38;5;241;43m*\u001b[39;49m\u001b[43margs\u001b[49m\u001b[43m,\u001b[49m\u001b[43m \u001b[49m\u001b[38;5;241;43m*\u001b[39;49m\u001b[38;5;241;43m*\u001b[39;49m\u001b[43mkwargs\u001b[49m\u001b[43m)\u001b[49m\n\u001b[1;32m    418\u001b[0m \u001b[38;5;28;01mexcept\u001b[39;00m \u001b[38;5;167;01mException\u001b[39;00m \u001b[38;5;28;01mas\u001b[39;00m error:\n",
      "File \u001b[0;32m~/workspace/fytok/SpDM/python/spdm/mesh/mesh_rectilinear.py:41\u001b[0m, in \u001b[0;36mRectilinearMesh.__init__\u001b[0;34m(self, *args, **kwargs)\u001b[0m\n\u001b[1;32m     39\u001b[0m \u001b[38;5;28msuper\u001b[39m()\u001b[38;5;241m.\u001b[39m\u001b[38;5;21m__init__\u001b[39m(\u001b[38;5;241m*\u001b[39margs, \u001b[38;5;241m*\u001b[39m\u001b[38;5;241m*\u001b[39mkwargs)\n\u001b[0;32m---> 41\u001b[0m \u001b[38;5;28;01massert\u001b[39;00m \u001b[38;5;28mall\u001b[39m([d\u001b[38;5;241m.\u001b[39mndim \u001b[38;5;241m==\u001b[39m \u001b[38;5;241m1\u001b[39m \u001b[38;5;28;01mfor\u001b[39;00m d \u001b[38;5;129;01min\u001b[39;00m \u001b[38;5;28mself\u001b[39m\u001b[38;5;241m.\u001b[39m_dims]), \u001b[38;5;124mf\u001b[39m\u001b[38;5;124m\"\u001b[39m\u001b[38;5;124mIllegal dims shape! \u001b[39m\u001b[38;5;132;01m{\u001b[39;00m\u001b[38;5;28mself\u001b[39m\u001b[38;5;241m.\u001b[39m_dims\u001b[38;5;132;01m}\u001b[39;00m\u001b[38;5;124m\"\u001b[39m\n\u001b[1;32m     42\u001b[0m \u001b[38;5;28;01massert\u001b[39;00m \u001b[38;5;28mall\u001b[39m(\n\u001b[1;32m     43\u001b[0m     [np\u001b[38;5;241m.\u001b[39mall(d[\u001b[38;5;241m1\u001b[39m:] \u001b[38;5;241m>\u001b[39m d[:\u001b[38;5;241m-\u001b[39m\u001b[38;5;241m1\u001b[39m]) \u001b[38;5;28;01mfor\u001b[39;00m d \u001b[38;5;129;01min\u001b[39;00m \u001b[38;5;28mself\u001b[39m\u001b[38;5;241m.\u001b[39m_dims]\n\u001b[1;32m     44\u001b[0m ), \u001b[38;5;124mf\u001b[39m\u001b[38;5;124m\"\u001b[39m\u001b[38;5;124m'\u001b[39m\u001b[38;5;124mdims\u001b[39m\u001b[38;5;124m'\u001b[39m\u001b[38;5;124m must be monotonically increasing.! \u001b[39m\u001b[38;5;132;01m{\u001b[39;00m\u001b[38;5;28mself\u001b[39m\u001b[38;5;241m.\u001b[39m_dims\u001b[38;5;132;01m}\u001b[39;00m\u001b[38;5;124m\"\u001b[39m\n",
      "\u001b[0;31mTypeError\u001b[0m: 'NoneType' object is not iterable",
      "\nThe above exception was the direct cause of the following exception:\n",
      "\u001b[0;31mTypeError\u001b[0m                                 Traceback (most recent call last)",
      "Cell \u001b[0;32mIn[4], line 1\u001b[0m\n\u001b[0;32m----> 1\u001b[0m \u001b[38;5;28mtype\u001b[39m(\u001b[43meq_profiles_2d\u001b[49m\u001b[38;5;241;43m.\u001b[39;49m\u001b[43mpsi\u001b[49m\u001b[38;5;241;43m.\u001b[39;49m\u001b[43mdomain\u001b[49m)\n",
      "File \u001b[0;32m~/workspace/fytok/SpDM/python/spdm/core/expression.py:169\u001b[0m, in \u001b[0;36mExpression.domain\u001b[0;34m(self)\u001b[0m\n\u001b[1;32m    167\u001b[0m domain_pth \u001b[38;5;241m=\u001b[39m \u001b[38;5;28mgetattr\u001b[39m(holder, \u001b[38;5;124m\"\u001b[39m\u001b[38;5;124m_metadata\u001b[39m\u001b[38;5;124m\"\u001b[39m, {})\u001b[38;5;241m.\u001b[39mget(\u001b[38;5;124m\"\u001b[39m\u001b[38;5;124mdomain\u001b[39m\u001b[38;5;124m\"\u001b[39m, \u001b[38;5;28;01mNone\u001b[39;00m)\n\u001b[1;32m    168\u001b[0m \u001b[38;5;28;01mif\u001b[39;00m domain_pth \u001b[38;5;129;01mis\u001b[39;00m \u001b[38;5;129;01mnot\u001b[39;00m \u001b[38;5;28;01mNone\u001b[39;00m:\n\u001b[0;32m--> 169\u001b[0m     domain \u001b[38;5;241m=\u001b[39m \u001b[43mPath\u001b[49m\u001b[43m(\u001b[49m\u001b[43mdomain_pth\u001b[49m\u001b[43m)\u001b[49m\u001b[38;5;241;43m.\u001b[39;49m\u001b[43mget\u001b[49m\u001b[43m(\u001b[49m\u001b[43mholder\u001b[49m\u001b[43m,\u001b[49m\u001b[43m \u001b[49m\u001b[43m_not_found_\u001b[49m\u001b[43m)\u001b[49m\n\u001b[1;32m    170\u001b[0m     \u001b[38;5;28;01mif\u001b[39;00m domain \u001b[38;5;129;01mis\u001b[39;00m \u001b[38;5;129;01mnot\u001b[39;00m _not_found_:\n\u001b[1;32m    171\u001b[0m         \u001b[38;5;28;01mbreak\u001b[39;00m\n",
      "File \u001b[0;32m~/workspace/fytok/SpDM/python/spdm/core/path.py:666\u001b[0m, in \u001b[0;36mPath.get\u001b[0;34m(self, source, default_value)\u001b[0m\n\u001b[1;32m    665\u001b[0m \u001b[38;5;28;01mdef\u001b[39;00m \u001b[38;5;21mget\u001b[39m(\u001b[38;5;28mself\u001b[39m, source: typing\u001b[38;5;241m.\u001b[39mAny, default_value\u001b[38;5;241m=\u001b[39m_not_found_):\n\u001b[0;32m--> 666\u001b[0m     \u001b[38;5;28;01mreturn\u001b[39;00m \u001b[38;5;28;43mself\u001b[39;49m\u001b[38;5;241;43m.\u001b[39;49m\u001b[43mfind\u001b[49m\u001b[43m(\u001b[49m\u001b[43msource\u001b[49m\u001b[43m,\u001b[49m\u001b[43m \u001b[49m\u001b[43mdefault_value\u001b[49m\u001b[38;5;241;43m=\u001b[39;49m\u001b[43mdefault_value\u001b[49m\u001b[43m)\u001b[49m\n",
      "File \u001b[0;32m~/workspace/fytok/SpDM/python/spdm/core/path.py:644\u001b[0m, in \u001b[0;36mPath.find\u001b[0;34m(self, source, *args, **kwargs)\u001b[0m\n\u001b[1;32m    639\u001b[0m \u001b[38;5;28;01mdef\u001b[39;00m \u001b[38;5;21mfind\u001b[39m(\u001b[38;5;28mself\u001b[39m, source: typing\u001b[38;5;241m.\u001b[39mAny, \u001b[38;5;241m*\u001b[39margs, \u001b[38;5;241m*\u001b[39m\u001b[38;5;241m*\u001b[39mkwargs) \u001b[38;5;241m-\u001b[39m\u001b[38;5;241m>\u001b[39m typing\u001b[38;5;241m.\u001b[39mAny:\n\u001b[1;32m    640\u001b[0m \u001b[38;5;250m    \u001b[39m\u001b[38;5;124;03m\"\"\"\u001b[39;00m\n\u001b[1;32m    641\u001b[0m \u001b[38;5;124;03m    根据路径（self）查询元素。只读，不会修改 target\u001b[39;00m\n\u001b[1;32m    642\u001b[0m \u001b[38;5;124;03m    对应 RESTful 中的 read，幂等操作\u001b[39;00m\n\u001b[1;32m    643\u001b[0m \u001b[38;5;124;03m    \"\"\"\u001b[39;00m\n\u001b[0;32m--> 644\u001b[0m     \u001b[38;5;28;01mreturn\u001b[39;00m \u001b[43mPath\u001b[49m\u001b[38;5;241;43m.\u001b[39;49m\u001b[43m_do_find\u001b[49m\u001b[43m(\u001b[49m\u001b[43msource\u001b[49m\u001b[43m,\u001b[49m\u001b[43m \u001b[49m\u001b[38;5;28;43mself\u001b[39;49m\u001b[43m[\u001b[49m\u001b[43m:\u001b[49m\u001b[43m]\u001b[49m\u001b[43m,\u001b[49m\u001b[43m \u001b[49m\u001b[38;5;241;43m*\u001b[39;49m\u001b[43margs\u001b[49m\u001b[43m,\u001b[49m\u001b[43m \u001b[49m\u001b[38;5;241;43m*\u001b[39;49m\u001b[38;5;241;43m*\u001b[39;49m\u001b[43mkwargs\u001b[49m\u001b[43m)\u001b[49m\n",
      "File \u001b[0;32m~/workspace/fytok/SpDM/python/spdm/core/path.py:995\u001b[0m, in \u001b[0;36mPath._do_find\u001b[0;34m(source, path, _op, default_value, *args, **kwargs)\u001b[0m\n\u001b[1;32m    989\u001b[0m \u001b[38;5;28;01mif\u001b[39;00m key \u001b[38;5;129;01mis\u001b[39;00m \u001b[38;5;28;01mNone\u001b[39;00m \u001b[38;5;129;01mor\u001b[39;00m key \u001b[38;5;129;01mis\u001b[39;00m Path\u001b[38;5;241m.\u001b[39mtags\u001b[38;5;241m.\u001b[39mcurrent \u001b[38;5;129;01mor\u001b[39;00m obj \u001b[38;5;129;01mis\u001b[39;00m _not_found_ \u001b[38;5;129;01mor\u001b[39;00m obj \u001b[38;5;129;01mis\u001b[39;00m \u001b[38;5;28;01mNone\u001b[39;00m:\n\u001b[1;32m    990\u001b[0m     \u001b[38;5;28;01mpass\u001b[39;00m\n\u001b[1;32m    992\u001b[0m \u001b[38;5;28;01melif\u001b[39;00m (\n\u001b[1;32m    993\u001b[0m     \u001b[38;5;28misinstance\u001b[39m(key, \u001b[38;5;28mstr\u001b[39m)\n\u001b[1;32m    994\u001b[0m     \u001b[38;5;129;01mand\u001b[39;00m key\u001b[38;5;241m.\u001b[39misidentifier()\n\u001b[0;32m--> 995\u001b[0m     \u001b[38;5;129;01mand\u001b[39;00m (attr \u001b[38;5;241m:=\u001b[39m \u001b[38;5;28mgetattr\u001b[39m(obj, key, _not_found_)) \u001b[38;5;129;01mis\u001b[39;00m \u001b[38;5;129;01mnot\u001b[39;00m _not_found_\n\u001b[1;32m    996\u001b[0m ):\n\u001b[1;32m    997\u001b[0m     obj \u001b[38;5;241m=\u001b[39m attr\n\u001b[1;32m    999\u001b[0m \u001b[38;5;28;01melif\u001b[39;00m \u001b[38;5;28mlen\u001b[39m(path) \u001b[38;5;241m>\u001b[39m \u001b[38;5;241m1\u001b[39m \u001b[38;5;129;01mand\u001b[39;00m path[\u001b[38;5;241m1\u001b[39m] \u001b[38;5;129;01mis\u001b[39;00m Path\u001b[38;5;241m.\u001b[39mtags\u001b[38;5;241m.\u001b[39mnext:\n",
      "File \u001b[0;32m~/workspace/fytok/SpDM/python/spdm/core/sp_property.py:341\u001b[0m, in \u001b[0;36mSpProperty.__get__\u001b[0;34m(self, instance, owner_cls)\u001b[0m\n\u001b[1;32m    333\u001b[0m     value \u001b[38;5;241m=\u001b[39m instance\u001b[38;5;241m.\u001b[39mget(\n\u001b[1;32m    334\u001b[0m         \u001b[38;5;28mself\u001b[39m\u001b[38;5;241m.\u001b[39malias,  \u001b[38;5;66;03m# alias 可以是路径\u001b[39;00m\n\u001b[1;32m    335\u001b[0m         _type_hint\u001b[38;5;241m=\u001b[39m\u001b[38;5;28mself\u001b[39m\u001b[38;5;241m.\u001b[39mtype_hint,\n\u001b[0;32m   (...)\u001b[0m\n\u001b[1;32m    338\u001b[0m         \u001b[38;5;241m*\u001b[39m\u001b[38;5;241m*\u001b[39m\u001b[38;5;28mself\u001b[39m\u001b[38;5;241m.\u001b[39mmetadata,\n\u001b[1;32m    339\u001b[0m     )\n\u001b[1;32m    340\u001b[0m \u001b[38;5;28;01melse\u001b[39;00m:\n\u001b[0;32m--> 341\u001b[0m     value \u001b[38;5;241m=\u001b[39m \u001b[43minstance\u001b[49m\u001b[38;5;241;43m.\u001b[39;49m\u001b[43m_find_\u001b[49m\u001b[43m(\u001b[49m\n\u001b[1;32m    342\u001b[0m \u001b[43m        \u001b[49m\u001b[38;5;28;43mself\u001b[39;49m\u001b[38;5;241;43m.\u001b[39;49m\u001b[43mproperty_name\u001b[49m\u001b[43m,\u001b[49m\n\u001b[1;32m    343\u001b[0m \u001b[43m        \u001b[49m\u001b[43m_type_hint\u001b[49m\u001b[38;5;241;43m=\u001b[39;49m\u001b[38;5;28;43mself\u001b[39;49m\u001b[38;5;241;43m.\u001b[39;49m\u001b[43mtype_hint\u001b[49m\u001b[43m,\u001b[49m\n\u001b[1;32m    344\u001b[0m \u001b[43m        \u001b[49m\u001b[43m_getter\u001b[49m\u001b[38;5;241;43m=\u001b[39;49m\u001b[38;5;28;43mself\u001b[39;49m\u001b[38;5;241;43m.\u001b[39;49m\u001b[43mgetter\u001b[49m\u001b[43m,\u001b[49m\n\u001b[1;32m    345\u001b[0m \u001b[43m        \u001b[49m\u001b[43mdefault_value\u001b[49m\u001b[38;5;241;43m=\u001b[39;49m\u001b[43mdeepcopy\u001b[49m\u001b[43m(\u001b[49m\u001b[38;5;28;43mself\u001b[39;49m\u001b[38;5;241;43m.\u001b[39;49m\u001b[43mdefault_value\u001b[49m\u001b[43m)\u001b[49m\u001b[43m,\u001b[49m\n\u001b[1;32m    346\u001b[0m \u001b[43m        \u001b[49m\u001b[38;5;241;43m*\u001b[39;49m\u001b[38;5;241;43m*\u001b[39;49m\u001b[38;5;28;43mself\u001b[39;49m\u001b[38;5;241;43m.\u001b[39;49m\u001b[43mmetadata\u001b[49m\u001b[43m,\u001b[49m\n\u001b[1;32m    347\u001b[0m \u001b[43m    \u001b[49m\u001b[43m)\u001b[49m\n\u001b[1;32m    349\u001b[0m \u001b[38;5;28;01mif\u001b[39;00m \u001b[38;5;28mself\u001b[39m\u001b[38;5;241m.\u001b[39mstrict \u001b[38;5;129;01mand\u001b[39;00m (value \u001b[38;5;129;01mis\u001b[39;00m _undefined_ \u001b[38;5;129;01mor\u001b[39;00m value \u001b[38;5;129;01mis\u001b[39;00m _not_found_):\n\u001b[1;32m    350\u001b[0m     \u001b[38;5;28;01mraise\u001b[39;00m \u001b[38;5;167;01mAttributeError\u001b[39;00m(\n\u001b[1;32m    351\u001b[0m         \u001b[38;5;124mf\u001b[39m\u001b[38;5;124m\"\u001b[39m\u001b[38;5;124mThe value of property \u001b[39m\u001b[38;5;124m'\u001b[39m\u001b[38;5;132;01m{\u001b[39;00mowner_cls\u001b[38;5;241m.\u001b[39m\u001b[38;5;18m__name__\u001b[39m\u001b[38;5;250m \u001b[39m\u001b[38;5;28;01mif\u001b[39;00m\u001b[38;5;250m \u001b[39mowner_cls\u001b[38;5;250m \u001b[39m\u001b[38;5;129;01mis\u001b[39;00m\u001b[38;5;250m \u001b[39m\u001b[38;5;129;01mnot\u001b[39;00m\u001b[38;5;250m \u001b[39m\u001b[38;5;28;01mNone\u001b[39;00m\u001b[38;5;250m \u001b[39m\u001b[38;5;28;01melse\u001b[39;00m\u001b[38;5;250m \u001b[39m\u001b[38;5;124m'\u001b[39m\u001b[38;5;124mnone\u001b[39m\u001b[38;5;124m'\u001b[39m\u001b[38;5;132;01m}\u001b[39;00m\u001b[38;5;124m.\u001b[39m\u001b[38;5;132;01m{\u001b[39;00m\u001b[38;5;28mself\u001b[39m\u001b[38;5;241m.\u001b[39mproperty_name\u001b[38;5;132;01m}\u001b[39;00m\u001b[38;5;124m'\u001b[39m\u001b[38;5;124m is not assigned!\u001b[39m\u001b[38;5;124m\"\u001b[39m\n\u001b[1;32m    352\u001b[0m     )\n",
      "File \u001b[0;32m~/workspace/fytok/SpDM/python/spdm/core/htree.py:465\u001b[0m, in \u001b[0;36mHTree._find_\u001b[0;34m(self, key, _getter, default_value, *args, **kwargs)\u001b[0m\n\u001b[1;32m    461\u001b[0m         value \u001b[38;5;241m=\u001b[39m _getter(\u001b[38;5;28mself\u001b[39m)\n\u001b[1;32m    463\u001b[0m _entry \u001b[38;5;241m=\u001b[39m \u001b[38;5;28mself\u001b[39m\u001b[38;5;241m.\u001b[39m_entry\u001b[38;5;241m.\u001b[39mchild(key) \u001b[38;5;28;01mif\u001b[39;00m \u001b[38;5;28mself\u001b[39m\u001b[38;5;241m.\u001b[39m_entry \u001b[38;5;129;01mis\u001b[39;00m \u001b[38;5;129;01mnot\u001b[39;00m \u001b[38;5;28;01mNone\u001b[39;00m \u001b[38;5;28;01melse\u001b[39;00m \u001b[38;5;28;01mNone\u001b[39;00m\n\u001b[0;32m--> 465\u001b[0m value \u001b[38;5;241m=\u001b[39m \u001b[38;5;28;43mself\u001b[39;49m\u001b[38;5;241;43m.\u001b[39;49m\u001b[43m_type_convert\u001b[49m\u001b[43m(\u001b[49m\u001b[43mvalue\u001b[49m\u001b[43m,\u001b[49m\u001b[43m \u001b[49m\u001b[43mkey\u001b[49m\u001b[43m,\u001b[49m\u001b[43m \u001b[49m\u001b[43m_entry\u001b[49m\u001b[38;5;241;43m=\u001b[39;49m\u001b[43m_entry\u001b[49m\u001b[43m,\u001b[49m\u001b[43m \u001b[49m\u001b[43mdefault_value\u001b[49m\u001b[38;5;241;43m=\u001b[39;49m\u001b[43mdefault_value\u001b[49m\u001b[43m,\u001b[49m\u001b[43m \u001b[49m\u001b[38;5;241;43m*\u001b[39;49m\u001b[38;5;241;43m*\u001b[39;49m\u001b[43mkwargs\u001b[49m\u001b[43m)\u001b[49m\n\u001b[1;32m    467\u001b[0m \u001b[38;5;28;01mif\u001b[39;00m key \u001b[38;5;129;01mis\u001b[39;00m \u001b[38;5;28;01mNone\u001b[39;00m \u001b[38;5;129;01mand\u001b[39;00m \u001b[38;5;28misinstance\u001b[39m(\u001b[38;5;28mself\u001b[39m\u001b[38;5;241m.\u001b[39m_cache, collections\u001b[38;5;241m.\u001b[39mabc\u001b[38;5;241m.\u001b[39mMutableSequence):\n\u001b[1;32m    468\u001b[0m     \u001b[38;5;28mself\u001b[39m\u001b[38;5;241m.\u001b[39m_cache\u001b[38;5;241m.\u001b[39mappend(value)\n",
      "File \u001b[0;32m~/workspace/fytok/SpDM/python/spdm/core/htree.py:550\u001b[0m, in \u001b[0;36mHTree._type_convert\u001b[0;34m(self, value, _key, default_value, _type_hint, _entry, _parent, **kwargs)\u001b[0m\n\u001b[1;32m    548\u001b[0m     value \u001b[38;5;241m=\u001b[39m _type_hint(value, _entry\u001b[38;5;241m=\u001b[39m_entry, _parent\u001b[38;5;241m=\u001b[39m_parent, \u001b[38;5;241m*\u001b[39m\u001b[38;5;241m*\u001b[39mkwargs)\n\u001b[1;32m    549\u001b[0m \u001b[38;5;28;01melse\u001b[39;00m:\n\u001b[0;32m--> 550\u001b[0m     value \u001b[38;5;241m=\u001b[39m \u001b[43mtype_convert\u001b[49m\u001b[43m(\u001b[49m\u001b[43m_type_hint\u001b[49m\u001b[43m,\u001b[49m\u001b[43m \u001b[49m\u001b[43mvalue\u001b[49m\u001b[43m,\u001b[49m\u001b[43m \u001b[49m\u001b[38;5;241;43m*\u001b[39;49m\u001b[38;5;241;43m*\u001b[39;49m\u001b[43mkwargs\u001b[49m\u001b[43m)\u001b[49m\n\u001b[1;32m    552\u001b[0m \u001b[38;5;28;01mif\u001b[39;00m \u001b[38;5;28misinstance\u001b[39m(value, HTreeNode):\n\u001b[1;32m    553\u001b[0m     \u001b[38;5;28;01mif\u001b[39;00m value\u001b[38;5;241m.\u001b[39m_parent \u001b[38;5;129;01mis\u001b[39;00m \u001b[38;5;28;01mNone\u001b[39;00m \u001b[38;5;129;01mand\u001b[39;00m _parent \u001b[38;5;129;01mis\u001b[39;00m \u001b[38;5;129;01mnot\u001b[39;00m _not_found_:\n",
      "File \u001b[0;32m~/workspace/fytok/SpDM/python/spdm/utils/typing.py:419\u001b[0m, in \u001b[0;36mtype_convert\u001b[0;34m(tp, value, *args, **kwargs)\u001b[0m\n\u001b[1;32m    417\u001b[0m         value \u001b[38;5;241m=\u001b[39m tp(value, \u001b[38;5;241m*\u001b[39margs, \u001b[38;5;241m*\u001b[39m\u001b[38;5;241m*\u001b[39mkwargs)\n\u001b[1;32m    418\u001b[0m     \u001b[38;5;28;01mexcept\u001b[39;00m \u001b[38;5;167;01mException\u001b[39;00m \u001b[38;5;28;01mas\u001b[39;00m error:\n\u001b[0;32m--> 419\u001b[0m         \u001b[38;5;28;01mraise\u001b[39;00m \u001b[38;5;167;01mTypeError\u001b[39;00m(\u001b[38;5;124mf\u001b[39m\u001b[38;5;124m\"\u001b[39m\u001b[38;5;124mCan not convert \u001b[39m\u001b[38;5;132;01m{\u001b[39;00mvalue\u001b[38;5;132;01m}\u001b[39;00m\u001b[38;5;124m(\u001b[39m\u001b[38;5;132;01m{\u001b[39;00m\u001b[38;5;28mtype\u001b[39m(value)\u001b[38;5;132;01m}\u001b[39;00m\u001b[38;5;124m) to \u001b[39m\u001b[38;5;132;01m{\u001b[39;00mtp\u001b[38;5;132;01m}\u001b[39;00m\u001b[38;5;124m\"\u001b[39m) \u001b[38;5;28;01mfrom\u001b[39;00m \u001b[38;5;21;01merror\u001b[39;00m\n\u001b[1;32m    421\u001b[0m \u001b[38;5;28;01mreturn\u001b[39;00m value\n",
      "\u001b[0;31mTypeError\u001b[0m: Can not convert {'dim1': array([ 3.       ,  3.0546875,  3.109375 ,  3.1640625,  3.21875  ,\n        3.2734375,  3.328125 ,  3.3828125,  3.4375   ,  3.4921875,\n        3.546875 ,  3.6015625,  3.65625  ,  3.7109375,  3.765625 ,\n        3.8203125,  3.875    ,  3.9296875,  3.984375 ,  4.0390625,\n        4.09375  ,  4.1484375,  4.203125 ,  4.2578125,  4.3125   ,\n        4.3671875,  4.421875 ,  4.4765625,  4.53125  ,  4.5859375,\n        4.640625 ,  4.6953125,  4.75     ,  4.8046875,  4.859375 ,\n        4.9140625,  4.96875  ,  5.0234375,  5.078125 ,  5.1328125,\n        5.1875   ,  5.2421875,  5.296875 ,  5.3515625,  5.40625  ,\n        5.4609375,  5.515625 ,  5.5703125,  5.625    ,  5.6796875,\n        5.734375 ,  5.7890625,  5.84375  ,  5.8984375,  5.953125 ,\n        6.0078125,  6.0625   ,  6.1171875,  6.171875 ,  6.2265625,\n        6.28125  ,  6.3359375,  6.390625 ,  6.4453125,  6.5      ,\n        6.5546875,  6.609375 ,  6.6640625,  6.71875  ,  6.7734375,\n        6.828125 ,  6.8828125,  6.9375   ,  6.9921875,  7.046875 ,\n        7.1015625,  7.15625  ,  7.2109375,  7.265625 ,  7.3203125,\n        7.375    ,  7.4296875,  7.484375 ,  7.5390625,  7.59375  ,\n        7.6484375,  7.703125 ,  7.7578125,  7.8125   ,  7.8671875,\n        7.921875 ,  7.9765625,  8.03125  ,  8.0859375,  8.140625 ,\n        8.1953125,  8.25     ,  8.3046875,  8.359375 ,  8.4140625,\n        8.46875  ,  8.5234375,  8.578125 ,  8.6328125,  8.6875   ,\n        8.7421875,  8.796875 ,  8.8515625,  8.90625  ,  8.9609375,\n        9.015625 ,  9.0703125,  9.125    ,  9.1796875,  9.234375 ,\n        9.2890625,  9.34375  ,  9.3984375,  9.453125 ,  9.5078125,\n        9.5625   ,  9.6171875,  9.671875 ,  9.7265625,  9.78125  ,\n        9.8359375,  9.890625 ,  9.9453125, 10.       ]), 'dim2': array([-5.99    , -5.943125, -5.89625 , -5.849375, -5.8025  , -5.755625,\n       -5.70875 , -5.661875, -5.615   , -5.568125, -5.52125 , -5.474375,\n       -5.4275  , -5.380625, -5.33375 , -5.286875, -5.24    , -5.193125,\n       -5.14625 , -5.099375, -5.0525  , -5.005625, -4.95875 , -4.911875,\n       -4.865   , -4.818125, -4.77125 , -4.724375, -4.6775  , -4.630625,\n       -4.58375 , -4.536875, -4.49    , -4.443125, -4.39625 , -4.349375,\n       -4.3025  , -4.255625, -4.20875 , -4.161875, -4.115   , -4.068125,\n       -4.02125 , -3.974375, -3.9275  , -3.880625, -3.83375 , -3.786875,\n       -3.74    , -3.693125, -3.64625 , -3.599375, -3.5525  , -3.505625,\n       -3.45875 , -3.411875, -3.365   , -3.318125, -3.27125 , -3.224375,\n       -3.1775  , -3.130625, -3.08375 , -3.036875, -2.99    , -2.943125,\n       -2.89625 , -2.849375, -2.8025  , -2.755625, -2.70875 , -2.661875,\n       -2.615   , -2.568125, -2.52125 , -2.474375, -2.4275  , -2.380625,\n       -2.33375 , -2.286875, -2.24    , -2.193125, -2.14625 , -2.099375,\n       -2.0525  , -2.005625, -1.95875 , -1.911875, -1.865   , -1.818125,\n       -1.77125 , -1.724375, -1.6775  , -1.630625, -1.58375 , -1.536875,\n       -1.49    , -1.443125, -1.39625 , -1.349375, -1.3025  , -1.255625,\n       -1.20875 , -1.161875, -1.115   , -1.068125, -1.02125 , -0.974375,\n       -0.9275  , -0.880625, -0.83375 , -0.786875, -0.74    , -0.693125,\n       -0.64625 , -0.599375, -0.5525  , -0.505625, -0.45875 , -0.411875,\n       -0.365   , -0.318125, -0.27125 , -0.224375, -0.1775  , -0.130625,\n       -0.08375 , -0.036875,  0.01    ,  0.056875,  0.10375 ,  0.150625,\n        0.1975  ,  0.244375,  0.29125 ,  0.338125,  0.385   ,  0.431875,\n        0.47875 ,  0.525625,  0.5725  ,  0.619375,  0.66625 ,  0.713125,\n        0.76    ,  0.806875,  0.85375 ,  0.900625,  0.9475  ,  0.994375,\n        1.04125 ,  1.088125,  1.135   ,  1.181875,  1.22875 ,  1.275625,\n        1.3225  ,  1.369375,  1.41625 ,  1.463125,  1.51    ,  1.556875,\n        1.60375 ,  1.650625,  1.6975  ,  1.744375,  1.79125 ,  1.838125,\n        1.885   ,  1.931875,  1.97875 ,  2.025625,  2.0725  ,  2.119375,\n        2.16625 ,  2.213125,  2.26    ,  2.306875,  2.35375 ,  2.400625,\n        2.4475  ,  2.494375,  2.54125 ,  2.588125,  2.635   ,  2.681875,\n        2.72875 ,  2.775625,  2.8225  ,  2.869375,  2.91625 ,  2.963125,\n        3.01    ,  3.056875,  3.10375 ,  3.150625,  3.1975  ,  3.244375,\n        3.29125 ,  3.338125,  3.385   ,  3.431875,  3.47875 ,  3.525625,\n        3.5725  ,  3.619375,  3.66625 ,  3.713125,  3.76    ,  3.806875,\n        3.85375 ,  3.900625,  3.9475  ,  3.994375,  4.04125 ,  4.088125,\n        4.135   ,  4.181875,  4.22875 ,  4.275625,  4.3225  ,  4.369375,\n        4.41625 ,  4.463125,  4.51    ,  4.556875,  4.60375 ,  4.650625,\n        4.6975  ,  4.744375,  4.79125 ,  4.838125,  4.885   ,  4.931875,\n        4.97875 ,  5.025625,  5.0725  ,  5.119375,  5.16625 ,  5.213125,\n        5.26    ,  5.306875,  5.35375 ,  5.400625,  5.4475  ,  5.494375,\n        5.54125 ,  5.588125,  5.635   ,  5.681875,  5.72875 ,  5.775625,\n        5.8225  ,  5.869375,  5.91625 ,  5.963125,  6.01    ]), '@type': 'rectangular'}(<class 'dict'>) to <class 'spdm.core.mesh.Mesh'>"
     ]
    }
   ],
   "source": [
    "type(eq_profiles_2d.psi.domain)"
   ]
  },
  {
   "cell_type": "code",
   "execution_count": null,
   "metadata": {},
   "outputs": [],
   "source": [
    "fig = sp_view.display(eq_profiles_2d.psi)"
   ]
  },
  {
   "cell_type": "code",
   "execution_count": null,
   "metadata": {},
   "outputs": [],
   "source": [
    "fig=sp_view.display(equilibrium)"
   ]
  },
  {
   "cell_type": "code",
   "execution_count": null,
   "metadata": {},
   "outputs": [],
   "source": [
    "\n"
   ]
  },
  {
   "cell_type": "code",
   "execution_count": null,
   "metadata": {},
   "outputs": [],
   "source": [
    "fig = sp_view.display(eq_profiles_2d.psi)"
   ]
  },
  {
   "cell_type": "code",
   "execution_count": null,
   "metadata": {},
   "outputs": [],
   "source": [
    "eq1d = equilibrium.time_slice.current.profiles_1d"
   ]
  },
  {
   "cell_type": "code",
   "execution_count": null,
   "metadata": {},
   "outputs": [],
   "source": [
    "eq1d.phi"
   ]
  },
  {
   "cell_type": "code",
   "execution_count": null,
   "metadata": {},
   "outputs": [],
   "source": [
    "R0 = equilibrium.time_slice.current.vacuum_toroidal_field.r0\n",
    "psi_axis = equilibrium.time_slice.current.global_quantities.psi_axis\n",
    "psi_boundary = equilibrium.time_slice.current.global_quantities.psi_boundary\n",
    "eq_profiles_1d = equilibrium.time_slice.current.profiles_1d\n",
    "\n",
    "fig = sp_view.plot(\n",
    "    eq_profiles_1d.psi_norm[1:],\n",
    "    (\n",
    "        [\n",
    "            (\n",
    "                Function(\n",
    "                    eqdsk_file.get(\"equilibrium/time_slice/0/profiles_1d/psi_norm\"),\n",
    "                    -eqdsk_file.get(\"equilibrium/time_slice/0/profiles_1d/f\"),\n",
    "                ),\n",
    "                {\"label\": r\"astra\", \"$matplotlib\": {\"linestyle\": \"dashed\"}},\n",
    "            ),\n",
    "            (eq_profiles_1d.f, \"f\"),\n",
    "        ],\n",
    "        {\"y_label\": r\"$f$\"},\n",
    "    ),\n",
    "    (\n",
    "        [\n",
    "            (\n",
    "                Function(astra_profiles[\"xq\"].values, astra_profiles[\"q\"].values)(eq_profiles_1d.rho_tor_norm),\n",
    "                {\"label\": r\"astra\", \"$matplotlib\": {\"linestyle\": \"dashed\"}},\n",
    "            ),\n",
    "            (eq_profiles_1d.q, {\"label\": r\"fytok\"}),\n",
    "        ],\n",
    "        {\"y_label\": r\"$q [-]$\"},\n",
    "    ),\n",
    "    (\n",
    "        [\n",
    "            (\n",
    "                Function(astra_profiles[\"Fp\"].values, astra_profiles[\"rho\"].values),\n",
    "                {\"label\": r\"astra\", \"$matplotlib\": {\"linestyle\": \"dashed\"}},\n",
    "            ),\n",
    "            (eq_profiles_1d.rho_tor),\n",
    "        ],\n",
    "        {\n",
    "            \"y_label\": r\"$\\rho_{tor}[m]$\",\n",
    "        },\n",
    "    ),\n",
    "    (\n",
    "        [\n",
    "            (\n",
    "                Function(astra_profiles[\"Fp\"].values, astra_profiles[\"x\"].values),\n",
    "                {\"label\": r\"astra\", \"$matplotlib\": {\"linestyle\": \"dashed\"}},\n",
    "            ),\n",
    "            (eq_profiles_1d.rho_tor_norm),\n",
    "        ],\n",
    "        {\n",
    "            \"y_label\": r\"$\\bar{\\rho}_{tor}[-]$\",\n",
    "        },\n",
    "    ),\n",
    "    (\n",
    "        [\n",
    "            Function(\n",
    "                astra_profiles[\"Fp\"].values,\n",
    "                4 * (scipy.constants.pi**2) * R0 * astra_profiles[\"rho\"].values,\n",
    "                label=r\"$4\\pi R_0 \\rho$\",\n",
    "            ),\n",
    "            (eq_profiles_1d.dvolume_drho_tor, {\"label\": r\"$\\frac{dV}{d\\bar{\\rho}}$\"}),\n",
    "            (\n",
    "                (scipy.constants.pi * 2.0) * eq_profiles_1d.dvolume_dpsi * eq_profiles_1d.dpsi_drho_tor,\n",
    "                r\"$\\frac{dV}{d\\psi} \\cdot \\frac{d\\psi}{d\\rho}$\",\n",
    "            ),\n",
    "        ],\n",
    "        {\"y_label\": r\"$[m^2]$\"},\n",
    "    ),\n",
    "    x_label=r\"$\\bar{\\rho}_{tor}$\",\n",
    ")"
   ]
  },
  {
   "cell_type": "code",
   "execution_count": null,
   "metadata": {},
   "outputs": [],
   "source": [
    "eq_profiles_1d = equilibrium.time_slice.current.profiles_1d\n",
    "fig = sp_view.plot(  # plot tokamak geometric profile\n",
    "    eq_profiles_1d.grid.psi_norm[1:],\n",
    "    (eq_profiles_1d.dvolume_dpsi, r\"$\\frac{dV}{d\\psi}$\"),\n",
    "    (eq_profiles_1d.dpsi_drho_tor, r\"$\\frac{d\\psi}{d\\rho_{tor}}$\"),\n",
    "    (eq_profiles_1d.f, {\"y_label\": r\"$F_{pol} [Wb\\cdot m]$\"}),\n",
    "    (eq_profiles_1d.q, {\"y_label\": r\"$q [-]$\"}),\n",
    "    ((eq_profiles_1d.rho_tor, r\"$\\rho$\"), {\"y_label\": r\"$\\rho_{tor}[m]$\"}),\n",
    "    ((eq_profiles_1d.rho_tor_norm, r\"$\\bar{\\rho}$\"), {\"y_label\": r\"[-]\"}),\n",
    "    ((eq_profiles_1d.dvolume_drho_tor, r\"$dV/d\\rho_{tor}$\"), {\"y_label\": r\"$4\\pi ^ 2 R_0 \\rho[m ^ 2]$\"}),\n",
    "    (eq_profiles_1d.gm1, r\"$gm1=\\left<\\frac{1}{R^2}\\right>$\"),\n",
    "    (eq_profiles_1d.gm2, r\"$gm2=\\left<\\frac{\\left|\\nabla \\rho\\right|^2}{R^2}\\right>$\"),\n",
    "    (eq_profiles_1d.gm3, r\"$gm3=\\left<\\left|\\nabla \\rho\\right|^2\\right>$\"),\n",
    "    (eq_profiles_1d.gm4, r\"$gm4=\\left<1/B^2\\right>$\"),\n",
    "    (eq_profiles_1d.gm5, r\"$gm5=\\left<B^2\\right>$\"),\n",
    "    (eq_profiles_1d.gm6, r\"$gm6=\\left<\\nabla \\rho_{tor}^2/ B^2 \\right>$\"),\n",
    "    (eq_profiles_1d.gm7, r\"$gm7=\\left<\\left|\\nabla \\rho\\right|\\right>$\"),\n",
    "    (eq_profiles_1d.gm8, r\"$gm8=\\left<R\\right>$\"),\n",
    "    x_label=r\"\\bar{\\psi}\",\n",
    ")"
   ]
  },
  {
   "cell_type": "code",
   "execution_count": null,
   "metadata": {},
   "outputs": [],
   "source": []
  }
 ],
 "metadata": {
  "kernelspec": {
   "display_name": "Python 3",
   "language": "python",
   "name": "python3"
  },
  "language_info": {
   "codemirror_mode": {
    "name": "ipython",
    "version": 3
   },
   "file_extension": ".py",
   "mimetype": "text/x-python",
   "name": "python",
   "nbconvert_exporter": "python",
   "pygments_lexer": "ipython3",
   "version": "3.11.3"
  }
 },
 "nbformat": 4,
 "nbformat_minor": 2
}
