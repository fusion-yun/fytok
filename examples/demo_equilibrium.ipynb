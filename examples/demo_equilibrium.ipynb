{
 "cells": [
  {
   "cell_type": "code",
   "execution_count": 1,
   "metadata": {},
   "outputs": [
    {
     "name": "stdout",
     "output_type": "stream",
     "text": [
      "\u001b[0;34m2024-01-07 13:12:07,208 [    spdm]     INFO: \n",
      "###################################################################################################\n",
      "\n",
      "    ______      _____     _\n",
      "   / ____/_  __|_   _|__ | | __\n",
      "  / /_  / / / /  | |/ _ \\| |/ /\n",
      " / __/ / /_/ /   | | (_) |   <\n",
      "/_/    \\__, /    |_|\\___/|_|\\_\\\n",
      "      /____/\n",
      "\n",
      " Copyright (c) 2021-present Zhi YU (Institute of Plasma Physics Chinese Academy of Sciences)\n",
      "            \n",
      " url: https://gitee.com/openfusion/fytok_tutorial \n",
      "      https://github.com/fusion-yun/fytok_tutorial\n",
      "\n",
      " version = alpha  (spdm=beta extension=0.2.2.dev19+g14adade.d20231205, imas_version=v3_38_1_dirty)\n",
      "\n",
      " Run by salmon at 2024-01-07T13:12:06.927208.\n",
      " Job ID: fytok_salmon_surface_32456\n",
      "\n",
      "###################################################################################################\n",
      "\u001b[0m\n"
     ]
    }
   ],
   "source": [
    "import pathlib\n",
    "import numpy as np\n",
    "from fytok.Tokamak import Tokamak\n",
    "from fytok.modules.Equilibrium import Equilibrium\n",
    "from fytok.utils.logger import logger\n",
    "from spdm.view.View import display\n",
    "from spdm.data.File import File\n",
    "from spdm.data.Path import Path\n",
    "from spdm.data.Entry import Entry\n",
    "from spdm.view import View as sp_view\n",
    "\n",
    "WORKSPACE = \"/home/salmon/workspace\"  # \"/ssd01/salmon_work/workspace/\"\n",
    "output_path = pathlib.Path(f\"{WORKSPACE}/output/\")"
   ]
  },
  {
   "cell_type": "code",
   "execution_count": 2,
   "metadata": {},
   "outputs": [
    {
     "name": "stdout",
     "output_type": "stream",
     "text": [
      "\u001b[0;34m2024-01-07 13:12:07,867 [    spdm]     INFO: Load module spdm.plugins.data.plugin_xml\u001b[0m\n",
      "\u001b[0;34m2024-01-07 13:12:08,139 [    spdm]     INFO: Load module spdm.plugins.data.plugin_iterprofiles\u001b[0m\n",
      "\u001b[0;34m2024-01-07 13:12:08,201 [    spdm]     INFO: Load module spdm.plugins.data.plugin_geqdsk\u001b[0m\n"
     ]
    }
   ],
   "source": [
    "input_path = pathlib.Path(\"/home/salmon/workspace/fytok_data/data/15MA inductive - burn\")\n",
    "# equilibrium = Equilibrium(f\"file+GEQdsk://{WORKSPACE}/gacode/neo/tools/input/profile_data/g141459.03890#equilibrium\")\n",
    "tok = Tokamak(\n",
    "    # \"file+geqdsk:///home/salmon/workspace/fytok_data/data/g070754.05000\",\n",
    "    f\"file+iterprofiles://{next(input_path.glob('*ASTRA.xls')).absolute().as_posix()}\",\n",
    "    f\"file+geqdsk://{next(input_path.glob('**/g*.txt')).absolute().as_posix()}\",\n",
    "    device=\"east\",\n",
    "    equilibrium={\"code\": {\"parameters\": {\"psi_norm\": np.linspace(0.01, 0.999, 128)}}},\n",
    ")"
   ]
  },
  {
   "cell_type": "code",
   "execution_count": 3,
   "metadata": {},
   "outputs": [
    {
     "name": "stdout",
     "output_type": "stream",
     "text": [
      "\u001b[0;34m2024-01-07 13:12:12,743 [    spdm]     INFO: Initialize module tags.not_found \u001b[0m\n",
      "\u001b[0;34m2024-01-07 13:12:12,971 [    spdm]     INFO: Load module fytok.plugins.equilibrium.fy_eq\u001b[0m\n",
      "\u001b[0;34m2024-01-07 13:12:12,974 [    spdm]     INFO: Initialize module fytok.plugins.equilibrium.fy_eq-FyTok \u001b[0m\n",
      "\u001b[0;33m2024-01-07 13:12:16,357 [    spdm]  WARNING: /home/salmon/workspace/fytok/python/fytok/plugins/equilibrium/fy_eq/fy_eq.py:130:__init__: Singular values are caused when psi_norm takes values of 0.0 or 1.0.! 0.0 1.0\u001b[0m\n"
     ]
    }
   ],
   "source": [
    "from spdm.data.Function import Function\n",
    "\n",
    "eqdsk_file = File(f\"file+geqdsk://{next(input_path.glob('**/g*.txt')).absolute().as_posix()}\").entry\n",
    "psi_axis = eqdsk_file.get(\"equilibrium/time_slice/0/global_quantities/psi_axis\")\n",
    "psi_boundary = eqdsk_file.get(\"equilibrium/time_slice/0/global_quantities/psi_boundary\")\n",
    "bs_eq_psi = eqdsk_file.get(\"equilibrium/time_slice/0/profiles_1d/psi\")\n",
    "bs_eq_psi_norm = (bs_eq_psi - psi_axis) / (psi_boundary - psi_axis)\n",
    "bs_eq_fpol = Function(bs_eq_psi_norm, eqdsk_file.get(\"equilibrium/time_slice/0/profiles_1d/f\"))\n",
    "\n",
    "\n",
    "core_profiles_1d = tok.core_profiles.time_slice.current.profiles_1d\n",
    "\n",
    "eq_1d = tok.equilibrium.time_slice.current.profiles_1d\n",
    "\n",
    "fig = sp_view.plot(\n",
    "    core_profiles_1d.grid.psi_norm,\n",
    "    (\n",
    "        [\n",
    "            (core_profiles_1d.grid.rho_tor_norm, \"astr\"),\n",
    "            (Function(eq_1d.grid.psi_norm, eq_1d.grid.rho_tor_norm), \"fytok\"),\n",
    "        ],\n",
    "        {\"y_label\": r\"$\\bar{\\rho}_{tor}[-]$\"},\n",
    "    ),\n",
    "    # (\n",
    "    #     [\n",
    "    #         (core_profiles_1d.rho_tor, \"astr\"),\n",
    "    #         # (eq_1d.rho_tor, \"fytok\"),\n",
    "    #     ],\n",
    "    #     {\"y_label\": r\"$\\rho_{tor}[m]$\"},\n",
    "    # ),\n",
    "    # (\n",
    "    #     [\n",
    "    #         (-bs_eq_fpol, \"astra\"),\n",
    "    #         (tok.equilibrium.time_slice.current.profiles_1d.f, r\"fytok\"),\n",
    "    #     ],\n",
    "    #     {\"y_label\": r\"$F_{pol} [Wb\\cdot m]$\"},\n",
    "    # ),\n",
    "    # (\n",
    "    #     [\n",
    "    #         (tok.core_profiles.time_slice.current.profiles_1d.find_cache(\"ffprime\"), \"astra\"),\n",
    "    #         (Function(bs_eq_psi_norm, eqdsk_file.get(\"equilibrium/time_slice/0/profiles_1d/f_df_dpsi\")), \"geqdsk\"),\n",
    "    #         (tok.equilibrium.time_slice.current.profiles_1d.f_df_dpsi, r\"fytok\"),\n",
    "    #     ],\n",
    "    #     {\"y_label\": r\"$\\frac{f df}{d\\psi} $\"},\n",
    "    # ),\n",
    "    # (\n",
    "    #     [\n",
    "    #         (\n",
    "    #             Function(\n",
    "    #                 core_profiles_1d.grid.psi_norm,\n",
    "    #                 core_profiles_1d[\"q\"],\n",
    "    #             ),\n",
    "    #             r\"astra\",\n",
    "    #         ),\n",
    "    #         (tok.equilibrium.time_slice.current.profiles_1d.q, {\"label\": r\"$fytok$\"}),\n",
    "    #     ],\n",
    "    #     {\"y_label\": r\"$q [-]$\"},\n",
    "    # ),\n",
    "    # (\n",
    "    #     [\n",
    "    #         (\n",
    "    #             function_like(4 * (scipy.constants.pi**2) * R0 * profiles[\"rho\"].values, bs_psi),\n",
    "    #             {\"label\": r\"$4\\pi^2 R_0 \\rho$\", **bs_line_style},\n",
    "    #         ),\n",
    "    #         (\n",
    "    #             eq_profiles_1d.dvolume_drho_tor,\n",
    "    #             {\n",
    "    #                 \"label\": r\"$dV/d\\rho_{tor}$\",\n",
    "    #             },\n",
    "    #         ),\n",
    "    #     ],\n",
    "    #     {\"y_label\": r\"$4\\pi ^ 2 R_0 \\rho[m ^ 2]$\"},\n",
    "    # ),\n",
    ")"
   ]
  },
  {
   "cell_type": "code",
   "execution_count": null,
   "metadata": {},
   "outputs": [],
   "source": [
    "core_profiles_1d.grid.rho_tor_norm.shape"
   ]
  },
  {
   "cell_type": "code",
   "execution_count": null,
   "metadata": {},
   "outputs": [],
   "source": [
    "core_profiles_1d.grid.rho_tor_norm.shape"
   ]
  },
  {
   "cell_type": "code",
   "execution_count": null,
   "metadata": {},
   "outputs": [],
   "source": [
    "eq_1d.grid.rho_tor_norm.shape"
   ]
  },
  {
   "cell_type": "code",
   "execution_count": null,
   "metadata": {},
   "outputs": [],
   "source": [
    "eq_profiles_1d = tok.equilibrium.time_slice.current.profiles_1d\n",
    "fig = sp_view.plot(  # plot tokamak geometric profile\n",
    "    eq_profiles_1d.grid.psi_norm,\n",
    "    (eq_profiles_1d.dvolume_dpsi, r\"$\\frac{dV}{d\\psi}$\"),\n",
    "    (eq_profiles_1d.dpsi_drho_tor, r\"$\\frac{d\\psi}{d\\rho_{tor}}$\"),\n",
    "    (eq_profiles_1d.f, {\"y_label\": r\"$F_{pol} [Wb\\cdot m]$\"}),\n",
    "    (eq_profiles_1d.q, {\"y_label\": r\"$q [-]$\"}),\n",
    "    ((eq_profiles_1d.rho_tor, r\"$\\rho$\"), {\"y_label\": r\"$\\rho_{tor}[m]$\"}),\n",
    "    ((eq_profiles_1d.rho_tor_norm, r\"$\\bar{\\rho}$\"), {\"y_label\": r\"[-]\"}),\n",
    "    ((eq_profiles_1d.dvolume_drho_tor, r\"$dV/d\\rho_{tor}$\"), {\"y_label\": r\"$4\\pi ^ 2 R_0 \\rho[m ^ 2]$\"}),\n",
    "    (eq_profiles_1d.gm1, r\"$gm1=\\left<\\frac{1}{R^2}\\right>$\"),\n",
    "    (eq_profiles_1d.gm2, r\"$gm2=\\left<\\frac{\\left|\\nabla \\rho\\right|^2}{R^2}\\right>$\"),\n",
    "    (eq_profiles_1d.gm3, r\"$gm3=\\left<\\left|\\nabla \\rho\\right|^2\\right>$\"),\n",
    "    (eq_profiles_1d.gm4, r\"$gm4=\\left<1/B^2\\right>$\"),\n",
    "    (eq_profiles_1d.gm5, r\"$gm5=\\left<B^2\\right>$\"),\n",
    "    (eq_profiles_1d.gm6, r\"$gm6=\\left<\\nabla \\rho_{tor}^2/ B^2 \\right>$\"),\n",
    "    (eq_profiles_1d.gm7, r\"$gm7=\\left<\\left|\\nabla \\rho\\right|\\right>$\"),\n",
    "    (eq_profiles_1d.gm8, r\"$gm8=\\left<R\\right>$\"),\n",
    ")"
   ]
  },
  {
   "cell_type": "code",
   "execution_count": null,
   "metadata": {},
   "outputs": [],
   "source": []
  }
 ],
 "metadata": {
  "kernelspec": {
   "display_name": "Python 3",
   "language": "python",
   "name": "python3"
  },
  "language_info": {
   "codemirror_mode": {
    "name": "ipython",
    "version": 3
   },
   "file_extension": ".py",
   "mimetype": "text/x-python",
   "name": "python",
   "nbconvert_exporter": "python",
   "pygments_lexer": "ipython3",
   "version": "3.10.12"
  }
 },
 "nbformat": 4,
 "nbformat_minor": 2
}
