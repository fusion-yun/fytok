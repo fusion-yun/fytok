{
 "cells": [
  {
   "cell_type": "code",
   "execution_count": 1,
   "metadata": {},
   "outputs": [
    {
     "name": "stdout",
     "output_type": "stream",
     "text": [
      "\u001b[0;34m2024-05-29 11:31:21,779 [    spdm]     INFO: \n",
      "###################################################################################################\n",
      "\n",
      "    ______      _____     _\n",
      "   / ____/_  __|_   _|__ | | __\n",
      "  / /_  / / / /  | |/ _ \\| |/ /\n",
      " / __/ / /_/ /   | | (_) |   <\n",
      "/_/    \\__, /    |_|\\___/|_|\\_\\\n",
      "      /____/\n",
      "\n",
      " Copyright (c) 2021-present Zhi YU @ Institute of Plasma Physics Chinese Academy of Sciences \n",
      "            \n",
      " version = 0.4.1  (spdm=beta extension=0.2.3.dev0+g2cc21ff.d20240223, imas_version=None)\n",
      "\n",
      " Run by salmon at 2024-05-29T11:31:21.779100.\n",
      " Job ID: fytok_salmon_surface_23698\n",
      "\n",
      "###################################################################################################\n",
      "\u001b[0m\n"
     ]
    }
   ],
   "source": [
    "import pathlib\n",
    "import pandas as pd\n",
    "import numpy as np\n",
    "import matplotlib.pyplot as plt\n",
    "import scipy.constants\n",
    "from fytok.modules.equilibrium import Equilibrium\n",
    "from spdm.core.file import File\n",
    "from spdm.core.function import Function\n",
    "from spdm.view import sp_view\n",
    "\n",
    "WORKSPACE = \"/home/salmon/workspace\"  # \"/ssd01/salmon_work/workspace/\"\n",
    "output_path = pathlib.Path(f\"{WORKSPACE}/output/\")"
   ]
  },
  {
   "cell_type": "code",
   "execution_count": 2,
   "metadata": {},
   "outputs": [
    {
     "name": "stdout",
     "output_type": "stream",
     "text": [
      "\u001b[0;34m2024-05-29 11:31:21,908 [    spdm]     INFO: Load module spdm.plugins.data.plugin_geqdsk\u001b[0m\n",
      "\u001b[0;34m2024-05-29 11:31:21,944 [    spdm]     INFO: Initialize module fytok.modules.equilibrium \u001b[0m\n"
     ]
    }
   ],
   "source": [
    "data_path = pathlib.Path(\"/home/salmon/workspace/fytok_data/data/15MA inductive - burn\")\n",
    "astra_profiles = pd.read_excel(\n",
    "    next(data_path.glob(\"*ASTRA.xls\")).absolute().as_posix(), sheet_name=1, header=10, usecols=\"B:BN\"\n",
    ")\n",
    "eqdsk_file = File(f\"file+geqdsk://{next(data_path.glob('**/g*.txt')).absolute().as_posix()}\", format=\"GEQdsk\").read()\n",
    "\n",
    "equilibrium = Equilibrium(\n",
    "    f\"file+geqdsk://{next(data_path.glob('**/g*.txt')).absolute().as_posix()}#equilibrium\",\n",
    "    # code={\"parameters\": {\"psi_norm\": np.linspace(0.01, 0.999, 128)}},\n",
    ")"
   ]
  },
  {
   "cell_type": "code",
   "execution_count": 3,
   "metadata": {},
   "outputs": [
    {
     "data": {
      "text/plain": [
       "fytok.modules.equilibrium.Equilibrium"
      ]
     },
     "execution_count": 3,
     "metadata": {},
     "output_type": "execute_result"
    }
   ],
   "source": [
    "type(equilibrium)"
   ]
  },
  {
   "cell_type": "code",
   "execution_count": 4,
   "metadata": {},
   "outputs": [
    {
     "ename": "AttributeError",
     "evalue": "'list' object has no attribute 'current'",
     "output_type": "error",
     "traceback": [
      "\u001b[0;31m---------------------------------------------------------------------------\u001b[0m",
      "\u001b[0;31mAttributeError\u001b[0m                            Traceback (most recent call last)",
      "Cell \u001b[0;32mIn[4], line 1\u001b[0m\n\u001b[0;32m----> 1\u001b[0m eq_profiles_2d \u001b[38;5;241m=\u001b[39m \u001b[43mequilibrium\u001b[49m\u001b[38;5;241;43m.\u001b[39;49m\u001b[43mtime_slice\u001b[49m\u001b[38;5;241;43m.\u001b[39;49m\u001b[43mcurrent\u001b[49m\u001b[38;5;241m.\u001b[39mprofiles_2d\n\u001b[1;32m      2\u001b[0m eq_profiles_1d \u001b[38;5;241m=\u001b[39m equilibrium\u001b[38;5;241m.\u001b[39mtime_slice\u001b[38;5;241m.\u001b[39mcurrent\u001b[38;5;241m.\u001b[39mprofiles_1d\n",
      "\u001b[0;31mAttributeError\u001b[0m: 'list' object has no attribute 'current'"
     ]
    }
   ],
   "source": [
    "eq_profiles_2d = equilibrium.time_slice.current.profiles_2d\n",
    "eq_profiles_1d = equilibrium.time_slice.current.profiles_1d\n"
   ]
  },
  {
   "cell_type": "code",
   "execution_count": null,
   "metadata": {},
   "outputs": [],
   "source": [
    "psi,surf=next(eq_profiles_2d._coord.find_surfaces(1.0))"
   ]
  },
  {
   "cell_type": "code",
   "execution_count": null,
   "metadata": {},
   "outputs": [],
   "source": [
    "surf"
   ]
  },
  {
   "cell_type": "code",
   "execution_count": null,
   "metadata": {},
   "outputs": [],
   "source": [
    "fig = sp_view.display(eq_profiles_2d.psi)"
   ]
  },
  {
   "cell_type": "code",
   "execution_count": null,
   "metadata": {},
   "outputs": [],
   "source": [
    "R0 = equilibrium.time_slice.current.vacuum_toroidal_field.r0\n",
    "psi_axis = equilibrium.time_slice.current.global_quantities.psi_axis\n",
    "psi_boundary = equilibrium.time_slice.current.global_quantities.psi_boundary\n",
    "eq_profiles_1d = equilibrium.time_slice.current.profiles_1d\n",
    "\n",
    "fig = sp_view.plot(\n",
    "    eq_profiles_1d.psi_norm[1:],\n",
    "    (\n",
    "        [\n",
    "            (\n",
    "                Function(\n",
    "                    eqdsk_file.get(\"equilibrium/time_slice/0/profiles_1d/psi_norm\"),\n",
    "                    -eqdsk_file.get(\"equilibrium/time_slice/0/profiles_1d/f\"),\n",
    "                ),\n",
    "                {\"label\": r\"astra\", \"$matplotlib\": {\"linestyle\": \"dashed\"}},\n",
    "            ),\n",
    "            (eq_profiles_1d.f, \"f\"),\n",
    "        ],\n",
    "        {\"y_label\": r\"$f$\"},\n",
    "    ),\n",
    "    (\n",
    "        [\n",
    "            (\n",
    "                Function(astra_profiles[\"xq\"].values, astra_profiles[\"q\"].values)(eq_profiles_1d.rho_tor_norm),\n",
    "                {\"label\": r\"astra\", \"$matplotlib\": {\"linestyle\": \"dashed\"}},\n",
    "            ),\n",
    "            (eq_profiles_1d.q, {\"label\": r\"fytok\"}),\n",
    "        ],\n",
    "        {\"y_label\": r\"$q [-]$\"},\n",
    "    ),\n",
    "    (\n",
    "        [\n",
    "            (\n",
    "                Function(astra_profiles[\"Fp\"].values, astra_profiles[\"rho\"].values),\n",
    "                {\"label\": r\"astra\", \"$matplotlib\": {\"linestyle\": \"dashed\"}},\n",
    "            ),\n",
    "            (eq_profiles_1d.rho_tor),\n",
    "        ],\n",
    "        {\n",
    "            \"y_label\": r\"$\\rho_{tor}[m]$\",\n",
    "        },\n",
    "    ),\n",
    "    (\n",
    "        [\n",
    "            (\n",
    "                Function(astra_profiles[\"Fp\"].values, astra_profiles[\"x\"].values),\n",
    "                {\"label\": r\"astra\", \"$matplotlib\": {\"linestyle\": \"dashed\"}},\n",
    "            ),\n",
    "            (eq_profiles_1d.rho_tor_norm),\n",
    "        ],\n",
    "        {\n",
    "            \"y_label\": r\"$\\bar{\\rho}_{tor}[-]$\",\n",
    "        },\n",
    "    ),\n",
    "    (\n",
    "        [\n",
    "            Function(\n",
    "                astra_profiles[\"Fp\"].values,\n",
    "                4 * (scipy.constants.pi**2) * R0 * astra_profiles[\"rho\"].values,\n",
    "                label=r\"$4\\pi R_0 \\rho$\",\n",
    "            ),\n",
    "            (eq_profiles_1d.dvolume_drho_tor, {\"label\": r\"$\\frac{dV}{d\\bar{\\rho}}$\"}),\n",
    "            (\n",
    "                (scipy.constants.pi * 2.0) * eq_profiles_1d.dvolume_dpsi * eq_profiles_1d.dpsi_drho_tor,\n",
    "                r\"$\\frac{dV}{d\\psi} \\cdot \\frac{d\\psi}{d\\rho}$\",\n",
    "            ),\n",
    "        ],\n",
    "        {\"y_label\": r\"$[m^2]$\"},\n",
    "    ),\n",
    "    x_label=r\"$\\bar{\\rho}_{tor}$\",\n",
    ")"
   ]
  },
  {
   "cell_type": "code",
   "execution_count": null,
   "metadata": {},
   "outputs": [],
   "source": [
    "eq_profiles_1d = equilibrium.time_slice.current.profiles_1d\n",
    "fig = sp_view.plot(  # plot tokamak geometric profile\n",
    "    eq_profiles_1d.grid.psi_norm[1:],\n",
    "    (eq_profiles_1d.dvolume_dpsi, r\"$\\frac{dV}{d\\psi}$\"),\n",
    "    (eq_profiles_1d.dpsi_drho_tor, r\"$\\frac{d\\psi}{d\\rho_{tor}}$\"),\n",
    "    (eq_profiles_1d.f, {\"y_label\": r\"$F_{pol} [Wb\\cdot m]$\"}),\n",
    "    (eq_profiles_1d.q, {\"y_label\": r\"$q [-]$\"}),\n",
    "    ((eq_profiles_1d.rho_tor, r\"$\\rho$\"), {\"y_label\": r\"$\\rho_{tor}[m]$\"}),\n",
    "    ((eq_profiles_1d.rho_tor_norm, r\"$\\bar{\\rho}$\"), {\"y_label\": r\"[-]\"}),\n",
    "    ((eq_profiles_1d.dvolume_drho_tor, r\"$dV/d\\rho_{tor}$\"), {\"y_label\": r\"$4\\pi ^ 2 R_0 \\rho[m ^ 2]$\"}),\n",
    "    (eq_profiles_1d.gm1, r\"$gm1=\\left<\\frac{1}{R^2}\\right>$\"),\n",
    "    (eq_profiles_1d.gm2, r\"$gm2=\\left<\\frac{\\left|\\nabla \\rho\\right|^2}{R^2}\\right>$\"),\n",
    "    (eq_profiles_1d.gm3, r\"$gm3=\\left<\\left|\\nabla \\rho\\right|^2\\right>$\"),\n",
    "    (eq_profiles_1d.gm4, r\"$gm4=\\left<1/B^2\\right>$\"),\n",
    "    (eq_profiles_1d.gm5, r\"$gm5=\\left<B^2\\right>$\"),\n",
    "    (eq_profiles_1d.gm6, r\"$gm6=\\left<\\nabla \\rho_{tor}^2/ B^2 \\right>$\"),\n",
    "    (eq_profiles_1d.gm7, r\"$gm7=\\left<\\left|\\nabla \\rho\\right|\\right>$\"),\n",
    "    (eq_profiles_1d.gm8, r\"$gm8=\\left<R\\right>$\"),\n",
    "    x_label=r\"\\bar{\\psi}\",\n",
    ")"
   ]
  },
  {
   "cell_type": "code",
   "execution_count": null,
   "metadata": {},
   "outputs": [],
   "source": [
    "fig=sp_view.display(equilibrium)"
   ]
  }
 ],
 "metadata": {
  "kernelspec": {
   "display_name": "Python 3",
   "language": "python",
   "name": "python3"
  },
  "language_info": {
   "codemirror_mode": {
    "name": "ipython",
    "version": 3
   },
   "file_extension": ".py",
   "mimetype": "text/x-python",
   "name": "python",
   "nbconvert_exporter": "python",
   "pygments_lexer": "ipython3",
   "version": "3.11.3"
  }
 },
 "nbformat": 4,
 "nbformat_minor": 2
}
