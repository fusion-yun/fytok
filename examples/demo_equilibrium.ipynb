{
 "cells": [
  {
   "cell_type": "code",
   "execution_count": 1,
   "metadata": {},
   "outputs": [
    {
     "name": "stdout",
     "output_type": "stream",
     "text": [
      "\u001b[0;34m2024-01-06 09:18:29,642 [    spdm]     INFO: \n",
      "###################################################################################################\n",
      "\n",
      "    ______      _____     _\n",
      "   / ____/_  __|_   _|__ | | __\n",
      "  / /_  / / / /  | |/ _ \\| |/ /\n",
      " / __/ / /_/ /   | | (_) |   <\n",
      "/_/    \\__, /    |_|\\___/|_|\\_\\\n",
      "      /____/\n",
      "\n",
      " Copyright (c) 2021-present Zhi YU (Institute of Plasma Physics Chinese Academy of Sciences)\n",
      "            \n",
      " url: https://gitee.com/openfusion/fytok_tutorial \n",
      "      https://github.com/fusion-yun/fytok_tutorial\n",
      "\n",
      " version = alpha  (spdm=beta extension=0.2.2.dev19+g14adade.d20231205, imas_version=v3_38_1_dirty)\n",
      "\n",
      " Run by salmon at 2024-01-06T09:18:29.280350.\n",
      " Job ID: fytok_salmon_surface_2976\n",
      "\n",
      "###################################################################################################\n",
      "\u001b[0m\n"
     ]
    }
   ],
   "source": [
    "import pathlib\n",
    "import numpy as np\n",
    "from fytok.Tokamak import Tokamak\n",
    "from fytok.modules.Equilibrium import Equilibrium\n",
    "from fytok.utils.logger import logger\n",
    "from spdm.view.View import display\n",
    "from spdm.data.File import File\n",
    "from spdm.data.Path import Path\n",
    "from spdm.data.Entry import Entry\n",
    "from spdm.view import View as sp_view\n",
    "\n",
    "WORKSPACE = \"/home/salmon/workspace\"  # \"/ssd01/salmon_work/workspace/\"\n",
    "output_path = pathlib.Path(f\"{WORKSPACE}/output/\")"
   ]
  },
  {
   "cell_type": "code",
   "execution_count": 2,
   "metadata": {},
   "outputs": [
    {
     "name": "stdout",
     "output_type": "stream",
     "text": [
      "\u001b[0;34m2024-01-06 09:18:30,029 [    spdm]     INFO: Load module spdm.plugins.data.plugin_xml\u001b[0m\n",
      "\u001b[0;34m2024-01-06 09:18:30,618 [    spdm]     INFO: Load module spdm.plugins.data.plugin_iterprofiles\u001b[0m\n",
      "\u001b[0;34m2024-01-06 09:18:30,709 [    spdm]     INFO: Load module spdm.plugins.data.plugin_geqdsk\u001b[0m\n"
     ]
    }
   ],
   "source": [
    "input_path = pathlib.Path(\"/home/salmon/workspace/fytok_data/data/15MA inductive - burn\")\n",
    "# equilibrium = Equilibrium(f\"file+GEQdsk://{WORKSPACE}/gacode/neo/tools/input/profile_data/g141459.03890#equilibrium\")\n",
    "tok = Tokamak(\n",
    "    # \"file+geqdsk:///home/salmon/workspace/fytok_data/data/g070754.05000\",\n",
    "    f\"file+iterprofiles://{next(input_path.glob('*ASTRA.xls')).absolute().as_posix()}\",\n",
    "    f\"file+geqdsk://{next(input_path.glob('**/g*.txt')).absolute().as_posix()}\",\n",
    "    device=\"east\",\n",
    "    equilibrium={\"code\": {\"parameters\": {\"psi_norm\": np.linspace(0.01, 0.999, 128)}}},\n",
    ")"
   ]
  },
  {
   "cell_type": "code",
   "execution_count": 3,
   "metadata": {},
   "outputs": [
    {
     "name": "stdout",
     "output_type": "stream",
     "text": [
      "\u001b[0;34m2024-01-06 09:18:30,791 [    spdm]     INFO: Initialize module fytok.modules.CoreProfiles \u001b[0m\n"
     ]
    },
    {
     "ename": "TypeError",
     "evalue": "unsupported operand type(s) for -: 'tags' and 'tags'",
     "output_type": "error",
     "traceback": [
      "\u001b[0;31m---------------------------------------------------------------------------\u001b[0m",
      "\u001b[0;31mTypeError\u001b[0m                                 Traceback (most recent call last)",
      "Cell \u001b[0;32mIn[3], line 11\u001b[0m\n\u001b[1;32m      7\u001b[0m bs_eq_psi_norm \u001b[38;5;241m=\u001b[39m (bs_eq_psi \u001b[38;5;241m-\u001b[39m psi_axis) \u001b[38;5;241m/\u001b[39m (psi_boundary \u001b[38;5;241m-\u001b[39m psi_axis)\n\u001b[1;32m      8\u001b[0m bs_eq_fpol \u001b[38;5;241m=\u001b[39m Function(bs_eq_psi_norm, eqdsk_file\u001b[38;5;241m.\u001b[39mget(\u001b[38;5;124m\"\u001b[39m\u001b[38;5;124mequilibrium/time_slice/0/profiles_1d/f\u001b[39m\u001b[38;5;124m\"\u001b[39m))\n\u001b[0;32m---> 11\u001b[0m core_profiles_1d \u001b[38;5;241m=\u001b[39m \u001b[43mtok\u001b[49m\u001b[38;5;241;43m.\u001b[39;49m\u001b[43mcore_profiles\u001b[49m\u001b[38;5;241;43m.\u001b[39;49m\u001b[43mtime_slice\u001b[49m\u001b[38;5;241;43m.\u001b[39;49m\u001b[43mcurrent\u001b[49m\u001b[38;5;241m.\u001b[39mprofiles_1d\n\u001b[1;32m     13\u001b[0m eq_1d \u001b[38;5;241m=\u001b[39m tok\u001b[38;5;241m.\u001b[39mequilibrium\u001b[38;5;241m.\u001b[39mtime_slice\u001b[38;5;241m.\u001b[39mcurrent\u001b[38;5;241m.\u001b[39mprofiles_1d\n\u001b[1;32m     15\u001b[0m fig \u001b[38;5;241m=\u001b[39m sp_view\u001b[38;5;241m.\u001b[39mplot(\n\u001b[1;32m     16\u001b[0m     core_profiles_1d\u001b[38;5;241m.\u001b[39mgrid\u001b[38;5;241m.\u001b[39mpsi_norm,\n\u001b[1;32m     17\u001b[0m     (\n\u001b[0;32m   (...)\u001b[0m\n\u001b[1;32m     73\u001b[0m     \u001b[38;5;66;03m# ),\u001b[39;00m\n\u001b[1;32m     74\u001b[0m )\n",
      "File \u001b[0;32m~/workspace/fytok/SpDM/python/spdm/data/TimeSeries.py:93\u001b[0m, in \u001b[0;36mTimeSeriesAoS.current\u001b[0;34m(self)\u001b[0m\n\u001b[1;32m     91\u001b[0m \u001b[38;5;129m@property\u001b[39m\n\u001b[1;32m     92\u001b[0m \u001b[38;5;28;01mdef\u001b[39;00m \u001b[38;5;21mcurrent\u001b[39m(\u001b[38;5;28mself\u001b[39m) \u001b[38;5;241m-\u001b[39m\u001b[38;5;241m>\u001b[39m _TSlice:\n\u001b[0;32m---> 93\u001b[0m     \u001b[38;5;28;01mreturn\u001b[39;00m \u001b[38;5;28;43mself\u001b[39;49m\u001b[38;5;241;43m.\u001b[39;49m\u001b[43m_find\u001b[49m\u001b[43m(\u001b[49m\u001b[38;5;241;43m0\u001b[39;49m\u001b[43m)\u001b[49m\n",
      "File \u001b[0;32m~/workspace/fytok/SpDM/python/spdm/data/TimeSeries.py:162\u001b[0m, in \u001b[0;36mTimeSeriesAoS._find\u001b[0;34m(self, idx, *args, **kwargs)\u001b[0m\n\u001b[1;32m    160\u001b[0m         entry_cursor \u001b[38;5;241m=\u001b[39m \u001b[38;5;241m0\u001b[39m\n\u001b[1;32m    161\u001b[0m         entry \u001b[38;5;241m=\u001b[39m \u001b[38;5;28;01mNone\u001b[39;00m\n\u001b[0;32m--> 162\u001b[0m     value \u001b[38;5;241m=\u001b[39m \u001b[38;5;28;43mself\u001b[39;49m\u001b[38;5;241;43m.\u001b[39;49m\u001b[43m_type_convert\u001b[49m\u001b[43m(\u001b[49m\u001b[43mvalue\u001b[49m\u001b[43m,\u001b[49m\u001b[43m \u001b[49m\u001b[43mcache_pos\u001b[49m\u001b[43m,\u001b[49m\u001b[43m \u001b[49m\u001b[43m_entry\u001b[49m\u001b[38;5;241;43m=\u001b[39;49m\u001b[43mentry\u001b[49m\u001b[43m,\u001b[49m\u001b[43m \u001b[49m\u001b[43m_parent\u001b[49m\u001b[38;5;241;43m=\u001b[39;49m\u001b[38;5;28;43mself\u001b[39;49m\u001b[38;5;241;43m.\u001b[39;49m\u001b[43m_parent\u001b[49m\u001b[43m)\u001b[49m\n\u001b[1;32m    164\u001b[0m \u001b[38;5;28;01mreturn\u001b[39;00m value\n",
      "File \u001b[0;32m~/workspace/fytok/SpDM/python/spdm/data/HTree.py:549\u001b[0m, in \u001b[0;36mHTree._type_convert\u001b[0;34m(self, value, _name, default_value, _type_hint, _entry, _parent, **kwargs)\u001b[0m\n\u001b[1;32m    541\u001b[0m         value \u001b[38;5;241m=\u001b[39m _type_hint(\n\u001b[1;32m    542\u001b[0m             default_value,\n\u001b[1;32m    543\u001b[0m             _entry\u001b[38;5;241m=\u001b[39m_entry,\n\u001b[1;32m    544\u001b[0m             _parent\u001b[38;5;241m=\u001b[39m_parent,\n\u001b[1;32m    545\u001b[0m             \u001b[38;5;241m*\u001b[39m\u001b[38;5;241m*\u001b[39mkwargs,\n\u001b[1;32m    546\u001b[0m         )\n\u001b[1;32m    548\u001b[0m     \u001b[38;5;28;01melse\u001b[39;00m:\n\u001b[0;32m--> 549\u001b[0m         value \u001b[38;5;241m=\u001b[39m \u001b[43m_type_hint\u001b[49m\u001b[43m(\u001b[49m\n\u001b[1;32m    550\u001b[0m \u001b[43m            \u001b[49m\u001b[43mvalue\u001b[49m\u001b[43m,\u001b[49m\n\u001b[1;32m    551\u001b[0m \u001b[43m            \u001b[49m\u001b[43m_entry\u001b[49m\u001b[38;5;241;43m=\u001b[39;49m\u001b[43m_entry\u001b[49m\u001b[43m,\u001b[49m\n\u001b[1;32m    552\u001b[0m \u001b[43m            \u001b[49m\u001b[43m_parent\u001b[49m\u001b[38;5;241;43m=\u001b[39;49m\u001b[43m_parent\u001b[49m\u001b[43m,\u001b[49m\n\u001b[1;32m    553\u001b[0m \u001b[43m            \u001b[49m\u001b[43mdefault_value\u001b[49m\u001b[38;5;241;43m=\u001b[39;49m\u001b[43mdefault_value\u001b[49m\u001b[43m,\u001b[49m\n\u001b[1;32m    554\u001b[0m \u001b[43m            \u001b[49m\u001b[38;5;241;43m*\u001b[39;49m\u001b[38;5;241;43m*\u001b[39;49m\u001b[43mkwargs\u001b[49m\u001b[43m,\u001b[49m\n\u001b[1;32m    555\u001b[0m \u001b[43m        \u001b[49m\u001b[43m)\u001b[49m\n\u001b[1;32m    557\u001b[0m \u001b[38;5;28;01mif\u001b[39;00m \u001b[38;5;28misinstance\u001b[39m(value, HTreeNode):\n\u001b[1;32m    558\u001b[0m     \u001b[38;5;28;01mif\u001b[39;00m value\u001b[38;5;241m.\u001b[39m_parent \u001b[38;5;129;01mis\u001b[39;00m \u001b[38;5;28;01mNone\u001b[39;00m:\n",
      "File \u001b[0;32m~/workspace/fytok/python/fytok/modules/CoreProfiles.py:408\u001b[0m, in \u001b[0;36mCoreProfilesTimeSlice.__init__\u001b[0;34m(self, *args, **kwargs)\u001b[0m\n\u001b[1;32m    404\u001b[0m         grid[\u001b[38;5;124m\"\u001b[39m\u001b[38;5;124mrho_tor_boundary\u001b[39m\u001b[38;5;124m\"\u001b[39m] \u001b[38;5;241m=\u001b[39m eq_grid\u001b[38;5;241m.\u001b[39mrho_tor_boundary\n\u001b[1;32m    406\u001b[0m     \u001b[38;5;28mself\u001b[39m[\u001b[38;5;124m\"\u001b[39m\u001b[38;5;124mprofiles_1d/grid\u001b[39m\u001b[38;5;124m\"\u001b[39m] \u001b[38;5;241m=\u001b[39m grid\n\u001b[0;32m--> 408\u001b[0m psi \u001b[38;5;241m=\u001b[39m \u001b[38;5;28;43mself\u001b[39;49m\u001b[38;5;241;43m.\u001b[39;49m\u001b[43mfind_cache\u001b[49m\u001b[43m(\u001b[49m\u001b[38;5;124;43m\"\u001b[39;49m\u001b[38;5;124;43mprofiles_1d/psi\u001b[39;49m\u001b[38;5;124;43m\"\u001b[39;49m\u001b[43m,\u001b[49m\u001b[43m \u001b[49m\u001b[43m_not_found_\u001b[49m\u001b[43m)\u001b[49m\n\u001b[1;32m    410\u001b[0m \u001b[38;5;28;01mif\u001b[39;00m psi \u001b[38;5;129;01mis\u001b[39;00m _not_found_:\n\u001b[1;32m    411\u001b[0m     \u001b[38;5;28mself\u001b[39m[\u001b[38;5;124m\"\u001b[39m\u001b[38;5;124mprofiles_1d/psi\u001b[39m\u001b[38;5;124m\"\u001b[39m] \u001b[38;5;241m=\u001b[39m psi\n",
      "File \u001b[0;32m~/workspace/fytok/SpDM/python/spdm/data/HTree.py:428\u001b[0m, in \u001b[0;36mHTree.find_cache\u001b[0;34m(self, path, default_value)\u001b[0m\n\u001b[1;32m    426\u001b[0m \u001b[38;5;28;01mdef\u001b[39;00m \u001b[38;5;21mfind_cache\u001b[39m(\u001b[38;5;28mself\u001b[39m, path, default_value: _T \u001b[38;5;241m=\u001b[39m _not_found_) \u001b[38;5;241m-\u001b[39m\u001b[38;5;241m>\u001b[39m _T:\n\u001b[1;32m    427\u001b[0m     path \u001b[38;5;241m=\u001b[39m as_path(path)\n\u001b[0;32m--> 428\u001b[0m     res \u001b[38;5;241m=\u001b[39m \u001b[43mpath\u001b[49m\u001b[38;5;241;43m.\u001b[39;49m\u001b[43mget\u001b[49m\u001b[43m(\u001b[49m\u001b[38;5;28;43mself\u001b[39;49m\u001b[38;5;241;43m.\u001b[39;49m\u001b[43m_cache\u001b[49m\u001b[43m,\u001b[49m\u001b[43m \u001b[49m\u001b[43m_not_found_\u001b[49m\u001b[43m)\u001b[49m\n\u001b[1;32m    430\u001b[0m     \u001b[38;5;28;01mif\u001b[39;00m res \u001b[38;5;129;01mis\u001b[39;00m _not_found_ \u001b[38;5;129;01mand\u001b[39;00m \u001b[38;5;28mself\u001b[39m\u001b[38;5;241m.\u001b[39m_entry \u001b[38;5;129;01mis\u001b[39;00m \u001b[38;5;129;01mnot\u001b[39;00m \u001b[38;5;28;01mNone\u001b[39;00m:\n\u001b[1;32m    431\u001b[0m         res \u001b[38;5;241m=\u001b[39m \u001b[38;5;28mself\u001b[39m\u001b[38;5;241m.\u001b[39m_entry\u001b[38;5;241m.\u001b[39mget(path, _not_found_)\n",
      "File \u001b[0;32m~/workspace/fytok/SpDM/python/spdm/data/Path.py:649\u001b[0m, in \u001b[0;36mPath.get\u001b[0;34m(self, source, default_value)\u001b[0m\n\u001b[1;32m    648\u001b[0m \u001b[38;5;28;01mdef\u001b[39;00m \u001b[38;5;21mget\u001b[39m(\u001b[38;5;28mself\u001b[39m, source: typing\u001b[38;5;241m.\u001b[39mAny, default_value\u001b[38;5;241m=\u001b[39m_not_found_):\n\u001b[0;32m--> 649\u001b[0m     \u001b[38;5;28;01mreturn\u001b[39;00m \u001b[38;5;28;43mself\u001b[39;49m\u001b[38;5;241;43m.\u001b[39;49m\u001b[43mfind\u001b[49m\u001b[43m(\u001b[49m\u001b[43msource\u001b[49m\u001b[43m,\u001b[49m\u001b[43m \u001b[49m\u001b[43mdefault_value\u001b[49m\u001b[38;5;241;43m=\u001b[39;49m\u001b[43mdefault_value\u001b[49m\u001b[43m)\u001b[49m\n",
      "File \u001b[0;32m~/workspace/fytok/SpDM/python/spdm/data/Path.py:630\u001b[0m, in \u001b[0;36mPath.find\u001b[0;34m(self, source, *args, **kwargs)\u001b[0m\n\u001b[1;32m    625\u001b[0m \u001b[38;5;28;01mdef\u001b[39;00m \u001b[38;5;21mfind\u001b[39m(\u001b[38;5;28mself\u001b[39m, source: typing\u001b[38;5;241m.\u001b[39mAny, \u001b[38;5;241m*\u001b[39margs, \u001b[38;5;241m*\u001b[39m\u001b[38;5;241m*\u001b[39mkwargs) \u001b[38;5;241m-\u001b[39m\u001b[38;5;241m>\u001b[39m typing\u001b[38;5;241m.\u001b[39mAny:\n\u001b[1;32m    626\u001b[0m \u001b[38;5;250m    \u001b[39m\u001b[38;5;124;03m\"\"\"\u001b[39;00m\n\u001b[1;32m    627\u001b[0m \u001b[38;5;124;03m    根据路径（self）查询元素。只读，不会修改 target\u001b[39;00m\n\u001b[1;32m    628\u001b[0m \u001b[38;5;124;03m    对应 RESTful 中的 read，幂等操作\u001b[39;00m\n\u001b[1;32m    629\u001b[0m \u001b[38;5;124;03m    \"\"\"\u001b[39;00m\n\u001b[0;32m--> 630\u001b[0m     \u001b[38;5;28;01mreturn\u001b[39;00m \u001b[43mPath\u001b[49m\u001b[38;5;241;43m.\u001b[39;49m\u001b[43m_do_find\u001b[49m\u001b[43m(\u001b[49m\u001b[43msource\u001b[49m\u001b[43m,\u001b[49m\u001b[43m \u001b[49m\u001b[38;5;28;43mself\u001b[39;49m\u001b[43m[\u001b[49m\u001b[43m:\u001b[49m\u001b[43m]\u001b[49m\u001b[43m,\u001b[49m\u001b[43m \u001b[49m\u001b[38;5;241;43m*\u001b[39;49m\u001b[43margs\u001b[49m\u001b[43m,\u001b[49m\u001b[43m \u001b[49m\u001b[38;5;241;43m*\u001b[39;49m\u001b[38;5;241;43m*\u001b[39;49m\u001b[43mkwargs\u001b[49m\u001b[43m)\u001b[49m\n",
      "File \u001b[0;32m~/workspace/fytok/SpDM/python/spdm/data/Path.py:905\u001b[0m, in \u001b[0;36mPath._do_find\u001b[0;34m(source, path, *args, **kwargs)\u001b[0m\n\u001b[1;32m    902\u001b[0m     res \u001b[38;5;241m=\u001b[39m Path\u001b[38;5;241m.\u001b[39m_do_find(\u001b[38;5;28mgetattr\u001b[39m(source, key), path[\u001b[38;5;241m1\u001b[39m:], \u001b[38;5;241m*\u001b[39margs, \u001b[38;5;241m*\u001b[39m\u001b[38;5;241m*\u001b[39mkwargs)\n\u001b[1;32m    904\u001b[0m \u001b[38;5;28;01melif\u001b[39;00m \u001b[38;5;28misinstance\u001b[39m(source, collections\u001b[38;5;241m.\u001b[39mabc\u001b[38;5;241m.\u001b[39mMapping):\n\u001b[0;32m--> 905\u001b[0m     res \u001b[38;5;241m=\u001b[39m \u001b[43mPath\u001b[49m\u001b[38;5;241;43m.\u001b[39;49m\u001b[43m_do_find\u001b[49m\u001b[43m(\u001b[49m\u001b[43msource\u001b[49m\u001b[38;5;241;43m.\u001b[39;49m\u001b[43mget\u001b[49m\u001b[43m(\u001b[49m\u001b[43mkey\u001b[49m\u001b[43m,\u001b[49m\u001b[43m \u001b[49m\u001b[43m_not_found_\u001b[49m\u001b[43m)\u001b[49m\u001b[43m,\u001b[49m\u001b[43m \u001b[49m\u001b[43mpath\u001b[49m\u001b[43m[\u001b[49m\u001b[38;5;241;43m1\u001b[39;49m\u001b[43m:\u001b[49m\u001b[43m]\u001b[49m\u001b[43m,\u001b[49m\u001b[43m \u001b[49m\u001b[38;5;241;43m*\u001b[39;49m\u001b[43margs\u001b[49m\u001b[43m,\u001b[49m\u001b[43m \u001b[49m\u001b[38;5;241;43m*\u001b[39;49m\u001b[38;5;241;43m*\u001b[39;49m\u001b[43mkwargs\u001b[49m\u001b[43m)\u001b[49m\n\u001b[1;32m    907\u001b[0m \u001b[38;5;28;01melif\u001b[39;00m \u001b[38;5;28misinstance\u001b[39m(source, collections\u001b[38;5;241m.\u001b[39mabc\u001b[38;5;241m.\u001b[39mSequence) \u001b[38;5;129;01mand\u001b[39;00m \u001b[38;5;129;01mnot\u001b[39;00m \u001b[38;5;28misinstance\u001b[39m(source, \u001b[38;5;28mstr\u001b[39m):\n\u001b[1;32m    908\u001b[0m     \u001b[38;5;28;01mif\u001b[39;00m \u001b[38;5;28misinstance\u001b[39m(key, \u001b[38;5;28mint\u001b[39m):\n",
      "File \u001b[0;32m~/workspace/fytok/SpDM/python/spdm/data/Path.py:901\u001b[0m, in \u001b[0;36mPath._do_find\u001b[0;34m(source, path, *args, **kwargs)\u001b[0m\n\u001b[1;32m    898\u001b[0m     \u001b[38;5;28;01melse\u001b[39;00m:\n\u001b[1;32m    899\u001b[0m         res \u001b[38;5;241m=\u001b[39m []\n\u001b[0;32m--> 901\u001b[0m \u001b[38;5;28;01melif\u001b[39;00m \u001b[38;5;28misinstance\u001b[39m(key, \u001b[38;5;28mstr\u001b[39m) \u001b[38;5;129;01mand\u001b[39;00m key\u001b[38;5;241m.\u001b[39misidentifier() \u001b[38;5;129;01mand\u001b[39;00m \u001b[38;5;28;43mhasattr\u001b[39;49m\u001b[43m(\u001b[49m\u001b[43msource\u001b[49m\u001b[43m,\u001b[49m\u001b[43m \u001b[49m\u001b[43mkey\u001b[49m\u001b[43m)\u001b[49m:\n\u001b[1;32m    902\u001b[0m     res \u001b[38;5;241m=\u001b[39m Path\u001b[38;5;241m.\u001b[39m_do_find(\u001b[38;5;28mgetattr\u001b[39m(source, key), path[\u001b[38;5;241m1\u001b[39m:], \u001b[38;5;241m*\u001b[39margs, \u001b[38;5;241m*\u001b[39m\u001b[38;5;241m*\u001b[39mkwargs)\n\u001b[1;32m    904\u001b[0m \u001b[38;5;28;01melif\u001b[39;00m \u001b[38;5;28misinstance\u001b[39m(source, collections\u001b[38;5;241m.\u001b[39mabc\u001b[38;5;241m.\u001b[39mMapping):\n",
      "File \u001b[0;32m~/workspace/fytok/SpDM/python/spdm/data/sp_property.py:272\u001b[0m, in \u001b[0;36mSpProperty.__get__\u001b[0;34m(self, instance, owner_cls)\u001b[0m\n\u001b[1;32m    269\u001b[0m property_name \u001b[38;5;241m=\u001b[39m \u001b[38;5;28mself\u001b[39m\u001b[38;5;241m.\u001b[39mmetadata\u001b[38;5;241m.\u001b[39mget(\u001b[38;5;124m\"\u001b[39m\u001b[38;5;124malias\u001b[39m\u001b[38;5;124m\"\u001b[39m, \u001b[38;5;28mself\u001b[39m\u001b[38;5;241m.\u001b[39mproperty_name)\n\u001b[1;32m    271\u001b[0m \u001b[38;5;28;01mwith\u001b[39;00m \u001b[38;5;28mself\u001b[39m\u001b[38;5;241m.\u001b[39mlock:\n\u001b[0;32m--> 272\u001b[0m     value \u001b[38;5;241m=\u001b[39m \u001b[43minstance\u001b[49m\u001b[38;5;241;43m.\u001b[39;49m\u001b[43m__get_property__\u001b[49m\u001b[43m(\u001b[49m\n\u001b[1;32m    273\u001b[0m \u001b[43m        \u001b[49m\u001b[43mproperty_name\u001b[49m\u001b[43m,\u001b[49m\n\u001b[1;32m    274\u001b[0m \u001b[43m        \u001b[49m\u001b[43m_type_hint\u001b[49m\u001b[38;5;241;43m=\u001b[39;49m\u001b[38;5;28;43mself\u001b[39;49m\u001b[38;5;241;43m.\u001b[39;49m\u001b[43mtype_hint\u001b[49m\u001b[43m,\u001b[49m\n\u001b[1;32m    275\u001b[0m \u001b[43m        \u001b[49m\u001b[43m_getter\u001b[49m\u001b[38;5;241;43m=\u001b[39;49m\u001b[38;5;28;43mself\u001b[39;49m\u001b[38;5;241;43m.\u001b[39;49m\u001b[43mgetter\u001b[49m\u001b[43m,\u001b[49m\n\u001b[1;32m    276\u001b[0m \u001b[43m        \u001b[49m\u001b[38;5;241;43m*\u001b[39;49m\u001b[38;5;241;43m*\u001b[39;49m\u001b[38;5;28;43mself\u001b[39;49m\u001b[38;5;241;43m.\u001b[39;49m\u001b[43mmetadata\u001b[49m\u001b[43m,\u001b[49m\n\u001b[1;32m    277\u001b[0m \u001b[43m    \u001b[49m\u001b[43m)\u001b[49m\n\u001b[1;32m    279\u001b[0m     \u001b[38;5;28;01mif\u001b[39;00m value \u001b[38;5;129;01mis\u001b[39;00m _not_found_ \u001b[38;5;129;01mand\u001b[39;00m property_name \u001b[38;5;241m!=\u001b[39m \u001b[38;5;28mself\u001b[39m\u001b[38;5;241m.\u001b[39mproperty_name:\n\u001b[1;32m    280\u001b[0m         value \u001b[38;5;241m=\u001b[39m instance\u001b[38;5;241m.\u001b[39m__get_property__(\n\u001b[1;32m    281\u001b[0m             \u001b[38;5;28mself\u001b[39m\u001b[38;5;241m.\u001b[39mproperty_name,\n\u001b[1;32m    282\u001b[0m             _type_hint\u001b[38;5;241m=\u001b[39m\u001b[38;5;28mself\u001b[39m\u001b[38;5;241m.\u001b[39mtype_hint,\n\u001b[1;32m    283\u001b[0m             _getter\u001b[38;5;241m=\u001b[39m\u001b[38;5;28mself\u001b[39m\u001b[38;5;241m.\u001b[39mgetter,\n\u001b[1;32m    284\u001b[0m             \u001b[38;5;241m*\u001b[39m\u001b[38;5;241m*\u001b[39m\u001b[38;5;28mself\u001b[39m\u001b[38;5;241m.\u001b[39mmetadata,\n\u001b[1;32m    285\u001b[0m         )\n",
      "File \u001b[0;32m~/workspace/fytok/SpDM/python/spdm/data/sp_property.py:66\u001b[0m, in \u001b[0;36mSpTree.__get_property__\u001b[0;34m(self, _name, *args, **kwargs)\u001b[0m\n\u001b[1;32m     65\u001b[0m \u001b[38;5;28;01mdef\u001b[39;00m \u001b[38;5;21m__get_property__\u001b[39m(\u001b[38;5;28mself\u001b[39m, _name: \u001b[38;5;28mstr\u001b[39m, \u001b[38;5;241m*\u001b[39margs, \u001b[38;5;241m*\u001b[39m\u001b[38;5;241m*\u001b[39mkwargs) \u001b[38;5;241m-\u001b[39m\u001b[38;5;241m>\u001b[39m SpTree:\n\u001b[0;32m---> 66\u001b[0m     \u001b[38;5;28;01mreturn\u001b[39;00m \u001b[38;5;28;43mself\u001b[39;49m\u001b[38;5;241;43m.\u001b[39;49m\u001b[43m_find\u001b[49m\u001b[43m(\u001b[49m\u001b[43m_name\u001b[49m\u001b[43m,\u001b[49m\u001b[43m \u001b[49m\u001b[38;5;241;43m*\u001b[39;49m\u001b[43margs\u001b[49m\u001b[43m,\u001b[49m\u001b[43m \u001b[49m\u001b[38;5;241;43m*\u001b[39;49m\u001b[38;5;241;43m*\u001b[39;49m\u001b[43mkwargs\u001b[49m\u001b[43m)\u001b[49m\n",
      "File \u001b[0;32m~/workspace/fytok/SpDM/python/spdm/data/HTree.py:620\u001b[0m, in \u001b[0;36mHTree._find\u001b[0;34m(self, _name, default_value, _getter, *args, **kwargs)\u001b[0m\n\u001b[1;32m    618\u001b[0m         value \u001b[38;5;241m=\u001b[39m _getter(\u001b[38;5;28mself\u001b[39m, _name, \u001b[38;5;241m*\u001b[39margs)\n\u001b[1;32m    619\u001b[0m     \u001b[38;5;28;01melse\u001b[39;00m:\n\u001b[0;32m--> 620\u001b[0m         value \u001b[38;5;241m=\u001b[39m \u001b[43m_getter\u001b[49m\u001b[43m(\u001b[49m\u001b[38;5;28;43mself\u001b[39;49m\u001b[43m)\u001b[49m\n\u001b[1;32m    622\u001b[0m \u001b[38;5;28;01mif\u001b[39;00m \u001b[38;5;28mlen\u001b[39m(args) \u001b[38;5;241m>\u001b[39m \u001b[38;5;241m0\u001b[39m:\n\u001b[1;32m    623\u001b[0m     \u001b[38;5;66;03m# args >0 意为包含 op ，直接返回结果，不进行类型转换\u001b[39;00m\n\u001b[1;32m    624\u001b[0m     \u001b[38;5;28;01mif\u001b[39;00m value \u001b[38;5;129;01mis\u001b[39;00m \u001b[38;5;129;01mnot\u001b[39;00m _not_found_:\n",
      "File \u001b[0;32m~/workspace/fytok/python/fytok/modules/CoreProfiles.py:183\u001b[0m, in \u001b[0;36mCoreProfiles1D.psi\u001b[0;34m(self)\u001b[0m\n\u001b[1;32m    181\u001b[0m \u001b[38;5;129m@sp_property\u001b[39m(label\u001b[38;5;241m=\u001b[39m\u001b[38;5;124mr\u001b[39m\u001b[38;5;124m\"\u001b[39m\u001b[38;5;124m\\\u001b[39m\u001b[38;5;124mpsi\u001b[39m\u001b[38;5;124m\"\u001b[39m, units\u001b[38;5;241m=\u001b[39m\u001b[38;5;124m\"\u001b[39m\u001b[38;5;124mWb\u001b[39m\u001b[38;5;124m\"\u001b[39m)\n\u001b[1;32m    182\u001b[0m \u001b[38;5;28;01mdef\u001b[39;00m \u001b[38;5;21mpsi\u001b[39m(\u001b[38;5;28mself\u001b[39m) \u001b[38;5;241m-\u001b[39m\u001b[38;5;241m>\u001b[39m Expression:\n\u001b[0;32m--> 183\u001b[0m     \u001b[38;5;28;01mreturn\u001b[39;00m (\u001b[38;5;28mself\u001b[39m\u001b[38;5;241m.\u001b[39mpsi_norm) \u001b[38;5;241m*\u001b[39m (\u001b[38;5;28;43mself\u001b[39;49m\u001b[38;5;241;43m.\u001b[39;49m\u001b[43mgrid\u001b[49m\u001b[38;5;241;43m.\u001b[39;49m\u001b[43mpsi_boundary\u001b[49m\u001b[43m \u001b[49m\u001b[38;5;241;43m-\u001b[39;49m\u001b[43m \u001b[49m\u001b[38;5;28;43mself\u001b[39;49m\u001b[38;5;241;43m.\u001b[39;49m\u001b[43mgrid\u001b[49m\u001b[38;5;241;43m.\u001b[39;49m\u001b[43mpsi_axis\u001b[49m) \u001b[38;5;241m+\u001b[39m \u001b[38;5;28mself\u001b[39m\u001b[38;5;241m.\u001b[39mgrid\u001b[38;5;241m.\u001b[39mpsi_axis\n",
      "\u001b[0;31mTypeError\u001b[0m: unsupported operand type(s) for -: 'tags' and 'tags'"
     ]
    }
   ],
   "source": [
    "from spdm.data.Function import Function\n",
    "\n",
    "eqdsk_file = File(f\"file+geqdsk://{next(input_path.glob('**/g*.txt')).absolute().as_posix()}\").entry\n",
    "psi_axis = eqdsk_file.get(\"equilibrium/time_slice/0/global_quantities/psi_axis\")\n",
    "psi_boundary = eqdsk_file.get(\"equilibrium/time_slice/0/global_quantities/psi_boundary\")\n",
    "bs_eq_psi = eqdsk_file.get(\"equilibrium/time_slice/0/profiles_1d/psi\")\n",
    "bs_eq_psi_norm = (bs_eq_psi - psi_axis) / (psi_boundary - psi_axis)\n",
    "bs_eq_fpol = Function(bs_eq_psi_norm, eqdsk_file.get(\"equilibrium/time_slice/0/profiles_1d/f\"))\n",
    "\n",
    "\n",
    "core_profiles_1d = tok.core_profiles.time_slice.current.profiles_1d\n",
    "\n",
    "eq_1d = tok.equilibrium.time_slice.current.profiles_1d\n",
    "\n",
    "fig = sp_view.plot(\n",
    "    core_profiles_1d.grid.psi_norm,\n",
    "    (\n",
    "        [\n",
    "            (core_profiles_1d.grid.rho_tor_norm, \"astr\"),\n",
    "            (Function(eq_1d.grid.psi_norm, eq_1d.grid.rho_tor_norm), \"fytok\"),\n",
    "        ],\n",
    "        {\"y_label\": r\"$\\bar{\\rho}_{tor}[-]$\"},\n",
    "    ),\n",
    "    (\n",
    "        [\n",
    "            (tok.core_profiles.time_slice.current.profiles_1d[\"rho_tor\"], \"astr\"),\n",
    "            (tok.equilibrium.time_slice.current.profiles_1d.rho_tor, \"fytok\"),\n",
    "        ],\n",
    "        {\"y_label\": r\"$\\rho_{tor}[m]$\"},\n",
    "    ),\n",
    "    (\n",
    "        [\n",
    "            (-bs_eq_fpol, \"astra\"),\n",
    "            (tok.equilibrium.time_slice.current.profiles_1d.f, r\"fytok\"),\n",
    "        ],\n",
    "        {\"y_label\": r\"$F_{pol} [Wb\\cdot m]$\"},\n",
    "    ),\n",
    "    (\n",
    "        [\n",
    "            (tok.core_profiles.time_slice.current.profiles_1d.find_cache(\"ffprime\"), \"astra\"),\n",
    "            (Function(bs_eq_psi_norm, eqdsk_file.get(\"equilibrium/time_slice/0/profiles_1d/f_df_dpsi\")), \"geqdsk\"),\n",
    "            (tok.equilibrium.time_slice.current.profiles_1d.f_df_dpsi, r\"fytok\"),\n",
    "        ],\n",
    "        {\"y_label\": r\"$\\frac{f df}{d\\psi} $\"},\n",
    "    ),\n",
    "    # (\n",
    "    #     [\n",
    "    #         (\n",
    "    #             Function(\n",
    "    #                 core_profiles_1d.grid.psi_norm,\n",
    "    #                 core_profiles_1d[\"q\"],\n",
    "    #             ),\n",
    "    #             r\"astra\",\n",
    "    #         ),\n",
    "    #         (tok.equilibrium.time_slice.current.profiles_1d.q, {\"label\": r\"$fytok$\"}),\n",
    "    #     ],\n",
    "    #     {\"y_label\": r\"$q [-]$\"},\n",
    "    # ),\n",
    "    # (\n",
    "    #     [\n",
    "    #         (\n",
    "    #             function_like(4 * (scipy.constants.pi**2) * R0 * profiles[\"rho\"].values, bs_psi),\n",
    "    #             {\"label\": r\"$4\\pi^2 R_0 \\rho$\", **bs_line_style},\n",
    "    #         ),\n",
    "    #         (\n",
    "    #             eq_profiles_1d.dvolume_drho_tor,\n",
    "    #             {\n",
    "    #                 \"label\": r\"$dV/d\\rho_{tor}$\",\n",
    "    #             },\n",
    "    #         ),\n",
    "    #     ],\n",
    "    #     {\"y_label\": r\"$4\\pi ^ 2 R_0 \\rho[m ^ 2]$\"},\n",
    "    # ),\n",
    ")"
   ]
  },
  {
   "cell_type": "code",
   "execution_count": null,
   "metadata": {},
   "outputs": [],
   "source": [
    "core_profiles_1d.grid.rho_tor_norm.shape"
   ]
  },
  {
   "cell_type": "code",
   "execution_count": null,
   "metadata": {},
   "outputs": [],
   "source": [
    "core_profiles_1d.grid.rho_tor_norm.shape"
   ]
  },
  {
   "cell_type": "code",
   "execution_count": null,
   "metadata": {},
   "outputs": [],
   "source": [
    "eq_1d.grid.rho_tor_norm.shape"
   ]
  },
  {
   "cell_type": "code",
   "execution_count": null,
   "metadata": {},
   "outputs": [],
   "source": [
    "eq_profiles_1d = tok.equilibrium.time_slice.current.profiles_1d\n",
    "fig = sp_view.plot(  # plot tokamak geometric profile\n",
    "    eq_profiles_1d.grid.psi_norm,\n",
    "    (eq_profiles_1d.dvolume_dpsi, r\"$\\frac{dV}{d\\psi}$\"),\n",
    "    (eq_profiles_1d.dpsi_drho_tor, r\"$\\frac{d\\psi}{d\\rho_{tor}}$\"),\n",
    "    (eq_profiles_1d.f, {\"y_label\": r\"$F_{pol} [Wb\\cdot m]$\"}),\n",
    "    (eq_profiles_1d.q, {\"y_label\": r\"$q [-]$\"}),\n",
    "    ((eq_profiles_1d.rho_tor, r\"$\\rho$\"), {\"y_label\": r\"$\\rho_{tor}[m]$\"}),\n",
    "    ((eq_profiles_1d.rho_tor_norm, r\"$\\bar{\\rho}$\"), {\"y_label\": r\"[-]\"}),\n",
    "    ((eq_profiles_1d.dvolume_drho_tor, r\"$dV/d\\rho_{tor}$\"), {\"y_label\": r\"$4\\pi ^ 2 R_0 \\rho[m ^ 2]$\"}),\n",
    "    (eq_profiles_1d.gm1, r\"$gm1=\\left<\\frac{1}{R^2}\\right>$\"),\n",
    "    (eq_profiles_1d.gm2, r\"$gm2=\\left<\\frac{\\left|\\nabla \\rho\\right|^2}{R^2}\\right>$\"),\n",
    "    (eq_profiles_1d.gm3, r\"$gm3=\\left<\\left|\\nabla \\rho\\right|^2\\right>$\"),\n",
    "    (eq_profiles_1d.gm4, r\"$gm4=\\left<1/B^2\\right>$\"),\n",
    "    (eq_profiles_1d.gm5, r\"$gm5=\\left<B^2\\right>$\"),\n",
    "    (eq_profiles_1d.gm6, r\"$gm6=\\left<\\nabla \\rho_{tor}^2/ B^2 \\right>$\"),\n",
    "    (eq_profiles_1d.gm7, r\"$gm7=\\left<\\left|\\nabla \\rho\\right|\\right>$\"),\n",
    "    (eq_profiles_1d.gm8, r\"$gm8=\\left<R\\right>$\"),\n",
    ")"
   ]
  },
  {
   "cell_type": "code",
   "execution_count": null,
   "metadata": {},
   "outputs": [],
   "source": []
  }
 ],
 "metadata": {
  "kernelspec": {
   "display_name": "Python 3",
   "language": "python",
   "name": "python3"
  },
  "language_info": {
   "codemirror_mode": {
    "name": "ipython",
    "version": 3
   },
   "file_extension": ".py",
   "mimetype": "text/x-python",
   "name": "python",
   "nbconvert_exporter": "python",
   "pygments_lexer": "ipython3",
   "version": "3.10.12"
  }
 },
 "nbformat": 4,
 "nbformat_minor": 2
}
