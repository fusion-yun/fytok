{
 "cells": [
  {
   "cell_type": "code",
   "execution_count": 1,
   "metadata": {},
   "outputs": [],
   "source": [
    "import numpy as np\n",
    "from spdm.utils.logger import logger\n",
    "from fytok.modules.Equilibrium import Equilibrium"
   ]
  },
  {
   "cell_type": "code",
   "execution_count": 2,
   "metadata": {},
   "outputs": [
    {
     "name": "stdout",
     "output_type": "stream",
     "text": [
      "\u001b[0;34m2023-09-13 10:26:12,246 INFO [spdm]: Load module fytok.plugins.equilibrium.eq_analyze from /home/salmon/workspace/fytok/../fytok/python/fytok/plugins/equilibrium/eq_analyze.py\u001b[0m\n",
      "\u001b[0;37m2023-09-13 10:26:12,247 DEBUG [spdm] /home/salmon/workspace/fytok/../SpDB/python/spdm/data/Actor.py:54:__init__: Load Actor FyEqAnalyze MPI_ENBLAED=False\u001b[0m\n"
     ]
    }
   ],
   "source": [
    "eq = Equilibrium({\n",
    "    \"time_slice\":[{\n",
    "        \n",
    "    }]\n",
    "})"
   ]
  },
  {
   "cell_type": "code",
   "execution_count": 3,
   "metadata": {},
   "outputs": [
    {
     "name": "stdout",
     "output_type": "stream",
     "text": [
      "\u001b[0;34m2023-09-13 10:26:13,241 INFO [spdm]: Load module spdm.view.view_matplotlib from /home/salmon/workspace/fytok/../SpDB/python/spdm/view/view_matplotlib.py\u001b[0m\n"
     ]
    },
    {
     "ename": "RuntimeError",
     "evalue": "Can not get geometry! Can not parser psi!",
     "output_type": "error",
     "traceback": [
      "\u001b[0;31m---------------------------------------------------------------------------\u001b[0m",
      "\u001b[0;31mTypeError\u001b[0m                                 Traceback (most recent call last)",
      "File \u001b[0;32m~/workspace/fytok/../fytok/python/fytok/plugins/equilibrium/eq_analyze.py:1018\u001b[0m, in \u001b[0;36mEquilibriumTimeSlice.__geometry__\u001b[0;34m(self, view, **kwargs)\u001b[0m\n\u001b[1;32m   1017\u001b[0m \u001b[39mtry\u001b[39;00m:\n\u001b[0;32m-> 1018\u001b[0m     o_points, x_points \u001b[39m=\u001b[39m \u001b[39mself\u001b[39;49m\u001b[39m.\u001b[39;49mcoordinate_system\u001b[39m.\u001b[39mcritical_points\n\u001b[1;32m   1020\u001b[0m     geo[\u001b[39m\"\u001b[39m\u001b[39mo_points\u001b[39m\u001b[39m\"\u001b[39m] \u001b[39m=\u001b[39m [Point(p\u001b[39m.\u001b[39mr, p\u001b[39m.\u001b[39mz, name\u001b[39m=\u001b[39m\u001b[39mf\u001b[39m\u001b[39m\"\u001b[39m\u001b[39m{\u001b[39;00midx\u001b[39m}\u001b[39;00m\u001b[39m\"\u001b[39m) \u001b[39mfor\u001b[39;00m idx, p \u001b[39min\u001b[39;00m \u001b[39menumerate\u001b[39m(o_points)]\n",
      "File \u001b[0;32m~/workspace/fytok/../SpDB/python/spdm/data/sp_property.py:262\u001b[0m, in \u001b[0;36msp_property.__get__\u001b[0;34m(self, instance, owner)\u001b[0m\n\u001b[1;32m    260\u001b[0m \u001b[39mwith\u001b[39;00m \u001b[39mself\u001b[39m\u001b[39m.\u001b[39mlock:\n\u001b[0;32m--> 262\u001b[0m     value \u001b[39m=\u001b[39m instance\u001b[39m.\u001b[39;49m__get_property__(\u001b[39mself\u001b[39;49m\u001b[39m.\u001b[39;49mproperty_cache_key,\n\u001b[1;32m    263\u001b[0m                                       type_hint\u001b[39m=\u001b[39;49mtype_hint,\n\u001b[1;32m    264\u001b[0m                                       getter\u001b[39m=\u001b[39;49m\u001b[39mself\u001b[39;49m\u001b[39m.\u001b[39;49mgetter,\n\u001b[1;32m    265\u001b[0m                                       default_value\u001b[39m=\u001b[39;49m\u001b[39mself\u001b[39;49m\u001b[39m.\u001b[39;49mdefault_value,\n\u001b[1;32m    266\u001b[0m                                       metadata\u001b[39m=\u001b[39;49mmetadata,\n\u001b[1;32m    267\u001b[0m                                       strict\u001b[39m=\u001b[39;49m\u001b[39mself\u001b[39;49m\u001b[39m.\u001b[39;49mstrict,)\n\u001b[1;32m    269\u001b[0m     \u001b[39mif\u001b[39;00m \u001b[39mself\u001b[39m\u001b[39m.\u001b[39mstrict \u001b[39mand\u001b[39;00m value \u001b[39mis\u001b[39;00m _not_found_:\n",
      "File \u001b[0;32m~/workspace/fytok/../SpDB/python/spdm/data/sp_property.py:89\u001b[0m, in \u001b[0;36mSpDict.__get_property__\u001b[0;34m(self, key, *args, **kwargs)\u001b[0m\n\u001b[1;32m     88\u001b[0m \u001b[39mdef\u001b[39;00m \u001b[39m__get_property__\u001b[39m(\u001b[39mself\u001b[39m, key: \u001b[39mstr\u001b[39m, \u001b[39m*\u001b[39margs, \u001b[39m*\u001b[39m\u001b[39m*\u001b[39mkwargs) \u001b[39m-\u001b[39m\u001b[39m>\u001b[39m HTree[_T] \u001b[39m|\u001b[39m _T \u001b[39m|\u001b[39m PrimaryType:\n\u001b[0;32m---> 89\u001b[0m     \u001b[39mreturn\u001b[39;00m \u001b[39mself\u001b[39;49m\u001b[39m.\u001b[39;49m_get(key, \u001b[39m*\u001b[39;49margs, \u001b[39m*\u001b[39;49m\u001b[39m*\u001b[39;49mkwargs)\n",
      "File \u001b[0;32m~/workspace/fytok/../SpDB/python/spdm/data/HTree.py:358\u001b[0m, in \u001b[0;36mHTree._get\u001b[0;34m(self, query, type_hint, *args, **kwargs)\u001b[0m\n\u001b[1;32m    357\u001b[0m \u001b[39melif\u001b[39;00m \u001b[39misinstance\u001b[39m(query, \u001b[39mstr\u001b[39m):\n\u001b[0;32m--> 358\u001b[0m     value \u001b[39m=\u001b[39m \u001b[39mself\u001b[39;49m\u001b[39m.\u001b[39;49m_get_as_dict(query, \u001b[39m*\u001b[39;49margs,  type_hint\u001b[39m=\u001b[39;49mtype_hint, \u001b[39m*\u001b[39;49m\u001b[39m*\u001b[39;49mkwargs)\n\u001b[1;32m    360\u001b[0m \u001b[39melif\u001b[39;00m \u001b[39misinstance\u001b[39m(query, \u001b[39mset\u001b[39m):  \u001b[39m# compound\u001b[39;00m\n",
      "File \u001b[0;32m~/workspace/fytok/../SpDB/python/spdm/data/HTree.py:395\u001b[0m, in \u001b[0;36mHTree._get_as_dict\u001b[0;34m(self, key, *args, **kwargs)\u001b[0m\n\u001b[1;32m    393\u001b[0m     entry \u001b[39m=\u001b[39m \u001b[39mNone\u001b[39;00m\n\u001b[0;32m--> 395\u001b[0m value \u001b[39m=\u001b[39m \u001b[39mself\u001b[39;49m\u001b[39m.\u001b[39;49m_as_child(cache, key, \u001b[39m*\u001b[39;49margs, entry\u001b[39m=\u001b[39;49mentry, \u001b[39m*\u001b[39;49m\u001b[39m*\u001b[39;49mkwargs)\n\u001b[1;32m    397\u001b[0m \u001b[39mif\u001b[39;00m \u001b[39mself\u001b[39m\u001b[39m.\u001b[39m_cache \u001b[39mis\u001b[39;00m _not_found_ \u001b[39mor\u001b[39;00m \u001b[39mself\u001b[39m\u001b[39m.\u001b[39m_cache \u001b[39mis\u001b[39;00m \u001b[39mNone\u001b[39;00m:\n",
      "File \u001b[0;32m~/workspace/fytok/../SpDB/python/spdm/data/HTree.py:310\u001b[0m, in \u001b[0;36mHTree._as_child\u001b[0;34m(self, value, key, entry, type_hint, default_value, getter, force, parent, *args, **kwargs)\u001b[0m\n\u001b[1;32m    309\u001b[0m \u001b[39melif\u001b[39;00m \u001b[39missubclass\u001b[39m(get_origin(type_hint), HTree):\n\u001b[0;32m--> 310\u001b[0m     value \u001b[39m=\u001b[39m type_hint(value, entry\u001b[39m=\u001b[39;49mentry, parent\u001b[39m=\u001b[39;49mparent, \u001b[39m*\u001b[39;49margs,\n\u001b[1;32m    311\u001b[0m                       default_value\u001b[39m=\u001b[39;49mdefault_value,  \u001b[39m*\u001b[39;49m\u001b[39m*\u001b[39;49mkwargs)\n\u001b[1;32m    313\u001b[0m \u001b[39melif\u001b[39;00m \u001b[39mnot\u001b[39;00m force \u001b[39mand\u001b[39;00m \u001b[39misinstance\u001b[39m(value, HTree):\n",
      "File \u001b[0;32m~/workspace/fytok/../fytok/python/fytok/plugins/equilibrium/eq_analyze.py:105\u001b[0m, in \u001b[0;36mEquilibriumCoordinateSystem.__init__\u001b[0;34m(self, *args, **kwargs)\u001b[0m\n\u001b[1;32m    103\u001b[0m \u001b[39mself\u001b[39m\u001b[39m.\u001b[39m_fpol \u001b[39m=\u001b[39m \u001b[39mself\u001b[39m\u001b[39m.\u001b[39m_parent\u001b[39m.\u001b[39mprofiles_1d\u001b[39m.\u001b[39mf  \u001b[39m# poloidal current function\u001b[39;00m\n\u001b[0;32m--> 105\u001b[0m \u001b[39mself\u001b[39m\u001b[39m.\u001b[39m_s_B0 \u001b[39m=\u001b[39m np\u001b[39m.\u001b[39;49msign(\u001b[39mself\u001b[39;49m\u001b[39m.\u001b[39;49m_B0)\n\u001b[1;32m    107\u001b[0m \u001b[39mself\u001b[39m\u001b[39m.\u001b[39m_s_Ip \u001b[39m=\u001b[39m np\u001b[39m.\u001b[39msign(\u001b[39mself\u001b[39m\u001b[39m.\u001b[39m_Ip)\n",
      "\u001b[0;31mTypeError\u001b[0m: '<' not supported between instances of 'tags' and 'int'",
      "\nThe above exception was the direct cause of the following exception:\n",
      "\u001b[0;31mRuntimeError\u001b[0m                              Traceback (most recent call last)",
      "File \u001b[0;32m~/workspace/fytok/../fytok/python/fytok/modules/Equilibrium.py:154\u001b[0m, in \u001b[0;36mEquilibrium.__geometry__\u001b[0;34m(self, view, **kwargs)\u001b[0m\n\u001b[1;32m    153\u001b[0m \u001b[39mtry\u001b[39;00m:\n\u001b[0;32m--> 154\u001b[0m     geo \u001b[39m=\u001b[39m \u001b[39mself\u001b[39;49m\u001b[39m.\u001b[39;49mtime_slice\u001b[39m.\u001b[39;49mcurrent\u001b[39m.\u001b[39;49m__geometry__(view\u001b[39m=\u001b[39;49mview, \u001b[39m*\u001b[39;49m\u001b[39m*\u001b[39;49mkwargs)\n\u001b[1;32m    155\u001b[0m \u001b[39mexcept\u001b[39;00m \u001b[39mException\u001b[39;00m \u001b[39mas\u001b[39;00m error:\n",
      "File \u001b[0;32m~/workspace/fytok/../fytok/python/fytok/plugins/equilibrium/eq_analyze.py:1031\u001b[0m, in \u001b[0;36mEquilibriumTimeSlice.__geometry__\u001b[0;34m(self, view, **kwargs)\u001b[0m\n\u001b[1;32m   1029\u001b[0m \u001b[39mexcept\u001b[39;00m \u001b[39mException\u001b[39;00m \u001b[39mas\u001b[39;00m error:\n\u001b[1;32m   1030\u001b[0m     \u001b[39m# logger.error(f\"Can not parser psi ! {error}\")\u001b[39;00m\n\u001b[0;32m-> 1031\u001b[0m     \u001b[39mraise\u001b[39;00m \u001b[39mRuntimeError\u001b[39;00m(\u001b[39mf\u001b[39m\u001b[39m\"\u001b[39m\u001b[39mCan not parser psi!\u001b[39m\u001b[39m\"\u001b[39m) \u001b[39mfrom\u001b[39;00m \u001b[39merror\u001b[39;00m\n\u001b[1;32m   1033\u001b[0m geo[\u001b[39m\"\u001b[39m\u001b[39mpsi\u001b[39m\u001b[39m\"\u001b[39m] \u001b[39m=\u001b[39m \u001b[39mself\u001b[39m\u001b[39m.\u001b[39mprofiles_2d[\u001b[39m0\u001b[39m]\u001b[39m.\u001b[39mpsi\n",
      "\u001b[0;31mRuntimeError\u001b[0m: Can not parser psi!",
      "\nThe above exception was the direct cause of the following exception:\n",
      "\u001b[0;31mRuntimeError\u001b[0m                              Traceback (most recent call last)",
      "File \u001b[0;32m~/.local/lib/python3.10/site-packages/IPython/core/formatters.py:344\u001b[0m, in \u001b[0;36mBaseFormatter.__call__\u001b[0;34m(self, obj)\u001b[0m\n\u001b[1;32m    342\u001b[0m     method \u001b[39m=\u001b[39m get_real_method(obj, \u001b[39mself\u001b[39m\u001b[39m.\u001b[39mprint_method)\n\u001b[1;32m    343\u001b[0m     \u001b[39mif\u001b[39;00m method \u001b[39mis\u001b[39;00m \u001b[39mnot\u001b[39;00m \u001b[39mNone\u001b[39;00m:\n\u001b[0;32m--> 344\u001b[0m         \u001b[39mreturn\u001b[39;00m method()\n\u001b[1;32m    345\u001b[0m     \u001b[39mreturn\u001b[39;00m \u001b[39mNone\u001b[39;00m\n\u001b[1;32m    346\u001b[0m \u001b[39melse\u001b[39;00m:\n",
      "File \u001b[0;32m~/workspace/fytok/../SpDB/python/spdm/data/HTree.py:92\u001b[0m, in \u001b[0;36mHTree._repr_svg_\u001b[0;34m(self)\u001b[0m\n\u001b[1;32m     90\u001b[0m \u001b[39mdef\u001b[39;00m \u001b[39m_repr_svg_\u001b[39m(\u001b[39mself\u001b[39m) \u001b[39m-\u001b[39m\u001b[39m>\u001b[39m \u001b[39mstr\u001b[39m:\n\u001b[1;32m     91\u001b[0m     \u001b[39mfrom\u001b[39;00m \u001b[39m.\u001b[39;00m\u001b[39m.\u001b[39;00m\u001b[39mview\u001b[39;00m\u001b[39m.\u001b[39;00m\u001b[39mView\u001b[39;00m \u001b[39mimport\u001b[39;00m display\n\u001b[0;32m---> 92\u001b[0m     \u001b[39mreturn\u001b[39;00m display(\u001b[39mself\u001b[39;49m, output\u001b[39m=\u001b[39;49m\u001b[39m\"\u001b[39;49m\u001b[39msvg\u001b[39;49m\u001b[39m\"\u001b[39;49m)\n",
      "File \u001b[0;32m~/workspace/fytok/../SpDB/python/spdm/view/View.py:138\u001b[0m, in \u001b[0;36mdisplay\u001b[0;34m(output, backend, *args, **kwargs)\u001b[0m\n\u001b[1;32m    136\u001b[0m \u001b[39mif\u001b[39;00m backend \u001b[39mis\u001b[39;00m \u001b[39mNone\u001b[39;00m:\n\u001b[1;32m    137\u001b[0m     backend \u001b[39m=\u001b[39m SP_VIEW_BACKEND\n\u001b[0;32m--> 138\u001b[0m \u001b[39mreturn\u001b[39;00m viewer(backend\u001b[39m=\u001b[39;49mbackend, output\u001b[39m=\u001b[39;49moutput)\u001b[39m.\u001b[39;49mrender(\u001b[39m*\u001b[39;49margs, output\u001b[39m=\u001b[39;49moutput, \u001b[39m*\u001b[39;49m\u001b[39m*\u001b[39;49mkwargs)\n",
      "File \u001b[0;32m~/workspace/fytok/../SpDB/python/spdm/view/view_matplotlib.py:94\u001b[0m, in \u001b[0;36mMatplotlibView.render\u001b[0;34m(self, obj, **kwargs)\u001b[0m\n\u001b[1;32m     90\u001b[0m \u001b[39melse\u001b[39;00m:  \u001b[39m# draw as single object\u001b[39;00m\n\u001b[1;32m     92\u001b[0m     fig, canvas \u001b[39m=\u001b[39m plt\u001b[39m.\u001b[39msubplots()\n\u001b[0;32m---> 94\u001b[0m     \u001b[39mself\u001b[39;49m\u001b[39m.\u001b[39;49mdraw(canvas, obj, kwargs)\n\u001b[1;32m     96\u001b[0m     canvas\u001b[39m.\u001b[39mset_aspect(\u001b[39m'\u001b[39m\u001b[39mequal\u001b[39m\u001b[39m'\u001b[39m)\n\u001b[1;32m     97\u001b[0m     canvas\u001b[39m.\u001b[39maxis(\u001b[39m'\u001b[39m\u001b[39mscaled\u001b[39m\u001b[39m'\u001b[39m)\n",
      "File \u001b[0;32m~/workspace/fytok/../SpDB/python/spdm/view/View.py:87\u001b[0m, in \u001b[0;36mView.draw\u001b[0;34m(self, canvas, obj, styles)\u001b[0m\n\u001b[1;32m     84\u001b[0m     \u001b[39mself\u001b[39m\u001b[39m.\u001b[39mdraw(canvas, o, styles)\n\u001b[1;32m     86\u001b[0m \u001b[39melif\u001b[39;00m \u001b[39mhasattr\u001b[39m(obj\u001b[39m.\u001b[39m\u001b[39m__class__\u001b[39m, \u001b[39m\"\u001b[39m\u001b[39m__geometry__\u001b[39m\u001b[39m\"\u001b[39m):\n\u001b[0;32m---> 87\u001b[0m     \u001b[39mself\u001b[39m\u001b[39m.\u001b[39mdraw(canvas, obj\u001b[39m.\u001b[39;49m__geometry__(view\u001b[39m=\u001b[39;49m\u001b[39mself\u001b[39;49m\u001b[39m.\u001b[39;49mviewpoint), styles)\n\u001b[1;32m     89\u001b[0m \u001b[39melif\u001b[39;00m \u001b[39misinstance\u001b[39m(obj, \u001b[39mdict\u001b[39m):\n\u001b[1;32m     90\u001b[0m     \u001b[39mfor\u001b[39;00m k, o \u001b[39min\u001b[39;00m obj\u001b[39m.\u001b[39mitems():\n",
      "File \u001b[0;32m~/workspace/fytok/../fytok/python/fytok/modules/Equilibrium.py:156\u001b[0m, in \u001b[0;36mEquilibrium.__geometry__\u001b[0;34m(self, view, **kwargs)\u001b[0m\n\u001b[1;32m    154\u001b[0m     geo \u001b[39m=\u001b[39m \u001b[39mself\u001b[39m\u001b[39m.\u001b[39mtime_slice\u001b[39m.\u001b[39mcurrent\u001b[39m.\u001b[39m__geometry__(view\u001b[39m=\u001b[39mview, \u001b[39m*\u001b[39m\u001b[39m*\u001b[39mkwargs)\n\u001b[1;32m    155\u001b[0m \u001b[39mexcept\u001b[39;00m \u001b[39mException\u001b[39;00m \u001b[39mas\u001b[39;00m error:\n\u001b[0;32m--> 156\u001b[0m     \u001b[39mraise\u001b[39;00m \u001b[39mRuntimeError\u001b[39;00m(\u001b[39mf\u001b[39m\u001b[39m\"\u001b[39m\u001b[39mCan not get geometry! \u001b[39m\u001b[39m{\u001b[39;00merror\u001b[39m}\u001b[39;00m\u001b[39m\"\u001b[39m) \u001b[39mfrom\u001b[39;00m \u001b[39merror\u001b[39;00m\n\u001b[1;32m    157\u001b[0m     \u001b[39m# logger.error(f\"Can not get geometry! {error}\")\u001b[39;00m\n\u001b[1;32m    158\u001b[0m     \u001b[39m# geo = None\u001b[39;00m\n\u001b[1;32m    159\u001b[0m \u001b[39mreturn\u001b[39;00m geo\n",
      "\u001b[0;31mRuntimeError\u001b[0m: Can not get geometry! Can not parser psi!"
     ]
    },
    {
     "data": {
      "text/plain": [
       "<fytok.plugins.equilibrium.eq_analyze.FyEqAnalyze at 0x7f6e52f84790>"
      ]
     },
     "metadata": {},
     "output_type": "display_data"
    },
    {
     "data": {
      "image/png": "[encoded data removed]",
      "text/plain": [
       "<Figure size 640x480 with 1 Axes>"
      ]
     },
     "metadata": {},
     "output_type": "display_data"
    }
   ],
   "source": [
    "display(eq)"
   ]
  },
  {
   "cell_type": "code",
   "execution_count": null,
   "metadata": {},
   "outputs": [],
   "source": [
    "pf_active.coil[0].current(1.2345)"
   ]
  }
 ],
 "metadata": {
  "kernelspec": {
   "display_name": "Python 3",
   "language": "python",
   "name": "python3"
  },
  "language_info": {
   "codemirror_mode": {
    "name": "ipython",
    "version": 3
   },
   "file_extension": ".py",
   "mimetype": "text/x-python",
   "name": "python",
   "nbconvert_exporter": "python",
   "pygments_lexer": "ipython3",
   "version": "3.10.12"
  },
  "orig_nbformat": 4
 },
 "nbformat": 4,
 "nbformat_minor": 2
}
