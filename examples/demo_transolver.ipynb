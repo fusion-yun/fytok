{
 "cells": [
  {
   "cell_type": "code",
   "execution_count": 1,
   "metadata": {},
   "outputs": [
    {
     "name": "stdout",
     "output_type": "stream",
     "text": [
      "\u001b[0;34m2023-12-06 10:26:10,968 [    spdm]     INFO: \n",
      "###################################################################################################\n",
      "\n",
      "    ______      _____     _\n",
      "   / ____/_  __|_   _|__ | | __\n",
      "  / /_  / / / /  | |/ _ \\| |/ /\n",
      " / __/ / /_/ /   | | (_) |   <\n",
      "/_/    \\__, /    |_|\\___/|_|\\_\\\n",
      "      /____/\n",
      "\n",
      " Copyright (c) 2021-present Zhi YU (Institute of Plasma Physics Chinese Academy of Sciences)\n",
      "            \n",
      " url: https://gitee.com/openfusion/fytok_tutorial \n",
      "      https://github.com/fusion-yun/fytok_tutorial\n",
      "\n",
      " version = alpha  (spdm=beta extension=0.2.2.dev19+g14adade.d20231205, imas_version=v3_38_1_dirty)\n",
      "\n",
      " Run by salmon at 2023-12-06T10:26:10.726852.\n",
      " Job ID: fytok_salmon_surface_24943\n",
      "\n",
      "###################################################################################################\n",
      "\u001b[0m\n"
     ]
    }
   ],
   "source": [
    "import pathlib\n",
    "import numpy as np\n",
    "\n",
    "from fytok.Tokamak import Tokamak\n",
    "\n",
    "from spdm.view import View as sp_view\n",
    "\n",
    "input_path = pathlib.Path(\"/home/salmon/workspace/fytok_data/data/15MA inductive - burn\")"
   ]
  },
  {
   "cell_type": "code",
   "execution_count": 2,
   "metadata": {},
   "outputs": [
    {
     "name": "stdout",
     "output_type": "stream",
     "text": [
      "\u001b[0;34m2023-12-06 10:26:11,125 [    spdm]     INFO: Load module spdm.plugins.data.plugin_xml\u001b[0m\n",
      "\u001b[0;34m2023-12-06 10:26:11,334 [    spdm]     INFO: Load module spdm.plugins.data.plugin_iterprofiles\u001b[0m\n",
      "\u001b[0;34m2023-12-06 10:26:11,395 [    spdm]     INFO: Load module spdm.plugins.data.plugin_geqdsk\u001b[0m\n"
     ]
    }
   ],
   "source": [
    "tokamak = Tokamak(\n",
    "    f\"file+iterprofiles://{next(input_path.glob('*ASTRA.xls')).absolute().as_posix()}\",\n",
    "    f\"file+geqdsk://{next(input_path.glob('**/g*.txt')).absolute().as_posix()}\",\n",
    "    device=\"iter\",\n",
    "    shot=900003,\n",
    "    core_transport={\"model\": [{\"code\": {\"name\": \"dummy\"}}]},\n",
    "    core_sources={\n",
    "        \"source\": [\n",
    "            {\"code\": {\"name\": \"dummy\"}},\n",
    "            {\"code\": {\"name\": \"fusion_reaction\"}},\n",
    "            # {\"code\": {\"name\": \"collisional_equipartition\"}},\n",
    "        ]\n",
    "    },\n",
    "    transport_solver={\n",
    "        \"code\": {\n",
    "            \"name\": \"fy_trans\",\n",
    "            \"parameters\": {\n",
    "                \"rho_tor_norm\": np.linspace(0.01, 0.995, 128),\n",
    "                \"control_parameters\": {\n",
    "                    \"bvp_rms_mask\": [0.96],\n",
    "                    \"hyper_diff\": 0.0001,\n",
    "                    \"max_nodes\": 512,\n",
    "                    \"verbose\": 2,\n",
    "                },\n",
    "            },\n",
    "        },\n",
    "        \"primary_coordinate\": {\"index\": (index := 0), \"label\": r\"\\bar{rho}_{tor_norm}\"},\n",
    "        \"equations\": [\n",
    "            # fmt: off\n",
    "            {\"identifier\": \"ion/D/density\",             \"boundary_condition\": [2, 1]},\n",
    "            {\"identifier\": \"ion/T/density\",             \"boundary_condition\": [2, 1]},\n",
    "            {\"identifier\": \"ion/He/density\",            \"boundary_condition\": [2, 1]},\n",
    "            {\"identifier\": \"ion/alpha/density\",         \"boundary_condition\": [2, 1]},\n",
    "\n",
    "            {\"identifier\": \"ion/D/temperature\",         \"boundary_condition\": [2, 1]},\n",
    "            {\"identifier\": \"ion/T/temperature\",         \"boundary_condition\": [2, 1]},\n",
    "            {\"identifier\": \"ion/He/temperature\",        \"boundary_condition\": [2, 1]},\n",
    "\n",
    "            {\"identifier\": \"electrons/temperature\",     \"boundary_condition\": [2, 1]},\n",
    "            # fmt: on\n",
    "        ],\n",
    "    },\n",
    ")"
   ]
  },
  {
   "cell_type": "code",
   "execution_count": 3,
   "metadata": {},
   "outputs": [
    {
     "name": "stdout",
     "output_type": "stream",
     "text": [
      "\u001b[0;34m2023-12-06 10:26:11,462 [    spdm]     INFO: Load module fytok.plugins.transport_solver_numerics.fy_trans\u001b[0m\n",
      "\u001b[0;34m2023-12-06 10:26:11,747 [    spdm]     INFO: Load module fytok.plugins.equilibrium.fy_eq\u001b[0m\n",
      "\u001b[0;34m2023-12-06 10:26:11,751 [    spdm]     INFO: Initialize module fytok.modules.Wall,  \u001b[0m\n",
      "\u001b[0;34m2023-12-06 10:26:11,757 [    spdm]     INFO: Initialize module fytok.modules.TF,  \u001b[0m\n",
      "\u001b[0;34m2023-12-06 10:26:11,762 [    spdm]     INFO: Initialize module fytok.modules.Magnetics,  \u001b[0m\n",
      "\u001b[0;34m2023-12-06 10:26:11,768 [    spdm]     INFO: Initialize module fytok.modules.PFActive,  \u001b[0m\n",
      "\u001b[0;34m2023-12-06 10:26:11,773 [    spdm]     INFO: Initialize module fytok.plugins.equilibrium.fy_eq,  \u001b[0m\n",
      "\u001b[0;34m2023-12-06 10:26:11,778 [    spdm]     INFO: Initialize module fytok.modules.CoreProfiles,  \u001b[0m\n",
      "\u001b[0;34m2023-12-06 10:26:11,781 [    spdm]     INFO: Initialize module fytok.modules.CoreTransport,  \u001b[0m\n",
      "\u001b[0;34m2023-12-06 10:26:11,786 [    spdm]     INFO: Initialize module fytok.modules.CoreSources,  \u001b[0m\n",
      "\u001b[0;34m2023-12-06 10:26:11,790 [    spdm]     INFO: Initialize module fytok.plugins.transport_solver_numerics.fy_trans,  \u001b[0m\n",
      "\u001b[0;34m2023-12-06 10:26:11,805 [    spdm]     INFO: Load module spdm.mesh.mesh_rectangular\u001b[0m\n",
      "\u001b[0;34m2023-12-06 10:26:12,586 [    spdm]     INFO: Initialize module fytok.plugins.core_transport.model.dummy,  \u001b[0m\n",
      "\u001b[0;34m2023-12-06 10:26:12,590 [    spdm]     INFO: Initialize module fytok.plugins.core_transport.model.dummy,  \u001b[0m\n",
      "\u001b[0;34m2023-12-06 10:26:12,619 [    spdm]     INFO: Initialize module fytok.plugins.core_sources.source.dummy,  \u001b[0m\n",
      "\u001b[0;34m2023-12-06 10:26:12,650 [    spdm]     INFO: Load module fytok.plugins.core_sources.source.fusion_reaction\u001b[0m\n",
      "\u001b[0;34m2023-12-06 10:26:12,654 [    spdm]     INFO: Initialize module fytok.plugins.core_sources.source.fusion_reaction,  \u001b[0m\n",
      "\u001b[0;34m2023-12-06 10:26:12,683 [    spdm]     INFO: Execute module fytok.plugins.transport_solver_numerics.fy_trans\u001b[0m\n",
      "\u001b[0;34m2023-12-06 10:26:12,685 [    spdm]     INFO: Solve transport equations : ion/D/density,ion/T/density,ion/He/density,ion/alpha/density,ion/D/temperature,ion/T/temperature,ion/He/temperature,electrons/temperature\u001b[0m\n"
     ]
    },
    {
     "name": "stderr",
     "output_type": "stream",
     "text": [
      "/home/salmon/workspace/fytok/python/fytok/plugins/transport_solver_numerics/fy_trans.py:402: RuntimeWarning: invalid value encountered in scalar divide\n",
      "  u = e / d\n",
      "/home/salmon/workspace/fytok/python/fytok/plugins/transport_solver_numerics/fy_trans.py:403: RuntimeWarning: divide by zero encountered in scalar divide\n",
      "  v = -1.0 / d\n"
     ]
    },
    {
     "ename": "KeyError",
     "evalue": "'Can not find ion.alpha!'",
     "output_type": "error",
     "traceback": [
      "\u001b[0;31m---------------------------------------------------------------------------\u001b[0m",
      "\u001b[0;31mKeyError\u001b[0m                                  Traceback (most recent call last)",
      "\u001b[1;32m/home/salmon/workspace/fytok/examples/demo_transolver.ipynb Cell 3\u001b[0m line \u001b[0;36m1\n\u001b[0;32m----> <a href='vscode-notebook-cell://wsl%2Bubuntu-22.04/home/salmon/workspace/fytok/examples/demo_transolver.ipynb#W2sdnNjb2RlLXJlbW90ZQ%3D%3D?line=0'>1</a>\u001b[0m tokamak\u001b[39m.\u001b[39;49mtransport_solver\u001b[39m.\u001b[39;49mrefresh(\n\u001b[1;32m      <a href='vscode-notebook-cell://wsl%2Bubuntu-22.04/home/salmon/workspace/fytok/examples/demo_transolver.ipynb#W2sdnNjb2RlLXJlbW90ZQ%3D%3D?line=1'>2</a>\u001b[0m     time\u001b[39m=\u001b[39;49m\u001b[39m0.0\u001b[39;49m,\n\u001b[1;32m      <a href='vscode-notebook-cell://wsl%2Bubuntu-22.04/home/salmon/workspace/fytok/examples/demo_transolver.ipynb#W2sdnNjb2RlLXJlbW90ZQ%3D%3D?line=2'>3</a>\u001b[0m     initial_value\u001b[39m=\u001b[39;49m[\u001b[39m1.0e19\u001b[39;49m, \u001b[39m1.0e19\u001b[39;49m, \u001b[39m0.10e19\u001b[39;49m, \u001b[39m0.10e19\u001b[39;49m,\u001b[39m1000\u001b[39;49m, \u001b[39m1000\u001b[39;49m, \u001b[39m1000\u001b[39;49m, \u001b[39m1000\u001b[39;49m],\n\u001b[1;32m      <a href='vscode-notebook-cell://wsl%2Bubuntu-22.04/home/salmon/workspace/fytok/examples/demo_transolver.ipynb#W2sdnNjb2RlLXJlbW90ZQ%3D%3D?line=3'>4</a>\u001b[0m     boundary_value\u001b[39m=\u001b[39;49m[\n\u001b[1;32m      <a href='vscode-notebook-cell://wsl%2Bubuntu-22.04/home/salmon/workspace/fytok/examples/demo_transolver.ipynb#W2sdnNjb2RlLXJlbW90ZQ%3D%3D?line=4'>5</a>\u001b[0m         [[\u001b[39m0.0\u001b[39;49m], [\u001b[39m2.0e19\u001b[39;49m]],   \u001b[39m#   D \u001b[39;49;00m\n\u001b[1;32m      <a href='vscode-notebook-cell://wsl%2Bubuntu-22.04/home/salmon/workspace/fytok/examples/demo_transolver.ipynb#W2sdnNjb2RlLXJlbW90ZQ%3D%3D?line=5'>6</a>\u001b[0m         [[\u001b[39m0.0\u001b[39;49m], [\u001b[39m2.0e19\u001b[39;49m]],   \u001b[39m#   T \u001b[39;49;00m\n\u001b[1;32m      <a href='vscode-notebook-cell://wsl%2Bubuntu-22.04/home/salmon/workspace/fytok/examples/demo_transolver.ipynb#W2sdnNjb2RlLXJlbW90ZQ%3D%3D?line=6'>7</a>\u001b[0m         [[\u001b[39m0.0\u001b[39;49m], [\u001b[39m0.5e18\u001b[39;49m]],   \u001b[39m#   He\u001b[39;49;00m\n\u001b[1;32m      <a href='vscode-notebook-cell://wsl%2Bubuntu-22.04/home/salmon/workspace/fytok/examples/demo_transolver.ipynb#W2sdnNjb2RlLXJlbW90ZQ%3D%3D?line=7'>8</a>\u001b[0m         [[\u001b[39m0.0\u001b[39;49m], [\u001b[39m0.0\u001b[39;49m]],      \u001b[39m#   alpha\u001b[39;49;00m\n\u001b[1;32m      <a href='vscode-notebook-cell://wsl%2Bubuntu-22.04/home/salmon/workspace/fytok/examples/demo_transolver.ipynb#W2sdnNjb2RlLXJlbW90ZQ%3D%3D?line=8'>9</a>\u001b[0m \n\u001b[1;32m     <a href='vscode-notebook-cell://wsl%2Bubuntu-22.04/home/salmon/workspace/fytok/examples/demo_transolver.ipynb#W2sdnNjb2RlLXJlbW90ZQ%3D%3D?line=9'>10</a>\u001b[0m         [[\u001b[39m0.0\u001b[39;49m], [\u001b[39m1000\u001b[39;49m]],     \u001b[39m#   D\u001b[39;49;00m\n\u001b[1;32m     <a href='vscode-notebook-cell://wsl%2Bubuntu-22.04/home/salmon/workspace/fytok/examples/demo_transolver.ipynb#W2sdnNjb2RlLXJlbW90ZQ%3D%3D?line=10'>11</a>\u001b[0m         [[\u001b[39m0.0\u001b[39;49m], [\u001b[39m1000\u001b[39;49m]],     \u001b[39m#   T\u001b[39;49;00m\n\u001b[1;32m     <a href='vscode-notebook-cell://wsl%2Bubuntu-22.04/home/salmon/workspace/fytok/examples/demo_transolver.ipynb#W2sdnNjb2RlLXJlbW90ZQ%3D%3D?line=11'>12</a>\u001b[0m         [[\u001b[39m0.0\u001b[39;49m], [\u001b[39m1000\u001b[39;49m]],     \u001b[39m#   He\u001b[39;49;00m\n\u001b[1;32m     <a href='vscode-notebook-cell://wsl%2Bubuntu-22.04/home/salmon/workspace/fytok/examples/demo_transolver.ipynb#W2sdnNjb2RlLXJlbW90ZQ%3D%3D?line=12'>13</a>\u001b[0m         [[\u001b[39m0.0\u001b[39;49m], [\u001b[39m1000\u001b[39;49m]],     \u001b[39m#   electron\u001b[39;49;00m\n\u001b[1;32m     <a href='vscode-notebook-cell://wsl%2Bubuntu-22.04/home/salmon/workspace/fytok/examples/demo_transolver.ipynb#W2sdnNjb2RlLXJlbW90ZQ%3D%3D?line=13'>14</a>\u001b[0m     ],\n\u001b[1;32m     <a href='vscode-notebook-cell://wsl%2Bubuntu-22.04/home/salmon/workspace/fytok/examples/demo_transolver.ipynb#W2sdnNjb2RlLXJlbW90ZQ%3D%3D?line=14'>15</a>\u001b[0m )\n",
      "File \u001b[0;32m~/workspace/fytok/python/fytok/modules/TransportSolverNumerics.py:284\u001b[0m, in \u001b[0;36mTransportSolverNumerics.refresh\u001b[0;34m(self, equilibrium, core_transport, core_sources, core_profiles, *args, **kwargs)\u001b[0m\n\u001b[1;32m    275\u001b[0m \u001b[39mdef\u001b[39;00m \u001b[39mrefresh\u001b[39m(\n\u001b[1;32m    276\u001b[0m     \u001b[39mself\u001b[39m,\n\u001b[1;32m    277\u001b[0m     \u001b[39m*\u001b[39margs,\n\u001b[0;32m   (...)\u001b[0m\n\u001b[1;32m    282\u001b[0m     \u001b[39m*\u001b[39m\u001b[39m*\u001b[39mkwargs,\n\u001b[1;32m    283\u001b[0m ):\n\u001b[0;32m--> 284\u001b[0m     \u001b[39msuper\u001b[39;49m()\u001b[39m.\u001b[39;49mrefresh(\n\u001b[1;32m    285\u001b[0m         \u001b[39m*\u001b[39;49margs,\n\u001b[1;32m    286\u001b[0m         equilibrium\u001b[39m=\u001b[39;49mequilibrium,\n\u001b[1;32m    287\u001b[0m         core_transport\u001b[39m=\u001b[39;49mcore_transport,\n\u001b[1;32m    288\u001b[0m         core_sources\u001b[39m=\u001b[39;49mcore_sources,\n\u001b[1;32m    289\u001b[0m         core_profiles\u001b[39m=\u001b[39;49mcore_profiles,\n\u001b[1;32m    290\u001b[0m         \u001b[39m*\u001b[39;49m\u001b[39m*\u001b[39;49mkwargs,\n\u001b[1;32m    291\u001b[0m     )\n",
      "File \u001b[0;32m~/workspace/fytok/SpDM/python/spdm/data/Actor.py:184\u001b[0m, in \u001b[0;36mActor.refresh\u001b[0;34m(self, time, *args, **kwargs)\u001b[0m\n\u001b[1;32m    180\u001b[0m kwargs \u001b[39m=\u001b[39m \u001b[39mself\u001b[39m\u001b[39m.\u001b[39minputs\u001b[39m.\u001b[39mupdate(kwargs)  \u001b[39m# 更新 inputs，返回将不是 HTreeNode 的 input\u001b[39;00m\n\u001b[1;32m    182\u001b[0m \u001b[39mself\u001b[39m\u001b[39m.\u001b[39mpreprocess(\u001b[39m*\u001b[39margs, time\u001b[39m=\u001b[39mtime, \u001b[39m*\u001b[39m\u001b[39m*\u001b[39mkwargs)\n\u001b[0;32m--> 184\u001b[0m \u001b[39mself\u001b[39;49m\u001b[39m.\u001b[39;49mexecute(\u001b[39mself\u001b[39;49m\u001b[39m.\u001b[39;49mtime_slice\u001b[39m.\u001b[39;49mcurrent, \u001b[39mself\u001b[39;49m\u001b[39m.\u001b[39;49mtime_slice\u001b[39m.\u001b[39;49mprevious)\n\u001b[1;32m    186\u001b[0m \u001b[39mself\u001b[39m\u001b[39m.\u001b[39mpostprocess(\u001b[39mself\u001b[39m\u001b[39m.\u001b[39mtime_slice\u001b[39m.\u001b[39mcurrent)\n",
      "File \u001b[0;32m~/workspace/fytok/python/fytok/plugins/transport_solver_numerics/fy_trans.py:599\u001b[0m, in \u001b[0;36mFyTrans.execute\u001b[0;34m(self, current, previous, initial_value, *args, **kwargs)\u001b[0m\n\u001b[1;32m    597\u001b[0m \u001b[39m# 计算 y 和 dydr\u001b[39;00m\n\u001b[1;32m    598\u001b[0m \u001b[39mfor\u001b[39;00m idx, equ \u001b[39min\u001b[39;00m \u001b[39menumerate\u001b[39m(current\u001b[39m.\u001b[39mequation):\n\u001b[0;32m--> 599\u001b[0m     y: Function \u001b[39m=\u001b[39m core_profiles_1d\u001b[39m.\u001b[39;49mget(equ\u001b[39m.\u001b[39;49mprimary_quantity\u001b[39m.\u001b[39;49midentifier)\n\u001b[1;32m    600\u001b[0m     Y0[idx \u001b[39m*\u001b[39m \u001b[39m2\u001b[39m] \u001b[39m=\u001b[39m y(x)\n\u001b[1;32m    601\u001b[0m     Y0[idx \u001b[39m*\u001b[39m \u001b[39m2\u001b[39m \u001b[39m+\u001b[39m \u001b[39m1\u001b[39m] \u001b[39m=\u001b[39m y\u001b[39m.\u001b[39md(x)\n",
      "File \u001b[0;32m~/workspace/fytok/SpDM/python/spdm/data/HTree.py:268\u001b[0m, in \u001b[0;36mHTree.get\u001b[0;34m(self, path, default_value, force, *args, **kwargs)\u001b[0m\n\u001b[1;32m    265\u001b[0m     obj \u001b[39m=\u001b[39m default_value\n\u001b[1;32m    267\u001b[0m \u001b[39mif\u001b[39;00m obj \u001b[39mis\u001b[39;00m _undefined_ \u001b[39mand\u001b[39;00m pos \u001b[39m<\u001b[39m\u001b[39m=\u001b[39m \u001b[39mlen\u001b[39m(path):\n\u001b[0;32m--> 268\u001b[0m     \u001b[39mraise\u001b[39;00m \u001b[39mKeyError\u001b[39;00m(\u001b[39mf\u001b[39m\u001b[39m\"\u001b[39m\u001b[39mCan not find \u001b[39m\u001b[39m{\u001b[39;00m\u001b[39m'\u001b[39m\u001b[39m.\u001b[39m\u001b[39m'\u001b[39m\u001b[39m.\u001b[39mjoin(path[:pos\u001b[39m+\u001b[39m\u001b[39m1\u001b[39m])\u001b[39m}\u001b[39;00m\u001b[39m!\u001b[39m\u001b[39m\"\u001b[39m)\n\u001b[1;32m    270\u001b[0m \u001b[39mreturn\u001b[39;00m obj\n",
      "\u001b[0;31mKeyError\u001b[0m: 'Can not find ion.alpha!'"
     ]
    }
   ],
   "source": [
    "tokamak.transport_solver.refresh(\n",
    "    time=0.0,\n",
    "    initial_value=[1.0e19, 1.0e19, 0.10e19, 0.10e19,1000, 1000, 1000, 1000],\n",
    "    boundary_value=[\n",
    "        [[0.0], [2.0e19]],   #   D \n",
    "        [[0.0], [2.0e19]],   #   T \n",
    "        [[0.0], [0.5e18]],   #   He\n",
    "        [[0.0], [0.0]],      #   alpha\n",
    "\n",
    "        [[0.0], [1000]],     #   D\n",
    "        [[0.0], [1000]],     #   T\n",
    "        [[0.0], [1000]],     #   He\n",
    "        [[0.0], [1000]],     #   electron\n",
    "    ],\n",
    ")"
   ]
  },
  {
   "cell_type": "code",
   "execution_count": null,
   "metadata": {},
   "outputs": [],
   "source": [
    "solver_1d = tokamak.transport_solver.time_slice.current\n",
    "fig = sp_view.plot(\n",
    "    solver_1d.grid.rho_tor_norm,\n",
    "    *sum(\n",
    "        [\n",
    "            [\n",
    "                # (equ.primary_quantity.profile, equ.primary_quantity.identifier),\n",
    "                # (equ.primary_quantity.flux, f\"{equ.primary_quantity.identifier}_flux\"),\n",
    "                (equ.primary_quantity.d_dr, f\"d({equ.primary_quantity.identifier})/dr\"),\n",
    "                (equ.primary_quantity.dflux_dr, f\"d({equ.primary_quantity.identifier}_flux)/dr\"),\n",
    "            ]\n",
    "            for equ in solver_1d.equation\n",
    "        ],\n",
    "        [],\n",
    "    ),\n",
    ")"
   ]
  },
  {
   "cell_type": "code",
   "execution_count": null,
   "metadata": {},
   "outputs": [],
   "source": [
    "core_profiles_1d = tokamak.core_profiles.time_slice.current.profiles_1d\n",
    "fig = sp_view.plot(\n",
    "    solver_1d.grid.rho_tor_norm,\n",
    "    *[\n",
    "        (\n",
    "            [\n",
    "                (\n",
    "                    core_profiles_1d.get(equ.primary_quantity.identifier),\n",
    "                    rf\"{equ.primary_quantity.identifier.split('/')[-2]} astra\",\n",
    "                ),\n",
    "                (equ.primary_quantity.profile, rf\"{equ.primary_quantity.identifier.split('/')[-2]} \"),\n",
    "            ],\n",
    "            {\"y_label\": equ.primary_quantity.identifier.split(\"/\")[-1]},\n",
    "        )\n",
    "        for equ in solver_1d.equation\n",
    "    ],\n",
    ")"
   ]
  },
  {
   "cell_type": "code",
   "execution_count": null,
   "metadata": {},
   "outputs": [],
   "source": [
    "s = 0\n",
    "core_sources_1d = tokamak.core_sources.source[s].time_slice.current.profiles_1d\n",
    "core_transport_1d = tokamak.core_transport.model[s].time_slice.current.profiles_1d\n",
    "\n",
    "fig = sp_view.plot(\n",
    "    core_sources_1d.grid.rho_tor_norm,\n",
    "    # (core_sources_1d.electrons.energy, r\"$Q_e$\"),\n",
    "    (core_transport_1d.electrons.energy.d, r\"$\\chi_e$\"),\n",
    "    (core_transport_1d.electrons.energy.v, r\"$V^{pinch}_{Te}$\"),\n",
    "    # (core_sources_1d.electrons.energy_decomposed.explicit_part, r\"$Q_{e}$ explicit\"),\n",
    "    # (core_sources_1d.electrons.energy_decomposed.implicit_part, r\"$Q_{e}$ implicit\"),\n",
    "    (core_transport_1d.electrons.particles.d, r\"$D_e$\"),\n",
    "    (core_transport_1d.electrons.particles.v, r\"$V_e$\"),\n",
    "    *[(ion.particles, rf\"$S_{{{ion.label}}}$\") for ion in core_sources_1d.ion],\n",
    "    *[(ion.energy, rf\"$Q_{{{ion.label}}}$\") for ion in core_sources_1d.ion],\n",
    "    x_label=r\"$\\bar{\\rho}_{tor}$\",\n",
    ")"
   ]
  },
  {
   "cell_type": "code",
   "execution_count": null,
   "metadata": {},
   "outputs": [],
   "source": [
    "vars = sum([[equ.primary_quantity.profile, equ.primary_quantity.flux] for equ in solver_1d.equation], [])\n",
    "equ = solver_1d.equation[0]\n",
    "*_, (a, b, c, d, e, f, g) = equ.coefficient\n",
    "x = solver_1d.grid.rho_tor_norm\n",
    "# y = equ.primary_quantity.profile\n",
    "# yp = equ.primary_quantity.d_dr\n",
    "# flux = equ.primary_quantity.flux\n",
    "# dflux = equ.primary_quantity.dflux_dr\n",
    "fig = sp_view.plot(\n",
    "    x,\n",
    "    (a(x, *vars), \"a\"),\n",
    "    (b(x, *vars), \"b\"),\n",
    "    # (c(x,*vars), \"c\"),\n",
    "    (d(x, *vars), \"d\"),\n",
    "    (e(x, *vars), \"e\"),\n",
    "    (f(x, *vars), \"f\"),\n",
    "    # (g(x, *vars), \"g\"),\n",
    "    # [\n",
    "    #     (d*yp, \"$D$\"),\n",
    "    #     (e*y,   \"$v$\"),\n",
    "    #     # (flux,   f\"$\\Gamma$\"),\n",
    "    #     ((c*(f - g * y)).I, r\"$S$\"),  # $\\int c*(f - g \\cdot y)$\n",
    "    #     # ((-d*yp+e*y).I, r\"$\\Gamma$\"),\n",
    "    #     (-d*yp+e*y-(c*(f - g * y)).I, \"residual\"),\n",
    "    # ],\n",
    "    # y, yp\n",
    "    # [\n",
    "    #     (dflux, {\"label\": r\"$d\\Gamma$\"}),\n",
    "    #     # (Function(flux, x).d(), r\"$d\\Gamma$\"),\n",
    "    #     ((c*(f - g * y)), r\"$c*(f - g \\cdot y)$\"),\n",
    "    # ],\n",
    ")"
   ]
  },
  {
   "cell_type": "code",
   "execution_count": null,
   "metadata": {},
   "outputs": [],
   "source": []
  }
 ],
 "metadata": {
  "kernelspec": {
   "display_name": "Python 3",
   "language": "python",
   "name": "python3"
  },
  "language_info": {
   "codemirror_mode": {
    "name": "ipython",
    "version": 3
   },
   "file_extension": ".py",
   "mimetype": "text/x-python",
   "name": "python",
   "nbconvert_exporter": "python",
   "pygments_lexer": "ipython3",
   "version": "3.10.12"
  }
 },
 "nbformat": 4,
 "nbformat_minor": 2
}
