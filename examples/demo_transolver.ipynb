{
 "cells": [
  {
   "cell_type": "code",
   "execution_count": 1,
   "metadata": {},
   "outputs": [],
   "source": [
    "import pathlib\n",
    "import numpy as np\n",
    "\n",
    "from fytok.Tokamak import Tokamak\n",
    "\n",
    "from spdm.view import View as sp_view\n",
    "\n",
    "input_path = pathlib.Path(\"/home/salmon/workspace/fytok_data/data/15MA inductive - burn\")"
   ]
  },
  {
   "cell_type": "code",
   "execution_count": 2,
   "metadata": {},
   "outputs": [
    {
     "name": "stdout",
     "output_type": "stream",
     "text": [
      "\u001b[0;37m2023-12-01 17:15:29,202 [   fytok]    DEBUG: /home/salmon/workspace/fytok/SpDM/python/spdm/utils/sp_export.py:66:sp_load_module: Load module spdm.plugins.data.plugin_xml\u001b[0m\n"
     ]
    },
    {
     "name": "stdout",
     "output_type": "stream",
     "text": [
      "\u001b[0;37m2023-12-01 17:15:29,359 [   fytok]    DEBUG: /home/salmon/workspace/fytok/SpDM/python/spdm/utils/sp_export.py:66:sp_load_module: Load module spdm.plugins.data.plugin_iterprofiles\u001b[0m\n",
      "\u001b[0;37m2023-12-01 17:15:29,418 [   fytok]    DEBUG: /home/salmon/workspace/fytok/SpDM/python/spdm/utils/sp_export.py:66:sp_load_module: Load module spdm.plugins.data.plugin_geqdsk\u001b[0m\n"
     ]
    }
   ],
   "source": [
    "tokamak = Tokamak(\n",
    "    f\"file+iterprofiles://{next(input_path.glob('*ASTRA.xls')).absolute().as_posix()}\",\n",
    "    f\"file+geqdsk://{next(input_path.glob('**/g*.txt')).absolute().as_posix()}\",\n",
    "    device=\"iter\",\n",
    "    shot=900003,\n",
    "    core_transport={\"model\": [{\"code\": {\"name\": \"dummy\"}}]},\n",
    "    core_sources={\n",
    "        \"source\": [\n",
    "            {\"code\": {\"name\": \"dummy\"}},\n",
    "            # {\"code\": {\"name\": \"fusion_reaction\"}},\n",
    "        ]\n",
    "    },\n",
    "    transport_solver={\n",
    "        \"code\": {\n",
    "            \"name\": \"fy_trans\",\n",
    "            \"parameters\": {\n",
    "                \"rho_tor_norm\": np.linspace(0.01, 0.995, 128),\n",
    "                \"control_parameters\": {\n",
    "                    \"bvp_rms_mask\": [0.96],\n",
    "                    \"hyper_diff\": 0.0001,\n",
    "                    \"max_nodes\": 512,\n",
    "                    \"verbose\": 2,\n",
    "                },\n",
    "            },\n",
    "        },\n",
    "        \"primary_coordinate\": {\"index\": (index := 0), \"label\": r\"\\bar{rho}_{tor_norm}\"},\n",
    "        \"equations\": [\n",
    "            # fmt: off\n",
    "            {\"identifier\": \"ion/D/density_thermal\",    \"boundary_condition\": [2, 1]},\n",
    "            {\"identifier\": \"ion/T/density_thermal\",    \"boundary_condition\": [2, 1]},\n",
    "            {\"identifier\": \"ion/He/density_thermal\",    \"boundary_condition\": [2, 1]},\n",
    "\n",
    "            {\"identifier\": \"ion/D/temperature\",        \"boundary_condition\": [2, 1]},\n",
    "            {\"identifier\": \"ion/T/temperature\",        \"boundary_condition\": [2, 1]},\n",
    "            {\"identifier\": \"ion/He/temperature\",        \"boundary_condition\": [2, 1]},\n",
    "\n",
    "            {\"identifier\": \"electrons/temperature\",    \"boundary_condition\": [2, 1]},\n",
    "            # fmt: on\n",
    "        ],\n",
    "    },\n",
    ")"
   ]
  },
  {
   "cell_type": "code",
   "execution_count": 3,
   "metadata": {},
   "outputs": [
    {
     "name": "stdout",
     "output_type": "stream",
     "text": [
      "\u001b[0;37m2023-12-01 17:15:32,951 [   fytok]    DEBUG: /home/salmon/workspace/fytok/SpDM/python/spdm/utils/sp_export.py:66:sp_load_module: Load module fytok.plugins.transport_solver_numerics.fy_trans\u001b[0m\n",
      "\u001b[0;37m2023-12-01 17:15:33,193 [   fytok]    DEBUG: /home/salmon/workspace/fytok/SpDM/python/spdm/utils/sp_export.py:66:sp_load_module: Load module fytok.plugins.equilibrium.fy_eq\u001b[0m\n",
      "\u001b[0;37m2023-12-01 17:15:33,218 [   fytok]    DEBUG: /home/salmon/workspace/fytok/SpDM/python/spdm/utils/sp_export.py:66:sp_load_module: Load module fytok.plugins.core_transport.model.dummy\u001b[0m\n",
      "\u001b[0;37m2023-12-01 17:15:33,224 [   fytok]    DEBUG: /home/salmon/workspace/fytok/SpDM/python/spdm/utils/sp_export.py:66:sp_load_module: Load module fytok.plugins.core_sources.source.dummy\u001b[0m\n",
      "\n",
      "###################################################################################################\n",
      "\n",
      "    ______      _____     _\n",
      "   / ____/_  __|_   _|__ | | __\n",
      "  / /_  / / / /  | |/ _ \\| |/ /\n",
      " / __/ / /_/ /   | | (_) |   <\n",
      "/_/    \\__, /    |_|\\___/|_|\\_\\\n",
      "      /____/\n",
      "\n",
      " Copyright (c) 2021-present Zhi YU (Institute of Plasma Physics Chinese Academy of Sciences)\n",
      "            \n",
      " url: https://gitee.com/openfusion/fytok_tutorial \n",
      "      https://github.com/fusion-yun/fytok_tutorial\n",
      "\n",
      " version = alpha  (spdm=beta extension=0.2.2.dev11+g706f667, imas_version=v3_38_1_dirty)\n",
      "\n",
      " Run by salmon at 2023-12-01T17:15:27.677833.\n",
      " Job ID: fytok_salmon_surface_1653\n",
      "\n",
      "###################################################################################################\n",
      "\n",
      "---------------------------------------------------------------------------------------------------\n",
      "                                                Brief Summary\n",
      "---------------------------------------------------------------------------------------------------\n",
      "Dataset Description:\n",
      " \n",
      "    Device: ITER, Shot: 900003, Run: 0, \n",
      "    Run by Salmon on Surface at 2023-12-01T17:15:32.945263, base on ontology \"modified imas/3\"\n",
      "\n",
      "---------------------------------------------------------------------------------------------------\n",
      "Modules:\n",
      "    transport_solver        : fy_trans-0.0.1 [fytok]\n",
      "    equilibrium             : fy_eq-0.0.1 [Zhi YU@ASIPP]\n",
      "\n",
      "    core_profiles           : N/A             \n",
      "    core_transport          : dummy-0.0.0 [fytok]\n",
      "    core_sources            : dummy-0.0.0 [fytok]\n",
      "---------------------------------------------------------------------------------------------------\n",
      "\n"
     ]
    }
   ],
   "source": [
    "print(tokamak.brief_summary)"
   ]
  },
  {
   "cell_type": "code",
   "execution_count": null,
   "metadata": {},
   "outputs": [],
   "source": [
    "tokamak.transport_solver.refresh(\n",
    "    time=0.0,\n",
    "    initial_value=[1.0e19, 1.0e19, 0.10e19, 1000, 1000, 1000, 1000],\n",
    "    boundary_value=[\n",
    "        [[0.0], [2.0e19]],\n",
    "        [[0.0], [2.0e19]],\n",
    "        [[0.0], [0.5e18]],\n",
    "        [[0.0], [1000]],\n",
    "        [[0.0], [1000]],\n",
    "        [[0.0], [1000]],\n",
    "        [[0.0], [1000]],\n",
    "    ],\n",
    ")"
   ]
  },
  {
   "cell_type": "code",
   "execution_count": null,
   "metadata": {},
   "outputs": [],
   "source": [
    "solver_1d = tokamak.transport_solver.time_slice.current\n",
    "fig = sp_view.plot(\n",
    "    solver_1d.grid.rho_tor_norm,\n",
    "    *sum(\n",
    "        [\n",
    "            [\n",
    "                # (equ.primary_quantity.profile, equ.primary_quantity.identifier),\n",
    "                # (equ.primary_quantity.flux, f\"{equ.primary_quantity.identifier}_flux\"),\n",
    "                (equ.primary_quantity.d_dr, f\"d({equ.primary_quantity.identifier})/dr\"),\n",
    "                (equ.primary_quantity.dflux_dr, f\"d({equ.primary_quantity.identifier}_flux)/dr\"),\n",
    "            ]\n",
    "            for equ in solver_1d.equation\n",
    "        ],\n",
    "        [],\n",
    "    ),\n",
    ")"
   ]
  },
  {
   "cell_type": "code",
   "execution_count": null,
   "metadata": {},
   "outputs": [],
   "source": [
    "core_profiles_1d = tokamak.core_profiles.time_slice.current.profiles_1d\n",
    "fig = sp_view.plot(\n",
    "    solver_1d.grid.rho_tor_norm,\n",
    "    *[\n",
    "        (\n",
    "            [\n",
    "                (\n",
    "                    core_profiles_1d.get(equ.primary_quantity.identifier),\n",
    "                    rf\"{equ.primary_quantity.identifier.split('/')[-2]} astra\",\n",
    "                ),\n",
    "                (equ.primary_quantity.profile, rf\"{equ.primary_quantity.identifier.split('/')[-2]} \"),\n",
    "            ],\n",
    "            {\"y_label\": equ.primary_quantity.identifier.split(\"/\")[-1]},\n",
    "        )\n",
    "        for equ in solver_1d.equation\n",
    "    ],\n",
    ")"
   ]
  },
  {
   "cell_type": "code",
   "execution_count": null,
   "metadata": {},
   "outputs": [],
   "source": [
    "s = 0\n",
    "core_sources_1d = tokamak.core_sources.source[s].time_slice.current.profiles_1d\n",
    "core_transport_1d = tokamak.core_transport.model[s].time_slice.current.profiles_1d\n",
    "\n",
    "fig = sp_view.plot(\n",
    "    core_sources_1d.grid.rho_tor_norm,\n",
    "    # (core_sources_1d.electrons.energy, r\"$Q_e$\"),\n",
    "    (core_transport_1d.electrons.energy.d, r\"$\\chi_e$\"),\n",
    "    (core_transport_1d.electrons.energy.v, r\"$V^{pinch}_{Te}$\"),\n",
    "    # (core_sources_1d.electrons.energy_decomposed.explicit_part, r\"$Q_{e}$ explicit\"),\n",
    "    # (core_sources_1d.electrons.energy_decomposed.implicit_part, r\"$Q_{e}$ implicit\"),\n",
    "    (core_transport_1d.electrons.particles.d, r\"$D_e$\"),\n",
    "    (core_transport_1d.electrons.particles.v, r\"$V_e$\"),\n",
    "    *[(ion.particles, rf\"$S_{{{ion.label}}}$\") for ion in core_sources_1d.ion],\n",
    "    *[(ion.energy, rf\"$Q_{{{ion.label}}}$\") for ion in core_sources_1d.ion],\n",
    "    x_label=r\"$\\bar{\\rho}_{tor}$\",\n",
    ")"
   ]
  },
  {
   "cell_type": "code",
   "execution_count": null,
   "metadata": {},
   "outputs": [],
   "source": [
    "vars = sum([[equ.primary_quantity.profile, equ.primary_quantity.flux] for equ in solver_1d.equation], [])\n",
    "equ = solver_1d.equation[0]\n",
    "*_, (a, b, c, d, e, f, g) = equ.coefficient\n",
    "x = solver_1d.grid.rho_tor_norm\n",
    "# y = equ.primary_quantity.profile\n",
    "# yp = equ.primary_quantity.d_dr\n",
    "# flux = equ.primary_quantity.flux\n",
    "# dflux = equ.primary_quantity.dflux_dr\n",
    "fig = sp_view.plot(\n",
    "    x,\n",
    "    (a(x, *vars), \"a\"),\n",
    "    (b(x, *vars), \"b\"),\n",
    "    # (c(x,*vars), \"c\"),\n",
    "    (d(x, *vars), \"d\"),\n",
    "    (e(x, *vars), \"e\"),\n",
    "    (f(x, *vars), \"f\"),\n",
    "    # (g(x, *vars), \"g\"),\n",
    "    # [\n",
    "    #     (d*yp, \"$D$\"),\n",
    "    #     (e*y,   \"$v$\"),\n",
    "    #     # (flux,   f\"$\\Gamma$\"),\n",
    "    #     ((c*(f - g * y)).I, r\"$S$\"),  # $\\int c*(f - g \\cdot y)$\n",
    "    #     # ((-d*yp+e*y).I, r\"$\\Gamma$\"),\n",
    "    #     (-d*yp+e*y-(c*(f - g * y)).I, \"residual\"),\n",
    "    # ],\n",
    "    # y, yp\n",
    "    # [\n",
    "    #     (dflux, {\"label\": r\"$d\\Gamma$\"}),\n",
    "    #     # (Function(flux, x).d(), r\"$d\\Gamma$\"),\n",
    "    #     ((c*(f - g * y)), r\"$c*(f - g \\cdot y)$\"),\n",
    "    # ],\n",
    ")"
   ]
  },
  {
   "cell_type": "code",
   "execution_count": null,
   "metadata": {},
   "outputs": [],
   "source": []
  }
 ],
 "metadata": {
  "kernelspec": {
   "display_name": "Python 3",
   "language": "python",
   "name": "python3"
  },
  "language_info": {
   "codemirror_mode": {
    "name": "ipython",
    "version": 3
   },
   "file_extension": ".py",
   "mimetype": "text/x-python",
   "name": "python",
   "nbconvert_exporter": "python",
   "pygments_lexer": "ipython3",
   "version": "3.10.12"
  }
 },
 "nbformat": 4,
 "nbformat_minor": 2
}
