{
 "cells": [
  {
   "cell_type": "code",
   "execution_count": 1,
   "metadata": {},
   "outputs": [
    {
     "name": "stdout",
     "output_type": "stream",
     "text": [
      "\u001b[0;34m2024-01-08 11:48:12,981 [    spdm]     INFO: \n",
      "###################################################################################################\n",
      "\n",
      "    ______      _____     _\n",
      "   / ____/_  __|_   _|__ | | __\n",
      "  / /_  / / / /  | |/ _ \\| |/ /\n",
      " / __/ / /_/ /   | | (_) |   <\n",
      "/_/    \\__, /    |_|\\___/|_|\\_\\\n",
      "      /____/\n",
      "\n",
      " Copyright (c) 2021-present Zhi YU (Institute of Plasma Physics Chinese Academy of Sciences)\n",
      "            \n",
      " url: https://gitee.com/openfusion/fytok_tutorial \n",
      "      https://github.com/fusion-yun/fytok_tutorial\n",
      "\n",
      " version = alpha  (spdm=beta extension=0.2.2.dev19+g14adade.d20231205, imas_version=v3_38_1_dirty)\n",
      "\n",
      " Run by salmon at 2024-01-08T11:48:12.839053.\n",
      " Job ID: fytok_salmon_surface_26887\n",
      "\n",
      "###################################################################################################\n",
      "\u001b[0m\n"
     ]
    }
   ],
   "source": [
    "import pathlib\n",
    "import scipy.constants\n",
    "import numpy as np\n",
    "import pandas as pd\n",
    "import matplotlib.pyplot as plt\n",
    "from fytok.Tokamak import Tokamak\n",
    "from fytok.modules.CoreProfiles import CoreProfiles\n",
    "from fytok.modules.Equilibrium import Equilibrium\n",
    "from spdm.view import View as sp_view\n",
    "from spdm.data.Path import Path\n",
    "from spdm.data.Function import Function\n",
    "\n",
    "data_path = pathlib.Path(\"/home/salmon/workspace/fytok_data/data/15MA inductive - burn\")\n",
    "\n",
    "astra_profiles = pd.read_excel(\n",
    "    next(data_path.glob(\"*ASTRA.xls\")).absolute().as_posix(), sheet_name=1, header=10, usecols=\"B:BN\"\n",
    ")"
   ]
  },
  {
   "cell_type": "code",
   "execution_count": 2,
   "metadata": {},
   "outputs": [
    {
     "name": "stdout",
     "output_type": "stream",
     "text": [
      "\u001b[0;34m2024-01-08 11:48:13,238 [    spdm]     INFO: Load module spdm.plugins.data.plugin_iterprofiles\u001b[0m\n",
      "\u001b[0;34m2024-01-08 11:48:13,302 [    spdm]     INFO: Initialize module fytok.modules.CoreProfiles \u001b[0m\n",
      "\u001b[0;34m2024-01-08 11:48:13,357 [    spdm]     INFO: Load module fytok.plugins.equilibrium.fy_eq\u001b[0m\n",
      "\u001b[0;34m2024-01-08 11:48:13,359 [    spdm]     INFO: Load module spdm.plugins.data.plugin_geqdsk\u001b[0m\n",
      "\u001b[0;34m2024-01-08 11:48:13,378 [    spdm]     INFO: Initialize module fytok.plugins.equilibrium.fy_eq-FyTok \u001b[0m\n"
     ]
    }
   ],
   "source": [
    "core_profiles_astra = CoreProfiles(\n",
    "    f\"file+iterprofiles://{next(data_path.glob('*ASTRA.xls')).absolute().as_posix()}#core_profiles\"\n",
    ")\n",
    "\n",
    "core_profiles_1d_astra = core_profiles_astra.time_slice.current.profiles_1d\n",
    "\n",
    "equilibrium_astra = Equilibrium(f\"file+geqdsk://{next(data_path.glob('**/g*.txt')).absolute().as_posix()}#equilibrium\")\n"
   ]
  },
  {
   "cell_type": "code",
   "execution_count": 3,
   "metadata": {},
   "outputs": [
    {
     "name": "stdout",
     "output_type": "stream",
     "text": [
      "\u001b[0;34m2024-01-08 11:48:13,408 [    spdm]     INFO: Load module spdm.plugins.data.plugin_xml\u001b[0m\n",
      "\u001b[0;34m2024-01-08 11:48:13,515 [    spdm]     INFO: Load module fytok.plugins.transport_solver_numerics.fy_trans\u001b[0m\n",
      "\u001b[0;34m2024-01-08 11:48:13,521 [    spdm]     INFO: Initialize module fytok.plugins.transport_solver_numerics.fy_trans \u001b[0m\n"
     ]
    }
   ],
   "source": [
    "tokamak = Tokamak(\n",
    "    f\"file+iterprofiles://{next(data_path.glob('*ASTRA.xls')).absolute().as_posix()}\",\n",
    "    f\"file+geqdsk://{next(data_path.glob('**/g*.txt')).absolute().as_posix()}\",\n",
    "    device=\"iter\",\n",
    "    shot=900003,\n",
    "    equilibrium={\"code\": {\"parameters\": {\"psi_norm\": np.linspace(0.01, 0.999, 64)}}},\n",
    "    core_transport={\n",
    "        \"model\": [\n",
    "            {\"code\": {\"name\": \"dummy\"}},\n",
    "            # {\"code\": {\"name\": \"fast_alpha\"}},\n",
    "        ]\n",
    "    },\n",
    "    core_sources={\n",
    "        \"source\": [\n",
    "            {\"code\": {\"name\": \"dummy\"}},\n",
    "            # {\"code\": {\"name\": \"fusion\", \"parameters\": {\"fusion_reactions\": [\"D(t,n)alpha\"]}}},\n",
    "            # {\"code\": {\"name\": \"radiation\"}},\n",
    "            # {\"code\": {\"name\": \"synchrotron_radiation\"}},\n",
    "            # {\"code\": {\"name\": \"collisional_equipartition\"}},\n",
    "        ]\n",
    "    },\n",
    "    transport_solver={\n",
    "        \"code\": {\n",
    "            \"name\": \"fy_trans\",\n",
    "            \"parameters\": {\n",
    "                \"rho_tor_norm\": np.linspace(0.01, 0.995, 128),\n",
    "                # \"bvp_rms_mask\": [0.96],\n",
    "                \"hyper_diff\": 1.0e-5,\n",
    "                \"max_nodes\": 257,\n",
    "                \"bc_tol\": 1,\n",
    "                \"verbose\": 2,\n",
    "                \"units\": {\n",
    "                    \"*/density\": 1.0e21,\n",
    "                    \"*/density_flux\": 1.0e24,\n",
    "                    \"ion/alpha/density\": 1.0e18,\n",
    "                    \"ion/alpha/density_flux\": 1.0e21,\n",
    "                    \"*/temperature\": 1.0e6,\n",
    "                    \"*/temperature_flux\": 1.0e27,\n",
    "                },\n",
    "            },\n",
    "        },\n",
    "        \"ion_thermal\": [\"D\", \"T\"],\n",
    "        \"ion_non_thermal\": [\"alpha\", \"He\"],\n",
    "        \"impurities\": [\"Ar\", \"Be\"],\n",
    "        \"boundary_condition_type\": {\n",
    "            # fmt: off\n",
    "            # psi                          at axis \\frac{d\\psi}{dx}=0  , at boundary \\psi=?\n",
    "            \"psi\"                       : 1, \n",
    "            # density                      at axis \\Gamma_s=0          , at boundary n=?\n",
    "            \"*/density\"                 : 1, \n",
    "            # temperatur                   at axis \\frac{dT}{dx}=0     , at boundary T=?\n",
    "            \"*/temperature\"             : 1,\n",
    "            # fmt: on\n",
    "        },\n",
    "    },\n",
    ")\n",
    "solver = tokamak.transport_solver"
   ]
  },
  {
   "cell_type": "code",
   "execution_count": 4,
   "metadata": {},
   "outputs": [
    {
     "name": "stdout",
     "output_type": "stream",
     "text": [
      "\u001b[0;34m2024-01-08 11:48:13,558 [    spdm]     INFO: Initialize module fytok.plugins.equilibrium.FyEqAnalyze \u001b[0m\n",
      "\u001b[0;34m2024-01-08 11:48:13,564 [    spdm]     INFO: Initialize module fytok.modules.CoreTransport \u001b[0m\n",
      "\u001b[0;34m2024-01-08 11:48:13,571 [    spdm]     INFO: Initialize module fytok.modules.CoreSources \u001b[0m\n",
      "\u001b[0;34m2024-01-08 11:48:13,575 [    spdm]     INFO: Initialize module fytok.modules.CoreProfiles \u001b[0m\n",
      "\u001b[0;37m2024-01-08 11:48:13,656 [    spdm]    DEBUG: /home/salmon/workspace/fytok/python/fytok/plugins/transport_solver_numerics/fy_trans/fy_trans.py:186:initialize:  Unknowns : ['psi', 'electrons/temperature', 'ion/D/density', 'ion/D/temperature', 'ion/T/density', 'ion/T/temperature', 'ion/He/density', 'ion/alpha/density']\u001b[0m\n"
     ]
    }
   ],
   "source": [
    "solver.initialize()"
   ]
  },
  {
   "cell_type": "code",
   "execution_count": 5,
   "metadata": {},
   "outputs": [
    {
     "name": "stdout",
     "output_type": "stream",
     "text": [
      "tags.not_found\n"
     ]
    }
   ],
   "source": [
    "print(tokamak.equilibrium.time_slice[-1])"
   ]
  },
  {
   "cell_type": "code",
   "execution_count": 6,
   "metadata": {},
   "outputs": [
    {
     "name": "stdout",
     "output_type": "stream",
     "text": [
      "\u001b[0;34m2024-01-08 11:48:13,710 [    spdm]     INFO: Load module spdm.mesh.mesh_rectangular\u001b[0m\n",
      "\u001b[0;33m2024-01-08 11:48:13,743 [    spdm]  WARNING: /home/salmon/workspace/fytok/python/fytok/plugins/equilibrium/fy_eq/fy_eq.py:131:__init__: Singular values are caused when psi_norm takes values of 0.0 or 1.0.! 0.0 1.0\u001b[0m\n",
      "\u001b[0;34m2024-01-08 11:48:14,728 [    spdm]     INFO: Initialize module fytok.plugins.core_transport.model.dummy \u001b[0m\n",
      "\u001b[0;37m2024-01-08 11:48:14,736 [    spdm]    DEBUG: /home/salmon/workspace/fytok/python/fytok/modules/CoreTransport.py:148:fetch: \\bar{\\rho}_{tor}\u001b[0m\n",
      "\u001b[0;34m2024-01-08 11:48:14,771 [    spdm]     INFO: Initialize module fytok.plugins.core_sources.source.dummy \u001b[0m\n",
      "\u001b[0;34m2024-01-08 11:48:15,323 [    spdm]     INFO: Solve transport equations : psi  ,electrons/temperature  ,ion/D/density  ,ion/D/temperature  ,ion/T/density  ,ion/T/temperature  ,ion/He/density  ,ion/alpha/density\u001b[0m\n",
      "\u001b[0;34m2024-01-08 11:48:15,325 [    spdm]     INFO: Execute module fytok.plugins.transport_solver_numerics.fy_trans\u001b[0m\n"
     ]
    },
    {
     "ename": "RuntimeError",
     "evalue": "Error when calcuate psi {\\frac{{-{\\frac{dV}{d\\rho_{tor}}\\left({5.05538462} \\cdot {\\frac{d V}{d\\psi}\\left(\\right)},\\frac{d\\psi}{\\rho_{tor}}\\left({5.05538462} \\cdot {\\rho_{tor}\\left(absolute{\\frac{\\phi\\left(\\intop^{-1}\\left(\\frac{d\\phi}{d\\psi}\\left(f\\left({{24.77502258307988} \\cdot {\\intop^{-1}\\left(\\frac{f d f}{d \\psi}\\left(\\bar{\\psi}\\left({\\bar{\\rho}_{tor}}\\right)\\right)\\right)}} + {1079.7796019716002}\\right),<\\frac{1.0}{{{NoneType\\left(\\right)}} ^ {2}}>\\left(\\right)\\right)\\right),12.38751129153994\\right)}{-15.881959183262827}}\\right)},q\\left(\\frac{d\\phi}{d\\psi}\\left(f\\left({{24.77502258307988} \\cdot {\\intop^{-1}\\left(\\frac{f d f}{d \\psi}\\left(\\bar{\\psi}\\left({\\bar{\\rho}_{tor}}\\right)\\right)\\right)}} + {1079.7796019716002}\\right),<\\frac{1.0}{{{NoneType\\left(\\right)}} ^ {2}}>\\left(\\right)\\right),0.15915494309189535\\right)\\right)\\right)}} \\cdot {NoneType\\left(\\right)}}{{6.283185307179586} \\cdot {{NoneType\\left(881.076842346014\\right)} \\cdot {{\\bar{\\rho}_{tor}}}}}} \\cdot {\\frac{{{-6.3527836767634325e-06} \\cdot {{\\bar{\\rho}_{tor}}}} \\cdot {{NoneType\\left(881.076842346014\\right)} ^ {2}}}{{f\\left({{24.77502258307988} \\cdot {\\intop^{-1}\\left(\\frac{f d f}{d \\psi}\\left(\\bar{\\psi}\\left({\\bar{\\rho}_{tor}}\\right)\\right)\\right)}} + {1079.7796019716002}\\right)} ^ {2}}}",
     "output_type": "error",
     "traceback": [
      "\u001b[0;31m---------------------------------------------------------------------------\u001b[0m",
      "\u001b[0;31mTypeError\u001b[0m                                 Traceback (most recent call last)",
      "File \u001b[0;32m~/workspace/fytok/SpDM/python/spdm/numlib/interpolate.py:106\u001b[0m, in \u001b[0;36mRectInterpolateOp.__call__\u001b[0;34m(self, *args, **kwargs)\u001b[0m\n\u001b[1;32m    105\u001b[0m \u001b[38;5;28;01mtry\u001b[39;00m:\n\u001b[0;32m--> 106\u001b[0m     res \u001b[38;5;241m=\u001b[39m \u001b[38;5;28;43mself\u001b[39;49m\u001b[38;5;241;43m.\u001b[39;49m\u001b[43mppoly\u001b[49m\u001b[43m(\u001b[49m\u001b[38;5;241;43m*\u001b[39;49m\u001b[43margs\u001b[49m\u001b[43m,\u001b[49m\u001b[43m \u001b[49m\u001b[38;5;241;43m*\u001b[39;49m\u001b[38;5;241;43m*\u001b[39;49m\u001b[43mkwargs\u001b[49m\u001b[43m,\u001b[49m\u001b[43m \u001b[49m\u001b[38;5;241;43m*\u001b[39;49m\u001b[38;5;241;43m*\u001b[39;49m\u001b[38;5;28;43mself\u001b[39;49m\u001b[38;5;241;43m.\u001b[39;49m\u001b[43m_opts\u001b[49m\u001b[43m)\u001b[49m\n\u001b[1;32m    107\u001b[0m \u001b[38;5;28;01mexcept\u001b[39;00m \u001b[38;5;167;01mValueError\u001b[39;00m \u001b[38;5;28;01mas\u001b[39;00m e:\n",
      "\u001b[0;31mTypeError\u001b[0m: UnivariateSpline.__call__() takes from 2 to 4 positional arguments but 18 were given",
      "\nThe above exception was the direct cause of the following exception:\n",
      "\u001b[0;31mTypeError\u001b[0m                                 Traceback (most recent call last)",
      "File \u001b[0;32m~/workspace/fytok/SpDM/python/spdm/data/Expression.py:289\u001b[0m, in \u001b[0;36mExpression.__call__\u001b[0;34m(self, *args, **kwargs)\u001b[0m\n\u001b[1;32m    288\u001b[0m         kwargs \u001b[38;5;241m=\u001b[39m {}\n\u001b[0;32m--> 289\u001b[0m     res \u001b[38;5;241m=\u001b[39m \u001b[38;5;28;43mself\u001b[39;49m\u001b[38;5;241;43m.\u001b[39;49m\u001b[43m__eval__\u001b[49m\u001b[43m(\u001b[49m\u001b[38;5;241;43m*\u001b[39;49m\u001b[43margs\u001b[49m\u001b[43m)\u001b[49m\n\u001b[1;32m    290\u001b[0m \u001b[38;5;28;01mexcept\u001b[39;00m \u001b[38;5;167;01mException\u001b[39;00m \u001b[38;5;28;01mas\u001b[39;00m error:\n",
      "File \u001b[0;32m~/workspace/fytok/SpDM/python/spdm/data/Function.py:205\u001b[0m, in \u001b[0;36mFunction.__eval__\u001b[0;34m(self, *args, **kwargs)\u001b[0m\n\u001b[1;32m    185\u001b[0m \u001b[38;5;250m\u001b[39m\u001b[38;5;124;03m\"\"\"\u001b[39;00m\n\u001b[1;32m    186\u001b[0m \u001b[38;5;124;03m对函数进行编译，用插值函数替代原始表达式，提高运算速度\u001b[39;00m\n\u001b[1;32m    187\u001b[0m \n\u001b[0;32m   (...)\u001b[0m\n\u001b[1;32m    202\u001b[0m \u001b[38;5;124;03m    if force 强制返回多项式ppoly ，否则 可能返回 Expression or callable\u001b[39;00m\n\u001b[1;32m    203\u001b[0m \u001b[38;5;124;03m\"\"\"\u001b[39;00m\n\u001b[0;32m--> 205\u001b[0m res \u001b[38;5;241m=\u001b[39m \u001b[38;5;28;43mself\u001b[39;49m\u001b[38;5;241;43m.\u001b[39;49m\u001b[43m_ppoly\u001b[49m\u001b[43m(\u001b[49m\u001b[38;5;241;43m*\u001b[39;49m\u001b[43margs\u001b[49m\u001b[43m,\u001b[49m\u001b[43m \u001b[49m\u001b[38;5;241;43m*\u001b[39;49m\u001b[38;5;241;43m*\u001b[39;49m\u001b[43mkwargs\u001b[49m\u001b[43m)\u001b[49m\n\u001b[1;32m    207\u001b[0m \u001b[38;5;28;01mreturn\u001b[39;00m res\n",
      "File \u001b[0;32m~/workspace/fytok/SpDM/python/spdm/numlib/interpolate.py:110\u001b[0m, in \u001b[0;36mRectInterpolateOp.__call__\u001b[0;34m(self, *args, **kwargs)\u001b[0m\n\u001b[1;32m    109\u001b[0m \u001b[38;5;28;01mexcept\u001b[39;00m \u001b[38;5;167;01mTypeError\u001b[39;00m \u001b[38;5;28;01mas\u001b[39;00m e:\n\u001b[0;32m--> 110\u001b[0m     \u001b[38;5;28;01mraise\u001b[39;00m \u001b[38;5;167;01mTypeError\u001b[39;00m(\u001b[38;5;124mf\u001b[39m\u001b[38;5;124m\"\u001b[39m\u001b[38;5;132;01m{\u001b[39;00margs\u001b[38;5;132;01m}\u001b[39;00m\u001b[38;5;124m\"\u001b[39m) \u001b[38;5;28;01mfrom\u001b[39;00m \u001b[38;5;21;01me\u001b[39;00m\n\u001b[1;32m    112\u001b[0m \u001b[38;5;28;01mif\u001b[39;00m \u001b[38;5;129;01mnot\u001b[39;00m \u001b[38;5;28misinstance\u001b[39m(args[\u001b[38;5;241m0\u001b[39m], array_type) \u001b[38;5;129;01mor\u001b[39;00m args[\u001b[38;5;241m0\u001b[39m]\u001b[38;5;241m.\u001b[39msize \u001b[38;5;241m==\u001b[39m \u001b[38;5;241m1\u001b[39m:\n",
      "\u001b[0;31mTypeError\u001b[0m: (array([0.01      , 0.01775591, 0.02551181, 0.03326772, 0.04102362,\n       0.04877953, 0.05653543, 0.06429134, 0.07204724, 0.07980315,\n       0.08755906, 0.09531496, 0.10307087, 0.11082677, 0.11858268,\n       0.12633858, 0.13409449, 0.14185039, 0.1496063 , 0.1573622 ,\n       0.16511811, 0.17287402, 0.18062992, 0.18838583, 0.19614173,\n       0.20389764, 0.21165354, 0.21940945, 0.22716535, 0.23492126,\n       0.24267717, 0.25043307, 0.25818898, 0.26594488, 0.27370079,\n       0.28145669, 0.2892126 , 0.2969685 , 0.30472441, 0.31248031,\n       0.32023622, 0.32799213, 0.33574803, 0.34350394, 0.35125984,\n       0.35901575, 0.36677165, 0.37452756, 0.38228346, 0.39003937,\n       0.39779528, 0.40555118, 0.41330709, 0.42106299, 0.4288189 ,\n       0.4365748 , 0.44433071, 0.45208661, 0.45984252, 0.46759843,\n       0.47535433, 0.48311024, 0.49086614, 0.49862205, 0.50637795,\n       0.51413386, 0.52188976, 0.52964567, 0.53740157, 0.54515748,\n       0.55291339, 0.56066929, 0.5684252 , 0.5761811 , 0.58393701,\n       0.59169291, 0.59944882, 0.60720472, 0.61496063, 0.62271654,\n       0.63047244, 0.63822835, 0.64598425, 0.65374016, 0.66149606,\n       0.66925197, 0.67700787, 0.68476378, 0.69251969, 0.70027559,\n       0.7080315 , 0.7157874 , 0.72354331, 0.73129921, 0.73905512,\n       0.74681102, 0.75456693, 0.76232283, 0.77007874, 0.77783465,\n       0.78559055, 0.79334646, 0.80110236, 0.80885827, 0.81661417,\n       0.82437008, 0.83212598, 0.83988189, 0.8476378 , 0.8553937 ,\n       0.86314961, 0.87090551, 0.87866142, 0.88641732, 0.89417323,\n       0.90192913, 0.90968504, 0.91744094, 0.92519685, 0.93295276,\n       0.94070866, 0.94846457, 0.95622047, 0.96397638, 0.97173228,\n       0.97948819, 0.98724409, 0.995     ]), array([0., 0., 0., 0., 0., 0., 0., 0., 0., 0., 0., 0., 0., 0., 0., 0., 0.,\n       0., 0., 0., 0., 0., 0., 0., 0., 0., 0., 0., 0., 0., 0., 0., 0., 0.,\n       0., 0., 0., 0., 0., 0., 0., 0., 0., 0., 0., 0., 0., 0., 0., 0., 0.,\n       0., 0., 0., 0., 0., 0., 0., 0., 0., 0., 0., 0., 0., 0., 0., 0., 0.,\n       0., 0., 0., 0., 0., 0., 0., 0., 0., 0., 0., 0., 0., 0., 0., 0., 0.,\n       0., 0., 0., 0., 0., 0., 0., 0., 0., 0., 0., 0., 0., 0., 0., 0., 0.,\n       0., 0., 0., 0., 0., 0., 0., 0., 0., 0., 0., 0., 0., 0., 0., 0., 0.,\n       0., 0., 0., 0., 0., 0., 0., 0., 0.]), array([0., 0., 0., 0., 0., 0., 0., 0., 0., 0., 0., 0., 0., 0., 0., 0., 0.,\n       0., 0., 0., 0., 0., 0., 0., 0., 0., 0., 0., 0., 0., 0., 0., 0., 0.,\n       0., 0., 0., 0., 0., 0., 0., 0., 0., 0., 0., 0., 0., 0., 0., 0., 0.,\n       0., 0., 0., 0., 0., 0., 0., 0., 0., 0., 0., 0., 0., 0., 0., 0., 0.,\n       0., 0., 0., 0., 0., 0., 0., 0., 0., 0., 0., 0., 0., 0., 0., 0., 0.,\n       0., 0., 0., 0., 0., 0., 0., 0., 0., 0., 0., 0., 0., 0., 0., 0., 0.,\n       0., 0., 0., 0., 0., 0., 0., 0., 0., 0., 0., 0., 0., 0., 0., 0., 0.,\n       0., 0., 0., 0., 0., 0., 0., 0., 0.]), array([0., 0., 0., 0., 0., 0., 0., 0., 0., 0., 0., 0., 0., 0., 0., 0., 0.,\n       0., 0., 0., 0., 0., 0., 0., 0., 0., 0., 0., 0., 0., 0., 0., 0., 0.,\n       0., 0., 0., 0., 0., 0., 0., 0., 0., 0., 0., 0., 0., 0., 0., 0., 0.,\n       0., 0., 0., 0., 0., 0., 0., 0., 0., 0., 0., 0., 0., 0., 0., 0., 0.,\n       0., 0., 0., 0., 0., 0., 0., 0., 0., 0., 0., 0., 0., 0., 0., 0., 0.,\n       0., 0., 0., 0., 0., 0., 0., 0., 0., 0., 0., 0., 0., 0., 0., 0., 0.,\n       0., 0., 0., 0., 0., 0., 0., 0., 0., 0., 0., 0., 0., 0., 0., 0., 0.,\n       0., 0., 0., 0., 0., 0., 0., 0., 0.]), array([0., 0., 0., 0., 0., 0., 0., 0., 0., 0., 0., 0., 0., 0., 0., 0., 0.,\n       0., 0., 0., 0., 0., 0., 0., 0., 0., 0., 0., 0., 0., 0., 0., 0., 0.,\n       0., 0., 0., 0., 0., 0., 0., 0., 0., 0., 0., 0., 0., 0., 0., 0., 0.,\n       0., 0., 0., 0., 0., 0., 0., 0., 0., 0., 0., 0., 0., 0., 0., 0., 0.,\n       0., 0., 0., 0., 0., 0., 0., 0., 0., 0., 0., 0., 0., 0., 0., 0., 0.,\n       0., 0., 0., 0., 0., 0., 0., 0., 0., 0., 0., 0., 0., 0., 0., 0., 0.,\n       0., 0., 0., 0., 0., 0., 0., 0., 0., 0., 0., 0., 0., 0., 0., 0., 0.,\n       0., 0., 0., 0., 0., 0., 0., 0., 0.]), array([0., 0., 0., 0., 0., 0., 0., 0., 0., 0., 0., 0., 0., 0., 0., 0., 0.,\n       0., 0., 0., 0., 0., 0., 0., 0., 0., 0., 0., 0., 0., 0., 0., 0., 0.,\n       0., 0., 0., 0., 0., 0., 0., 0., 0., 0., 0., 0., 0., 0., 0., 0., 0.,\n       0., 0., 0., 0., 0., 0., 0., 0., 0., 0., 0., 0., 0., 0., 0., 0., 0.,\n       0., 0., 0., 0., 0., 0., 0., 0., 0., 0., 0., 0., 0., 0., 0., 0., 0.,\n       0., 0., 0., 0., 0., 0., 0., 0., 0., 0., 0., 0., 0., 0., 0., 0., 0.,\n       0., 0., 0., 0., 0., 0., 0., 0., 0., 0., 0., 0., 0., 0., 0., 0., 0.,\n       0., 0., 0., 0., 0., 0., 0., 0., 0.]), array([0., 0., 0., 0., 0., 0., 0., 0., 0., 0., 0., 0., 0., 0., 0., 0., 0.,\n       0., 0., 0., 0., 0., 0., 0., 0., 0., 0., 0., 0., 0., 0., 0., 0., 0.,\n       0., 0., 0., 0., 0., 0., 0., 0., 0., 0., 0., 0., 0., 0., 0., 0., 0.,\n       0., 0., 0., 0., 0., 0., 0., 0., 0., 0., 0., 0., 0., 0., 0., 0., 0.,\n       0., 0., 0., 0., 0., 0., 0., 0., 0., 0., 0., 0., 0., 0., 0., 0., 0.,\n       0., 0., 0., 0., 0., 0., 0., 0., 0., 0., 0., 0., 0., 0., 0., 0., 0.,\n       0., 0., 0., 0., 0., 0., 0., 0., 0., 0., 0., 0., 0., 0., 0., 0., 0.,\n       0., 0., 0., 0., 0., 0., 0., 0., 0.]), array([0., 0., 0., 0., 0., 0., 0., 0., 0., 0., 0., 0., 0., 0., 0., 0., 0.,\n       0., 0., 0., 0., 0., 0., 0., 0., 0., 0., 0., 0., 0., 0., 0., 0., 0.,\n       0., 0., 0., 0., 0., 0., 0., 0., 0., 0., 0., 0., 0., 0., 0., 0., 0.,\n       0., 0., 0., 0., 0., 0., 0., 0., 0., 0., 0., 0., 0., 0., 0., 0., 0.,\n       0., 0., 0., 0., 0., 0., 0., 0., 0., 0., 0., 0., 0., 0., 0., 0., 0.,\n       0., 0., 0., 0., 0., 0., 0., 0., 0., 0., 0., 0., 0., 0., 0., 0., 0.,\n       0., 0., 0., 0., 0., 0., 0., 0., 0., 0., 0., 0., 0., 0., 0., 0., 0.,\n       0., 0., 0., 0., 0., 0., 0., 0., 0.]), array([0., 0., 0., 0., 0., 0., 0., 0., 0., 0., 0., 0., 0., 0., 0., 0., 0.,\n       0., 0., 0., 0., 0., 0., 0., 0., 0., 0., 0., 0., 0., 0., 0., 0., 0.,\n       0., 0., 0., 0., 0., 0., 0., 0., 0., 0., 0., 0., 0., 0., 0., 0., 0.,\n       0., 0., 0., 0., 0., 0., 0., 0., 0., 0., 0., 0., 0., 0., 0., 0., 0.,\n       0., 0., 0., 0., 0., 0., 0., 0., 0., 0., 0., 0., 0., 0., 0., 0., 0.,\n       0., 0., 0., 0., 0., 0., 0., 0., 0., 0., 0., 0., 0., 0., 0., 0., 0.,\n       0., 0., 0., 0., 0., 0., 0., 0., 0., 0., 0., 0., 0., 0., 0., 0., 0.,\n       0., 0., 0., 0., 0., 0., 0., 0., 0.]), array([0., 0., 0., 0., 0., 0., 0., 0., 0., 0., 0., 0., 0., 0., 0., 0., 0.,\n       0., 0., 0., 0., 0., 0., 0., 0., 0., 0., 0., 0., 0., 0., 0., 0., 0.,\n       0., 0., 0., 0., 0., 0., 0., 0., 0., 0., 0., 0., 0., 0., 0., 0., 0.,\n       0., 0., 0., 0., 0., 0., 0., 0., 0., 0., 0., 0., 0., 0., 0., 0., 0.,\n       0., 0., 0., 0., 0., 0., 0., 0., 0., 0., 0., 0., 0., 0., 0., 0., 0.,\n       0., 0., 0., 0., 0., 0., 0., 0., 0., 0., 0., 0., 0., 0., 0., 0., 0.,\n       0., 0., 0., 0., 0., 0., 0., 0., 0., 0., 0., 0., 0., 0., 0., 0., 0.,\n       0., 0., 0., 0., 0., 0., 0., 0., 0.]), array([0., 0., 0., 0., 0., 0., 0., 0., 0., 0., 0., 0., 0., 0., 0., 0., 0.,\n       0., 0., 0., 0., 0., 0., 0., 0., 0., 0., 0., 0., 0., 0., 0., 0., 0.,\n       0., 0., 0., 0., 0., 0., 0., 0., 0., 0., 0., 0., 0., 0., 0., 0., 0.,\n       0., 0., 0., 0., 0., 0., 0., 0., 0., 0., 0., 0., 0., 0., 0., 0., 0.,\n       0., 0., 0., 0., 0., 0., 0., 0., 0., 0., 0., 0., 0., 0., 0., 0., 0.,\n       0., 0., 0., 0., 0., 0., 0., 0., 0., 0., 0., 0., 0., 0., 0., 0., 0.,\n       0., 0., 0., 0., 0., 0., 0., 0., 0., 0., 0., 0., 0., 0., 0., 0., 0.,\n       0., 0., 0., 0., 0., 0., 0., 0., 0.]), array([0., 0., 0., 0., 0., 0., 0., 0., 0., 0., 0., 0., 0., 0., 0., 0., 0.,\n       0., 0., 0., 0., 0., 0., 0., 0., 0., 0., 0., 0., 0., 0., 0., 0., 0.,\n       0., 0., 0., 0., 0., 0., 0., 0., 0., 0., 0., 0., 0., 0., 0., 0., 0.,\n       0., 0., 0., 0., 0., 0., 0., 0., 0., 0., 0., 0., 0., 0., 0., 0., 0.,\n       0., 0., 0., 0., 0., 0., 0., 0., 0., 0., 0., 0., 0., 0., 0., 0., 0.,\n       0., 0., 0., 0., 0., 0., 0., 0., 0., 0., 0., 0., 0., 0., 0., 0., 0.,\n       0., 0., 0., 0., 0., 0., 0., 0., 0., 0., 0., 0., 0., 0., 0., 0., 0.,\n       0., 0., 0., 0., 0., 0., 0., 0., 0.]), array([0., 0., 0., 0., 0., 0., 0., 0., 0., 0., 0., 0., 0., 0., 0., 0., 0.,\n       0., 0., 0., 0., 0., 0., 0., 0., 0., 0., 0., 0., 0., 0., 0., 0., 0.,\n       0., 0., 0., 0., 0., 0., 0., 0., 0., 0., 0., 0., 0., 0., 0., 0., 0.,\n       0., 0., 0., 0., 0., 0., 0., 0., 0., 0., 0., 0., 0., 0., 0., 0., 0.,\n       0., 0., 0., 0., 0., 0., 0., 0., 0., 0., 0., 0., 0., 0., 0., 0., 0.,\n       0., 0., 0., 0., 0., 0., 0., 0., 0., 0., 0., 0., 0., 0., 0., 0., 0.,\n       0., 0., 0., 0., 0., 0., 0., 0., 0., 0., 0., 0., 0., 0., 0., 0., 0.,\n       0., 0., 0., 0., 0., 0., 0., 0., 0.]), array([0., 0., 0., 0., 0., 0., 0., 0., 0., 0., 0., 0., 0., 0., 0., 0., 0.,\n       0., 0., 0., 0., 0., 0., 0., 0., 0., 0., 0., 0., 0., 0., 0., 0., 0.,\n       0., 0., 0., 0., 0., 0., 0., 0., 0., 0., 0., 0., 0., 0., 0., 0., 0.,\n       0., 0., 0., 0., 0., 0., 0., 0., 0., 0., 0., 0., 0., 0., 0., 0., 0.,\n       0., 0., 0., 0., 0., 0., 0., 0., 0., 0., 0., 0., 0., 0., 0., 0., 0.,\n       0., 0., 0., 0., 0., 0., 0., 0., 0., 0., 0., 0., 0., 0., 0., 0., 0.,\n       0., 0., 0., 0., 0., 0., 0., 0., 0., 0., 0., 0., 0., 0., 0., 0., 0.,\n       0., 0., 0., 0., 0., 0., 0., 0., 0.]), array([0., 0., 0., 0., 0., 0., 0., 0., 0., 0., 0., 0., 0., 0., 0., 0., 0.,\n       0., 0., 0., 0., 0., 0., 0., 0., 0., 0., 0., 0., 0., 0., 0., 0., 0.,\n       0., 0., 0., 0., 0., 0., 0., 0., 0., 0., 0., 0., 0., 0., 0., 0., 0.,\n       0., 0., 0., 0., 0., 0., 0., 0., 0., 0., 0., 0., 0., 0., 0., 0., 0.,\n       0., 0., 0., 0., 0., 0., 0., 0., 0., 0., 0., 0., 0., 0., 0., 0., 0.,\n       0., 0., 0., 0., 0., 0., 0., 0., 0., 0., 0., 0., 0., 0., 0., 0., 0.,\n       0., 0., 0., 0., 0., 0., 0., 0., 0., 0., 0., 0., 0., 0., 0., 0., 0.,\n       0., 0., 0., 0., 0., 0., 0., 0., 0.]), array([0., 0., 0., 0., 0., 0., 0., 0., 0., 0., 0., 0., 0., 0., 0., 0., 0.,\n       0., 0., 0., 0., 0., 0., 0., 0., 0., 0., 0., 0., 0., 0., 0., 0., 0.,\n       0., 0., 0., 0., 0., 0., 0., 0., 0., 0., 0., 0., 0., 0., 0., 0., 0.,\n       0., 0., 0., 0., 0., 0., 0., 0., 0., 0., 0., 0., 0., 0., 0., 0., 0.,\n       0., 0., 0., 0., 0., 0., 0., 0., 0., 0., 0., 0., 0., 0., 0., 0., 0.,\n       0., 0., 0., 0., 0., 0., 0., 0., 0., 0., 0., 0., 0., 0., 0., 0., 0.,\n       0., 0., 0., 0., 0., 0., 0., 0., 0., 0., 0., 0., 0., 0., 0., 0., 0.,\n       0., 0., 0., 0., 0., 0., 0., 0., 0.]), array([0., 0., 0., 0., 0., 0., 0., 0., 0., 0., 0., 0., 0., 0., 0., 0., 0.,\n       0., 0., 0., 0., 0., 0., 0., 0., 0., 0., 0., 0., 0., 0., 0., 0., 0.,\n       0., 0., 0., 0., 0., 0., 0., 0., 0., 0., 0., 0., 0., 0., 0., 0., 0.,\n       0., 0., 0., 0., 0., 0., 0., 0., 0., 0., 0., 0., 0., 0., 0., 0., 0.,\n       0., 0., 0., 0., 0., 0., 0., 0., 0., 0., 0., 0., 0., 0., 0., 0., 0.,\n       0., 0., 0., 0., 0., 0., 0., 0., 0., 0., 0., 0., 0., 0., 0., 0., 0.,\n       0., 0., 0., 0., 0., 0., 0., 0., 0., 0., 0., 0., 0., 0., 0., 0., 0.,\n       0., 0., 0., 0., 0., 0., 0., 0., 0.]))",
      "\nThe above exception was the direct cause of the following exception:\n",
      "\u001b[0;31mRuntimeError\u001b[0m                              Traceback (most recent call last)",
      "File \u001b[0;32m~/workspace/fytok/SpDM/python/spdm/data/Expression.py:287\u001b[0m, in \u001b[0;36mExpression.__call__\u001b[0;34m(self, *args, **kwargs)\u001b[0m\n\u001b[1;32m    286\u001b[0m \u001b[38;5;28;01mif\u001b[39;00m \u001b[38;5;28mlen\u001b[39m(\u001b[38;5;28mself\u001b[39m\u001b[38;5;241m.\u001b[39m_children) \u001b[38;5;241m>\u001b[39m \u001b[38;5;241m0\u001b[39m:\n\u001b[0;32m--> 287\u001b[0m     args \u001b[38;5;241m=\u001b[39m [(child(\u001b[38;5;241m*\u001b[39margs, \u001b[38;5;241m*\u001b[39m\u001b[38;5;241m*\u001b[39mkwargs) \u001b[38;5;28;01mif\u001b[39;00m \u001b[38;5;28mcallable\u001b[39m(child) \u001b[38;5;28;01melse\u001b[39;00m child) \u001b[38;5;28;01mfor\u001b[39;00m child \u001b[38;5;129;01min\u001b[39;00m \u001b[38;5;28mself\u001b[39m\u001b[38;5;241m.\u001b[39m_children]\n\u001b[1;32m    288\u001b[0m     kwargs \u001b[38;5;241m=\u001b[39m {}\n",
      "File \u001b[0;32m~/workspace/fytok/SpDM/python/spdm/data/Expression.py:287\u001b[0m, in \u001b[0;36m<listcomp>\u001b[0;34m(.0)\u001b[0m\n\u001b[1;32m    286\u001b[0m \u001b[38;5;28;01mif\u001b[39;00m \u001b[38;5;28mlen\u001b[39m(\u001b[38;5;28mself\u001b[39m\u001b[38;5;241m.\u001b[39m_children) \u001b[38;5;241m>\u001b[39m \u001b[38;5;241m0\u001b[39m:\n\u001b[0;32m--> 287\u001b[0m     args \u001b[38;5;241m=\u001b[39m [(\u001b[43mchild\u001b[49m\u001b[43m(\u001b[49m\u001b[38;5;241;43m*\u001b[39;49m\u001b[43margs\u001b[49m\u001b[43m,\u001b[49m\u001b[43m \u001b[49m\u001b[38;5;241;43m*\u001b[39;49m\u001b[38;5;241;43m*\u001b[39;49m\u001b[43mkwargs\u001b[49m\u001b[43m)\u001b[49m \u001b[38;5;28;01mif\u001b[39;00m \u001b[38;5;28mcallable\u001b[39m(child) \u001b[38;5;28;01melse\u001b[39;00m child) \u001b[38;5;28;01mfor\u001b[39;00m child \u001b[38;5;129;01min\u001b[39;00m \u001b[38;5;28mself\u001b[39m\u001b[38;5;241m.\u001b[39m_children]\n\u001b[1;32m    288\u001b[0m     kwargs \u001b[38;5;241m=\u001b[39m {}\n",
      "File \u001b[0;32m~/workspace/fytok/SpDM/python/spdm/data/Expression.py:291\u001b[0m, in \u001b[0;36mExpression.__call__\u001b[0;34m(self, *args, **kwargs)\u001b[0m\n\u001b[1;32m    290\u001b[0m     \u001b[38;5;28;01mexcept\u001b[39;00m \u001b[38;5;167;01mException\u001b[39;00m \u001b[38;5;28;01mas\u001b[39;00m error:\n\u001b[0;32m--> 291\u001b[0m         \u001b[38;5;28;01mraise\u001b[39;00m \u001b[38;5;167;01mRuntimeError\u001b[39;00m(\u001b[38;5;124mf\u001b[39m\u001b[38;5;124m\"\u001b[39m\u001b[38;5;124mFailure to calculate  equation \u001b[39m\u001b[38;5;132;01m{\u001b[39;00m\u001b[38;5;28mself\u001b[39m\u001b[38;5;241m.\u001b[39m_repr_latex_()\u001b[38;5;132;01m}\u001b[39;00m\u001b[38;5;124m !\u001b[39m\u001b[38;5;124m\"\u001b[39m) \u001b[38;5;28;01mfrom\u001b[39;00m \u001b[38;5;21;01merror\u001b[39;00m\n\u001b[1;32m    293\u001b[0m \u001b[38;5;28;01mreturn\u001b[39;00m res\n",
      "\u001b[0;31mRuntimeError\u001b[0m: Failure to calculate  equation $$\\frac{d V}{d\\psi}\\left(\\right)$$ !",
      "\nThe above exception was the direct cause of the following exception:\n",
      "\u001b[0;31mRuntimeError\u001b[0m                              Traceback (most recent call last)",
      "File \u001b[0;32m~/workspace/fytok/SpDM/python/spdm/data/Expression.py:287\u001b[0m, in \u001b[0;36mExpression.__call__\u001b[0;34m(self, *args, **kwargs)\u001b[0m\n\u001b[1;32m    286\u001b[0m \u001b[38;5;28;01mif\u001b[39;00m \u001b[38;5;28mlen\u001b[39m(\u001b[38;5;28mself\u001b[39m\u001b[38;5;241m.\u001b[39m_children) \u001b[38;5;241m>\u001b[39m \u001b[38;5;241m0\u001b[39m:\n\u001b[0;32m--> 287\u001b[0m     args \u001b[38;5;241m=\u001b[39m [(child(\u001b[38;5;241m*\u001b[39margs, \u001b[38;5;241m*\u001b[39m\u001b[38;5;241m*\u001b[39mkwargs) \u001b[38;5;28;01mif\u001b[39;00m \u001b[38;5;28mcallable\u001b[39m(child) \u001b[38;5;28;01melse\u001b[39;00m child) \u001b[38;5;28;01mfor\u001b[39;00m child \u001b[38;5;129;01min\u001b[39;00m \u001b[38;5;28mself\u001b[39m\u001b[38;5;241m.\u001b[39m_children]\n\u001b[1;32m    288\u001b[0m     kwargs \u001b[38;5;241m=\u001b[39m {}\n",
      "File \u001b[0;32m~/workspace/fytok/SpDM/python/spdm/data/Expression.py:287\u001b[0m, in \u001b[0;36m<listcomp>\u001b[0;34m(.0)\u001b[0m\n\u001b[1;32m    286\u001b[0m \u001b[38;5;28;01mif\u001b[39;00m \u001b[38;5;28mlen\u001b[39m(\u001b[38;5;28mself\u001b[39m\u001b[38;5;241m.\u001b[39m_children) \u001b[38;5;241m>\u001b[39m \u001b[38;5;241m0\u001b[39m:\n\u001b[0;32m--> 287\u001b[0m     args \u001b[38;5;241m=\u001b[39m [(\u001b[43mchild\u001b[49m\u001b[43m(\u001b[49m\u001b[38;5;241;43m*\u001b[39;49m\u001b[43margs\u001b[49m\u001b[43m,\u001b[49m\u001b[43m \u001b[49m\u001b[38;5;241;43m*\u001b[39;49m\u001b[38;5;241;43m*\u001b[39;49m\u001b[43mkwargs\u001b[49m\u001b[43m)\u001b[49m \u001b[38;5;28;01mif\u001b[39;00m \u001b[38;5;28mcallable\u001b[39m(child) \u001b[38;5;28;01melse\u001b[39;00m child) \u001b[38;5;28;01mfor\u001b[39;00m child \u001b[38;5;129;01min\u001b[39;00m \u001b[38;5;28mself\u001b[39m\u001b[38;5;241m.\u001b[39m_children]\n\u001b[1;32m    288\u001b[0m     kwargs \u001b[38;5;241m=\u001b[39m {}\n",
      "File \u001b[0;32m~/workspace/fytok/SpDM/python/spdm/data/Expression.py:291\u001b[0m, in \u001b[0;36mExpression.__call__\u001b[0;34m(self, *args, **kwargs)\u001b[0m\n\u001b[1;32m    290\u001b[0m     \u001b[38;5;28;01mexcept\u001b[39;00m \u001b[38;5;167;01mException\u001b[39;00m \u001b[38;5;28;01mas\u001b[39;00m error:\n\u001b[0;32m--> 291\u001b[0m         \u001b[38;5;28;01mraise\u001b[39;00m \u001b[38;5;167;01mRuntimeError\u001b[39;00m(\u001b[38;5;124mf\u001b[39m\u001b[38;5;124m\"\u001b[39m\u001b[38;5;124mFailure to calculate  equation \u001b[39m\u001b[38;5;132;01m{\u001b[39;00m\u001b[38;5;28mself\u001b[39m\u001b[38;5;241m.\u001b[39m_repr_latex_()\u001b[38;5;132;01m}\u001b[39;00m\u001b[38;5;124m !\u001b[39m\u001b[38;5;124m\"\u001b[39m) \u001b[38;5;28;01mfrom\u001b[39;00m \u001b[38;5;21;01merror\u001b[39;00m\n\u001b[1;32m    293\u001b[0m \u001b[38;5;28;01mreturn\u001b[39;00m res\n",
      "\u001b[0;31mRuntimeError\u001b[0m: Failure to calculate  equation $${5.05538462} \\cdot {\\frac{d V}{d\\psi}\\left(\\right)}$$ !",
      "\nThe above exception was the direct cause of the following exception:\n",
      "\u001b[0;31mRuntimeError\u001b[0m                              Traceback (most recent call last)",
      "File \u001b[0;32m~/workspace/fytok/SpDM/python/spdm/data/Expression.py:287\u001b[0m, in \u001b[0;36mExpression.__call__\u001b[0;34m(self, *args, **kwargs)\u001b[0m\n\u001b[1;32m    286\u001b[0m \u001b[38;5;28;01mif\u001b[39;00m \u001b[38;5;28mlen\u001b[39m(\u001b[38;5;28mself\u001b[39m\u001b[38;5;241m.\u001b[39m_children) \u001b[38;5;241m>\u001b[39m \u001b[38;5;241m0\u001b[39m:\n\u001b[0;32m--> 287\u001b[0m     args \u001b[38;5;241m=\u001b[39m [(child(\u001b[38;5;241m*\u001b[39margs, \u001b[38;5;241m*\u001b[39m\u001b[38;5;241m*\u001b[39mkwargs) \u001b[38;5;28;01mif\u001b[39;00m \u001b[38;5;28mcallable\u001b[39m(child) \u001b[38;5;28;01melse\u001b[39;00m child) \u001b[38;5;28;01mfor\u001b[39;00m child \u001b[38;5;129;01min\u001b[39;00m \u001b[38;5;28mself\u001b[39m\u001b[38;5;241m.\u001b[39m_children]\n\u001b[1;32m    288\u001b[0m     kwargs \u001b[38;5;241m=\u001b[39m {}\n",
      "File \u001b[0;32m~/workspace/fytok/SpDM/python/spdm/data/Expression.py:287\u001b[0m, in \u001b[0;36m<listcomp>\u001b[0;34m(.0)\u001b[0m\n\u001b[1;32m    286\u001b[0m \u001b[38;5;28;01mif\u001b[39;00m \u001b[38;5;28mlen\u001b[39m(\u001b[38;5;28mself\u001b[39m\u001b[38;5;241m.\u001b[39m_children) \u001b[38;5;241m>\u001b[39m \u001b[38;5;241m0\u001b[39m:\n\u001b[0;32m--> 287\u001b[0m     args \u001b[38;5;241m=\u001b[39m [(\u001b[43mchild\u001b[49m\u001b[43m(\u001b[49m\u001b[38;5;241;43m*\u001b[39;49m\u001b[43margs\u001b[49m\u001b[43m,\u001b[49m\u001b[43m \u001b[49m\u001b[38;5;241;43m*\u001b[39;49m\u001b[38;5;241;43m*\u001b[39;49m\u001b[43mkwargs\u001b[49m\u001b[43m)\u001b[49m \u001b[38;5;28;01mif\u001b[39;00m \u001b[38;5;28mcallable\u001b[39m(child) \u001b[38;5;28;01melse\u001b[39;00m child) \u001b[38;5;28;01mfor\u001b[39;00m child \u001b[38;5;129;01min\u001b[39;00m \u001b[38;5;28mself\u001b[39m\u001b[38;5;241m.\u001b[39m_children]\n\u001b[1;32m    288\u001b[0m     kwargs \u001b[38;5;241m=\u001b[39m {}\n",
      "File \u001b[0;32m~/workspace/fytok/SpDM/python/spdm/data/Expression.py:291\u001b[0m, in \u001b[0;36mExpression.__call__\u001b[0;34m(self, *args, **kwargs)\u001b[0m\n\u001b[1;32m    290\u001b[0m     \u001b[38;5;28;01mexcept\u001b[39;00m \u001b[38;5;167;01mException\u001b[39;00m \u001b[38;5;28;01mas\u001b[39;00m error:\n\u001b[0;32m--> 291\u001b[0m         \u001b[38;5;28;01mraise\u001b[39;00m \u001b[38;5;167;01mRuntimeError\u001b[39;00m(\u001b[38;5;124mf\u001b[39m\u001b[38;5;124m\"\u001b[39m\u001b[38;5;124mFailure to calculate  equation \u001b[39m\u001b[38;5;132;01m{\u001b[39;00m\u001b[38;5;28mself\u001b[39m\u001b[38;5;241m.\u001b[39m_repr_latex_()\u001b[38;5;132;01m}\u001b[39;00m\u001b[38;5;124m !\u001b[39m\u001b[38;5;124m\"\u001b[39m) \u001b[38;5;28;01mfrom\u001b[39;00m \u001b[38;5;21;01merror\u001b[39;00m\n\u001b[1;32m    293\u001b[0m \u001b[38;5;28;01mreturn\u001b[39;00m res\n",
      "\u001b[0;31mRuntimeError\u001b[0m: Failure to calculate  equation $$\\frac{dV}{d\\rho_{tor}}\\left({5.05538462} \\cdot {\\frac{d V}{d\\psi}\\left(\\right)},\\frac{d\\psi}{\\rho_{tor}}\\left({5.05538462} \\cdot {\\rho_{tor}\\left(absolute{\\frac{\\phi\\left(\\intop^{-1}\\left(\\frac{d\\phi}{d\\psi}\\left(f\\left({{24.77502258307988} \\cdot {\\intop^{-1}\\left(\\frac{f d f}{d \\psi}\\left(\\bar{\\psi}\\left({\\bar{\\rho}_{tor}}\\right)\\right)\\right)}} + {1079.7796019716002}\\right),<\\frac{1.0}{{{NoneType\\left(\\right)}} ^ {2}}>\\left(\\right)\\right)\\right),12.38751129153994\\right)}{-15.881959183262827}}\\right)},q\\left(\\frac{d\\phi}{d\\psi}\\left(f\\left({{24.77502258307988} \\cdot {\\intop^{-1}\\left(\\frac{f d f}{d \\psi}\\left(\\bar{\\psi}\\left({\\bar{\\rho}_{tor}}\\right)\\right)\\right)}} + {1079.7796019716002}\\right),<\\frac{1.0}{{{NoneType\\left(\\right)}} ^ {2}}>\\left(\\right)\\right),0.15915494309189535\\right)\\right)\\right)$$ !",
      "\nThe above exception was the direct cause of the following exception:\n",
      "\u001b[0;31mRuntimeError\u001b[0m                              Traceback (most recent call last)",
      "File \u001b[0;32m~/workspace/fytok/SpDM/python/spdm/data/Expression.py:287\u001b[0m, in \u001b[0;36mExpression.__call__\u001b[0;34m(self, *args, **kwargs)\u001b[0m\n\u001b[1;32m    286\u001b[0m \u001b[38;5;28;01mif\u001b[39;00m \u001b[38;5;28mlen\u001b[39m(\u001b[38;5;28mself\u001b[39m\u001b[38;5;241m.\u001b[39m_children) \u001b[38;5;241m>\u001b[39m \u001b[38;5;241m0\u001b[39m:\n\u001b[0;32m--> 287\u001b[0m     args \u001b[38;5;241m=\u001b[39m [(child(\u001b[38;5;241m*\u001b[39margs, \u001b[38;5;241m*\u001b[39m\u001b[38;5;241m*\u001b[39mkwargs) \u001b[38;5;28;01mif\u001b[39;00m \u001b[38;5;28mcallable\u001b[39m(child) \u001b[38;5;28;01melse\u001b[39;00m child) \u001b[38;5;28;01mfor\u001b[39;00m child \u001b[38;5;129;01min\u001b[39;00m \u001b[38;5;28mself\u001b[39m\u001b[38;5;241m.\u001b[39m_children]\n\u001b[1;32m    288\u001b[0m     kwargs \u001b[38;5;241m=\u001b[39m {}\n",
      "File \u001b[0;32m~/workspace/fytok/SpDM/python/spdm/data/Expression.py:287\u001b[0m, in \u001b[0;36m<listcomp>\u001b[0;34m(.0)\u001b[0m\n\u001b[1;32m    286\u001b[0m \u001b[38;5;28;01mif\u001b[39;00m \u001b[38;5;28mlen\u001b[39m(\u001b[38;5;28mself\u001b[39m\u001b[38;5;241m.\u001b[39m_children) \u001b[38;5;241m>\u001b[39m \u001b[38;5;241m0\u001b[39m:\n\u001b[0;32m--> 287\u001b[0m     args \u001b[38;5;241m=\u001b[39m [(\u001b[43mchild\u001b[49m\u001b[43m(\u001b[49m\u001b[38;5;241;43m*\u001b[39;49m\u001b[43margs\u001b[49m\u001b[43m,\u001b[49m\u001b[43m \u001b[49m\u001b[38;5;241;43m*\u001b[39;49m\u001b[38;5;241;43m*\u001b[39;49m\u001b[43mkwargs\u001b[49m\u001b[43m)\u001b[49m \u001b[38;5;28;01mif\u001b[39;00m \u001b[38;5;28mcallable\u001b[39m(child) \u001b[38;5;28;01melse\u001b[39;00m child) \u001b[38;5;28;01mfor\u001b[39;00m child \u001b[38;5;129;01min\u001b[39;00m \u001b[38;5;28mself\u001b[39m\u001b[38;5;241m.\u001b[39m_children]\n\u001b[1;32m    288\u001b[0m     kwargs \u001b[38;5;241m=\u001b[39m {}\n",
      "File \u001b[0;32m~/workspace/fytok/SpDM/python/spdm/data/Expression.py:291\u001b[0m, in \u001b[0;36mExpression.__call__\u001b[0;34m(self, *args, **kwargs)\u001b[0m\n\u001b[1;32m    290\u001b[0m     \u001b[38;5;28;01mexcept\u001b[39;00m \u001b[38;5;167;01mException\u001b[39;00m \u001b[38;5;28;01mas\u001b[39;00m error:\n\u001b[0;32m--> 291\u001b[0m         \u001b[38;5;28;01mraise\u001b[39;00m \u001b[38;5;167;01mRuntimeError\u001b[39;00m(\u001b[38;5;124mf\u001b[39m\u001b[38;5;124m\"\u001b[39m\u001b[38;5;124mFailure to calculate  equation \u001b[39m\u001b[38;5;132;01m{\u001b[39;00m\u001b[38;5;28mself\u001b[39m\u001b[38;5;241m.\u001b[39m_repr_latex_()\u001b[38;5;132;01m}\u001b[39;00m\u001b[38;5;124m !\u001b[39m\u001b[38;5;124m\"\u001b[39m) \u001b[38;5;28;01mfrom\u001b[39;00m \u001b[38;5;21;01merror\u001b[39;00m\n\u001b[1;32m    293\u001b[0m \u001b[38;5;28;01mreturn\u001b[39;00m res\n",
      "\u001b[0;31mRuntimeError\u001b[0m: Failure to calculate  equation $${\\frac{dV}{d\\rho_{tor}}\\left({5.05538462} \\cdot {\\frac{d V}{d\\psi}\\left(\\right)},\\frac{d\\psi}{\\rho_{tor}}\\left({5.05538462} \\cdot {\\rho_{tor}\\left(absolute{\\frac{\\phi\\left(\\intop^{-1}\\left(\\frac{d\\phi}{d\\psi}\\left(f\\left({{24.77502258307988} \\cdot {\\intop^{-1}\\left(\\frac{f d f}{d \\psi}\\left(\\bar{\\psi}\\left({\\bar{\\rho}_{tor}}\\right)\\right)\\right)}} + {1079.7796019716002}\\right),<\\frac{1.0}{{{NoneType\\left(\\right)}} ^ {2}}>\\left(\\right)\\right)\\right),12.38751129153994\\right)}{-15.881959183262827}}\\right)},q\\left(\\frac{d\\phi}{d\\psi}\\left(f\\left({{24.77502258307988} \\cdot {\\intop^{-1}\\left(\\frac{f d f}{d \\psi}\\left(\\bar{\\psi}\\left({\\bar{\\rho}_{tor}}\\right)\\right)\\right)}} + {1079.7796019716002}\\right),<\\frac{1.0}{{{NoneType\\left(\\right)}} ^ {2}}>\\left(\\right)\\right),0.15915494309189535\\right)\\right)\\right)} \\cdot {\\frac{\\frac{<\\frac{{{Functor\\left(\\right)} ^ {2}} + {{Functor\\left(\\right)} ^ {2}}}{{{NoneType\\left(\\right)}} ^ {2}}>\\left(\\right)}{\\frac{d V}{d\\psi}\\left(\\right)}}{{\\frac{d\\psi}{\\rho_{tor}}\\left({5.05538462} \\cdot {\\rho_{tor}\\left(absolute{\\frac{\\phi\\left(\\intop^{-1}\\left(\\frac{d\\phi}{d\\psi}\\left(f\\left({{24.77502258307988} \\cdot {\\intop^{-1}\\left(\\frac{f d f}{d \\psi}\\left(\\bar{\\psi}\\left({\\bar{\\rho}_{tor}}\\right)\\right)\\right)}} + {1079.7796019716002}\\right),<\\frac{1.0}{{{NoneType\\left(\\right)}} ^ {2}}>\\left(\\right)\\right)\\right),12.38751129153994\\right)}{-15.881959183262827}}\\right)},q\\left(\\frac{d\\phi}{d\\psi}\\left(f\\left({{24.77502258307988} \\cdot {\\intop^{-1}\\left(\\frac{f d f}{d \\psi}\\left(\\bar{\\psi}\\left({\\bar{\\rho}_{tor}}\\right)\\right)\\right)}} + {1079.7796019716002}\\right),<\\frac{1.0}{{{NoneType\\left(\\right)}} ^ {2}}>\\left(\\right)\\right),0.15915494309189535\\right)\\right)} ^ {2}}}$$ !",
      "\nThe above exception was the direct cause of the following exception:\n",
      "\u001b[0;31mRuntimeError\u001b[0m                              Traceback (most recent call last)",
      "File \u001b[0;32m~/workspace/fytok/SpDM/python/spdm/data/Expression.py:287\u001b[0m, in \u001b[0;36mExpression.__call__\u001b[0;34m(self, *args, **kwargs)\u001b[0m\n\u001b[1;32m    286\u001b[0m \u001b[38;5;28;01mif\u001b[39;00m \u001b[38;5;28mlen\u001b[39m(\u001b[38;5;28mself\u001b[39m\u001b[38;5;241m.\u001b[39m_children) \u001b[38;5;241m>\u001b[39m \u001b[38;5;241m0\u001b[39m:\n\u001b[0;32m--> 287\u001b[0m     args \u001b[38;5;241m=\u001b[39m [(child(\u001b[38;5;241m*\u001b[39margs, \u001b[38;5;241m*\u001b[39m\u001b[38;5;241m*\u001b[39mkwargs) \u001b[38;5;28;01mif\u001b[39;00m \u001b[38;5;28mcallable\u001b[39m(child) \u001b[38;5;28;01melse\u001b[39;00m child) \u001b[38;5;28;01mfor\u001b[39;00m child \u001b[38;5;129;01min\u001b[39;00m \u001b[38;5;28mself\u001b[39m\u001b[38;5;241m.\u001b[39m_children]\n\u001b[1;32m    288\u001b[0m     kwargs \u001b[38;5;241m=\u001b[39m {}\n",
      "File \u001b[0;32m~/workspace/fytok/SpDM/python/spdm/data/Expression.py:287\u001b[0m, in \u001b[0;36m<listcomp>\u001b[0;34m(.0)\u001b[0m\n\u001b[1;32m    286\u001b[0m \u001b[38;5;28;01mif\u001b[39;00m \u001b[38;5;28mlen\u001b[39m(\u001b[38;5;28mself\u001b[39m\u001b[38;5;241m.\u001b[39m_children) \u001b[38;5;241m>\u001b[39m \u001b[38;5;241m0\u001b[39m:\n\u001b[0;32m--> 287\u001b[0m     args \u001b[38;5;241m=\u001b[39m [(\u001b[43mchild\u001b[49m\u001b[43m(\u001b[49m\u001b[38;5;241;43m*\u001b[39;49m\u001b[43margs\u001b[49m\u001b[43m,\u001b[49m\u001b[43m \u001b[49m\u001b[38;5;241;43m*\u001b[39;49m\u001b[38;5;241;43m*\u001b[39;49m\u001b[43mkwargs\u001b[49m\u001b[43m)\u001b[49m \u001b[38;5;28;01mif\u001b[39;00m \u001b[38;5;28mcallable\u001b[39m(child) \u001b[38;5;28;01melse\u001b[39;00m child) \u001b[38;5;28;01mfor\u001b[39;00m child \u001b[38;5;129;01min\u001b[39;00m \u001b[38;5;28mself\u001b[39m\u001b[38;5;241m.\u001b[39m_children]\n\u001b[1;32m    288\u001b[0m     kwargs \u001b[38;5;241m=\u001b[39m {}\n",
      "File \u001b[0;32m~/workspace/fytok/SpDM/python/spdm/data/Expression.py:291\u001b[0m, in \u001b[0;36mExpression.__call__\u001b[0;34m(self, *args, **kwargs)\u001b[0m\n\u001b[1;32m    290\u001b[0m     \u001b[38;5;28;01mexcept\u001b[39;00m \u001b[38;5;167;01mException\u001b[39;00m \u001b[38;5;28;01mas\u001b[39;00m error:\n\u001b[0;32m--> 291\u001b[0m         \u001b[38;5;28;01mraise\u001b[39;00m \u001b[38;5;167;01mRuntimeError\u001b[39;00m(\u001b[38;5;124mf\u001b[39m\u001b[38;5;124m\"\u001b[39m\u001b[38;5;124mFailure to calculate  equation \u001b[39m\u001b[38;5;132;01m{\u001b[39;00m\u001b[38;5;28mself\u001b[39m\u001b[38;5;241m.\u001b[39m_repr_latex_()\u001b[38;5;132;01m}\u001b[39;00m\u001b[38;5;124m !\u001b[39m\u001b[38;5;124m\"\u001b[39m) \u001b[38;5;28;01mfrom\u001b[39;00m \u001b[38;5;21;01merror\u001b[39;00m\n\u001b[1;32m    293\u001b[0m \u001b[38;5;28;01mreturn\u001b[39;00m res\n",
      "\u001b[0;31mRuntimeError\u001b[0m: Failure to calculate  equation $$\\frac{{\\frac{dV}{d\\rho_{tor}}\\left({5.05538462} \\cdot {\\frac{d V}{d\\psi}\\left(\\right)},\\frac{d\\psi}{\\rho_{tor}}\\left({5.05538462} \\cdot {\\rho_{tor}\\left(absolute{\\frac{\\phi\\left(\\intop^{-1}\\left(\\frac{d\\phi}{d\\psi}\\left(f\\left({{24.77502258307988} \\cdot {\\intop^{-1}\\left(\\frac{f d f}{d \\psi}\\left(\\bar{\\psi}\\left({\\bar{\\rho}_{tor}}\\right)\\right)\\right)}} + {1079.7796019716002}\\right),<\\frac{1.0}{{{NoneType\\left(\\right)}} ^ {2}}>\\left(\\right)\\right)\\right),12.38751129153994\\right)}{-15.881959183262827}}\\right)},q\\left(\\frac{d\\phi}{d\\psi}\\left(f\\left({{24.77502258307988} \\cdot {\\intop^{-1}\\left(\\frac{f d f}{d \\psi}\\left(\\bar{\\psi}\\left({\\bar{\\rho}_{tor}}\\right)\\right)\\right)}} + {1079.7796019716002}\\right),<\\frac{1.0}{{{NoneType\\left(\\right)}} ^ {2}}>\\left(\\right)\\right),0.15915494309189535\\right)\\right)\\right)} \\cdot {\\frac{\\frac{<\\frac{{{Functor\\left(\\right)} ^ {2}} + {{Functor\\left(\\right)} ^ {2}}}{{{NoneType\\left(\\right)}} ^ {2}}>\\left(\\right)}{\\frac{d V}{d\\psi}\\left(\\right)}}{{\\frac{d\\psi}{\\rho_{tor}}\\left({5.05538462} \\cdot {\\rho_{tor}\\left(absolute{\\frac{\\phi\\left(\\intop^{-1}\\left(\\frac{d\\phi}{d\\psi}\\left(f\\left({{24.77502258307988} \\cdot {\\intop^{-1}\\left(\\frac{f d f}{d \\psi}\\left(\\bar{\\psi}\\left({\\bar{\\rho}_{tor}}\\right)\\right)\\right)}} + {1079.7796019716002}\\right),<\\frac{1.0}{{{NoneType\\left(\\right)}} ^ {2}}>\\left(\\right)\\right)\\right),12.38751129153994\\right)}{-15.881959183262827}}\\right)},q\\left(\\frac{d\\phi}{d\\psi}\\left(f\\left({{24.77502258307988} \\cdot {\\intop^{-1}\\left(\\frac{f d f}{d \\psi}\\left(\\bar{\\psi}\\left({\\bar{\\rho}_{tor}}\\right)\\right)\\right)}} + {1079.7796019716002}\\right),<\\frac{1.0}{{{NoneType\\left(\\right)}} ^ {2}}>\\left(\\right)\\right),0.15915494309189535\\right)\\right)} ^ {2}}}}{f\\left({{24.77502258307988} \\cdot {\\intop^{-1}\\left(\\frac{f d f}{d \\psi}\\left(\\bar{\\psi}\\left({\\bar{\\rho}_{tor}}\\right)\\right)\\right)}} + {1079.7796019716002}\\right)}$$ !",
      "\nThe above exception was the direct cause of the following exception:\n",
      "\u001b[0;31mRuntimeError\u001b[0m                              Traceback (most recent call last)",
      "File \u001b[0;32m~/workspace/fytok/SpDM/python/spdm/data/Expression.py:287\u001b[0m, in \u001b[0;36mExpression.__call__\u001b[0;34m(self, *args, **kwargs)\u001b[0m\n\u001b[1;32m    286\u001b[0m \u001b[38;5;28;01mif\u001b[39;00m \u001b[38;5;28mlen\u001b[39m(\u001b[38;5;28mself\u001b[39m\u001b[38;5;241m.\u001b[39m_children) \u001b[38;5;241m>\u001b[39m \u001b[38;5;241m0\u001b[39m:\n\u001b[0;32m--> 287\u001b[0m     args \u001b[38;5;241m=\u001b[39m [(child(\u001b[38;5;241m*\u001b[39margs, \u001b[38;5;241m*\u001b[39m\u001b[38;5;241m*\u001b[39mkwargs) \u001b[38;5;28;01mif\u001b[39;00m \u001b[38;5;28mcallable\u001b[39m(child) \u001b[38;5;28;01melse\u001b[39;00m child) \u001b[38;5;28;01mfor\u001b[39;00m child \u001b[38;5;129;01min\u001b[39;00m \u001b[38;5;28mself\u001b[39m\u001b[38;5;241m.\u001b[39m_children]\n\u001b[1;32m    288\u001b[0m     kwargs \u001b[38;5;241m=\u001b[39m {}\n",
      "File \u001b[0;32m~/workspace/fytok/SpDM/python/spdm/data/Expression.py:287\u001b[0m, in \u001b[0;36m<listcomp>\u001b[0;34m(.0)\u001b[0m\n\u001b[1;32m    286\u001b[0m \u001b[38;5;28;01mif\u001b[39;00m \u001b[38;5;28mlen\u001b[39m(\u001b[38;5;28mself\u001b[39m\u001b[38;5;241m.\u001b[39m_children) \u001b[38;5;241m>\u001b[39m \u001b[38;5;241m0\u001b[39m:\n\u001b[0;32m--> 287\u001b[0m     args \u001b[38;5;241m=\u001b[39m [(\u001b[43mchild\u001b[49m\u001b[43m(\u001b[49m\u001b[38;5;241;43m*\u001b[39;49m\u001b[43margs\u001b[49m\u001b[43m,\u001b[49m\u001b[43m \u001b[49m\u001b[38;5;241;43m*\u001b[39;49m\u001b[38;5;241;43m*\u001b[39;49m\u001b[43mkwargs\u001b[49m\u001b[43m)\u001b[49m \u001b[38;5;28;01mif\u001b[39;00m \u001b[38;5;28mcallable\u001b[39m(child) \u001b[38;5;28;01melse\u001b[39;00m child) \u001b[38;5;28;01mfor\u001b[39;00m child \u001b[38;5;129;01min\u001b[39;00m \u001b[38;5;28mself\u001b[39m\u001b[38;5;241m.\u001b[39m_children]\n\u001b[1;32m    288\u001b[0m     kwargs \u001b[38;5;241m=\u001b[39m {}\n",
      "File \u001b[0;32m~/workspace/fytok/SpDM/python/spdm/data/Expression.py:291\u001b[0m, in \u001b[0;36mExpression.__call__\u001b[0;34m(self, *args, **kwargs)\u001b[0m\n\u001b[1;32m    290\u001b[0m     \u001b[38;5;28;01mexcept\u001b[39;00m \u001b[38;5;167;01mException\u001b[39;00m \u001b[38;5;28;01mas\u001b[39;00m error:\n\u001b[0;32m--> 291\u001b[0m         \u001b[38;5;28;01mraise\u001b[39;00m \u001b[38;5;167;01mRuntimeError\u001b[39;00m(\u001b[38;5;124mf\u001b[39m\u001b[38;5;124m\"\u001b[39m\u001b[38;5;124mFailure to calculate  equation \u001b[39m\u001b[38;5;132;01m{\u001b[39;00m\u001b[38;5;28mself\u001b[39m\u001b[38;5;241m.\u001b[39m_repr_latex_()\u001b[38;5;132;01m}\u001b[39;00m\u001b[38;5;124m !\u001b[39m\u001b[38;5;124m\"\u001b[39m) \u001b[38;5;28;01mfrom\u001b[39;00m \u001b[38;5;21;01merror\u001b[39;00m\n\u001b[1;32m    293\u001b[0m \u001b[38;5;28;01mreturn\u001b[39;00m res\n",
      "\u001b[0;31mRuntimeError\u001b[0m: Failure to calculate  equation $$\\frac{\\frac{{\\frac{dV}{d\\rho_{tor}}\\left({5.05538462} \\cdot {\\frac{d V}{d\\psi}\\left(\\right)},\\frac{d\\psi}{\\rho_{tor}}\\left({5.05538462} \\cdot {\\rho_{tor}\\left(absolute{\\frac{\\phi\\left(\\intop^{-1}\\left(\\frac{d\\phi}{d\\psi}\\left(f\\left({{24.77502258307988} \\cdot {\\intop^{-1}\\left(\\frac{f d f}{d \\psi}\\left(\\bar{\\psi}\\left({\\bar{\\rho}_{tor}}\\right)\\right)\\right)}} + {1079.7796019716002}\\right),<\\frac{1.0}{{{NoneType\\left(\\right)}} ^ {2}}>\\left(\\right)\\right)\\right),12.38751129153994\\right)}{-15.881959183262827}}\\right)},q\\left(\\frac{d\\phi}{d\\psi}\\left(f\\left({{24.77502258307988} \\cdot {\\intop^{-1}\\left(\\frac{f d f}{d \\psi}\\left(\\bar{\\psi}\\left({\\bar{\\rho}_{tor}}\\right)\\right)\\right)}} + {1079.7796019716002}\\right),<\\frac{1.0}{{{NoneType\\left(\\right)}} ^ {2}}>\\left(\\right)\\right),0.15915494309189535\\right)\\right)\\right)} \\cdot {\\frac{\\frac{<\\frac{{{Functor\\left(\\right)} ^ {2}} + {{Functor\\left(\\right)} ^ {2}}}{{{NoneType\\left(\\right)}} ^ {2}}>\\left(\\right)}{\\frac{d V}{d\\psi}\\left(\\right)}}{{\\frac{d\\psi}{\\rho_{tor}}\\left({5.05538462} \\cdot {\\rho_{tor}\\left(absolute{\\frac{\\phi\\left(\\intop^{-1}\\left(\\frac{d\\phi}{d\\psi}\\left(f\\left({{24.77502258307988} \\cdot {\\intop^{-1}\\left(\\frac{f d f}{d \\psi}\\left(\\bar{\\psi}\\left({\\bar{\\rho}_{tor}}\\right)\\right)\\right)}} + {1079.7796019716002}\\right),<\\frac{1.0}{{{NoneType\\left(\\right)}} ^ {2}}>\\left(\\right)\\right)\\right),12.38751129153994\\right)}{-15.881959183262827}}\\right)},q\\left(\\frac{d\\phi}{d\\psi}\\left(f\\left({{24.77502258307988} \\cdot {\\intop^{-1}\\left(\\frac{f d f}{d \\psi}\\left(\\bar{\\psi}\\left({\\bar{\\rho}_{tor}}\\right)\\right)\\right)}} + {1079.7796019716002}\\right),<\\frac{1.0}{{{NoneType\\left(\\right)}} ^ {2}}>\\left(\\right)\\right),0.15915494309189535\\right)\\right)} ^ {2}}}}{f\\left({{24.77502258307988} \\cdot {\\intop^{-1}\\left(\\frac{f d f}{d \\psi}\\left(\\bar{\\psi}\\left({\\bar{\\rho}_{tor}}\\right)\\right)\\right)}} + {1079.7796019716002}\\right)}}{-6.283185307179586}$$ !",
      "\nThe above exception was the direct cause of the following exception:\n",
      "\u001b[0;31mRuntimeError\u001b[0m                              Traceback (most recent call last)",
      "File \u001b[0;32m~/workspace/fytok/python/fytok/plugins/transport_solver_numerics/fy_trans/fy_trans.py:622\u001b[0m, in \u001b[0;36mFyTrans.func\u001b[0;34m(self, X, Y, *args)\u001b[0m\n\u001b[1;32m    621\u001b[0m d_dt \u001b[38;5;241m=\u001b[39m _d_dt(X, \u001b[38;5;241m*\u001b[39mY, \u001b[38;5;241m*\u001b[39margs) \u001b[38;5;28;01mif\u001b[39;00m \u001b[38;5;28misinstance\u001b[39m(_d_dt, Expression) \u001b[38;5;28;01melse\u001b[39;00m _d_dt\n\u001b[0;32m--> 622\u001b[0m D \u001b[38;5;241m=\u001b[39m \u001b[43m_D\u001b[49m\u001b[43m(\u001b[49m\u001b[43mX\u001b[49m\u001b[43m,\u001b[49m\u001b[43m \u001b[49m\u001b[38;5;241;43m*\u001b[39;49m\u001b[43mY\u001b[49m\u001b[43m,\u001b[49m\u001b[43m \u001b[49m\u001b[38;5;241;43m*\u001b[39;49m\u001b[43margs\u001b[49m\u001b[43m)\u001b[49m \u001b[38;5;28;01mif\u001b[39;00m \u001b[38;5;28misinstance\u001b[39m(_D, Expression) \u001b[38;5;28;01melse\u001b[39;00m _D\n\u001b[1;32m    623\u001b[0m V \u001b[38;5;241m=\u001b[39m _V(X, \u001b[38;5;241m*\u001b[39mY, \u001b[38;5;241m*\u001b[39margs) \u001b[38;5;28;01mif\u001b[39;00m \u001b[38;5;28misinstance\u001b[39m(_V, Expression) \u001b[38;5;28;01melse\u001b[39;00m _V\n",
      "File \u001b[0;32m~/workspace/fytok/SpDM/python/spdm/data/Expression.py:291\u001b[0m, in \u001b[0;36mExpression.__call__\u001b[0;34m(self, *args, **kwargs)\u001b[0m\n\u001b[1;32m    290\u001b[0m     \u001b[38;5;28;01mexcept\u001b[39;00m \u001b[38;5;167;01mException\u001b[39;00m \u001b[38;5;28;01mas\u001b[39;00m error:\n\u001b[0;32m--> 291\u001b[0m         \u001b[38;5;28;01mraise\u001b[39;00m \u001b[38;5;167;01mRuntimeError\u001b[39;00m(\u001b[38;5;124mf\u001b[39m\u001b[38;5;124m\"\u001b[39m\u001b[38;5;124mFailure to calculate  equation \u001b[39m\u001b[38;5;132;01m{\u001b[39;00m\u001b[38;5;28mself\u001b[39m\u001b[38;5;241m.\u001b[39m_repr_latex_()\u001b[38;5;132;01m}\u001b[39;00m\u001b[38;5;124m !\u001b[39m\u001b[38;5;124m\"\u001b[39m) \u001b[38;5;28;01mfrom\u001b[39;00m \u001b[38;5;21;01merror\u001b[39;00m\n\u001b[1;32m    293\u001b[0m \u001b[38;5;28;01mreturn\u001b[39;00m res\n",
      "\u001b[0;31mRuntimeError\u001b[0m: Failure to calculate  equation $$\\frac{\\frac{\\frac{{\\frac{dV}{d\\rho_{tor}}\\left({5.05538462} \\cdot {\\frac{d V}{d\\psi}\\left(\\right)},\\frac{d\\psi}{\\rho_{tor}}\\left({5.05538462} \\cdot {\\rho_{tor}\\left(absolute{\\frac{\\phi\\left(\\intop^{-1}\\left(\\frac{d\\phi}{d\\psi}\\left(f\\left({{24.77502258307988} \\cdot {\\intop^{-1}\\left(\\frac{f d f}{d \\psi}\\left(\\bar{\\psi}\\left({\\bar{\\rho}_{tor}}\\right)\\right)\\right)}} + {1079.7796019716002}\\right),<\\frac{1.0}{{{NoneType\\left(\\right)}} ^ {2}}>\\left(\\right)\\right)\\right),12.38751129153994\\right)}{-15.881959183262827}}\\right)},q\\left(\\frac{d\\phi}{d\\psi}\\left(f\\left({{24.77502258307988} \\cdot {\\intop^{-1}\\left(\\frac{f d f}{d \\psi}\\left(\\bar{\\psi}\\left({\\bar{\\rho}_{tor}}\\right)\\right)\\right)}} + {1079.7796019716002}\\right),<\\frac{1.0}{{{NoneType\\left(\\right)}} ^ {2}}>\\left(\\right)\\right),0.15915494309189535\\right)\\right)\\right)} \\cdot {\\frac{\\frac{<\\frac{{{Functor\\left(\\right)} ^ {2}} + {{Functor\\left(\\right)} ^ {2}}}{{{NoneType\\left(\\right)}} ^ {2}}>\\left(\\right)}{\\frac{d V}{d\\psi}\\left(\\right)}}{{\\frac{d\\psi}{\\rho_{tor}}\\left({5.05538462} \\cdot {\\rho_{tor}\\left(absolute{\\frac{\\phi\\left(\\intop^{-1}\\left(\\frac{d\\phi}{d\\psi}\\left(f\\left({{24.77502258307988} \\cdot {\\intop^{-1}\\left(\\frac{f d f}{d \\psi}\\left(\\bar{\\psi}\\left({\\bar{\\rho}_{tor}}\\right)\\right)\\right)}} + {1079.7796019716002}\\right),<\\frac{1.0}{{{NoneType\\left(\\right)}} ^ {2}}>\\left(\\right)\\right)\\right),12.38751129153994\\right)}{-15.881959183262827}}\\right)},q\\left(\\frac{d\\phi}{d\\psi}\\left(f\\left({{24.77502258307988} \\cdot {\\intop^{-1}\\left(\\frac{f d f}{d \\psi}\\left(\\bar{\\psi}\\left({\\bar{\\rho}_{tor}}\\right)\\right)\\right)}} + {1079.7796019716002}\\right),<\\frac{1.0}{{{NoneType\\left(\\right)}} ^ {2}}>\\left(\\right)\\right),0.15915494309189535\\right)\\right)} ^ {2}}}}{f\\left({{24.77502258307988} \\cdot {\\intop^{-1}\\left(\\frac{f d f}{d \\psi}\\left(\\bar{\\psi}\\left({\\bar{\\rho}_{tor}}\\right)\\right)\\right)}} + {1079.7796019716002}\\right)}}{-6.283185307179586}}{NoneType\\left(881.076842346014\\right)}$$ !",
      "\nThe above exception was the direct cause of the following exception:\n",
      "\u001b[0;31mRuntimeError\u001b[0m                              Traceback (most recent call last)",
      "Cell \u001b[0;32mIn[6], line 1\u001b[0m\n\u001b[0;32m----> 1\u001b[0m \u001b[43msolver\u001b[49m\u001b[38;5;241;43m.\u001b[39;49m\u001b[43mrefresh\u001b[49m\u001b[43m(\u001b[49m\n\u001b[1;32m      2\u001b[0m \u001b[43m    \u001b[49m\u001b[43mtime\u001b[49m\u001b[38;5;241;43m=\u001b[39;49m\u001b[38;5;241;43m0.0\u001b[39;49m\u001b[43m,\u001b[49m\n\u001b[1;32m      3\u001b[0m \u001b[43m    \u001b[49m\u001b[38;5;66;43;03m# fmt:off\u001b[39;49;00m\n\u001b[1;32m      4\u001b[0m \u001b[43m    \u001b[49m\u001b[43minitial_value\u001b[49m\u001b[38;5;241;43m=\u001b[39;49m\u001b[43m{\u001b[49m\n\u001b[1;32m      5\u001b[0m \u001b[43m        \u001b[49m\u001b[38;5;124;43m\"\u001b[39;49m\u001b[38;5;124;43mpsi\u001b[39;49m\u001b[38;5;124;43m\"\u001b[39;49m\u001b[43m:\u001b[49m\u001b[38;5;241;43m0.0\u001b[39;49m\u001b[43m,\u001b[49m\n\u001b[1;32m      6\u001b[0m \u001b[43m        \u001b[49m\u001b[38;5;124;43m\"\u001b[39;49m\u001b[38;5;124;43mion/D/density\u001b[39;49m\u001b[38;5;124;43m\"\u001b[39;49m\u001b[43m:\u001b[49m\u001b[43m                    \u001b[49m\u001b[38;5;241;43m1.0e19\u001b[39;49m\u001b[43m,\u001b[49m\n\u001b[1;32m      7\u001b[0m \u001b[43m        \u001b[49m\u001b[38;5;124;43m\"\u001b[39;49m\u001b[38;5;124;43mion/T/density\u001b[39;49m\u001b[38;5;124;43m\"\u001b[39;49m\u001b[43m:\u001b[49m\u001b[43m                    \u001b[49m\u001b[38;5;241;43m1.0e19\u001b[39;49m\u001b[43m,\u001b[49m\n\u001b[1;32m      8\u001b[0m \u001b[43m        \u001b[49m\u001b[38;5;124;43m\"\u001b[39;49m\u001b[38;5;124;43mion/He/density\u001b[39;49m\u001b[38;5;124;43m\"\u001b[39;49m\u001b[43m:\u001b[49m\u001b[43m                   \u001b[49m\u001b[38;5;241;43m1.0\u001b[39;49m\u001b[43m,\u001b[49m\n\u001b[1;32m      9\u001b[0m \u001b[43m        \u001b[49m\u001b[38;5;124;43m\"\u001b[39;49m\u001b[38;5;124;43mion/alpha/density\u001b[39;49m\u001b[38;5;124;43m\"\u001b[39;49m\u001b[43m:\u001b[49m\u001b[43m                \u001b[49m\u001b[38;5;241;43m1.0\u001b[39;49m\u001b[43m,\u001b[49m\n\u001b[1;32m     10\u001b[0m \n\u001b[1;32m     11\u001b[0m \u001b[43m        \u001b[49m\u001b[38;5;124;43m\"\u001b[39;49m\u001b[38;5;124;43mion/D/temperature\u001b[39;49m\u001b[38;5;124;43m\"\u001b[39;49m\u001b[43m:\u001b[49m\u001b[43m                \u001b[49m\u001b[38;5;241;43m2.0e3\u001b[39;49m\u001b[43m,\u001b[49m\n\u001b[1;32m     12\u001b[0m \u001b[43m        \u001b[49m\u001b[38;5;124;43m\"\u001b[39;49m\u001b[38;5;124;43mion/T/temperature\u001b[39;49m\u001b[38;5;124;43m\"\u001b[39;49m\u001b[43m:\u001b[49m\u001b[43m                \u001b[49m\u001b[38;5;241;43m2.0e3\u001b[39;49m\u001b[43m,\u001b[49m\n\u001b[1;32m     13\u001b[0m \u001b[43m        \u001b[49m\u001b[38;5;124;43m\"\u001b[39;49m\u001b[38;5;124;43mion/He/temperature\u001b[39;49m\u001b[38;5;124;43m\"\u001b[39;49m\u001b[43m:\u001b[49m\u001b[43m               \u001b[49m\u001b[38;5;241;43m2.0e3\u001b[39;49m\u001b[43m,\u001b[49m\n\u001b[1;32m     14\u001b[0m \u001b[43m        \u001b[49m\u001b[38;5;124;43m\"\u001b[39;49m\u001b[38;5;124;43melectrons/temperature\u001b[39;49m\u001b[38;5;124;43m\"\u001b[39;49m\u001b[43m:\u001b[49m\u001b[43m            \u001b[49m\u001b[38;5;241;43m2.0e3\u001b[39;49m\u001b[43m,\u001b[49m\n\u001b[1;32m     15\u001b[0m \u001b[43m    \u001b[49m\u001b[43m}\u001b[49m\u001b[43m,\u001b[49m\n\u001b[1;32m     16\u001b[0m \u001b[43m    \u001b[49m\u001b[43mboundary_value\u001b[49m\u001b[38;5;241;43m=\u001b[39;49m\u001b[43m{\u001b[49m\n\u001b[1;32m     17\u001b[0m \u001b[43m        \u001b[49m\u001b[38;5;124;43m\"\u001b[39;49m\u001b[38;5;124;43mion/D/density\u001b[39;49m\u001b[38;5;124;43m\"\u001b[39;49m\u001b[43m:\u001b[49m\u001b[43m                    \u001b[49m\u001b[38;5;241;43m1.3e19\u001b[39;49m\u001b[43m,\u001b[49m\u001b[43m \u001b[49m\n\u001b[1;32m     18\u001b[0m \u001b[43m        \u001b[49m\u001b[38;5;124;43m\"\u001b[39;49m\u001b[38;5;124;43mion/T/density\u001b[39;49m\u001b[38;5;124;43m\"\u001b[39;49m\u001b[43m:\u001b[49m\u001b[43m                    \u001b[49m\u001b[38;5;241;43m1.3e19\u001b[39;49m\u001b[43m,\u001b[49m\u001b[43m \u001b[49m\n\u001b[1;32m     19\u001b[0m \u001b[43m        \u001b[49m\u001b[38;5;124;43m\"\u001b[39;49m\u001b[38;5;124;43mion/He/density\u001b[39;49m\u001b[38;5;124;43m\"\u001b[39;49m\u001b[43m:\u001b[49m\u001b[43m                   \u001b[49m\u001b[38;5;241;43m1.0\u001b[39;49m\u001b[43m,\u001b[49m\u001b[43m \u001b[49m\n\u001b[1;32m     20\u001b[0m \u001b[43m        \u001b[49m\u001b[38;5;124;43m\"\u001b[39;49m\u001b[38;5;124;43mion/alpha/density\u001b[39;49m\u001b[38;5;124;43m\"\u001b[39;49m\u001b[43m:\u001b[49m\u001b[43m                \u001b[49m\u001b[38;5;241;43m1.0\u001b[39;49m\u001b[43m,\u001b[49m\u001b[43m \u001b[49m\n\u001b[1;32m     21\u001b[0m \n\u001b[1;32m     22\u001b[0m \u001b[43m        \u001b[49m\u001b[38;5;124;43m\"\u001b[39;49m\u001b[38;5;124;43mion/D/temperature\u001b[39;49m\u001b[38;5;124;43m\"\u001b[39;49m\u001b[43m:\u001b[49m\u001b[43m                \u001b[49m\u001b[38;5;241;43m200\u001b[39;49m\u001b[43m,\u001b[49m\u001b[43m   \u001b[49m\n\u001b[1;32m     23\u001b[0m \u001b[43m        \u001b[49m\u001b[38;5;124;43m\"\u001b[39;49m\u001b[38;5;124;43mion/T/temperature\u001b[39;49m\u001b[38;5;124;43m\"\u001b[39;49m\u001b[43m:\u001b[49m\u001b[43m                \u001b[49m\u001b[38;5;241;43m200\u001b[39;49m\u001b[43m,\u001b[49m\u001b[43m   \u001b[49m\n\u001b[1;32m     24\u001b[0m \u001b[43m        \u001b[49m\u001b[38;5;124;43m\"\u001b[39;49m\u001b[38;5;124;43mion/He/temperature\u001b[39;49m\u001b[38;5;124;43m\"\u001b[39;49m\u001b[43m:\u001b[49m\u001b[43m               \u001b[49m\u001b[38;5;241;43m200\u001b[39;49m\u001b[43m,\u001b[49m\u001b[43m   \u001b[49m\n\u001b[1;32m     25\u001b[0m \u001b[43m        \u001b[49m\u001b[38;5;124;43m\"\u001b[39;49m\u001b[38;5;124;43melectrons/temperature\u001b[39;49m\u001b[38;5;124;43m\"\u001b[39;49m\u001b[43m:\u001b[49m\u001b[43m            \u001b[49m\u001b[38;5;241;43m200\u001b[39;49m\u001b[43m,\u001b[49m\u001b[43m   \u001b[49m\n\u001b[1;32m     26\u001b[0m \u001b[43m    \u001b[49m\u001b[43m}\u001b[49m\u001b[43m,\u001b[49m\n\u001b[1;32m     27\u001b[0m \u001b[43m    \u001b[49m\u001b[38;5;66;43;03m# fmt:on\u001b[39;49;00m\n\u001b[1;32m     28\u001b[0m \u001b[43m)\u001b[49m\n\u001b[1;32m     29\u001b[0m solver_1d \u001b[38;5;241m=\u001b[39m tokamak\u001b[38;5;241m.\u001b[39mtransport_solver\u001b[38;5;241m.\u001b[39mtime_slice\u001b[38;5;241m.\u001b[39mcurrent\n",
      "File \u001b[0;32m~/workspace/fytok/python/fytok/modules/TransportSolverNumerics.py:177\u001b[0m, in \u001b[0;36mTransportSolverNumerics.refresh\u001b[0;34m(self, equilibrium, core_transport, core_sources, core_profiles, *args, **kwargs)\u001b[0m\n\u001b[1;32m    168\u001b[0m \u001b[38;5;28;01mdef\u001b[39;00m \u001b[38;5;21mrefresh\u001b[39m(\n\u001b[1;32m    169\u001b[0m     \u001b[38;5;28mself\u001b[39m,\n\u001b[1;32m    170\u001b[0m     \u001b[38;5;241m*\u001b[39margs,\n\u001b[0;32m   (...)\u001b[0m\n\u001b[1;32m    175\u001b[0m     \u001b[38;5;241m*\u001b[39m\u001b[38;5;241m*\u001b[39mkwargs,\n\u001b[1;32m    176\u001b[0m ) \u001b[38;5;241m-\u001b[39m\u001b[38;5;241m>\u001b[39m TransportSolverNumericsTimeSlice:\n\u001b[0;32m--> 177\u001b[0m     \u001b[38;5;28;01mreturn\u001b[39;00m \u001b[38;5;28;43msuper\u001b[39;49m\u001b[43m(\u001b[49m\u001b[43m)\u001b[49m\u001b[38;5;241;43m.\u001b[39;49m\u001b[43mrefresh\u001b[49m\u001b[43m(\u001b[49m\n\u001b[1;32m    178\u001b[0m \u001b[43m        \u001b[49m\u001b[38;5;241;43m*\u001b[39;49m\u001b[43margs\u001b[49m\u001b[43m,\u001b[49m\n\u001b[1;32m    179\u001b[0m \u001b[43m        \u001b[49m\u001b[43mequilibrium\u001b[49m\u001b[38;5;241;43m=\u001b[39;49m\u001b[43mequilibrium\u001b[49m\u001b[43m,\u001b[49m\n\u001b[1;32m    180\u001b[0m \u001b[43m        \u001b[49m\u001b[43mcore_transport\u001b[49m\u001b[38;5;241;43m=\u001b[39;49m\u001b[43mcore_transport\u001b[49m\u001b[43m,\u001b[49m\n\u001b[1;32m    181\u001b[0m \u001b[43m        \u001b[49m\u001b[43mcore_sources\u001b[49m\u001b[38;5;241;43m=\u001b[39;49m\u001b[43mcore_sources\u001b[49m\u001b[43m,\u001b[49m\n\u001b[1;32m    182\u001b[0m \u001b[43m        \u001b[49m\u001b[43mcore_profiles\u001b[49m\u001b[38;5;241;43m=\u001b[39;49m\u001b[43mcore_profiles\u001b[49m\u001b[43m,\u001b[49m\n\u001b[1;32m    183\u001b[0m \u001b[43m        \u001b[49m\u001b[38;5;241;43m*\u001b[39;49m\u001b[38;5;241;43m*\u001b[39;49m\u001b[43mkwargs\u001b[49m\u001b[43m,\u001b[49m\n\u001b[1;32m    184\u001b[0m \u001b[43m    \u001b[49m\u001b[43m)\u001b[49m\n",
      "File \u001b[0;32m~/workspace/fytok/SpDM/python/spdm/data/Actor.py:171\u001b[0m, in \u001b[0;36mActor.refresh\u001b[0;34m(self, *args, **kwargs)\u001b[0m\n\u001b[1;32m    167\u001b[0m \u001b[38;5;28mself\u001b[39m\u001b[38;5;241m.\u001b[39minports\u001b[38;5;241m.\u001b[39mupdate( {k: n \u001b[38;5;28;01mfor\u001b[39;00m k, n \u001b[38;5;129;01min\u001b[39;00m kwargs\u001b[38;5;241m.\u001b[39mitems() \u001b[38;5;28;01mif\u001b[39;00m \u001b[38;5;28misinstance\u001b[39m(n, HTreeNode)})\n\u001b[1;32m    169\u001b[0m current \u001b[38;5;241m=\u001b[39m \u001b[38;5;28mself\u001b[39m\u001b[38;5;241m.\u001b[39mpreprocess(\u001b[38;5;241m*\u001b[39margs, \u001b[38;5;241m*\u001b[39m\u001b[38;5;241m*\u001b[39mkwargs)\n\u001b[0;32m--> 171\u001b[0m current \u001b[38;5;241m=\u001b[39m \u001b[38;5;28;43mself\u001b[39;49m\u001b[38;5;241;43m.\u001b[39;49m\u001b[43mexecute\u001b[49m\u001b[43m(\u001b[49m\u001b[43mcurrent\u001b[49m\u001b[43m,\u001b[49m\u001b[43m \u001b[49m\u001b[38;5;241;43m*\u001b[39;49m\u001b[38;5;28;43mself\u001b[39;49m\u001b[38;5;241;43m.\u001b[39;49m\u001b[43mtime_slice\u001b[49m\u001b[38;5;241;43m.\u001b[39;49m\u001b[43mprevious\u001b[49m\u001b[43m)\u001b[49m\n\u001b[1;32m    173\u001b[0m current \u001b[38;5;241m=\u001b[39m \u001b[38;5;28mself\u001b[39m\u001b[38;5;241m.\u001b[39mpostprocess(current)\n\u001b[1;32m    175\u001b[0m current \u001b[38;5;241m=\u001b[39m \u001b[38;5;28mself\u001b[39m\u001b[38;5;241m.\u001b[39mtime_slice\u001b[38;5;241m.\u001b[39mcurrent\n",
      "File \u001b[0;32m~/workspace/fytok/python/fytok/plugins/transport_solver_numerics/fy_trans/fy_trans.py:707\u001b[0m, in \u001b[0;36mFyTrans.execute\u001b[0;34m(self, current, *previous)\u001b[0m\n\u001b[1;32m    696\u001b[0m         Y[\u001b[38;5;241m2\u001b[39m \u001b[38;5;241m*\u001b[39m idx \u001b[38;5;241m+\u001b[39m \u001b[38;5;241m0\u001b[39m] \u001b[38;5;241m=\u001b[39m (\n\u001b[1;32m    697\u001b[0m             equ\u001b[38;5;241m.\u001b[39mprofile(X)\n\u001b[1;32m    698\u001b[0m             \u001b[38;5;28;01mif\u001b[39;00m \u001b[38;5;28misinstance\u001b[39m(equ\u001b[38;5;241m.\u001b[39mprofile, Expression)\n\u001b[1;32m    699\u001b[0m             \u001b[38;5;28;01melse\u001b[39;00m np\u001b[38;5;241m.\u001b[39mfull_like(X, equ\u001b[38;5;241m.\u001b[39mprofile \u001b[38;5;28;01mif\u001b[39;00m equ\u001b[38;5;241m.\u001b[39mprofile \u001b[38;5;129;01mis\u001b[39;00m \u001b[38;5;129;01mnot\u001b[39;00m _not_found_ \u001b[38;5;28;01melse\u001b[39;00m \u001b[38;5;241m0\u001b[39m)\n\u001b[1;32m    700\u001b[0m         )\n\u001b[1;32m    701\u001b[0m         Y[\u001b[38;5;241m2\u001b[39m \u001b[38;5;241m*\u001b[39m idx \u001b[38;5;241m+\u001b[39m \u001b[38;5;241m1\u001b[39m] \u001b[38;5;241m=\u001b[39m (\n\u001b[1;32m    702\u001b[0m             equ\u001b[38;5;241m.\u001b[39mflux(X)\n\u001b[1;32m    703\u001b[0m             \u001b[38;5;28;01mif\u001b[39;00m \u001b[38;5;28misinstance\u001b[39m(equ\u001b[38;5;241m.\u001b[39mflux, Expression)\n\u001b[1;32m    704\u001b[0m             \u001b[38;5;28;01melse\u001b[39;00m np\u001b[38;5;241m.\u001b[39mfull_like(X, equ\u001b[38;5;241m.\u001b[39mflux \u001b[38;5;28;01mif\u001b[39;00m equ\u001b[38;5;241m.\u001b[39mflux \u001b[38;5;129;01mis\u001b[39;00m \u001b[38;5;129;01mnot\u001b[39;00m _not_found_ \u001b[38;5;28;01melse\u001b[39;00m \u001b[38;5;241m0\u001b[39m)\n\u001b[1;32m    705\u001b[0m         )\n\u001b[0;32m--> 707\u001b[0m sol \u001b[38;5;241m=\u001b[39m \u001b[43msolve_bvp\u001b[49m\u001b[43m(\u001b[49m\n\u001b[1;32m    708\u001b[0m \u001b[43m    \u001b[49m\u001b[38;5;28;43mself\u001b[39;49m\u001b[38;5;241;43m.\u001b[39;49m\u001b[43mfunc\u001b[49m\u001b[43m,\u001b[49m\n\u001b[1;32m    709\u001b[0m \u001b[43m    \u001b[49m\u001b[38;5;28;43mself\u001b[39;49m\u001b[38;5;241;43m.\u001b[39;49m\u001b[43mbc\u001b[49m\u001b[43m,\u001b[49m\n\u001b[1;32m    710\u001b[0m \u001b[43m    \u001b[49m\u001b[43mX\u001b[49m\u001b[43m,\u001b[49m\n\u001b[1;32m    711\u001b[0m \u001b[43m    \u001b[49m\u001b[43mY\u001b[49m\u001b[43m,\u001b[49m\n\u001b[1;32m    712\u001b[0m \u001b[43m    \u001b[49m\u001b[43mbvp_rms_mask\u001b[49m\u001b[38;5;241;43m=\u001b[39;49m\u001b[38;5;28;43mself\u001b[39;49m\u001b[38;5;241;43m.\u001b[39;49m\u001b[43mcode\u001b[49m\u001b[38;5;241;43m.\u001b[39;49m\u001b[43mparameters\u001b[49m\u001b[38;5;241;43m.\u001b[39;49m\u001b[43mbvp_rms_mask\u001b[49m\u001b[43m,\u001b[49m\n\u001b[1;32m    713\u001b[0m \u001b[43m    \u001b[49m\u001b[43mtol\u001b[49m\u001b[38;5;241;43m=\u001b[39;49m\u001b[38;5;28;43mself\u001b[39;49m\u001b[38;5;241;43m.\u001b[39;49m\u001b[43mcode\u001b[49m\u001b[38;5;241;43m.\u001b[39;49m\u001b[43mparameters\u001b[49m\u001b[38;5;241;43m.\u001b[39;49m\u001b[43mtolerance\u001b[49m\u001b[43m \u001b[49m\u001b[38;5;129;43;01mor\u001b[39;49;00m\u001b[43m \u001b[49m\u001b[38;5;241;43m1.0e-3\u001b[39;49m\u001b[43m,\u001b[49m\n\u001b[1;32m    714\u001b[0m \u001b[43m    \u001b[49m\u001b[43mbc_tol\u001b[49m\u001b[38;5;241;43m=\u001b[39;49m\u001b[38;5;28;43mself\u001b[39;49m\u001b[38;5;241;43m.\u001b[39;49m\u001b[43mcode\u001b[49m\u001b[38;5;241;43m.\u001b[39;49m\u001b[43mparameters\u001b[49m\u001b[38;5;241;43m.\u001b[39;49m\u001b[43mbc_tol\u001b[49m\u001b[43m \u001b[49m\u001b[38;5;129;43;01mor\u001b[39;49;00m\u001b[43m \u001b[49m\u001b[38;5;241;43m1e6\u001b[39;49m\u001b[43m,\u001b[49m\n\u001b[1;32m    715\u001b[0m \u001b[43m    \u001b[49m\u001b[43mmax_nodes\u001b[49m\u001b[38;5;241;43m=\u001b[39;49m\u001b[38;5;28;43mself\u001b[39;49m\u001b[38;5;241;43m.\u001b[39;49m\u001b[43mcode\u001b[49m\u001b[38;5;241;43m.\u001b[39;49m\u001b[43mparameters\u001b[49m\u001b[38;5;241;43m.\u001b[39;49m\u001b[43mmax_nodes\u001b[49m\u001b[43m \u001b[49m\u001b[38;5;129;43;01mor\u001b[39;49;00m\u001b[43m \u001b[49m\u001b[38;5;241;43m1000\u001b[39;49m\u001b[43m,\u001b[49m\n\u001b[1;32m    716\u001b[0m \u001b[43m    \u001b[49m\u001b[43mverbose\u001b[49m\u001b[38;5;241;43m=\u001b[39;49m\u001b[38;5;28;43mself\u001b[39;49m\u001b[38;5;241;43m.\u001b[39;49m\u001b[43mcode\u001b[49m\u001b[38;5;241;43m.\u001b[39;49m\u001b[43mparameters\u001b[49m\u001b[38;5;241;43m.\u001b[39;49m\u001b[43mverbose\u001b[49m\u001b[43m \u001b[49m\u001b[38;5;129;43;01mor\u001b[39;49;00m\u001b[43m \u001b[49m\u001b[38;5;241;43m0\u001b[39;49m\u001b[43m,\u001b[49m\n\u001b[1;32m    717\u001b[0m \u001b[43m\u001b[49m\u001b[43m)\u001b[49m\n\u001b[1;32m    719\u001b[0m current[\u001b[38;5;124m\"\u001b[39m\u001b[38;5;124mgrid\u001b[39m\u001b[38;5;124m\"\u001b[39m] \u001b[38;5;241m=\u001b[39m current\u001b[38;5;241m.\u001b[39mgrid\u001b[38;5;241m.\u001b[39mremesh(sol\u001b[38;5;241m.\u001b[39mx)\n\u001b[1;32m    721\u001b[0m current\u001b[38;5;241m.\u001b[39mY \u001b[38;5;241m=\u001b[39m sol\u001b[38;5;241m.\u001b[39my\n",
      "File \u001b[0;32m~/workspace/fytok/python/fytok/plugins/transport_solver_numerics/fy_trans/bvp.py:1134\u001b[0m, in \u001b[0;36msolve_bvp\u001b[0;34m(fun, bc, x, y, p, S, fun_jac, bc_jac, tol, max_nodes, verbose, bc_tol, bvp_rms_mask, *args, **kwargs)\u001b[0m\n\u001b[1;32m   1128\u001b[0m max_iteration \u001b[38;5;241m=\u001b[39m \u001b[38;5;241m10\u001b[39m\n\u001b[1;32m   1130\u001b[0m fun_wrapped, bc_wrapped, fun_jac_wrapped, bc_jac_wrapped \u001b[38;5;241m=\u001b[39m wrap_functions(\n\u001b[1;32m   1131\u001b[0m     fun, bc, fun_jac, bc_jac, k, a, S, D, dtype\n\u001b[1;32m   1132\u001b[0m )\n\u001b[0;32m-> 1134\u001b[0m f \u001b[38;5;241m=\u001b[39m \u001b[43mfun_wrapped\u001b[49m\u001b[43m(\u001b[49m\u001b[43mx\u001b[49m\u001b[43m,\u001b[49m\u001b[43m \u001b[49m\u001b[43my\u001b[49m\u001b[43m,\u001b[49m\u001b[43m \u001b[49m\u001b[43mp\u001b[49m\u001b[43m)\u001b[49m\n\u001b[1;32m   1135\u001b[0m \u001b[38;5;28;01mif\u001b[39;00m f\u001b[38;5;241m.\u001b[39mshape \u001b[38;5;241m!=\u001b[39m y\u001b[38;5;241m.\u001b[39mshape:\n\u001b[1;32m   1136\u001b[0m     \u001b[38;5;28;01mraise\u001b[39;00m \u001b[38;5;167;01mValueError\u001b[39;00m(\u001b[38;5;124m\"\u001b[39m\u001b[38;5;124m`fun` return is expected to have shape \u001b[39m\u001b[38;5;132;01m{}\u001b[39;00m\u001b[38;5;124m, \u001b[39m\u001b[38;5;124m\"\u001b[39m \u001b[38;5;124m\"\u001b[39m\u001b[38;5;124mbut actually has \u001b[39m\u001b[38;5;132;01m{}\u001b[39;00m\u001b[38;5;124m.\u001b[39m\u001b[38;5;124m\"\u001b[39m\u001b[38;5;241m.\u001b[39mformat(y\u001b[38;5;241m.\u001b[39mshape, f\u001b[38;5;241m.\u001b[39mshape))\n",
      "File \u001b[0;32m~/workspace/fytok/python/fytok/plugins/transport_solver_numerics/fy_trans/bvp.py:695\u001b[0m, in \u001b[0;36mwrap_functions.<locals>.fun_p\u001b[0;34m(x, y, _)\u001b[0m\n\u001b[1;32m    694\u001b[0m \u001b[38;5;28;01mdef\u001b[39;00m \u001b[38;5;21mfun_p\u001b[39m(x, y, _):\n\u001b[0;32m--> 695\u001b[0m     \u001b[38;5;28;01mreturn\u001b[39;00m np\u001b[38;5;241m.\u001b[39masarray(\u001b[43mfun\u001b[49m\u001b[43m(\u001b[49m\u001b[43mx\u001b[49m\u001b[43m,\u001b[49m\u001b[43m \u001b[49m\u001b[43my\u001b[49m\u001b[43m)\u001b[49m, dtype)\n",
      "File \u001b[0;32m~/workspace/fytok/python/fytok/plugins/transport_solver_numerics/fy_trans/fy_trans.py:626\u001b[0m, in \u001b[0;36mFyTrans.func\u001b[0;34m(self, X, Y, *args)\u001b[0m\n\u001b[1;32m    624\u001b[0m     R \u001b[38;5;241m=\u001b[39m _R(X, \u001b[38;5;241m*\u001b[39mY, \u001b[38;5;241m*\u001b[39margs) \u001b[38;5;28;01mif\u001b[39;00m \u001b[38;5;28misinstance\u001b[39m(_R, Expression) \u001b[38;5;28;01melse\u001b[39;00m _R\n\u001b[1;32m    625\u001b[0m \u001b[38;5;28;01mexcept\u001b[39;00m \u001b[38;5;167;01mRuntimeError\u001b[39;00m \u001b[38;5;28;01mas\u001b[39;00m error:\n\u001b[0;32m--> 626\u001b[0m     \u001b[38;5;28;01mraise\u001b[39;00m \u001b[38;5;167;01mRuntimeError\u001b[39;00m(\u001b[38;5;124mf\u001b[39m\u001b[38;5;124m\"\u001b[39m\u001b[38;5;124mError when calcuate \u001b[39m\u001b[38;5;132;01m{\u001b[39;00mequ\u001b[38;5;241m.\u001b[39midentifier\u001b[38;5;132;01m}\u001b[39;00m\u001b[38;5;124m \u001b[39m\u001b[38;5;132;01m{\u001b[39;00m_R\u001b[38;5;132;01m}\u001b[39;00m\u001b[38;5;124m\"\u001b[39m) \u001b[38;5;28;01mfrom\u001b[39;00m \u001b[38;5;21;01merror\u001b[39;00m\n\u001b[1;32m    628\u001b[0m yp \u001b[38;5;241m=\u001b[39m derivative(y, X)\n\u001b[1;32m    630\u001b[0m d_dr \u001b[38;5;241m=\u001b[39m (\u001b[38;5;241m-\u001b[39mflux \u001b[38;5;241m+\u001b[39m V \u001b[38;5;241m*\u001b[39m y \u001b[38;5;241m+\u001b[39m hyper_diff \u001b[38;5;241m*\u001b[39m yp) \u001b[38;5;241m/\u001b[39m (D \u001b[38;5;241m+\u001b[39m hyper_diff)\n",
      "\u001b[0;31mRuntimeError\u001b[0m: Error when calcuate psi {\\frac{{-{\\frac{dV}{d\\rho_{tor}}\\left({5.05538462} \\cdot {\\frac{d V}{d\\psi}\\left(\\right)},\\frac{d\\psi}{\\rho_{tor}}\\left({5.05538462} \\cdot {\\rho_{tor}\\left(absolute{\\frac{\\phi\\left(\\intop^{-1}\\left(\\frac{d\\phi}{d\\psi}\\left(f\\left({{24.77502258307988} \\cdot {\\intop^{-1}\\left(\\frac{f d f}{d \\psi}\\left(\\bar{\\psi}\\left({\\bar{\\rho}_{tor}}\\right)\\right)\\right)}} + {1079.7796019716002}\\right),<\\frac{1.0}{{{NoneType\\left(\\right)}} ^ {2}}>\\left(\\right)\\right)\\right),12.38751129153994\\right)}{-15.881959183262827}}\\right)},q\\left(\\frac{d\\phi}{d\\psi}\\left(f\\left({{24.77502258307988} \\cdot {\\intop^{-1}\\left(\\frac{f d f}{d \\psi}\\left(\\bar{\\psi}\\left({\\bar{\\rho}_{tor}}\\right)\\right)\\right)}} + {1079.7796019716002}\\right),<\\frac{1.0}{{{NoneType\\left(\\right)}} ^ {2}}>\\left(\\right)\\right),0.15915494309189535\\right)\\right)\\right)}} \\cdot {NoneType\\left(\\right)}}{{6.283185307179586} \\cdot {{NoneType\\left(881.076842346014\\right)} \\cdot {{\\bar{\\rho}_{tor}}}}}} \\cdot {\\frac{{{-6.3527836767634325e-06} \\cdot {{\\bar{\\rho}_{tor}}}} \\cdot {{NoneType\\left(881.076842346014\\right)} ^ {2}}}{{f\\left({{24.77502258307988} \\cdot {\\intop^{-1}\\left(\\frac{f d f}{d \\psi}\\left(\\bar{\\psi}\\left({\\bar{\\rho}_{tor}}\\right)\\right)\\right)}} + {1079.7796019716002}\\right)} ^ {2}}}"
     ]
    }
   ],
   "source": [
    "solver.refresh(\n",
    "    time=0.0,\n",
    "    # fmt:off\n",
    "    initial_value={\n",
    "        \"psi\":0.0,\n",
    "        \"ion/D/density\":                    1.0e19,\n",
    "        \"ion/T/density\":                    1.0e19,\n",
    "        \"ion/He/density\":                   1.0,\n",
    "        \"ion/alpha/density\":                1.0,\n",
    "\n",
    "        \"ion/D/temperature\":                2.0e3,\n",
    "        \"ion/T/temperature\":                2.0e3,\n",
    "        \"ion/He/temperature\":               2.0e3,\n",
    "        \"electrons/temperature\":            2.0e3,\n",
    "    },\n",
    "    boundary_value={\n",
    "        \"ion/D/density\":                    1.3e19, \n",
    "        \"ion/T/density\":                    1.3e19, \n",
    "        \"ion/He/density\":                   1.0, \n",
    "        \"ion/alpha/density\":                1.0, \n",
    "\n",
    "        \"ion/D/temperature\":                200,   \n",
    "        \"ion/T/temperature\":                200,   \n",
    "        \"ion/He/temperature\":               200,   \n",
    "        \"electrons/temperature\":            200,   \n",
    "    },\n",
    "    # fmt:on\n",
    ")\n",
    "solver_1d = tokamak.transport_solver.time_slice.current"
   ]
  },
  {
   "cell_type": "code",
   "execution_count": null,
   "metadata": {},
   "outputs": [],
   "source": [
    "solver.time_slice.current.grid.psi_norm"
   ]
  },
  {
   "cell_type": "code",
   "execution_count": null,
   "metadata": {},
   "outputs": [],
   "source": [
    "core_profiles_1d = tokamak.transport_solver.fetch()\n",
    "core_profiles_1d.grid.psi_norm"
   ]
  },
  {
   "cell_type": "code",
   "execution_count": null,
   "metadata": {},
   "outputs": [],
   "source": [
    "tokamak.flush()"
   ]
  },
  {
   "cell_type": "code",
   "execution_count": null,
   "metadata": {},
   "outputs": [],
   "source": [
    "fig = sp_view.plot(\n",
    "    solver_1d.grid.rho_tor_norm,\n",
    "    [\n",
    "        (core_profiles_1d.psi, r\"$\\psi$\"),\n",
    "        (\n",
    "            equilibrium_astra.time_slice.current.profiles_1d.psi(solver_1d.grid.psi_norm),\n",
    "            {\"label\": r\"$\\psi$ astra\", \"$matplotlib\": {\"linestyle\": \"dashed\"}},\n",
    "        ),\n",
    "    ],\n",
    "    *[\n",
    "        [\n",
    "            (Path(equ.identifier).get(core_profiles_1d, 0), f\"{equ.identifier} \"),\n",
    "            (\n",
    "                Path(equ.identifier).get(core_profiles_1d_astra, 0),\n",
    "                {\"label\": f\"{equ.identifier} astra\", \"$matplotlib\": {\"linestyle\": \"dashed\"}},\n",
    "            ),\n",
    "        ]\n",
    "        for equ in solver_1d.equations\n",
    "        if equ.identifier != \"psi\"\n",
    "    ],\n",
    ")"
   ]
  },
  {
   "cell_type": "code",
   "execution_count": null,
   "metadata": {},
   "outputs": [],
   "source": [
    "fig = sp_view.plot(\n",
    "    solver_1d.grid.rho_tor_norm,\n",
    "    [\n",
    "        (core_profiles_1d.ion[\"alpha\"].density, r\"$\\alpha$\"),\n",
    "        (core_profiles_1d.ion[\"He\"].density, r\"He\"),\n",
    "        (core_profiles_1d.ion[\"He\"].density + core_profiles_1d.ion[\"alpha\"].density, r\"He+$\\alpha$\"),\n",
    "        (core_profiles_1d_astra.ion[\"He\"].density, {\"label\": f\"He astra\", \"$matplotlib\": {\"linestyle\": \"dashed\"}}),\n",
    "    ],\n",
    "    fontsize=10,\n",
    ")"
   ]
  },
  {
   "cell_type": "code",
   "execution_count": null,
   "metadata": {},
   "outputs": [],
   "source": [
    "source_1d = tokamak.core_sources.source[0].time_slice.current.profiles_1d\n",
    "fig = sp_view.plot(\n",
    "    source_1d.grid.rho_tor_norm,\n",
    "    [(source_1d.electrons.particles, r\"$S_{e}$\")] + [(ion.particles, rf\"$S_{{{ion.label}}}$\") for ion in source_1d.ion],\n",
    "    [(source_1d.electrons.energy, r\"$Q_{e}$\")],\n",
    "    [(ion.energy, rf\"$Q_{{{ion.label}}}$\") for ion in source_1d.ion],\n",
    "    x_label=r\"$\\bar{\\rho}$ [-]\",\n",
    "    fontsize=12,\n",
    ")"
   ]
  },
  {
   "cell_type": "code",
   "execution_count": null,
   "metadata": {},
   "outputs": [],
   "source": []
  },
  {
   "cell_type": "code",
   "execution_count": null,
   "metadata": {},
   "outputs": [],
   "source": [
    "source_1d.ion._entry"
   ]
  },
  {
   "cell_type": "code",
   "execution_count": null,
   "metadata": {},
   "outputs": [],
   "source": [
    "source_1d = tokamak.core_sources.source[1].time_slice.current.profiles_1d\n",
    "fig = sp_view.plot(\n",
    "    source_1d.grid.rho_tor_norm,\n",
    "    [\n",
    "        (core_profiles_1d.electrons.temperature, r\"$T_{e}$\"),\n",
    "        *[(ion.temperature, rf\"$T_{{{ion.label}}}$\") for ion in core_profiles_1d.ion],\n",
    "    ],  # [(source_1d.electrons.particles, r\"$S_{e}$\")] + [(ion.particles, rf\"$S_{{{ion.label}}}$\") for ion in source_1d.ion],\n",
    "    [\n",
    "        (source_1d.electrons.energy, {\"label\": r\"$Q_{e}$\", \"$matplotlib\": {\"linestyle\": \"-\", \"marker\": \".\"}}),\n",
    "        *[(ion.energy, rf\"$Q_{{{ion.label}}}$\") for ion in source_1d.ion],\n",
    "    ],\n",
    "    x_label=r\"$\\bar{\\rho}$ [-]\",\n",
    "    fontsize=12,\n",
    ")"
   ]
  },
  {
   "cell_type": "code",
   "execution_count": null,
   "metadata": {},
   "outputs": [],
   "source": [
    "astra_rho_tor_norm = astra_profiles[\"x\"].values\n",
    "fig = sp_view.plot(\n",
    "    source_1d.grid.rho_tor_norm,\n",
    "    (\n",
    "        Function(astra_rho_tor_norm, astra_profiles[\"Poh\"].values * 1.0e6 / scipy.constants.electron_volt),\n",
    "        r\"$Q_{oh}$ astra\",\n",
    "    ),\n",
    "    [\n",
    "        (tokamak.core_sources.source[1].time_slice.current.profiles_1d.electrons.energy, r\"$Q_{e}$\"),\n",
    "        *[\n",
    "            (ion.energy, rf\"$Q_{{{ion.label}}}$\")\n",
    "            for ion in tokamak.core_sources.source[1].time_slice.current.profiles_1d.ion\n",
    "        ],\n",
    "    ],\n",
    "    [\n",
    "        (\n",
    "            Function(astra_rho_tor_norm, astra_profiles[\"Pdte\"].values * 1.0e6 / scipy.constants.electron_volt),\n",
    "            r\"$Q_{dte}$ astra\",\n",
    "        ),\n",
    "        (\n",
    "            Function(astra_rho_tor_norm, astra_profiles[\"Pdti\"].values * 1.0e6 / scipy.constants.electron_volt),\n",
    "            r\"$Q_{dti}$ astra\",\n",
    "        ),\n",
    "        (\n",
    "            Function(astra_rho_tor_norm, (astra_profiles[\"Pdt\"].values) * 1.0e6 / scipy.constants.electron_volt),\n",
    "            r\"$Q_{dt}$ astra total\",\n",
    "        ),\n",
    "    ],\n",
    "    *[\n",
    "        (\n",
    "            Function(astra_rho_tor_norm, astra_profiles[\"Peic\"].values * 1.0e6 / scipy.constants.electron_volt),\n",
    "            r\"$Q_{e}$ astra\",\n",
    "        ),\n",
    "        (source_1d.electrons.energy, r\"$Q_{e}$\"),\n",
    "    ],\n",
    "    x_label=r\"$\\bar{\\rho}$ [-]\",\n",
    "    fontsize=10,\n",
    ")"
   ]
  },
  {
   "cell_type": "code",
   "execution_count": null,
   "metadata": {},
   "outputs": [],
   "source": [
    "source_1d = tokamak.core_sources.source[2].time_slice.current.profiles_1d\n",
    "fig = sp_view.plot(\n",
    "    source_1d.grid.rho_tor_norm,\n",
    "    [(source_1d.electrons.particles, r\"$S_{e}$\")] + [(ion.particles, rf\"$S_{{{ion.label}}}$\") for ion in source_1d.ion],\n",
    "    [(source_1d.electrons.energy, r\"$Q_{e}$\")],\n",
    "    [(ion.energy, rf\"$Q_{{{ion.label}}}$\") for ion in source_1d.ion],\n",
    "    x_label=r\"$\\bar{\\rho}$ [-]\",\n",
    "    fontsize=12,\n",
    ")"
   ]
  },
  {
   "cell_type": "code",
   "execution_count": null,
   "metadata": {},
   "outputs": [],
   "source": [
    "fig = sp_view.plot(\n",
    "    solver_1d.grid.rho_tor_norm,\n",
    "    *sum(\n",
    "        [\n",
    "            [\n",
    "                # (solver_1d.Y0[2 * idx], f\"d({equ.identifier})/dr\"),\n",
    "                # (solver_1d.Y0[2 * idx + 1], f\"d({equ.identifier}_flux)/dr\"),\n",
    "                (equ.d_dr, f\"d({equ.identifier})/dr\"),\n",
    "                (equ.dflux_dr, f\"d({equ.identifier}_flux)/dr\"),\n",
    "            ]\n",
    "            for idx, equ in enumerate(solver_1d.equations)\n",
    "        ],\n",
    "        [],\n",
    "    ),\n",
    ")"
   ]
  },
  {
   "cell_type": "code",
   "execution_count": null,
   "metadata": {},
   "outputs": [],
   "source": [
    "trans_1d = tokamak.core_transport.model[0].time_slice.current.profiles_1d\n",
    "fig = sp_view.plot(\n",
    "    trans_1d.grid_d.rho_tor_norm,\n",
    "    (\n",
    "        [\n",
    "            (trans_1d.ion[0].particles.d, trans_1d.ion[0].label),\n",
    "            (trans_1d.ion[2].particles.d, trans_1d.ion[2].label),\n",
    "        ],\n",
    "        {\"y_label\": \"D\"},\n",
    "    ),\n",
    "    (\n",
    "        [\n",
    "            (trans_1d.ion[0].particles.v, trans_1d.ion[0].label),\n",
    "            (trans_1d.ion[2].particles.v, trans_1d.ion[2].label),\n",
    "        ],\n",
    "        {\"y_label\": \"v\"},\n",
    "    ),\n",
    ")"
   ]
  },
  {
   "cell_type": "code",
   "execution_count": null,
   "metadata": {},
   "outputs": [],
   "source": [
    "source_1d = tokamak.core_sources.source[0].time_slice.current.profiles_1d\n",
    "fig = sp_view.plot(\n",
    "    source_1d.grid.rho_tor_norm,\n",
    "    (\n",
    "        [\n",
    "            (source_1d.ion[0].particles, source_1d.ion[0].label),\n",
    "            (source_1d.ion[2].particles, source_1d.ion[2].label),\n",
    "        ],\n",
    "        {\"y_label\": \"Particles\"},\n",
    "    ),\n",
    "    (\n",
    "        [\n",
    "            (source_1d.ion[0].energy, source_1d.ion[0].label),\n",
    "            (source_1d.ion[2].energy, source_1d.ion[2].label),\n",
    "        ],\n",
    "        {\"y_label\": \"Energy\"},\n",
    "    ),\n",
    ")"
   ]
  }
 ],
 "metadata": {
  "kernelspec": {
   "display_name": "Python 3",
   "language": "python",
   "name": "python3"
  },
  "language_info": {
   "codemirror_mode": {
    "name": "ipython",
    "version": 3
   },
   "file_extension": ".py",
   "mimetype": "text/x-python",
   "name": "python",
   "nbconvert_exporter": "python",
   "pygments_lexer": "ipython3",
   "version": "3.10.12"
  }
 },
 "nbformat": 4,
 "nbformat_minor": 2
}
