{
 "cells": [
  {
   "cell_type": "code",
   "execution_count": 1,
   "metadata": {},
   "outputs": [
    {
     "name": "stdout",
     "output_type": "stream",
     "text": [
      "\u001b[0;34m2024-01-02 18:46:33,524 [    spdm]     INFO: \n",
      "###################################################################################################\n",
      "\n",
      "    ______      _____     _\n",
      "   / ____/_  __|_   _|__ | | __\n",
      "  / /_  / / / /  | |/ _ \\| |/ /\n",
      " / __/ / /_/ /   | | (_) |   <\n",
      "/_/    \\__, /    |_|\\___/|_|\\_\\\n",
      "      /____/\n",
      "\n",
      " Copyright (c) 2021-present Zhi YU (Institute of Plasma Physics Chinese Academy of Sciences)\n",
      "            \n",
      " url: https://gitee.com/openfusion/fytok_tutorial \n",
      "      https://github.com/fusion-yun/fytok_tutorial\n",
      "\n",
      " version = alpha  (spdm=beta extension=0.2.2.dev19+g14adade.d20231205, imas_version=v3_38_1_dirty)\n",
      "\n",
      " Run by salmon at 2024-01-02T18:46:33.307324.\n",
      " Job ID: fytok_salmon_surface_24487\n",
      "\n",
      "###################################################################################################\n",
      "\u001b[0m\n"
     ]
    }
   ],
   "source": [
    "import pathlib\n",
    "import scipy.constants\n",
    "import numpy as np\n",
    "import pandas as pd\n",
    "import matplotlib.pyplot as plt\n",
    "from fytok.Tokamak import Tokamak\n",
    "from fytok.modules.CoreProfiles import CoreProfiles\n",
    "from fytok.modules.Equilibrium import Equilibrium\n",
    "from spdm.view import View as sp_view\n",
    "from spdm.data.Path import Path\n",
    "from spdm.data.Function import Function\n",
    "\n",
    "data_path = pathlib.Path(\"/home/salmon/workspace/fytok_data/data/15MA inductive - burn\")\n",
    "\n",
    "astra_profiles = pd.read_excel(\n",
    "    next(data_path.glob(\"*ASTRA.xls\")).absolute().as_posix(), sheet_name=1, header=10, usecols=\"B:BN\"\n",
    ")"
   ]
  },
  {
   "cell_type": "code",
   "execution_count": 2,
   "metadata": {},
   "outputs": [
    {
     "name": "stdout",
     "output_type": "stream",
     "text": [
      "\u001b[0;34m2024-01-02 18:46:33,839 [    spdm]     INFO: Load module spdm.plugins.data.plugin_iterprofiles\u001b[0m\n",
      "\u001b[0;34m2024-01-02 18:46:33,947 [    spdm]     INFO: Initialize module fytok.modules.CoreProfiles \u001b[0m\n",
      "\u001b[0;34m2024-01-02 18:46:33,999 [    spdm]     INFO: Load module fytok.plugins.equilibrium.fy_eq\u001b[0m\n",
      "\u001b[0;34m2024-01-02 18:46:34,001 [    spdm]     INFO: Load module spdm.plugins.data.plugin_geqdsk\u001b[0m\n",
      "\u001b[0;34m2024-01-02 18:46:34,023 [    spdm]     INFO: Initialize module fytok.plugins.equilibrium.fy_eq-FyTok \u001b[0m\n"
     ]
    }
   ],
   "source": [
    "core_profiles_astra = CoreProfiles(\n",
    "    f\"file+iterprofiles://{next(data_path.glob('*ASTRA.xls')).absolute().as_posix()}#core_profiles\"\n",
    ")\n",
    "\n",
    "core_profiles_1d_astra = core_profiles_astra.time_slice.current.profiles_1d\n",
    "\n",
    "equilibrium_astra = Equilibrium(f\"file+geqdsk://{next(data_path.glob('**/g*.txt')).absolute().as_posix()}#equilibrium\")\n"
   ]
  },
  {
   "cell_type": "code",
   "execution_count": 3,
   "metadata": {},
   "outputs": [
    {
     "name": "stdout",
     "output_type": "stream",
     "text": [
      "\u001b[0;34m2024-01-02 18:46:34,052 [    spdm]     INFO: Load module spdm.plugins.data.plugin_xml\u001b[0m\n"
     ]
    }
   ],
   "source": [
    "tokamak = Tokamak(\n",
    "    f\"file+iterprofiles://{next(data_path.glob('*ASTRA.xls')).absolute().as_posix()}\",\n",
    "    f\"file+geqdsk://{next(data_path.glob('**/g*.txt')).absolute().as_posix()}\",\n",
    "    device=\"iter\",\n",
    "    shot=900003,\n",
    "    equilibrium={\"code\": {\"parameters\": {\"psi_norm\": np.linspace(0.01, 0.999, 64)}}},\n",
    "    core_transport={\n",
    "        \"model\": [\n",
    "            {\"code\": {\"name\": \"dummy\"}},\n",
    "            # {\"code\": {\"name\": \"fast_alpha\"}},\n",
    "        ]\n",
    "    },\n",
    "    core_sources={\n",
    "        \"source\": [\n",
    "            {\"code\": {\"name\": \"dummy\"}},\n",
    "            # {\"code\": {\"name\": \"fusion\", \"parameters\": {\"fusion_reactions\": [\"D(t,n)alpha\"]}}},\n",
    "            # {\"code\": {\"name\": \"radiation\"}},\n",
    "            # {\"code\": {\"name\": \"synchrotron_radiation\"}},\n",
    "            # {\"code\": {\"name\": \"collisional_equipartition\"}},\n",
    "        ]\n",
    "    },\n",
    "    transport_solver={\n",
    "        \"code\": {\n",
    "            \"name\": \"fy_trans\",\n",
    "            \"parameters\": {\n",
    "                \"rho_tor_norm\": np.linspace(0.01, 0.995, 128),\n",
    "                # \"bvp_rms_mask\": [0.96],\n",
    "                \"hyper_diff\": 1.0e-5,\n",
    "                \"max_nodes\": 257,\n",
    "                \"bc_tol\": 1,\n",
    "                \"verbose\": 2,\n",
    "                \"units\": {\n",
    "                    \"*/density\": 1.0e21,\n",
    "                    \"*/density_flux\": 1.0e24,\n",
    "                    \"ion/alpha/density\": 1.0e18,\n",
    "                    \"ion/alpha/density_flux\": 1.0e21,\n",
    "                    \"*/temperature\": 1.0e6,\n",
    "                    \"*/temperature_flux\": 1.0e27,\n",
    "                },\n",
    "            },\n",
    "        },\n",
    "        \"ion_thermal\": [\"D\", \"T\"],\n",
    "        \"ion_non_thermal\": [\"alpha\", \"He\"],\n",
    "        \"impurities\": [\"Ar\", \"Be\"],\n",
    "        \"boundary_condition_type\": {\n",
    "            # fmt: off\n",
    "            # psi                          at axis \\frac{d\\psi}{dx}=0  , at boundary \\psi=?\n",
    "            \"psi\"                       : 1, \n",
    "            # density                      at axis \\Gamma_s=0          , at boundary n=?\n",
    "            \"*/density\"                 : 1, \n",
    "            # temperatur                   at axis \\frac{dT}{dx}=0     , at boundary T=?\n",
    "            \"*/temperature\"             : 1,\n",
    "            # fmt: on\n",
    "        },\n",
    "    },\n",
    ")"
   ]
  },
  {
   "cell_type": "code",
   "execution_count": 4,
   "metadata": {},
   "outputs": [
    {
     "name": "stdout",
     "output_type": "stream",
     "text": [
      "\u001b[0;34m2024-01-02 18:46:34,218 [    spdm]     INFO: Load module fytok.plugins.transport_solver_numerics.fy_trans\u001b[0m\n",
      "\u001b[0;34m2024-01-02 18:46:34,223 [    spdm]     INFO: Initialize module fytok.plugins.transport_solver_numerics.fy_trans-FyTok \u001b[0m\n",
      "\u001b[0;37m2024-01-02 18:46:34,253 [    spdm]    DEBUG: /home/salmon/workspace/fytok/python/fytok/plugins/transport_solver_numerics/fy_trans/fy_trans.py:168:__init__: [<fytok.modules.CoreProfiles.CoreProfilesIon object at 0x7f701c36f8b0>, <fytok.modules.CoreProfiles.CoreProfilesIon object at 0x7f701c4001c0>, <fytok.modules.CoreProfiles.CoreProfilesIon object at 0x7f701c401690>, <fytok.modules.CoreProfiles.CoreProfilesIon object at 0x7f701c402470>]\u001b[0m\n",
      "\u001b[0;37m2024-01-02 18:46:34,254 [    spdm]    DEBUG: /home/salmon/workspace/fytok/python/fytok/plugins/transport_solver_numerics/fy_trans/fy_trans.py:169:__init__: [{'@name': 'psi', 'identifier': 'psi', 'units': (1, 1), 'boundary_condition_type': 1}, {'@name': 'electrons/temperature', 'identifier': 'electrons/temperature', 'units': (1000000.0, 1e+27), 'boundary_condition_type': 1}, {'@name': 'ion/D/density', 'identifier': 'ion/D/density', 'units': (1e+21, 1e+24), 'boundary_condition_type': 1}, {'@name': 'ion/D/temperature', 'identifier': 'ion/D/temperature', 'units': (1000000.0, 1e+27), 'boundary_condition_type': 1}, {'@name': 'ion/T/density', 'identifier': 'ion/T/density', 'units': (1e+21, 1e+24), 'boundary_condition_type': 1}, {'@name': 'ion/T/temperature', 'identifier': 'ion/T/temperature', 'units': (1000000.0, 1e+27), 'boundary_condition_type': 1}, {'@name': 'ion/He/density', 'identifier': 'ion/He/density', 'units': (1e+21, 1e+24), 'boundary_condition_type': 1}, {'@name': 'ion/alpha/density', 'identifier': 'ion/alpha/density', 'units': (1e+18, 1e+21), 'boundary_condition_type': 1}]\u001b[0m\n",
      "\u001b[0;37m2024-01-02 18:46:34,258 [    spdm]    DEBUG: /home/salmon/workspace/fytok/python/fytok/plugins/transport_solver_numerics/fy_trans/fy_trans.py:184:__init__:  Unknowns : ['psi', 'electrons/temperature', 'ion/D/density', 'ion/D/temperature', 'ion/T/density', 'ion/T/temperature', 'ion/He/density', 'ion/alpha/density']\u001b[0m\n"
     ]
    }
   ],
   "source": [
    "solver = tokamak.transport_solver"
   ]
  },
  {
   "cell_type": "code",
   "execution_count": 5,
   "metadata": {},
   "outputs": [
    {
     "ename": "AttributeError",
     "evalue": "'NoneType' object has no attribute 'grid'",
     "output_type": "error",
     "traceback": [
      "\u001b[0;31m---------------------------------------------------------------------------\u001b[0m",
      "\u001b[0;31mAttributeError\u001b[0m                            Traceback (most recent call last)",
      "Cell \u001b[0;32mIn[5], line 1\u001b[0m\n\u001b[0;32m----> 1\u001b[0m \u001b[43msolver\u001b[49m\u001b[38;5;241;43m.\u001b[39;49m\u001b[43mrefresh\u001b[49m\u001b[43m(\u001b[49m\n\u001b[1;32m      2\u001b[0m \u001b[43m    \u001b[49m\u001b[43mtime\u001b[49m\u001b[38;5;241;43m=\u001b[39;49m\u001b[38;5;241;43m0.0\u001b[39;49m\u001b[43m,\u001b[49m\n\u001b[1;32m      3\u001b[0m \u001b[43m    \u001b[49m\u001b[38;5;66;43;03m# fmt:off\u001b[39;49;00m\n\u001b[1;32m      4\u001b[0m \u001b[43m    \u001b[49m\u001b[43minitial_value\u001b[49m\u001b[38;5;241;43m=\u001b[39;49m\u001b[43m{\u001b[49m\n\u001b[1;32m      5\u001b[0m \u001b[43m        \u001b[49m\u001b[38;5;124;43m\"\u001b[39;49m\u001b[38;5;124;43mpsi\u001b[39;49m\u001b[38;5;124;43m\"\u001b[39;49m\u001b[43m:\u001b[49m\u001b[38;5;241;43m0.0\u001b[39;49m\u001b[43m,\u001b[49m\n\u001b[1;32m      6\u001b[0m \u001b[43m        \u001b[49m\u001b[38;5;124;43m\"\u001b[39;49m\u001b[38;5;124;43mion/D/density\u001b[39;49m\u001b[38;5;124;43m\"\u001b[39;49m\u001b[43m:\u001b[49m\u001b[43m                    \u001b[49m\u001b[38;5;241;43m1.0e19\u001b[39;49m\u001b[43m,\u001b[49m\n\u001b[1;32m      7\u001b[0m \u001b[43m        \u001b[49m\u001b[38;5;124;43m\"\u001b[39;49m\u001b[38;5;124;43mion/T/density\u001b[39;49m\u001b[38;5;124;43m\"\u001b[39;49m\u001b[43m:\u001b[49m\u001b[43m                    \u001b[49m\u001b[38;5;241;43m1.0e19\u001b[39;49m\u001b[43m,\u001b[49m\n\u001b[1;32m      8\u001b[0m \u001b[43m        \u001b[49m\u001b[38;5;124;43m\"\u001b[39;49m\u001b[38;5;124;43mion/He/density\u001b[39;49m\u001b[38;5;124;43m\"\u001b[39;49m\u001b[43m:\u001b[49m\u001b[43m                   \u001b[49m\u001b[38;5;241;43m1.0\u001b[39;49m\u001b[43m,\u001b[49m\n\u001b[1;32m      9\u001b[0m \u001b[43m        \u001b[49m\u001b[38;5;124;43m\"\u001b[39;49m\u001b[38;5;124;43mion/alpha/density\u001b[39;49m\u001b[38;5;124;43m\"\u001b[39;49m\u001b[43m:\u001b[49m\u001b[43m                \u001b[49m\u001b[38;5;241;43m1.0\u001b[39;49m\u001b[43m,\u001b[49m\n\u001b[1;32m     10\u001b[0m \n\u001b[1;32m     11\u001b[0m \u001b[43m        \u001b[49m\u001b[38;5;124;43m\"\u001b[39;49m\u001b[38;5;124;43mion/D/temperature\u001b[39;49m\u001b[38;5;124;43m\"\u001b[39;49m\u001b[43m:\u001b[49m\u001b[43m                \u001b[49m\u001b[38;5;241;43m2.0e3\u001b[39;49m\u001b[43m,\u001b[49m\n\u001b[1;32m     12\u001b[0m \u001b[43m        \u001b[49m\u001b[38;5;124;43m\"\u001b[39;49m\u001b[38;5;124;43mion/T/temperature\u001b[39;49m\u001b[38;5;124;43m\"\u001b[39;49m\u001b[43m:\u001b[49m\u001b[43m                \u001b[49m\u001b[38;5;241;43m2.0e3\u001b[39;49m\u001b[43m,\u001b[49m\n\u001b[1;32m     13\u001b[0m \u001b[43m        \u001b[49m\u001b[38;5;124;43m\"\u001b[39;49m\u001b[38;5;124;43mion/He/temperature\u001b[39;49m\u001b[38;5;124;43m\"\u001b[39;49m\u001b[43m:\u001b[49m\u001b[43m               \u001b[49m\u001b[38;5;241;43m2.0e3\u001b[39;49m\u001b[43m,\u001b[49m\n\u001b[1;32m     14\u001b[0m \u001b[43m        \u001b[49m\u001b[38;5;124;43m\"\u001b[39;49m\u001b[38;5;124;43melectrons/temperature\u001b[39;49m\u001b[38;5;124;43m\"\u001b[39;49m\u001b[43m:\u001b[49m\u001b[43m            \u001b[49m\u001b[38;5;241;43m2.0e3\u001b[39;49m\u001b[43m,\u001b[49m\n\u001b[1;32m     15\u001b[0m \u001b[43m    \u001b[49m\u001b[43m}\u001b[49m\u001b[43m,\u001b[49m\n\u001b[1;32m     16\u001b[0m \u001b[43m    \u001b[49m\u001b[43mboundary_value\u001b[49m\u001b[38;5;241;43m=\u001b[39;49m\u001b[43m{\u001b[49m\n\u001b[1;32m     17\u001b[0m \u001b[43m        \u001b[49m\u001b[38;5;124;43m\"\u001b[39;49m\u001b[38;5;124;43mion/D/density\u001b[39;49m\u001b[38;5;124;43m\"\u001b[39;49m\u001b[43m:\u001b[49m\u001b[43m                    \u001b[49m\u001b[38;5;241;43m1.3e19\u001b[39;49m\u001b[43m,\u001b[49m\u001b[43m \u001b[49m\n\u001b[1;32m     18\u001b[0m \u001b[43m        \u001b[49m\u001b[38;5;124;43m\"\u001b[39;49m\u001b[38;5;124;43mion/T/density\u001b[39;49m\u001b[38;5;124;43m\"\u001b[39;49m\u001b[43m:\u001b[49m\u001b[43m                    \u001b[49m\u001b[38;5;241;43m1.3e19\u001b[39;49m\u001b[43m,\u001b[49m\u001b[43m \u001b[49m\n\u001b[1;32m     19\u001b[0m \u001b[43m        \u001b[49m\u001b[38;5;124;43m\"\u001b[39;49m\u001b[38;5;124;43mion/He/density\u001b[39;49m\u001b[38;5;124;43m\"\u001b[39;49m\u001b[43m:\u001b[49m\u001b[43m                   \u001b[49m\u001b[38;5;241;43m1.0\u001b[39;49m\u001b[43m,\u001b[49m\u001b[43m \u001b[49m\n\u001b[1;32m     20\u001b[0m \u001b[43m        \u001b[49m\u001b[38;5;124;43m\"\u001b[39;49m\u001b[38;5;124;43mion/alpha/density\u001b[39;49m\u001b[38;5;124;43m\"\u001b[39;49m\u001b[43m:\u001b[49m\u001b[43m                \u001b[49m\u001b[38;5;241;43m1.0\u001b[39;49m\u001b[43m,\u001b[49m\u001b[43m \u001b[49m\n\u001b[1;32m     21\u001b[0m \n\u001b[1;32m     22\u001b[0m \u001b[43m        \u001b[49m\u001b[38;5;124;43m\"\u001b[39;49m\u001b[38;5;124;43mion/D/temperature\u001b[39;49m\u001b[38;5;124;43m\"\u001b[39;49m\u001b[43m:\u001b[49m\u001b[43m                \u001b[49m\u001b[38;5;241;43m200\u001b[39;49m\u001b[43m,\u001b[49m\u001b[43m   \u001b[49m\n\u001b[1;32m     23\u001b[0m \u001b[43m        \u001b[49m\u001b[38;5;124;43m\"\u001b[39;49m\u001b[38;5;124;43mion/T/temperature\u001b[39;49m\u001b[38;5;124;43m\"\u001b[39;49m\u001b[43m:\u001b[49m\u001b[43m                \u001b[49m\u001b[38;5;241;43m200\u001b[39;49m\u001b[43m,\u001b[49m\u001b[43m   \u001b[49m\n\u001b[1;32m     24\u001b[0m \u001b[43m        \u001b[49m\u001b[38;5;124;43m\"\u001b[39;49m\u001b[38;5;124;43mion/He/temperature\u001b[39;49m\u001b[38;5;124;43m\"\u001b[39;49m\u001b[43m:\u001b[49m\u001b[43m               \u001b[49m\u001b[38;5;241;43m200\u001b[39;49m\u001b[43m,\u001b[49m\u001b[43m   \u001b[49m\n\u001b[1;32m     25\u001b[0m \u001b[43m        \u001b[49m\u001b[38;5;124;43m\"\u001b[39;49m\u001b[38;5;124;43melectrons/temperature\u001b[39;49m\u001b[38;5;124;43m\"\u001b[39;49m\u001b[43m:\u001b[49m\u001b[43m            \u001b[49m\u001b[38;5;241;43m200\u001b[39;49m\u001b[43m,\u001b[49m\u001b[43m   \u001b[49m\n\u001b[1;32m     26\u001b[0m \u001b[43m    \u001b[49m\u001b[43m}\u001b[49m\u001b[43m,\u001b[49m\n\u001b[1;32m     27\u001b[0m \u001b[43m    \u001b[49m\u001b[38;5;66;43;03m# fmt:on\u001b[39;49;00m\n\u001b[1;32m     28\u001b[0m \u001b[43m)\u001b[49m\n\u001b[1;32m     29\u001b[0m solver_1d \u001b[38;5;241m=\u001b[39m tokamak\u001b[38;5;241m.\u001b[39mtransport_solver\u001b[38;5;241m.\u001b[39mtime_slice\u001b[38;5;241m.\u001b[39mcurrent\n",
      "File \u001b[0;32m~/workspace/fytok/python/fytok/modules/TransportSolverNumerics.py:166\u001b[0m, in \u001b[0;36mTransportSolverNumerics.refresh\u001b[0;34m(self, equilibrium, core_transport, core_sources, core_profiles, *args, **kwargs)\u001b[0m\n\u001b[1;32m    157\u001b[0m \u001b[38;5;28;01mdef\u001b[39;00m \u001b[38;5;21mrefresh\u001b[39m(\n\u001b[1;32m    158\u001b[0m     \u001b[38;5;28mself\u001b[39m,\n\u001b[1;32m    159\u001b[0m     \u001b[38;5;241m*\u001b[39margs,\n\u001b[0;32m   (...)\u001b[0m\n\u001b[1;32m    164\u001b[0m     \u001b[38;5;241m*\u001b[39m\u001b[38;5;241m*\u001b[39mkwargs,\n\u001b[1;32m    165\u001b[0m ) \u001b[38;5;241m-\u001b[39m\u001b[38;5;241m>\u001b[39m TransportSolverNumericsTimeSlice:\n\u001b[0;32m--> 166\u001b[0m     \u001b[38;5;28;01mreturn\u001b[39;00m \u001b[38;5;28;43msuper\u001b[39;49m\u001b[43m(\u001b[49m\u001b[43m)\u001b[49m\u001b[38;5;241;43m.\u001b[39;49m\u001b[43mrefresh\u001b[49m\u001b[43m(\u001b[49m\n\u001b[1;32m    167\u001b[0m \u001b[43m        \u001b[49m\u001b[38;5;241;43m*\u001b[39;49m\u001b[43margs\u001b[49m\u001b[43m,\u001b[49m\n\u001b[1;32m    168\u001b[0m \u001b[43m        \u001b[49m\u001b[43mequilibrium\u001b[49m\u001b[38;5;241;43m=\u001b[39;49m\u001b[43mequilibrium\u001b[49m\u001b[43m,\u001b[49m\n\u001b[1;32m    169\u001b[0m \u001b[43m        \u001b[49m\u001b[43mcore_transport\u001b[49m\u001b[38;5;241;43m=\u001b[39;49m\u001b[43mcore_transport\u001b[49m\u001b[43m,\u001b[49m\n\u001b[1;32m    170\u001b[0m \u001b[43m        \u001b[49m\u001b[43mcore_sources\u001b[49m\u001b[38;5;241;43m=\u001b[39;49m\u001b[43mcore_sources\u001b[49m\u001b[43m,\u001b[49m\n\u001b[1;32m    171\u001b[0m \u001b[43m        \u001b[49m\u001b[43mcore_profiles\u001b[49m\u001b[38;5;241;43m=\u001b[39;49m\u001b[43mcore_profiles\u001b[49m\u001b[43m,\u001b[49m\n\u001b[1;32m    172\u001b[0m \u001b[43m        \u001b[49m\u001b[38;5;241;43m*\u001b[39;49m\u001b[38;5;241;43m*\u001b[39;49m\u001b[43mkwargs\u001b[49m\u001b[43m,\u001b[49m\n\u001b[1;32m    173\u001b[0m \u001b[43m    \u001b[49m\u001b[43m)\u001b[49m\n",
      "File \u001b[0;32m~/workspace/fytok/SpDM/python/spdm/data/Actor.py:184\u001b[0m, in \u001b[0;36mActor.refresh\u001b[0;34m(self, *args, **kwargs)\u001b[0m\n\u001b[1;32m    163\u001b[0m \u001b[38;5;66;03m# # 查找父节点的输入\u001b[39;00m\n\u001b[1;32m    164\u001b[0m \u001b[38;5;66;03m# parent = getattr(self, \"_parent\", _not_found_)\u001b[39;00m\n\u001b[1;32m    165\u001b[0m \u001b[38;5;66;03m# while isinstance(parent, AoS) and parent is not _not_found_:\u001b[39;00m\n\u001b[0;32m   (...)\u001b[0m\n\u001b[1;32m    179\u001b[0m \u001b[38;5;66;03m#         if node is not _not_found_ and node is not None:\u001b[39;00m\n\u001b[1;32m    180\u001b[0m \u001b[38;5;66;03m#             edge.source.update(node)\u001b[39;00m\n\u001b[1;32m    182\u001b[0m kwargs \u001b[38;5;241m=\u001b[39m \u001b[38;5;28mself\u001b[39m\u001b[38;5;241m.\u001b[39minputs\u001b[38;5;241m.\u001b[39mupdate(kwargs)  \u001b[38;5;66;03m# 更新 inputs，返回将不是 HTreeNode 的 input\u001b[39;00m\n\u001b[0;32m--> 184\u001b[0m current \u001b[38;5;241m=\u001b[39m \u001b[38;5;28;43mself\u001b[39;49m\u001b[38;5;241;43m.\u001b[39;49m\u001b[43mpreprocess\u001b[49m\u001b[43m(\u001b[49m\u001b[38;5;241;43m*\u001b[39;49m\u001b[43margs\u001b[49m\u001b[43m,\u001b[49m\u001b[43m \u001b[49m\u001b[38;5;241;43m*\u001b[39;49m\u001b[38;5;241;43m*\u001b[39;49m\u001b[43mkwargs\u001b[49m\u001b[43m)\u001b[49m\n\u001b[1;32m    186\u001b[0m \u001b[38;5;28;01mif\u001b[39;00m current \u001b[38;5;129;01mis\u001b[39;00m \u001b[38;5;28;01mNone\u001b[39;00m:\n\u001b[1;32m    187\u001b[0m     current \u001b[38;5;241m=\u001b[39m \u001b[38;5;28mself\u001b[39m\u001b[38;5;241m.\u001b[39mtime_slice\u001b[38;5;241m.\u001b[39mcurrent\n",
      "File \u001b[0;32m~/workspace/fytok/python/fytok/plugins/transport_solver_numerics/fy_trans/fy_trans.py:217\u001b[0m, in \u001b[0;36mFyTrans.preprocess\u001b[0;34m(self, initial_value, boundary_value, *args, **kwargs)\u001b[0m\n\u001b[1;32m    211\u001b[0m grid \u001b[38;5;241m=\u001b[39m current\u001b[38;5;241m.\u001b[39mfetch_cache(\u001b[38;5;124m\"\u001b[39m\u001b[38;5;124mgrid\u001b[39m\u001b[38;5;124m\"\u001b[39m, _not_found_)\n\u001b[1;32m    213\u001b[0m \u001b[38;5;28;01mif\u001b[39;00m \u001b[38;5;129;01mnot\u001b[39;00m \u001b[38;5;28misinstance\u001b[39m(grid, CoreRadialGrid):\n\u001b[1;32m    214\u001b[0m     \u001b[38;5;66;03m# TODO: 根据时间获取时间片, 例如：\u001b[39;00m\n\u001b[1;32m    215\u001b[0m     \u001b[38;5;66;03m# assert math.isclose(equilibrium.time, self.time), f\"{equilibrium.time} != {current.time}\"\u001b[39;00m\n\u001b[1;32m    216\u001b[0m     \u001b[38;5;66;03m#   eq:Equilibrium.TimeSlice= equilibrium.time_slice.get(self.time)\u001b[39;00m\n\u001b[0;32m--> 217\u001b[0m     grid \u001b[38;5;241m=\u001b[39m \u001b[43meq_1d\u001b[49m\u001b[38;5;241;43m.\u001b[39;49m\u001b[43mgrid\u001b[49m\u001b[38;5;241m.\u001b[39mremesh(\u001b[38;5;28mself\u001b[39m\u001b[38;5;241m.\u001b[39m_rho_tor_norm)\n\u001b[1;32m    218\u001b[0m     current[\u001b[38;5;124m\"\u001b[39m\u001b[38;5;124mgrid\u001b[39m\u001b[38;5;124m\"\u001b[39m] \u001b[38;5;241m=\u001b[39m grid\n\u001b[1;32m    219\u001b[0m \u001b[38;5;28;01melse\u001b[39;00m:\n",
      "\u001b[0;31mAttributeError\u001b[0m: 'NoneType' object has no attribute 'grid'"
     ]
    }
   ],
   "source": [
    "solver.refresh(\n",
    "    time=0.0,\n",
    "    # fmt:off\n",
    "    initial_value={\n",
    "        \"psi\":0.0,\n",
    "        \"ion/D/density\":                    1.0e19,\n",
    "        \"ion/T/density\":                    1.0e19,\n",
    "        \"ion/He/density\":                   1.0,\n",
    "        \"ion/alpha/density\":                1.0,\n",
    "\n",
    "        \"ion/D/temperature\":                2.0e3,\n",
    "        \"ion/T/temperature\":                2.0e3,\n",
    "        \"ion/He/temperature\":               2.0e3,\n",
    "        \"electrons/temperature\":            2.0e3,\n",
    "    },\n",
    "    boundary_value={\n",
    "        \"ion/D/density\":                    1.3e19, \n",
    "        \"ion/T/density\":                    1.3e19, \n",
    "        \"ion/He/density\":                   1.0, \n",
    "        \"ion/alpha/density\":                1.0, \n",
    "\n",
    "        \"ion/D/temperature\":                200,   \n",
    "        \"ion/T/temperature\":                200,   \n",
    "        \"ion/He/temperature\":               200,   \n",
    "        \"electrons/temperature\":            200,   \n",
    "    },\n",
    "    # fmt:on\n",
    ")\n",
    "solver_1d = tokamak.transport_solver.time_slice.current"
   ]
  },
  {
   "cell_type": "code",
   "execution_count": null,
   "metadata": {},
   "outputs": [],
   "source": [
    "tokamak.flush()\n",
    "core_profiles_1d = tokamak.transport_solver.fetch()\n"
   ]
  },
  {
   "cell_type": "code",
   "execution_count": null,
   "metadata": {},
   "outputs": [],
   "source": [
    "fig = sp_view.plot(\n",
    "    solver_1d.grid.rho_tor_norm,\n",
    "    [\n",
    "        (core_profiles_1d.psi, r\"$\\psi$\"),\n",
    "        (\n",
    "            equilibrium_astra.time_slice.current.profiles_1d.psi(solver_1d.grid.psi_norm),\n",
    "            {\"label\": r\"$\\psi$ astra\", \"$matplotlib\": {\"linestyle\": \"dashed\"}},\n",
    "        ),\n",
    "    ],\n",
    "    *[\n",
    "        [\n",
    "            (Path(equ.identifier).get(core_profiles_1d, 0), f\"{equ.identifier} \"),\n",
    "            (\n",
    "                Path(equ.identifier).get(core_profiles_1d_astra, 0),\n",
    "                {\"label\": f\"{equ.identifier} astra\", \"$matplotlib\": {\"linestyle\": \"dashed\"}},\n",
    "            ),\n",
    "        ]\n",
    "        for equ in solver_1d.equations\n",
    "        if equ.identifier != \"psi\"\n",
    "    ],\n",
    ")"
   ]
  },
  {
   "cell_type": "code",
   "execution_count": null,
   "metadata": {},
   "outputs": [],
   "source": [
    "fig = sp_view.plot(\n",
    "    solver_1d.grid.rho_tor_norm,\n",
    "    [\n",
    "        (core_profiles_1d.ion[\"alpha\"].density, r\"$\\alpha$\"),\n",
    "        (core_profiles_1d.ion[\"He\"].density, r\"He\"),\n",
    "        (core_profiles_1d.ion[\"He\"].density + core_profiles_1d.ion[\"alpha\"].density, r\"He+$\\alpha$\"),\n",
    "        (core_profiles_1d_astra.ion[\"He\"].density, {\"label\": f\"He astra\", \"$matplotlib\": {\"linestyle\": \"dashed\"}}),\n",
    "    ],\n",
    "    fontsize=10,\n",
    ")"
   ]
  },
  {
   "cell_type": "code",
   "execution_count": null,
   "metadata": {},
   "outputs": [],
   "source": [
    "source_1d = tokamak.core_sources.source[0].time_slice.current.profiles_1d\n",
    "fig = sp_view.plot(\n",
    "    source_1d.grid.rho_tor_norm,\n",
    "    [(source_1d.electrons.particles, r\"$S_{e}$\")] + [(ion.particles, rf\"$S_{{{ion.label}}}$\") for ion in source_1d.ion],\n",
    "    [(source_1d.electrons.energy, r\"$Q_{e}$\")],\n",
    "    [(ion.energy, rf\"$Q_{{{ion.label}}}$\") for ion in source_1d.ion],\n",
    "    x_label=r\"$\\bar{\\rho}$ [-]\",\n",
    "    fontsize=12,\n",
    ")"
   ]
  },
  {
   "cell_type": "code",
   "execution_count": null,
   "metadata": {},
   "outputs": [],
   "source": []
  },
  {
   "cell_type": "code",
   "execution_count": null,
   "metadata": {},
   "outputs": [],
   "source": [
    "source_1d.ion._entry"
   ]
  },
  {
   "cell_type": "code",
   "execution_count": null,
   "metadata": {},
   "outputs": [],
   "source": [
    "source_1d = tokamak.core_sources.source[1].time_slice.current.profiles_1d\n",
    "fig = sp_view.plot(\n",
    "    source_1d.grid.rho_tor_norm,\n",
    "    [\n",
    "        (core_profiles_1d.electrons.temperature, r\"$T_{e}$\"),\n",
    "        *[(ion.temperature, rf\"$T_{{{ion.label}}}$\") for ion in core_profiles_1d.ion],\n",
    "    ],  # [(source_1d.electrons.particles, r\"$S_{e}$\")] + [(ion.particles, rf\"$S_{{{ion.label}}}$\") for ion in source_1d.ion],\n",
    "    [\n",
    "        (source_1d.electrons.energy, {\"label\": r\"$Q_{e}$\", \"$matplotlib\": {\"linestyle\": \"-\", \"marker\": \".\"}}),\n",
    "        *[(ion.energy, rf\"$Q_{{{ion.label}}}$\") for ion in source_1d.ion],\n",
    "    ],\n",
    "    x_label=r\"$\\bar{\\rho}$ [-]\",\n",
    "    fontsize=12,\n",
    ")"
   ]
  },
  {
   "cell_type": "code",
   "execution_count": null,
   "metadata": {},
   "outputs": [],
   "source": [
    "astra_rho_tor_norm = astra_profiles[\"x\"].values\n",
    "fig = sp_view.plot(\n",
    "    source_1d.grid.rho_tor_norm,\n",
    "    (\n",
    "        Function(astra_rho_tor_norm, astra_profiles[\"Poh\"].values * 1.0e6 / scipy.constants.electron_volt),\n",
    "        r\"$Q_{oh}$ astra\",\n",
    "    ),\n",
    "    [\n",
    "        (tokamak.core_sources.source[1].time_slice.current.profiles_1d.electrons.energy, r\"$Q_{e}$\"),\n",
    "        *[\n",
    "            (ion.energy, rf\"$Q_{{{ion.label}}}$\")\n",
    "            for ion in tokamak.core_sources.source[1].time_slice.current.profiles_1d.ion\n",
    "        ],\n",
    "    ],\n",
    "    [\n",
    "        (\n",
    "            Function(astra_rho_tor_norm, astra_profiles[\"Pdte\"].values * 1.0e6 / scipy.constants.electron_volt),\n",
    "            r\"$Q_{dte}$ astra\",\n",
    "        ),\n",
    "        (\n",
    "            Function(astra_rho_tor_norm, astra_profiles[\"Pdti\"].values * 1.0e6 / scipy.constants.electron_volt),\n",
    "            r\"$Q_{dti}$ astra\",\n",
    "        ),\n",
    "        (\n",
    "            Function(astra_rho_tor_norm, (astra_profiles[\"Pdt\"].values) * 1.0e6 / scipy.constants.electron_volt),\n",
    "            r\"$Q_{dt}$ astra total\",\n",
    "        ),\n",
    "    ],\n",
    "    *[\n",
    "        (\n",
    "            Function(astra_rho_tor_norm, astra_profiles[\"Peic\"].values * 1.0e6 / scipy.constants.electron_volt),\n",
    "            r\"$Q_{e}$ astra\",\n",
    "        ),\n",
    "        (source_1d.electrons.energy, r\"$Q_{e}$\"),\n",
    "    ],\n",
    "    x_label=r\"$\\bar{\\rho}$ [-]\",\n",
    "    fontsize=10,\n",
    ")"
   ]
  },
  {
   "cell_type": "code",
   "execution_count": null,
   "metadata": {},
   "outputs": [],
   "source": [
    "source_1d = tokamak.core_sources.source[2].time_slice.current.profiles_1d\n",
    "fig = sp_view.plot(\n",
    "    source_1d.grid.rho_tor_norm,\n",
    "    [(source_1d.electrons.particles, r\"$S_{e}$\")] + [(ion.particles, rf\"$S_{{{ion.label}}}$\") for ion in source_1d.ion],\n",
    "    [(source_1d.electrons.energy, r\"$Q_{e}$\")],\n",
    "    [(ion.energy, rf\"$Q_{{{ion.label}}}$\") for ion in source_1d.ion],\n",
    "    x_label=r\"$\\bar{\\rho}$ [-]\",\n",
    "    fontsize=12,\n",
    ")"
   ]
  },
  {
   "cell_type": "code",
   "execution_count": null,
   "metadata": {},
   "outputs": [],
   "source": [
    "fig = sp_view.plot(\n",
    "    solver_1d.grid.rho_tor_norm,\n",
    "    *sum(\n",
    "        [\n",
    "            [\n",
    "                # (solver_1d.Y0[2 * idx], f\"d({equ.identifier})/dr\"),\n",
    "                # (solver_1d.Y0[2 * idx + 1], f\"d({equ.identifier}_flux)/dr\"),\n",
    "                (equ.d_dr, f\"d({equ.identifier})/dr\"),\n",
    "                (equ.dflux_dr, f\"d({equ.identifier}_flux)/dr\"),\n",
    "            ]\n",
    "            for idx, equ in enumerate(solver_1d.equations)\n",
    "        ],\n",
    "        [],\n",
    "    ),\n",
    ")"
   ]
  },
  {
   "cell_type": "code",
   "execution_count": null,
   "metadata": {},
   "outputs": [],
   "source": [
    "trans_1d = tokamak.core_transport.model[0].time_slice.current.profiles_1d\n",
    "fig = sp_view.plot(\n",
    "    trans_1d.grid_d.rho_tor_norm,\n",
    "    (\n",
    "        [\n",
    "            (trans_1d.ion[0].particles.d, trans_1d.ion[0].label),\n",
    "            (trans_1d.ion[2].particles.d, trans_1d.ion[2].label),\n",
    "        ],\n",
    "        {\"y_label\": \"D\"},\n",
    "    ),\n",
    "    (\n",
    "        [\n",
    "            (trans_1d.ion[0].particles.v, trans_1d.ion[0].label),\n",
    "            (trans_1d.ion[2].particles.v, trans_1d.ion[2].label),\n",
    "        ],\n",
    "        {\"y_label\": \"v\"},\n",
    "    ),\n",
    ")"
   ]
  },
  {
   "cell_type": "code",
   "execution_count": null,
   "metadata": {},
   "outputs": [],
   "source": [
    "source_1d = tokamak.core_sources.source[0].time_slice.current.profiles_1d\n",
    "fig = sp_view.plot(\n",
    "    source_1d.grid.rho_tor_norm,\n",
    "    (\n",
    "        [\n",
    "            (source_1d.ion[0].particles, source_1d.ion[0].label),\n",
    "            (source_1d.ion[2].particles, source_1d.ion[2].label),\n",
    "        ],\n",
    "        {\"y_label\": \"Particles\"},\n",
    "    ),\n",
    "    (\n",
    "        [\n",
    "            (source_1d.ion[0].energy, source_1d.ion[0].label),\n",
    "            (source_1d.ion[2].energy, source_1d.ion[2].label),\n",
    "        ],\n",
    "        {\"y_label\": \"Energy\"},\n",
    "    ),\n",
    ")"
   ]
  }
 ],
 "metadata": {
  "kernelspec": {
   "display_name": "Python 3",
   "language": "python",
   "name": "python3"
  },
  "language_info": {
   "codemirror_mode": {
    "name": "ipython",
    "version": 3
   },
   "file_extension": ".py",
   "mimetype": "text/x-python",
   "name": "python",
   "nbconvert_exporter": "python",
   "pygments_lexer": "ipython3",
   "version": "3.10.12"
  }
 },
 "nbformat": 4,
 "nbformat_minor": 2
}
