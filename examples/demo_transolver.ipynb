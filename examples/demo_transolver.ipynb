{
 "cells": [
  {
   "cell_type": "code",
   "execution_count": 1,
   "metadata": {},
   "outputs": [
    {
     "name": "stdout",
     "output_type": "stream",
     "text": [
      "\u001b[0;34m2024-01-18 16:50:48,916 [    spdm]     INFO: \n",
      "###################################################################################################\n",
      "\n",
      "    ______      _____     _\n",
      "   / ____/_  __|_   _|__ | | __\n",
      "  / /_  / / / /  | |/ _ \\| |/ /\n",
      " / __/ / /_/ /   | | (_) |   <\n",
      "/_/    \\__, /    |_|\\___/|_|\\_\\\n",
      "      /____/\n",
      "\n",
      " Copyright (c) 2021-present Zhi YU (Institute of Plasma Physics Chinese Academy of Sciences)\n",
      "            \n",
      " url: https://gitee.com/openfusion/fytok_tutorial \n",
      "      https://github.com/fusion-yun/fytok_tutorial\n",
      "\n",
      " version = alpha  (spdm=beta extension=0.2.2.dev19+g14adade.d20231205, imas_version=v3_38_1_dirty)\n",
      "\n",
      " Run by salmon at 2024-01-18T16:50:48.604590.\n",
      " Job ID: fytok_salmon_surface_23266\n",
      "\n",
      "###################################################################################################\n",
      "\u001b[0m\n"
     ]
    }
   ],
   "source": [
    "import pathlib\n",
    "import scipy.constants\n",
    "import numpy as np\n",
    "import pandas as pd\n",
    "import matplotlib.pyplot as plt\n",
    "from fytok.Tokamak import Tokamak\n",
    "from fytok.modules.CoreProfiles import CoreProfiles\n",
    "from fytok.modules.Equilibrium import Equilibrium\n",
    "from spdm.view import View as sp_view\n",
    "from spdm.data.Path import Path\n",
    "from spdm.data.Function import Function\n",
    "\n",
    "data_path = pathlib.Path(\"/home/salmon/workspace/fytok_data/data/15MA inductive - burn\")\n",
    "\n",
    "astra_profiles = pd.read_excel(\n",
    "    next(data_path.glob(\"*ASTRA.xls\")).absolute().as_posix(), sheet_name=1, header=10, usecols=\"B:BN\"\n",
    ")"
   ]
  },
  {
   "cell_type": "code",
   "execution_count": 2,
   "metadata": {},
   "outputs": [
    {
     "name": "stdout",
     "output_type": "stream",
     "text": [
      "\u001b[0;34m2024-01-18 16:50:49,550 [    spdm]     INFO: Load module spdm.plugins.data.plugin_iterprofiles\u001b[0m\n",
      "\u001b[0;34m2024-01-18 16:50:49,760 [    spdm]     INFO: Initialize module fytok.modules.CoreProfiles \u001b[0m\n",
      "\u001b[0;34m2024-01-18 16:50:49,926 [    spdm]     INFO: Load module fytok.plugins.equilibrium.fy_eq\u001b[0m\n",
      "\u001b[0;34m2024-01-18 16:50:49,932 [    spdm]     INFO: Load module spdm.plugins.data.plugin_geqdsk\u001b[0m\n",
      "\u001b[0;34m2024-01-18 16:50:49,975 [    spdm]     INFO: Initialize module fytok.plugins.equilibrium.FyEqAnalyze \u001b[0m\n"
     ]
    }
   ],
   "source": [
    "core_profiles_astra = CoreProfiles(\n",
    "    f\"file+iterprofiles://{next(data_path.glob('*ASTRA.xls')).absolute().as_posix()}#core_profiles\"\n",
    ")\n",
    "\n",
    "core_profiles_1d_astra = core_profiles_astra.time_slice.current.profiles_1d\n",
    "\n",
    "equilibrium_astra = Equilibrium(f\"file+geqdsk://{next(data_path.glob('**/g*.txt')).absolute().as_posix()}#equilibrium\")"
   ]
  },
  {
   "cell_type": "code",
   "execution_count": 3,
   "metadata": {},
   "outputs": [
    {
     "name": "stdout",
     "output_type": "stream",
     "text": [
      "\u001b[0;34m2024-01-18 16:50:50,039 [    spdm]     INFO: Load module spdm.plugins.data.plugin_xml\u001b[0m\n"
     ]
    }
   ],
   "source": [
    "tokamak = Tokamak(\n",
    "    device=\"iter\",\n",
    "    shot=900003,\n",
    "    equilibrium=f\"file+geqdsk://{next(data_path.glob('**/g*.txt')).absolute().as_posix()}#equilibrium\",\n",
    "    core_transport={\n",
    "        \"model\": [\n",
    "            {\"code\": {\"name\": \"predefined\"}},\n",
    "            {\"code\": {\"name\": \"fast_alpha\"}},\n",
    "        ]\n",
    "    },\n",
    "    core_sources={\n",
    "        \"source\": [\n",
    "            f\"file+iterprofiles://{next(data_path.glob('*ASTRA.xls')).absolute().as_posix()}#core_sources/source/0\",\n",
    "            {\"code\": {\"name\": \"collisional_equipartition\", \"ii_collision\": True}},\n",
    "            {\"code\": {\"name\": \"fusion\", \"parameters\": {\"fusion_reactions\": [\"D(t,n)alpha\"]}}},\n",
    "            # {\"code\": {\"name\": \"radiation\"}},\n",
    "            # {\"code\": {\"name\": \"synchrotron_radiation\"}},\n",
    "        ]\n",
    "    },\n",
    "    transport_solver={\n",
    "        \"code\": {\n",
    "            \"name\": \"fy_trans\",\n",
    "            \"parameters\": {\n",
    "                \"rho_tor_norm\": np.linspace(0.01, 1.0, 128),\n",
    "                \"hyper_diff\": 1.0e-5,\n",
    "                \"max_nodes\": 512,\n",
    "                \"bc_tol\": 1,\n",
    "                \"verbose\": 2,\n",
    "                \"units\": {\n",
    "                    \"psi\": 10,\n",
    "                    \"psi_flux\": 10,\n",
    "                    \"*/density\": 1.0e21,\n",
    "                    \"*/density_flux\": 1.0e24,\n",
    "                    \"ion/alpha/density\": 1.0e18,\n",
    "                    \"ion/alpha/density_flux\": 1.0e21,\n",
    "                    \"*/temperature\": 1.0e6,\n",
    "                    \"*/temperature_flux\": 1.0e27,\n",
    "                },\n",
    "            },\n",
    "        },\n",
    "        \"ion_thermal\": [\"D\", \"T\"],  #\n",
    "        \"ion_non_thermal\": [\"alpha\", \"He\"],\n",
    "        # \"impurities\": [\"Ar\", \"Be\"],\n",
    "        \"boundary_condition_type\": {\n",
    "            # fmt: off\n",
    "            # psi                          at axis \\frac{d\\psi}{dx}=0  , at boundary \\psi=?\n",
    "            \"psi\"                       : 1, \n",
    "            \"psi_norm\"                  : 1, \n",
    "            # density                      at axis \\Gamma_s=0          , at boundary n=?\n",
    "            \"*/density\"                 : 1, \n",
    "            # temperatur                   at axis \\frac{dT}{dx}=0     , at boundary T=?\n",
    "            \"*/temperature\"             : 1,\n",
    "            # fmt: on\n",
    "        },\n",
    "    },\n",
    ")"
   ]
  },
  {
   "cell_type": "code",
   "execution_count": 4,
   "metadata": {},
   "outputs": [
    {
     "name": "stdout",
     "output_type": "stream",
     "text": [
      "\u001b[0;34m2024-01-18 16:50:50,080 [    spdm]     INFO: Initialize module fytok.modules.CoreProfiles \u001b[0m\n",
      "\u001b[0;34m2024-01-18 16:50:50,139 [    spdm]     INFO: Initialize module fytok.plugins.equilibrium.FyEqAnalyze \u001b[0m\n",
      "\u001b[0;34m2024-01-18 16:50:50,156 [    spdm]     INFO: Initialize module fytok.modules.Wall \u001b[0m\n",
      "\u001b[0;34m2024-01-18 16:50:50,168 [    spdm]     INFO: Initialize module fytok.modules.TF \u001b[0m\n",
      "\u001b[0;34m2024-01-18 16:50:50,176 [    spdm]     INFO: Initialize module fytok.modules.Magnetics \u001b[0m\n",
      "\u001b[0;34m2024-01-18 16:50:50,185 [    spdm]     INFO: Initialize module fytok.modules.PFActive \u001b[0m\n",
      "\u001b[0;34m2024-01-18 16:50:50,202 [    spdm]     INFO: Initialize module fytok.modules.CoreSources \u001b[0m\n",
      "\u001b[0;34m2024-01-18 16:50:50,382 [    spdm]     INFO: Initialize module fytok.plugins.core_sources.source.dummy \u001b[0m\n",
      "\u001b[0;34m2024-01-18 16:50:50,416 [    spdm]     INFO: Load module fytok.plugins.core_sources.source.collisional_equipartition\u001b[0m\n",
      "\u001b[0;34m2024-01-18 16:50:50,420 [    spdm]     INFO: Initialize module fytok.plugins.core_sources.source.collisional_equipartition \u001b[0m\n",
      "\u001b[0;34m2024-01-18 16:50:50,440 [    spdm]     INFO: Load module fytok.plugins.core_sources.source.fusion\u001b[0m\n",
      "\u001b[0;34m2024-01-18 16:50:50,449 [    spdm]     INFO: Initialize module fytok.plugins.core_sources.source.fusion \u001b[0m\n",
      "\u001b[0;34m2024-01-18 16:50:50,470 [    spdm]     INFO: Initialize module fytok.modules.CoreTransport \u001b[0m\n",
      "\u001b[0;34m2024-01-18 16:50:50,497 [    spdm]     INFO: Load module fytok.plugins.core_transport.model.predefined\u001b[0m\n",
      "\u001b[0;34m2024-01-18 16:50:50,508 [    spdm]     INFO: Initialize module fytok.plugins.core_transport.model.predefined \u001b[0m\n",
      "\u001b[0;34m2024-01-18 16:50:50,536 [    spdm]     INFO: Load module fytok.plugins.core_transport.model.fast_alpha\u001b[0m\n",
      "\u001b[0;34m2024-01-18 16:50:50,544 [    spdm]     INFO: Initialize module fytok.plugins.core_transport.model.fast_alpha \u001b[0m\n",
      "\u001b[0;34m2024-01-18 16:50:50,587 [    spdm]     INFO: Load module fytok.plugins.transport_solver_numerics.fy_trans\u001b[0m\n",
      "\u001b[0;34m2024-01-18 16:50:50,596 [    spdm]     INFO: Initialize module fytok.plugins.transport_solver_numerics.fy_trans \u001b[0m\n"
     ]
    }
   ],
   "source": [
    "tokamak.initialize()"
   ]
  },
  {
   "cell_type": "code",
   "execution_count": 5,
   "metadata": {},
   "outputs": [
    {
     "name": "stdout",
     "output_type": "stream",
     "text": [
      "\u001b[0;34m2024-01-18 16:50:50,745 [    spdm]     INFO: Load module spdm.view.view_matplotlib\u001b[0m\n",
      "\u001b[0;34m2024-01-18 16:50:50,836 [    spdm]     INFO: Load module spdm.mesh.mesh_rectangular\u001b[0m\n",
      "\u001b[0;37m2024-01-18 16:50:50,847 [    spdm]    DEBUG: /home/salmon/workspace/fytok/python/fytok/plugins/equilibrium/fy_eq/fy_eq.py:94:__init__: Create FyEquilibriumCoordinateSystem <FyEquilibriumCoordinateSystem name='Tokamak.equilibrium.FyEquilibriumTimeSlice.coordinate_system' />\u001b[0m\n",
      "\u001b[0;33m2024-01-18 16:50:50,974 [    spdm]  WARNING: /home/salmon/workspace/fytok/python/fytok/plugins/equilibrium/fy_eq/fy_eq.py:132:__init__: Singular values are caused when psi_norm takes values of 0.0 or 1.0.! 0.0 1.0\u001b[0m\n"
     ]
    },
    {
     "data": {
      "image/png": "[encoded data removed]",
      "text/plain": [
       "<Figure size 640x480 with 1 Axes>"
      ]
     },
     "metadata": {},
     "output_type": "display_data"
    }
   ],
   "source": [
    "fig = sp_view.display(tokamak.equilibrium, format=\"svg\")"
   ]
  },
  {
   "cell_type": "code",
   "execution_count": 6,
   "metadata": {},
   "outputs": [
    {
     "data": {
      "text/plain": [
       "Tokamak.equilibrium.FyEquilibriumTimeSlice.profiles_1d.CoreRadialGrid"
      ]
     },
     "execution_count": 6,
     "metadata": {},
     "output_type": "execute_result"
    }
   ],
   "source": [
    "tokamak.equilibrium.time_slice.current.profiles_1d.grid"
   ]
  },
  {
   "cell_type": "code",
   "execution_count": 7,
   "metadata": {},
   "outputs": [
    {
     "name": "stdout",
     "output_type": "stream",
     "text": [
      "\u001b[0;34m2024-01-18 16:50:54,031 [    spdm]     INFO: Execute module fytok.plugins.equilibrium.FyEqAnalyze\u001b[0m\n",
      "\u001b[0;34m2024-01-18 16:50:54,049 [    spdm]     INFO: Execute module fytok.modules.CoreProfiles\u001b[0m\n",
      "\u001b[0;34m2024-01-18 16:50:54,051 [    spdm]     INFO: Execute module fytok.modules.CoreSources\u001b[0m\n",
      "\u001b[0;34m2024-01-18 16:50:54,058 [    spdm]     INFO: Execute module fytok.plugins.core_sources.source.dummy\u001b[0m\n",
      "\u001b[0;34m2024-01-18 16:50:54,068 [    spdm]     INFO: Execute module fytok.plugins.core_sources.source.collisional_equipartition\u001b[0m\n",
      "\u001b[0;34m2024-01-18 16:50:54,073 [    spdm]     INFO: Execute module fytok.plugins.core_sources.source.fusion\u001b[0m\n",
      "\u001b[0;34m2024-01-18 16:50:54,076 [    spdm]     INFO: Execute module fytok.modules.CoreTransport\u001b[0m\n",
      "\u001b[0;34m2024-01-18 16:50:54,082 [    spdm]     INFO: Execute module fytok.plugins.core_transport.model.predefined\u001b[0m\n",
      "\u001b[0;34m2024-01-18 16:50:54,090 [    spdm]     INFO: Execute module fytok.plugins.core_transport.model.fast_alpha\u001b[0m\n"
     ]
    }
   ],
   "source": [
    "tokamak.equilibrium.refresh()\n",
    "tokamak.core_profiles.refresh()\n",
    "tokamak.core_sources.refresh()\n",
    "tokamak.core_transport.refresh()"
   ]
  },
  {
   "cell_type": "code",
   "execution_count": 8,
   "metadata": {},
   "outputs": [],
   "source": [
    "solver = tokamak.transport_solver"
   ]
  },
  {
   "cell_type": "code",
   "execution_count": 9,
   "metadata": {},
   "outputs": [
    {
     "data": {
      "text/plain": [
       "{'name': 'electrons/temperature', 'label': 'T_{e}', 'units': 'eV'}"
      ]
     },
     "execution_count": 9,
     "metadata": {},
     "output_type": "execute_result"
    }
   ],
   "source": [
    "solver.profiles_1d.electrons.temperature._metadata"
   ]
  },
  {
   "cell_type": "code",
   "execution_count": 10,
   "metadata": {},
   "outputs": [
    {
     "ename": "RuntimeError",
     "evalue": "Failure to calculate  child Expression !",
     "output_type": "error",
     "traceback": [
      "\u001b[0;31m---------------------------------------------------------------------------\u001b[0m",
      "\u001b[0;31mRuntimeError\u001b[0m                              Traceback (most recent call last)",
      "File \u001b[0;32m~/workspace/fytok/SpDM/python/spdm/data/Expression.py:291\u001b[0m, in \u001b[0;36mExpression._eval_children\u001b[0;34m(self, *args, **kwargs)\u001b[0m\n\u001b[1;32m    290\u001b[0m \u001b[38;5;28;01mif\u001b[39;00m \u001b[38;5;28mcallable\u001b[39m(child) \u001b[38;5;129;01mand\u001b[39;00m \u001b[38;5;28mlen\u001b[39m(args) \u001b[38;5;241m+\u001b[39m \u001b[38;5;28mlen\u001b[39m(kwargs) \u001b[38;5;241m>\u001b[39m \u001b[38;5;241m0\u001b[39m:\n\u001b[0;32m--> 291\u001b[0m     value \u001b[38;5;241m=\u001b[39m \u001b[43mchild\u001b[49m\u001b[43m(\u001b[49m\u001b[38;5;241;43m*\u001b[39;49m\u001b[43margs\u001b[49m\u001b[43m,\u001b[49m\u001b[43m \u001b[49m\u001b[38;5;241;43m*\u001b[39;49m\u001b[38;5;241;43m*\u001b[39;49m\u001b[43mkwargs\u001b[49m\u001b[43m)\u001b[49m\n\u001b[1;32m    292\u001b[0m \u001b[38;5;28;01melse\u001b[39;00m:\n",
      "File \u001b[0;32m~/workspace/fytok/SpDM/python/spdm/data/Expression.py:281\u001b[0m, in \u001b[0;36mExpression.__call__\u001b[0;34m(self, *args, **kwargs)\u001b[0m\n\u001b[1;32m    280\u001b[0m \u001b[38;5;28;01melif\u001b[39;00m \u001b[38;5;28mlen\u001b[39m(\u001b[38;5;28mself\u001b[39m\u001b[38;5;241m.\u001b[39m_children) \u001b[38;5;241m>\u001b[39m \u001b[38;5;241m0\u001b[39m:\n\u001b[0;32m--> 281\u001b[0m     \u001b[38;5;28;01mreturn\u001b[39;00m \u001b[38;5;28;43mself\u001b[39;49m\u001b[38;5;241;43m.\u001b[39;49m\u001b[43m__eval__\u001b[49m\u001b[43m(\u001b[49m\u001b[38;5;241;43m*\u001b[39;49m\u001b[38;5;28;43mself\u001b[39;49m\u001b[38;5;241;43m.\u001b[39;49m\u001b[43m_eval_children\u001b[49m\u001b[43m(\u001b[49m\u001b[38;5;241;43m*\u001b[39;49m\u001b[43margs\u001b[49m\u001b[43m,\u001b[49m\u001b[43m \u001b[49m\u001b[38;5;241;43m*\u001b[39;49m\u001b[38;5;241;43m*\u001b[39;49m\u001b[43mkwargs\u001b[49m\u001b[43m)\u001b[49m\u001b[43m)\u001b[49m\n\u001b[1;32m    283\u001b[0m \u001b[38;5;28;01melse\u001b[39;00m:\n",
      "File \u001b[0;32m~/workspace/fytok/SpDM/python/spdm/data/Expression.py:244\u001b[0m, in \u001b[0;36mExpression.__eval__\u001b[0;34m(self, *args, **kwargs)\u001b[0m\n\u001b[1;32m    243\u001b[0m \u001b[38;5;28;01mtry\u001b[39;00m:\n\u001b[0;32m--> 244\u001b[0m     res \u001b[38;5;241m=\u001b[39m \u001b[38;5;28;43mself\u001b[39;49m\u001b[38;5;241;43m.\u001b[39;49m\u001b[43m_op\u001b[49m\u001b[43m(\u001b[49m\u001b[38;5;241;43m*\u001b[39;49m\u001b[43margs\u001b[49m\u001b[43m,\u001b[49m\u001b[43m \u001b[49m\u001b[38;5;241;43m*\u001b[39;49m\u001b[38;5;241;43m*\u001b[39;49m\u001b[43mkwargs\u001b[49m\u001b[43m)\u001b[49m\n\u001b[1;32m    245\u001b[0m \u001b[38;5;28;01mexcept\u001b[39;00m \u001b[38;5;167;01mRuntimeWarning\u001b[39;00m:\n",
      "File \u001b[0;32m~/workspace/fytok/SpDM/python/spdm/data/Expression.py:284\u001b[0m, in \u001b[0;36mExpression.__call__\u001b[0;34m(self, *args, **kwargs)\u001b[0m\n\u001b[1;32m    283\u001b[0m \u001b[38;5;28;01melse\u001b[39;00m:\n\u001b[0;32m--> 284\u001b[0m     \u001b[38;5;28;01mreturn\u001b[39;00m \u001b[38;5;28;43mself\u001b[39;49m\u001b[38;5;241;43m.\u001b[39;49m\u001b[43m__eval__\u001b[49m\u001b[43m(\u001b[49m\u001b[38;5;241;43m*\u001b[39;49m\u001b[43margs\u001b[49m\u001b[43m,\u001b[49m\u001b[43m \u001b[49m\u001b[38;5;241;43m*\u001b[39;49m\u001b[38;5;241;43m*\u001b[39;49m\u001b[43mkwargs\u001b[49m\u001b[43m)\u001b[49m\n",
      "File \u001b[0;32m~/workspace/fytok/SpDM/python/spdm/data/Expression.py:700\u001b[0m, in \u001b[0;36mDerivative.__eval__\u001b[0;34m(self, *args, **kwargs)\u001b[0m\n\u001b[1;32m    699\u001b[0m \u001b[38;5;28;01mif\u001b[39;00m \u001b[38;5;28misinstance\u001b[39m(\u001b[38;5;28mself\u001b[39m\u001b[38;5;241m.\u001b[39m_expr, Variable):\n\u001b[0;32m--> 700\u001b[0m     y \u001b[38;5;241m=\u001b[39m \u001b[38;5;28;43mself\u001b[39;49m\u001b[38;5;241;43m.\u001b[39;49m\u001b[43m_expr\u001b[49m\u001b[43m(\u001b[49m\u001b[38;5;241;43m*\u001b[39;49m\u001b[43margs\u001b[49m\u001b[43m)\u001b[49m\n\u001b[1;32m    701\u001b[0m     x \u001b[38;5;241m=\u001b[39m args[\u001b[38;5;241m0\u001b[39m]\n",
      "File \u001b[0;32m~/workspace/fytok/SpDM/python/spdm/data/Expression.py:502\u001b[0m, in \u001b[0;36mVariable.__call__\u001b[0;34m(self, *args, **kwargs)\u001b[0m\n\u001b[1;32m    501\u001b[0m \u001b[38;5;28;01melse\u001b[39;00m:\n\u001b[0;32m--> 502\u001b[0m     \u001b[38;5;28;01mraise\u001b[39;00m \u001b[38;5;167;01mRuntimeError\u001b[39;00m(\n\u001b[1;32m    503\u001b[0m         \u001b[38;5;124mf\u001b[39m\u001b[38;5;124m\"\u001b[39m\u001b[38;5;124mVariable \u001b[39m\u001b[38;5;132;01m{\u001b[39;00m\u001b[38;5;28mself\u001b[39m\u001b[38;5;241m.\u001b[39m__label__\u001b[38;5;132;01m}\u001b[39;00m\u001b[38;5;124m require \u001b[39m\u001b[38;5;132;01m{\u001b[39;00m\u001b[38;5;28mself\u001b[39m\u001b[38;5;241m.\u001b[39m_idx\u001b[38;5;241m+\u001b[39m\u001b[38;5;241m1\u001b[39m\u001b[38;5;132;01m}\u001b[39;00m\u001b[38;5;124m args, or \u001b[39m\u001b[38;5;132;01m{\u001b[39;00m\u001b[38;5;28mself\u001b[39m\u001b[38;5;241m.\u001b[39m\u001b[38;5;18m__name__\u001b[39m\u001b[38;5;132;01m}\u001b[39;00m\u001b[38;5;124m in kwargs but only \u001b[39m\u001b[38;5;132;01m{\u001b[39;00margs\u001b[38;5;132;01m}\u001b[39;00m\u001b[38;5;124m provided!\u001b[39m\u001b[38;5;124m\"\u001b[39m\n\u001b[1;32m    504\u001b[0m     )\n\u001b[1;32m    506\u001b[0m \u001b[38;5;28;01mreturn\u001b[39;00m res\n",
      "\u001b[0;31mRuntimeError\u001b[0m: Variable T_{e} require 4 args, or electrons/temperature in kwargs but only (array([0.057877  , 0.09355275, 0.11806077, 0.13851817, 0.15629915,\n       0.17228684, 0.18692393, 0.20050406, 0.21322404, 0.22522472,\n       0.23661148, 0.24746663, 0.25785557, 0.26783021, 0.27743427,\n       0.28670504, 0.29567369, 0.30436784, 0.3128111 , 0.32102372,\n       0.3290241 , 0.33682842, 0.34445098, 0.35190475, 0.35920158,\n       0.36635221, 0.37336649, 0.38025352, 0.3870217 , 0.39367876,\n       0.40023196, 0.40668803, 0.4130534 , 0.41933417, 0.42553597,\n       0.43166397, 0.4377231 , 0.44371802, 0.44965306, 0.45553241,\n       0.46135999, 0.46713954, 0.47287464, 0.47856861, 0.48422467,\n       0.48984583, 0.49543501, 0.50099501, 0.50652842, 0.51203776,\n       0.51752536, 0.52299348, 0.52844428, 0.53387974, 0.53930176,\n       0.5447122 , 0.55011282, 0.55550536, 0.56089148, 0.56627275,\n       0.57165075, 0.57702697, 0.58240287, 0.58777989, 0.59315941,\n       0.59854278, 0.60393137, 0.60932645, 0.61472931, 0.62014121,\n       0.62556332, 0.63099683, 0.63644289, 0.64190266, 0.64737738,\n       0.65286817, 0.65837618, 0.66390244, 0.66944785, 0.67501335,\n       0.68059987, 0.68620844, 0.69184032, 0.69749684, 0.70317946,\n       0.70888962, 0.71462872, 0.72039822, 0.72619959, 0.73203431,\n       0.73790389, 0.74380984, 0.74975369, 0.75573712, 0.76176182,\n       0.76782962, 0.77394237, 0.78010189, 0.78631008, 0.79256882,\n       0.7988801 , 0.80524623, 0.81166975, 0.81815337, 0.82470012,\n       0.83131312, 0.83799568, 0.84475141, 0.85158421, 0.85849849,\n       0.86549889, 0.87259046, 0.879779  , 0.88707085, 0.89447341,\n       0.90199541, 0.90964717, 0.91744105, 0.92539231, 0.93352052,\n       0.94185394, 0.95043144, 0.95931029, 0.96847409, 0.97771612,\n       0.98701594, 0.99642589]),) provided!",
      "\nThe above exception was the direct cause of the following exception:\n",
      "\u001b[0;31mRuntimeError\u001b[0m                              Traceback (most recent call last)",
      "File \u001b[0;32m~/workspace/fytok/SpDM/python/spdm/data/Expression.py:291\u001b[0m, in \u001b[0;36mExpression._eval_children\u001b[0;34m(self, *args, **kwargs)\u001b[0m\n\u001b[1;32m    290\u001b[0m \u001b[38;5;28;01mif\u001b[39;00m \u001b[38;5;28mcallable\u001b[39m(child) \u001b[38;5;129;01mand\u001b[39;00m \u001b[38;5;28mlen\u001b[39m(args) \u001b[38;5;241m+\u001b[39m \u001b[38;5;28mlen\u001b[39m(kwargs) \u001b[38;5;241m>\u001b[39m \u001b[38;5;241m0\u001b[39m:\n\u001b[0;32m--> 291\u001b[0m     value \u001b[38;5;241m=\u001b[39m \u001b[43mchild\u001b[49m\u001b[43m(\u001b[49m\u001b[38;5;241;43m*\u001b[39;49m\u001b[43margs\u001b[49m\u001b[43m,\u001b[49m\u001b[43m \u001b[49m\u001b[38;5;241;43m*\u001b[39;49m\u001b[38;5;241;43m*\u001b[39;49m\u001b[43mkwargs\u001b[49m\u001b[43m)\u001b[49m\n\u001b[1;32m    292\u001b[0m \u001b[38;5;28;01melse\u001b[39;00m:\n",
      "File \u001b[0;32m~/workspace/fytok/SpDM/python/spdm/data/Expression.py:281\u001b[0m, in \u001b[0;36mExpression.__call__\u001b[0;34m(self, *args, **kwargs)\u001b[0m\n\u001b[1;32m    280\u001b[0m \u001b[38;5;28;01melif\u001b[39;00m \u001b[38;5;28mlen\u001b[39m(\u001b[38;5;28mself\u001b[39m\u001b[38;5;241m.\u001b[39m_children) \u001b[38;5;241m>\u001b[39m \u001b[38;5;241m0\u001b[39m:\n\u001b[0;32m--> 281\u001b[0m     \u001b[38;5;28;01mreturn\u001b[39;00m \u001b[38;5;28mself\u001b[39m\u001b[38;5;241m.\u001b[39m__eval__(\u001b[38;5;241m*\u001b[39m\u001b[38;5;28;43mself\u001b[39;49m\u001b[38;5;241;43m.\u001b[39;49m\u001b[43m_eval_children\u001b[49m\u001b[43m(\u001b[49m\u001b[38;5;241;43m*\u001b[39;49m\u001b[43margs\u001b[49m\u001b[43m,\u001b[49m\u001b[43m \u001b[49m\u001b[38;5;241;43m*\u001b[39;49m\u001b[38;5;241;43m*\u001b[39;49m\u001b[43mkwargs\u001b[49m\u001b[43m)\u001b[49m)\n\u001b[1;32m    283\u001b[0m \u001b[38;5;28;01melse\u001b[39;00m:\n",
      "File \u001b[0;32m~/workspace/fytok/SpDM/python/spdm/data/Expression.py:296\u001b[0m, in \u001b[0;36mExpression._eval_children\u001b[0;34m(self, *args, **kwargs)\u001b[0m\n\u001b[1;32m    295\u001b[0m \u001b[38;5;28;01mexcept\u001b[39;00m \u001b[38;5;167;01mException\u001b[39;00m \u001b[38;5;28;01mas\u001b[39;00m error:\n\u001b[0;32m--> 296\u001b[0m     \u001b[38;5;28;01mraise\u001b[39;00m \u001b[38;5;167;01mRuntimeError\u001b[39;00m(\u001b[38;5;124mf\u001b[39m\u001b[38;5;124m\"\u001b[39m\u001b[38;5;124mFailure to calculate  child \u001b[39m\u001b[38;5;132;01m{\u001b[39;00mchild\u001b[38;5;132;01m}\u001b[39;00m\u001b[38;5;124m !\u001b[39m\u001b[38;5;124m\"\u001b[39m) \u001b[38;5;28;01mfrom\u001b[39;00m \u001b[38;5;21;01merror\u001b[39;00m\n\u001b[1;32m    297\u001b[0m \u001b[38;5;28;01melse\u001b[39;00m:\n",
      "\u001b[0;31mRuntimeError\u001b[0m: Failure to calculate  child Expression !",
      "\nThe above exception was the direct cause of the following exception:\n",
      "\u001b[0;31mRuntimeError\u001b[0m                              Traceback (most recent call last)",
      "File \u001b[0;32m~/workspace/fytok/SpDM/python/spdm/data/Expression.py:291\u001b[0m, in \u001b[0;36mExpression._eval_children\u001b[0;34m(self, *args, **kwargs)\u001b[0m\n\u001b[1;32m    290\u001b[0m \u001b[38;5;28;01mif\u001b[39;00m \u001b[38;5;28mcallable\u001b[39m(child) \u001b[38;5;129;01mand\u001b[39;00m \u001b[38;5;28mlen\u001b[39m(args) \u001b[38;5;241m+\u001b[39m \u001b[38;5;28mlen\u001b[39m(kwargs) \u001b[38;5;241m>\u001b[39m \u001b[38;5;241m0\u001b[39m:\n\u001b[0;32m--> 291\u001b[0m     value \u001b[38;5;241m=\u001b[39m \u001b[43mchild\u001b[49m\u001b[43m(\u001b[49m\u001b[38;5;241;43m*\u001b[39;49m\u001b[43margs\u001b[49m\u001b[43m,\u001b[49m\u001b[43m \u001b[49m\u001b[38;5;241;43m*\u001b[39;49m\u001b[38;5;241;43m*\u001b[39;49m\u001b[43mkwargs\u001b[49m\u001b[43m)\u001b[49m\n\u001b[1;32m    292\u001b[0m \u001b[38;5;28;01melse\u001b[39;00m:\n",
      "File \u001b[0;32m~/workspace/fytok/SpDM/python/spdm/data/Expression.py:281\u001b[0m, in \u001b[0;36mExpression.__call__\u001b[0;34m(self, *args, **kwargs)\u001b[0m\n\u001b[1;32m    280\u001b[0m \u001b[38;5;28;01melif\u001b[39;00m \u001b[38;5;28mlen\u001b[39m(\u001b[38;5;28mself\u001b[39m\u001b[38;5;241m.\u001b[39m_children) \u001b[38;5;241m>\u001b[39m \u001b[38;5;241m0\u001b[39m:\n\u001b[0;32m--> 281\u001b[0m     \u001b[38;5;28;01mreturn\u001b[39;00m \u001b[38;5;28mself\u001b[39m\u001b[38;5;241m.\u001b[39m__eval__(\u001b[38;5;241m*\u001b[39m\u001b[38;5;28;43mself\u001b[39;49m\u001b[38;5;241;43m.\u001b[39;49m\u001b[43m_eval_children\u001b[49m\u001b[43m(\u001b[49m\u001b[38;5;241;43m*\u001b[39;49m\u001b[43margs\u001b[49m\u001b[43m,\u001b[49m\u001b[43m \u001b[49m\u001b[38;5;241;43m*\u001b[39;49m\u001b[38;5;241;43m*\u001b[39;49m\u001b[43mkwargs\u001b[49m\u001b[43m)\u001b[49m)\n\u001b[1;32m    283\u001b[0m \u001b[38;5;28;01melse\u001b[39;00m:\n",
      "File \u001b[0;32m~/workspace/fytok/SpDM/python/spdm/data/Expression.py:296\u001b[0m, in \u001b[0;36mExpression._eval_children\u001b[0;34m(self, *args, **kwargs)\u001b[0m\n\u001b[1;32m    295\u001b[0m \u001b[38;5;28;01mexcept\u001b[39;00m \u001b[38;5;167;01mException\u001b[39;00m \u001b[38;5;28;01mas\u001b[39;00m error:\n\u001b[0;32m--> 296\u001b[0m     \u001b[38;5;28;01mraise\u001b[39;00m \u001b[38;5;167;01mRuntimeError\u001b[39;00m(\u001b[38;5;124mf\u001b[39m\u001b[38;5;124m\"\u001b[39m\u001b[38;5;124mFailure to calculate  child \u001b[39m\u001b[38;5;132;01m{\u001b[39;00mchild\u001b[38;5;132;01m}\u001b[39;00m\u001b[38;5;124m !\u001b[39m\u001b[38;5;124m\"\u001b[39m) \u001b[38;5;28;01mfrom\u001b[39;00m \u001b[38;5;21;01merror\u001b[39;00m\n\u001b[1;32m    297\u001b[0m \u001b[38;5;28;01melse\u001b[39;00m:\n",
      "\u001b[0;31mRuntimeError\u001b[0m: Failure to calculate  child Expression !",
      "\nThe above exception was the direct cause of the following exception:\n",
      "\u001b[0;31mRuntimeError\u001b[0m                              Traceback (most recent call last)",
      "Cell \u001b[0;32mIn[10], line 4\u001b[0m\n\u001b[1;32m      2\u001b[0m rho_tor_norm \u001b[38;5;241m=\u001b[39m eq_grid\u001b[38;5;241m.\u001b[39mrho_tor_norm[\u001b[38;5;241m1\u001b[39m:\u001b[38;5;241m-\u001b[39m\u001b[38;5;241m1\u001b[39m]\n\u001b[1;32m      3\u001b[0m psi_norm \u001b[38;5;241m=\u001b[39m eq_grid\u001b[38;5;241m.\u001b[39mpsi_norm[\u001b[38;5;241m1\u001b[39m:\u001b[38;5;241m-\u001b[39m\u001b[38;5;241m1\u001b[39m]\n\u001b[0;32m----> 4\u001b[0m solver_1d \u001b[38;5;241m=\u001b[39m \u001b[43msolver\u001b[49m\u001b[38;5;241;43m.\u001b[39;49m\u001b[43mpreprocess\u001b[49m\u001b[43m(\u001b[49m\n\u001b[1;32m      5\u001b[0m \u001b[43m    \u001b[49m\u001b[43mtime\u001b[49m\u001b[38;5;241;43m=\u001b[39;49m\u001b[38;5;241;43m0.0\u001b[39;49m\u001b[43m,\u001b[49m\n\u001b[1;32m      6\u001b[0m \u001b[43m    \u001b[49m\u001b[43mrho_tor_norm\u001b[49m\u001b[38;5;241;43m=\u001b[39;49m\u001b[43mrho_tor_norm\u001b[49m\u001b[43m,\u001b[49m\n\u001b[1;32m      7\u001b[0m \u001b[43m    \u001b[49m\u001b[38;5;66;43;03m# fmt:off\u001b[39;49;00m\n\u001b[1;32m      8\u001b[0m \u001b[43m    \u001b[49m\u001b[43minitial_value\u001b[49m\u001b[38;5;241;43m=\u001b[39;49m\u001b[43m{\u001b[49m\n\u001b[1;32m      9\u001b[0m \u001b[43m        \u001b[49m\u001b[38;5;124;43m\"\u001b[39;49m\u001b[38;5;124;43mpsi\u001b[39;49m\u001b[38;5;124;43m\"\u001b[39;49m\u001b[43m:\u001b[49m\u001b[43m                              \u001b[49m\u001b[38;5;241;43m0.0\u001b[39;49m\u001b[43m,\u001b[49m\n\u001b[1;32m     10\u001b[0m \u001b[43m        \u001b[49m\u001b[38;5;124;43m\"\u001b[39;49m\u001b[38;5;124;43mpsi_norm\u001b[39;49m\u001b[38;5;124;43m\"\u001b[39;49m\u001b[43m:\u001b[49m\u001b[43m                         \u001b[49m\u001b[43mpsi_norm\u001b[49m\u001b[43m,\u001b[49m\n\u001b[1;32m     11\u001b[0m \u001b[43m        \u001b[49m\u001b[38;5;124;43m\"\u001b[39;49m\u001b[38;5;124;43mion/D/density\u001b[39;49m\u001b[38;5;124;43m\"\u001b[39;49m\u001b[43m:\u001b[49m\u001b[43m                    \u001b[49m\u001b[43mcore_profiles_1d_astra\u001b[49m\u001b[38;5;241;43m.\u001b[39;49m\u001b[43mion\u001b[49m\u001b[43m[\u001b[49m\u001b[38;5;124;43m\"\u001b[39;49m\u001b[38;5;124;43mD\u001b[39;49m\u001b[38;5;124;43m\"\u001b[39;49m\u001b[43m]\u001b[49m\u001b[38;5;241;43m.\u001b[39;49m\u001b[43mdensity\u001b[49m\u001b[43m(\u001b[49m\u001b[43mrho_tor_norm\u001b[49m\u001b[43m)\u001b[49m\u001b[43m \u001b[49m\u001b[43m,\u001b[49m\u001b[43m  \u001b[49m\u001b[38;5;66;43;03m# 1.0e19,\u001b[39;49;00m\n\u001b[1;32m     12\u001b[0m \u001b[43m        \u001b[49m\u001b[38;5;124;43m\"\u001b[39;49m\u001b[38;5;124;43mion/T/density\u001b[39;49m\u001b[38;5;124;43m\"\u001b[39;49m\u001b[43m:\u001b[49m\u001b[43m                    \u001b[49m\u001b[43mcore_profiles_1d_astra\u001b[49m\u001b[38;5;241;43m.\u001b[39;49m\u001b[43mion\u001b[49m\u001b[43m[\u001b[49m\u001b[38;5;124;43m\"\u001b[39;49m\u001b[38;5;124;43mT\u001b[39;49m\u001b[38;5;124;43m\"\u001b[39;49m\u001b[43m]\u001b[49m\u001b[38;5;241;43m.\u001b[39;49m\u001b[43mdensity\u001b[49m\u001b[43m(\u001b[49m\u001b[43mrho_tor_norm\u001b[49m\u001b[43m)\u001b[49m\u001b[43m \u001b[49m\u001b[43m,\u001b[49m\u001b[43m  \u001b[49m\u001b[38;5;66;43;03m# 1.0e19,#\u001b[39;49;00m\n\u001b[1;32m     13\u001b[0m \u001b[43m        \u001b[49m\u001b[38;5;124;43m\"\u001b[39;49m\u001b[38;5;124;43mion/He/density\u001b[39;49m\u001b[38;5;124;43m\"\u001b[39;49m\u001b[43m:\u001b[49m\u001b[43m                   \u001b[49m\u001b[43mcore_profiles_1d_astra\u001b[49m\u001b[38;5;241;43m.\u001b[39;49m\u001b[43mion\u001b[49m\u001b[43m[\u001b[49m\u001b[38;5;124;43m\"\u001b[39;49m\u001b[38;5;124;43mHe\u001b[39;49m\u001b[38;5;124;43m\"\u001b[39;49m\u001b[43m]\u001b[49m\u001b[38;5;241;43m.\u001b[39;49m\u001b[43mdensity\u001b[49m\u001b[43m(\u001b[49m\u001b[43mrho_tor_norm\u001b[49m\u001b[43m)\u001b[49m\u001b[43m \u001b[49m\u001b[43m,\u001b[49m\u001b[43m  \u001b[49m\u001b[38;5;66;43;03m#1.0e6,\u001b[39;49;00m\n\u001b[1;32m     14\u001b[0m \u001b[43m        \u001b[49m\u001b[38;5;124;43m\"\u001b[39;49m\u001b[38;5;124;43mion/alpha/density\u001b[39;49m\u001b[38;5;124;43m\"\u001b[39;49m\u001b[43m:\u001b[49m\u001b[43m                \u001b[49m\u001b[43mcore_profiles_1d_astra\u001b[49m\u001b[38;5;241;43m.\u001b[39;49m\u001b[43mion\u001b[49m\u001b[43m[\u001b[49m\u001b[38;5;124;43m\"\u001b[39;49m\u001b[38;5;124;43malpha\u001b[39;49m\u001b[38;5;124;43m\"\u001b[39;49m\u001b[43m]\u001b[49m\u001b[38;5;241;43m.\u001b[39;49m\u001b[43mdensity\u001b[49m\u001b[43m(\u001b[49m\u001b[43mrho_tor_norm\u001b[49m\u001b[43m)\u001b[49m\u001b[43m,\u001b[49m\u001b[43m \u001b[49m\u001b[38;5;66;43;03m#1.0e6,\u001b[39;49;00m\n\u001b[1;32m     15\u001b[0m \n\u001b[1;32m     16\u001b[0m \u001b[43m        \u001b[49m\u001b[38;5;124;43m\"\u001b[39;49m\u001b[38;5;124;43mion/D/temperature\u001b[39;49m\u001b[38;5;124;43m\"\u001b[39;49m\u001b[43m:\u001b[49m\u001b[43m                \u001b[49m\u001b[43mcore_profiles_1d_astra\u001b[49m\u001b[38;5;241;43m.\u001b[39;49m\u001b[43mion\u001b[49m\u001b[43m[\u001b[49m\u001b[38;5;124;43m\"\u001b[39;49m\u001b[38;5;124;43mD\u001b[39;49m\u001b[38;5;124;43m\"\u001b[39;49m\u001b[43m]\u001b[49m\u001b[38;5;241;43m.\u001b[39;49m\u001b[43mtemperature\u001b[49m\u001b[43m(\u001b[49m\u001b[43mrho_tor_norm\u001b[49m\u001b[43m)\u001b[49m\u001b[43m \u001b[49m\u001b[43m,\u001b[49m\u001b[43m \u001b[49m\u001b[38;5;66;43;03m# 2.0e3, #\u001b[39;49;00m\n\u001b[1;32m     17\u001b[0m \u001b[43m        \u001b[49m\u001b[38;5;124;43m\"\u001b[39;49m\u001b[38;5;124;43mion/T/temperature\u001b[39;49m\u001b[38;5;124;43m\"\u001b[39;49m\u001b[43m:\u001b[49m\u001b[43m                \u001b[49m\u001b[43mcore_profiles_1d_astra\u001b[49m\u001b[38;5;241;43m.\u001b[39;49m\u001b[43mion\u001b[49m\u001b[43m[\u001b[49m\u001b[38;5;124;43m\"\u001b[39;49m\u001b[38;5;124;43mT\u001b[39;49m\u001b[38;5;124;43m\"\u001b[39;49m\u001b[43m]\u001b[49m\u001b[38;5;241;43m.\u001b[39;49m\u001b[43mtemperature\u001b[49m\u001b[43m(\u001b[49m\u001b[43mrho_tor_norm\u001b[49m\u001b[43m)\u001b[49m\u001b[43m \u001b[49m\u001b[43m,\u001b[49m\u001b[43m \u001b[49m\u001b[38;5;66;43;03m# 2.0e3, #\u001b[39;49;00m\n\u001b[1;32m     18\u001b[0m \u001b[43m        \u001b[49m\u001b[38;5;124;43m\"\u001b[39;49m\u001b[38;5;124;43mion/He/temperature\u001b[39;49m\u001b[38;5;124;43m\"\u001b[39;49m\u001b[43m:\u001b[49m\u001b[43m               \u001b[49m\u001b[43mcore_profiles_1d_astra\u001b[49m\u001b[38;5;241;43m.\u001b[39;49m\u001b[43mion\u001b[49m\u001b[43m[\u001b[49m\u001b[38;5;124;43m\"\u001b[39;49m\u001b[38;5;124;43mHe\u001b[39;49m\u001b[38;5;124;43m\"\u001b[39;49m\u001b[43m]\u001b[49m\u001b[38;5;241;43m.\u001b[39;49m\u001b[43mtemperature\u001b[49m\u001b[43m(\u001b[49m\u001b[43mrho_tor_norm\u001b[49m\u001b[43m)\u001b[49m\u001b[43m \u001b[49m\u001b[43m,\u001b[49m\u001b[43m \u001b[49m\u001b[38;5;66;43;03m# 2.0e3,\u001b[39;49;00m\n\u001b[1;32m     19\u001b[0m \u001b[43m        \u001b[49m\u001b[38;5;124;43m\"\u001b[39;49m\u001b[38;5;124;43melectrons/temperature\u001b[39;49m\u001b[38;5;124;43m\"\u001b[39;49m\u001b[43m:\u001b[49m\u001b[43m            \u001b[49m\u001b[43mcore_profiles_1d_astra\u001b[49m\u001b[38;5;241;43m.\u001b[39;49m\u001b[43melectrons\u001b[49m\u001b[38;5;241;43m.\u001b[39;49m\u001b[43mtemperature\u001b[49m\u001b[43m(\u001b[49m\u001b[43mrho_tor_norm\u001b[49m\u001b[43m)\u001b[49m\u001b[43m \u001b[49m\u001b[43m,\u001b[49m\u001b[38;5;66;43;03m# 2.0e3, #\u001b[39;49;00m\n\u001b[1;32m     20\u001b[0m \u001b[43m    \u001b[49m\u001b[43m}\u001b[49m\u001b[43m,\u001b[49m\n\u001b[1;32m     21\u001b[0m \u001b[43m    \u001b[49m\u001b[43mboundary_value\u001b[49m\u001b[38;5;241;43m=\u001b[39;49m\u001b[43m{\u001b[49m\n\u001b[1;32m     22\u001b[0m \u001b[43m        \u001b[49m\u001b[38;5;124;43m\"\u001b[39;49m\u001b[38;5;124;43mion/D/density\u001b[39;49m\u001b[38;5;124;43m\"\u001b[39;49m\u001b[43m:\u001b[49m\u001b[43m                    \u001b[49m\u001b[38;5;241;43m2.0e19\u001b[39;49m\u001b[43m,\u001b[49m\u001b[43m \u001b[49m\n\u001b[1;32m     23\u001b[0m \u001b[43m        \u001b[49m\u001b[38;5;124;43m\"\u001b[39;49m\u001b[38;5;124;43mion/T/density\u001b[39;49m\u001b[38;5;124;43m\"\u001b[39;49m\u001b[43m:\u001b[49m\u001b[43m                    \u001b[49m\u001b[38;5;241;43m2.0e19\u001b[39;49m\u001b[43m,\u001b[49m\u001b[43m \u001b[49m\n\u001b[1;32m     24\u001b[0m \u001b[43m        \u001b[49m\u001b[38;5;124;43m\"\u001b[39;49m\u001b[38;5;124;43mion/He/density\u001b[39;49m\u001b[38;5;124;43m\"\u001b[39;49m\u001b[43m:\u001b[49m\u001b[43m                   \u001b[49m\u001b[38;5;241;43m2.0e17\u001b[39;49m\u001b[43m,\u001b[49m\u001b[43m \u001b[49m\n\u001b[1;32m     25\u001b[0m \u001b[43m        \u001b[49m\u001b[38;5;124;43m\"\u001b[39;49m\u001b[38;5;124;43mion/alpha/density\u001b[39;49m\u001b[38;5;124;43m\"\u001b[39;49m\u001b[43m:\u001b[49m\u001b[43m                \u001b[49m\u001b[38;5;241;43m1.0\u001b[39;49m\u001b[43m,\u001b[49m\u001b[43m \u001b[49m\n\u001b[1;32m     26\u001b[0m \n\u001b[1;32m     27\u001b[0m \u001b[43m        \u001b[49m\u001b[38;5;124;43m\"\u001b[39;49m\u001b[38;5;124;43mion/D/temperature\u001b[39;49m\u001b[38;5;124;43m\"\u001b[39;49m\u001b[43m:\u001b[49m\u001b[43m                \u001b[49m\u001b[38;5;241;43m200\u001b[39;49m\u001b[43m,\u001b[49m\u001b[43m   \u001b[49m\n\u001b[1;32m     28\u001b[0m \u001b[43m        \u001b[49m\u001b[38;5;124;43m\"\u001b[39;49m\u001b[38;5;124;43mion/T/temperature\u001b[39;49m\u001b[38;5;124;43m\"\u001b[39;49m\u001b[43m:\u001b[49m\u001b[43m                \u001b[49m\u001b[38;5;241;43m200\u001b[39;49m\u001b[43m,\u001b[49m\u001b[43m   \u001b[49m\n\u001b[1;32m     29\u001b[0m \u001b[43m        \u001b[49m\u001b[38;5;124;43m\"\u001b[39;49m\u001b[38;5;124;43mion/He/temperature\u001b[39;49m\u001b[38;5;124;43m\"\u001b[39;49m\u001b[43m:\u001b[49m\u001b[43m               \u001b[49m\u001b[38;5;241;43m200\u001b[39;49m\u001b[43m,\u001b[49m\u001b[43m   \u001b[49m\n\u001b[1;32m     30\u001b[0m \u001b[43m        \u001b[49m\u001b[38;5;124;43m\"\u001b[39;49m\u001b[38;5;124;43melectrons/temperature\u001b[39;49m\u001b[38;5;124;43m\"\u001b[39;49m\u001b[43m:\u001b[49m\u001b[43m            \u001b[49m\u001b[38;5;241;43m200\u001b[39;49m\u001b[43m,\u001b[49m\u001b[43m   \u001b[49m\n\u001b[1;32m     31\u001b[0m \u001b[43m    \u001b[49m\u001b[43m}\u001b[49m\u001b[43m,\u001b[49m\n\u001b[1;32m     32\u001b[0m \u001b[43m    \u001b[49m\u001b[38;5;66;43;03m# fmt:on\u001b[39;49;00m\n\u001b[1;32m     33\u001b[0m \u001b[43m)\u001b[49m\n",
      "File \u001b[0;32m~/workspace/fytok/python/fytok/plugins/transport_solver_numerics/fy_trans/fy_trans.py:692\u001b[0m, in \u001b[0;36mFyTrans.preprocess\u001b[0;34m(self, boundary_value, *args, **kwargs)\u001b[0m\n\u001b[1;32m    690\u001b[0m         y \u001b[38;5;241m=\u001b[39m Y[idx \u001b[38;5;241m*\u001b[39m \u001b[38;5;241m2\u001b[39m]\n\u001b[1;32m    691\u001b[0m         yp \u001b[38;5;241m=\u001b[39m derivative(y, X)\n\u001b[0;32m--> 692\u001b[0m         Y[idx \u001b[38;5;241m*\u001b[39m \u001b[38;5;241m2\u001b[39m \u001b[38;5;241m+\u001b[39m \u001b[38;5;241m1\u001b[39m] \u001b[38;5;241m=\u001b[39m \u001b[38;5;241m-\u001b[39mD(X, \u001b[38;5;241m*\u001b[39mY) \u001b[38;5;241m*\u001b[39m yp \u001b[38;5;241m+\u001b[39m \u001b[43mV\u001b[49m\u001b[43m(\u001b[49m\u001b[43mX\u001b[49m\u001b[43m,\u001b[49m\u001b[43m \u001b[49m\u001b[38;5;241;43m*\u001b[39;49m\u001b[43mY\u001b[49m\u001b[43m)\u001b[49m \u001b[38;5;241m*\u001b[39m y\n\u001b[1;32m    694\u001b[0m     Y \u001b[38;5;241m/\u001b[39m\u001b[38;5;241m=\u001b[39m \u001b[38;5;28mself\u001b[39m\u001b[38;5;241m.\u001b[39m_units\u001b[38;5;241m.\u001b[39mreshape(\u001b[38;5;241m-\u001b[39m\u001b[38;5;241m1\u001b[39m, \u001b[38;5;241m1\u001b[39m)\n\u001b[1;32m    696\u001b[0m current\u001b[38;5;241m.\u001b[39mX \u001b[38;5;241m=\u001b[39m X\n",
      "File \u001b[0;32m~/workspace/fytok/SpDM/python/spdm/data/Expression.py:281\u001b[0m, in \u001b[0;36mExpression.__call__\u001b[0;34m(self, *args, **kwargs)\u001b[0m\n\u001b[1;32m    278\u001b[0m     \u001b[38;5;28;01mreturn\u001b[39;00m Expression(\u001b[38;5;28mself\u001b[39m, \u001b[38;5;241m*\u001b[39margs, \u001b[38;5;241m*\u001b[39m\u001b[38;5;241m*\u001b[39mkwargs)\n\u001b[1;32m    280\u001b[0m \u001b[38;5;28;01melif\u001b[39;00m \u001b[38;5;28mlen\u001b[39m(\u001b[38;5;28mself\u001b[39m\u001b[38;5;241m.\u001b[39m_children) \u001b[38;5;241m>\u001b[39m \u001b[38;5;241m0\u001b[39m:\n\u001b[0;32m--> 281\u001b[0m     \u001b[38;5;28;01mreturn\u001b[39;00m \u001b[38;5;28mself\u001b[39m\u001b[38;5;241m.\u001b[39m__eval__(\u001b[38;5;241m*\u001b[39m\u001b[38;5;28;43mself\u001b[39;49m\u001b[38;5;241;43m.\u001b[39;49m\u001b[43m_eval_children\u001b[49m\u001b[43m(\u001b[49m\u001b[38;5;241;43m*\u001b[39;49m\u001b[43margs\u001b[49m\u001b[43m,\u001b[49m\u001b[43m \u001b[49m\u001b[38;5;241;43m*\u001b[39;49m\u001b[38;5;241;43m*\u001b[39;49m\u001b[43mkwargs\u001b[49m\u001b[43m)\u001b[49m)\n\u001b[1;32m    283\u001b[0m \u001b[38;5;28;01melse\u001b[39;00m:\n\u001b[1;32m    284\u001b[0m     \u001b[38;5;28;01mreturn\u001b[39;00m \u001b[38;5;28mself\u001b[39m\u001b[38;5;241m.\u001b[39m__eval__(\u001b[38;5;241m*\u001b[39margs, \u001b[38;5;241m*\u001b[39m\u001b[38;5;241m*\u001b[39mkwargs)\n",
      "File \u001b[0;32m~/workspace/fytok/SpDM/python/spdm/data/Expression.py:296\u001b[0m, in \u001b[0;36mExpression._eval_children\u001b[0;34m(self, *args, **kwargs)\u001b[0m\n\u001b[1;32m    293\u001b[0m         value \u001b[38;5;241m=\u001b[39m np\u001b[38;5;241m.\u001b[39masarray(child)\n\u001b[1;32m    295\u001b[0m \u001b[38;5;28;01mexcept\u001b[39;00m \u001b[38;5;167;01mException\u001b[39;00m \u001b[38;5;28;01mas\u001b[39;00m error:\n\u001b[0;32m--> 296\u001b[0m     \u001b[38;5;28;01mraise\u001b[39;00m \u001b[38;5;167;01mRuntimeError\u001b[39;00m(\u001b[38;5;124mf\u001b[39m\u001b[38;5;124m\"\u001b[39m\u001b[38;5;124mFailure to calculate  child \u001b[39m\u001b[38;5;132;01m{\u001b[39;00mchild\u001b[38;5;132;01m}\u001b[39;00m\u001b[38;5;124m !\u001b[39m\u001b[38;5;124m\"\u001b[39m) \u001b[38;5;28;01mfrom\u001b[39;00m \u001b[38;5;21;01merror\u001b[39;00m\n\u001b[1;32m    297\u001b[0m \u001b[38;5;28;01melse\u001b[39;00m:\n\u001b[1;32m    298\u001b[0m     new_children\u001b[38;5;241m.\u001b[39mappend(value)\n",
      "\u001b[0;31mRuntimeError\u001b[0m: Failure to calculate  child Expression !"
     ]
    }
   ],
   "source": [
    "eq_grid = tokamak.equilibrium.time_slice.current.profiles_1d.grid\n",
    "rho_tor_norm = eq_grid.rho_tor_norm[1:-1]\n",
    "psi_norm = eq_grid.psi_norm[1:-1]\n",
    "solver_1d = solver.preprocess(\n",
    "    time=0.0,\n",
    "    rho_tor_norm=rho_tor_norm,\n",
    "    # fmt:off\n",
    "    initial_value={\n",
    "        \"psi\":                              0.0,\n",
    "        \"psi_norm\":                         psi_norm,\n",
    "        \"ion/D/density\":                    core_profiles_1d_astra.ion[\"D\"].density(rho_tor_norm) ,  # 1.0e19,\n",
    "        \"ion/T/density\":                    core_profiles_1d_astra.ion[\"T\"].density(rho_tor_norm) ,  # 1.0e19,#\n",
    "        \"ion/He/density\":                   core_profiles_1d_astra.ion[\"He\"].density(rho_tor_norm) ,  #1.0e6,\n",
    "        \"ion/alpha/density\":                core_profiles_1d_astra.ion[\"alpha\"].density(rho_tor_norm), #1.0e6,\n",
    "\n",
    "        \"ion/D/temperature\":                core_profiles_1d_astra.ion[\"D\"].temperature(rho_tor_norm) , # 2.0e3, #\n",
    "        \"ion/T/temperature\":                core_profiles_1d_astra.ion[\"T\"].temperature(rho_tor_norm) , # 2.0e3, #\n",
    "        \"ion/He/temperature\":               core_profiles_1d_astra.ion[\"He\"].temperature(rho_tor_norm) , # 2.0e3,\n",
    "        \"electrons/temperature\":            core_profiles_1d_astra.electrons.temperature(rho_tor_norm) ,# 2.0e3, #\n",
    "    },\n",
    "    boundary_value={\n",
    "        \"ion/D/density\":                    2.0e19, \n",
    "        \"ion/T/density\":                    2.0e19, \n",
    "        \"ion/He/density\":                   2.0e17, \n",
    "        \"ion/alpha/density\":                1.0, \n",
    "\n",
    "        \"ion/D/temperature\":                200,   \n",
    "        \"ion/T/temperature\":                200,   \n",
    "        \"ion/He/temperature\":               200,   \n",
    "        \"electrons/temperature\":            200,   \n",
    "    },\n",
    "    # fmt:on\n",
    ")"
   ]
  },
  {
   "cell_type": "code",
   "execution_count": null,
   "metadata": {},
   "outputs": [],
   "source": [
    "solver_1d = solver.execute(solver_1d)\n",
    "solver_1d = solver.postprocess(solver_1d)"
   ]
  },
  {
   "cell_type": "code",
   "execution_count": null,
   "metadata": {},
   "outputs": [],
   "source": [
    "print(solver_1d.rms_residuals)\n",
    "plt.plot(solver_1d.X[:-1], solver_1d.rms_residuals)"
   ]
  },
  {
   "cell_type": "code",
   "execution_count": null,
   "metadata": {},
   "outputs": [],
   "source": [
    "fig = sp_view.plot(\n",
    "    solver_1d.X,\n",
    "    [\n",
    "        (solver_1d.Y[0] * solver._units[0], r\"$\\bar{\\psi}$\"),\n",
    "        (\n",
    "            Function(\n",
    "                equilibrium_astra.time_slice.current.profiles_1d.grid.rho_tor_norm,\n",
    "                equilibrium_astra.time_slice.current.profiles_1d.grid.psi_norm,\n",
    "            ),\n",
    "            {\"label\": r\"$\\bar{\\psi}$ astra\", \"$matplotlib\": {\"linestyle\": \"dashed\"}},\n",
    "        ),\n",
    "    ],\n",
    "    *[\n",
    "        [\n",
    "            (solver_1d.Y[idx * 2] * solver._units[idx * 2], equ.identifier),\n",
    "            (\n",
    "                Path(equ.identifier).get(core_profiles_1d_astra),\n",
    "                {\"label\": f\"{equ.identifier} astra\", \"$matplotlib\": {\"linestyle\": \"dashed\"}},\n",
    "            ),\n",
    "        ]\n",
    "        for idx, equ in enumerate(solver.equations)\n",
    "        if equ.identifier != \"psi_norm\"\n",
    "    ],\n",
    ")"
   ]
  },
  {
   "cell_type": "code",
   "execution_count": null,
   "metadata": {},
   "outputs": [],
   "source": [
    "fig = sp_view.plot(\n",
    "    solver_1d.X,\n",
    "    *[(solver_1d.Y[idx * 2], equ.identifier) for idx, equ in enumerate(solver.equations)],\n",
    "    *[(solver_1d.Y[idx * 2 + 1], f\"{equ.identifier}_flux\") for idx, equ in enumerate(solver.equations)],\n",
    ")"
   ]
  },
  {
   "cell_type": "code",
   "execution_count": null,
   "metadata": {},
   "outputs": [],
   "source": [
    "tokamak.flush()\n",
    "core_profiles_1d = tokamak.core_profiles.time_slice.current.profiles_1d"
   ]
  },
  {
   "cell_type": "code",
   "execution_count": null,
   "metadata": {},
   "outputs": [],
   "source": [
    "fig = sp_view.plot(\n",
    "    solver_1d.grid.rho_tor_norm,\n",
    "    [\n",
    "        (core_profiles_1d.psi_norm, r\"$\\psi$\"),\n",
    "        (\n",
    "            Function(\n",
    "                equilibrium_astra.time_slice.current.profiles_1d.grid.rho_tor_norm,\n",
    "                equilibrium_astra.time_slice.current.profiles_1d.grid.psi_norm,\n",
    "            ),\n",
    "            {\"label\": r\"$\\psi$ astra\", \"$matplotlib\": {\"linestyle\": \"dashed\"}},\n",
    "        ),\n",
    "    ],\n",
    "    *[\n",
    "        [\n",
    "            (Path(equ.identifier).get(core_profiles_1d, 0), f\"{equ.identifier} \"),\n",
    "            (\n",
    "                Path(equ.identifier).get(core_profiles_1d_astra, 0),\n",
    "                {\"label\": f\"{equ.identifier} astra\", \"$matplotlib\": {\"linestyle\": \"dashed\"}},\n",
    "            ),\n",
    "        ]\n",
    "        for equ in solver_1d.equations\n",
    "        if equ.identifier != \"psi\"\n",
    "    ],\n",
    ")"
   ]
  },
  {
   "cell_type": "code",
   "execution_count": null,
   "metadata": {},
   "outputs": [],
   "source": [
    "fig = sp_view.plot(\n",
    "    solver_1d.grid.rho_tor_norm,\n",
    "    [\n",
    "        # (core_profiles_1d.ion[\"alpha\"].density, r\"$\\alpha$\"),\n",
    "        (core_profiles_1d.ion[\"He\"].density, r\"He\"),\n",
    "        (core_profiles_1d.ion[\"He\"].density + core_profiles_1d.ion[\"alpha\"].density, r\"He+$\\alpha$\"),\n",
    "        (core_profiles_1d_astra.ion[\"He\"].density, {\"label\": f\"He astra\", \"$matplotlib\": {\"linestyle\": \"dashed\"}}),\n",
    "    ],\n",
    "    fontsize=10,\n",
    ")"
   ]
  },
  {
   "cell_type": "code",
   "execution_count": null,
   "metadata": {},
   "outputs": [],
   "source": [
    "source_1d = tokamak.core_sources.source[0].time_slice.current.profiles_1d\n",
    "fig = sp_view.plot(\n",
    "    source_1d.grid.rho_tor_norm,\n",
    "    [(source_1d.electrons.particles, r\"$S_{e}$\")] + [(ion.particles, rf\"$S_{{{ion.label}}}$\") for ion in source_1d.ion],\n",
    "    [(source_1d.electrons.energy, r\"$Q_{e}$\")],\n",
    "    [(ion.energy, rf\"$Q_{{{ion.label}}}$\") for ion in source_1d.ion],\n",
    "    x_label=r\"$\\bar{\\rho}$ [-]\",\n",
    "    fontsize=12,\n",
    ")"
   ]
  },
  {
   "cell_type": "code",
   "execution_count": null,
   "metadata": {},
   "outputs": [],
   "source": [
    "source_1d = tokamak.core_sources.source[1].time_slice.current.profiles_1d\n",
    "fig = sp_view.plot(\n",
    "    source_1d.grid.rho_tor_norm,\n",
    "    [\n",
    "        (core_profiles_1d.electrons.temperature, r\"$T_{e}$\"),\n",
    "        *[(ion.temperature, rf\"$T_{{{ion.label}}}$\") for ion in core_profiles_1d.ion],\n",
    "    ],  # [(source_1d.electrons.particles, r\"$S_{e}$\")] + [(ion.particles, rf\"$S_{{{ion.label}}}$\") for ion in source_1d.ion],\n",
    "    [\n",
    "        (source_1d.electrons.energy, {\"label\": r\"$Q_{e}$\", \"$matplotlib\": {\"linestyle\": \"-\", \"marker\": \".\"}}),\n",
    "        *[(ion.energy, rf\"$Q_{{{ion.label}}}$\") for ion in source_1d.ion],\n",
    "    ],\n",
    "    x_label=r\"$\\bar{\\rho}$ [-]\",\n",
    "    fontsize=12,\n",
    ")"
   ]
  },
  {
   "cell_type": "code",
   "execution_count": null,
   "metadata": {},
   "outputs": [],
   "source": [
    "source_1d = tokamak.core_sources.source[0].time_slice.current.profiles_1d\n",
    "\n",
    "astra_rho_tor_norm = astra_profiles[\"x\"].values\n",
    "fig = sp_view.plot(\n",
    "    # source_1d.grid.rho_tor_norm,\n",
    "    astra_rho_tor_norm,\n",
    "    (\n",
    "        Function(astra_rho_tor_norm, astra_profiles[\"Poh\"].values * 1.0e6 / scipy.constants.electron_volt),\n",
    "        r\"$Q_{oh}$ astra\",\n",
    "    ),\n",
    "    # [\n",
    "    #     (tokamak.core_sources.source[1].time_slice.current.profiles_1d.electrons.energy, r\"$Q_{e}$\"),\n",
    "    #     *[\n",
    "    #         (ion.energy, rf\"$Q_{{{ion.label}}}$\")\n",
    "    #         for ion in tokamak.core_sources.source[1].time_slice.current.profiles_1d.ion\n",
    "    #     ],\n",
    "    # ],\n",
    "    [\n",
    "        (\n",
    "            Function(astra_rho_tor_norm, astra_profiles[\"Pdte\"].values * 1.0e6 / scipy.constants.electron_volt),\n",
    "            r\"$Q_{dte}$ astra\",\n",
    "        ),\n",
    "        (\n",
    "            Function(astra_rho_tor_norm, astra_profiles[\"Pdti\"].values * 1.0e6 / scipy.constants.electron_volt),\n",
    "            r\"$Q_{dti}$ astra\",\n",
    "        ),\n",
    "        (\n",
    "            Function(astra_rho_tor_norm, (astra_profiles[\"Pdt\"].values) * 1.0e6 / scipy.constants.electron_volt),\n",
    "            r\"$Q_{dt}$ astra total\",\n",
    "        ),\n",
    "    ],\n",
    "    [\n",
    "        (\n",
    "            Function(\n",
    "                astra_rho_tor_norm,\n",
    "                (\n",
    "                    astra_profiles[\"Poh\"].values\n",
    "                    + astra_profiles[\"Paux\"].values\n",
    "                    # - astra_profiles[\"Prad\"].values\n",
    "                    - astra_profiles[\"Pneu\"].values\n",
    "                    - astra_profiles[\"Peic\"].values\n",
    "                    + astra_profiles[\"Pdte\"].values\n",
    "                )\n",
    "                * 1.0e6\n",
    "                / scipy.constants.electron_volt,\n",
    "            ),\n",
    "            r\"$Q_{e}$ astra\",\n",
    "        ),\n",
    "        (source_1d.electrons.energy, r\"$Q_{e}$\"),\n",
    "    ],\n",
    "    x_label=r\"$\\bar{\\rho}$ [-]\",\n",
    "    fontsize=10,\n",
    ")"
   ]
  },
  {
   "cell_type": "code",
   "execution_count": null,
   "metadata": {},
   "outputs": [],
   "source": [
    "plt.plot(source_1d.grid.rho_tor_norm, source_1d.electrons.energy.__array__() ,label=\"Qe\")\n",
    "plt.plot(source_1d.electrons.energy.dims[0], source_1d.electrons.energy.__array__())\n",
    "plt.plot(\n",
    "    astra_rho_tor_norm,\n",
    "    (\n",
    "        astra_profiles[\"Poh\"].values\n",
    "        + astra_profiles[\"Paux\"].values\n",
    "        # - astra_profiles[\"Prad\"].values\n",
    "        - astra_profiles[\"Pneu\"].values\n",
    "        - astra_profiles[\"Peic\"].values\n",
    "        + astra_profiles[\"Pdte\"].values\n",
    "    )\n",
    "    * 1.0e6\n",
    "    / scipy.constants.electron_volt,label=\"Qe astra\"\n",
    ")\n",
    "plt.legend()"
   ]
  },
  {
   "cell_type": "code",
   "execution_count": null,
   "metadata": {},
   "outputs": [],
   "source": [
    "plt.plot(source_1d.grid.rho_tor_norm, source_1d.electrons.energy.dims[0])"
   ]
  },
  {
   "cell_type": "code",
   "execution_count": null,
   "metadata": {},
   "outputs": [],
   "source": [
    "source_1d = tokamak.core_sources.source[2].time_slice.current.profiles_1d\n",
    "fig = sp_view.plot(\n",
    "    source_1d.grid.rho_tor_norm,\n",
    "    [(source_1d.electrons.particles, r\"$S_{e}$\")] + [(ion.particles, rf\"$S_{{{ion.label}}}$\") for ion in source_1d.ion],\n",
    "    [(source_1d.electrons.energy, r\"$Q_{e}$\")],\n",
    "    [(ion.energy, rf\"$Q_{{{ion.label}}}$\") for ion in source_1d.ion],\n",
    "    x_label=r\"$\\bar{\\rho}$ [-]\",\n",
    "    fontsize=12,\n",
    ")"
   ]
  },
  {
   "cell_type": "code",
   "execution_count": null,
   "metadata": {},
   "outputs": [],
   "source": [
    "fig = sp_view.plot(\n",
    "    solver_1d.grid.rho_tor_norm,\n",
    "    *sum(\n",
    "        [\n",
    "            [\n",
    "                # (solver_1d.Y0[2 * idx], f\"d({equ.identifier})/dr\"),\n",
    "                # (solver_1d.Y0[2 * idx + 1], f\"d({equ.identifier}_flux)/dr\"),\n",
    "                (equ.d_dr, f\"d({equ.identifier})/dr\"),\n",
    "                (equ.dflux_dr, f\"d({equ.identifier}_flux)/dr\"),\n",
    "            ]\n",
    "            for idx, equ in enumerate(solver_1d.equations)\n",
    "        ],\n",
    "        [],\n",
    "    ),\n",
    ")"
   ]
  },
  {
   "cell_type": "code",
   "execution_count": null,
   "metadata": {},
   "outputs": [],
   "source": [
    "trans_1d = tokamak.core_transport.model[0].time_slice.current.profiles_1d\n",
    "fig = sp_view.plot(\n",
    "    trans_1d.grid_d.rho_tor_norm,\n",
    "    (\n",
    "        [\n",
    "            (trans_1d.ion[0].particles.d, trans_1d.ion[0].label),\n",
    "            (trans_1d.ion[1].particles.d, trans_1d.ion[1].label),\n",
    "        ],\n",
    "        {\"y_label\": \"D\"},\n",
    "    ),\n",
    "    (\n",
    "        [\n",
    "            (trans_1d.ion[0].particles.v, trans_1d.ion[0].label),\n",
    "            (trans_1d.ion[1].particles.v, trans_1d.ion[1].label),\n",
    "        ],\n",
    "        {\"y_label\": \"v\"},\n",
    "    ),\n",
    ")"
   ]
  },
  {
   "cell_type": "code",
   "execution_count": null,
   "metadata": {},
   "outputs": [],
   "source": [
    "source_1d = tokamak.core_sources.source[0].time_slice.current.profiles_1d\n",
    "fig = sp_view.plot(\n",
    "    source_1d.grid.rho_tor_norm,\n",
    "    (\n",
    "        [\n",
    "            (source_1d.ion[0].particles, source_1d.ion[0].label),\n",
    "            (source_1d.ion[2].particles, source_1d.ion[2].label),\n",
    "        ],\n",
    "        {\"y_label\": \"Particles\"},\n",
    "    ),\n",
    "    (\n",
    "        [\n",
    "            (source_1d.ion[0].energy, source_1d.ion[0].label),\n",
    "            (source_1d.ion[2].energy, source_1d.ion[2].label),\n",
    "        ],\n",
    "        {\"y_label\": \"Energy\"},\n",
    "    ),\n",
    ")"
   ]
  }
 ],
 "metadata": {
  "kernelspec": {
   "display_name": "Python 3",
   "language": "python",
   "name": "python3"
  },
  "language_info": {
   "codemirror_mode": {
    "name": "ipython",
    "version": 3
   },
   "file_extension": ".py",
   "mimetype": "text/x-python",
   "name": "python",
   "nbconvert_exporter": "python",
   "pygments_lexer": "ipython3",
   "version": "3.10.12"
  }
 },
 "nbformat": 4,
 "nbformat_minor": 2
}
