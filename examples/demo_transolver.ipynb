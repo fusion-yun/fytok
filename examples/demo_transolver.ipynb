{
 "cells": [
  {
   "cell_type": "code",
   "execution_count": 1,
   "metadata": {},
   "outputs": [
    {
     "name": "stdout",
     "output_type": "stream",
     "text": [
      "\u001b[0;34m2023-11-14 11:26:47,602 [   fytok]     INFO: \n",
      "#######################################################################################################################\n",
      "    ______      _____     _\n",
      "   / ____/_  __|_   _|__ | | __\n",
      "  / /_  / / / /  | |/ _ \\| |/ /\n",
      " / __/ / /_/ /   | | (_) |   <\n",
      "/_/    \\__, /    |_|\\___/|_|\\_\\\n",
      "      /____/\n",
      "\n",
      " Copyright (c) 2021-present Zhi YU (Institute of Plasma Physics Chinese Academy of Sciences)\n",
      "            \n",
      " url: https://gitee.com/openfusion/fytok_tutorial \n",
      "      https://github.com/fusion-yun/fytok_tutorial\n",
      "\n",
      " version = develop ( extension=0.2.2.dev11+g706f667, imas_version=v3_38_1_dirty ) \n",
      "\n",
      " Run by salmon at 2023-11-14T11:26:47.601965.\n",
      " Job ID: fytok_salmon_surface_7582\n",
      "\n",
      "#######################################################################################################################\n",
      "\u001b[0m\n"
     ]
    }
   ],
   "source": [
    "import pathlib\n",
    "import numpy as np\n",
    "from fytok.Tokamak import Tokamak\n",
    "from spdm.view import View as sp_view\n",
    "\n",
    "input_path = pathlib.Path(\"/home/salmon/workspace/fytok_data/data/15MA inductive - burn\")"
   ]
  },
  {
   "cell_type": "code",
   "execution_count": 2,
   "metadata": {},
   "outputs": [
    {
     "name": "stdout",
     "output_type": "stream",
     "text": [
      "\u001b[0;37m2023-11-14 11:26:47,855 [   fytok]    DEBUG: /home/salmon/workspace/fytok/SpDM/python/spdm/utils/sp_export.py:66:sp_load_module: Load module spdm.plugins.data.plugin_iterprofiles\u001b[0m\n",
      "\u001b[0;37m2023-11-14 11:26:47,916 [   fytok]    DEBUG: /home/salmon/workspace/fytok/SpDM/python/spdm/utils/sp_export.py:66:sp_load_module: Load module spdm.plugins.data.plugin_geqdsk\u001b[0m\n",
      "\u001b[0;37m2023-11-14 11:26:47,935 [   fytok]    DEBUG: /home/salmon/workspace/fytok/SpDM/python/spdm/utils/sp_export.py:66:sp_load_module: Load module fytok.plugins.transport_solver_numerics.fy_trans\u001b[0m\n",
      "\u001b[0;37m2023-11-14 11:26:48,260 [   fytok]    DEBUG: /home/salmon/workspace/fytok/SpDM/python/spdm/utils/sp_export.py:66:sp_load_module: Load module fytok.plugins.equilibrium.fy_eq\u001b[0m\n",
      "\u001b[0;37m2023-11-14 11:26:48,263 [   fytok]    DEBUG: /home/salmon/workspace/fytok/SpDM/python/spdm/utils/sp_export.py:66:sp_load_module: Load module fytok.plugins.core_transport.model.dummy\u001b[0m\n",
      "\u001b[0;37m2023-11-14 11:26:48,266 [   fytok]    DEBUG: /home/salmon/workspace/fytok/SpDM/python/spdm/utils/sp_export.py:66:sp_load_module: Load module fytok.plugins.core_sources.source.dummy\u001b[0m\n",
      "\u001b[0;37m2023-11-14 11:26:48,268 [   fytok]    DEBUG: /home/salmon/workspace/fytok/SpDM/python/spdm/utils/sp_export.py:66:sp_load_module: Load module fytok.plugins.core_sources.source.fusion_reaction\u001b[0m\n",
      "\u001b[0;34m2023-11-14 11:26:48,269 [   fytok]     INFO: Tokamak simulation : \n",
      "-----------------------------------------------------------------------------------------------------------------------\n",
      "                                                Brief Summary\n",
      "-----------------------------------------------------------------------------------------------------------------------\n",
      "Dataset Description:\n",
      " \n",
      "    Device: ITER, Shot: 900003, Run: 0, \n",
      "    Run by Salmon on Surface at 2023-11-14T11:26:47.934563, base on ontology \"imas/3\"\n",
      "\n",
      "-----------------------------------------------------------------------------------------------------------------------\n",
      "Modules:\n",
      "    transport_solver        : fy_trans\n",
      "    equilibrium             : fy_eq\n",
      "\n",
      "    core_profiles           : N/A             \n",
      "    core_transport          : dummy\n",
      "    core_sources            : dummy,fusion_reaction\n",
      "-----------------------------------------------------------------------------------------------------------------------\n",
      "Data source:\n",
      "    \n",
      "-----------------------------------------------------------------------------------------------------------------------\n",
      "    File: /home/salmon/workspace/fytok/python/fytok/Tokamak.py:fytok.Tokamak\n",
      "\u001b[0m\n"
     ]
    }
   ],
   "source": [
    "tokamak = Tokamak(\n",
    "    f\"file+iterprofiles://{next(input_path.glob('*ASTRA.xls')).absolute().as_posix()}\",\n",
    "    f\"file+geqdsk://{next(input_path.glob('**/g*.txt')).absolute().as_posix()}\",\n",
    "    device=\"iter\",\n",
    "    shot=900003,\n",
    "    time=2.30,\n",
    "    core_transport={\"model\": [{\"code\": {\"name\": \"dummy\"}}]},\n",
    "    core_sources={\n",
    "        \"source\": [\n",
    "            {\"code\": {\"name\": \"dummy\"}},\n",
    "            {\"code\": {\"name\": \"fusion_reaction\"}},\n",
    "        ]\n",
    "    },\n",
    "    transport_solver={\n",
    "        \"code\": {\n",
    "            \"name\": \"fy_trans\",\n",
    "            \"parameters\": {\n",
    "                \"rho_tor_norm\": np.linspace(0.01, 0.995, 128),\n",
    "                \"bvp_rms_mask\": [0.96],\n",
    "                \"hyper_diff\": 0.0001,\n",
    "                \"max_nodes\": 250,\n",
    "                \"equations\": {\n",
    "                    \"ion/D/density_thermal\": {\n",
    "                        \"profile\": 1.5e19,\n",
    "                        \"boundary_condition\": [\n",
    "                            {\"identifier\": {\"index\": 2}, \"value\": [0]},\n",
    "                            {\"identifier\": {\"index\": 1}, \"value\": [2.0e19]},\n",
    "                        ],\n",
    "                    },\n",
    "                    \"ion/T/density_thermal\": {\n",
    "                        \"profile\": 1.5e19,\n",
    "                        \"boundary_condition\": [\n",
    "                            {\"identifier\": {\"index\": 2}, \"value\": [0]},\n",
    "                            {\"identifier\": {\"index\": 1}, \"value\": [2.0e19]},\n",
    "                        ],\n",
    "                    },\n",
    "                    \"ion/D/temperature\": {\n",
    "                        \"profile\": 1000,\n",
    "                        \"boundary_condition\": [\n",
    "                            {\"identifier\": {\"index\": 2}, \"value\": [0]},\n",
    "                            {\"identifier\": {\"index\": 1}, \"value\": [1000]},\n",
    "                        ],\n",
    "                    },\n",
    "                    \"ion/T/temperature\": {\n",
    "                        \"profile\": 1000,\n",
    "                        \"boundary_condition\": [\n",
    "                            {\"identifier\": {\"index\": 2}, \"value\": [0]},\n",
    "                            {\"identifier\": {\"index\": 1}, \"value\": [1000]},\n",
    "                        ],\n",
    "                    },\n",
    "                    \"electrons/temperature\": {\n",
    "                        \"profile\": 1000,\n",
    "                        \"boundary_condition\": [\n",
    "                            {\"identifier\": {\"index\": 2}, \"value\": [0]},\n",
    "                            {\"identifier\": {\"index\": 1}, \"value\": [1000]},\n",
    "                        ],\n",
    "                    },\n",
    "                },\n",
    "            },\n",
    "        }\n",
    "    },\n",
    ")"
   ]
  },
  {
   "cell_type": "code",
   "execution_count": 3,
   "metadata": {},
   "outputs": [
    {
     "name": "stdout",
     "output_type": "stream",
     "text": [
      "\u001b[0;37m2023-11-14 11:26:48,292 [   fytok]    DEBUG: /home/salmon/workspace/fytok/SpDM/python/spdm/utils/sp_export.py:66:sp_load_module: Load module spdm.mesh.mesh_rectangular\u001b[0m\n",
      "\u001b[0;37m2023-11-14 11:26:49,361 [   fytok]    DEBUG: /home/salmon/workspace/fytok/python/fytok/plugins/transport_solver_numerics/fy_trans.py:234:_update_coefficient: dummy\u001b[0m\n"
     ]
    },
    {
     "ename": "ValueError",
     "evalue": "psi_norm or psi must be provided",
     "output_type": "error",
     "traceback": [
      "\u001b[0;31m---------------------------------------------------------------------------\u001b[0m",
      "\u001b[0;31mValueError\u001b[0m                                Traceback (most recent call last)",
      "\u001b[1;32m/home/salmon/workspace/fytok/examples/demo_transolver.ipynb Cell 3\u001b[0m line \u001b[0;36m1\n\u001b[0;32m----> <a href='vscode-notebook-cell://wsl%2Bubuntu-22.04/home/salmon/workspace/fytok/examples/demo_transolver.ipynb#W2sdnNjb2RlLXJlbW90ZQ%3D%3D?line=0'>1</a>\u001b[0m tokamak\u001b[39m.\u001b[39;49mtransport_solver\u001b[39m.\u001b[39;49mrefresh(\n\u001b[1;32m      <a href='vscode-notebook-cell://wsl%2Bubuntu-22.04/home/salmon/workspace/fytok/examples/demo_transolver.ipynb#W2sdnNjb2RlLXJlbW90ZQ%3D%3D?line=1'>2</a>\u001b[0m     \u001b[39m# boundary_condition={\u001b[39;49;00m\n\u001b[1;32m      <a href='vscode-notebook-cell://wsl%2Bubuntu-22.04/home/salmon/workspace/fytok/examples/demo_transolver.ipynb#W2sdnNjb2RlLXJlbW90ZQ%3D%3D?line=2'>3</a>\u001b[0m     \u001b[39m#     \"ion/D/density_thermal\": [[0.0], [2.0e19]],\u001b[39;49;00m\n\u001b[1;32m      <a href='vscode-notebook-cell://wsl%2Bubuntu-22.04/home/salmon/workspace/fytok/examples/demo_transolver.ipynb#W2sdnNjb2RlLXJlbW90ZQ%3D%3D?line=3'>4</a>\u001b[0m     \u001b[39m#     \"ion/T/density_thermal\": [[0.0], [2.0e19]],\u001b[39;49;00m\n\u001b[1;32m      <a href='vscode-notebook-cell://wsl%2Bubuntu-22.04/home/salmon/workspace/fytok/examples/demo_transolver.ipynb#W2sdnNjb2RlLXJlbW90ZQ%3D%3D?line=4'>5</a>\u001b[0m     \u001b[39m#     \"ion/D/temperature\": [[0.0], [1000]],\u001b[39;49;00m\n\u001b[1;32m      <a href='vscode-notebook-cell://wsl%2Bubuntu-22.04/home/salmon/workspace/fytok/examples/demo_transolver.ipynb#W2sdnNjb2RlLXJlbW90ZQ%3D%3D?line=5'>6</a>\u001b[0m     \u001b[39m#     \"ion/T/temperature\": [[0.0], [1000]],\u001b[39;49;00m\n\u001b[1;32m      <a href='vscode-notebook-cell://wsl%2Bubuntu-22.04/home/salmon/workspace/fytok/examples/demo_transolver.ipynb#W2sdnNjb2RlLXJlbW90ZQ%3D%3D?line=6'>7</a>\u001b[0m     \u001b[39m#     \"electrons/temperature\": [[0.0], [1000]],\u001b[39;49;00m\n\u001b[1;32m      <a href='vscode-notebook-cell://wsl%2Bubuntu-22.04/home/salmon/workspace/fytok/examples/demo_transolver.ipynb#W2sdnNjb2RlLXJlbW90ZQ%3D%3D?line=7'>8</a>\u001b[0m     \u001b[39m# },\u001b[39;49;00m\n\u001b[1;32m      <a href='vscode-notebook-cell://wsl%2Bubuntu-22.04/home/salmon/workspace/fytok/examples/demo_transolver.ipynb#W2sdnNjb2RlLXJlbW90ZQ%3D%3D?line=8'>9</a>\u001b[0m     equilibrium\u001b[39m=\u001b[39;49mtokamak\u001b[39m.\u001b[39;49mequilibrium,\n\u001b[1;32m     <a href='vscode-notebook-cell://wsl%2Bubuntu-22.04/home/salmon/workspace/fytok/examples/demo_transolver.ipynb#W2sdnNjb2RlLXJlbW90ZQ%3D%3D?line=9'>10</a>\u001b[0m     core_transport\u001b[39m=\u001b[39;49mtokamak\u001b[39m.\u001b[39;49mcore_transport,\n\u001b[1;32m     <a href='vscode-notebook-cell://wsl%2Bubuntu-22.04/home/salmon/workspace/fytok/examples/demo_transolver.ipynb#W2sdnNjb2RlLXJlbW90ZQ%3D%3D?line=10'>11</a>\u001b[0m     core_sources\u001b[39m=\u001b[39;49mtokamak\u001b[39m.\u001b[39;49mcore_sources,\n\u001b[1;32m     <a href='vscode-notebook-cell://wsl%2Bubuntu-22.04/home/salmon/workspace/fytok/examples/demo_transolver.ipynb#W2sdnNjb2RlLXJlbW90ZQ%3D%3D?line=11'>12</a>\u001b[0m )\n",
      "File \u001b[0;32m~/workspace/fytok/python/fytok/modules/TransportSolverNumerics.py:273\u001b[0m, in \u001b[0;36mTransportSolverNumerics.refresh\u001b[0;34m(self, *args, **kwargs)\u001b[0m\n\u001b[1;32m    270\u001b[0m             \u001b[39mfor\u001b[39;00m idx, v \u001b[39min\u001b[39;00m \u001b[39menumerate\u001b[39m(bc):\n\u001b[1;32m    271\u001b[0m                 equ\u001b[39m.\u001b[39mboundary_condition[idx][\u001b[39m\"\u001b[39m\u001b[39mvalue\u001b[39m\u001b[39m\"\u001b[39m] \u001b[39m=\u001b[39m v\n\u001b[0;32m--> 273\u001b[0m \u001b[39mself\u001b[39;49m\u001b[39m.\u001b[39;49msolve(\u001b[39mself\u001b[39;49m\u001b[39m.\u001b[39;49mtime_slice\u001b[39m.\u001b[39;49mcurrent, \u001b[39mself\u001b[39;49m\u001b[39m.\u001b[39;49mtime_slice\u001b[39m.\u001b[39;49mprevious, \u001b[39m*\u001b[39;49m\u001b[39m*\u001b[39;49m\u001b[39mself\u001b[39;49m\u001b[39m.\u001b[39;49mdependences)\n",
      "File \u001b[0;32m~/workspace/fytok/python/fytok/plugins/transport_solver_numerics/fy_trans.py:573\u001b[0m, in \u001b[0;36mFyTrans.solve\u001b[0;34m(self, current, previous, *args, **kwargs)\u001b[0m\n\u001b[1;32m    566\u001b[0m \u001b[39mdef\u001b[39;00m \u001b[39msolve\u001b[39m(\n\u001b[1;32m    567\u001b[0m     \u001b[39mself\u001b[39m,\n\u001b[1;32m    568\u001b[0m     current: TransportSolverNumerics\u001b[39m.\u001b[39mTimeSlice,\n\u001b[0;32m   (...)\u001b[0m\n\u001b[1;32m    571\u001b[0m     \u001b[39m*\u001b[39m\u001b[39m*\u001b[39mkwargs,\n\u001b[1;32m    572\u001b[0m ):\n\u001b[0;32m--> 573\u001b[0m     solver_1d, \u001b[39mvars\u001b[39m, nums_of_unknown \u001b[39m=\u001b[39m \u001b[39mself\u001b[39;49m\u001b[39m.\u001b[39;49m_update_coefficient(current, previous, \u001b[39m*\u001b[39;49margs, \u001b[39m*\u001b[39;49m\u001b[39m*\u001b[39;49mkwargs)\n\u001b[1;32m    575\u001b[0m     logger\u001b[39m.\u001b[39minfo(\n\u001b[1;32m    576\u001b[0m         \u001b[39mf\u001b[39m\u001b[39m\"\u001b[39m\u001b[39mSolve transport equations [\u001b[39m\u001b[39m{\u001b[39;00m\u001b[39mlen\u001b[39m(solver_1d\u001b[39m.\u001b[39mequation)\u001b[39m}\u001b[39;00m\u001b[39m] : \u001b[39m\u001b[39m{\u001b[39;00m\u001b[39m'\u001b[39m\u001b[39m,\u001b[39m\u001b[39m'\u001b[39m\u001b[39m.\u001b[39mjoin([equ\u001b[39m.\u001b[39mprimary_quantity\u001b[39m.\u001b[39midentifier\u001b[39m \u001b[39m\u001b[39mfor\u001b[39;00m\u001b[39m \u001b[39mequ\u001b[39m \u001b[39m\u001b[39min\u001b[39;00m\u001b[39m \u001b[39msolver_1d\u001b[39m.\u001b[39mequation])\u001b[39m}\u001b[39;00m\u001b[39m\"\u001b[39m\n\u001b[1;32m    577\u001b[0m     )\n\u001b[1;32m    579\u001b[0m     x \u001b[39m=\u001b[39m solver_1d\u001b[39m.\u001b[39mgrid\u001b[39m.\u001b[39mrho_tor_norm\n",
      "File \u001b[0;32m~/workspace/fytok/python/fytok/plugins/transport_solver_numerics/fy_trans.py:247\u001b[0m, in \u001b[0;36mFyTrans._update_coefficient\u001b[0;34m(self, current, previous, equilibrium, core_transport, core_sources, *args, **kwargs)\u001b[0m\n\u001b[1;32m    245\u001b[0m \u001b[39mif\u001b[39;00m core_sources \u001b[39mis\u001b[39;00m \u001b[39mnot\u001b[39;00m \u001b[39mNone\u001b[39;00m:\n\u001b[1;32m    246\u001b[0m     \u001b[39mfor\u001b[39;00m source \u001b[39min\u001b[39;00m core_sources\u001b[39m.\u001b[39msource:\n\u001b[0;32m--> 247\u001b[0m         source_1d \u001b[39m=\u001b[39m source\u001b[39m.\u001b[39;49mfetch(\u001b[39m*\u001b[39;49m\u001b[39m*\u001b[39;49m\u001b[39mvars\u001b[39;49m)\u001b[39m.\u001b[39mprofiles_1d\n\u001b[1;32m    248\u001b[0m         \u001b[39mfor\u001b[39;00m spec, d \u001b[39min\u001b[39;00m coeff\u001b[39m.\u001b[39mitems():\n\u001b[1;32m    249\u001b[0m             d[\u001b[39m\"\u001b[39m\u001b[39mS\u001b[39m\u001b[39m\"\u001b[39m] \u001b[39m+\u001b[39m\u001b[39m=\u001b[39m source_1d\u001b[39m.\u001b[39mget(\u001b[39mf\u001b[39m\u001b[39m\"\u001b[39m\u001b[39m{\u001b[39;00mspec\u001b[39m}\u001b[39;00m\u001b[39m/particles\u001b[39m\u001b[39m\"\u001b[39m, \u001b[39m0\u001b[39m)\n",
      "File \u001b[0;32m~/workspace/fytok/python/fytok/plugins/core_sources/source/fusion_reaction.py:59\u001b[0m, in \u001b[0;36mFusionReaction.fetch\u001b[0;34m(self, x, **vars)\u001b[0m\n\u001b[1;32m     58\u001b[0m \u001b[39mdef\u001b[39;00m \u001b[39mfetch\u001b[39m(\u001b[39mself\u001b[39m, \u001b[39m/\u001b[39m, x: Variable, \u001b[39m*\u001b[39m\u001b[39m*\u001b[39m\u001b[39mvars\u001b[39m: typing\u001b[39m.\u001b[39mDict[\u001b[39mstr\u001b[39m, Expression]) \u001b[39m-\u001b[39m\u001b[39m>\u001b[39m CoreSources\u001b[39m.\u001b[39mSource\u001b[39m.\u001b[39mTimeSlice:\n\u001b[0;32m---> 59\u001b[0m     res \u001b[39m=\u001b[39m \u001b[39msuper\u001b[39;49m()\u001b[39m.\u001b[39;49mfetch(x, \u001b[39m*\u001b[39;49m\u001b[39m*\u001b[39;49m\u001b[39mvars\u001b[39;49m)\n\u001b[1;32m     61\u001b[0m     reactivities \u001b[39m=\u001b[39m nuclear_reaction[\u001b[39mr\u001b[39m\u001b[39m\"\u001b[39m\u001b[39mD(t,n)\u001b[39m\u001b[39m\\\u001b[39m\u001b[39malpha\u001b[39m\u001b[39m\"\u001b[39m][\u001b[39m\"\u001b[39m\u001b[39mreactivities\u001b[39m\u001b[39m\"\u001b[39m]\n\u001b[1;32m     63\u001b[0m     nD: Expression \u001b[39m|\u001b[39m \u001b[39mNone\u001b[39;00m \u001b[39m=\u001b[39m \u001b[39mvars\u001b[39m\u001b[39m.\u001b[39mget(\u001b[39m\"\u001b[39m\u001b[39mion/D/density_thermal\u001b[39m\u001b[39m\"\u001b[39m)\n",
      "File \u001b[0;32m~/workspace/fytok/python/fytok/modules/CoreSources.py:106\u001b[0m, in \u001b[0;36mCoreSourcesSource.fetch\u001b[0;34m(self, x, **vars)\u001b[0m\n\u001b[1;32m    105\u001b[0m \u001b[39mdef\u001b[39;00m \u001b[39mfetch\u001b[39m(\u001b[39mself\u001b[39m, \u001b[39m/\u001b[39m, x: Expression, \u001b[39m*\u001b[39m\u001b[39m*\u001b[39m\u001b[39mvars\u001b[39m) \u001b[39m-\u001b[39m\u001b[39m>\u001b[39m CoreSourcesTimeSlice:\n\u001b[0;32m--> 106\u001b[0m     res: CoreSourcesTimeSlice \u001b[39m=\u001b[39m \u001b[39msuper\u001b[39;49m()\u001b[39m.\u001b[39;49mfetch(\u001b[39mlambda\u001b[39;49;00m o: o \u001b[39mif\u001b[39;49;00m \u001b[39mnot\u001b[39;49;00m \u001b[39misinstance\u001b[39;49m(o, Expression) \u001b[39melse\u001b[39;49;00m o(x))\n\u001b[1;32m    108\u001b[0m     res_1d \u001b[39m=\u001b[39m res\u001b[39m.\u001b[39mprofiles_1d\n\u001b[1;32m    110\u001b[0m     res_1d\u001b[39m.\u001b[39melectrons[\u001b[39m\"\u001b[39m\u001b[39mparticles\u001b[39m\u001b[39m\"\u001b[39m] \u001b[39m=\u001b[39m (\n\u001b[1;32m    111\u001b[0m         res_1d\u001b[39m.\u001b[39melectrons\u001b[39m.\u001b[39mparticles\n\u001b[1;32m    112\u001b[0m         \u001b[39m+\u001b[39m res_1d\u001b[39m.\u001b[39melectrons\u001b[39m.\u001b[39mparticles_decomposed\u001b[39m.\u001b[39mimplicit_part \u001b[39m*\u001b[39m \u001b[39mvars\u001b[39m\u001b[39m.\u001b[39mget(\u001b[39m\"\u001b[39m\u001b[39melectrons/density_thermal\u001b[39m\u001b[39m\"\u001b[39m, \u001b[39m0\u001b[39m)\n\u001b[1;32m    113\u001b[0m         \u001b[39m+\u001b[39m res_1d\u001b[39m.\u001b[39melectrons\u001b[39m.\u001b[39mparticles_decomposed\u001b[39m.\u001b[39mexplicit_part\n\u001b[1;32m    114\u001b[0m     )\n",
      "File \u001b[0;32m~/workspace/fytok/SpDM/python/spdm/data/Actor.py:186\u001b[0m, in \u001b[0;36mActor.fetch\u001b[0;34m(self, slice_index, *args, **kwargs)\u001b[0m\n\u001b[1;32m    184\u001b[0m     \u001b[39mreturn\u001b[39;00m t\n\u001b[1;32m    185\u001b[0m \u001b[39melse\u001b[39;00m:\n\u001b[0;32m--> 186\u001b[0m     \u001b[39mreturn\u001b[39;00m t\u001b[39m.\u001b[39;49mclone(\u001b[39m*\u001b[39;49margs, \u001b[39m*\u001b[39;49m\u001b[39m*\u001b[39;49mkwargs)\n",
      "File \u001b[0;32m~/workspace/fytok/SpDM/python/spdm/data/sp_property.py:122\u001b[0m, in \u001b[0;36mSpTree.clone\u001b[0;34m(self, func)\u001b[0m\n\u001b[1;32m    121\u001b[0m \u001b[39mdef\u001b[39;00m \u001b[39mclone\u001b[39m(\u001b[39mself\u001b[39m, func: typing\u001b[39m.\u001b[39mCallable[[typing\u001b[39m.\u001b[39mAny], typing\u001b[39m.\u001b[39mAny] \u001b[39m=\u001b[39m \u001b[39mNone\u001b[39;00m) \u001b[39m-\u001b[39m\u001b[39m>\u001b[39m typing\u001b[39m.\u001b[39mType[SpTree]:\n\u001b[0;32m--> 122\u001b[0m     \u001b[39mreturn\u001b[39;00m \u001b[39mself\u001b[39m\u001b[39m.\u001b[39m\u001b[39m__class__\u001b[39m(SpTree\u001b[39m.\u001b[39;49m_clone(\u001b[39mself\u001b[39;49m, func))\n",
      "File \u001b[0;32m~/workspace/fytok/SpDM/python/spdm/data/sp_property.py:113\u001b[0m, in \u001b[0;36mSpTree._clone\u001b[0;34m(obj, func)\u001b[0m\n\u001b[1;32m    111\u001b[0m     cache \u001b[39m=\u001b[39m {}\n\u001b[1;32m    112\u001b[0m     \u001b[39mfor\u001b[39;00m k, _ \u001b[39min\u001b[39;00m inspect\u001b[39m.\u001b[39mgetmembers(obj\u001b[39m.\u001b[39m\u001b[39m__class__\u001b[39m, \u001b[39mlambda\u001b[39;00m c: is_sp_property(c)):\n\u001b[0;32m--> 113\u001b[0m         cache[k] \u001b[39m=\u001b[39m SpTree\u001b[39m.\u001b[39;49m_clone(\u001b[39mgetattr\u001b[39;49m(obj, k, _not_found_), func)\n\u001b[1;32m    115\u001b[0m     \u001b[39mreturn\u001b[39;00m cache\n\u001b[1;32m    116\u001b[0m \u001b[39melif\u001b[39;00m func \u001b[39mis\u001b[39;00m \u001b[39mnot\u001b[39;00m \u001b[39mNone\u001b[39;00m:\n",
      "File \u001b[0;32m~/workspace/fytok/SpDM/python/spdm/data/sp_property.py:113\u001b[0m, in \u001b[0;36mSpTree._clone\u001b[0;34m(obj, func)\u001b[0m\n\u001b[1;32m    111\u001b[0m     cache \u001b[39m=\u001b[39m {}\n\u001b[1;32m    112\u001b[0m     \u001b[39mfor\u001b[39;00m k, _ \u001b[39min\u001b[39;00m inspect\u001b[39m.\u001b[39mgetmembers(obj\u001b[39m.\u001b[39m\u001b[39m__class__\u001b[39m, \u001b[39mlambda\u001b[39;00m c: is_sp_property(c)):\n\u001b[0;32m--> 113\u001b[0m         cache[k] \u001b[39m=\u001b[39m SpTree\u001b[39m.\u001b[39m_clone(\u001b[39mgetattr\u001b[39;49m(obj, k, _not_found_), func)\n\u001b[1;32m    115\u001b[0m     \u001b[39mreturn\u001b[39;00m cache\n\u001b[1;32m    116\u001b[0m \u001b[39melif\u001b[39;00m func \u001b[39mis\u001b[39;00m \u001b[39mnot\u001b[39;00m \u001b[39mNone\u001b[39;00m:\n",
      "File \u001b[0;32m~/workspace/fytok/SpDM/python/spdm/data/sp_property.py:333\u001b[0m, in \u001b[0;36mSpProperty.__get__\u001b[0;34m(self, instance, owner)\u001b[0m\n\u001b[1;32m    330\u001b[0m     \u001b[39mraise\u001b[39;00m \u001b[39mAttributeError\u001b[39;00m(\u001b[39mf\u001b[39m\u001b[39m\"\u001b[39m\u001b[39mproperty_name is None!\u001b[39m\u001b[39m\"\u001b[39m)\n\u001b[1;32m    332\u001b[0m \u001b[39mwith\u001b[39;00m \u001b[39mself\u001b[39m\u001b[39m.\u001b[39mlock:\n\u001b[0;32m--> 333\u001b[0m     value \u001b[39m=\u001b[39m instance\u001b[39m.\u001b[39;49m__get_property__(\n\u001b[1;32m    334\u001b[0m         property_name,\n\u001b[1;32m    335\u001b[0m         _type_hint\u001b[39m=\u001b[39;49mtype_hint,\n\u001b[1;32m    336\u001b[0m         _getter\u001b[39m=\u001b[39;49m\u001b[39mself\u001b[39;49m\u001b[39m.\u001b[39;49mgetter,\n\u001b[1;32m    337\u001b[0m         \u001b[39m*\u001b[39;49m\u001b[39m*\u001b[39;49mmetadata,\n\u001b[1;32m    338\u001b[0m     )\n\u001b[1;32m    340\u001b[0m     \u001b[39mif\u001b[39;00m \u001b[39mself\u001b[39m\u001b[39m.\u001b[39mstrict \u001b[39mand\u001b[39;00m value \u001b[39mis\u001b[39;00m _not_found_:\n\u001b[1;32m    341\u001b[0m         \u001b[39mraise\u001b[39;00m \u001b[39mAttributeError\u001b[39;00m(\n\u001b[1;32m    342\u001b[0m             \u001b[39mf\u001b[39m\u001b[39m\"\u001b[39m\u001b[39mThe value of property \u001b[39m\u001b[39m'\u001b[39m\u001b[39m{\u001b[39;00mowner\u001b[39m.\u001b[39m\u001b[39m__name__\u001b[39m\u001b[39m \u001b[39m\u001b[39mif\u001b[39;00m\u001b[39m \u001b[39mowner\u001b[39m \u001b[39m\u001b[39mis\u001b[39;00m\u001b[39m \u001b[39m\u001b[39mnot\u001b[39;00m\u001b[39m \u001b[39m\u001b[39mNone\u001b[39;00m\u001b[39m \u001b[39m\u001b[39melse\u001b[39;00m\u001b[39m \u001b[39m\u001b[39m'\u001b[39m\u001b[39mnone\u001b[39m\u001b[39m'\u001b[39m\u001b[39m}\u001b[39;00m\u001b[39m.\u001b[39m\u001b[39m{\u001b[39;00mproperty_name\u001b[39m}\u001b[39;00m\u001b[39m'\u001b[39m\u001b[39m is not assigned!\u001b[39m\u001b[39m\"\u001b[39m\n\u001b[1;32m    343\u001b[0m         )\n",
      "File \u001b[0;32m~/workspace/fytok/SpDM/python/spdm/data/sp_property.py:67\u001b[0m, in \u001b[0;36mSpTree.__get_property__\u001b[0;34m(self, key, *args, **kwargs)\u001b[0m\n\u001b[1;32m     66\u001b[0m \u001b[39mdef\u001b[39;00m \u001b[39m__get_property__\u001b[39m(\u001b[39mself\u001b[39m, key: \u001b[39mstr\u001b[39m, \u001b[39m*\u001b[39margs, \u001b[39m*\u001b[39m\u001b[39m*\u001b[39mkwargs) \u001b[39m-\u001b[39m\u001b[39m>\u001b[39m SpTree:\n\u001b[0;32m---> 67\u001b[0m     \u001b[39mreturn\u001b[39;00m \u001b[39mself\u001b[39;49m\u001b[39m.\u001b[39;49m_get(key, \u001b[39m*\u001b[39;49margs, \u001b[39m*\u001b[39;49m\u001b[39m*\u001b[39;49mkwargs)\n",
      "File \u001b[0;32m~/workspace/fytok/SpDM/python/spdm/data/HTree.py:471\u001b[0m, in \u001b[0;36mHTree._get\u001b[0;34m(self, query, _type_hint, *args, **kwargs)\u001b[0m\n\u001b[1;32m    468\u001b[0m         value \u001b[39m=\u001b[39m \u001b[39mself\u001b[39m\u001b[39m.\u001b[39m_get_as_list(query, \u001b[39m*\u001b[39margs, _type_hint\u001b[39m=\u001b[39m_type_hint, \u001b[39m*\u001b[39m\u001b[39m*\u001b[39mkwargs)\n\u001b[1;32m    470\u001b[0m \u001b[39melif\u001b[39;00m \u001b[39misinstance\u001b[39m(query, \u001b[39mstr\u001b[39m):\n\u001b[0;32m--> 471\u001b[0m     value \u001b[39m=\u001b[39m \u001b[39mself\u001b[39;49m\u001b[39m.\u001b[39;49m_get_as_dict(query, \u001b[39m*\u001b[39;49margs, _type_hint\u001b[39m=\u001b[39;49m_type_hint, \u001b[39m*\u001b[39;49m\u001b[39m*\u001b[39;49mkwargs)\n\u001b[1;32m    473\u001b[0m \u001b[39melif\u001b[39;00m \u001b[39misinstance\u001b[39m(query, \u001b[39mset\u001b[39m):  \u001b[39m# compound\u001b[39;00m\n\u001b[1;32m    474\u001b[0m     \u001b[39mraise\u001b[39;00m \u001b[39mNotImplementedError\u001b[39;00m(\u001b[39mf\u001b[39m\u001b[39m\"\u001b[39m\u001b[39mTODO: NamedDict\u001b[39m\u001b[39m\"\u001b[39m)\n",
      "File \u001b[0;32m~/workspace/fytok/SpDM/python/spdm/data/HTree.py:512\u001b[0m, in \u001b[0;36mHTree._get_as_dict\u001b[0;34m(self, key, default_value, *args, **kwargs)\u001b[0m\n\u001b[1;32m    509\u001b[0m \u001b[39melse\u001b[39;00m:\n\u001b[1;32m    510\u001b[0m     _entry \u001b[39m=\u001b[39m \u001b[39mNone\u001b[39;00m\n\u001b[0;32m--> 512\u001b[0m value \u001b[39m=\u001b[39m \u001b[39mself\u001b[39;49m\u001b[39m.\u001b[39;49m_as_child(\n\u001b[1;32m    513\u001b[0m     cache, key, \u001b[39m*\u001b[39;49margs, _entry\u001b[39m=\u001b[39;49m_entry, _type_hint\u001b[39m=\u001b[39;49m_type_hint, default_value\u001b[39m=\u001b[39;49mdefault_value, \u001b[39m*\u001b[39;49m\u001b[39m*\u001b[39;49mkwargs\n\u001b[1;32m    514\u001b[0m )\n\u001b[1;32m    516\u001b[0m \u001b[39mif\u001b[39;00m \u001b[39mself\u001b[39m\u001b[39m.\u001b[39m_cache \u001b[39mis\u001b[39;00m _not_found_ \u001b[39mor\u001b[39;00m \u001b[39mself\u001b[39m\u001b[39m.\u001b[39m_cache \u001b[39mis\u001b[39;00m \u001b[39mNone\u001b[39;00m:\n\u001b[1;32m    517\u001b[0m     \u001b[39mself\u001b[39m\u001b[39m.\u001b[39m_cache \u001b[39m=\u001b[39m {}\n",
      "File \u001b[0;32m~/workspace/fytok/SpDM/python/spdm/data/HTree.py:409\u001b[0m, in \u001b[0;36mHTree._as_child\u001b[0;34m(self, value, key, default_value, _type_hint, _entry, _parent, _getter, force, *args, **kwargs)\u001b[0m\n\u001b[1;32m    406\u001b[0m     \u001b[39mpass\u001b[39;00m\n\u001b[1;32m    408\u001b[0m \u001b[39melif\u001b[39;00m \u001b[39mnot\u001b[39;00m force \u001b[39mand\u001b[39;00m \u001b[39missubclass\u001b[39m(get_origin(_type_hint), HTree):\n\u001b[0;32m--> 409\u001b[0m     value \u001b[39m=\u001b[39m _type_hint(value, _entry\u001b[39m=\u001b[39;49m_entry, _parent\u001b[39m=\u001b[39;49m_parent, default_value\u001b[39m=\u001b[39;49mdefault_value, \u001b[39m*\u001b[39;49m\u001b[39m*\u001b[39;49mkwargs)\n\u001b[1;32m    411\u001b[0m \u001b[39melif\u001b[39;00m \u001b[39mnot\u001b[39;00m force \u001b[39mand\u001b[39;00m \u001b[39misinstance\u001b[39m(value, HTree):\n\u001b[1;32m    412\u001b[0m     value \u001b[39m=\u001b[39m value\u001b[39m.\u001b[39m__value__\n",
      "File \u001b[0;32m~/workspace/fytok/python/fytok/modules/Utilities.py:145\u001b[0m, in \u001b[0;36mCoreRadialGrid.__init__\u001b[0;34m(self, *args, **kwargs)\u001b[0m\n\u001b[1;32m    143\u001b[0m \u001b[39mif\u001b[39;00m \u001b[39mself\u001b[39m\u001b[39m.\u001b[39mpsi_norm \u001b[39mis\u001b[39;00m _not_found_:\n\u001b[1;32m    144\u001b[0m     \u001b[39mif\u001b[39;00m \u001b[39mself\u001b[39m\u001b[39m.\u001b[39mpsi \u001b[39mis\u001b[39;00m _not_found_:\n\u001b[0;32m--> 145\u001b[0m         \u001b[39mraise\u001b[39;00m \u001b[39mValueError\u001b[39;00m(\u001b[39m\"\u001b[39m\u001b[39mpsi_norm or psi must be provided\u001b[39m\u001b[39m\"\u001b[39m)\n\u001b[1;32m    146\u001b[0m     \u001b[39melif\u001b[39;00m \u001b[39mself\u001b[39m\u001b[39m.\u001b[39mpsi_axis \u001b[39mis\u001b[39;00m _not_found_ \u001b[39mor\u001b[39;00m \u001b[39mself\u001b[39m\u001b[39m.\u001b[39mpsi_boundary \u001b[39mis\u001b[39;00m _not_found_:\n\u001b[1;32m    147\u001b[0m         \u001b[39mself\u001b[39m[\u001b[39m\"\u001b[39m\u001b[39mpsi_axis\u001b[39m\u001b[39m\"\u001b[39m] \u001b[39m=\u001b[39m \u001b[39mself\u001b[39m\u001b[39m.\u001b[39mpsi\u001b[39m.\u001b[39mmin()\n",
      "\u001b[0;31mValueError\u001b[0m: psi_norm or psi must be provided"
     ]
    }
   ],
   "source": [
    "tokamak.transport_solver.refresh(\n",
    "    # boundary_condition={\n",
    "    #     \"ion/D/density_thermal\": [[0.0], [2.0e19]],\n",
    "    #     \"ion/T/density_thermal\": [[0.0], [2.0e19]],\n",
    "    #     \"ion/D/temperature\": [[0.0], [1000]],\n",
    "    #     \"ion/T/temperature\": [[0.0], [1000]],\n",
    "    #     \"electrons/temperature\": [[0.0], [1000]],\n",
    "    # },\n",
    "    equilibrium=tokamak.equilibrium,\n",
    "    core_transport=tokamak.core_transport,\n",
    "    core_sources=tokamak.core_sources,\n",
    ")"
   ]
  },
  {
   "cell_type": "code",
   "execution_count": null,
   "metadata": {},
   "outputs": [],
   "source": [
    "solver_1d = tokamak.transport_solver.time_slice.current.solver_1d\n",
    "fig = sp_view.plot(\n",
    "    sum(\n",
    "        [\n",
    "            [\n",
    "                (equ.primary_quantity.profile, equ.primary_quantity.identifier),\n",
    "                # (equ.primary_quantity.flux, f\"{equ.primary_quantity.identifier}_flux\"),\n",
    "                # (equ.primary_quantity.d_dr,f\"d({equ.primary_quantity.identifier})/dr\"),\n",
    "                # (equ.primary_quantity.dflux_dr, f\"d({equ.primary_quantity.identifier}_flux)/dr\"),\n",
    "            ]\n",
    "            for equ in solver_1d.equation\n",
    "        ],\n",
    "        [],\n",
    "    ),\n",
    "    x_axis=solver_1d.grid.rho_tor_norm,\n",
    ")"
   ]
  },
  {
   "cell_type": "code",
   "execution_count": null,
   "metadata": {},
   "outputs": [],
   "source": [
    "core_profiles_1d = tokamak.core_profiles.time_slice.current.profiles_1d"
   ]
  },
  {
   "cell_type": "code",
   "execution_count": null,
   "metadata": {},
   "outputs": [],
   "source": [
    "fig = sp_view.plot([\n",
    "    [\n",
    "        (core_profiles_1d.get(equ.primary_quantity.identifier), rf\"{equ.primary_quantity.identifier} astra\"),\n",
    "        (equ.primary_quantity.profile, rf\"{equ.primary_quantity.identifier}\")\n",
    "    ] for equ in solver_1d.equation\n",
    "],\n",
    "    x_axis=solver_1d.grid.rho_tor_norm\n",
    ")"
   ]
  },
  {
   "cell_type": "code",
   "execution_count": null,
   "metadata": {},
   "outputs": [],
   "source": [
    "core_sources_1d = tokamak.core_sources.source[0].time_slice.current.profiles_1d\n",
    "core_transport_1d = tokamak.core_transport.model[0].time_slice.current.profiles_1d\n",
    "\n",
    "fig = sp_view.plot(\n",
    "    [\n",
    "        # (core_sources_1d.electrons.energy, r\"$Q_e$\"),\n",
    "        (core_transport_1d.electrons.energy.d, r\"$\\chi_e$\"),\n",
    "        (core_transport_1d.electrons.energy.v, r\"$V^{pinch}_{Te}$\"),\n",
    "        # (core_sources_1d.electrons.energy_decomposed.explicit_part, r\"$Q_{e}$ explicit\"),\n",
    "        # (core_sources_1d.electrons.energy_decomposed.implicit_part, r\"$Q_{e}$ implicit\"),\n",
    "        (core_transport_1d.electrons.particles.d, r\"$D_e$\"),\n",
    "        (core_sources_1d.ion[0].energy, r\"$Q_D$\"),\n",
    "        (core_sources_1d.ion[1].energy, r\"$Q_T$\"),\n",
    "    ],\n",
    "    x_axis=solver_1d.grid.rho_tor_norm,\n",
    ")"
   ]
  },
  {
   "cell_type": "code",
   "execution_count": null,
   "metadata": {},
   "outputs": [],
   "source": [
    "equ = solver_1d.equation[1]\n",
    "a, b, c, d, e, f, g,*_ = equ.coefficient\n",
    "x = solver_1d.grid.rho_tor_norm\n",
    "y       = equ.primary_quantity.profile\n",
    "yp      = equ.primary_quantity.d_dr\n",
    "flux    = equ.primary_quantity.flux\n",
    "dflux   = equ.primary_quantity.dflux_dr\n",
    "fig = sp_view.plot([\n",
    "    a, b, c, d, e, f, g,\n",
    "    # [\n",
    "    #     (d*yp, \"$D$\"),\n",
    "    #     (e*y,   \"$v$\"),\n",
    "    #     # (flux,   f\"$\\Gamma$\"),\n",
    "    #     ((c*(f - g * y)).I, r\"$S$\"),  # $\\int c*(f - g \\cdot y)$\n",
    "    #     # ((-d*yp+e*y).I, r\"$\\Gamma$\"),\n",
    "    #     (-d*yp+e*y-(c*(f - g * y)).I, \"residual\"),\n",
    "\n",
    "    # ],\n",
    "    y, yp\n",
    "\n",
    "    # [\n",
    "\n",
    "    #     (dflux, {\"label\": r\"$d\\Gamma$\"}),\n",
    "    #     # (Function(flux, x).d(), r\"$d\\Gamma$\"),\n",
    "    #     ((c*(f - g * y)), r\"$c*(f - g \\cdot y)$\"),\n",
    "    # ],\n",
    "],\n",
    "    x_axis=x)"
   ]
  }
 ],
 "metadata": {
  "kernelspec": {
   "display_name": "Python 3",
   "language": "python",
   "name": "python3"
  },
  "language_info": {
   "codemirror_mode": {
    "name": "ipython",
    "version": 3
   },
   "file_extension": ".py",
   "mimetype": "text/x-python",
   "name": "python",
   "nbconvert_exporter": "python",
   "pygments_lexer": "ipython3",
   "version": "3.10.12"
  }
 },
 "nbformat": 4,
 "nbformat_minor": 2
}
