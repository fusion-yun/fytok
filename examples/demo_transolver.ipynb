{
 "cells": [
  {
   "cell_type": "code",
   "execution_count": 1,
   "metadata": {},
   "outputs": [
    {
     "name": "stdout",
     "output_type": "stream",
     "text": [
      "\u001b[0;34m2023-12-06 20:24:55,653 [    spdm]     INFO: \n",
      "###################################################################################################\n",
      "\n",
      "    ______      _____     _\n",
      "   / ____/_  __|_   _|__ | | __\n",
      "  / /_  / / / /  | |/ _ \\| |/ /\n",
      " / __/ / /_/ /   | | (_) |   <\n",
      "/_/    \\__, /    |_|\\___/|_|\\_\\\n",
      "      /____/\n",
      "\n",
      " Copyright (c) 2021-present Zhi YU (Institute of Plasma Physics Chinese Academy of Sciences)\n",
      "            \n",
      " url: https://gitee.com/openfusion/fytok_tutorial \n",
      "      https://github.com/fusion-yun/fytok_tutorial\n",
      "\n",
      " version = alpha  (spdm=beta extension=0.2.2.dev19+g14adade.d20231205, imas_version=v3_38_1_dirty)\n",
      "\n",
      " Run by salmon at 2023-12-06T20:24:55.262440.\n",
      " Job ID: fytok_salmon_surface_21249\n",
      "\n",
      "###################################################################################################\n",
      "\u001b[0m\n"
     ]
    }
   ],
   "source": [
    "import pathlib\n",
    "import numpy as np\n",
    "\n",
    "from fytok.Tokamak import Tokamak\n",
    "\n",
    "from spdm.view import View as sp_view\n",
    "\n",
    "input_path = pathlib.Path(\"/home/salmon/workspace/fytok_data/data/15MA inductive - burn\")"
   ]
  },
  {
   "cell_type": "code",
   "execution_count": 2,
   "metadata": {},
   "outputs": [
    {
     "name": "stdout",
     "output_type": "stream",
     "text": [
      "\u001b[0;34m2023-12-06 20:24:55,965 [    spdm]     INFO: Load module spdm.plugins.data.plugin_xml\u001b[0m\n",
      "\u001b[0;34m2023-12-06 20:24:56,243 [    spdm]     INFO: Load module spdm.plugins.data.plugin_iterprofiles\u001b[0m\n",
      "\u001b[0;34m2023-12-06 20:24:56,325 [    spdm]     INFO: Load module spdm.plugins.data.plugin_geqdsk\u001b[0m\n"
     ]
    }
   ],
   "source": [
    "tokamak = Tokamak(\n",
    "    f\"file+iterprofiles://{next(input_path.glob('*ASTRA.xls')).absolute().as_posix()}\",\n",
    "    f\"file+geqdsk://{next(input_path.glob('**/g*.txt')).absolute().as_posix()}\",\n",
    "    device=\"iter\",\n",
    "    shot=900003,\n",
    "    core_transport={\"model\": [{\"code\": {\"name\": \"dummy\"}}]},\n",
    "    core_sources={\n",
    "        \"source\": [\n",
    "            {\"code\": {\"name\": \"dummy\"}},\n",
    "            {\"code\": {\"name\": \"fusion_reaction\"}},\n",
    "            # {\"code\": {\"name\": \"collisional_equipartition\"}},\n",
    "        ]\n",
    "    },\n",
    "    transport_solver={\n",
    "        \"code\": {\n",
    "            \"name\": \"fy_trans\",\n",
    "            \"parameters\": {\n",
    "                \"rho_tor_norm\": np.linspace(0.01, 0.995, 128),\n",
    "                \"control_parameters\": {\n",
    "                    \"bvp_rms_mask\": [0.96],\n",
    "                    \"hyper_diff\": 0.0001,\n",
    "                    \"max_nodes\": 512,\n",
    "                    \"verbose\": 2,\n",
    "                },\n",
    "            },\n",
    "        },\n",
    "        \"primary_coordinate\": {\"index\": (index := 0), \"label\": r\"\\bar{rho}_{tor_norm}\"},\n",
    "        \"equations\": [\n",
    "            # fmt: off\n",
    "            {\"identifier\": \"ion/D/density\",             \"boundary_condition\": [2, 1]},\n",
    "            {\"identifier\": \"ion/T/density\",             \"boundary_condition\": [2, 1]},\n",
    "            {\"identifier\": \"ion/He/density\",            \"boundary_condition\": [2, 1]},\n",
    "            {\"identifier\": \"ion/alpha/density\",         \"boundary_condition\": [2, 1]},\n",
    "\n",
    "            {\"identifier\": \"ion/D/temperature\",         \"boundary_condition\": [2, 1]},\n",
    "            {\"identifier\": \"ion/T/temperature\",         \"boundary_condition\": [2, 1]},\n",
    "            {\"identifier\": \"ion/He/temperature\",        \"boundary_condition\": [2, 1]},\n",
    "\n",
    "            {\"identifier\": \"electrons/temperature\",     \"boundary_condition\": [2, 1]},\n",
    "            # fmt: on\n",
    "        ],\n",
    "    },\n",
    ")"
   ]
  },
  {
   "cell_type": "code",
   "execution_count": 3,
   "metadata": {},
   "outputs": [
    {
     "name": "stdout",
     "output_type": "stream",
     "text": [
      "\u001b[0;34m2023-12-06 20:24:56,748 [    spdm]     INFO: Load module fytok.plugins.equilibrium.fy_eq\u001b[0m\n",
      "\u001b[0;34m2023-12-06 20:24:56,754 [    spdm]     INFO: Initialize module fytok.modules.Wall \u001b[0m\n",
      "\u001b[0;34m2023-12-06 20:24:56,758 [    spdm]     INFO: Initialize module fytok.modules.TF \u001b[0m\n",
      "\u001b[0;34m2023-12-06 20:24:56,764 [    spdm]     INFO: Initialize module fytok.modules.Magnetics \u001b[0m\n",
      "\u001b[0;34m2023-12-06 20:24:56,769 [    spdm]     INFO: Initialize module fytok.modules.PFActive \u001b[0m\n",
      "\u001b[0;34m2023-12-06 20:24:56,775 [    spdm]     INFO: Initialize module fytok.plugins.equilibrium.FyEqAnalyze \u001b[0m\n",
      "\u001b[0;34m2023-12-06 20:24:56,779 [    spdm]     INFO: Initialize module fytok.modules.CoreProfiles \u001b[0m\n",
      "\u001b[0;34m2023-12-06 20:24:56,783 [    spdm]     INFO: Initialize module fytok.modules.CoreSources \u001b[0m\n",
      "\u001b[0;34m2023-12-06 20:24:56,790 [    spdm]     INFO: Load module fytok.plugins.core_sources.source.fusion_reaction\u001b[0m\n",
      "\u001b[0;34m2023-12-06 20:24:56,793 [    spdm]     INFO: Initialize module fytok.plugins.core_sources.source.fusion_reaction \u001b[0m\n"
     ]
    },
    {
     "data": {
      "text/plain": [
       "<fytok.plugins.core_sources.source.fusion_reaction.FusionReaction at 0x7f8065db02e0>"
      ]
     },
     "execution_count": 3,
     "metadata": {},
     "output_type": "execute_result"
    }
   ],
   "source": [
    "tokamak.core_sources.source[1]"
   ]
  },
  {
   "cell_type": "code",
   "execution_count": 4,
   "metadata": {},
   "outputs": [
    {
     "name": "stdout",
     "output_type": "stream",
     "text": [
      "\u001b[0;34m2023-12-06 20:24:56,819 [    spdm]     INFO: Load module fytok.plugins.transport_solver_numerics.fy_trans\u001b[0m\n",
      "\u001b[0;34m2023-12-06 20:24:56,827 [    spdm]     INFO: Initialize module fytok.modules.CoreTransport \u001b[0m\n",
      "\u001b[0;34m2023-12-06 20:24:56,833 [    spdm]     INFO: Initialize module fytok.plugins.transport_solver_numerics.fy_trans \u001b[0m\n",
      "\u001b[0;34m2023-12-06 20:24:56,857 [    spdm]     INFO: Load module spdm.mesh.mesh_rectangular\u001b[0m\n",
      "\u001b[0;34m2023-12-06 20:24:57,965 [    spdm]     INFO: Initialize module fytok.plugins.core_transport.model.dummy \u001b[0m\n",
      "\u001b[0;34m2023-12-06 20:24:57,968 [    spdm]     INFO: Initialize module fytok.plugins.core_transport.model.dummy \u001b[0m\n",
      "\u001b[0;34m2023-12-06 20:24:58,010 [    spdm]     INFO: Initialize module fytok.plugins.core_sources.source.dummy \u001b[0m\n"
     ]
    },
    {
     "ename": "TypeError",
     "evalue": "unsupported operand type(s) for *: 'tags' and 'int'",
     "output_type": "error",
     "traceback": [
      "\u001b[0;31m---------------------------------------------------------------------------\u001b[0m",
      "\u001b[0;31mTypeError\u001b[0m                                 Traceback (most recent call last)",
      "\u001b[1;32m/home/salmon/workspace/fytok/examples/demo_transolver.ipynb Cell 4\u001b[0m line \u001b[0;36m1\n\u001b[0;32m----> <a href='vscode-notebook-cell://wsl%2Bubuntu-22.04/home/salmon/workspace/fytok/examples/demo_transolver.ipynb#W3sdnNjb2RlLXJlbW90ZQ%3D%3D?line=0'>1</a>\u001b[0m tokamak\u001b[39m.\u001b[39;49mtransport_solver\u001b[39m.\u001b[39;49mrefresh(\n\u001b[1;32m      <a href='vscode-notebook-cell://wsl%2Bubuntu-22.04/home/salmon/workspace/fytok/examples/demo_transolver.ipynb#W3sdnNjb2RlLXJlbW90ZQ%3D%3D?line=1'>2</a>\u001b[0m     time\u001b[39m=\u001b[39;49m\u001b[39m0.0\u001b[39;49m,\n\u001b[1;32m      <a href='vscode-notebook-cell://wsl%2Bubuntu-22.04/home/salmon/workspace/fytok/examples/demo_transolver.ipynb#W3sdnNjb2RlLXJlbW90ZQ%3D%3D?line=2'>3</a>\u001b[0m     initial_value\u001b[39m=\u001b[39;49m[\u001b[39m1.0e19\u001b[39;49m, \u001b[39m1.0e19\u001b[39;49m, \u001b[39m0.10e19\u001b[39;49m, \u001b[39m0.10e19\u001b[39;49m,\u001b[39m1000\u001b[39;49m, \u001b[39m1000\u001b[39;49m, \u001b[39m1000\u001b[39;49m, \u001b[39m1000\u001b[39;49m],\n\u001b[1;32m      <a href='vscode-notebook-cell://wsl%2Bubuntu-22.04/home/salmon/workspace/fytok/examples/demo_transolver.ipynb#W3sdnNjb2RlLXJlbW90ZQ%3D%3D?line=3'>4</a>\u001b[0m     boundary_value\u001b[39m=\u001b[39;49m[\n\u001b[1;32m      <a href='vscode-notebook-cell://wsl%2Bubuntu-22.04/home/salmon/workspace/fytok/examples/demo_transolver.ipynb#W3sdnNjb2RlLXJlbW90ZQ%3D%3D?line=4'>5</a>\u001b[0m         [[\u001b[39m0.0\u001b[39;49m], [\u001b[39m2.0e19\u001b[39;49m]],   \u001b[39m#   D \u001b[39;49;00m\n\u001b[1;32m      <a href='vscode-notebook-cell://wsl%2Bubuntu-22.04/home/salmon/workspace/fytok/examples/demo_transolver.ipynb#W3sdnNjb2RlLXJlbW90ZQ%3D%3D?line=5'>6</a>\u001b[0m         [[\u001b[39m0.0\u001b[39;49m], [\u001b[39m2.0e19\u001b[39;49m]],   \u001b[39m#   T \u001b[39;49;00m\n\u001b[1;32m      <a href='vscode-notebook-cell://wsl%2Bubuntu-22.04/home/salmon/workspace/fytok/examples/demo_transolver.ipynb#W3sdnNjb2RlLXJlbW90ZQ%3D%3D?line=6'>7</a>\u001b[0m         [[\u001b[39m0.0\u001b[39;49m], [\u001b[39m0.5e18\u001b[39;49m]],   \u001b[39m#   He\u001b[39;49;00m\n\u001b[1;32m      <a href='vscode-notebook-cell://wsl%2Bubuntu-22.04/home/salmon/workspace/fytok/examples/demo_transolver.ipynb#W3sdnNjb2RlLXJlbW90ZQ%3D%3D?line=7'>8</a>\u001b[0m         [[\u001b[39m0.0\u001b[39;49m], [\u001b[39m0.0\u001b[39;49m]],      \u001b[39m#   alpha\u001b[39;49;00m\n\u001b[1;32m      <a href='vscode-notebook-cell://wsl%2Bubuntu-22.04/home/salmon/workspace/fytok/examples/demo_transolver.ipynb#W3sdnNjb2RlLXJlbW90ZQ%3D%3D?line=8'>9</a>\u001b[0m \n\u001b[1;32m     <a href='vscode-notebook-cell://wsl%2Bubuntu-22.04/home/salmon/workspace/fytok/examples/demo_transolver.ipynb#W3sdnNjb2RlLXJlbW90ZQ%3D%3D?line=9'>10</a>\u001b[0m         [[\u001b[39m0.0\u001b[39;49m], [\u001b[39m1000\u001b[39;49m]],     \u001b[39m#   D\u001b[39;49;00m\n\u001b[1;32m     <a href='vscode-notebook-cell://wsl%2Bubuntu-22.04/home/salmon/workspace/fytok/examples/demo_transolver.ipynb#W3sdnNjb2RlLXJlbW90ZQ%3D%3D?line=10'>11</a>\u001b[0m         [[\u001b[39m0.0\u001b[39;49m], [\u001b[39m1000\u001b[39;49m]],     \u001b[39m#   T\u001b[39;49;00m\n\u001b[1;32m     <a href='vscode-notebook-cell://wsl%2Bubuntu-22.04/home/salmon/workspace/fytok/examples/demo_transolver.ipynb#W3sdnNjb2RlLXJlbW90ZQ%3D%3D?line=11'>12</a>\u001b[0m         [[\u001b[39m0.0\u001b[39;49m], [\u001b[39m1000\u001b[39;49m]],     \u001b[39m#   He\u001b[39;49;00m\n\u001b[1;32m     <a href='vscode-notebook-cell://wsl%2Bubuntu-22.04/home/salmon/workspace/fytok/examples/demo_transolver.ipynb#W3sdnNjb2RlLXJlbW90ZQ%3D%3D?line=12'>13</a>\u001b[0m         [[\u001b[39m0.0\u001b[39;49m], [\u001b[39m1000\u001b[39;49m]],     \u001b[39m#   electron\u001b[39;49;00m\n\u001b[1;32m     <a href='vscode-notebook-cell://wsl%2Bubuntu-22.04/home/salmon/workspace/fytok/examples/demo_transolver.ipynb#W3sdnNjb2RlLXJlbW90ZQ%3D%3D?line=13'>14</a>\u001b[0m     ],\n\u001b[1;32m     <a href='vscode-notebook-cell://wsl%2Bubuntu-22.04/home/salmon/workspace/fytok/examples/demo_transolver.ipynb#W3sdnNjb2RlLXJlbW90ZQ%3D%3D?line=14'>15</a>\u001b[0m )\n",
      "File \u001b[0;32m~/workspace/fytok/python/fytok/modules/TransportSolverNumerics.py:284\u001b[0m, in \u001b[0;36mTransportSolverNumerics.refresh\u001b[0;34m(self, equilibrium, core_transport, core_sources, core_profiles, *args, **kwargs)\u001b[0m\n\u001b[1;32m    275\u001b[0m \u001b[39mdef\u001b[39;00m \u001b[39mrefresh\u001b[39m(\n\u001b[1;32m    276\u001b[0m     \u001b[39mself\u001b[39m,\n\u001b[1;32m    277\u001b[0m     \u001b[39m*\u001b[39margs,\n\u001b[0;32m   (...)\u001b[0m\n\u001b[1;32m    282\u001b[0m     \u001b[39m*\u001b[39m\u001b[39m*\u001b[39mkwargs,\n\u001b[1;32m    283\u001b[0m ):\n\u001b[0;32m--> 284\u001b[0m     \u001b[39msuper\u001b[39;49m()\u001b[39m.\u001b[39;49mrefresh(\n\u001b[1;32m    285\u001b[0m         \u001b[39m*\u001b[39;49margs,\n\u001b[1;32m    286\u001b[0m         equilibrium\u001b[39m=\u001b[39;49mequilibrium,\n\u001b[1;32m    287\u001b[0m         core_transport\u001b[39m=\u001b[39;49mcore_transport,\n\u001b[1;32m    288\u001b[0m         core_sources\u001b[39m=\u001b[39;49mcore_sources,\n\u001b[1;32m    289\u001b[0m         core_profiles\u001b[39m=\u001b[39;49mcore_profiles,\n\u001b[1;32m    290\u001b[0m         \u001b[39m*\u001b[39;49m\u001b[39m*\u001b[39;49mkwargs,\n\u001b[1;32m    291\u001b[0m     )\n",
      "File \u001b[0;32m~/workspace/fytok/SpDM/python/spdm/data/Actor.py:182\u001b[0m, in \u001b[0;36mActor.refresh\u001b[0;34m(self, time, *args, **kwargs)\u001b[0m\n\u001b[1;32m    176\u001b[0m \u001b[39m\u001b[39m\u001b[39m\"\"\"更新当前 Actor 的状态。\u001b[39;00m\n\u001b[1;32m    177\u001b[0m \u001b[39m若 time 为 None 或者与当前时间一致，则更新当前状态树，并执行 self.iteration+=1\u001b[39;00m\n\u001b[1;32m    178\u001b[0m \u001b[39m否则，向 time_slice 队列中压入新的时间片。\u001b[39;00m\n\u001b[1;32m    179\u001b[0m \u001b[39m\"\"\"\u001b[39;00m\n\u001b[1;32m    180\u001b[0m kwargs \u001b[39m=\u001b[39m \u001b[39mself\u001b[39m\u001b[39m.\u001b[39minputs\u001b[39m.\u001b[39mupdate(kwargs)  \u001b[39m# 更新 inputs，返回将不是 HTreeNode 的 input\u001b[39;00m\n\u001b[0;32m--> 182\u001b[0m \u001b[39mself\u001b[39;49m\u001b[39m.\u001b[39;49mpreprocess(\u001b[39m*\u001b[39;49margs, time\u001b[39m=\u001b[39;49mtime, \u001b[39m*\u001b[39;49m\u001b[39m*\u001b[39;49mkwargs)\n\u001b[1;32m    184\u001b[0m \u001b[39mself\u001b[39m\u001b[39m.\u001b[39mexecute(\u001b[39mself\u001b[39m\u001b[39m.\u001b[39mtime_slice\u001b[39m.\u001b[39mcurrent, \u001b[39mself\u001b[39m\u001b[39m.\u001b[39mtime_slice\u001b[39m.\u001b[39mprevious)\n\u001b[1;32m    186\u001b[0m \u001b[39mself\u001b[39m\u001b[39m.\u001b[39mpostprocess(\u001b[39mself\u001b[39m\u001b[39m.\u001b[39mtime_slice\u001b[39m.\u001b[39mcurrent)\n",
      "File \u001b[0;32m~/workspace/fytok/python/fytok/plugins/transport_solver_numerics/fy_trans.py:291\u001b[0m, in \u001b[0;36mFyTrans.preprocess\u001b[0;34m(self, *args, **kwargs)\u001b[0m\n\u001b[1;32m    289\u001b[0m \u001b[39mif\u001b[39;00m core_sources \u001b[39mis\u001b[39;00m \u001b[39mnot\u001b[39;00m \u001b[39mNone\u001b[39;00m:\n\u001b[1;32m    290\u001b[0m     \u001b[39mfor\u001b[39;00m source \u001b[39min\u001b[39;00m core_sources\u001b[39m.\u001b[39msource:\n\u001b[0;32m--> 291\u001b[0m         source_1d \u001b[39m=\u001b[39m source\u001b[39m.\u001b[39;49mfetch(\u001b[39m*\u001b[39;49m\u001b[39m*\u001b[39;49m\u001b[39mvars\u001b[39;49m)\u001b[39m.\u001b[39mprofiles_1d\n\u001b[1;32m    292\u001b[0m         \u001b[39mfor\u001b[39;00m spec, d \u001b[39min\u001b[39;00m coeff\u001b[39m.\u001b[39mitems():\n\u001b[1;32m    293\u001b[0m             d[\u001b[39m\"\u001b[39m\u001b[39mS\u001b[39m\u001b[39m\"\u001b[39m] \u001b[39m+\u001b[39m\u001b[39m=\u001b[39m source_1d\u001b[39m.\u001b[39mget(\u001b[39mf\u001b[39m\u001b[39m\"\u001b[39m\u001b[39m{\u001b[39;00mspec\u001b[39m}\u001b[39;00m\u001b[39m/particles\u001b[39m\u001b[39m\"\u001b[39m, \u001b[39m0\u001b[39m)\n",
      "File \u001b[0;32m~/workspace/fytok/python/fytok/modules/CoreSources.py:128\u001b[0m, in \u001b[0;36mCoreSourcesSource.fetch\u001b[0;34m(self, x, **vars)\u001b[0m\n\u001b[1;32m    122\u001b[0m res: CoreSourcesTimeSlice \u001b[39m=\u001b[39m \u001b[39msuper\u001b[39m()\u001b[39m.\u001b[39mfetch(\u001b[39mlambda\u001b[39;00m o: o \u001b[39mif\u001b[39;00m \u001b[39mnot\u001b[39;00m \u001b[39misinstance\u001b[39m(o, Expression) \u001b[39melse\u001b[39;00m o(x))\n\u001b[1;32m    124\u001b[0m res_1d \u001b[39m=\u001b[39m res\u001b[39m.\u001b[39mprofiles_1d\n\u001b[1;32m    126\u001b[0m res_1d\u001b[39m.\u001b[39melectrons[\u001b[39m\"\u001b[39m\u001b[39mparticles\u001b[39m\u001b[39m\"\u001b[39m] \u001b[39m=\u001b[39m (\n\u001b[1;32m    127\u001b[0m     res_1d\u001b[39m.\u001b[39melectrons\u001b[39m.\u001b[39mparticles\n\u001b[0;32m--> 128\u001b[0m     \u001b[39m+\u001b[39m res_1d\u001b[39m.\u001b[39;49melectrons\u001b[39m.\u001b[39;49mparticles_decomposed\u001b[39m.\u001b[39;49mimplicit_part \u001b[39m*\u001b[39;49m \u001b[39mvars\u001b[39;49m\u001b[39m.\u001b[39;49mget(\u001b[39m\"\u001b[39;49m\u001b[39melectrons/density_thermal\u001b[39;49m\u001b[39m\"\u001b[39;49m, \u001b[39m0\u001b[39;49m)\n\u001b[1;32m    129\u001b[0m     \u001b[39m+\u001b[39m res_1d\u001b[39m.\u001b[39melectrons\u001b[39m.\u001b[39mparticles_decomposed\u001b[39m.\u001b[39mexplicit_part\n\u001b[1;32m    130\u001b[0m )\n\u001b[1;32m    132\u001b[0m res_1d\u001b[39m.\u001b[39melectrons[\u001b[39m\"\u001b[39m\u001b[39menergy\u001b[39m\u001b[39m\"\u001b[39m] \u001b[39m=\u001b[39m (\n\u001b[1;32m    133\u001b[0m     res_1d\u001b[39m.\u001b[39melectrons\u001b[39m.\u001b[39menergy\n\u001b[1;32m    134\u001b[0m     \u001b[39m+\u001b[39m res_1d\u001b[39m.\u001b[39melectrons\u001b[39m.\u001b[39menergy_decomposed\u001b[39m.\u001b[39mimplicit_part \u001b[39m*\u001b[39m \u001b[39mvars\u001b[39m\u001b[39m.\u001b[39mget(\u001b[39m\"\u001b[39m\u001b[39melectrons/temperature\u001b[39m\u001b[39m\"\u001b[39m, \u001b[39m0\u001b[39m)\n\u001b[1;32m    135\u001b[0m     \u001b[39m+\u001b[39m res_1d\u001b[39m.\u001b[39melectrons\u001b[39m.\u001b[39menergy_decomposed\u001b[39m.\u001b[39mexplicit_part\n\u001b[1;32m    136\u001b[0m )\n\u001b[1;32m    138\u001b[0m \u001b[39mfor\u001b[39;00m ion \u001b[39min\u001b[39;00m res_1d\u001b[39m.\u001b[39mion:\n",
      "\u001b[0;31mTypeError\u001b[0m: unsupported operand type(s) for *: 'tags' and 'int'"
     ]
    }
   ],
   "source": [
    "tokamak.transport_solver.refresh(\n",
    "    time=0.0,\n",
    "    initial_value=[1.0e19, 1.0e19, 0.10e19, 0.10e19,1000, 1000, 1000, 1000],\n",
    "    boundary_value=[\n",
    "        [[0.0], [2.0e19]],   #   D \n",
    "        [[0.0], [2.0e19]],   #   T \n",
    "        [[0.0], [0.5e18]],   #   He\n",
    "        [[0.0], [0.0]],      #   alpha\n",
    "\n",
    "        [[0.0], [1000]],     #   D\n",
    "        [[0.0], [1000]],     #   T\n",
    "        [[0.0], [1000]],     #   He\n",
    "        [[0.0], [1000]],     #   electron\n",
    "    ],\n",
    ")"
   ]
  },
  {
   "cell_type": "code",
   "execution_count": null,
   "metadata": {},
   "outputs": [],
   "source": [
    "solver_1d = tokamak.transport_solver.time_slice.current\n",
    "fig = sp_view.plot(\n",
    "    solver_1d.grid.rho_tor_norm,\n",
    "    *sum(\n",
    "        [\n",
    "            [\n",
    "                # (equ.primary_quantity.profile, equ.primary_quantity.identifier),\n",
    "                # (equ.primary_quantity.flux, f\"{equ.primary_quantity.identifier}_flux\"),\n",
    "                (equ.primary_quantity.d_dr, f\"d({equ.primary_quantity.identifier})/dr\"),\n",
    "                (equ.primary_quantity.dflux_dr, f\"d({equ.primary_quantity.identifier}_flux)/dr\"),\n",
    "            ]\n",
    "            for equ in solver_1d.equation\n",
    "        ],\n",
    "        [],\n",
    "    ),\n",
    ")"
   ]
  },
  {
   "cell_type": "code",
   "execution_count": null,
   "metadata": {},
   "outputs": [],
   "source": [
    "core_profiles_1d = tokamak.core_profiles.time_slice.current.profiles_1d\n",
    "fig = sp_view.plot(\n",
    "    solver_1d.grid.rho_tor_norm,\n",
    "    *[\n",
    "        (\n",
    "            [\n",
    "                (\n",
    "                    core_profiles_1d.get(equ.primary_quantity.identifier,0),\n",
    "                    rf\"{equ.primary_quantity.identifier.split('/')[-2]} astra\",\n",
    "                ),\n",
    "                (equ.primary_quantity.profile, rf\"{equ.primary_quantity.identifier.split('/')[-2]} \"),\n",
    "            ],\n",
    "            {\"y_label\": equ.primary_quantity.identifier.split(\"/\")[-1]},\n",
    "        )\n",
    "        for equ in solver_1d.equation\n",
    "    ],\n",
    ")"
   ]
  },
  {
   "cell_type": "code",
   "execution_count": null,
   "metadata": {},
   "outputs": [],
   "source": [
    "s = 0\n",
    "core_sources_1d = tokamak.core_sources.source[s].time_slice.current.profiles_1d\n",
    "core_transport_1d = tokamak.core_transport.model[s].time_slice.current.profiles_1d\n",
    "\n",
    "fig = sp_view.plot(\n",
    "    core_sources_1d.grid.rho_tor_norm,\n",
    "    # (core_sources_1d.electrons.energy, r\"$Q_e$\"),\n",
    "    (core_transport_1d.electrons.energy.d, r\"$\\chi_e$\"),\n",
    "    (core_transport_1d.electrons.energy.v, r\"$V^{pinch}_{Te}$\"),\n",
    "    # (core_sources_1d.electrons.energy_decomposed.explicit_part, r\"$Q_{e}$ explicit\"),\n",
    "    # (core_sources_1d.electrons.energy_decomposed.implicit_part, r\"$Q_{e}$ implicit\"),\n",
    "    (core_transport_1d.electrons.particles.d, r\"$D_e$\"),\n",
    "    (core_transport_1d.electrons.particles.v, r\"$V_e$\"),\n",
    "    *[(ion.particles, rf\"$S_{{{ion.label}}}$\") for ion in core_sources_1d.ion],\n",
    "    *[(ion.energy, rf\"$Q_{{{ion.label}}}$\") for ion in core_sources_1d.ion],\n",
    "    x_label=r\"$\\bar{\\rho}_{tor}$\",\n",
    ")"
   ]
  },
  {
   "cell_type": "code",
   "execution_count": null,
   "metadata": {},
   "outputs": [],
   "source": [
    "vars = sum([[equ.primary_quantity.profile, equ.primary_quantity.flux] for equ in solver_1d.equation], [])\n",
    "equ = solver_1d.equation[0]\n",
    "*_, (a, b, c, d, e, f, g) = equ.coefficient\n",
    "x = solver_1d.grid.rho_tor_norm\n",
    "# y = equ.primary_quantity.profile\n",
    "# yp = equ.primary_quantity.d_dr\n",
    "# flux = equ.primary_quantity.flux\n",
    "# dflux = equ.primary_quantity.dflux_dr\n",
    "fig = sp_view.plot(\n",
    "    x,\n",
    "    (a(x, *vars), \"a\"),\n",
    "    (b(x, *vars), \"b\"),\n",
    "    # (c(x,*vars), \"c\"),\n",
    "    (d(x, *vars), \"d\"),\n",
    "    (e(x, *vars), \"e\"),\n",
    "    (f(x, *vars), \"f\"),\n",
    "    # (g(x, *vars), \"g\"),\n",
    "    # [\n",
    "    #     (d*yp, \"$D$\"),\n",
    "    #     (e*y,   \"$v$\"),\n",
    "    #     # (flux,   f\"$\\Gamma$\"),\n",
    "    #     ((c*(f - g * y)).I, r\"$S$\"),  # $\\int c*(f - g \\cdot y)$\n",
    "    #     # ((-d*yp+e*y).I, r\"$\\Gamma$\"),\n",
    "    #     (-d*yp+e*y-(c*(f - g * y)).I, \"residual\"),\n",
    "    # ],\n",
    "    # y, yp\n",
    "    # [\n",
    "    #     (dflux, {\"label\": r\"$d\\Gamma$\"}),\n",
    "    #     # (Function(flux, x).d(), r\"$d\\Gamma$\"),\n",
    "    #     ((c*(f - g * y)), r\"$c*(f - g \\cdot y)$\"),\n",
    "    # ],\n",
    ")"
   ]
  },
  {
   "cell_type": "code",
   "execution_count": null,
   "metadata": {},
   "outputs": [],
   "source": []
  }
 ],
 "metadata": {
  "kernelspec": {
   "display_name": "Python 3",
   "language": "python",
   "name": "python3"
  },
  "language_info": {
   "codemirror_mode": {
    "name": "ipython",
    "version": 3
   },
   "file_extension": ".py",
   "mimetype": "text/x-python",
   "name": "python",
   "nbconvert_exporter": "python",
   "pygments_lexer": "ipython3",
   "version": "3.10.12"
  }
 },
 "nbformat": 4,
 "nbformat_minor": 2
}
