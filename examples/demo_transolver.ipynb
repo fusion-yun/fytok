{
 "cells": [
  {
   "cell_type": "code",
   "execution_count": 1,
   "metadata": {},
   "outputs": [
    {
     "name": "stdout",
     "output_type": "stream",
     "text": [
      "\u001b[0;34m2024-01-07 09:44:52,429 [    spdm]     INFO: \n",
      "###################################################################################################\n",
      "\n",
      "    ______      _____     _\n",
      "   / ____/_  __|_   _|__ | | __\n",
      "  / /_  / / / /  | |/ _ \\| |/ /\n",
      " / __/ / /_/ /   | | (_) |   <\n",
      "/_/    \\__, /    |_|\\___/|_|\\_\\\n",
      "      /____/\n",
      "\n",
      " Copyright (c) 2021-present Zhi YU (Institute of Plasma Physics Chinese Academy of Sciences)\n",
      "            \n",
      " url: https://gitee.com/openfusion/fytok_tutorial \n",
      "      https://github.com/fusion-yun/fytok_tutorial\n",
      "\n",
      " version = alpha  (spdm=beta extension=0.2.2.dev19+g14adade.d20231205, imas_version=v3_38_1_dirty)\n",
      "\n",
      " Run by salmon at 2024-01-07T09:44:52.217601.\n",
      " Job ID: fytok_salmon_surface_3322\n",
      "\n",
      "###################################################################################################\n",
      "\u001b[0m\n"
     ]
    }
   ],
   "source": [
    "import pathlib\n",
    "import scipy.constants\n",
    "import numpy as np\n",
    "import pandas as pd\n",
    "import matplotlib.pyplot as plt\n",
    "from fytok.Tokamak import Tokamak\n",
    "from fytok.modules.CoreProfiles import CoreProfiles\n",
    "from fytok.modules.Equilibrium import Equilibrium\n",
    "from spdm.view import View as sp_view\n",
    "from spdm.data.Path import Path\n",
    "from spdm.data.Function import Function\n",
    "\n",
    "data_path = pathlib.Path(\"/home/salmon/workspace/fytok_data/data/15MA inductive - burn\")\n",
    "\n",
    "astra_profiles = pd.read_excel(\n",
    "    next(data_path.glob(\"*ASTRA.xls\")).absolute().as_posix(), sheet_name=1, header=10, usecols=\"B:BN\"\n",
    ")"
   ]
  },
  {
   "cell_type": "code",
   "execution_count": 2,
   "metadata": {},
   "outputs": [
    {
     "name": "stdout",
     "output_type": "stream",
     "text": [
      "\u001b[0;34m2024-01-07 09:44:52,640 [    spdm]     INFO: Load module spdm.plugins.data.plugin_iterprofiles\u001b[0m\n",
      "\u001b[0;34m2024-01-07 09:44:52,694 [    spdm]     INFO: Initialize module fytok.modules.CoreProfiles \u001b[0m\n"
     ]
    },
    {
     "ename": "ModuleNotFoundError",
     "evalue": "Can not find module as subclass of 'Equilibrium' None from [None] in {}!",
     "output_type": "error",
     "traceback": [
      "\u001b[0;31m---------------------------------------------------------------------------\u001b[0m",
      "\u001b[0;31mModuleNotFoundError\u001b[0m                       Traceback (most recent call last)",
      "Cell \u001b[0;32mIn[2], line 7\u001b[0m\n\u001b[1;32m      1\u001b[0m core_profiles_astra \u001b[38;5;241m=\u001b[39m CoreProfiles(\n\u001b[1;32m      2\u001b[0m     \u001b[38;5;124mf\u001b[39m\u001b[38;5;124m\"\u001b[39m\u001b[38;5;124mfile+iterprofiles://\u001b[39m\u001b[38;5;132;01m{\u001b[39;00m\u001b[38;5;28mnext\u001b[39m(data_path\u001b[38;5;241m.\u001b[39mglob(\u001b[38;5;124m'\u001b[39m\u001b[38;5;124m*ASTRA.xls\u001b[39m\u001b[38;5;124m'\u001b[39m))\u001b[38;5;241m.\u001b[39mabsolute()\u001b[38;5;241m.\u001b[39mas_posix()\u001b[38;5;132;01m}\u001b[39;00m\u001b[38;5;124m#core_profiles\u001b[39m\u001b[38;5;124m\"\u001b[39m\n\u001b[1;32m      3\u001b[0m )\n\u001b[1;32m      5\u001b[0m core_profiles_1d_astra \u001b[38;5;241m=\u001b[39m core_profiles_astra\u001b[38;5;241m.\u001b[39mtime_slice\u001b[38;5;241m.\u001b[39mcurrent\u001b[38;5;241m.\u001b[39mprofiles_1d\n\u001b[0;32m----> 7\u001b[0m equilibrium_astra \u001b[38;5;241m=\u001b[39m \u001b[43mEquilibrium\u001b[49m\u001b[43m(\u001b[49m\u001b[38;5;124;43mf\u001b[39;49m\u001b[38;5;124;43m\"\u001b[39;49m\u001b[38;5;124;43mfile+geqdsk://\u001b[39;49m\u001b[38;5;132;43;01m{\u001b[39;49;00m\u001b[38;5;28;43mnext\u001b[39;49m\u001b[43m(\u001b[49m\u001b[43mdata_path\u001b[49m\u001b[38;5;241;43m.\u001b[39;49m\u001b[43mglob\u001b[49m\u001b[43m(\u001b[49m\u001b[38;5;124;43m'\u001b[39;49m\u001b[38;5;124;43m**/g*.txt\u001b[39;49m\u001b[38;5;124;43m'\u001b[39;49m\u001b[43m)\u001b[49m\u001b[43m)\u001b[49m\u001b[38;5;241;43m.\u001b[39;49m\u001b[43mabsolute\u001b[49m\u001b[43m(\u001b[49m\u001b[43m)\u001b[49m\u001b[38;5;241;43m.\u001b[39;49m\u001b[43mas_posix\u001b[49m\u001b[43m(\u001b[49m\u001b[43m)\u001b[49m\u001b[38;5;132;43;01m}\u001b[39;49;00m\u001b[38;5;124;43m#equilibrium\u001b[39;49m\u001b[38;5;124;43m\"\u001b[39;49m\u001b[43m)\u001b[49m\n",
      "File \u001b[0;32m~/workspace/fytok/python/fytok/modules/Utilities.py:106\u001b[0m, in \u001b[0;36mModule.__init__\u001b[0;34m(self, *args, **kwargs)\u001b[0m\n\u001b[1;32m    104\u001b[0m \u001b[38;5;28;01mif\u001b[39;00m \u001b[38;5;28mself\u001b[39m\u001b[38;5;241m.\u001b[39m\u001b[38;5;18m__class__\u001b[39m \u001b[38;5;129;01mis\u001b[39;00m Module \u001b[38;5;129;01mor\u001b[39;00m \u001b[38;5;124m\"\u001b[39m\u001b[38;5;124m_plugin_prefix\u001b[39m\u001b[38;5;124m\"\u001b[39m \u001b[38;5;129;01min\u001b[39;00m \u001b[38;5;28mvars\u001b[39m(\u001b[38;5;28mself\u001b[39m\u001b[38;5;241m.\u001b[39m\u001b[38;5;18m__class__\u001b[39m):\n\u001b[1;32m    105\u001b[0m     prev_cls \u001b[38;5;241m=\u001b[39m \u001b[38;5;28mself\u001b[39m\u001b[38;5;241m.\u001b[39m\u001b[38;5;18m__class__\u001b[39m\n\u001b[0;32m--> 106\u001b[0m     \u001b[38;5;28;43mself\u001b[39;49m\u001b[38;5;241;43m.\u001b[39;49m\u001b[38;5;18;43m__class__\u001b[39;49m\u001b[38;5;241;43m.\u001b[39;49m\u001b[43m__dispatch_init__\u001b[49m\u001b[43m(\u001b[49m\u001b[38;5;28;43;01mNone\u001b[39;49;00m\u001b[43m,\u001b[49m\u001b[43m \u001b[49m\u001b[38;5;28;43mself\u001b[39;49m\u001b[43m,\u001b[49m\u001b[43m \u001b[49m\u001b[38;5;241;43m*\u001b[39;49m\u001b[43margs\u001b[49m\u001b[43m,\u001b[49m\u001b[43m \u001b[49m\u001b[38;5;241;43m*\u001b[39;49m\u001b[38;5;241;43m*\u001b[39;49m\u001b[43mkwargs\u001b[49m\u001b[43m)\u001b[49m\n\u001b[1;32m    107\u001b[0m     \u001b[38;5;28;01mif\u001b[39;00m \u001b[38;5;28mself\u001b[39m\u001b[38;5;241m.\u001b[39m\u001b[38;5;18m__class__\u001b[39m \u001b[38;5;129;01mis\u001b[39;00m \u001b[38;5;129;01mnot\u001b[39;00m prev_cls:\n\u001b[1;32m    108\u001b[0m         \u001b[38;5;28;01mreturn\u001b[39;00m\n",
      "File \u001b[0;32m~/workspace/fytok/SpDM/python/spdm/utils/plugin.py:105\u001b[0m, in \u001b[0;36mPluggable.__dispatch_init__\u001b[0;34m(cls, sub_list, self, *args, **kwargs)\u001b[0m\n\u001b[1;32m    102\u001b[0m     n_cls\u001b[38;5;241m.\u001b[39m\u001b[38;5;21m__init__\u001b[39m(\u001b[38;5;28mself\u001b[39m, \u001b[38;5;241m*\u001b[39margs, \u001b[38;5;241m*\u001b[39m\u001b[38;5;241m*\u001b[39mkwargs)\n\u001b[1;32m    104\u001b[0m \u001b[38;5;28;01melse\u001b[39;00m:\n\u001b[0;32m--> 105\u001b[0m     \u001b[38;5;28;01mraise\u001b[39;00m \u001b[38;5;167;01mModuleNotFoundError\u001b[39;00m(\n\u001b[1;32m    106\u001b[0m         \u001b[38;5;124mf\u001b[39m\u001b[38;5;124m\"\u001b[39m\u001b[38;5;124mCan not find module as subclass of \u001b[39m\u001b[38;5;124m'\u001b[39m\u001b[38;5;132;01m{\u001b[39;00m\u001b[38;5;28mcls\u001b[39m\u001b[38;5;241m.\u001b[39m\u001b[38;5;18m__name__\u001b[39m\u001b[38;5;132;01m}\u001b[39;00m\u001b[38;5;124m'\u001b[39m\u001b[38;5;124m \u001b[39m\u001b[38;5;132;01m{\u001b[39;00mn_cls\u001b[38;5;132;01m}\u001b[39;00m\u001b[38;5;124m from \u001b[39m\u001b[38;5;132;01m{\u001b[39;00msub_list\u001b[38;5;132;01m}\u001b[39;00m\u001b[38;5;124m in \u001b[39m\u001b[38;5;132;01m{\u001b[39;00m\u001b[38;5;28mcls\u001b[39m\u001b[38;5;241m.\u001b[39m_plugin_registry\u001b[38;5;132;01m}\u001b[39;00m\u001b[38;5;124m!\u001b[39m\u001b[38;5;124m\"\u001b[39m\n\u001b[1;32m    107\u001b[0m     )\n",
      "\u001b[0;31mModuleNotFoundError\u001b[0m: Can not find module as subclass of 'Equilibrium' None from [None] in {}!"
     ]
    }
   ],
   "source": [
    "core_profiles_astra = CoreProfiles(\n",
    "    f\"file+iterprofiles://{next(data_path.glob('*ASTRA.xls')).absolute().as_posix()}#core_profiles\"\n",
    ")\n",
    "\n",
    "core_profiles_1d_astra = core_profiles_astra.time_slice.current.profiles_1d\n",
    "\n",
    "equilibrium_astra = Equilibrium(f\"file+geqdsk://{next(data_path.glob('**/g*.txt')).absolute().as_posix()}#equilibrium\")\n"
   ]
  },
  {
   "cell_type": "code",
   "execution_count": null,
   "metadata": {},
   "outputs": [],
   "source": [
    "tokamak = Tokamak(\n",
    "    f\"file+iterprofiles://{next(data_path.glob('*ASTRA.xls')).absolute().as_posix()}\",\n",
    "    f\"file+geqdsk://{next(data_path.glob('**/g*.txt')).absolute().as_posix()}\",\n",
    "    device=\"iter\",\n",
    "    shot=900003,\n",
    "    equilibrium={\"code\": {\"parameters\": {\"psi_norm\": np.linspace(0.01, 0.999, 64)}}},\n",
    "    core_transport={\n",
    "        \"model\": [\n",
    "            {\"code\": {\"name\": \"dummy\"}},\n",
    "            # {\"code\": {\"name\": \"fast_alpha\"}},\n",
    "        ]\n",
    "    },\n",
    "    core_sources={\n",
    "        \"source\": [\n",
    "            {\"code\": {\"name\": \"dummy\"}},\n",
    "            # {\"code\": {\"name\": \"fusion\", \"parameters\": {\"fusion_reactions\": [\"D(t,n)alpha\"]}}},\n",
    "            # {\"code\": {\"name\": \"radiation\"}},\n",
    "            # {\"code\": {\"name\": \"synchrotron_radiation\"}},\n",
    "            # {\"code\": {\"name\": \"collisional_equipartition\"}},\n",
    "        ]\n",
    "    },\n",
    "    transport_solver={\n",
    "        \"code\": {\n",
    "            \"name\": \"fy_trans\",\n",
    "            \"parameters\": {\n",
    "                \"rho_tor_norm\": np.linspace(0.01, 0.995, 128),\n",
    "                # \"bvp_rms_mask\": [0.96],\n",
    "                \"hyper_diff\": 1.0e-5,\n",
    "                \"max_nodes\": 257,\n",
    "                \"bc_tol\": 1,\n",
    "                \"verbose\": 2,\n",
    "                \"units\": {\n",
    "                    \"*/density\": 1.0e21,\n",
    "                    \"*/density_flux\": 1.0e24,\n",
    "                    \"ion/alpha/density\": 1.0e18,\n",
    "                    \"ion/alpha/density_flux\": 1.0e21,\n",
    "                    \"*/temperature\": 1.0e6,\n",
    "                    \"*/temperature_flux\": 1.0e27,\n",
    "                },\n",
    "            },\n",
    "        },\n",
    "        \"ion_thermal\": [\"D\", \"T\"],\n",
    "        \"ion_non_thermal\": [\"alpha\", \"He\"],\n",
    "        \"impurities\": [\"Ar\", \"Be\"],\n",
    "        \"boundary_condition_type\": {\n",
    "            # fmt: off\n",
    "            # psi                          at axis \\frac{d\\psi}{dx}=0  , at boundary \\psi=?\n",
    "            \"psi\"                       : 1, \n",
    "            # density                      at axis \\Gamma_s=0          , at boundary n=?\n",
    "            \"*/density\"                 : 1, \n",
    "            # temperatur                   at axis \\frac{dT}{dx}=0     , at boundary T=?\n",
    "            \"*/temperature\"             : 1,\n",
    "            # fmt: on\n",
    "        },\n",
    "    },\n",
    ")\n",
    "solver = tokamak.transport_solver"
   ]
  },
  {
   "cell_type": "code",
   "execution_count": null,
   "metadata": {},
   "outputs": [],
   "source": [
    "solver.initialize()\n",
    "solver.refresh(\n",
    "    time=0.0,\n",
    "    # fmt:off\n",
    "    initial_value={\n",
    "        \"psi\":0.0,\n",
    "        \"ion/D/density\":                    1.0e19,\n",
    "        \"ion/T/density\":                    1.0e19,\n",
    "        \"ion/He/density\":                   1.0,\n",
    "        \"ion/alpha/density\":                1.0,\n",
    "\n",
    "        \"ion/D/temperature\":                2.0e3,\n",
    "        \"ion/T/temperature\":                2.0e3,\n",
    "        \"ion/He/temperature\":               2.0e3,\n",
    "        \"electrons/temperature\":            2.0e3,\n",
    "    },\n",
    "    boundary_value={\n",
    "        \"ion/D/density\":                    1.3e19, \n",
    "        \"ion/T/density\":                    1.3e19, \n",
    "        \"ion/He/density\":                   1.0, \n",
    "        \"ion/alpha/density\":                1.0, \n",
    "\n",
    "        \"ion/D/temperature\":                200,   \n",
    "        \"ion/T/temperature\":                200,   \n",
    "        \"ion/He/temperature\":               200,   \n",
    "        \"electrons/temperature\":            200,   \n",
    "    },\n",
    "    # fmt:on\n",
    ")\n",
    "solver_1d = tokamak.transport_solver.time_slice.current"
   ]
  },
  {
   "cell_type": "code",
   "execution_count": null,
   "metadata": {},
   "outputs": [],
   "source": [
    "core_profiles_1d = tokamak.transport_solver.fetch()\n",
    "core_profiles_1d.grid.psi_norm"
   ]
  },
  {
   "cell_type": "code",
   "execution_count": null,
   "metadata": {},
   "outputs": [],
   "source": [
    "tokamak.flush()"
   ]
  },
  {
   "cell_type": "code",
   "execution_count": null,
   "metadata": {},
   "outputs": [],
   "source": [
    "fig = sp_view.plot(\n",
    "    solver_1d.grid.rho_tor_norm,\n",
    "    [\n",
    "        (core_profiles_1d.psi, r\"$\\psi$\"),\n",
    "        (\n",
    "            equilibrium_astra.time_slice.current.profiles_1d.psi(solver_1d.grid.psi_norm),\n",
    "            {\"label\": r\"$\\psi$ astra\", \"$matplotlib\": {\"linestyle\": \"dashed\"}},\n",
    "        ),\n",
    "    ],\n",
    "    *[\n",
    "        [\n",
    "            (Path(equ.identifier).get(core_profiles_1d, 0), f\"{equ.identifier} \"),\n",
    "            (\n",
    "                Path(equ.identifier).get(core_profiles_1d_astra, 0),\n",
    "                {\"label\": f\"{equ.identifier} astra\", \"$matplotlib\": {\"linestyle\": \"dashed\"}},\n",
    "            ),\n",
    "        ]\n",
    "        for equ in solver_1d.equations\n",
    "        if equ.identifier != \"psi\"\n",
    "    ],\n",
    ")"
   ]
  },
  {
   "cell_type": "code",
   "execution_count": null,
   "metadata": {},
   "outputs": [],
   "source": [
    "fig = sp_view.plot(\n",
    "    solver_1d.grid.rho_tor_norm,\n",
    "    [\n",
    "        (core_profiles_1d.ion[\"alpha\"].density, r\"$\\alpha$\"),\n",
    "        (core_profiles_1d.ion[\"He\"].density, r\"He\"),\n",
    "        (core_profiles_1d.ion[\"He\"].density + core_profiles_1d.ion[\"alpha\"].density, r\"He+$\\alpha$\"),\n",
    "        (core_profiles_1d_astra.ion[\"He\"].density, {\"label\": f\"He astra\", \"$matplotlib\": {\"linestyle\": \"dashed\"}}),\n",
    "    ],\n",
    "    fontsize=10,\n",
    ")"
   ]
  },
  {
   "cell_type": "code",
   "execution_count": null,
   "metadata": {},
   "outputs": [],
   "source": [
    "source_1d = tokamak.core_sources.source[0].time_slice.current.profiles_1d\n",
    "fig = sp_view.plot(\n",
    "    source_1d.grid.rho_tor_norm,\n",
    "    [(source_1d.electrons.particles, r\"$S_{e}$\")] + [(ion.particles, rf\"$S_{{{ion.label}}}$\") for ion in source_1d.ion],\n",
    "    [(source_1d.electrons.energy, r\"$Q_{e}$\")],\n",
    "    [(ion.energy, rf\"$Q_{{{ion.label}}}$\") for ion in source_1d.ion],\n",
    "    x_label=r\"$\\bar{\\rho}$ [-]\",\n",
    "    fontsize=12,\n",
    ")"
   ]
  },
  {
   "cell_type": "code",
   "execution_count": null,
   "metadata": {},
   "outputs": [],
   "source": []
  },
  {
   "cell_type": "code",
   "execution_count": null,
   "metadata": {},
   "outputs": [],
   "source": [
    "source_1d.ion._entry"
   ]
  },
  {
   "cell_type": "code",
   "execution_count": null,
   "metadata": {},
   "outputs": [],
   "source": [
    "source_1d = tokamak.core_sources.source[1].time_slice.current.profiles_1d\n",
    "fig = sp_view.plot(\n",
    "    source_1d.grid.rho_tor_norm,\n",
    "    [\n",
    "        (core_profiles_1d.electrons.temperature, r\"$T_{e}$\"),\n",
    "        *[(ion.temperature, rf\"$T_{{{ion.label}}}$\") for ion in core_profiles_1d.ion],\n",
    "    ],  # [(source_1d.electrons.particles, r\"$S_{e}$\")] + [(ion.particles, rf\"$S_{{{ion.label}}}$\") for ion in source_1d.ion],\n",
    "    [\n",
    "        (source_1d.electrons.energy, {\"label\": r\"$Q_{e}$\", \"$matplotlib\": {\"linestyle\": \"-\", \"marker\": \".\"}}),\n",
    "        *[(ion.energy, rf\"$Q_{{{ion.label}}}$\") for ion in source_1d.ion],\n",
    "    ],\n",
    "    x_label=r\"$\\bar{\\rho}$ [-]\",\n",
    "    fontsize=12,\n",
    ")"
   ]
  },
  {
   "cell_type": "code",
   "execution_count": null,
   "metadata": {},
   "outputs": [],
   "source": [
    "astra_rho_tor_norm = astra_profiles[\"x\"].values\n",
    "fig = sp_view.plot(\n",
    "    source_1d.grid.rho_tor_norm,\n",
    "    (\n",
    "        Function(astra_rho_tor_norm, astra_profiles[\"Poh\"].values * 1.0e6 / scipy.constants.electron_volt),\n",
    "        r\"$Q_{oh}$ astra\",\n",
    "    ),\n",
    "    [\n",
    "        (tokamak.core_sources.source[1].time_slice.current.profiles_1d.electrons.energy, r\"$Q_{e}$\"),\n",
    "        *[\n",
    "            (ion.energy, rf\"$Q_{{{ion.label}}}$\")\n",
    "            for ion in tokamak.core_sources.source[1].time_slice.current.profiles_1d.ion\n",
    "        ],\n",
    "    ],\n",
    "    [\n",
    "        (\n",
    "            Function(astra_rho_tor_norm, astra_profiles[\"Pdte\"].values * 1.0e6 / scipy.constants.electron_volt),\n",
    "            r\"$Q_{dte}$ astra\",\n",
    "        ),\n",
    "        (\n",
    "            Function(astra_rho_tor_norm, astra_profiles[\"Pdti\"].values * 1.0e6 / scipy.constants.electron_volt),\n",
    "            r\"$Q_{dti}$ astra\",\n",
    "        ),\n",
    "        (\n",
    "            Function(astra_rho_tor_norm, (astra_profiles[\"Pdt\"].values) * 1.0e6 / scipy.constants.electron_volt),\n",
    "            r\"$Q_{dt}$ astra total\",\n",
    "        ),\n",
    "    ],\n",
    "    *[\n",
    "        (\n",
    "            Function(astra_rho_tor_norm, astra_profiles[\"Peic\"].values * 1.0e6 / scipy.constants.electron_volt),\n",
    "            r\"$Q_{e}$ astra\",\n",
    "        ),\n",
    "        (source_1d.electrons.energy, r\"$Q_{e}$\"),\n",
    "    ],\n",
    "    x_label=r\"$\\bar{\\rho}$ [-]\",\n",
    "    fontsize=10,\n",
    ")"
   ]
  },
  {
   "cell_type": "code",
   "execution_count": null,
   "metadata": {},
   "outputs": [],
   "source": [
    "source_1d = tokamak.core_sources.source[2].time_slice.current.profiles_1d\n",
    "fig = sp_view.plot(\n",
    "    source_1d.grid.rho_tor_norm,\n",
    "    [(source_1d.electrons.particles, r\"$S_{e}$\")] + [(ion.particles, rf\"$S_{{{ion.label}}}$\") for ion in source_1d.ion],\n",
    "    [(source_1d.electrons.energy, r\"$Q_{e}$\")],\n",
    "    [(ion.energy, rf\"$Q_{{{ion.label}}}$\") for ion in source_1d.ion],\n",
    "    x_label=r\"$\\bar{\\rho}$ [-]\",\n",
    "    fontsize=12,\n",
    ")"
   ]
  },
  {
   "cell_type": "code",
   "execution_count": null,
   "metadata": {},
   "outputs": [],
   "source": [
    "fig = sp_view.plot(\n",
    "    solver_1d.grid.rho_tor_norm,\n",
    "    *sum(\n",
    "        [\n",
    "            [\n",
    "                # (solver_1d.Y0[2 * idx], f\"d({equ.identifier})/dr\"),\n",
    "                # (solver_1d.Y0[2 * idx + 1], f\"d({equ.identifier}_flux)/dr\"),\n",
    "                (equ.d_dr, f\"d({equ.identifier})/dr\"),\n",
    "                (equ.dflux_dr, f\"d({equ.identifier}_flux)/dr\"),\n",
    "            ]\n",
    "            for idx, equ in enumerate(solver_1d.equations)\n",
    "        ],\n",
    "        [],\n",
    "    ),\n",
    ")"
   ]
  },
  {
   "cell_type": "code",
   "execution_count": null,
   "metadata": {},
   "outputs": [],
   "source": [
    "trans_1d = tokamak.core_transport.model[0].time_slice.current.profiles_1d\n",
    "fig = sp_view.plot(\n",
    "    trans_1d.grid_d.rho_tor_norm,\n",
    "    (\n",
    "        [\n",
    "            (trans_1d.ion[0].particles.d, trans_1d.ion[0].label),\n",
    "            (trans_1d.ion[2].particles.d, trans_1d.ion[2].label),\n",
    "        ],\n",
    "        {\"y_label\": \"D\"},\n",
    "    ),\n",
    "    (\n",
    "        [\n",
    "            (trans_1d.ion[0].particles.v, trans_1d.ion[0].label),\n",
    "            (trans_1d.ion[2].particles.v, trans_1d.ion[2].label),\n",
    "        ],\n",
    "        {\"y_label\": \"v\"},\n",
    "    ),\n",
    ")"
   ]
  },
  {
   "cell_type": "code",
   "execution_count": null,
   "metadata": {},
   "outputs": [],
   "source": [
    "source_1d = tokamak.core_sources.source[0].time_slice.current.profiles_1d\n",
    "fig = sp_view.plot(\n",
    "    source_1d.grid.rho_tor_norm,\n",
    "    (\n",
    "        [\n",
    "            (source_1d.ion[0].particles, source_1d.ion[0].label),\n",
    "            (source_1d.ion[2].particles, source_1d.ion[2].label),\n",
    "        ],\n",
    "        {\"y_label\": \"Particles\"},\n",
    "    ),\n",
    "    (\n",
    "        [\n",
    "            (source_1d.ion[0].energy, source_1d.ion[0].label),\n",
    "            (source_1d.ion[2].energy, source_1d.ion[2].label),\n",
    "        ],\n",
    "        {\"y_label\": \"Energy\"},\n",
    "    ),\n",
    ")"
   ]
  }
 ],
 "metadata": {
  "kernelspec": {
   "display_name": "Python 3",
   "language": "python",
   "name": "python3"
  },
  "language_info": {
   "codemirror_mode": {
    "name": "ipython",
    "version": 3
   },
   "file_extension": ".py",
   "mimetype": "text/x-python",
   "name": "python",
   "nbconvert_exporter": "python",
   "pygments_lexer": "ipython3",
   "version": "3.10.12"
  }
 },
 "nbformat": 4,
 "nbformat_minor": 2
}
