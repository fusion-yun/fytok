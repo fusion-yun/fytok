{
 "cells": [
  {
   "cell_type": "code",
   "execution_count": 1,
   "metadata": {},
   "outputs": [
    {
     "name": "stdout",
     "output_type": "stream",
     "text": [
      "\u001b[0;34m2023-12-21 10:19:32,631 [    spdm]     INFO: \n",
      "###################################################################################################\n",
      "\n",
      "    ______      _____     _\n",
      "   / ____/_  __|_   _|__ | | __\n",
      "  / /_  / / / /  | |/ _ \\| |/ /\n",
      " / __/ / /_/ /   | | (_) |   <\n",
      "/_/    \\__, /    |_|\\___/|_|\\_\\\n",
      "      /____/\n",
      "\n",
      " Copyright (c) 2021-present Zhi YU (Institute of Plasma Physics Chinese Academy of Sciences)\n",
      "            \n",
      " url: https://gitee.com/openfusion/fytok_tutorial \n",
      "      https://github.com/fusion-yun/fytok_tutorial\n",
      "\n",
      " version = alpha  (spdm=beta extension=0.2.2.dev19+g14adade.d20231205, imas_version=v3_38_1_dirty)\n",
      "\n",
      " Run by salmon at 2023-12-21T10:19:32.126281.\n",
      " Job ID: fytok_salmon_surface_6310\n",
      "\n",
      "###################################################################################################\n",
      "\u001b[0m\n"
     ]
    }
   ],
   "source": [
    "import pathlib\n",
    "import numpy as np\n",
    "\n",
    "from fytok.Tokamak import Tokamak\n",
    "from spdm.view import View as sp_view\n",
    "\n",
    "data_path = pathlib.Path(\"/home/salmon/workspace/fytok_data/data/15MA inductive - burn\")"
   ]
  },
  {
   "cell_type": "code",
   "execution_count": 2,
   "metadata": {},
   "outputs": [
    {
     "name": "stdout",
     "output_type": "stream",
     "text": [
      "\u001b[0;34m2023-12-21 10:19:33,024 [    spdm]     INFO: Load module spdm.plugins.data.plugin_xml\u001b[0m\n",
      "\u001b[0;34m2023-12-21 10:19:33,245 [    spdm]     INFO: Load module spdm.plugins.data.plugin_iterprofiles\u001b[0m\n",
      "\u001b[0;34m2023-12-21 10:19:33,338 [    spdm]     INFO: Load module spdm.plugins.data.plugin_geqdsk\u001b[0m\n"
     ]
    }
   ],
   "source": [
    "tokamak = Tokamak(\n",
    "    f\"file+iterprofiles://{next(data_path.glob('*ASTRA.xls')).absolute().as_posix()}\",\n",
    "    f\"file+geqdsk://{next(data_path.glob('**/g*.txt')).absolute().as_posix()}\",\n",
    "    device=\"iter\",\n",
    "    shot=900003,\n",
    "    equilibrium={\"code\": {\"parameters\": {\"psi_norm\": np.linspace(0.01, 0.996, 64)}}},\n",
    "    core_transport={\n",
    "        \"model\": [\n",
    "            {\"code\": {\"name\": \"dummy\"}},\n",
    "            # {\"code\": {\"name\": \"fast_alpha\"}},\n",
    "        ]\n",
    "    },\n",
    "    core_sources={\n",
    "        \"source\": [\n",
    "            {\"code\": {\"name\": \"dummy\"}},\n",
    "            {\"code\": {\"name\": \"collisional_equipartition\"}},\n",
    "            # {\"code\": {\"name\": \"fusion_reaction\", \"parameters\": {\"reactions\": [\"D(t,n)alpha\"]}}},\n",
    "            # {\"code\": {\"name\": \"slowing_down\", \"parameters\": {\"species\": [\"alpha\"]}}},\n",
    "        ]\n",
    "    },\n",
    "    transport_solver={\n",
    "        \"code\": {\n",
    "            \"name\": \"fy_trans\",\n",
    "            \"parameters\": {\n",
    "                \"rho_tor_norm\": np.linspace(0.01, 1.0, 128),\n",
    "                \"bvp_rms_mask\": [0.96],\n",
    "                \"hyper_diff\": 0.0001,\n",
    "                \"max_nodes\": 512,\n",
    "                \"verbose\": 2,\n",
    "            },\n",
    "        },\n",
    "        \"thermal_particle\": [\"D\", \"T\"],\n",
    "        # \"fast_particle\": [\"alpha\"],\n",
    "        \"impurities\": [\"Ar\", \"Be\"],\n",
    "        \"boundary_condition_type\": {\n",
    "            # fmt: off\n",
    "            \"*/density\"         : (2, 1),\n",
    "            \"*/temperature\"             : (2, 1),\n",
    "            \"electrons/temperature\"     : (2, 1),\n",
    "            # fmt: on\n",
    "        },\n",
    "    },\n",
    ")"
   ]
  },
  {
   "cell_type": "code",
   "execution_count": 3,
   "metadata": {},
   "outputs": [
    {
     "name": "stdout",
     "output_type": "stream",
     "text": [
      "\u001b[0;34m2023-12-21 10:19:33,385 [    spdm]     INFO: Load module fytok.plugins.transport_solver_numerics.fy_trans\u001b[0m\n",
      "\u001b[0;34m2023-12-21 10:19:33,690 [    spdm]     INFO: Load module fytok.plugins.equilibrium.fy_eq\u001b[0m\n",
      "\u001b[0;34m2023-12-21 10:19:33,694 [    spdm]     INFO: Initialize module fytok.modules.Wall \u001b[0m\n",
      "\u001b[0;34m2023-12-21 10:19:33,700 [    spdm]     INFO: Initialize module fytok.modules.TF \u001b[0m\n",
      "\u001b[0;34m2023-12-21 10:19:33,708 [    spdm]     INFO: Initialize module fytok.modules.Magnetics \u001b[0m\n",
      "\u001b[0;34m2023-12-21 10:19:33,713 [    spdm]     INFO: Initialize module fytok.modules.PFActive \u001b[0m\n",
      "\u001b[0;34m2023-12-21 10:19:33,718 [    spdm]     INFO: Initialize module fytok.plugins.equilibrium.fy_eq \u001b[0m\n",
      "\u001b[0;34m2023-12-21 10:19:33,729 [    spdm]     INFO: Initialize module fytok.modules.CoreProfiles \u001b[0m\n",
      "\u001b[0;34m2023-12-21 10:19:33,733 [    spdm]     INFO: Initialize module fytok.modules.CoreTransport \u001b[0m\n",
      "\u001b[0;34m2023-12-21 10:19:33,740 [    spdm]     INFO: Initialize module fytok.modules.CoreSources \u001b[0m\n",
      "\u001b[0;34m2023-12-21 10:19:33,745 [    spdm]     INFO: Initialize module fytok.plugins.transport_solver_numerics.fy_trans \u001b[0m\n",
      "\u001b[0;37m2023-12-21 10:19:34,296 [    spdm]    DEBUG: /home/salmon/workspace/fytok/python/fytok/modules/TransportSolverNumerics.py:331:preprocess:  Variables : ['ion/D/density', 'ion/D/density_flux', 'ion/D/temperature', 'ion/D/temperature_flux', 'ion/T/density', 'ion/T/density_flux', 'ion/T/temperature', 'ion/T/temperature_flux', 'electrons/temperature', 'electrons/temperature_flux']\u001b[0m\n",
      "\u001b[0;34m2023-12-21 10:19:34,299 [    spdm]     INFO: Solve transport equations : \u001b[0m\n",
      "\u001b[0;34m2023-12-21 10:19:34,301 [    spdm]     INFO: Execute module fytok.plugins.transport_solver_numerics.fy_trans\u001b[0m\n",
      "\u001b[0;34m2023-12-21 10:19:34,475 [    spdm]     INFO: Initialize module fytok.plugins.core_transport.model.dummy \u001b[0m\n",
      "\u001b[0;34m2023-12-21 10:19:34,521 [    spdm]     INFO: Initialize module fytok.plugins.core_sources.source.dummy \u001b[0m\n",
      "\u001b[0;34m2023-12-21 10:19:34,562 [    spdm]     INFO: Load module fytok.plugins.core_sources.source.collisional_equipartition\u001b[0m\n",
      "\u001b[0;34m2023-12-21 10:19:34,566 [    spdm]     INFO: Initialize module fytok.plugins.core_sources.source.collisional_equipartition \u001b[0m\n",
      "   Iteration    Max residual  Max BC residual  Total nodes    Nodes added  \n",
      "       1          3.80e-01       1.07e+09          128            30       \n",
      "       2          2.12e-02       3.36e+07          158            29       \n",
      "       3          5.20e-03       3.36e+07          187             7       \n",
      "       4          1.39e-03       3.36e+07          194             1       \n",
      "       5          9.67e-04       1.34e+08          195             0       \n",
      "       6          9.67e-04       1.34e+08          195             0       \n",
      "       7          9.67e-04       1.34e+08          195             0       \n"
     ]
    }
   ],
   "source": [
    "tokamak.transport_solver.refresh(\n",
    "    time=0.0,\n",
    "    # fmt:off\n",
    "    initial_value={\n",
    "        \"ion/D/density\":                    1.0e19,\n",
    "        \"ion/T/density\":                    1.0e19,\n",
    "        \"ion/He/density\":                   0.1e19,\n",
    "        \"ion/alpha/density\":                0.0,\n",
    "\n",
    "        \"ion/D/temperature\":                1000,\n",
    "        \"ion/T/temperature\":                1000,\n",
    "        \"ion/He/temperature\":               1000,\n",
    "\n",
    "        \"electrons/temperature\":            1000,\n",
    "    },\n",
    "    boundary_value={\n",
    "        \"ion/D/density\":                    ([0.0], [1.3e19]), \n",
    "        \"ion/T/density\":                    ([0.0], [1.3e19]), \n",
    "        \"ion/He/density\":                   ([0.0], [1.0e16]), \n",
    "        \"ion/alpha/density\":                ([0.0], [0.0]), \n",
    "\n",
    "        \"ion/D/temperature\":                ([0.0], [200]),   \n",
    "        \"ion/T/temperature\":                ([0.0], [200]),   \n",
    "        \"ion/He/temperature\":               ([0.0], [200]),   \n",
    "\n",
    "        \"electrons/temperature\":            ([0.0], [200]),   \n",
    "    },\n",
    "    # fmt:on\n",
    ")"
   ]
  },
  {
   "cell_type": "code",
   "execution_count": null,
   "metadata": {},
   "outputs": [],
   "source": [
    "solver_1d = tokamak.transport_solver.time_slice.current"
   ]
  },
  {
   "cell_type": "code",
   "execution_count": null,
   "metadata": {},
   "outputs": [],
   "source": [
    "core_profiles_1d = tokamak.transport_solver.fetch()\n",
    "core_profiles_1d_astra = tokamak.core_profiles.time_slice.current.profiles_1d\n",
    "fig = sp_view.plot(\n",
    "    solver_1d.grid.rho_tor_norm,\n",
    "    *[\n",
    "        [\n",
    "            (core_profiles_1d.get(equ.identifier), rf\"{equ.identifier} \"),\n",
    "            (core_profiles_1d_astra.get(equ.identifier, 0), rf\"{equ.identifier} astra\"),\n",
    "        ]\n",
    "        for equ in solver_1d.equations\n",
    "    ],\n",
    ")"
   ]
  },
  {
   "cell_type": "code",
   "execution_count": null,
   "metadata": {},
   "outputs": [],
   "source": [
    "solver_1d.equations[4].coefficient[5]"
   ]
  },
  {
   "cell_type": "code",
   "execution_count": null,
   "metadata": {},
   "outputs": [],
   "source": [
    "fig = sp_view.plot(\n",
    "    solver_1d.grid.rho_tor_norm,\n",
    "    [\n",
    "        (core_profiles_1d.electrons.density, r\"$n_{e}$\"),\n",
    "        (core_profiles_1d_astra.electrons.density, r\"$n_{e}$ astra\"),\n",
    "    ],\n",
    ")"
   ]
  },
  {
   "cell_type": "code",
   "execution_count": null,
   "metadata": {},
   "outputs": [],
   "source": [
    "fig = sp_view.plot(\n",
    "    solver_1d.grid.rho_tor_norm,\n",
    "    *sum(\n",
    "        [\n",
    "            [\n",
    "                # (equ.profile, equ.identifier),\n",
    "                # (equ.flux, f\"{equ.identifier}_flux\"),\n",
    "                (equ.d_dr, f\"d({equ.identifier})/dr\"),\n",
    "                (equ.dflux_dr, f\"d({equ.identifier}_flux)/dr\"),\n",
    "            ]\n",
    "            for equ in solver_1d.equations\n",
    "        ],\n",
    "        [],\n",
    "    ),\n",
    ")"
   ]
  },
  {
   "cell_type": "code",
   "execution_count": null,
   "metadata": {},
   "outputs": [],
   "source": [
    "fig = sp_view.plot(\n",
    "    solver_1d.grid.rho_tor_norm,\n",
    "    *sum(\n",
    "        [\n",
    "            [\n",
    "                (equ.d_dr, f\"d({equ.identifier})/dr\"),\n",
    "                (equ.dflux_dr, f\"d({equ.identifier}_flux)/dr\"),\n",
    "            ]\n",
    "            for equ in solver_1d.equations\n",
    "        ],\n",
    "        [],\n",
    "    ),\n",
    ")"
   ]
  },
  {
   "cell_type": "code",
   "execution_count": null,
   "metadata": {},
   "outputs": [],
   "source": [
    "core_transport_1d = tokamak.core_transport.model[0].time_slice.current.profiles_1d\n",
    "\n",
    "fig = sp_view.plot(\n",
    "    core_transport_1d.grid_d.rho_tor_norm,\n",
    "    (core_transport_1d.electrons.energy.d, r\"$\\chi_e$\"),\n",
    "    (core_transport_1d.electrons.energy.v, r\"$V^{pinch}_{Te}$\"),\n",
    "    # (core_sources_1d.electrons.energy_decomposed.explicit_part, r\"$Q_{e}$ explicit\"),\n",
    "    # (core_sources_1d.electrons.energy_decomposed.implicit_part, r\"$Q_{e}$ implicit\"),\n",
    "    (core_transport_1d.electrons.particles.d, r\"$D_e$\"),\n",
    "    (core_transport_1d.electrons.particles.v, r\"$V_e$\"),\n",
    "    *[(ion.energy.d, rf\"$\\chi_{{{ion.label}}}$\") for ion in core_transport_1d.ion],\n",
    "    *[(ion.energy.v, rf\"$V^{{pinch}}_{{T{ion.label}}}$\") for ion in core_transport_1d.ion],\n",
    "    *[(ion.particles.d, rf\"$D_{{{ion.label}}}$\") for ion in core_transport_1d.ion],\n",
    "    *[(ion.particles.v, rf\"$v_{{{ion.label}}}$\") for ion in core_transport_1d.ion],\n",
    "    x_label=r\"$\\bar{\\rho}_{tor}$\",\n",
    ")"
   ]
  },
  {
   "cell_type": "code",
   "execution_count": null,
   "metadata": {},
   "outputs": [],
   "source": [
    "variables = sum([[equ.profile, equ.flux] for equ in solver_1d.equations], [])\n",
    "equ = solver_1d.equations[4]\n",
    "bc0,bc1, a, b, c, d, e, f, g,ym = equ.coefficient\n",
    "x = solver_1d.grid.rho_tor_norm\n",
    "# y = equ.profile\n",
    "# yp = equ.d_dr\n",
    "# flux = equ.flux\n",
    "# dflux = equ.dflux_dr\n",
    "fig = sp_view.plot(\n",
    "    x,\n",
    "    # (a(x, *variables), \"a\"),\n",
    "    # (b(x, *variables), \"b\"),\n",
    "    # (c(x,*vars), \"c\"),\n",
    "    (d(x, *variables), \"d\"),\n",
    "    (e(x, *variables), \"e\"),\n",
    "    (f(x, *variables), \"f\"),\n",
    "    # (g(x, *vars), \"g\"),\n",
    "    # tokamak.transport_solver.equations[2].d_dr,\n",
    "    # [\n",
    "    #     (d*yp, \"$D$\"),\n",
    "    #     (e*y,   \"$v$\"),\n",
    "    #     # (flux,   f\"$\\Gamma$\"),\n",
    "    #     ((c*(f - g * y)).I, r\"$S$\"),  # $\\int c*(f - g \\cdot y)$\n",
    "    #     # ((-d*yp+e*y).I, r\"$\\Gamma$\"),\n",
    "    #     (-d*yp+e*y-(c*(f - g * y)).I, \"residual\"),\n",
    "    # ],\n",
    "    # y, yp\n",
    "    # [\n",
    "    #     (dflux, {\"label\": r\"$d\\Gamma$\"}),\n",
    "    #     # (Function(flux, x).d(), r\"$d\\Gamma$\"),\n",
    "    #     ((c*(f - g * y)), r\"$c*(f - g \\cdot y)$\"),\n",
    "    # ],\n",
    ")"
   ]
  },
  {
   "cell_type": "code",
   "execution_count": null,
   "metadata": {},
   "outputs": [],
   "source": [
    "fig = sp_view.plot(\n",
    "    x,\n",
    "    solver_1d.equations[1].coefficient[5](x, *variables),\n",
    "    solver_1d.equations[2].coefficient[5](x, *variables),\n",
    "    solver_1d.equations[3].coefficient[5](x, *variables),\n",
    ")"
   ]
  },
  {
   "cell_type": "code",
   "execution_count": null,
   "metadata": {},
   "outputs": [],
   "source": []
  }
 ],
 "metadata": {
  "kernelspec": {
   "display_name": "Python 3",
   "language": "python",
   "name": "python3"
  },
  "language_info": {
   "codemirror_mode": {
    "name": "ipython",
    "version": 3
   },
   "file_extension": ".py",
   "mimetype": "text/x-python",
   "name": "python",
   "nbconvert_exporter": "python",
   "pygments_lexer": "ipython3",
   "version": "3.10.12"
  }
 },
 "nbformat": 4,
 "nbformat_minor": 2
}
