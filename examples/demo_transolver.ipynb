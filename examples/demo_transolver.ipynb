{
 "cells": [
  {
   "cell_type": "code",
   "execution_count": 1,
   "metadata": {},
   "outputs": [
    {
     "name": "stdout",
     "output_type": "stream",
     "text": [
      "\u001b[0;34m2023-11-17 21:41:51,367 [   fytok]     INFO: \n",
      "#######################################################################################################################\n",
      "    ______      _____     _\n",
      "   / ____/_  __|_   _|__ | | __\n",
      "  / /_  / / / /  | |/ _ \\| |/ /\n",
      " / __/ / /_/ /   | | (_) |   <\n",
      "/_/    \\__, /    |_|\\___/|_|\\_\\\n",
      "      /____/\n",
      "\n",
      " Copyright (c) 2021-present Zhi YU (Institute of Plasma Physics Chinese Academy of Sciences)\n",
      "            \n",
      " url: https://gitee.com/openfusion/fytok_tutorial \n",
      "      https://github.com/fusion-yun/fytok_tutorial\n",
      "\n",
      " version = develop  (spdm=develop extension=0.2.2.dev11+g706f667, imas_version=v3_38_1_dirty)\n",
      "\n",
      " Run by salmon at 2023-11-17T21:41:51.367477.\n",
      " Job ID: fytok_salmon_surface_29794\n",
      "\n",
      "#######################################################################################################################\n",
      "\u001b[0m\n"
     ]
    }
   ],
   "source": [
    "import pathlib\n",
    "import numpy as np\n",
    "from fytok.Tokamak import Tokamak\n",
    "from spdm.view import View as sp_view\n",
    "\n",
    "input_path = pathlib.Path(\"/home/salmon/workspace/fytok_data/data/15MA inductive - burn\")"
   ]
  },
  {
   "cell_type": "code",
   "execution_count": 2,
   "metadata": {},
   "outputs": [
    {
     "name": "stdout",
     "output_type": "stream",
     "text": [
      "\u001b[0;37m2023-11-17 21:41:51,551 [   fytok]    DEBUG: /home/salmon/workspace/fytok/SpDM/python/spdm/utils/sp_export.py:66:sp_load_module: Load module spdm.plugins.data.plugin_xml\u001b[0m\n",
      "\u001b[0;37m2023-11-17 21:41:51,814 [   fytok]    DEBUG: /home/salmon/workspace/fytok/SpDM/python/spdm/utils/sp_export.py:66:sp_load_module: Load module spdm.plugins.data.plugin_iterprofiles\u001b[0m\n",
      "\u001b[0;37m2023-11-17 21:41:51,929 [   fytok]    DEBUG: /home/salmon/workspace/fytok/SpDM/python/spdm/utils/sp_export.py:66:sp_load_module: Load module spdm.plugins.data.plugin_geqdsk\u001b[0m\n"
     ]
    }
   ],
   "source": [
    "tokamak = Tokamak(\n",
    "    f\"file+iterprofiles://{next(input_path.glob('*ASTRA.xls')).absolute().as_posix()}\",\n",
    "    f\"file+geqdsk://{next(input_path.glob('**/g*.txt')).absolute().as_posix()}\",\n",
    "    device=\"iter\",\n",
    "    shot=900003,\n",
    "    time=2.30,\n",
    "    core_transport={\"model\": [{\"code\": {\"name\": \"dummy\"}}]},\n",
    "    core_sources={\n",
    "        \"source\": [\n",
    "            {\"code\": {\"name\": \"dummy\"}},\n",
    "            # {\"code\": {\"name\": \"fusion_reaction\"}},\n",
    "        ]\n",
    "    },\n",
    "    transport_solver={\n",
    "        \"code\": {\n",
    "            # \"name\": \"fy_trans\",\n",
    "            \"parameters\": {\n",
    "                \"rho_tor_norm\": np.linspace(0.01, 0.995, 128),\n",
    "                \"bvp_rms_mask\": [0.96],\n",
    "                \"hyper_diff\": 0.0001,\n",
    "                \"max_nodes\": 250,\n",
    "                \"equations\": {\n",
    "                    \"ion/D/density_thermal\": {\n",
    "                        \"profile\": 1.5e19,\n",
    "                        \"boundary_condition\": [\n",
    "                            {\"identifier\": {\"index\": 2}, \"value\": [0]},\n",
    "                            {\"identifier\": {\"index\": 1}, \"value\": [2.0e19]},\n",
    "                        ],\n",
    "                    },\n",
    "                    \"ion/T/density_thermal\": {\n",
    "                        \"profile\": 1.5e19,\n",
    "                        \"boundary_condition\": [\n",
    "                            {\"identifier\": {\"index\": 2}, \"value\": [0]},\n",
    "                            {\"identifier\": {\"index\": 1}, \"value\": [2.0e19]},\n",
    "                        ],\n",
    "                    },\n",
    "                    \"ion/D/temperature\": {\n",
    "                        \"profile\": 1000,\n",
    "                        \"boundary_condition\": [\n",
    "                            {\"identifier\": {\"index\": 2}, \"value\": [0]},\n",
    "                            {\"identifier\": {\"index\": 1}, \"value\": [1000]},\n",
    "                        ],\n",
    "                    },\n",
    "                    \"ion/T/temperature\": {\n",
    "                        \"profile\": 1000,\n",
    "                        \"boundary_condition\": [\n",
    "                            {\"identifier\": {\"index\": 2}, \"value\": [0]},\n",
    "                            {\"identifier\": {\"index\": 1}, \"value\": [1000]},\n",
    "                        ],\n",
    "                    },\n",
    "                    \"electrons/temperature\": {\n",
    "                        \"profile\": 1000,\n",
    "                        \"boundary_condition\": [\n",
    "                            {\"identifier\": {\"index\": 2}, \"value\": [0]},\n",
    "                            {\"identifier\": {\"index\": 1}, \"value\": [1000]},\n",
    "                        ],\n",
    "                    },\n",
    "                },\n",
    "            },\n",
    "        }\n",
    "    },\n",
    ")"
   ]
  },
  {
   "cell_type": "code",
   "execution_count": 3,
   "metadata": {},
   "outputs": [
    {
     "name": "stdout",
     "output_type": "stream",
     "text": [
      "\u001b[0;37m2023-11-17 21:41:52,016 [   fytok]    DEBUG: /home/salmon/workspace/fytok/SpDM/python/spdm/utils/sp_export.py:66:sp_load_module: Load module fytok.plugins.transport_solver_numerics.fy_trans\u001b[0m\n",
      "\u001b[0;37m2023-11-17 21:41:52,463 [   fytok]    DEBUG: /home/salmon/workspace/fytok/SpDM/python/spdm/utils/sp_export.py:66:sp_load_module: Load module fytok.plugins.equilibrium.fy_eq\u001b[0m\n",
      "\u001b[0;37m2023-11-17 21:41:52,470 [   fytok]    DEBUG: /home/salmon/workspace/fytok/SpDM/python/spdm/utils/sp_export.py:66:sp_load_module: Load module fytok.plugins.core_transport.model.dummy\u001b[0m\n",
      "\u001b[0;37m2023-11-17 21:41:52,481 [   fytok]    DEBUG: /home/salmon/workspace/fytok/SpDM/python/spdm/utils/sp_export.py:66:sp_load_module: Load module fytok.plugins.core_sources.source.dummy\u001b[0m\n",
      "Tokamak simulation : \n",
      "-----------------------------------------------------------------------------------------------------------------------\n",
      "                                                Brief Summary\n",
      "-----------------------------------------------------------------------------------------------------------------------\n",
      "Dataset Description:\n",
      " \n",
      "    Device: ITER, Shot: 900003, Run: 0, \n",
      "    Run by Salmon on Surface at 2023-11-17T21:41:52.007234, base on ontology \"modified imas/3\"\n",
      "\n",
      "-----------------------------------------------------------------------------------------------------------------------\n",
      "Modules:\n",
      "    transport_solver        : fy_trans-0.0.1 [fytok]\n",
      "    equilibrium             : fy_eq-0.0.1 [Zhi YU@ASIPP]\n",
      "\n",
      "    core_profiles           : N/A             \n",
      "    core_transport          : dummy-0.0.0 [fytok]\n",
      "    core_sources            : dummy-0.0.0 [fytok]\n",
      "-----------------------------------------------------------------------------------------------------------------------\n",
      "Data source:\n",
      "    ['']\n",
      "-----------------------------------------------------------------------------------------------------------------------\n",
      "\n"
     ]
    }
   ],
   "source": [
    "print(tokamak.brief_summary())"
   ]
  },
  {
   "cell_type": "code",
   "execution_count": 4,
   "metadata": {},
   "outputs": [
    {
     "data": {
      "text/plain": [
       "name='fy_trans', version='0.0.1'"
      ]
     },
     "execution_count": 4,
     "metadata": {},
     "output_type": "execute_result"
    }
   ],
   "source": [
    "tokamak.transport_solver.code"
   ]
  },
  {
   "cell_type": "code",
   "execution_count": 5,
   "metadata": {},
   "outputs": [
    {
     "data": {
      "text/plain": [
       "{'rho_tor_norm': array([0.01      , 0.01775591, 0.02551181, 0.03326772, 0.04102362,\n",
       "        0.04877953, 0.05653543, 0.06429134, 0.07204724, 0.07980315,\n",
       "        0.08755906, 0.09531496, 0.10307087, 0.11082677, 0.11858268,\n",
       "        0.12633858, 0.13409449, 0.14185039, 0.1496063 , 0.1573622 ,\n",
       "        0.16511811, 0.17287402, 0.18062992, 0.18838583, 0.19614173,\n",
       "        0.20389764, 0.21165354, 0.21940945, 0.22716535, 0.23492126,\n",
       "        0.24267717, 0.25043307, 0.25818898, 0.26594488, 0.27370079,\n",
       "        0.28145669, 0.2892126 , 0.2969685 , 0.30472441, 0.31248031,\n",
       "        0.32023622, 0.32799213, 0.33574803, 0.34350394, 0.35125984,\n",
       "        0.35901575, 0.36677165, 0.37452756, 0.38228346, 0.39003937,\n",
       "        0.39779528, 0.40555118, 0.41330709, 0.42106299, 0.4288189 ,\n",
       "        0.4365748 , 0.44433071, 0.45208661, 0.45984252, 0.46759843,\n",
       "        0.47535433, 0.48311024, 0.49086614, 0.49862205, 0.50637795,\n",
       "        0.51413386, 0.52188976, 0.52964567, 0.53740157, 0.54515748,\n",
       "        0.55291339, 0.56066929, 0.5684252 , 0.5761811 , 0.58393701,\n",
       "        0.59169291, 0.59944882, 0.60720472, 0.61496063, 0.62271654,\n",
       "        0.63047244, 0.63822835, 0.64598425, 0.65374016, 0.66149606,\n",
       "        0.66925197, 0.67700787, 0.68476378, 0.69251969, 0.70027559,\n",
       "        0.7080315 , 0.7157874 , 0.72354331, 0.73129921, 0.73905512,\n",
       "        0.74681102, 0.75456693, 0.76232283, 0.77007874, 0.77783465,\n",
       "        0.78559055, 0.79334646, 0.80110236, 0.80885827, 0.81661417,\n",
       "        0.82437008, 0.83212598, 0.83988189, 0.8476378 , 0.8553937 ,\n",
       "        0.86314961, 0.87090551, 0.87866142, 0.88641732, 0.89417323,\n",
       "        0.90192913, 0.90968504, 0.91744094, 0.92519685, 0.93295276,\n",
       "        0.94070866, 0.94846457, 0.95622047, 0.96397638, 0.97173228,\n",
       "        0.97948819, 0.98724409, 0.995     ]),\n",
       " 'bvp_rms_mask': [0.96],\n",
       " 'hyper_diff': 0.0001,\n",
       " 'max_nodes': 250,\n",
       " 'equations': {'ion/D/density_thermal': {'profile': 1.5e+19,\n",
       "   'boundary_condition': [{'identifier': {'index': 2}, 'value': [0]},\n",
       "    {'identifier': {'index': 1}, 'value': [2e+19]}]},\n",
       "  'ion/T/density_thermal': {'profile': 1.5e+19,\n",
       "   'boundary_condition': [{'identifier': {'index': 2}, 'value': [0]},\n",
       "    {'identifier': {'index': 1}, 'value': [2e+19]}]},\n",
       "  'ion/D/temperature': {'profile': 1000,\n",
       "   'boundary_condition': [{'identifier': {'index': 2}, 'value': [0]},\n",
       "    {'identifier': {'index': 1}, 'value': [1000]}]},\n",
       "  'ion/T/temperature': {'profile': 1000,\n",
       "   'boundary_condition': [{'identifier': {'index': 2}, 'value': [0]},\n",
       "    {'identifier': {'index': 1}, 'value': [1000]}]},\n",
       "  'electrons/temperature': {'profile': 1000,\n",
       "   'boundary_condition': [{'identifier': {'index': 2}, 'value': [0]},\n",
       "    {'identifier': {'index': 1}, 'value': [1000]}]}}}"
      ]
     },
     "execution_count": 5,
     "metadata": {},
     "output_type": "execute_result"
    }
   ],
   "source": [
    "code=tokamak.transport_solver.code\n",
    "code.parameters._cache"
   ]
  },
  {
   "cell_type": "code",
   "execution_count": 6,
   "metadata": {},
   "outputs": [
    {
     "name": "stdout",
     "output_type": "stream",
     "text": [
      "\u001b[0;37m2023-11-17 21:41:52,559 [   fytok]    DEBUG: /home/salmon/workspace/fytok/python/fytok/modules/Utilities.py:117:execute: Execute fy_eq[0.0.1] class=FyEqAnalyze \u001b[0m\n",
      "\u001b[0;37m2023-11-17 21:41:52,575 [   fytok]    DEBUG: /home/salmon/workspace/fytok/python/fytok/modules/Utilities.py:117:execute: Execute dummy[tags.not_found] class=CoreSourcesSource \u001b[0m\n",
      "\u001b[0;37m2023-11-17 21:41:52,588 [   fytok]    DEBUG: /home/salmon/workspace/fytok/python/fytok/modules/Utilities.py:117:execute: Execute dummy[tags.not_found] class=CoreTransportModel \u001b[0m\n",
      "\u001b[0;37m2023-11-17 21:41:52,633 [   fytok]    DEBUG: /home/salmon/workspace/fytok/SpDM/python/spdm/utils/sp_export.py:66:sp_load_module: Load module spdm.mesh.mesh_rectangular\u001b[0m\n",
      "\u001b[0;37m2023-11-17 21:41:54,473 [   fytok]    DEBUG: /home/salmon/workspace/fytok/python/fytok/plugins/transport_solver_numerics/fy_trans.py:244:_update_coefficient: dummy\u001b[0m\n"
     ]
    },
    {
     "name": "stderr",
     "output_type": "stream",
     "text": [
      "/home/salmon/workspace/fytok/python/fytok/modules/Utilities.py:215: RuntimeWarning: invalid value encountered in sqrt\n",
      "  return np.sqrt(self.psi_norm)\n"
     ]
    },
    {
     "ename": "RuntimeError",
     "evalue": "<class 'fytok.modules.Utilities.CoreRadialGrid'> id=psi: 'getter' failed!",
     "output_type": "error",
     "traceback": [
      "\u001b[0;31m---------------------------------------------------------------------------\u001b[0m",
      "\u001b[0;31mTypeError\u001b[0m                                 Traceback (most recent call last)",
      "File \u001b[0;32m~/workspace/fytok/SpDM/python/spdm/data/HTree.py:383\u001b[0m, in \u001b[0;36mHTree._as_child\u001b[0;34m(self, value, key, default_value, _type_hint, _entry, _parent, _getter, force, **kwargs)\u001b[0m\n\u001b[1;32m    382\u001b[0m \u001b[39mtry\u001b[39;00m:\n\u001b[0;32m--> 383\u001b[0m     value \u001b[39m=\u001b[39m _getter(\u001b[39mself\u001b[39;49m)\n\u001b[1;32m    384\u001b[0m \u001b[39mexcept\u001b[39;00m \u001b[39mException\u001b[39;00m \u001b[39mas\u001b[39;00m error:\n",
      "File \u001b[0;32m~/workspace/fytok/python/fytok/modules/Utilities.py:204\u001b[0m, in \u001b[0;36mCoreRadialGrid.psi\u001b[0;34m(self)\u001b[0m\n\u001b[1;32m    202\u001b[0m \u001b[39m@sp_property\u001b[39m\n\u001b[1;32m    203\u001b[0m \u001b[39mdef\u001b[39;00m \u001b[39mpsi\u001b[39m(\u001b[39mself\u001b[39m) \u001b[39m-\u001b[39m\u001b[39m>\u001b[39m array_type:\n\u001b[0;32m--> 204\u001b[0m     \u001b[39mreturn\u001b[39;00m \u001b[39mself\u001b[39m\u001b[39m.\u001b[39mpsi_norm \u001b[39m*\u001b[39m (\u001b[39mself\u001b[39;49m\u001b[39m.\u001b[39;49mpsi_boundary \u001b[39m-\u001b[39;49m \u001b[39mself\u001b[39;49m\u001b[39m.\u001b[39;49mpsi_axis) \u001b[39m+\u001b[39m \u001b[39mself\u001b[39m\u001b[39m.\u001b[39mpsi_axis\n",
      "\u001b[0;31mTypeError\u001b[0m: unsupported operand type(s) for -: 'NoneType' and 'NoneType'",
      "\nThe above exception was the direct cause of the following exception:\n",
      "\u001b[0;31mRuntimeError\u001b[0m                              Traceback (most recent call last)",
      "\u001b[1;32m/home/salmon/workspace/fytok/examples/demo_transolver.ipynb Cell 6\u001b[0m line \u001b[0;36m1\n\u001b[0;32m----> <a href='vscode-notebook-cell://wsl%2Bubuntu-22.04/home/salmon/workspace/fytok/examples/demo_transolver.ipynb#W5sdnNjb2RlLXJlbW90ZQ%3D%3D?line=0'>1</a>\u001b[0m tokamak\u001b[39m.\u001b[39;49mupdate_core_profiles()\n\u001b[1;32m      <a href='vscode-notebook-cell://wsl%2Bubuntu-22.04/home/salmon/workspace/fytok/examples/demo_transolver.ipynb#W5sdnNjb2RlLXJlbW90ZQ%3D%3D?line=1'>2</a>\u001b[0m \u001b[39m# boundary_condition={\u001b[39;00m\n\u001b[1;32m      <a href='vscode-notebook-cell://wsl%2Bubuntu-22.04/home/salmon/workspace/fytok/examples/demo_transolver.ipynb#W5sdnNjb2RlLXJlbW90ZQ%3D%3D?line=2'>3</a>\u001b[0m \u001b[39m#     \"ion/D/density_thermal\": [[0.0], [2.0e19]],\u001b[39;00m\n\u001b[1;32m      <a href='vscode-notebook-cell://wsl%2Bubuntu-22.04/home/salmon/workspace/fytok/examples/demo_transolver.ipynb#W5sdnNjb2RlLXJlbW90ZQ%3D%3D?line=3'>4</a>\u001b[0m \u001b[39m#     \"ion/T/density_thermal\": [[0.0], [2.0e19]],\u001b[39;00m\n\u001b[0;32m   (...)\u001b[0m\n\u001b[1;32m      <a href='vscode-notebook-cell://wsl%2Bubuntu-22.04/home/salmon/workspace/fytok/examples/demo_transolver.ipynb#W5sdnNjb2RlLXJlbW90ZQ%3D%3D?line=6'>7</a>\u001b[0m \u001b[39m#     \"electrons/temperature\": [[0.0], [1000]],\u001b[39;00m\n\u001b[1;32m      <a href='vscode-notebook-cell://wsl%2Bubuntu-22.04/home/salmon/workspace/fytok/examples/demo_transolver.ipynb#W5sdnNjb2RlLXJlbW90ZQ%3D%3D?line=7'>8</a>\u001b[0m \u001b[39m# },    \u001b[39;00m\n",
      "File \u001b[0;32m~/workspace/fytok/python/fytok/Tokamak.py:165\u001b[0m, in \u001b[0;36mTokamak.update_core_profiles\u001b[0;34m(self, boundary_condition, *args, **kwargs)\u001b[0m\n\u001b[1;32m    161\u001b[0m \u001b[39mself\u001b[39m\u001b[39m.\u001b[39mcore_sources\u001b[39m.\u001b[39mrefresh(time\u001b[39m=\u001b[39m\u001b[39mself\u001b[39m\u001b[39m.\u001b[39mtime, equilibrium\u001b[39m=\u001b[39m\u001b[39mself\u001b[39m\u001b[39m.\u001b[39mequilibrium, core_profiles\u001b[39m=\u001b[39m\u001b[39mself\u001b[39m\u001b[39m.\u001b[39mcore_profiles)\n\u001b[1;32m    163\u001b[0m \u001b[39mself\u001b[39m\u001b[39m.\u001b[39mcore_transport\u001b[39m.\u001b[39mrefresh(time\u001b[39m=\u001b[39m\u001b[39mself\u001b[39m\u001b[39m.\u001b[39mtime, equilibrium\u001b[39m=\u001b[39m\u001b[39mself\u001b[39m\u001b[39m.\u001b[39mequilibrium, core_profiles\u001b[39m=\u001b[39m\u001b[39mself\u001b[39m\u001b[39m.\u001b[39mcore_profiles)\n\u001b[0;32m--> 165\u001b[0m \u001b[39mself\u001b[39;49m\u001b[39m.\u001b[39;49mtransport_solver\u001b[39m.\u001b[39;49mrefresh(\n\u001b[1;32m    166\u001b[0m     boundary_condition\u001b[39m=\u001b[39;49mboundary_condition,\n\u001b[1;32m    167\u001b[0m     equilibrium\u001b[39m=\u001b[39;49m\u001b[39mself\u001b[39;49m\u001b[39m.\u001b[39;49mequilibrium,\n\u001b[1;32m    168\u001b[0m     core_profiles\u001b[39m=\u001b[39;49m\u001b[39mself\u001b[39;49m\u001b[39m.\u001b[39;49mcore_profiles,\n\u001b[1;32m    169\u001b[0m     core_transport\u001b[39m=\u001b[39;49m\u001b[39mself\u001b[39;49m\u001b[39m.\u001b[39;49mcore_transport,\n\u001b[1;32m    170\u001b[0m     core_sources\u001b[39m=\u001b[39;49m\u001b[39mself\u001b[39;49m\u001b[39m.\u001b[39;49mcore_sources,\n\u001b[1;32m    171\u001b[0m )\n",
      "File \u001b[0;32m~/workspace/fytok/SpDM/python/spdm/data/Actor.py:162\u001b[0m, in \u001b[0;36mActor.refresh\u001b[0;34m(self, *args, **kwargs)\u001b[0m\n\u001b[1;32m    160\u001b[0m current \u001b[39m=\u001b[39m \u001b[39mself\u001b[39m\u001b[39m.\u001b[39mtime_slice\u001b[39m.\u001b[39mcurrent\n\u001b[1;32m    161\u001b[0m previous \u001b[39m=\u001b[39m \u001b[39mself\u001b[39m\u001b[39m.\u001b[39mtime_slice\u001b[39m.\u001b[39mprevious\n\u001b[0;32m--> 162\u001b[0m \u001b[39mself\u001b[39;49m\u001b[39m.\u001b[39;49mexecute(current, previous, \u001b[39m*\u001b[39;49m\u001b[39m*\u001b[39;49m\u001b[39mself\u001b[39;49m\u001b[39m.\u001b[39;49m_inputs)\n",
      "File \u001b[0;32m~/workspace/fytok/python/fytok/plugins/transport_solver_numerics/fy_trans.py:586\u001b[0m, in \u001b[0;36mFyTrans.execute\u001b[0;34m(self, current, previous, **inputs)\u001b[0m\n\u001b[1;32m    578\u001b[0m \u001b[39mdef\u001b[39;00m \u001b[39mexecute\u001b[39m(\n\u001b[1;32m    579\u001b[0m     \u001b[39mself\u001b[39m,\n\u001b[1;32m    580\u001b[0m     current: TransportSolverNumerics\u001b[39m.\u001b[39mTimeSlice,\n\u001b[1;32m    581\u001b[0m     previous: TransportSolverNumerics\u001b[39m.\u001b[39mTimeSlice \u001b[39m|\u001b[39m \u001b[39mNone\u001b[39;00m,\n\u001b[1;32m    582\u001b[0m     \u001b[39m*\u001b[39m\u001b[39m*\u001b[39minputs,\n\u001b[1;32m    583\u001b[0m ):\n\u001b[1;32m    584\u001b[0m     \u001b[39msuper\u001b[39m()\u001b[39m.\u001b[39mexecute(current, previous, \u001b[39m*\u001b[39m\u001b[39m*\u001b[39minputs)\n\u001b[0;32m--> 586\u001b[0m     solver_1d, \u001b[39mvars\u001b[39m, nums_of_unknown \u001b[39m=\u001b[39m \u001b[39mself\u001b[39;49m\u001b[39m.\u001b[39;49m_update_coefficient(current, previous, \u001b[39m*\u001b[39;49m\u001b[39m*\u001b[39;49minputs)\n\u001b[1;32m    588\u001b[0m     logger\u001b[39m.\u001b[39minfo(\n\u001b[1;32m    589\u001b[0m         \u001b[39mf\u001b[39m\u001b[39m\"\u001b[39m\u001b[39mSolve transport equations [\u001b[39m\u001b[39m{\u001b[39;00m\u001b[39mlen\u001b[39m(solver_1d\u001b[39m.\u001b[39mequation)\u001b[39m}\u001b[39;00m\u001b[39m] : \u001b[39m\u001b[39m{\u001b[39;00m\u001b[39m'\u001b[39m\u001b[39m,\u001b[39m\u001b[39m'\u001b[39m\u001b[39m.\u001b[39mjoin([equ\u001b[39m.\u001b[39mprimary_quantity\u001b[39m.\u001b[39midentifier\u001b[39m \u001b[39m\u001b[39mfor\u001b[39;00m\u001b[39m \u001b[39mequ\u001b[39m \u001b[39m\u001b[39min\u001b[39;00m\u001b[39m \u001b[39msolver_1d\u001b[39m.\u001b[39mequation])\u001b[39m}\u001b[39;00m\u001b[39m\"\u001b[39m\n\u001b[1;32m    590\u001b[0m     )\n\u001b[1;32m    592\u001b[0m     x \u001b[39m=\u001b[39m solver_1d\u001b[39m.\u001b[39mgrid\u001b[39m.\u001b[39mrho_tor_norm\n",
      "File \u001b[0;32m~/workspace/fytok/python/fytok/plugins/transport_solver_numerics/fy_trans.py:259\u001b[0m, in \u001b[0;36mFyTrans._update_coefficient\u001b[0;34m(self, current, previous, equilibrium, core_transport, core_sources, **others)\u001b[0m\n\u001b[1;32m    257\u001b[0m \u001b[39mif\u001b[39;00m core_sources \u001b[39mis\u001b[39;00m \u001b[39mnot\u001b[39;00m \u001b[39mNone\u001b[39;00m:\n\u001b[1;32m    258\u001b[0m     \u001b[39mfor\u001b[39;00m source \u001b[39min\u001b[39;00m core_sources\u001b[39m.\u001b[39msource:\n\u001b[0;32m--> 259\u001b[0m         source_1d \u001b[39m=\u001b[39m source\u001b[39m.\u001b[39;49mfetch(\u001b[39m*\u001b[39;49m\u001b[39m*\u001b[39;49m\u001b[39mvars\u001b[39;49m)\u001b[39m.\u001b[39mprofiles_1d\n\u001b[1;32m    260\u001b[0m         \u001b[39mfor\u001b[39;00m spec, d \u001b[39min\u001b[39;00m coeff\u001b[39m.\u001b[39mitems():\n\u001b[1;32m    261\u001b[0m             d[\u001b[39m\"\u001b[39m\u001b[39mS\u001b[39m\u001b[39m\"\u001b[39m] \u001b[39m+\u001b[39m\u001b[39m=\u001b[39m source_1d\u001b[39m.\u001b[39mget(\u001b[39mf\u001b[39m\u001b[39m\"\u001b[39m\u001b[39m{\u001b[39;00mspec\u001b[39m}\u001b[39;00m\u001b[39m/particles\u001b[39m\u001b[39m\"\u001b[39m, \u001b[39m0\u001b[39m)\n",
      "File \u001b[0;32m~/workspace/fytok/python/fytok/modules/CoreSources.py:103\u001b[0m, in \u001b[0;36mCoreSourcesSource.fetch\u001b[0;34m(self, x, **vars)\u001b[0m\n\u001b[1;32m    102\u001b[0m \u001b[39mdef\u001b[39;00m \u001b[39mfetch\u001b[39m(\u001b[39mself\u001b[39m, \u001b[39m/\u001b[39m, x: Expression, \u001b[39m*\u001b[39m\u001b[39m*\u001b[39m\u001b[39mvars\u001b[39m) \u001b[39m-\u001b[39m\u001b[39m>\u001b[39m CoreSourcesTimeSlice:\n\u001b[0;32m--> 103\u001b[0m     res: CoreSourcesTimeSlice \u001b[39m=\u001b[39m \u001b[39msuper\u001b[39;49m()\u001b[39m.\u001b[39;49mfetch(\u001b[39mlambda\u001b[39;49;00m o: o \u001b[39mif\u001b[39;49;00m \u001b[39mnot\u001b[39;49;00m \u001b[39misinstance\u001b[39;49m(o, Expression) \u001b[39melse\u001b[39;49;00m o(x))\n\u001b[1;32m    105\u001b[0m     res_1d \u001b[39m=\u001b[39m res\u001b[39m.\u001b[39mprofiles_1d\n\u001b[1;32m    107\u001b[0m     res_1d\u001b[39m.\u001b[39melectrons[\u001b[39m\"\u001b[39m\u001b[39mparticles\u001b[39m\u001b[39m\"\u001b[39m] \u001b[39m=\u001b[39m (\n\u001b[1;32m    108\u001b[0m         res_1d\u001b[39m.\u001b[39melectrons\u001b[39m.\u001b[39mparticles\n\u001b[1;32m    109\u001b[0m         \u001b[39m+\u001b[39m res_1d\u001b[39m.\u001b[39melectrons\u001b[39m.\u001b[39mparticles_decomposed\u001b[39m.\u001b[39mimplicit_part \u001b[39m*\u001b[39m \u001b[39mvars\u001b[39m\u001b[39m.\u001b[39mget(\u001b[39m\"\u001b[39m\u001b[39melectrons/density_thermal\u001b[39m\u001b[39m\"\u001b[39m, \u001b[39m0\u001b[39m)\n\u001b[1;32m    110\u001b[0m         \u001b[39m+\u001b[39m res_1d\u001b[39m.\u001b[39melectrons\u001b[39m.\u001b[39mparticles_decomposed\u001b[39m.\u001b[39mexplicit_part\n\u001b[1;32m    111\u001b[0m     )\n",
      "File \u001b[0;32m~/workspace/fytok/SpDM/python/spdm/data/Actor.py:191\u001b[0m, in \u001b[0;36mActor.fetch\u001b[0;34m(self, slice_index, *args, **kwargs)\u001b[0m\n\u001b[1;32m    189\u001b[0m     \u001b[39mreturn\u001b[39;00m t\n\u001b[1;32m    190\u001b[0m \u001b[39melse\u001b[39;00m:\n\u001b[0;32m--> 191\u001b[0m     \u001b[39mreturn\u001b[39;00m t\u001b[39m.\u001b[39;49mclone(\u001b[39m*\u001b[39;49margs, \u001b[39m*\u001b[39;49m\u001b[39m*\u001b[39;49mkwargs)\n",
      "File \u001b[0;32m~/workspace/fytok/SpDM/python/spdm/data/sp_property.py:133\u001b[0m, in \u001b[0;36mSpTree.clone\u001b[0;34m(self, func, *args, **kargs)\u001b[0m\n\u001b[1;32m    131\u001b[0m \u001b[39mif\u001b[39;00m \u001b[39mnot\u001b[39;00m \u001b[39mcallable\u001b[39m(func):\n\u001b[1;32m    132\u001b[0m     func \u001b[39m=\u001b[39m \u001b[39mNone\u001b[39;00m\n\u001b[0;32m--> 133\u001b[0m d \u001b[39m=\u001b[39m SpTree\u001b[39m.\u001b[39;49m_clone(\u001b[39mself\u001b[39;49m, func)\n\u001b[1;32m    134\u001b[0m \u001b[39mreturn\u001b[39;00m \u001b[39mself\u001b[39m\u001b[39m.\u001b[39m\u001b[39m__class__\u001b[39m(d)\n",
      "File \u001b[0;32m~/workspace/fytok/SpDM/python/spdm/data/sp_property.py:122\u001b[0m, in \u001b[0;36mSpTree._clone\u001b[0;34m(obj, func)\u001b[0m\n\u001b[1;32m    120\u001b[0m     cache \u001b[39m=\u001b[39m {}\n\u001b[1;32m    121\u001b[0m     \u001b[39mfor\u001b[39;00m k, _ \u001b[39min\u001b[39;00m inspect\u001b[39m.\u001b[39mgetmembers(obj\u001b[39m.\u001b[39m\u001b[39m__class__\u001b[39m, \u001b[39mlambda\u001b[39;00m c: is_sp_property(c)):\n\u001b[0;32m--> 122\u001b[0m         cache[k] \u001b[39m=\u001b[39m SpTree\u001b[39m.\u001b[39;49m_clone(\u001b[39mgetattr\u001b[39;49m(obj, k, _not_found_), func)\n\u001b[1;32m    124\u001b[0m     \u001b[39mreturn\u001b[39;00m cache\n\u001b[1;32m    125\u001b[0m \u001b[39melif\u001b[39;00m func \u001b[39mis\u001b[39;00m \u001b[39mnot\u001b[39;00m \u001b[39mNone\u001b[39;00m:\n",
      "File \u001b[0;32m~/workspace/fytok/SpDM/python/spdm/data/sp_property.py:122\u001b[0m, in \u001b[0;36mSpTree._clone\u001b[0;34m(obj, func)\u001b[0m\n\u001b[1;32m    120\u001b[0m     cache \u001b[39m=\u001b[39m {}\n\u001b[1;32m    121\u001b[0m     \u001b[39mfor\u001b[39;00m k, _ \u001b[39min\u001b[39;00m inspect\u001b[39m.\u001b[39mgetmembers(obj\u001b[39m.\u001b[39m\u001b[39m__class__\u001b[39m, \u001b[39mlambda\u001b[39;00m c: is_sp_property(c)):\n\u001b[0;32m--> 122\u001b[0m         cache[k] \u001b[39m=\u001b[39m SpTree\u001b[39m.\u001b[39;49m_clone(\u001b[39mgetattr\u001b[39;49m(obj, k, _not_found_), func)\n\u001b[1;32m    124\u001b[0m     \u001b[39mreturn\u001b[39;00m cache\n\u001b[1;32m    125\u001b[0m \u001b[39melif\u001b[39;00m func \u001b[39mis\u001b[39;00m \u001b[39mnot\u001b[39;00m \u001b[39mNone\u001b[39;00m:\n",
      "File \u001b[0;32m~/workspace/fytok/SpDM/python/spdm/data/sp_property.py:122\u001b[0m, in \u001b[0;36mSpTree._clone\u001b[0;34m(obj, func)\u001b[0m\n\u001b[1;32m    120\u001b[0m     cache \u001b[39m=\u001b[39m {}\n\u001b[1;32m    121\u001b[0m     \u001b[39mfor\u001b[39;00m k, _ \u001b[39min\u001b[39;00m inspect\u001b[39m.\u001b[39mgetmembers(obj\u001b[39m.\u001b[39m\u001b[39m__class__\u001b[39m, \u001b[39mlambda\u001b[39;00m c: is_sp_property(c)):\n\u001b[0;32m--> 122\u001b[0m         cache[k] \u001b[39m=\u001b[39m SpTree\u001b[39m.\u001b[39m_clone(\u001b[39mgetattr\u001b[39;49m(obj, k, _not_found_), func)\n\u001b[1;32m    124\u001b[0m     \u001b[39mreturn\u001b[39;00m cache\n\u001b[1;32m    125\u001b[0m \u001b[39melif\u001b[39;00m func \u001b[39mis\u001b[39;00m \u001b[39mnot\u001b[39;00m \u001b[39mNone\u001b[39;00m:\n",
      "File \u001b[0;32m~/workspace/fytok/SpDM/python/spdm/data/sp_property.py:337\u001b[0m, in \u001b[0;36mSpProperty.__get__\u001b[0;34m(self, instance, owner_cls)\u001b[0m\n\u001b[1;32m    334\u001b[0m     \u001b[39mraise\u001b[39;00m \u001b[39mAttributeError\u001b[39;00m(\u001b[39mf\u001b[39m\u001b[39m\"\u001b[39m\u001b[39mproperty_name is None!\u001b[39m\u001b[39m\"\u001b[39m)\n\u001b[1;32m    336\u001b[0m \u001b[39mwith\u001b[39;00m \u001b[39mself\u001b[39m\u001b[39m.\u001b[39mlock:\n\u001b[0;32m--> 337\u001b[0m     value \u001b[39m=\u001b[39m instance\u001b[39m.\u001b[39;49m__get_property__(\n\u001b[1;32m    338\u001b[0m         property_name,\n\u001b[1;32m    339\u001b[0m         _type_hint\u001b[39m=\u001b[39;49mtype_hint,\n\u001b[1;32m    340\u001b[0m         _getter\u001b[39m=\u001b[39;49m\u001b[39mself\u001b[39;49m\u001b[39m.\u001b[39;49mgetter,\n\u001b[1;32m    341\u001b[0m         \u001b[39m*\u001b[39;49m\u001b[39m*\u001b[39;49mmetadata,\n\u001b[1;32m    342\u001b[0m     )\n\u001b[1;32m    344\u001b[0m     \u001b[39mif\u001b[39;00m \u001b[39mself\u001b[39m\u001b[39m.\u001b[39mstrict \u001b[39mand\u001b[39;00m value \u001b[39mis\u001b[39;00m _not_found_:\n\u001b[1;32m    345\u001b[0m         \u001b[39mraise\u001b[39;00m \u001b[39mAttributeError\u001b[39;00m(\n\u001b[1;32m    346\u001b[0m             \u001b[39mf\u001b[39m\u001b[39m\"\u001b[39m\u001b[39mThe value of property \u001b[39m\u001b[39m'\u001b[39m\u001b[39m{\u001b[39;00mowner_cls\u001b[39m.\u001b[39m\u001b[39m__name__\u001b[39m\u001b[39m \u001b[39m\u001b[39mif\u001b[39;00m\u001b[39m \u001b[39mowner_cls\u001b[39m \u001b[39m\u001b[39mis\u001b[39;00m\u001b[39m \u001b[39m\u001b[39mnot\u001b[39;00m\u001b[39m \u001b[39m\u001b[39mNone\u001b[39;00m\u001b[39m \u001b[39m\u001b[39melse\u001b[39;00m\u001b[39m \u001b[39m\u001b[39m'\u001b[39m\u001b[39mnone\u001b[39m\u001b[39m'\u001b[39m\u001b[39m}\u001b[39;00m\u001b[39m.\u001b[39m\u001b[39m{\u001b[39;00mproperty_name\u001b[39m}\u001b[39;00m\u001b[39m'\u001b[39m\u001b[39m is not assigned!\u001b[39m\u001b[39m\"\u001b[39m\n\u001b[1;32m    347\u001b[0m         )\n",
      "File \u001b[0;32m~/workspace/fytok/SpDM/python/spdm/data/sp_property.py:67\u001b[0m, in \u001b[0;36mSpTree.__get_property__\u001b[0;34m(self, key, *args, **kwargs)\u001b[0m\n\u001b[1;32m     66\u001b[0m \u001b[39mdef\u001b[39;00m \u001b[39m__get_property__\u001b[39m(\u001b[39mself\u001b[39m, key: \u001b[39mstr\u001b[39m, \u001b[39m*\u001b[39margs, \u001b[39m*\u001b[39m\u001b[39m*\u001b[39mkwargs) \u001b[39m-\u001b[39m\u001b[39m>\u001b[39m SpTree:\n\u001b[0;32m---> 67\u001b[0m     \u001b[39mreturn\u001b[39;00m \u001b[39mself\u001b[39;49m\u001b[39m.\u001b[39;49m_get(key, \u001b[39m*\u001b[39;49margs, \u001b[39m*\u001b[39;49m\u001b[39m*\u001b[39;49mkwargs)\n",
      "File \u001b[0;32m~/workspace/fytok/SpDM/python/spdm/data/HTree.py:434\u001b[0m, in \u001b[0;36mHTree._get\u001b[0;34m(self, query, _type_hint, *args, **kwargs)\u001b[0m\n\u001b[1;32m    431\u001b[0m         value \u001b[39m=\u001b[39m \u001b[39mself\u001b[39m\u001b[39m.\u001b[39m_get_as_list(query, \u001b[39m*\u001b[39margs, _type_hint\u001b[39m=\u001b[39m_type_hint, \u001b[39m*\u001b[39m\u001b[39m*\u001b[39mkwargs)\n\u001b[1;32m    433\u001b[0m \u001b[39melif\u001b[39;00m \u001b[39misinstance\u001b[39m(query, \u001b[39mstr\u001b[39m):\n\u001b[0;32m--> 434\u001b[0m     value \u001b[39m=\u001b[39m \u001b[39mself\u001b[39;49m\u001b[39m.\u001b[39;49m_get_as_dict(query, \u001b[39m*\u001b[39;49margs, _type_hint\u001b[39m=\u001b[39;49m_type_hint, \u001b[39m*\u001b[39;49m\u001b[39m*\u001b[39;49mkwargs)\n\u001b[1;32m    436\u001b[0m \u001b[39melif\u001b[39;00m \u001b[39misinstance\u001b[39m(query, \u001b[39mset\u001b[39m):  \u001b[39m# compound\u001b[39;00m\n\u001b[1;32m    437\u001b[0m     \u001b[39mraise\u001b[39;00m \u001b[39mNotImplementedError\u001b[39;00m(\u001b[39mf\u001b[39m\u001b[39m\"\u001b[39m\u001b[39mTODO: NamedDict\u001b[39m\u001b[39m\"\u001b[39m)\n",
      "File \u001b[0;32m~/workspace/fytok/SpDM/python/spdm/data/HTree.py:469\u001b[0m, in \u001b[0;36mHTree._get_as_dict\u001b[0;34m(self, key, **kwargs)\u001b[0m\n\u001b[1;32m    466\u001b[0m \u001b[39melse\u001b[39;00m:\n\u001b[1;32m    467\u001b[0m     _entry \u001b[39m=\u001b[39m \u001b[39mNone\u001b[39;00m\n\u001b[0;32m--> 469\u001b[0m value \u001b[39m=\u001b[39m \u001b[39mself\u001b[39;49m\u001b[39m.\u001b[39;49m_as_child(cache, key, _entry\u001b[39m=\u001b[39;49m_entry, \u001b[39m*\u001b[39;49m\u001b[39m*\u001b[39;49mkwargs)\n\u001b[1;32m    471\u001b[0m \u001b[39mif\u001b[39;00m \u001b[39mself\u001b[39m\u001b[39m.\u001b[39m_cache \u001b[39mis\u001b[39;00m _not_found_ \u001b[39mor\u001b[39;00m \u001b[39mself\u001b[39m\u001b[39m.\u001b[39m_cache \u001b[39mis\u001b[39;00m \u001b[39mNone\u001b[39;00m:\n\u001b[1;32m    472\u001b[0m     \u001b[39mself\u001b[39m\u001b[39m.\u001b[39m_cache \u001b[39m=\u001b[39m {}\n",
      "File \u001b[0;32m~/workspace/fytok/SpDM/python/spdm/data/HTree.py:385\u001b[0m, in \u001b[0;36mHTree._as_child\u001b[0;34m(self, value, key, default_value, _type_hint, _entry, _parent, _getter, force, **kwargs)\u001b[0m\n\u001b[1;32m    383\u001b[0m         value \u001b[39m=\u001b[39m _getter(\u001b[39mself\u001b[39m)\n\u001b[1;32m    384\u001b[0m     \u001b[39mexcept\u001b[39;00m \u001b[39mException\u001b[39;00m \u001b[39mas\u001b[39;00m error:\n\u001b[0;32m--> 385\u001b[0m         \u001b[39mraise\u001b[39;00m \u001b[39mRuntimeError\u001b[39;00m(\u001b[39mf\u001b[39m\u001b[39m\"\u001b[39m\u001b[39m{\u001b[39;00m\u001b[39mself\u001b[39m\u001b[39m.\u001b[39m\u001b[39m__class__\u001b[39m\u001b[39m}\u001b[39;00m\u001b[39m id=\u001b[39m\u001b[39m{\u001b[39;00mkey\u001b[39m}\u001b[39;00m\u001b[39m: \u001b[39m\u001b[39m'\u001b[39m\u001b[39mgetter\u001b[39m\u001b[39m'\u001b[39m\u001b[39m failed!\u001b[39m\u001b[39m\"\u001b[39m) \u001b[39mfrom\u001b[39;00m \u001b[39merror\u001b[39;00m\n\u001b[1;32m    387\u001b[0m \u001b[39mif\u001b[39;00m value \u001b[39mis\u001b[39;00m _not_found_:\n\u001b[1;32m    388\u001b[0m     res \u001b[39m=\u001b[39m default_value\n",
      "\u001b[0;31mRuntimeError\u001b[0m: <class 'fytok.modules.Utilities.CoreRadialGrid'> id=psi: 'getter' failed!"
     ]
    }
   ],
   "source": [
    "tokamak.update_core_profiles()\n",
    "# boundary_condition={\n",
    "#     \"ion/D/density_thermal\": [[0.0], [2.0e19]],\n",
    "#     \"ion/T/density_thermal\": [[0.0], [2.0e19]],\n",
    "#     \"ion/D/temperature\": [[0.0], [1000]],\n",
    "#     \"ion/T/temperature\": [[0.0], [1000]],\n",
    "#     \"electrons/temperature\": [[0.0], [1000]],\n",
    "# },    \n"
   ]
  },
  {
   "cell_type": "code",
   "execution_count": null,
   "metadata": {},
   "outputs": [],
   "source": [
    "solver_1d = tokamak.transport_solver.time_slice.current.solver_1d\n",
    "fig = sp_view.plot(\n",
    "    sum(\n",
    "        [\n",
    "            [\n",
    "                (equ.primary_quantity.profile, equ.primary_quantity.identifier),\n",
    "                # (equ.primary_quantity.flux, f\"{equ.primary_quantity.identifier}_flux\"),\n",
    "                # (equ.primary_quantity.d_dr,f\"d({equ.primary_quantity.identifier})/dr\"),\n",
    "                # (equ.primary_quantity.dflux_dr, f\"d({equ.primary_quantity.identifier}_flux)/dr\"),\n",
    "            ]\n",
    "            for equ in solver_1d.equation\n",
    "        ],\n",
    "        [],\n",
    "    ),\n",
    "    x_axis=solver_1d.grid.rho_tor_norm,\n",
    ")"
   ]
  },
  {
   "cell_type": "code",
   "execution_count": null,
   "metadata": {},
   "outputs": [],
   "source": [
    "core_profiles_1d = tokamak.core_profiles.time_slice.current.profiles_1d"
   ]
  },
  {
   "cell_type": "code",
   "execution_count": null,
   "metadata": {},
   "outputs": [],
   "source": [
    "fig = sp_view.plot([\n",
    "    [\n",
    "        (core_profiles_1d.get(equ.primary_quantity.identifier), rf\"{equ.primary_quantity.identifier} astra\"),\n",
    "        (equ.primary_quantity.profile, rf\"{equ.primary_quantity.identifier}\")\n",
    "    ] for equ in solver_1d.equation\n",
    "],\n",
    "    x_axis=solver_1d.grid.rho_tor_norm\n",
    ")"
   ]
  },
  {
   "cell_type": "code",
   "execution_count": null,
   "metadata": {},
   "outputs": [],
   "source": [
    "core_sources_1d = tokamak.core_sources.source[0].time_slice.current.profiles_1d\n",
    "core_transport_1d = tokamak.core_transport.model[0].time_slice.current.profiles_1d\n",
    "\n",
    "fig = sp_view.plot(\n",
    "    [\n",
    "        # (core_sources_1d.electrons.energy, r\"$Q_e$\"),\n",
    "        (core_transport_1d.electrons.energy.d, r\"$\\chi_e$\"),\n",
    "        (core_transport_1d.electrons.energy.v, r\"$V^{pinch}_{Te}$\"),\n",
    "        # (core_sources_1d.electrons.energy_decomposed.explicit_part, r\"$Q_{e}$ explicit\"),\n",
    "        # (core_sources_1d.electrons.energy_decomposed.implicit_part, r\"$Q_{e}$ implicit\"),\n",
    "        (core_transport_1d.electrons.particles.d, r\"$D_e$\"),\n",
    "        (core_sources_1d.ion[0].energy, r\"$Q_D$\"),\n",
    "        (core_sources_1d.ion[1].energy, r\"$Q_T$\"),\n",
    "    ],\n",
    "    x_axis=solver_1d.grid.rho_tor_norm,\n",
    ")"
   ]
  },
  {
   "cell_type": "code",
   "execution_count": null,
   "metadata": {},
   "outputs": [],
   "source": [
    "equ = solver_1d.equation[1]\n",
    "a, b, c, d, e, f, g,*_ = equ.coefficient\n",
    "x = solver_1d.grid.rho_tor_norm\n",
    "y       = equ.primary_quantity.profile\n",
    "yp      = equ.primary_quantity.d_dr\n",
    "flux    = equ.primary_quantity.flux\n",
    "dflux   = equ.primary_quantity.dflux_dr\n",
    "fig = sp_view.plot([\n",
    "    a, b, c, d, e, f, g,\n",
    "    # [\n",
    "    #     (d*yp, \"$D$\"),\n",
    "    #     (e*y,   \"$v$\"),\n",
    "    #     # (flux,   f\"$\\Gamma$\"),\n",
    "    #     ((c*(f - g * y)).I, r\"$S$\"),  # $\\int c*(f - g \\cdot y)$\n",
    "    #     # ((-d*yp+e*y).I, r\"$\\Gamma$\"),\n",
    "    #     (-d*yp+e*y-(c*(f - g * y)).I, \"residual\"),\n",
    "\n",
    "    # ],\n",
    "    y, yp\n",
    "\n",
    "    # [\n",
    "\n",
    "    #     (dflux, {\"label\": r\"$d\\Gamma$\"}),\n",
    "    #     # (Function(flux, x).d(), r\"$d\\Gamma$\"),\n",
    "    #     ((c*(f - g * y)), r\"$c*(f - g \\cdot y)$\"),\n",
    "    # ],\n",
    "],\n",
    "    x_axis=x)"
   ]
  }
 ],
 "metadata": {
  "kernelspec": {
   "display_name": "Python 3",
   "language": "python",
   "name": "python3"
  },
  "language_info": {
   "codemirror_mode": {
    "name": "ipython",
    "version": 3
   },
   "file_extension": ".py",
   "mimetype": "text/x-python",
   "name": "python",
   "nbconvert_exporter": "python",
   "pygments_lexer": "ipython3",
   "version": "3.10.12"
  }
 },
 "nbformat": 4,
 "nbformat_minor": 2
}
