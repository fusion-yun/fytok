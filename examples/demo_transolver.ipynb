{
 "cells": [
  {
   "cell_type": "code",
   "execution_count": 1,
   "metadata": {},
   "outputs": [
    {
     "name": "stdout",
     "output_type": "stream",
     "text": [
      "\u001b[0;34m2023-11-04 21:13:04,185 [   fytok]     INFO: \n",
      "#######################################################################################################################\n",
      "    ______      _____     _\n",
      "   / ____/_  __|_   _|__ | | __\n",
      "  / /_  / / / /  | |/ _ \\| |/ /\n",
      " / __/ / /_/ /   | | (_) |   <\n",
      "/_/    \\__, /    |_|\\___/|_|\\_\\\n",
      "      /____/\n",
      "\n",
      " Copyright (c) 2021-present Zhi YU (Institute of Plasma Physics Chinese Academy of Sciences)\n",
      "            \n",
      " url: https://gitee.com/openfusion/fytok_tutorial \n",
      "      https://github.com/fusion-yun/fytok_tutorial\n",
      "\n",
      " ontology = imas/3, version = 0.2.1 ( extension=0.2.2.dev11+g706f667, imas_version=v3_38_1_dirty ) \n",
      "\n",
      " Run by salmon on Surface at 2023-11-04T21:13:04.185654\n",
      "\n",
      "#######################################################################################################################\n",
      "\u001b[0m\n"
     ]
    }
   ],
   "source": [
    "import pathlib\n",
    "import numpy as np\n",
    "from fytok.Tokamak import Tokamak\n",
    "from spdm.view import View as sp_view\n",
    "\n",
    "input_path = pathlib.Path(\"/home/salmon/workspace/fytok_data/data/15MA inductive - burn\")\n",
    "output_path = f\"/home/salmon/workspace/output\""
   ]
  },
  {
   "cell_type": "code",
   "execution_count": 2,
   "metadata": {},
   "outputs": [
    {
     "name": "stdout",
     "output_type": "stream",
     "text": [
      "\u001b[0;34m2023-11-04 21:13:04,302 [   fytok]     INFO: Load module spdm.plugins.data.plugin_xml\u001b[0m\n"
     ]
    },
    {
     "name": "stdout",
     "output_type": "stream",
     "text": [
      "\u001b[0;34m2023-11-04 21:13:04,610 [   fytok]     INFO: Load module spdm.plugins.data.plugin_iterprofiles\u001b[0m\n",
      "\u001b[0;34m2023-11-04 21:13:04,742 [   fytok]     INFO: Load module spdm.plugins.data.plugin_geqdsk\u001b[0m\n",
      "\u001b[0;34m2023-11-04 21:13:04,762 [   fytok]     INFO: Load module fytok.plugins.transport_solver_numerics.fytrans\u001b[0m\n",
      "\u001b[0;34m2023-11-04 21:13:05,108 [   fytok]     INFO: Load module fytok.plugins.equilibrium.eq_analyze\u001b[0m\n"
     ]
    },
    {
     "ename": "ValueError",
     "evalue": "need at least one array to stack",
     "output_type": "error",
     "traceback": [
      "\u001b[0;31m---------------------------------------------------------------------------\u001b[0m",
      "\u001b[0;31mValueError\u001b[0m                                Traceback (most recent call last)",
      "\u001b[1;32m/home/salmon/workspace/fytok/examples/demo_transolver.ipynb Cell 2\u001b[0m line \u001b[0;36m1\n\u001b[1;32m      <a href='vscode-notebook-cell://wsl%2Bubuntu-22.04/home/salmon/workspace/fytok/examples/demo_transolver.ipynb#W1sdnNjb2RlLXJlbW90ZQ%3D%3D?line=0'>1</a>\u001b[0m tokamak \u001b[39m=\u001b[39m Tokamak(\u001b[39mf\u001b[39m\u001b[39m\"\u001b[39m\u001b[39mfile+iterprofiles://\u001b[39m\u001b[39m{\u001b[39;00m\u001b[39mnext\u001b[39m(input_path\u001b[39m.\u001b[39mglob(\u001b[39m'\u001b[39m\u001b[39m*.xls\u001b[39m\u001b[39m'\u001b[39m))\u001b[39m.\u001b[39mas_posix()\u001b[39m}\u001b[39;00m\u001b[39m\"\u001b[39m,\n\u001b[1;32m      <a href='vscode-notebook-cell://wsl%2Bubuntu-22.04/home/salmon/workspace/fytok/examples/demo_transolver.ipynb#W1sdnNjb2RlLXJlbW90ZQ%3D%3D?line=1'>2</a>\u001b[0m                   \u001b[39mf\u001b[39m\u001b[39m\"\u001b[39m\u001b[39mfile+geqdsk://\u001b[39m\u001b[39m{\u001b[39;00m\u001b[39mnext\u001b[39m(input_path\u001b[39m.\u001b[39mglob(\u001b[39m'\u001b[39m\u001b[39m**/*.txt\u001b[39m\u001b[39m'\u001b[39m))\u001b[39m.\u001b[39mas_posix()\u001b[39m}\u001b[39;00m\u001b[39m\"\u001b[39m,\n\u001b[1;32m      <a href='vscode-notebook-cell://wsl%2Bubuntu-22.04/home/salmon/workspace/fytok/examples/demo_transolver.ipynb#W1sdnNjb2RlLXJlbW90ZQ%3D%3D?line=2'>3</a>\u001b[0m                   device\u001b[39m=\u001b[39m\u001b[39m\"\u001b[39m\u001b[39miter\u001b[39m\u001b[39m\"\u001b[39m,\n\u001b[0;32m   (...)\u001b[0m\n\u001b[1;32m      <a href='vscode-notebook-cell://wsl%2Bubuntu-22.04/home/salmon/workspace/fytok/examples/demo_transolver.ipynb#W1sdnNjb2RlLXJlbW90ZQ%3D%3D?line=7'>8</a>\u001b[0m                                                   \u001b[39m\"\u001b[39m\u001b[39mhyper_diff\u001b[39m\u001b[39m\"\u001b[39m: \u001b[39m0.0001\u001b[39m\n\u001b[1;32m      <a href='vscode-notebook-cell://wsl%2Bubuntu-22.04/home/salmon/workspace/fytok/examples/demo_transolver.ipynb#W1sdnNjb2RlLXJlbW90ZQ%3D%3D?line=8'>9</a>\u001b[0m                                               }}})\n\u001b[0;32m---> <a href='vscode-notebook-cell://wsl%2Bubuntu-22.04/home/salmon/workspace/fytok/examples/demo_transolver.ipynb#W1sdnNjb2RlLXJlbW90ZQ%3D%3D?line=10'>11</a>\u001b[0m tokamak\u001b[39m.\u001b[39;49mtransport_solver\u001b[39m.\u001b[39;49mrefresh(\n\u001b[1;32m     <a href='vscode-notebook-cell://wsl%2Bubuntu-22.04/home/salmon/workspace/fytok/examples/demo_transolver.ipynb#W1sdnNjb2RlLXJlbW90ZQ%3D%3D?line=11'>12</a>\u001b[0m     equilibrium\u001b[39m=\u001b[39;49mtokamak\u001b[39m.\u001b[39;49mequilibrium,\n\u001b[1;32m     <a href='vscode-notebook-cell://wsl%2Bubuntu-22.04/home/salmon/workspace/fytok/examples/demo_transolver.ipynb#W1sdnNjb2RlLXJlbW90ZQ%3D%3D?line=12'>13</a>\u001b[0m     core_profiles\u001b[39m=\u001b[39;49mtokamak\u001b[39m.\u001b[39;49mcore_profiles,\n\u001b[1;32m     <a href='vscode-notebook-cell://wsl%2Bubuntu-22.04/home/salmon/workspace/fytok/examples/demo_transolver.ipynb#W1sdnNjb2RlLXJlbW90ZQ%3D%3D?line=13'>14</a>\u001b[0m     core_transport\u001b[39m=\u001b[39;49mtokamak\u001b[39m.\u001b[39;49mcore_transport,\n\u001b[1;32m     <a href='vscode-notebook-cell://wsl%2Bubuntu-22.04/home/salmon/workspace/fytok/examples/demo_transolver.ipynb#W1sdnNjb2RlLXJlbW90ZQ%3D%3D?line=14'>15</a>\u001b[0m     core_sources\u001b[39m=\u001b[39;49mtokamak\u001b[39m.\u001b[39;49mcore_sources,\n\u001b[1;32m     <a href='vscode-notebook-cell://wsl%2Bubuntu-22.04/home/salmon/workspace/fytok/examples/demo_transolver.ipynb#W1sdnNjb2RlLXJlbW90ZQ%3D%3D?line=15'>16</a>\u001b[0m )\n",
      "File \u001b[0;32m~/workspace/fytok/python/fytok/plugins/transport_solver_numerics/fytrans.py:560\u001b[0m, in \u001b[0;36mFyTrans.refresh\u001b[0;34m(self, *args, **kwargs)\u001b[0m\n\u001b[1;32m    558\u001b[0m \u001b[39mdef\u001b[39;00m \u001b[39mrefresh\u001b[39m(\u001b[39mself\u001b[39m, \u001b[39m*\u001b[39margs, \u001b[39m*\u001b[39m\u001b[39m*\u001b[39mkwargs):\n\u001b[1;32m    559\u001b[0m     \u001b[39msuper\u001b[39m()\u001b[39m.\u001b[39mrefresh(\u001b[39m*\u001b[39margs,  \u001b[39m*\u001b[39m\u001b[39m*\u001b[39mkwargs)\n\u001b[0;32m--> 560\u001b[0m     \u001b[39mself\u001b[39;49m\u001b[39m.\u001b[39;49m_solve(\u001b[39mself\u001b[39;49m\u001b[39m.\u001b[39;49mtime_slice\u001b[39m.\u001b[39;49mcurrent, \u001b[39mself\u001b[39;49m\u001b[39m.\u001b[39;49mtime_slice\u001b[39m.\u001b[39;49mprevious, \u001b[39m*\u001b[39;49m\u001b[39m*\u001b[39;49m\u001b[39mself\u001b[39;49m\u001b[39m.\u001b[39;49m_dependence)\n",
      "File \u001b[0;32m~/workspace/fytok/python/fytok/plugins/transport_solver_numerics/fytrans.py:533\u001b[0m, in \u001b[0;36mFyTrans._solve\u001b[0;34m(self, current, previous, *args, **kwargs)\u001b[0m\n\u001b[1;32m    529\u001b[0m     Y0[idx\u001b[39m*\u001b[39m\u001b[39m2\u001b[39m] \u001b[39m=\u001b[39m y \u001b[39mif\u001b[39;00m \u001b[39misinstance\u001b[39m(y, np\u001b[39m.\u001b[39mndarray) \u001b[39melse\u001b[39;00m np\u001b[39m.\u001b[39mfull_like(x, y)\n\u001b[1;32m    531\u001b[0m     Y0[idx\u001b[39m*\u001b[39m\u001b[39m2\u001b[39m\u001b[39m+\u001b[39m\u001b[39m1\u001b[39m] \u001b[39m=\u001b[39m \u001b[39m-\u001b[39mFunction(y, x)\u001b[39m.\u001b[39md()(x)\u001b[39m*\u001b[39md(x) \u001b[39m+\u001b[39m y\u001b[39m*\u001b[39me(x)\n\u001b[0;32m--> 533\u001b[0m sol \u001b[39m=\u001b[39m solve_bvp(\n\u001b[1;32m    534\u001b[0m     func,\n\u001b[1;32m    535\u001b[0m     bc,\n\u001b[1;32m    536\u001b[0m     x, Y0,\n\u001b[1;32m    537\u001b[0m     bvp_rms_mask\u001b[39m=\u001b[39;49m\u001b[39mself\u001b[39;49m\u001b[39m.\u001b[39;49mcode\u001b[39m.\u001b[39;49mparameters\u001b[39m.\u001b[39;49mget(\u001b[39m\"\u001b[39;49m\u001b[39mbvp_rms_mask\u001b[39;49m\u001b[39m\"\u001b[39;49m,  []),\n\u001b[1;32m    538\u001b[0m     tolerance\u001b[39m=\u001b[39;49m\u001b[39mself\u001b[39;49m\u001b[39m.\u001b[39;49mcode\u001b[39m.\u001b[39;49mparameters\u001b[39m.\u001b[39;49mget(\u001b[39m\"\u001b[39;49m\u001b[39mtolerance\u001b[39;49m\u001b[39m\"\u001b[39;49m, \u001b[39m1.0e-3\u001b[39;49m),\n\u001b[1;32m    539\u001b[0m     max_nodes\u001b[39m=\u001b[39;49m\u001b[39mself\u001b[39;49m\u001b[39m.\u001b[39;49mcode\u001b[39m.\u001b[39;49mparameters\u001b[39m.\u001b[39;49mget(\u001b[39m\"\u001b[39;49m\u001b[39mmax_nodes\u001b[39;49m\u001b[39m\"\u001b[39;49m, \u001b[39m250\u001b[39;49m),\n\u001b[1;32m    540\u001b[0m     verbose\u001b[39m=\u001b[39;49m\u001b[39mself\u001b[39;49m\u001b[39m.\u001b[39;49mcode\u001b[39m.\u001b[39;49mparameters\u001b[39m.\u001b[39;49mget(\u001b[39m\"\u001b[39;49m\u001b[39mverbose\u001b[39;49m\u001b[39m\"\u001b[39;49m, \u001b[39m2\u001b[39;49m)\n\u001b[1;32m    541\u001b[0m )\n\u001b[1;32m    543\u001b[0m solver_1d\u001b[39m.\u001b[39mgrid\u001b[39m.\u001b[39mremesh(rho_tor_norm\u001b[39m=\u001b[39msol\u001b[39m.\u001b[39mx)\n\u001b[1;32m    545\u001b[0m \u001b[39mfor\u001b[39;00m idx, equ \u001b[39min\u001b[39;00m \u001b[39menumerate\u001b[39m(solver_1d\u001b[39m.\u001b[39mequation):\n",
      "File \u001b[0;32m~/workspace/fytok/SpDM/python/spdm/numlib/bvp.py:1097\u001b[0m, in \u001b[0;36msolve_bvp\u001b[0;34m(fun, bc, x, y, p, S, fun_jac, bc_jac, tol, max_nodes, verbose, bc_tol, bvp_rms_mask, *args, **kwargs)\u001b[0m\n\u001b[1;32m   1092\u001b[0m max_iteration \u001b[39m=\u001b[39m \u001b[39m10\u001b[39m\n\u001b[1;32m   1094\u001b[0m fun_wrapped, bc_wrapped, fun_jac_wrapped, bc_jac_wrapped \u001b[39m=\u001b[39m wrap_functions(\n\u001b[1;32m   1095\u001b[0m     fun, bc, fun_jac, bc_jac, k, a, S, D, dtype)\n\u001b[0;32m-> 1097\u001b[0m f \u001b[39m=\u001b[39m fun_wrapped(x, y, p)\n\u001b[1;32m   1098\u001b[0m \u001b[39mif\u001b[39;00m f\u001b[39m.\u001b[39mshape \u001b[39m!=\u001b[39m y\u001b[39m.\u001b[39mshape:\n\u001b[1;32m   1099\u001b[0m     \u001b[39mraise\u001b[39;00m \u001b[39mValueError\u001b[39;00m(\u001b[39m\"\u001b[39m\u001b[39m`fun` return is expected to have shape \u001b[39m\u001b[39m{}\u001b[39;00m\u001b[39m, \u001b[39m\u001b[39m\"\u001b[39m\n\u001b[1;32m   1100\u001b[0m                      \u001b[39m\"\u001b[39m\u001b[39mbut actually has \u001b[39m\u001b[39m{}\u001b[39;00m\u001b[39m.\u001b[39m\u001b[39m\"\u001b[39m\u001b[39m.\u001b[39mformat(y\u001b[39m.\u001b[39mshape, f\u001b[39m.\u001b[39mshape))\n",
      "File \u001b[0;32m~/workspace/fytok/SpDM/python/spdm/numlib/bvp.py:677\u001b[0m, in \u001b[0;36mwrap_functions.<locals>.fun_p\u001b[0;34m(x, y, _)\u001b[0m\n\u001b[1;32m    676\u001b[0m \u001b[39mdef\u001b[39;00m \u001b[39mfun_p\u001b[39m(x, y, _):\n\u001b[0;32m--> 677\u001b[0m     \u001b[39mreturn\u001b[39;00m np\u001b[39m.\u001b[39masarray(fun(x, y), dtype)\n",
      "File \u001b[0;32m~/workspace/fytok/python/fytok/plugins/transport_solver_numerics/fytrans.py:501\u001b[0m, in \u001b[0;36mFyTrans._solve.<locals>.func\u001b[0;34m(x, y, *args)\u001b[0m\n\u001b[1;32m    498\u001b[0m         \u001b[39melse\u001b[39;00m:\n\u001b[1;32m    499\u001b[0m             res\u001b[39m.\u001b[39mappend(eq_res)\n\u001b[0;32m--> 501\u001b[0m res \u001b[39m=\u001b[39m np\u001b[39m.\u001b[39;49mstack(res)\n\u001b[1;32m    502\u001b[0m \u001b[39m# logger.debug(res[:, :5])\u001b[39;00m\n\u001b[1;32m    503\u001b[0m \u001b[39mreturn\u001b[39;00m res\n",
      "File \u001b[0;32m<__array_function__ internals>:200\u001b[0m, in \u001b[0;36mstack\u001b[0;34m(*args, **kwargs)\u001b[0m\n",
      "File \u001b[0;32m~/.local/lib/python3.10/site-packages/numpy/core/shape_base.py:460\u001b[0m, in \u001b[0;36mstack\u001b[0;34m(arrays, axis, out, dtype, casting)\u001b[0m\n\u001b[1;32m    458\u001b[0m arrays \u001b[39m=\u001b[39m [asanyarray(arr) \u001b[39mfor\u001b[39;00m arr \u001b[39min\u001b[39;00m arrays]\n\u001b[1;32m    459\u001b[0m \u001b[39mif\u001b[39;00m \u001b[39mnot\u001b[39;00m arrays:\n\u001b[0;32m--> 460\u001b[0m     \u001b[39mraise\u001b[39;00m \u001b[39mValueError\u001b[39;00m(\u001b[39m'\u001b[39m\u001b[39mneed at least one array to stack\u001b[39m\u001b[39m'\u001b[39m)\n\u001b[1;32m    462\u001b[0m shapes \u001b[39m=\u001b[39m {arr\u001b[39m.\u001b[39mshape \u001b[39mfor\u001b[39;00m arr \u001b[39min\u001b[39;00m arrays}\n\u001b[1;32m    463\u001b[0m \u001b[39mif\u001b[39;00m \u001b[39mlen\u001b[39m(shapes) \u001b[39m!=\u001b[39m \u001b[39m1\u001b[39m:\n",
      "\u001b[0;31mValueError\u001b[0m: need at least one array to stack"
     ]
    }
   ],
   "source": [
    "\n",
    "tokamak = Tokamak(f\"file+iterprofiles://{next(input_path.glob('*.xls')).as_posix()}\",\n",
    "                  f\"file+geqdsk://{next(input_path.glob('**/*.txt')).as_posix()}\",\n",
    "                  device=\"iter\",\n",
    "                  transport_solver={\"code\":  {\"name\": \"fytrans\",\n",
    "                                              \"parameters\": {\n",
    "                                                  \"rho_tor_norm\": np.linspace(0.01, 0.995, 128),\n",
    "                                                  \"bvp_rms_mask\": [0.96],\n",
    "                                                  \"hyper_diff\": 0.0001\n",
    "                                              }}})\n",
    "\n",
    "tokamak.transport_solver.refresh(\n",
    "    equilibrium=tokamak.equilibrium,\n",
    "    core_profiles=tokamak.core_profiles,\n",
    "    core_transport=tokamak.core_transport,\n",
    "    core_sources=tokamak.core_sources,\n",
    ")"
   ]
  },
  {
   "cell_type": "code",
   "execution_count": null,
   "metadata": {},
   "outputs": [],
   "source": [
    "solver_1d = tokamak.transport_solver.time_slice.current.solver_1d\n",
    "equ = solver_1d.equation[0]\n",
    "a, b, c, d, e, f, g,*_ = equ.coefficient\n",
    "x = solver_1d.grid.rho_tor_norm\n",
    "y = equ.primary_quantity.profile\n",
    "yp = equ.primary_quantity.d_dr\n",
    "flux = equ.primary_quantity.flux\n",
    "dflux = equ.primary_quantity.dflux_dr\n",
    "fig = sp_view.plot([\n",
    "    # * equ.coefficient,\n",
    "    [\n",
    "        (d*yp, \"$D$\"),\n",
    "        (e*y,   \"$v$\"),\n",
    "        # (flux,   f\"$\\Gamma$\"),\n",
    "        ((c*(f - g * y)).I, r\"$S$\"),  # $\\int c*(f - g \\cdot y)$\n",
    "        # ((-d*yp+e*y).I, r\"$\\Gamma$\"),\n",
    "        (-d*yp+e*y-(c*(f - g * y)).I, \"residual\"),\n",
    "\n",
    "    ],\n",
    "    y, yp\n",
    "\n",
    "    # [\n",
    "\n",
    "    #     (dflux, {\"label\": r\"$d\\Gamma$\"}),\n",
    "    #     # (Function(flux, x).d(), r\"$d\\Gamma$\"),\n",
    "    #     ((c*(f - g * y)), r\"$c*(f - g \\cdot y)$\"),\n",
    "    # ],\n",
    "],\n",
    "    x_axis=x)"
   ]
  },
  {
   "cell_type": "code",
   "execution_count": null,
   "metadata": {},
   "outputs": [],
   "source": [
    "fig = sp_view.plot(tokamak.core_profiles.time_slice.current.profiles_1d.electrons.density_thermal,\n",
    "                   x_axis=tokamak.core_profiles.time_slice.current.profiles_1d.grid.rho_tor_norm)"
   ]
  },
  {
   "cell_type": "code",
   "execution_count": null,
   "metadata": {},
   "outputs": [],
   "source": [
    "J=debug_info[0].todense()"
   ]
  },
  {
   "cell_type": "code",
   "execution_count": null,
   "metadata": {},
   "outputs": [],
   "source": [
    "J"
   ]
  },
  {
   "cell_type": "code",
   "execution_count": null,
   "metadata": {},
   "outputs": [],
   "source": []
  }
 ],
 "metadata": {
  "kernelspec": {
   "display_name": "Python 3",
   "language": "python",
   "name": "python3"
  },
  "language_info": {
   "codemirror_mode": {
    "name": "ipython",
    "version": 3
   },
   "file_extension": ".py",
   "mimetype": "text/x-python",
   "name": "python",
   "nbconvert_exporter": "python",
   "pygments_lexer": "ipython3",
   "version": "3.10.12"
  }
 },
 "nbformat": 4,
 "nbformat_minor": 2
}
