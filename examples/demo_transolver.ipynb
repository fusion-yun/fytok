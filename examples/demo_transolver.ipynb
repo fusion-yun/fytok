{
 "cells": [
  {
   "cell_type": "code",
   "execution_count": 1,
   "metadata": {},
   "outputs": [
    {
     "name": "stdout",
     "output_type": "stream",
     "text": [
      "\u001b[0;34m2023-12-07 10:04:27,834 [    spdm]     INFO: \n",
      "###################################################################################################\n",
      "\n",
      "    ______      _____     _\n",
      "   / ____/_  __|_   _|__ | | __\n",
      "  / /_  / / / /  | |/ _ \\| |/ /\n",
      " / __/ / /_/ /   | | (_) |   <\n",
      "/_/    \\__, /    |_|\\___/|_|\\_\\\n",
      "      /____/\n",
      "\n",
      " Copyright (c) 2021-present Zhi YU (Institute of Plasma Physics Chinese Academy of Sciences)\n",
      "            \n",
      " url: https://gitee.com/openfusion/fytok_tutorial \n",
      "      https://github.com/fusion-yun/fytok_tutorial\n",
      "\n",
      " version = alpha  (spdm=beta extension=0.2.2.dev19+g14adade.d20231205, imas_version=v3_38_1_dirty)\n",
      "\n",
      " Run by salmon at 2023-12-07T10:04:27.581768.\n",
      " Job ID: fytok_salmon_surface_3782\n",
      "\n",
      "###################################################################################################\n",
      "\u001b[0m\n"
     ]
    }
   ],
   "source": [
    "import pathlib\n",
    "import numpy as np\n",
    "\n",
    "from fytok.Tokamak import Tokamak\n",
    "\n",
    "from spdm.view import View as sp_view\n",
    "\n",
    "input_path = pathlib.Path(\"/home/salmon/workspace/fytok_data/data/15MA inductive - burn\")"
   ]
  },
  {
   "cell_type": "code",
   "execution_count": 2,
   "metadata": {},
   "outputs": [
    {
     "name": "stdout",
     "output_type": "stream",
     "text": [
      "\u001b[0;34m2023-12-07 10:04:28,006 [    spdm]     INFO: Load module spdm.plugins.data.plugin_xml\u001b[0m\n",
      "\u001b[0;34m2023-12-07 10:04:28,177 [    spdm]     INFO: Load module spdm.plugins.data.plugin_iterprofiles\u001b[0m\n",
      "\u001b[0;34m2023-12-07 10:04:28,256 [    spdm]     INFO: Load module spdm.plugins.data.plugin_geqdsk\u001b[0m\n"
     ]
    }
   ],
   "source": [
    "tokamak = Tokamak(\n",
    "    f\"file+iterprofiles://{next(input_path.glob('*ASTRA.xls')).absolute().as_posix()}\",\n",
    "    f\"file+geqdsk://{next(input_path.glob('**/g*.txt')).absolute().as_posix()}\",\n",
    "    device=\"iter\",\n",
    "    shot=900003,\n",
    "    core_transport={\n",
    "        \"model\": [\n",
    "            {\"code\": {\"name\": \"dummy\"}},\n",
    "            {\"code\": {\"name\": \"fast_alpha\"}},\n",
    "        ]\n",
    "    },\n",
    "    core_sources={\n",
    "        \"source\": [\n",
    "            {\"code\": {\"name\": \"dummy\"}},\n",
    "            {\"code\": {\"name\": \"fusion_reaction\"}},\n",
    "            # {\"code\": {\"name\": \"collisional_equipartition\"}},\n",
    "        ]\n",
    "    },\n",
    "    transport_solver={\n",
    "        \"code\": {\n",
    "            \"name\": \"fy_trans\",\n",
    "            \"parameters\": {\n",
    "                \"rho_tor_norm\": np.linspace(0.01, 0.995, 128),\n",
    "                \"control_parameters\": {\n",
    "                    \"bvp_rms_mask\": [0.96],\n",
    "                    \"hyper_diff\": 0.0001,\n",
    "                    \"max_nodes\": 512,\n",
    "                    \"verbose\": 2,\n",
    "                },\n",
    "            },\n",
    "        },\n",
    "        \"primary_coordinate\": {\"index\": (index := 0), \"label\": r\"\\bar{rho}_{tor_norm}\"},\n",
    "        \"equations\": [\n",
    "            # fmt: off\n",
    "            {\"identifier\": \"ion/D/density\",             \"boundary_condition\": [2, 1]},\n",
    "            {\"identifier\": \"ion/T/density\",             \"boundary_condition\": [2, 1]},\n",
    "            {\"identifier\": \"ion/He/density\",            \"boundary_condition\": [2, 1]},\n",
    "            {\"identifier\": \"ion/alpha/density\",         \"boundary_condition\": [2, 1]},\n",
    "\n",
    "            {\"identifier\": \"ion/D/temperature\",         \"boundary_condition\": [2, 1]},\n",
    "            {\"identifier\": \"ion/T/temperature\",         \"boundary_condition\": [2, 1]},\n",
    "            {\"identifier\": \"ion/He/temperature\",        \"boundary_condition\": [2, 1]},\n",
    "\n",
    "            {\"identifier\": \"electrons/temperature\",     \"boundary_condition\": [2, 1]},\n",
    "            # fmt: on\n",
    "        ],\n",
    "    },\n",
    ")"
   ]
  },
  {
   "cell_type": "code",
   "execution_count": 3,
   "metadata": {},
   "outputs": [
    {
     "name": "stdout",
     "output_type": "stream",
     "text": [
      "\u001b[0;34m2023-12-07 10:04:28,546 [    spdm]     INFO: Load module fytok.plugins.equilibrium.fy_eq\u001b[0m\n",
      "\u001b[0;34m2023-12-07 10:04:28,549 [    spdm]     INFO: Initialize module fytok.modules.Wall \u001b[0m\n",
      "\u001b[0;34m2023-12-07 10:04:28,553 [    spdm]     INFO: Initialize module fytok.modules.TF \u001b[0m\n",
      "\u001b[0;34m2023-12-07 10:04:28,556 [    spdm]     INFO: Initialize module fytok.modules.Magnetics \u001b[0m\n",
      "\u001b[0;34m2023-12-07 10:04:28,559 [    spdm]     INFO: Initialize module fytok.modules.PFActive \u001b[0m\n",
      "\u001b[0;34m2023-12-07 10:04:28,562 [    spdm]     INFO: Initialize module fytok.plugins.equilibrium.FyEqAnalyze \u001b[0m\n",
      "\u001b[0;34m2023-12-07 10:04:28,567 [    spdm]     INFO: Initialize module fytok.modules.CoreProfiles \u001b[0m\n",
      "\u001b[0;34m2023-12-07 10:04:28,571 [    spdm]     INFO: Initialize module fytok.modules.CoreTransport \u001b[0m\n"
     ]
    },
    {
     "data": {
      "text/plain": [
       "{'model': [{'code': {'name': 'dummy'}}, {'code': {'name': 'fast_alpha'}}],\n",
       " 'code': name='CoreTransport'}"
      ]
     },
     "execution_count": 3,
     "metadata": {},
     "output_type": "execute_result"
    }
   ],
   "source": [
    "tokamak.core_transport._cache"
   ]
  },
  {
   "cell_type": "code",
   "execution_count": 4,
   "metadata": {},
   "outputs": [
    {
     "name": "stdout",
     "output_type": "stream",
     "text": [
      "\u001b[0;34m2023-12-07 10:04:28,591 [    spdm]     INFO: Load module fytok.plugins.transport_solver_numerics.fy_trans\u001b[0m\n",
      "\u001b[0;34m2023-12-07 10:04:28,597 [    spdm]     INFO: Initialize module fytok.modules.CoreSources \u001b[0m\n",
      "\u001b[0;34m2023-12-07 10:04:28,602 [    spdm]     INFO: Initialize module fytok.plugins.transport_solver_numerics.fy_trans \u001b[0m\n",
      "\u001b[0;34m2023-12-07 10:04:28,620 [    spdm]     INFO: Load module spdm.mesh.mesh_rectangular\u001b[0m\n",
      "\u001b[0;34m2023-12-07 10:04:29,346 [    spdm]     INFO: Initialize module fytok.plugins.core_transport.model.dummy \u001b[0m\n",
      "\u001b[0;37m2023-12-07 10:04:29,347 [    spdm]    DEBUG: /home/salmon/workspace/fytok/python/fytok/plugins/transport_solver_numerics/fy_trans.py:265:preprocess: dummy\u001b[0m\n",
      "\u001b[0;34m2023-12-07 10:04:29,380 [    spdm]     INFO: Load module fytok.plugins.core_transport.model.fast_alpha\u001b[0m\n",
      "\u001b[0;34m2023-12-07 10:04:29,383 [    spdm]     INFO: Initialize module fytok.plugins.core_transport.model.fast_alpha \u001b[0m\n",
      "\u001b[0;37m2023-12-07 10:04:29,384 [    spdm]    DEBUG: /home/salmon/workspace/fytok/python/fytok/plugins/transport_solver_numerics/fy_trans.py:265:preprocess: fast_alpha\u001b[0m\n",
      "\u001b[0;34m2023-12-07 10:04:29,403 [    spdm]     INFO: Initialize module fytok.plugins.core_sources.source.dummy \u001b[0m\n",
      "\u001b[0;34m2023-12-07 10:04:29,430 [    spdm]     INFO: Load module fytok.plugins.core_sources.source.fusion_reaction\u001b[0m\n",
      "\u001b[0;34m2023-12-07 10:04:29,432 [    spdm]     INFO: Initialize module fytok.plugins.core_sources.source.fusion_reaction \u001b[0m\n",
      "\u001b[0;34m2023-12-07 10:04:29,461 [    spdm]     INFO: Execute module fytok.plugins.transport_solver_numerics.fy_trans\u001b[0m\n",
      "\u001b[0;34m2023-12-07 10:04:29,463 [    spdm]     INFO: Solve transport equations : ion/D/density  ,ion/T/density  ,ion/He/density  ,ion/alpha/density  ,ion/D/temperature  ,ion/T/temperature  ,ion/He/temperature  ,electrons/temperature\u001b[0m\n",
      "\u001b[0;37m2023-12-07 10:04:29,504 [    spdm]    DEBUG: /home/salmon/workspace/fytok/python/fytok/plugins/transport_solver_numerics/fy_trans.py:609:execute: Load initial value from core_profiles!\u001b[0m\n",
      "\u001b[0;31m2023-12-07 10:04:29,526 [    spdm]    ERROR: /home/salmon/workspace/fytok/python/fytok/plugins/transport_solver_numerics/fy_trans.py:636:func: ('ion/T/temperature', d_dr, dflux_dr)\u001b[0m\n"
     ]
    },
    {
     "ename": "RuntimeError",
     "evalue": "Failure to calculate the equation of ion/He/density_flux <TransportSolverNumericsEquation />   !",
     "output_type": "error",
     "traceback": [
      "\u001b[0;31m---------------------------------------------------------------------------\u001b[0m",
      "\u001b[0;31mKeyError\u001b[0m                                  Traceback (most recent call last)",
      "File \u001b[0;32m~/workspace/fytok/SpDM/python/spdm/data/Expression.py:481\u001b[0m, in \u001b[0;36mExpression._eval\u001b[0;34m(self, *args, **kwargs)\u001b[0m\n\u001b[1;32m    480\u001b[0m \u001b[39mtry\u001b[39;00m:\n\u001b[0;32m--> 481\u001b[0m     value \u001b[39m=\u001b[39m func(\u001b[39m*\u001b[39;49margs, \u001b[39m*\u001b[39;49m\u001b[39m*\u001b[39;49mkwargs)\n\u001b[1;32m    482\u001b[0m \u001b[39mexcept\u001b[39;00m \u001b[39mException\u001b[39;00m \u001b[39mas\u001b[39;00m error:\n",
      "File \u001b[0;32m~/workspace/fytok/SpDM/python/spdm/data/Function.py:156\u001b[0m, in \u001b[0;36mFunction.__call__\u001b[0;34m(self, *args, **kwargs)\u001b[0m\n\u001b[1;32m    155\u001b[0m \u001b[39melse\u001b[39;00m:\n\u001b[0;32m--> 156\u001b[0m     \u001b[39mreturn\u001b[39;00m \u001b[39msuper\u001b[39;49m()\u001b[39m.\u001b[39;49m\u001b[39m__call__\u001b[39;49m(\u001b[39m*\u001b[39;49margs, \u001b[39m*\u001b[39;49m\u001b[39m*\u001b[39;49mkwargs)\n",
      "File \u001b[0;32m~/workspace/fytok/SpDM/python/spdm/data/Expression.py:534\u001b[0m, in \u001b[0;36mExpression.__call__\u001b[0;34m(self, *args, **kwargs)\u001b[0m\n\u001b[1;32m    533\u001b[0m \u001b[39melse\u001b[39;00m:\n\u001b[0;32m--> 534\u001b[0m     \u001b[39mreturn\u001b[39;00m \u001b[39mself\u001b[39;49m\u001b[39m.\u001b[39;49m_eval(\u001b[39m*\u001b[39;49margs, \u001b[39m*\u001b[39;49m\u001b[39m*\u001b[39;49mkwargs)\n",
      "File \u001b[0;32m~/workspace/fytok/SpDM/python/spdm/data/Expression.py:475\u001b[0m, in \u001b[0;36mExpression._eval\u001b[0;34m(self, *args, **kwargs)\u001b[0m\n\u001b[1;32m    474\u001b[0m \u001b[39mdef\u001b[39;00m \u001b[39m_eval\u001b[39m(\u001b[39mself\u001b[39m, \u001b[39m*\u001b[39margs, \u001b[39m*\u001b[39m\u001b[39m*\u001b[39mkwargs):\n\u001b[0;32m--> 475\u001b[0m     func \u001b[39m=\u001b[39m \u001b[39mself\u001b[39;49m\u001b[39m.\u001b[39;49m__functor__()\n\u001b[1;32m    477\u001b[0m     \u001b[39mif\u001b[39;00m func \u001b[39mis\u001b[39;00m \u001b[39mNone\u001b[39;00m:\n",
      "File \u001b[0;32m~/workspace/fytok/SpDM/python/spdm/data/Function.py:135\u001b[0m, in \u001b[0;36mFunction.__functor__\u001b[0;34m(self)\u001b[0m\n\u001b[1;32m    134\u001b[0m \u001b[39mif\u001b[39;00m \u001b[39mself\u001b[39m\u001b[39m.\u001b[39m_op \u001b[39mis\u001b[39;00m \u001b[39mNone\u001b[39;00m:\n\u001b[0;32m--> 135\u001b[0m     \u001b[39mself\u001b[39m\u001b[39m.\u001b[39m_op \u001b[39m=\u001b[39m \u001b[39mself\u001b[39;49m\u001b[39m.\u001b[39;49m_interpolate()\n\u001b[1;32m    136\u001b[0m \u001b[39mreturn\u001b[39;00m \u001b[39mself\u001b[39m\u001b[39m.\u001b[39m_op\n",
      "File \u001b[0;32m~/workspace/fytok/SpDM/python/spdm/data/Function.py:142\u001b[0m, in \u001b[0;36mFunction._interpolate\u001b[0;34m(self)\u001b[0m\n\u001b[1;32m    140\u001b[0m     \u001b[39mraise\u001b[39;00m \u001b[39mRuntimeError\u001b[39;00m(\u001b[39mf\u001b[39m\u001b[39m\"\u001b[39m\u001b[39mself._cache is not array_type! \u001b[39m\u001b[39m{\u001b[39;00m(\u001b[39mself\u001b[39m\u001b[39m.\u001b[39m_cache)\u001b[39m}\u001b[39;00m\u001b[39m\"\u001b[39m)\n\u001b[0;32m--> 142\u001b[0m \u001b[39mif\u001b[39;00m \u001b[39mself\u001b[39;49m\u001b[39m.\u001b[39;49mdomain \u001b[39mis\u001b[39;00m \u001b[39mNone\u001b[39;00m:\n\u001b[1;32m    143\u001b[0m     \u001b[39mraise\u001b[39;00m \u001b[39mRuntimeError\u001b[39;00m(\u001b[39mf\u001b[39m\u001b[39m\"\u001b[39m\u001b[39m{\u001b[39;00m\u001b[39mself\u001b[39m\u001b[39m}\u001b[39;00m\u001b[39m  self.domain is None! \u001b[39m\u001b[39m\"\u001b[39m)\n",
      "File \u001b[0;32m~/workspace/fytok/SpDM/python/spdm/data/Expression.py:358\u001b[0m, in \u001b[0;36mExpression.domain\u001b[0;34m(self)\u001b[0m\n\u001b[1;32m    357\u001b[0m \u001b[39mif\u001b[39;00m \u001b[39mself\u001b[39m\u001b[39m.\u001b[39m_domain \u001b[39mis\u001b[39;00m \u001b[39mNone\u001b[39;00m \u001b[39mor\u001b[39;00m \u001b[39mself\u001b[39m\u001b[39m.\u001b[39m_domain \u001b[39mis\u001b[39;00m _not_found_:\n\u001b[0;32m--> 358\u001b[0m     \u001b[39mself\u001b[39m\u001b[39m.\u001b[39m_domain \u001b[39m=\u001b[39m guess_coords(\u001b[39mself\u001b[39;49m)\n\u001b[1;32m    360\u001b[0m \u001b[39mif\u001b[39;00m \u001b[39mself\u001b[39m\u001b[39m.\u001b[39m_domain \u001b[39mis\u001b[39;00m \u001b[39mnot\u001b[39;00m \u001b[39mNone\u001b[39;00m:\n",
      "File \u001b[0;32m~/workspace/fytok/SpDM/python/spdm/data/Expression.py:205\u001b[0m, in \u001b[0;36mguess_coords\u001b[0;34m(holder, prefix, **kwargs)\u001b[0m\n\u001b[1;32m    204\u001b[0m \u001b[39mif\u001b[39;00m \u001b[39mlen\u001b[39m(coords) \u001b[39m==\u001b[39m \u001b[39m0\u001b[39m:\n\u001b[0;32m--> 205\u001b[0m     \u001b[39mreturn\u001b[39;00m guess_coords(\u001b[39mgetattr\u001b[39;49m(holder, \u001b[39m\"\u001b[39;49m\u001b[39m_parent\u001b[39;49m\u001b[39m\"\u001b[39;49m, \u001b[39mNone\u001b[39;49;00m), prefix\u001b[39m=\u001b[39;49mprefix, \u001b[39m*\u001b[39;49m\u001b[39m*\u001b[39;49mkwargs)\n\u001b[1;32m    206\u001b[0m \u001b[39melse\u001b[39;00m:\n",
      "File \u001b[0;32m~/workspace/fytok/SpDM/python/spdm/data/Expression.py:205\u001b[0m, in \u001b[0;36mguess_coords\u001b[0;34m(holder, prefix, **kwargs)\u001b[0m\n\u001b[1;32m    204\u001b[0m \u001b[39mif\u001b[39;00m \u001b[39mlen\u001b[39m(coords) \u001b[39m==\u001b[39m \u001b[39m0\u001b[39m:\n\u001b[0;32m--> 205\u001b[0m     \u001b[39mreturn\u001b[39;00m guess_coords(\u001b[39mgetattr\u001b[39;49m(holder, \u001b[39m\"\u001b[39;49m\u001b[39m_parent\u001b[39;49m\u001b[39m\"\u001b[39;49m, \u001b[39mNone\u001b[39;49;00m), prefix\u001b[39m=\u001b[39;49mprefix, \u001b[39m*\u001b[39;49m\u001b[39m*\u001b[39;49mkwargs)\n\u001b[1;32m    206\u001b[0m \u001b[39melse\u001b[39;00m:\n",
      "File \u001b[0;32m~/workspace/fytok/SpDM/python/spdm/data/Expression.py:183\u001b[0m, in \u001b[0;36mguess_coords\u001b[0;34m(holder, prefix, **kwargs)\u001b[0m\n\u001b[1;32m    180\u001b[0m \u001b[39m# elif isinstance(holder, HTree):\u001b[39;00m\n\u001b[1;32m    181\u001b[0m \u001b[39m#     d = holder.get(c, _not_found_)\u001b[39;00m\n\u001b[1;32m    182\u001b[0m \u001b[39melse\u001b[39;00m:\n\u001b[0;32m--> 183\u001b[0m     d \u001b[39m=\u001b[39m Path(c)\u001b[39m.\u001b[39;49mget(holder, _not_found_)\n\u001b[1;32m    185\u001b[0m \u001b[39mif\u001b[39;00m d \u001b[39mis\u001b[39;00m _not_found_ \u001b[39mor\u001b[39;00m d \u001b[39mis\u001b[39;00m \u001b[39mNone\u001b[39;00m:\n\u001b[1;32m    186\u001b[0m     \u001b[39m# logger.warning(f\"Can not get coordinates {c} from {holder}\")\u001b[39;00m\n",
      "File \u001b[0;32m~/workspace/fytok/SpDM/python/spdm/data/Path.py:604\u001b[0m, in \u001b[0;36mPath.get\u001b[0;34m(self, target, default_value)\u001b[0m\n\u001b[1;32m    603\u001b[0m \u001b[39mdef\u001b[39;00m \u001b[39mget\u001b[39m(\u001b[39mself\u001b[39m, target: typing\u001b[39m.\u001b[39mAny, default_value\u001b[39m=\u001b[39m_not_found_):\n\u001b[0;32m--> 604\u001b[0m     \u001b[39mreturn\u001b[39;00m \u001b[39mself\u001b[39;49m\u001b[39m.\u001b[39;49mfetch(target, default_value\u001b[39m=\u001b[39;49mdefault_value)\n",
      "File \u001b[0;32m~/workspace/fytok/SpDM/python/spdm/data/Path.py:671\u001b[0m, in \u001b[0;36mPath.fetch\u001b[0;34m(self, target, op, default_value, *args, **kwargs)\u001b[0m\n\u001b[1;32m    666\u001b[0m \u001b[39m\u001b[39m\u001b[39m\"\"\"\u001b[39;00m\n\u001b[1;32m    667\u001b[0m \u001b[39m根据路径（self）查询元素。只读，不会修改 target\u001b[39;00m\n\u001b[1;32m    668\u001b[0m \n\u001b[1;32m    669\u001b[0m \u001b[39m对应 RESTful 中的 read，幂等操作\u001b[39;00m\n\u001b[1;32m    670\u001b[0m \u001b[39m\"\"\"\u001b[39;00m\n\u001b[0;32m--> 671\u001b[0m obj, suffix \u001b[39m=\u001b[39m Path\u001b[39m.\u001b[39;49m_get_by_path(target, \u001b[39mself\u001b[39;49m[:])\n\u001b[1;32m    673\u001b[0m \u001b[39mif\u001b[39;00m \u001b[39mlen\u001b[39m(suffix) \u001b[39m==\u001b[39m \u001b[39m0\u001b[39m:\n",
      "File \u001b[0;32m~/workspace/fytok/SpDM/python/spdm/data/Path.py:902\u001b[0m, in \u001b[0;36mPath._get_by_path\u001b[0;34m(target, path, default_value, *args, **kwargs)\u001b[0m\n\u001b[1;32m    901\u001b[0m \u001b[39melif\u001b[39;00m \u001b[39misinstance\u001b[39m(p, (\u001b[39mint\u001b[39m, \u001b[39mstr\u001b[39m)):\n\u001b[0;32m--> 902\u001b[0m     tmp \u001b[39m=\u001b[39m Path\u001b[39m.\u001b[39;49m_op_fetch(obj, p, default_value\u001b[39m=\u001b[39;49m_not_found_ \u001b[39mif\u001b[39;49;00m pos \u001b[39m<\u001b[39;49m length \u001b[39m-\u001b[39;49m \u001b[39m1\u001b[39;49m \u001b[39melse\u001b[39;49;00m default_value)\n\u001b[1;32m    903\u001b[0m \u001b[39melse\u001b[39;00m:\n",
      "File \u001b[0;32m~/workspace/fytok/SpDM/python/spdm/data/Path.py:940\u001b[0m, in \u001b[0;36mPath._op_fetch\u001b[0;34m(target, key, default_value, *args, **kwargs)\u001b[0m\n\u001b[1;32m    939\u001b[0m \u001b[39mif\u001b[39;00m res \u001b[39mis\u001b[39;00m _not_found_ \u001b[39mand\u001b[39;00m \u001b[39mhasattr\u001b[39m(target\u001b[39m.\u001b[39m\u001b[39m__class__\u001b[39m, \u001b[39m\"\u001b[39m\u001b[39mget\u001b[39m\u001b[39m\"\u001b[39m):\n\u001b[0;32m--> 940\u001b[0m     res \u001b[39m=\u001b[39m target\u001b[39m.\u001b[39;49mget(key, _not_found_)\n\u001b[1;32m    941\u001b[0m \u001b[39mif\u001b[39;00m res \u001b[39mis\u001b[39;00m _not_found_ \u001b[39mand\u001b[39;00m \u001b[39mhasattr\u001b[39m(target\u001b[39m.\u001b[39m\u001b[39m__class__\u001b[39m, \u001b[39m\"\u001b[39m\u001b[39m__getitem__\u001b[39m\u001b[39m\"\u001b[39m):\n",
      "File \u001b[0;32m~/workspace/fytok/SpDM/python/spdm/data/HTree.py:274\u001b[0m, in \u001b[0;36mHTree.get\u001b[0;34m(self, path, default_value, force, *args, **kwargs)\u001b[0m\n\u001b[1;32m    273\u001b[0m \u001b[39mif\u001b[39;00m obj \u001b[39mis\u001b[39;00m _undefined_ \u001b[39mand\u001b[39;00m pos \u001b[39m<\u001b[39m \u001b[39mlen\u001b[39m(path):\n\u001b[0;32m--> 274\u001b[0m     \u001b[39mraise\u001b[39;00m \u001b[39mKeyError\u001b[39;00m(\u001b[39mf\u001b[39m\u001b[39m\"\u001b[39m\u001b[39mCan not find \u001b[39m\u001b[39m{\u001b[39;00mpath\u001b[39m}\u001b[39;00m\u001b[39m!\u001b[39m\u001b[39m\"\u001b[39m)\n\u001b[1;32m    276\u001b[0m \u001b[39mreturn\u001b[39;00m obj\n",
      "\u001b[0;31mKeyError\u001b[0m: 'Can not find N!'",
      "\nThe above exception was the direct cause of the following exception:\n",
      "\u001b[0;31mRuntimeError\u001b[0m                              Traceback (most recent call last)",
      "File \u001b[0;32m~/workspace/fytok/python/fytok/plugins/transport_solver_numerics/fy_trans.py:633\u001b[0m, in \u001b[0;36mFyTrans.execute.<locals>.func\u001b[0;34m(x, y, *args)\u001b[0m\n\u001b[1;32m    632\u001b[0m     res[idx \u001b[39m*\u001b[39m \u001b[39m2\u001b[39m] \u001b[39m=\u001b[39m equ\u001b[39m.\u001b[39mprimary_quantity\u001b[39m.\u001b[39md_dr(x, \u001b[39m*\u001b[39my, \u001b[39m*\u001b[39margs)\n\u001b[0;32m--> 633\u001b[0m     res[idx \u001b[39m*\u001b[39m \u001b[39m2\u001b[39m \u001b[39m+\u001b[39m \u001b[39m1\u001b[39m] \u001b[39m=\u001b[39m equ\u001b[39m.\u001b[39;49mprimary_quantity\u001b[39m.\u001b[39;49mdflux_dr(x, \u001b[39m*\u001b[39;49my, \u001b[39m*\u001b[39;49margs)\n\u001b[1;32m    634\u001b[0m \u001b[39mexcept\u001b[39;00m \u001b[39mException\u001b[39;00m \u001b[39mas\u001b[39;00m error:\n\u001b[1;32m    635\u001b[0m     \u001b[39m# a, b, c, d, e, f, g, *_ = equ.coefficient\u001b[39;00m\n",
      "File \u001b[0;32m~/workspace/fytok/SpDM/python/spdm/data/Expression.py:519\u001b[0m, in \u001b[0;36mExpression.__call__\u001b[0;34m(self, *args, **kwargs)\u001b[0m\n\u001b[1;32m    518\u001b[0m \u001b[39mif\u001b[39;00m \u001b[39mcallable\u001b[39m(child):\n\u001b[0;32m--> 519\u001b[0m     value \u001b[39m=\u001b[39m child(\u001b[39m*\u001b[39;49margs, \u001b[39m*\u001b[39;49m\u001b[39m*\u001b[39;49mkwargs)\n\u001b[1;32m    520\u001b[0m \u001b[39melif\u001b[39;00m \u001b[39mhasattr\u001b[39m(child, \u001b[39m\"\u001b[39m\u001b[39m__value__\u001b[39m\u001b[39m\"\u001b[39m):\n",
      "File \u001b[0;32m~/workspace/fytok/SpDM/python/spdm/data/Expression.py:519\u001b[0m, in \u001b[0;36mExpression.__call__\u001b[0;34m(self, *args, **kwargs)\u001b[0m\n\u001b[1;32m    518\u001b[0m \u001b[39mif\u001b[39;00m \u001b[39mcallable\u001b[39m(child):\n\u001b[0;32m--> 519\u001b[0m     value \u001b[39m=\u001b[39m child(\u001b[39m*\u001b[39;49margs, \u001b[39m*\u001b[39;49m\u001b[39m*\u001b[39;49mkwargs)\n\u001b[1;32m    520\u001b[0m \u001b[39melif\u001b[39;00m \u001b[39mhasattr\u001b[39m(child, \u001b[39m\"\u001b[39m\u001b[39m__value__\u001b[39m\u001b[39m\"\u001b[39m):\n",
      "    \u001b[0;31m[... skipping similar frames: Expression.__call__ at line 519 (1 times)]\u001b[0m\n",
      "File \u001b[0;32m~/workspace/fytok/SpDM/python/spdm/data/Expression.py:519\u001b[0m, in \u001b[0;36mExpression.__call__\u001b[0;34m(self, *args, **kwargs)\u001b[0m\n\u001b[1;32m    518\u001b[0m \u001b[39mif\u001b[39;00m \u001b[39mcallable\u001b[39m(child):\n\u001b[0;32m--> 519\u001b[0m     value \u001b[39m=\u001b[39m child(\u001b[39m*\u001b[39;49margs, \u001b[39m*\u001b[39;49m\u001b[39m*\u001b[39;49mkwargs)\n\u001b[1;32m    520\u001b[0m \u001b[39melif\u001b[39;00m \u001b[39mhasattr\u001b[39m(child, \u001b[39m\"\u001b[39m\u001b[39m__value__\u001b[39m\u001b[39m\"\u001b[39m):\n",
      "File \u001b[0;32m~/workspace/fytok/SpDM/python/spdm/data/Expression.py:534\u001b[0m, in \u001b[0;36mExpression.__call__\u001b[0;34m(self, *args, **kwargs)\u001b[0m\n\u001b[1;32m    533\u001b[0m \u001b[39melse\u001b[39;00m:\n\u001b[0;32m--> 534\u001b[0m     \u001b[39mreturn\u001b[39;00m \u001b[39mself\u001b[39;49m\u001b[39m.\u001b[39;49m_eval(\u001b[39m*\u001b[39;49margs, \u001b[39m*\u001b[39;49m\u001b[39m*\u001b[39;49mkwargs)\n",
      "File \u001b[0;32m~/workspace/fytok/SpDM/python/spdm/data/Expression.py:483\u001b[0m, in \u001b[0;36mExpression._eval\u001b[0;34m(self, *args, **kwargs)\u001b[0m\n\u001b[1;32m    482\u001b[0m     \u001b[39mexcept\u001b[39;00m \u001b[39mException\u001b[39;00m \u001b[39mas\u001b[39;00m error:\n\u001b[0;32m--> 483\u001b[0m         \u001b[39mraise\u001b[39;00m \u001b[39mRuntimeError\u001b[39;00m(\u001b[39mf\u001b[39m\u001b[39m\"\u001b[39m\u001b[39mFailure to calculate  equation \u001b[39m\u001b[39m{\u001b[39;00m\u001b[39mself\u001b[39m\u001b[39m.\u001b[39m_repr_latex_()\u001b[39m}\u001b[39;00m\u001b[39m !\u001b[39m\u001b[39m\"\u001b[39m) \u001b[39mfrom\u001b[39;00m \u001b[39merror\u001b[39;00m\n\u001b[1;32m    485\u001b[0m \u001b[39melif\u001b[39;00m \u001b[39misinstance\u001b[39m(func, numeric_type):\n",
      "\u001b[0;31mRuntimeError\u001b[0m: Failure to calculate  equation $$energy\\left(NoneType\\right)$$ !",
      "\nThe above exception was the direct cause of the following exception:\n",
      "\u001b[0;31mRuntimeError\u001b[0m                              Traceback (most recent call last)",
      "\u001b[1;32m/home/salmon/workspace/fytok/examples/demo_transolver.ipynb Cell 4\u001b[0m line \u001b[0;36m1\n\u001b[0;32m----> <a href='vscode-notebook-cell://wsl%2Bubuntu-22.04/home/salmon/workspace/fytok/examples/demo_transolver.ipynb#W3sdnNjb2RlLXJlbW90ZQ%3D%3D?line=0'>1</a>\u001b[0m tokamak\u001b[39m.\u001b[39;49mtransport_solver\u001b[39m.\u001b[39;49mrefresh(\n\u001b[1;32m      <a href='vscode-notebook-cell://wsl%2Bubuntu-22.04/home/salmon/workspace/fytok/examples/demo_transolver.ipynb#W3sdnNjb2RlLXJlbW90ZQ%3D%3D?line=1'>2</a>\u001b[0m     time\u001b[39m=\u001b[39;49m\u001b[39m0.0\u001b[39;49m,\n\u001b[1;32m      <a href='vscode-notebook-cell://wsl%2Bubuntu-22.04/home/salmon/workspace/fytok/examples/demo_transolver.ipynb#W3sdnNjb2RlLXJlbW90ZQ%3D%3D?line=2'>3</a>\u001b[0m     initial_value\u001b[39m=\u001b[39;49m[\u001b[39m1.0e19\u001b[39;49m, \u001b[39m1.0e19\u001b[39;49m, \u001b[39m0.10e19\u001b[39;49m, \u001b[39m0.10e19\u001b[39;49m,\u001b[39m1000\u001b[39;49m, \u001b[39m1000\u001b[39;49m, \u001b[39m1000\u001b[39;49m, \u001b[39m1000\u001b[39;49m],\n\u001b[1;32m      <a href='vscode-notebook-cell://wsl%2Bubuntu-22.04/home/salmon/workspace/fytok/examples/demo_transolver.ipynb#W3sdnNjb2RlLXJlbW90ZQ%3D%3D?line=3'>4</a>\u001b[0m     boundary_value\u001b[39m=\u001b[39;49m[\n\u001b[1;32m      <a href='vscode-notebook-cell://wsl%2Bubuntu-22.04/home/salmon/workspace/fytok/examples/demo_transolver.ipynb#W3sdnNjb2RlLXJlbW90ZQ%3D%3D?line=4'>5</a>\u001b[0m         [[\u001b[39m0.0\u001b[39;49m], [\u001b[39m2.0e19\u001b[39;49m]],   \u001b[39m#   D \u001b[39;49;00m\n\u001b[1;32m      <a href='vscode-notebook-cell://wsl%2Bubuntu-22.04/home/salmon/workspace/fytok/examples/demo_transolver.ipynb#W3sdnNjb2RlLXJlbW90ZQ%3D%3D?line=5'>6</a>\u001b[0m         [[\u001b[39m0.0\u001b[39;49m], [\u001b[39m2.0e19\u001b[39;49m]],   \u001b[39m#   T \u001b[39;49;00m\n\u001b[1;32m      <a href='vscode-notebook-cell://wsl%2Bubuntu-22.04/home/salmon/workspace/fytok/examples/demo_transolver.ipynb#W3sdnNjb2RlLXJlbW90ZQ%3D%3D?line=6'>7</a>\u001b[0m         [[\u001b[39m0.0\u001b[39;49m], [\u001b[39m0.5e18\u001b[39;49m]],   \u001b[39m#   He\u001b[39;49;00m\n\u001b[1;32m      <a href='vscode-notebook-cell://wsl%2Bubuntu-22.04/home/salmon/workspace/fytok/examples/demo_transolver.ipynb#W3sdnNjb2RlLXJlbW90ZQ%3D%3D?line=7'>8</a>\u001b[0m         [[\u001b[39m0.0\u001b[39;49m], [\u001b[39m0.0\u001b[39;49m]],      \u001b[39m#   alpha\u001b[39;49;00m\n\u001b[1;32m      <a href='vscode-notebook-cell://wsl%2Bubuntu-22.04/home/salmon/workspace/fytok/examples/demo_transolver.ipynb#W3sdnNjb2RlLXJlbW90ZQ%3D%3D?line=8'>9</a>\u001b[0m \n\u001b[1;32m     <a href='vscode-notebook-cell://wsl%2Bubuntu-22.04/home/salmon/workspace/fytok/examples/demo_transolver.ipynb#W3sdnNjb2RlLXJlbW90ZQ%3D%3D?line=9'>10</a>\u001b[0m         [[\u001b[39m0.0\u001b[39;49m], [\u001b[39m1000\u001b[39;49m]],     \u001b[39m#   D\u001b[39;49;00m\n\u001b[1;32m     <a href='vscode-notebook-cell://wsl%2Bubuntu-22.04/home/salmon/workspace/fytok/examples/demo_transolver.ipynb#W3sdnNjb2RlLXJlbW90ZQ%3D%3D?line=10'>11</a>\u001b[0m         [[\u001b[39m0.0\u001b[39;49m], [\u001b[39m1000\u001b[39;49m]],     \u001b[39m#   T\u001b[39;49;00m\n\u001b[1;32m     <a href='vscode-notebook-cell://wsl%2Bubuntu-22.04/home/salmon/workspace/fytok/examples/demo_transolver.ipynb#W3sdnNjb2RlLXJlbW90ZQ%3D%3D?line=11'>12</a>\u001b[0m         [[\u001b[39m0.0\u001b[39;49m], [\u001b[39m1000\u001b[39;49m]],     \u001b[39m#   He\u001b[39;49;00m\n\u001b[1;32m     <a href='vscode-notebook-cell://wsl%2Bubuntu-22.04/home/salmon/workspace/fytok/examples/demo_transolver.ipynb#W3sdnNjb2RlLXJlbW90ZQ%3D%3D?line=12'>13</a>\u001b[0m         [[\u001b[39m0.0\u001b[39;49m], [\u001b[39m1000\u001b[39;49m]],     \u001b[39m#   electron\u001b[39;49;00m\n\u001b[1;32m     <a href='vscode-notebook-cell://wsl%2Bubuntu-22.04/home/salmon/workspace/fytok/examples/demo_transolver.ipynb#W3sdnNjb2RlLXJlbW90ZQ%3D%3D?line=13'>14</a>\u001b[0m     ],\n\u001b[1;32m     <a href='vscode-notebook-cell://wsl%2Bubuntu-22.04/home/salmon/workspace/fytok/examples/demo_transolver.ipynb#W3sdnNjb2RlLXJlbW90ZQ%3D%3D?line=14'>15</a>\u001b[0m )\n",
      "File \u001b[0;32m~/workspace/fytok/python/fytok/modules/TransportSolverNumerics.py:284\u001b[0m, in \u001b[0;36mTransportSolverNumerics.refresh\u001b[0;34m(self, equilibrium, core_transport, core_sources, core_profiles, *args, **kwargs)\u001b[0m\n\u001b[1;32m    275\u001b[0m \u001b[39mdef\u001b[39;00m \u001b[39mrefresh\u001b[39m(\n\u001b[1;32m    276\u001b[0m     \u001b[39mself\u001b[39m,\n\u001b[1;32m    277\u001b[0m     \u001b[39m*\u001b[39margs,\n\u001b[0;32m   (...)\u001b[0m\n\u001b[1;32m    282\u001b[0m     \u001b[39m*\u001b[39m\u001b[39m*\u001b[39mkwargs,\n\u001b[1;32m    283\u001b[0m ):\n\u001b[0;32m--> 284\u001b[0m     \u001b[39msuper\u001b[39;49m()\u001b[39m.\u001b[39;49mrefresh(\n\u001b[1;32m    285\u001b[0m         \u001b[39m*\u001b[39;49margs,\n\u001b[1;32m    286\u001b[0m         equilibrium\u001b[39m=\u001b[39;49mequilibrium,\n\u001b[1;32m    287\u001b[0m         core_transport\u001b[39m=\u001b[39;49mcore_transport,\n\u001b[1;32m    288\u001b[0m         core_sources\u001b[39m=\u001b[39;49mcore_sources,\n\u001b[1;32m    289\u001b[0m         core_profiles\u001b[39m=\u001b[39;49mcore_profiles,\n\u001b[1;32m    290\u001b[0m         \u001b[39m*\u001b[39;49m\u001b[39m*\u001b[39;49mkwargs,\n\u001b[1;32m    291\u001b[0m     )\n",
      "File \u001b[0;32m~/workspace/fytok/SpDM/python/spdm/data/Actor.py:184\u001b[0m, in \u001b[0;36mActor.refresh\u001b[0;34m(self, time, *args, **kwargs)\u001b[0m\n\u001b[1;32m    180\u001b[0m kwargs \u001b[39m=\u001b[39m \u001b[39mself\u001b[39m\u001b[39m.\u001b[39minputs\u001b[39m.\u001b[39mupdate(kwargs)  \u001b[39m# 更新 inputs，返回将不是 HTreeNode 的 input\u001b[39;00m\n\u001b[1;32m    182\u001b[0m \u001b[39mself\u001b[39m\u001b[39m.\u001b[39mpreprocess(\u001b[39m*\u001b[39margs, time\u001b[39m=\u001b[39mtime, \u001b[39m*\u001b[39m\u001b[39m*\u001b[39mkwargs)\n\u001b[0;32m--> 184\u001b[0m \u001b[39mself\u001b[39;49m\u001b[39m.\u001b[39;49mexecute(\u001b[39mself\u001b[39;49m\u001b[39m.\u001b[39;49mtime_slice\u001b[39m.\u001b[39;49mcurrent, \u001b[39mself\u001b[39;49m\u001b[39m.\u001b[39;49mtime_slice\u001b[39m.\u001b[39;49mprevious)\n\u001b[1;32m    186\u001b[0m \u001b[39mself\u001b[39m\u001b[39m.\u001b[39mpostprocess(\u001b[39mself\u001b[39m\u001b[39m.\u001b[39mtime_slice\u001b[39m.\u001b[39mcurrent)\n",
      "File \u001b[0;32m~/workspace/fytok/python/fytok/plugins/transport_solver_numerics/fy_trans.py:671\u001b[0m, in \u001b[0;36mFyTrans.execute\u001b[0;34m(self, current, previous, initial_value, *args, **kwargs)\u001b[0m\n\u001b[1;32m    663\u001b[0m     res \u001b[39m=\u001b[39m np\u001b[39m.\u001b[39marray(\n\u001b[1;32m    664\u001b[0m         [\n\u001b[1;32m    665\u001b[0m             func(rho_tor_norm_axis, \u001b[39m*\u001b[39mya, \u001b[39m*\u001b[39margs) \u001b[39mif\u001b[39;00m idx \u001b[39m%\u001b[39m \u001b[39m2\u001b[39m \u001b[39m==\u001b[39m \u001b[39m0\u001b[39m \u001b[39melse\u001b[39;00m func(rho_tor_norm_bdry, \u001b[39m*\u001b[39myb, \u001b[39m*\u001b[39margs)\n\u001b[1;32m    666\u001b[0m             \u001b[39mfor\u001b[39;00m idx, func \u001b[39min\u001b[39;00m \u001b[39menumerate\u001b[39m(bc_list)\n\u001b[1;32m    667\u001b[0m         ]\n\u001b[1;32m    668\u001b[0m     )\n\u001b[1;32m    669\u001b[0m     \u001b[39mreturn\u001b[39;00m res\n\u001b[0;32m--> 671\u001b[0m sol \u001b[39m=\u001b[39m solve_bvp(\n\u001b[1;32m    672\u001b[0m     func,\n\u001b[1;32m    673\u001b[0m     bc,\n\u001b[1;32m    674\u001b[0m     x,\n\u001b[1;32m    675\u001b[0m     Y0,\n\u001b[1;32m    676\u001b[0m     bvp_rms_mask\u001b[39m=\u001b[39;49mcurrent\u001b[39m.\u001b[39;49mcontrol_parameters\u001b[39m.\u001b[39;49mbvp_rms_mask,\n\u001b[1;32m    677\u001b[0m     tolerance\u001b[39m=\u001b[39;49mcurrent\u001b[39m.\u001b[39;49mcontrol_parameters\u001b[39m.\u001b[39;49mtolerance,\n\u001b[1;32m    678\u001b[0m     max_nodes\u001b[39m=\u001b[39;49mcurrent\u001b[39m.\u001b[39;49mcontrol_parameters\u001b[39m.\u001b[39;49mmax_nodes \u001b[39mor\u001b[39;49;00m \u001b[39m0\u001b[39;49m,\n\u001b[1;32m    679\u001b[0m     verbose\u001b[39m=\u001b[39;49mcurrent\u001b[39m.\u001b[39;49mcontrol_parameters\u001b[39m.\u001b[39;49mverbose \u001b[39mor\u001b[39;49;00m \u001b[39m0\u001b[39;49m,\n\u001b[1;32m    680\u001b[0m )\n\u001b[1;32m    682\u001b[0m x \u001b[39m=\u001b[39m sol\u001b[39m.\u001b[39mx\n\u001b[1;32m    684\u001b[0m current\u001b[39m.\u001b[39mgrid\u001b[39m.\u001b[39mremesh(x)\n",
      "File \u001b[0;32m~/workspace/fytok/SpDM/python/spdm/numlib/bvp.py:1097\u001b[0m, in \u001b[0;36msolve_bvp\u001b[0;34m(fun, bc, x, y, p, S, fun_jac, bc_jac, tol, max_nodes, verbose, bc_tol, bvp_rms_mask, *args, **kwargs)\u001b[0m\n\u001b[1;32m   1092\u001b[0m max_iteration \u001b[39m=\u001b[39m \u001b[39m10\u001b[39m\n\u001b[1;32m   1094\u001b[0m fun_wrapped, bc_wrapped, fun_jac_wrapped, bc_jac_wrapped \u001b[39m=\u001b[39m wrap_functions(\n\u001b[1;32m   1095\u001b[0m     fun, bc, fun_jac, bc_jac, k, a, S, D, dtype)\n\u001b[0;32m-> 1097\u001b[0m f \u001b[39m=\u001b[39m fun_wrapped(x, y, p)\n\u001b[1;32m   1098\u001b[0m \u001b[39mif\u001b[39;00m f\u001b[39m.\u001b[39mshape \u001b[39m!=\u001b[39m y\u001b[39m.\u001b[39mshape:\n\u001b[1;32m   1099\u001b[0m     \u001b[39mraise\u001b[39;00m \u001b[39mValueError\u001b[39;00m(\u001b[39m\"\u001b[39m\u001b[39m`fun` return is expected to have shape \u001b[39m\u001b[39m{}\u001b[39;00m\u001b[39m, \u001b[39m\u001b[39m\"\u001b[39m\n\u001b[1;32m   1100\u001b[0m                      \u001b[39m\"\u001b[39m\u001b[39mbut actually has \u001b[39m\u001b[39m{}\u001b[39;00m\u001b[39m.\u001b[39m\u001b[39m\"\u001b[39m\u001b[39m.\u001b[39mformat(y\u001b[39m.\u001b[39mshape, f\u001b[39m.\u001b[39mshape))\n",
      "File \u001b[0;32m~/workspace/fytok/SpDM/python/spdm/numlib/bvp.py:677\u001b[0m, in \u001b[0;36mwrap_functions.<locals>.fun_p\u001b[0;34m(x, y, _)\u001b[0m\n\u001b[1;32m    676\u001b[0m \u001b[39mdef\u001b[39;00m \u001b[39mfun_p\u001b[39m(x, y, _):\n\u001b[0;32m--> 677\u001b[0m     \u001b[39mreturn\u001b[39;00m np\u001b[39m.\u001b[39masarray(fun(x, y), dtype)\n",
      "File \u001b[0;32m~/workspace/fytok/python/fytok/plugins/transport_solver_numerics/fy_trans.py:650\u001b[0m, in \u001b[0;36mFyTrans.execute.<locals>.func\u001b[0;34m(x, y, *args)\u001b[0m\n\u001b[1;32m    634\u001b[0m     \u001b[39mexcept\u001b[39;00m \u001b[39mException\u001b[39;00m \u001b[39mas\u001b[39;00m error:\n\u001b[1;32m    635\u001b[0m         \u001b[39m# a, b, c, d, e, f, g, *_ = equ.coefficient\u001b[39;00m\n\u001b[1;32m    636\u001b[0m         logger\u001b[39m.\u001b[39merror(\n\u001b[1;32m    637\u001b[0m             (\n\u001b[1;32m    638\u001b[0m                 equ\u001b[39m.\u001b[39mprimary_quantity\u001b[39m.\u001b[39midentifier,\n\u001b[0;32m   (...)\u001b[0m\n\u001b[1;32m    647\u001b[0m             )\n\u001b[1;32m    648\u001b[0m         )\n\u001b[0;32m--> 650\u001b[0m         \u001b[39mraise\u001b[39;00m \u001b[39mRuntimeError\u001b[39;00m(\n\u001b[1;32m    651\u001b[0m             \u001b[39mf\u001b[39m\u001b[39m\"\u001b[39m\u001b[39mFailure to calculate the equation of \u001b[39m\u001b[39m{\u001b[39;00mcurrent\u001b[39m.\u001b[39mequation[\u001b[39mint\u001b[39m(idx\u001b[39m/\u001b[39m\u001b[39m2\u001b[39m)]\u001b[39m.\u001b[39mprimary_quantity\u001b[39m.\u001b[39midentifier\u001b[39m}\u001b[39;00m\u001b[39m{\u001b[39;00m\u001b[39m'\u001b[39m\u001b[39m_flux\u001b[39m\u001b[39m'\u001b[39m\u001b[39m \u001b[39m\u001b[39mif\u001b[39;00m\u001b[39m \u001b[39m\u001b[39mint\u001b[39m(idx\u001b[39m/\u001b[39m\u001b[39m2\u001b[39m)\u001b[39m*\u001b[39m\u001b[39m2\u001b[39m\u001b[39m!=\u001b[39midx\u001b[39m \u001b[39m\u001b[39melse\u001b[39;00m\u001b[39m \u001b[39m\u001b[39m'\u001b[39m\u001b[39m'\u001b[39m\u001b[39m}\u001b[39;00m\u001b[39m \u001b[39m\u001b[39m{\u001b[39;00mequ\u001b[39m}\u001b[39;00m\u001b[39m   !\u001b[39m\u001b[39m\"\u001b[39m\n\u001b[1;32m    652\u001b[0m         ) \u001b[39mfrom\u001b[39;00m \u001b[39merror\u001b[39;00m\n\u001b[1;32m    653\u001b[0m \u001b[39mif\u001b[39;00m np\u001b[39m.\u001b[39many(np\u001b[39m.\u001b[39misnan(res)):\n\u001b[1;32m    654\u001b[0m     logger\u001b[39m.\u001b[39mdebug(res)\n",
      "\u001b[0;31mRuntimeError\u001b[0m: Failure to calculate the equation of ion/He/density_flux <TransportSolverNumericsEquation />   !"
     ]
    }
   ],
   "source": [
    "tokamak.transport_solver.refresh(\n",
    "    time=0.0,\n",
    "    initial_value=[1.0e19, 1.0e19, 0.10e19, 0.10e19,1000, 1000, 1000, 1000],\n",
    "    boundary_value=[\n",
    "        [[0.0], [2.0e19]],   #   D \n",
    "        [[0.0], [2.0e19]],   #   T \n",
    "        [[0.0], [0.5e18]],   #   He\n",
    "        [[0.0], [0.0]],      #   alpha\n",
    "\n",
    "        [[0.0], [1000]],     #   D\n",
    "        [[0.0], [1000]],     #   T\n",
    "        [[0.0], [1000]],     #   He\n",
    "        [[0.0], [1000]],     #   electron\n",
    "    ],\n",
    ")"
   ]
  },
  {
   "cell_type": "code",
   "execution_count": null,
   "metadata": {},
   "outputs": [],
   "source": [
    "solver_1d = tokamak.transport_solver.time_slice.current\n",
    "fig = sp_view.plot(\n",
    "    solver_1d.grid.rho_tor_norm,\n",
    "    *sum(\n",
    "        [\n",
    "            [\n",
    "                # (equ.primary_quantity.profile, equ.primary_quantity.identifier),\n",
    "                # (equ.primary_quantity.flux, f\"{equ.primary_quantity.identifier}_flux\"),\n",
    "                (equ.primary_quantity.d_dr, f\"d({equ.primary_quantity.identifier})/dr\"),\n",
    "                (equ.primary_quantity.dflux_dr, f\"d({equ.primary_quantity.identifier}_flux)/dr\"),\n",
    "            ]\n",
    "            for equ in solver_1d.equation\n",
    "        ],\n",
    "        [],\n",
    "    ),\n",
    ")"
   ]
  },
  {
   "cell_type": "code",
   "execution_count": null,
   "metadata": {},
   "outputs": [],
   "source": [
    "core_profiles_1d = tokamak.core_profiles.time_slice.current.profiles_1d\n",
    "fig = sp_view.plot(\n",
    "    solver_1d.grid.rho_tor_norm,\n",
    "    *[\n",
    "        (\n",
    "            [\n",
    "                (\n",
    "                    core_profiles_1d.get(equ.primary_quantity.identifier,0),\n",
    "                    rf\"{equ.primary_quantity.identifier.split('/')[-2]} astra\",\n",
    "                ),\n",
    "                (equ.primary_quantity.profile, rf\"{equ.primary_quantity.identifier.split('/')[-2]} \"),\n",
    "            ],\n",
    "            {\"y_label\": equ.primary_quantity.identifier.split(\"/\")[-1]},\n",
    "        )\n",
    "        for equ in solver_1d.equation\n",
    "    ],\n",
    ")"
   ]
  },
  {
   "cell_type": "code",
   "execution_count": null,
   "metadata": {},
   "outputs": [],
   "source": [
    "s = 0\n",
    "core_sources_1d = tokamak.core_sources.source[s].time_slice.current.profiles_1d\n",
    "core_transport_1d = tokamak.core_transport.model[s].time_slice.current.profiles_1d\n",
    "\n",
    "fig = sp_view.plot(\n",
    "    core_sources_1d.grid.rho_tor_norm,\n",
    "    # (core_sources_1d.electrons.energy, r\"$Q_e$\"),\n",
    "    (core_transport_1d.electrons.energy.d, r\"$\\chi_e$\"),\n",
    "    (core_transport_1d.electrons.energy.v, r\"$V^{pinch}_{Te}$\"),\n",
    "    # (core_sources_1d.electrons.energy_decomposed.explicit_part, r\"$Q_{e}$ explicit\"),\n",
    "    # (core_sources_1d.electrons.energy_decomposed.implicit_part, r\"$Q_{e}$ implicit\"),\n",
    "    (core_transport_1d.electrons.particles.d, r\"$D_e$\"),\n",
    "    (core_transport_1d.electrons.particles.v, r\"$V_e$\"),\n",
    "    *[(ion.particles, rf\"$S_{{{ion.label}}}$\") for ion in core_sources_1d.ion],\n",
    "    *[(ion.energy, rf\"$Q_{{{ion.label}}}$\") for ion in core_sources_1d.ion],\n",
    "    x_label=r\"$\\bar{\\rho}_{tor}$\",\n",
    ")"
   ]
  },
  {
   "cell_type": "code",
   "execution_count": null,
   "metadata": {},
   "outputs": [],
   "source": [
    "vars = sum([[equ.primary_quantity.profile, equ.primary_quantity.flux] for equ in solver_1d.equation], [])\n",
    "equ = solver_1d.equation[0]\n",
    "*_, (a, b, c, d, e, f, g) = equ.coefficient\n",
    "x = solver_1d.grid.rho_tor_norm\n",
    "# y = equ.primary_quantity.profile\n",
    "# yp = equ.primary_quantity.d_dr\n",
    "# flux = equ.primary_quantity.flux\n",
    "# dflux = equ.primary_quantity.dflux_dr\n",
    "fig = sp_view.plot(\n",
    "    x,\n",
    "    (a(x, *vars), \"a\"),\n",
    "    (b(x, *vars), \"b\"),\n",
    "    # (c(x,*vars), \"c\"),\n",
    "    (d(x, *vars), \"d\"),\n",
    "    (e(x, *vars), \"e\"),\n",
    "    (f(x, *vars), \"f\"),\n",
    "    # (g(x, *vars), \"g\"),\n",
    "    # [\n",
    "    #     (d*yp, \"$D$\"),\n",
    "    #     (e*y,   \"$v$\"),\n",
    "    #     # (flux,   f\"$\\Gamma$\"),\n",
    "    #     ((c*(f - g * y)).I, r\"$S$\"),  # $\\int c*(f - g \\cdot y)$\n",
    "    #     # ((-d*yp+e*y).I, r\"$\\Gamma$\"),\n",
    "    #     (-d*yp+e*y-(c*(f - g * y)).I, \"residual\"),\n",
    "    # ],\n",
    "    # y, yp\n",
    "    # [\n",
    "    #     (dflux, {\"label\": r\"$d\\Gamma$\"}),\n",
    "    #     # (Function(flux, x).d(), r\"$d\\Gamma$\"),\n",
    "    #     ((c*(f - g * y)), r\"$c*(f - g \\cdot y)$\"),\n",
    "    # ],\n",
    ")"
   ]
  },
  {
   "cell_type": "code",
   "execution_count": null,
   "metadata": {},
   "outputs": [],
   "source": []
  }
 ],
 "metadata": {
  "kernelspec": {
   "display_name": "Python 3",
   "language": "python",
   "name": "python3"
  },
  "language_info": {
   "codemirror_mode": {
    "name": "ipython",
    "version": 3
   },
   "file_extension": ".py",
   "mimetype": "text/x-python",
   "name": "python",
   "nbconvert_exporter": "python",
   "pygments_lexer": "ipython3",
   "version": "3.10.12"
  }
 },
 "nbformat": 4,
 "nbformat_minor": 2
}
