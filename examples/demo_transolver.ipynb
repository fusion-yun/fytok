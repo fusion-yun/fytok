{
 "cells": [
  {
   "cell_type": "code",
   "execution_count": null,
   "metadata": {},
   "outputs": [],
   "source": [
    "import pathlib\n",
    "import numpy as np\n",
    "\n",
    "from fytok.Tokamak import Tokamak\n",
    "from spdm.view import View as sp_view\n",
    "\n",
    "data_path = pathlib.Path(\"/home/salmon/workspace/fytok_data/data/15MA inductive - burn\")"
   ]
  },
  {
   "cell_type": "code",
   "execution_count": null,
   "metadata": {},
   "outputs": [],
   "source": [
    "tokamak = Tokamak(\n",
    "    f\"file+iterprofiles://{next(data_path.glob('*ASTRA.xls')).absolute().as_posix()}\",\n",
    "    f\"file+geqdsk://{next(data_path.glob('**/g*.txt')).absolute().as_posix()}\",\n",
    "    device=\"iter\",\n",
    "    shot=900003,\n",
    "    equilibrium={\"code\": {\"parameters\": {\"psi_norm\": np.linspace(0.01, 0.996, 64)}}},\n",
    "    core_transport={\n",
    "        \"model\": [\n",
    "            {\"code\": {\"name\": \"dummy\"}},\n",
    "            # {\"code\": {\"name\": \"fast_alpha\"}},\n",
    "        ]\n",
    "    },\n",
    "    core_sources={\n",
    "        \"source\": [\n",
    "            {\"code\": {\"name\": \"dummy\"}},\n",
    "            # {\"code\": {\"name\": \"collisional_equipartition\"}},\n",
    "            {\"code\": {\"name\": \"fusion_reaction\", \"parameters\": {\"reactions\": [\"D(t,n)He\"]}}},\n",
    "            # {\"code\": {\"name\": \"slowing_down\", \"parameters\": {\"species\": [\"He\"]}}},\n",
    "        ]\n",
    "    },\n",
    "    transport_solver={\n",
    "        \"code\": {\n",
    "            \"name\": \"fy_trans\",\n",
    "            \"parameters\": {\n",
    "                \"rho_tor_norm\": np.linspace(0.01, 1.0, 128),\n",
    "                \"bvp_rms_mask\": [0.96],\n",
    "                \"hyper_diff\": 0.0001,\n",
    "                \"max_nodes\": 512,\n",
    "                \"verbose\": 2,\n",
    "            },\n",
    "        },\n",
    "        \"species\": [\"D\", \"T\", \"He\"],\n",
    "        \"impurity\": [\"Ar\", \"Be\"],\n",
    "        \"boundary_condition_type\": {\n",
    "            # fmt: off\n",
    "            \"*/density_thermal\"                 : (2, 1),\n",
    "            \"*/temperature\"             : (2, 1),\n",
    "          \n",
    "            \"electrons/temperature\"     : (2, 1),\n",
    "            # fmt: on\n",
    "        },\n",
    "    },\n",
    ")"
   ]
  },
  {
   "cell_type": "code",
   "execution_count": null,
   "metadata": {},
   "outputs": [],
   "source": [
    "tokamak.transport_solver.refresh(\n",
    "    time=0.0,\n",
    "    # fmt:off\n",
    "    initial_value={\n",
    "        \"ion/D/density_thermal\":            1.0e19,\n",
    "        \"ion/T/density_thermal\":            1.0e19,\n",
    "        \"ion/He/density_thermal\":           0.1e19,\n",
    "        \"ion/alpha/density_thermal\":        0.0,\n",
    "\n",
    "        \"ion/D/temperature\":                1000,\n",
    "        \"ion/T/temperature\":                1000,\n",
    "        \"ion/He/temperature\":               1000,\n",
    "        \n",
    "        \"electrons/temperature\":            1000,\n",
    "    },\n",
    "    boundary_value={\n",
    "        \"ion/D/density_thermal\":            ([0.0], [1.3e19]), \n",
    "        \"ion/T/density_thermal\":            ([0.0], [1.3e19]), \n",
    "        \"ion/He/density_thermal\":           ([0.0], [1.0e16]), \n",
    "        \"ion/alpha/density_thermal\":        ([0.0], [2.0e18]), \n",
    "\n",
    "        \"ion/D/temperature\":        ([0.0], [200]),   \n",
    "        \"ion/T/temperature\":        ([0.0], [200]),   \n",
    "        \"ion/He/temperature\":       ([0.0], [200]),   \n",
    "        \"electrons/temperature\":    ([0.0], [200]),   \n",
    "    },\n",
    "    # fmt:on\n",
    ")"
   ]
  },
  {
   "cell_type": "code",
   "execution_count": null,
   "metadata": {},
   "outputs": [],
   "source": [
    "solver_1d = tokamak.transport_solver.time_slice.current"
   ]
  },
  {
   "cell_type": "code",
   "execution_count": null,
   "metadata": {},
   "outputs": [],
   "source": [
    "core_profiles_1d = tokamak.transport_solver.fetch()\n",
    "core_profiles_1d_astra = tokamak.core_profiles.time_slice.current.profiles_1d\n",
    "fig = sp_view.plot(\n",
    "    solver_1d.grid.rho_tor_norm,\n",
    "    *[\n",
    "        [\n",
    "            (core_profiles_1d.get(equ.identifier), rf\"{equ.identifier} \"),\n",
    "            (core_profiles_1d_astra.get(equ.identifier, 0), rf\"{equ.identifier} astra\"),\n",
    "        ]\n",
    "        for equ in solver_1d.equations\n",
    "    ],\n",
    ")"
   ]
  },
  {
   "cell_type": "code",
   "execution_count": null,
   "metadata": {},
   "outputs": [],
   "source": [
    "solver_1d.equations[4].coefficient[5]"
   ]
  },
  {
   "cell_type": "code",
   "execution_count": null,
   "metadata": {},
   "outputs": [],
   "source": [
    "fig = sp_view.plot(\n",
    "    solver_1d.grid.rho_tor_norm,\n",
    "    [\n",
    "        (core_profiles_1d.electrons.density, r\"$n_{e}$\"),\n",
    "        (core_profiles_1d_astra.electrons.density, r\"$n_{e}$ astra\"),\n",
    "    ],\n",
    ")"
   ]
  },
  {
   "cell_type": "code",
   "execution_count": null,
   "metadata": {},
   "outputs": [],
   "source": [
    "core_profiles_1d.get(\"ion/T/temperature\")[-1]"
   ]
  },
  {
   "cell_type": "code",
   "execution_count": null,
   "metadata": {},
   "outputs": [],
   "source": [
    "fig = sp_view.plot(\n",
    "    solver_1d.grid.rho_tor_norm,\n",
    "    *sum(\n",
    "        [\n",
    "            [\n",
    "                # (equ.profile, equ.identifier),\n",
    "                # (equ.flux, f\"{equ.identifier}_flux\"),\n",
    "                (equ.d_dr, f\"d({equ.identifier})/dr\"),\n",
    "                (equ.dflux_dr, f\"d({equ.identifier}_flux)/dr\"),\n",
    "            ]\n",
    "            for equ in solver_1d.equations\n",
    "        ],\n",
    "        [],\n",
    "    ),\n",
    ")"
   ]
  },
  {
   "cell_type": "code",
   "execution_count": null,
   "metadata": {},
   "outputs": [],
   "source": [
    "fig = sp_view.plot(\n",
    "    solver_1d.grid.rho_tor_norm,\n",
    "    *sum(\n",
    "        [\n",
    "            [\n",
    "                (equ.d_dr, f\"d({equ.identifier})/dr\"),\n",
    "                (equ.dflux_dr, f\"d({equ.identifier}_flux)/dr\"),\n",
    "            ]\n",
    "            for equ in solver_1d.equations\n",
    "        ],\n",
    "        [],\n",
    "    ),\n",
    ")"
   ]
  },
  {
   "cell_type": "code",
   "execution_count": null,
   "metadata": {},
   "outputs": [],
   "source": [
    "core_transport_1d = tokamak.core_transport.model[0].time_slice.current.profiles_1d\n",
    "\n",
    "fig = sp_view.plot(\n",
    "    core_transport_1d.grid_d.rho_tor_norm,\n",
    "    (core_transport_1d.electrons.energy.d, r\"$\\chi_e$\"),\n",
    "    (core_transport_1d.electrons.energy.v, r\"$V^{pinch}_{Te}$\"),\n",
    "    # (core_sources_1d.electrons.energy_decomposed.explicit_part, r\"$Q_{e}$ explicit\"),\n",
    "    # (core_sources_1d.electrons.energy_decomposed.implicit_part, r\"$Q_{e}$ implicit\"),\n",
    "    (core_transport_1d.electrons.particles.d, r\"$D_e$\"),\n",
    "    (core_transport_1d.electrons.particles.v, r\"$V_e$\"),\n",
    "    *[(ion.energy.d, rf\"$\\chi_{{{ion.label}}}$\") for ion in core_transport_1d.ion],\n",
    "    *[(ion.energy.v, rf\"$V^{{pinch}}_{{T{ion.label}}}$\") for ion in core_transport_1d.ion],\n",
    "    *[(ion.particles.d, rf\"$D_{{{ion.label}}}$\") for ion in core_transport_1d.ion],\n",
    "    *[(ion.particles.v, rf\"$v_{{{ion.label}}}$\") for ion in core_transport_1d.ion],\n",
    "    x_label=r\"$\\bar{\\rho}_{tor}$\",\n",
    ")"
   ]
  },
  {
   "cell_type": "code",
   "execution_count": null,
   "metadata": {},
   "outputs": [],
   "source": [
    "variables = sum([[equ.profile, equ.flux] for equ in solver_1d.equations], [])\n",
    "equ = solver_1d.equations[4]\n",
    "bc0,bc1, a, b, c, d, e, f, g,ym = equ.coefficient\n",
    "x = solver_1d.grid.rho_tor_norm\n",
    "# y = equ.profile\n",
    "# yp = equ.d_dr\n",
    "# flux = equ.flux\n",
    "# dflux = equ.dflux_dr\n",
    "fig = sp_view.plot(\n",
    "    x,\n",
    "    # (a(x, *variables), \"a\"),\n",
    "    # (b(x, *variables), \"b\"),\n",
    "    # (c(x,*vars), \"c\"),\n",
    "    (d(x, *variables), \"d\"),\n",
    "    (e(x, *variables), \"e\"),\n",
    "    (f(x, *variables), \"f\"),\n",
    "    # (g(x, *vars), \"g\"),\n",
    "    # tokamak.transport_solver.equations[2].d_dr,\n",
    "    # [\n",
    "    #     (d*yp, \"$D$\"),\n",
    "    #     (e*y,   \"$v$\"),\n",
    "    #     # (flux,   f\"$\\Gamma$\"),\n",
    "    #     ((c*(f - g * y)).I, r\"$S$\"),  # $\\int c*(f - g \\cdot y)$\n",
    "    #     # ((-d*yp+e*y).I, r\"$\\Gamma$\"),\n",
    "    #     (-d*yp+e*y-(c*(f - g * y)).I, \"residual\"),\n",
    "    # ],\n",
    "    # y, yp\n",
    "    # [\n",
    "    #     (dflux, {\"label\": r\"$d\\Gamma$\"}),\n",
    "    #     # (Function(flux, x).d(), r\"$d\\Gamma$\"),\n",
    "    #     ((c*(f - g * y)), r\"$c*(f - g \\cdot y)$\"),\n",
    "    # ],\n",
    ")"
   ]
  },
  {
   "cell_type": "code",
   "execution_count": null,
   "metadata": {},
   "outputs": [],
   "source": [
    "fig = sp_view.plot(\n",
    "    x,\n",
    "    solver_1d.equations[1].coefficient[5](x, *variables),\n",
    "    solver_1d.equations[2].coefficient[5](x, *variables),\n",
    "    solver_1d.equations[3].coefficient[5](x, *variables),\n",
    ")"
   ]
  },
  {
   "cell_type": "code",
   "execution_count": null,
   "metadata": {},
   "outputs": [],
   "source": []
  }
 ],
 "metadata": {
  "kernelspec": {
   "display_name": "Python 3",
   "language": "python",
   "name": "python3"
  },
  "language_info": {
   "codemirror_mode": {
    "name": "ipython",
    "version": 3
   },
   "file_extension": ".py",
   "mimetype": "text/x-python",
   "name": "python",
   "nbconvert_exporter": "python",
   "pygments_lexer": "ipython3",
   "version": "3.10.12"
  }
 },
 "nbformat": 4,
 "nbformat_minor": 2
}
