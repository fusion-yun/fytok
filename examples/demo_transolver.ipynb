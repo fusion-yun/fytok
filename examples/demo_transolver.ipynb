{
 "cells": [
  {
   "cell_type": "code",
   "execution_count": 1,
   "metadata": {},
   "outputs": [
    {
     "name": "stdout",
     "output_type": "stream",
     "text": [
      "\u001b[0;34m2023-11-22 05:33:05,390 [   fytok]     INFO: \n",
      "#######################################################################################################################\n",
      "    ______      _____     _\n",
      "   / ____/_  __|_   _|__ | | __\n",
      "  / /_  / / / /  | |/ _ \\| |/ /\n",
      " / __/ / /_/ /   | | (_) |   <\n",
      "/_/    \\__, /    |_|\\___/|_|\\_\\\n",
      "      /____/\n",
      "\n",
      " Copyright (c) 2021-present Zhi YU (Institute of Plasma Physics Chinese Academy of Sciences)\n",
      "            \n",
      " url: https://gitee.com/openfusion/fytok_tutorial \n",
      "      https://github.com/fusion-yun/fytok_tutorial\n",
      "\n",
      " version = develop  (spdm=develop extension=0.2.2.dev11+g706f667, imas_version=v3_38_1_dirty)\n",
      "\n",
      " Run by salmon at 2023-11-22T05:33:05.390724.\n",
      " Job ID: fytok_salmon_surface_7872\n",
      "\n",
      "#######################################################################################################################\n",
      "\u001b[0m\n"
     ]
    }
   ],
   "source": [
    "import pathlib\n",
    "import numpy as np\n",
    "from fytok.Tokamak import Tokamak\n",
    "from spdm.view import View as sp_view\n",
    "\n",
    "input_path = pathlib.Path(\"/home/salmon/workspace/fytok_data/data/15MA inductive - burn\")"
   ]
  },
  {
   "cell_type": "code",
   "execution_count": 2,
   "metadata": {},
   "outputs": [
    {
     "name": "stdout",
     "output_type": "stream",
     "text": [
      "\u001b[0;37m2023-11-22 05:33:06,477 [   fytok]    DEBUG: /home/salmon/workspace/fytok/SpDM/python/spdm/utils/sp_export.py:66:sp_load_module: Load module spdm.plugins.data.plugin_xml\u001b[0m\n",
      "\u001b[0;37m2023-11-22 05:33:06,696 [   fytok]    DEBUG: /home/salmon/workspace/fytok/SpDM/python/spdm/utils/sp_export.py:66:sp_load_module: Load module spdm.plugins.data.plugin_iterprofiles\u001b[0m\n",
      "\u001b[0;37m2023-11-22 05:33:06,794 [   fytok]    DEBUG: /home/salmon/workspace/fytok/SpDM/python/spdm/utils/sp_export.py:66:sp_load_module: Load module spdm.plugins.data.plugin_geqdsk\u001b[0m\n"
     ]
    }
   ],
   "source": [
    "tokamak = Tokamak(\n",
    "    f\"file+iterprofiles://{next(input_path.glob('*ASTRA.xls')).absolute().as_posix()}\",\n",
    "    f\"file+geqdsk://{next(input_path.glob('**/g*.txt')).absolute().as_posix()}\",\n",
    "    device=\"iter\",\n",
    "    shot=900003,\n",
    "    time=2.30,\n",
    "    core_transport={\"model\": [{\"code\": {\"name\": \"dummy\"}}]},\n",
    "    core_sources={  \n",
    "        \"source\": [\n",
    "            {\"code\": {\"name\": \"dummy\"}},\n",
    "            # {\"code\": {\"name\": \"fusion_reaction\"}},\n",
    "        ]\n",
    "    },\n",
    "    transport_solver={\n",
    "        \"code\": {\n",
    "            \"name\": \"fy_trans\",\n",
    "            \"parameters\": {\n",
    "                \"rho_tor_norm\": np.linspace(0.01, 0.995, 128),\n",
    "                \"bvp_rms_mask\": [0.96],\n",
    "                \"hyper_diff\": 0.0001,\n",
    "                \"max_nodes\": 250,\n",
    "            },\n",
    "        },\n",
    "    },\n",
    ")"
   ]
  },
  {
   "cell_type": "code",
   "execution_count": null,
   "metadata": {},
   "outputs": [],
   "source": [
    "tokamak.equilibrium.refresh()"
   ]
  },
  {
   "cell_type": "code",
   "execution_count": 3,
   "metadata": {},
   "outputs": [
    {
     "name": "stdout",
     "output_type": "stream",
     "text": [
      "\u001b[0;37m2023-11-22 05:33:09,559 [   fytok]    DEBUG: /home/salmon/workspace/fytok/SpDM/python/spdm/utils/sp_export.py:66:sp_load_module: Load module fytok.plugins.transport_solver_numerics.fy_trans\u001b[0m\n",
      "\u001b[0;37m2023-11-22 05:33:10,063 [   fytok]    DEBUG: /home/salmon/workspace/fytok/SpDM/python/spdm/utils/sp_export.py:66:sp_load_module: Load module fytok.plugins.equilibrium.fy_eq\u001b[0m\n",
      "\u001b[0;37m2023-11-22 05:33:10,091 [   fytok]    DEBUG: /home/salmon/workspace/fytok/SpDM/python/spdm/data/Actor.py:166:refresh: {'core_sources': <fytok.modules.CoreSources.CoreSources object at 0x7f153ff2ed40>,\n",
      " 'core_transport': <fytok.modules.CoreTransport.CoreTransport object at 0x7f153ff2eb00>,\n",
      " 'equilibrium': <fytok.plugins.equilibrium.fy_eq.FyEqAnalyze object at 0x7f154a3f4400>}\u001b[0m\n"
     ]
    },
    {
     "ename": "RuntimeError",
     "evalue": "<class 'fytok.modules.Utilities.CoreRadialGrid'> id=psi: 'getter' failed!",
     "output_type": "error",
     "traceback": [
      "\u001b[0;31m---------------------------------------------------------------------------\u001b[0m",
      "\u001b[0;31mTypeError\u001b[0m                                 Traceback (most recent call last)",
      "File \u001b[0;32m~/workspace/fytok/SpDM/python/spdm/data/HTree.py:403\u001b[0m, in \u001b[0;36mHTree._as_child\u001b[0;34m(self, value, key, default_value, _type_hint, _entry, _parent, _getter, force, **kwargs)\u001b[0m\n\u001b[1;32m    402\u001b[0m \u001b[39mtry\u001b[39;00m:\n\u001b[0;32m--> 403\u001b[0m     value \u001b[39m=\u001b[39m _getter(\u001b[39mself\u001b[39;49m)\n\u001b[1;32m    404\u001b[0m \u001b[39mexcept\u001b[39;00m \u001b[39mException\u001b[39;00m \u001b[39mas\u001b[39;00m error:\n",
      "File \u001b[0;32m~/workspace/fytok/python/fytok/modules/Utilities.py:216\u001b[0m, in \u001b[0;36mCoreRadialGrid.psi\u001b[0;34m(self)\u001b[0m\n\u001b[1;32m    214\u001b[0m \u001b[39m@sp_property\u001b[39m\n\u001b[1;32m    215\u001b[0m \u001b[39mdef\u001b[39;00m \u001b[39mpsi\u001b[39m(\u001b[39mself\u001b[39m) \u001b[39m-\u001b[39m\u001b[39m>\u001b[39m array_type:\n\u001b[0;32m--> 216\u001b[0m     \u001b[39mreturn\u001b[39;00m \u001b[39mself\u001b[39m\u001b[39m.\u001b[39mpsi_norm \u001b[39m*\u001b[39m (\u001b[39mself\u001b[39;49m\u001b[39m.\u001b[39;49mpsi_boundary \u001b[39m-\u001b[39;49m \u001b[39mself\u001b[39;49m\u001b[39m.\u001b[39;49mpsi_axis) \u001b[39m+\u001b[39m \u001b[39mself\u001b[39m\u001b[39m.\u001b[39mpsi_axis\n",
      "\u001b[0;31mTypeError\u001b[0m: unsupported operand type(s) for -: 'tags' and 'tags'",
      "\nThe above exception was the direct cause of the following exception:\n",
      "\u001b[0;31mRuntimeError\u001b[0m                              Traceback (most recent call last)",
      "\u001b[1;32m/home/salmon/workspace/fytok/examples/demo_transolver.ipynb Cell 4\u001b[0m line \u001b[0;36m1\n\u001b[0;32m----> <a href='vscode-notebook-cell://wsl%2Bubuntu-22.04/home/salmon/workspace/fytok/examples/demo_transolver.ipynb#W2sdnNjb2RlLXJlbW90ZQ%3D%3D?line=0'>1</a>\u001b[0m tokamak\u001b[39m.\u001b[39;49mtransport_solver\u001b[39m.\u001b[39;49mrefresh(\n\u001b[1;32m      <a href='vscode-notebook-cell://wsl%2Bubuntu-22.04/home/salmon/workspace/fytok/examples/demo_transolver.ipynb#W2sdnNjb2RlLXJlbW90ZQ%3D%3D?line=1'>2</a>\u001b[0m     {\n\u001b[1;32m      <a href='vscode-notebook-cell://wsl%2Bubuntu-22.04/home/salmon/workspace/fytok/examples/demo_transolver.ipynb#W2sdnNjb2RlLXJlbW90ZQ%3D%3D?line=2'>3</a>\u001b[0m         \u001b[39m\"\u001b[39;49m\u001b[39mequation\u001b[39;49m\u001b[39m\"\u001b[39;49m: [\n\u001b[1;32m      <a href='vscode-notebook-cell://wsl%2Bubuntu-22.04/home/salmon/workspace/fytok/examples/demo_transolver.ipynb#W2sdnNjb2RlLXJlbW90ZQ%3D%3D?line=3'>4</a>\u001b[0m             \u001b[39m# fmt:off\u001b[39;49;00m\n\u001b[1;32m      <a href='vscode-notebook-cell://wsl%2Bubuntu-22.04/home/salmon/workspace/fytok/examples/demo_transolver.ipynb#W2sdnNjb2RlLXJlbW90ZQ%3D%3D?line=4'>5</a>\u001b[0m         {\u001b[39m\"\u001b[39;49m\u001b[39mprimary_quantity\u001b[39;49m\u001b[39m\"\u001b[39;49m:{\u001b[39m\"\u001b[39;49m\u001b[39midentifier\u001b[39;49m\u001b[39m\"\u001b[39;49m: \u001b[39m\"\u001b[39;49m\u001b[39mion/D/density_thermal\u001b[39;49m\u001b[39m\"\u001b[39;49m,\u001b[39m\"\u001b[39;49m\u001b[39mprofile\u001b[39;49m\u001b[39m\"\u001b[39;49m:\u001b[39m1.0\u001b[39;49m},\u001b[39m\"\u001b[39;49m\u001b[39mboundary_condition\u001b[39;49m\u001b[39m\"\u001b[39;49m:[{\u001b[39m\"\u001b[39;49m\u001b[39midentifier\u001b[39;49m\u001b[39m\"\u001b[39;49m:{\u001b[39m\"\u001b[39;49m\u001b[39mindex\u001b[39;49m\u001b[39m\"\u001b[39;49m:\u001b[39m2\u001b[39;49m},\u001b[39m\"\u001b[39;49m\u001b[39mrho_tor_norm\u001b[39;49m\u001b[39m\"\u001b[39;49m:\u001b[39m0.01\u001b[39;49m,\u001b[39m\"\u001b[39;49m\u001b[39mvalue\u001b[39;49m\u001b[39m\"\u001b[39;49m:[\u001b[39m0.0\u001b[39;49m]},{\u001b[39m\"\u001b[39;49m\u001b[39midentifier\u001b[39;49m\u001b[39m\"\u001b[39;49m:{\u001b[39m\"\u001b[39;49m\u001b[39mindex\u001b[39;49m\u001b[39m\"\u001b[39;49m:\u001b[39m1\u001b[39;49m},\u001b[39m\"\u001b[39;49m\u001b[39mrho_thor_norm\u001b[39;49m\u001b[39m\"\u001b[39;49m:\u001b[39m0.995\u001b[39;49m,\u001b[39m\"\u001b[39;49m\u001b[39mvalue\u001b[39;49m\u001b[39m\"\u001b[39;49m:[\u001b[39m2.0e19\u001b[39;49m]}]},\n\u001b[1;32m      <a href='vscode-notebook-cell://wsl%2Bubuntu-22.04/home/salmon/workspace/fytok/examples/demo_transolver.ipynb#W2sdnNjb2RlLXJlbW90ZQ%3D%3D?line=5'>6</a>\u001b[0m         {\u001b[39m\"\u001b[39;49m\u001b[39mprimary_quantity\u001b[39;49m\u001b[39m\"\u001b[39;49m:{\u001b[39m\"\u001b[39;49m\u001b[39midentifier\u001b[39;49m\u001b[39m\"\u001b[39;49m: \u001b[39m\"\u001b[39;49m\u001b[39mion/T/density_thermal\u001b[39;49m\u001b[39m\"\u001b[39;49m,\u001b[39m\"\u001b[39;49m\u001b[39mprofile\u001b[39;49m\u001b[39m\"\u001b[39;49m:\u001b[39m1.0\u001b[39;49m},\u001b[39m\"\u001b[39;49m\u001b[39mboundary_condition\u001b[39;49m\u001b[39m\"\u001b[39;49m:[{\u001b[39m\"\u001b[39;49m\u001b[39midentifier\u001b[39;49m\u001b[39m\"\u001b[39;49m:{\u001b[39m\"\u001b[39;49m\u001b[39mindex\u001b[39;49m\u001b[39m\"\u001b[39;49m:\u001b[39m2\u001b[39;49m},\u001b[39m\"\u001b[39;49m\u001b[39mrho_tor_norm\u001b[39;49m\u001b[39m\"\u001b[39;49m:\u001b[39m0.01\u001b[39;49m,\u001b[39m\"\u001b[39;49m\u001b[39mvalue\u001b[39;49m\u001b[39m\"\u001b[39;49m:[\u001b[39m0.0\u001b[39;49m]},{\u001b[39m\"\u001b[39;49m\u001b[39midentifier\u001b[39;49m\u001b[39m\"\u001b[39;49m:{\u001b[39m\"\u001b[39;49m\u001b[39mindex\u001b[39;49m\u001b[39m\"\u001b[39;49m:\u001b[39m1\u001b[39;49m},\u001b[39m\"\u001b[39;49m\u001b[39mrho_thor_norm\u001b[39;49m\u001b[39m\"\u001b[39;49m:\u001b[39m0.995\u001b[39;49m,\u001b[39m\"\u001b[39;49m\u001b[39mvalue\u001b[39;49m\u001b[39m\"\u001b[39;49m:[\u001b[39m2.0e19\u001b[39;49m]}]},\n\u001b[1;32m      <a href='vscode-notebook-cell://wsl%2Bubuntu-22.04/home/salmon/workspace/fytok/examples/demo_transolver.ipynb#W2sdnNjb2RlLXJlbW90ZQ%3D%3D?line=6'>7</a>\u001b[0m         {\u001b[39m\"\u001b[39;49m\u001b[39mprimary_quantity\u001b[39;49m\u001b[39m\"\u001b[39;49m:{\u001b[39m\"\u001b[39;49m\u001b[39midentifier\u001b[39;49m\u001b[39m\"\u001b[39;49m: \u001b[39m\"\u001b[39;49m\u001b[39mion/D/temperature\u001b[39;49m\u001b[39m\"\u001b[39;49m,    \u001b[39m\"\u001b[39;49m\u001b[39mprofile\u001b[39;49m\u001b[39m\"\u001b[39;49m:\u001b[39m1.0\u001b[39;49m},\u001b[39m\"\u001b[39;49m\u001b[39mboundary_condition\u001b[39;49m\u001b[39m\"\u001b[39;49m:[{\u001b[39m\"\u001b[39;49m\u001b[39midentifier\u001b[39;49m\u001b[39m\"\u001b[39;49m:{\u001b[39m\"\u001b[39;49m\u001b[39mindex\u001b[39;49m\u001b[39m\"\u001b[39;49m:\u001b[39m2\u001b[39;49m},\u001b[39m\"\u001b[39;49m\u001b[39mrho_tor_norm\u001b[39;49m\u001b[39m\"\u001b[39;49m:\u001b[39m0.01\u001b[39;49m,\u001b[39m\"\u001b[39;49m\u001b[39mvalue\u001b[39;49m\u001b[39m\"\u001b[39;49m:[\u001b[39m0.0\u001b[39;49m]},{\u001b[39m\"\u001b[39;49m\u001b[39midentifier\u001b[39;49m\u001b[39m\"\u001b[39;49m:{\u001b[39m\"\u001b[39;49m\u001b[39mindex\u001b[39;49m\u001b[39m\"\u001b[39;49m:\u001b[39m1\u001b[39;49m},\u001b[39m\"\u001b[39;49m\u001b[39mrho_thor_norm\u001b[39;49m\u001b[39m\"\u001b[39;49m:\u001b[39m0.995\u001b[39;49m,\u001b[39m\"\u001b[39;49m\u001b[39mvalue\u001b[39;49m\u001b[39m\"\u001b[39;49m:[\u001b[39m1000\u001b[39;49m]  }]},\n\u001b[1;32m      <a href='vscode-notebook-cell://wsl%2Bubuntu-22.04/home/salmon/workspace/fytok/examples/demo_transolver.ipynb#W2sdnNjb2RlLXJlbW90ZQ%3D%3D?line=7'>8</a>\u001b[0m         {\u001b[39m\"\u001b[39;49m\u001b[39mprimary_quantity\u001b[39;49m\u001b[39m\"\u001b[39;49m:{\u001b[39m\"\u001b[39;49m\u001b[39midentifier\u001b[39;49m\u001b[39m\"\u001b[39;49m: \u001b[39m\"\u001b[39;49m\u001b[39mion/T/temperature\u001b[39;49m\u001b[39m\"\u001b[39;49m,    \u001b[39m\"\u001b[39;49m\u001b[39mprofile\u001b[39;49m\u001b[39m\"\u001b[39;49m:\u001b[39m1.0\u001b[39;49m},\u001b[39m\"\u001b[39;49m\u001b[39mboundary_condition\u001b[39;49m\u001b[39m\"\u001b[39;49m:[{\u001b[39m\"\u001b[39;49m\u001b[39midentifier\u001b[39;49m\u001b[39m\"\u001b[39;49m:{\u001b[39m\"\u001b[39;49m\u001b[39mindex\u001b[39;49m\u001b[39m\"\u001b[39;49m:\u001b[39m2\u001b[39;49m},\u001b[39m\"\u001b[39;49m\u001b[39mrho_tor_norm\u001b[39;49m\u001b[39m\"\u001b[39;49m:\u001b[39m0.01\u001b[39;49m,\u001b[39m\"\u001b[39;49m\u001b[39mvalue\u001b[39;49m\u001b[39m\"\u001b[39;49m:[\u001b[39m0.0\u001b[39;49m]},{\u001b[39m\"\u001b[39;49m\u001b[39midentifier\u001b[39;49m\u001b[39m\"\u001b[39;49m:{\u001b[39m\"\u001b[39;49m\u001b[39mindex\u001b[39;49m\u001b[39m\"\u001b[39;49m:\u001b[39m1\u001b[39;49m},\u001b[39m\"\u001b[39;49m\u001b[39mrho_thor_norm\u001b[39;49m\u001b[39m\"\u001b[39;49m:\u001b[39m0.995\u001b[39;49m,\u001b[39m\"\u001b[39;49m\u001b[39mvalue\u001b[39;49m\u001b[39m\"\u001b[39;49m:[\u001b[39m1000\u001b[39;49m]  }]},\n\u001b[1;32m      <a href='vscode-notebook-cell://wsl%2Bubuntu-22.04/home/salmon/workspace/fytok/examples/demo_transolver.ipynb#W2sdnNjb2RlLXJlbW90ZQ%3D%3D?line=8'>9</a>\u001b[0m         {\u001b[39m\"\u001b[39;49m\u001b[39mprimary_quantity\u001b[39;49m\u001b[39m\"\u001b[39;49m:{\u001b[39m\"\u001b[39;49m\u001b[39midentifier\u001b[39;49m\u001b[39m\"\u001b[39;49m: \u001b[39m\"\u001b[39;49m\u001b[39melectrons/temperature\u001b[39;49m\u001b[39m\"\u001b[39;49m,\u001b[39m\"\u001b[39;49m\u001b[39mprofile\u001b[39;49m\u001b[39m\"\u001b[39;49m:\u001b[39m1.0\u001b[39;49m},\u001b[39m\"\u001b[39;49m\u001b[39mboundary_condition\u001b[39;49m\u001b[39m\"\u001b[39;49m:[{\u001b[39m\"\u001b[39;49m\u001b[39midentifier\u001b[39;49m\u001b[39m\"\u001b[39;49m:{\u001b[39m\"\u001b[39;49m\u001b[39mindex\u001b[39;49m\u001b[39m\"\u001b[39;49m:\u001b[39m2\u001b[39;49m},\u001b[39m\"\u001b[39;49m\u001b[39mrho_tor_norm\u001b[39;49m\u001b[39m\"\u001b[39;49m:\u001b[39m0.01\u001b[39;49m,\u001b[39m\"\u001b[39;49m\u001b[39mvalue\u001b[39;49m\u001b[39m\"\u001b[39;49m:[\u001b[39m0.0\u001b[39;49m]},{\u001b[39m\"\u001b[39;49m\u001b[39midentifier\u001b[39;49m\u001b[39m\"\u001b[39;49m:{\u001b[39m\"\u001b[39;49m\u001b[39mindex\u001b[39;49m\u001b[39m\"\u001b[39;49m:\u001b[39m1\u001b[39;49m},\u001b[39m\"\u001b[39;49m\u001b[39mrho_thor_norm\u001b[39;49m\u001b[39m\"\u001b[39;49m:\u001b[39m0.995\u001b[39;49m,\u001b[39m\"\u001b[39;49m\u001b[39mvalue\u001b[39;49m\u001b[39m\"\u001b[39;49m:[\u001b[39m1000\u001b[39;49m]  }]},\n\u001b[1;32m     <a href='vscode-notebook-cell://wsl%2Bubuntu-22.04/home/salmon/workspace/fytok/examples/demo_transolver.ipynb#W2sdnNjb2RlLXJlbW90ZQ%3D%3D?line=9'>10</a>\u001b[0m             \u001b[39m# fmt:on\u001b[39;49;00m\n\u001b[1;32m     <a href='vscode-notebook-cell://wsl%2Bubuntu-22.04/home/salmon/workspace/fytok/examples/demo_transolver.ipynb#W2sdnNjb2RlLXJlbW90ZQ%3D%3D?line=10'>11</a>\u001b[0m         ]\n\u001b[1;32m     <a href='vscode-notebook-cell://wsl%2Bubuntu-22.04/home/salmon/workspace/fytok/examples/demo_transolver.ipynb#W2sdnNjb2RlLXJlbW90ZQ%3D%3D?line=11'>12</a>\u001b[0m     },\n\u001b[1;32m     <a href='vscode-notebook-cell://wsl%2Bubuntu-22.04/home/salmon/workspace/fytok/examples/demo_transolver.ipynb#W2sdnNjb2RlLXJlbW90ZQ%3D%3D?line=12'>13</a>\u001b[0m )\n",
      "File \u001b[0;32m~/workspace/fytok/python/fytok/modules/TransportSolverNumerics.py:230\u001b[0m, in \u001b[0;36mTransportSolverNumerics.refresh\u001b[0;34m(self, equilibrium, core_transport, core_sources, *args, **kwargs)\u001b[0m\n\u001b[1;32m    222\u001b[0m \u001b[39mdef\u001b[39;00m \u001b[39mrefresh\u001b[39m(\n\u001b[1;32m    223\u001b[0m     \u001b[39mself\u001b[39m,\n\u001b[1;32m    224\u001b[0m     \u001b[39m*\u001b[39margs,\n\u001b[0;32m   (...)\u001b[0m\n\u001b[1;32m    228\u001b[0m     \u001b[39m*\u001b[39m\u001b[39m*\u001b[39mkwargs,\n\u001b[1;32m    229\u001b[0m ):\n\u001b[0;32m--> 230\u001b[0m     \u001b[39msuper\u001b[39;49m()\u001b[39m.\u001b[39;49mrefresh(\n\u001b[1;32m    231\u001b[0m         \u001b[39m*\u001b[39;49margs,\n\u001b[1;32m    232\u001b[0m         equilibrium\u001b[39m=\u001b[39;49mequilibrium,\n\u001b[1;32m    233\u001b[0m         core_transport\u001b[39m=\u001b[39;49mcore_transport,\n\u001b[1;32m    234\u001b[0m         core_sources\u001b[39m=\u001b[39;49mcore_sources,\n\u001b[1;32m    235\u001b[0m         \u001b[39m*\u001b[39;49m\u001b[39m*\u001b[39;49mkwargs,\n\u001b[1;32m    236\u001b[0m     )\n",
      "File \u001b[0;32m~/workspace/fytok/SpDM/python/spdm/data/Actor.py:167\u001b[0m, in \u001b[0;36mActor.refresh\u001b[0;34m(self, time, *args, **kwargs)\u001b[0m\n\u001b[1;32m    165\u001b[0m inputs \u001b[39m=\u001b[39m \u001b[39mself\u001b[39m\u001b[39m.\u001b[39m_inputs\u001b[39m.\u001b[39mfetch()\n\u001b[1;32m    166\u001b[0m logger\u001b[39m.\u001b[39mdebug(inputs)\n\u001b[0;32m--> 167\u001b[0m \u001b[39mself\u001b[39;49m\u001b[39m.\u001b[39;49mexecute(\u001b[39mself\u001b[39;49m\u001b[39m.\u001b[39;49mtime_slice\u001b[39m.\u001b[39;49mcurrent, \u001b[39mself\u001b[39;49m\u001b[39m.\u001b[39;49mtime_slice\u001b[39m.\u001b[39;49mprevious, \u001b[39m*\u001b[39;49m\u001b[39m*\u001b[39;49minputs)\n",
      "File \u001b[0;32m~/workspace/fytok/python/fytok/plugins/transport_solver_numerics/fy_trans.py:586\u001b[0m, in \u001b[0;36mFyTrans.execute\u001b[0;34m(self, current, previous, *other_slices, **inputs)\u001b[0m\n\u001b[1;32m    577\u001b[0m \u001b[39mdef\u001b[39;00m \u001b[39mexecute\u001b[39m(\n\u001b[1;32m    578\u001b[0m     \u001b[39mself\u001b[39m,\n\u001b[1;32m    579\u001b[0m     current: TransportSolverNumerics\u001b[39m.\u001b[39mTimeSlice,\n\u001b[0;32m   (...)\u001b[0m\n\u001b[1;32m    582\u001b[0m     \u001b[39m*\u001b[39m\u001b[39m*\u001b[39minputs,\n\u001b[1;32m    583\u001b[0m ):\n\u001b[1;32m    584\u001b[0m     \u001b[39msuper\u001b[39m()\u001b[39m.\u001b[39mexecute(current, previous, \u001b[39m*\u001b[39m\u001b[39m*\u001b[39minputs)\n\u001b[0;32m--> 586\u001b[0m     solver_1d, \u001b[39mvars\u001b[39m, nums_of_unknown \u001b[39m=\u001b[39m \u001b[39mself\u001b[39;49m\u001b[39m.\u001b[39;49m_update_coefficient(current, previous, \u001b[39m*\u001b[39;49m\u001b[39m*\u001b[39;49minputs)\n\u001b[1;32m    588\u001b[0m     logger\u001b[39m.\u001b[39minfo(\n\u001b[1;32m    589\u001b[0m         \u001b[39mf\u001b[39m\u001b[39m\"\u001b[39m\u001b[39mSolve transport equations [\u001b[39m\u001b[39m{\u001b[39;00m\u001b[39mlen\u001b[39m(solver_1d\u001b[39m.\u001b[39mequation)\u001b[39m}\u001b[39;00m\u001b[39m] : \u001b[39m\u001b[39m{\u001b[39;00m\u001b[39m'\u001b[39m\u001b[39m,\u001b[39m\u001b[39m'\u001b[39m\u001b[39m.\u001b[39mjoin([equ\u001b[39m.\u001b[39mprimary_quantity\u001b[39m.\u001b[39midentifier\u001b[39m \u001b[39m\u001b[39mfor\u001b[39;00m\u001b[39m \u001b[39mequ\u001b[39m \u001b[39m\u001b[39min\u001b[39;00m\u001b[39m \u001b[39msolver_1d\u001b[39m.\u001b[39mequation])\u001b[39m}\u001b[39;00m\u001b[39m\"\u001b[39m\n\u001b[1;32m    590\u001b[0m     )\n\u001b[1;32m    592\u001b[0m     x \u001b[39m=\u001b[39m solver_1d\u001b[39m.\u001b[39mgrid\u001b[39m.\u001b[39mrho_tor_norm\n",
      "File \u001b[0;32m~/workspace/fytok/python/fytok/plugins/transport_solver_numerics/fy_trans.py:147\u001b[0m, in \u001b[0;36mFyTrans._update_coefficient\u001b[0;34m(self, current, previous, equilibrium, core_transport, core_sources, **others)\u001b[0m\n\u001b[1;32m    144\u001b[0m \u001b[39m# 设定全局参数\u001b[39;00m\n\u001b[1;32m    145\u001b[0m hyper_diff \u001b[39m=\u001b[39m \u001b[39mself\u001b[39m\u001b[39m.\u001b[39mcode\u001b[39m.\u001b[39mparameters\u001b[39m.\u001b[39mget(\u001b[39m\"\u001b[39m\u001b[39mhyper_diff\u001b[39m\u001b[39m\"\u001b[39m, \u001b[39m0.001\u001b[39m)\n\u001b[0;32m--> 147\u001b[0m psi \u001b[39m=\u001b[39m Function(solver_1d\u001b[39m.\u001b[39mgrid\u001b[39m.\u001b[39mrho_tor_norm, solver_1d\u001b[39m.\u001b[39;49mgrid\u001b[39m.\u001b[39;49mpsi, label\u001b[39m=\u001b[39m\u001b[39m\"\u001b[39m\u001b[39mpsi\u001b[39m\u001b[39m\"\u001b[39m)(x)\n\u001b[1;32m    149\u001b[0m \u001b[39m# $R_0$ characteristic major radius of the device   [m]\u001b[39;00m\n\u001b[1;32m    150\u001b[0m R0 \u001b[39m=\u001b[39m equilibrium\u001b[39m.\u001b[39mtime_slice\u001b[39m.\u001b[39mcurrent\u001b[39m.\u001b[39mvacuum_toroidal_field\u001b[39m.\u001b[39mr0\n",
      "File \u001b[0;32m~/workspace/fytok/SpDM/python/spdm/data/sp_property.py:344\u001b[0m, in \u001b[0;36mSpProperty.__get__\u001b[0;34m(self, instance, owner_cls)\u001b[0m\n\u001b[1;32m    341\u001b[0m     \u001b[39mraise\u001b[39;00m \u001b[39mAttributeError\u001b[39;00m(\u001b[39mf\u001b[39m\u001b[39m\"\u001b[39m\u001b[39mproperty_name is None!\u001b[39m\u001b[39m\"\u001b[39m)\n\u001b[1;32m    343\u001b[0m \u001b[39mwith\u001b[39;00m \u001b[39mself\u001b[39m\u001b[39m.\u001b[39mlock:\n\u001b[0;32m--> 344\u001b[0m     value \u001b[39m=\u001b[39m instance\u001b[39m.\u001b[39;49m__get_property__(\n\u001b[1;32m    345\u001b[0m         property_name,\n\u001b[1;32m    346\u001b[0m         _type_hint\u001b[39m=\u001b[39;49mtype_hint,\n\u001b[1;32m    347\u001b[0m         _getter\u001b[39m=\u001b[39;49m\u001b[39mself\u001b[39;49m\u001b[39m.\u001b[39;49mgetter,\n\u001b[1;32m    348\u001b[0m         \u001b[39m*\u001b[39;49m\u001b[39m*\u001b[39;49mmetadata,\n\u001b[1;32m    349\u001b[0m     )\n\u001b[1;32m    351\u001b[0m     \u001b[39mif\u001b[39;00m \u001b[39mself\u001b[39m\u001b[39m.\u001b[39mstrict \u001b[39mand\u001b[39;00m value \u001b[39mis\u001b[39;00m _not_found_:\n\u001b[1;32m    352\u001b[0m         \u001b[39mraise\u001b[39;00m \u001b[39mAttributeError\u001b[39;00m(\n\u001b[1;32m    353\u001b[0m             \u001b[39mf\u001b[39m\u001b[39m\"\u001b[39m\u001b[39mThe value of property \u001b[39m\u001b[39m'\u001b[39m\u001b[39m{\u001b[39;00mowner_cls\u001b[39m.\u001b[39m\u001b[39m__name__\u001b[39m\u001b[39m \u001b[39m\u001b[39mif\u001b[39;00m\u001b[39m \u001b[39mowner_cls\u001b[39m \u001b[39m\u001b[39mis\u001b[39;00m\u001b[39m \u001b[39m\u001b[39mnot\u001b[39;00m\u001b[39m \u001b[39m\u001b[39mNone\u001b[39;00m\u001b[39m \u001b[39m\u001b[39melse\u001b[39;00m\u001b[39m \u001b[39m\u001b[39m'\u001b[39m\u001b[39mnone\u001b[39m\u001b[39m'\u001b[39m\u001b[39m}\u001b[39;00m\u001b[39m.\u001b[39m\u001b[39m{\u001b[39;00mproperty_name\u001b[39m}\u001b[39;00m\u001b[39m'\u001b[39m\u001b[39m is not assigned!\u001b[39m\u001b[39m\"\u001b[39m\n\u001b[1;32m    354\u001b[0m         )\n",
      "File \u001b[0;32m~/workspace/fytok/SpDM/python/spdm/data/sp_property.py:67\u001b[0m, in \u001b[0;36mSpTree.__get_property__\u001b[0;34m(self, key, *args, **kwargs)\u001b[0m\n\u001b[1;32m     66\u001b[0m \u001b[39mdef\u001b[39;00m \u001b[39m__get_property__\u001b[39m(\u001b[39mself\u001b[39m, key: \u001b[39mstr\u001b[39m, \u001b[39m*\u001b[39margs, \u001b[39m*\u001b[39m\u001b[39m*\u001b[39mkwargs) \u001b[39m-\u001b[39m\u001b[39m>\u001b[39m SpTree:\n\u001b[0;32m---> 67\u001b[0m     \u001b[39mreturn\u001b[39;00m \u001b[39mself\u001b[39;49m\u001b[39m.\u001b[39;49m_get(key, \u001b[39m*\u001b[39;49margs, \u001b[39m*\u001b[39;49m\u001b[39m*\u001b[39;49mkwargs)\n",
      "File \u001b[0;32m~/workspace/fytok/SpDM/python/spdm/data/HTree.py:459\u001b[0m, in \u001b[0;36mHTree._get\u001b[0;34m(self, query, _type_hint, *args, **kwargs)\u001b[0m\n\u001b[1;32m    456\u001b[0m         value \u001b[39m=\u001b[39m \u001b[39mself\u001b[39m\u001b[39m.\u001b[39m_get_as_list(query, \u001b[39m*\u001b[39margs, _type_hint\u001b[39m=\u001b[39m_type_hint, \u001b[39m*\u001b[39m\u001b[39m*\u001b[39mkwargs)\n\u001b[1;32m    458\u001b[0m \u001b[39melif\u001b[39;00m \u001b[39misinstance\u001b[39m(query, \u001b[39mstr\u001b[39m):\n\u001b[0;32m--> 459\u001b[0m     value \u001b[39m=\u001b[39m \u001b[39mself\u001b[39;49m\u001b[39m.\u001b[39;49m_get_as_dict(query, \u001b[39m*\u001b[39;49margs, _type_hint\u001b[39m=\u001b[39;49m_type_hint, \u001b[39m*\u001b[39;49m\u001b[39m*\u001b[39;49mkwargs)\n\u001b[1;32m    461\u001b[0m \u001b[39melif\u001b[39;00m \u001b[39misinstance\u001b[39m(query, \u001b[39mset\u001b[39m):  \u001b[39m# compound\u001b[39;00m\n\u001b[1;32m    462\u001b[0m     \u001b[39mraise\u001b[39;00m \u001b[39mNotImplementedError\u001b[39;00m(\u001b[39mf\u001b[39m\u001b[39m\"\u001b[39m\u001b[39mTODO: NamedDict\u001b[39m\u001b[39m\"\u001b[39m)\n",
      "File \u001b[0;32m~/workspace/fytok/SpDM/python/spdm/data/HTree.py:494\u001b[0m, in \u001b[0;36mHTree._get_as_dict\u001b[0;34m(self, key, **kwargs)\u001b[0m\n\u001b[1;32m    491\u001b[0m \u001b[39melse\u001b[39;00m:\n\u001b[1;32m    492\u001b[0m     _entry \u001b[39m=\u001b[39m \u001b[39mNone\u001b[39;00m\n\u001b[0;32m--> 494\u001b[0m value \u001b[39m=\u001b[39m \u001b[39mself\u001b[39;49m\u001b[39m.\u001b[39;49m_as_child(cache, key, _entry\u001b[39m=\u001b[39;49m_entry, \u001b[39m*\u001b[39;49m\u001b[39m*\u001b[39;49mkwargs)\n\u001b[1;32m    496\u001b[0m \u001b[39mif\u001b[39;00m \u001b[39mself\u001b[39m\u001b[39m.\u001b[39m_cache \u001b[39mis\u001b[39;00m _not_found_ \u001b[39mor\u001b[39;00m \u001b[39mself\u001b[39m\u001b[39m.\u001b[39m_cache \u001b[39mis\u001b[39;00m \u001b[39mNone\u001b[39;00m:\n\u001b[1;32m    497\u001b[0m     \u001b[39mself\u001b[39m\u001b[39m.\u001b[39m_cache \u001b[39m=\u001b[39m {}\n",
      "File \u001b[0;32m~/workspace/fytok/SpDM/python/spdm/data/HTree.py:405\u001b[0m, in \u001b[0;36mHTree._as_child\u001b[0;34m(self, value, key, default_value, _type_hint, _entry, _parent, _getter, force, **kwargs)\u001b[0m\n\u001b[1;32m    403\u001b[0m         value \u001b[39m=\u001b[39m _getter(\u001b[39mself\u001b[39m)\n\u001b[1;32m    404\u001b[0m     \u001b[39mexcept\u001b[39;00m \u001b[39mException\u001b[39;00m \u001b[39mas\u001b[39;00m error:\n\u001b[0;32m--> 405\u001b[0m         \u001b[39mraise\u001b[39;00m \u001b[39mRuntimeError\u001b[39;00m(\u001b[39mf\u001b[39m\u001b[39m\"\u001b[39m\u001b[39m{\u001b[39;00m\u001b[39mself\u001b[39m\u001b[39m.\u001b[39m\u001b[39m__class__\u001b[39m\u001b[39m}\u001b[39;00m\u001b[39m id=\u001b[39m\u001b[39m{\u001b[39;00mkey\u001b[39m}\u001b[39;00m\u001b[39m: \u001b[39m\u001b[39m'\u001b[39m\u001b[39mgetter\u001b[39m\u001b[39m'\u001b[39m\u001b[39m failed!\u001b[39m\u001b[39m\"\u001b[39m) \u001b[39mfrom\u001b[39;00m \u001b[39merror\u001b[39;00m\n\u001b[1;32m    407\u001b[0m \u001b[39mif\u001b[39;00m value \u001b[39mis\u001b[39;00m _not_found_:\n\u001b[1;32m    408\u001b[0m     res \u001b[39m=\u001b[39m default_value\n",
      "\u001b[0;31mRuntimeError\u001b[0m: <class 'fytok.modules.Utilities.CoreRadialGrid'> id=psi: 'getter' failed!"
     ]
    }
   ],
   "source": [
    "tokamak.transport_solver.refresh(\n",
    "    {\n",
    "        \"equation\": [\n",
    "            # fmt:off\n",
    "        {\"primary_quantity\":{\"identifier\": \"ion/D/density_thermal\",\"profile\":1.0},\"boundary_condition\":[{\"identifier\":{\"index\":2},\"rho_tor_norm\":0.01,\"value\":[0.0]},{\"identifier\":{\"index\":1},\"rho_thor_norm\":0.995,\"value\":[2.0e19]}]},\n",
    "        {\"primary_quantity\":{\"identifier\": \"ion/T/density_thermal\",\"profile\":1.0},\"boundary_condition\":[{\"identifier\":{\"index\":2},\"rho_tor_norm\":0.01,\"value\":[0.0]},{\"identifier\":{\"index\":1},\"rho_thor_norm\":0.995,\"value\":[2.0e19]}]},\n",
    "        {\"primary_quantity\":{\"identifier\": \"ion/D/temperature\",    \"profile\":1.0},\"boundary_condition\":[{\"identifier\":{\"index\":2},\"rho_tor_norm\":0.01,\"value\":[0.0]},{\"identifier\":{\"index\":1},\"rho_thor_norm\":0.995,\"value\":[1000]  }]},\n",
    "        {\"primary_quantity\":{\"identifier\": \"ion/T/temperature\",    \"profile\":1.0},\"boundary_condition\":[{\"identifier\":{\"index\":2},\"rho_tor_norm\":0.01,\"value\":[0.0]},{\"identifier\":{\"index\":1},\"rho_thor_norm\":0.995,\"value\":[1000]  }]},\n",
    "        {\"primary_quantity\":{\"identifier\": \"electrons/temperature\",\"profile\":1.0},\"boundary_condition\":[{\"identifier\":{\"index\":2},\"rho_tor_norm\":0.01,\"value\":[0.0]},{\"identifier\":{\"index\":1},\"rho_thor_norm\":0.995,\"value\":[1000]  }]},\n",
    "            # fmt:on\n",
    "        ]\n",
    "    },\n",
    ")"
   ]
  },
  {
   "cell_type": "code",
   "execution_count": null,
   "metadata": {},
   "outputs": [],
   "source": [
    "solver_1d = tokamak.transport_solver.time_slice.current\n",
    "fig = sp_view.plot(\n",
    "    sum(\n",
    "        [\n",
    "            [\n",
    "                # (equ.primary_quantity.profile, equ.primary_quantity.identifier),\n",
    "                # (equ.primary_quantity.flux, f\"{equ.primary_quantity.identifier}_flux\"),\n",
    "                (equ.primary_quantity.d_dr,f\"d({equ.primary_quantity.identifier})/dr\"),\n",
    "                (equ.primary_quantity.dflux_dr, f\"d({equ.primary_quantity.identifier}_flux)/dr\"),\n",
    "            ]\n",
    "            for equ in solver_1d.equation\n",
    "        ],\n",
    "        [],\n",
    "    ),\n",
    "    x_axis=solver_1d.grid.rho_tor_norm,\n",
    ")"
   ]
  },
  {
   "cell_type": "code",
   "execution_count": null,
   "metadata": {},
   "outputs": [],
   "source": [
    "core_profiles_1d = tokamak.core_profiles.time_slice.current.profiles_1d\n",
    "fig = sp_view.plot([\n",
    "    [\n",
    "        (core_profiles_1d.get(equ.primary_quantity.identifier), rf\"{equ.primary_quantity.identifier} astra\"),\n",
    "        (equ.primary_quantity.profile, rf\"{equ.primary_quantity.identifier}\")\n",
    "    ] for equ in solver_1d.equation\n",
    "],\n",
    "    x_axis=solver_1d.grid.rho_tor_norm\n",
    ")"
   ]
  },
  {
   "cell_type": "code",
   "execution_count": null,
   "metadata": {},
   "outputs": [],
   "source": [
    "core_sources_1d = tokamak.core_sources.source[0].time_slice.current.profiles_1d\n",
    "core_transport_1d = tokamak.core_transport.model[0].time_slice.current.profiles_1d\n",
    "\n",
    "fig = sp_view.plot(\n",
    "    [\n",
    "        # (core_sources_1d.electrons.energy, r\"$Q_e$\"),\n",
    "        (core_transport_1d.electrons.energy.d, r\"$\\chi_e$\"),\n",
    "        (core_transport_1d.electrons.energy.v, r\"$V^{pinch}_{Te}$\"),\n",
    "        # (core_sources_1d.electrons.energy_decomposed.explicit_part, r\"$Q_{e}$ explicit\"),\n",
    "        # (core_sources_1d.electrons.energy_decomposed.implicit_part, r\"$Q_{e}$ implicit\"),\n",
    "        (core_transport_1d.electrons.particles.d, r\"$D_e$\"),\n",
    "        (core_transport_1d.electrons.particles.v, r\"$V_e$\"),\n",
    "\n",
    "        # (core_sources_1d.ion[0].energy, r\"$Q_D$\"),\n",
    "        # (core_sources_1d.ion[1].energy, r\"$Q_T$\"),\n",
    "    ],\n",
    "    x_axis=solver_1d.grid.rho_tor_norm,\n",
    "    x_label=r\"$\\bar{\\rho}_{tor}$\",\n",
    ")"
   ]
  },
  {
   "cell_type": "code",
   "execution_count": null,
   "metadata": {},
   "outputs": [],
   "source": [
    "equ = solver_1d.equation[1]\n",
    "a, b, c, d, e, f, g,*_ = equ.coefficient\n",
    "x = solver_1d.grid.rho_tor_norm\n",
    "y       = equ.primary_quantity.profile\n",
    "yp      = equ.primary_quantity.d_dr\n",
    "flux    = equ.primary_quantity.flux\n",
    "dflux   = equ.primary_quantity.dflux_dr\n",
    "fig = sp_view.plot([\n",
    "    a, b, c, d, e, f, g,\n",
    "    # [\n",
    "    #     (d*yp, \"$D$\"),\n",
    "    #     (e*y,   \"$v$\"),\n",
    "    #     # (flux,   f\"$\\Gamma$\"),\n",
    "    #     ((c*(f - g * y)).I, r\"$S$\"),  # $\\int c*(f - g \\cdot y)$\n",
    "    #     # ((-d*yp+e*y).I, r\"$\\Gamma$\"),\n",
    "    #     (-d*yp+e*y-(c*(f - g * y)).I, \"residual\"),\n",
    "\n",
    "    # ],\n",
    "    y, yp\n",
    "\n",
    "    # [\n",
    "\n",
    "    #     (dflux, {\"label\": r\"$d\\Gamma$\"}),\n",
    "    #     # (Function(flux, x).d(), r\"$d\\Gamma$\"),\n",
    "    #     ((c*(f - g * y)), r\"$c*(f - g \\cdot y)$\"),\n",
    "    # ],\n",
    "],\n",
    "    x_axis=x)"
   ]
  }
 ],
 "metadata": {
  "kernelspec": {
   "display_name": "Python 3",
   "language": "python",
   "name": "python3"
  },
  "language_info": {
   "codemirror_mode": {
    "name": "ipython",
    "version": 3
   },
   "file_extension": ".py",
   "mimetype": "text/x-python",
   "name": "python",
   "nbconvert_exporter": "python",
   "pygments_lexer": "ipython3",
   "version": "3.10.12"
  }
 },
 "nbformat": 4,
 "nbformat_minor": 2
}
