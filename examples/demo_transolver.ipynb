{
 "cells": [
  {
   "cell_type": "code",
   "execution_count": 1,
   "metadata": {},
   "outputs": [
    {
     "name": "stdout",
     "output_type": "stream",
     "text": [
      "\u001b[0;34m2024-01-10 21:56:18,543 [    spdm]     INFO: \n",
      "###################################################################################################\n",
      "\n",
      "    ______      _____     _\n",
      "   / ____/_  __|_   _|__ | | __\n",
      "  / /_  / / / /  | |/ _ \\| |/ /\n",
      " / __/ / /_/ /   | | (_) |   <\n",
      "/_/    \\__, /    |_|\\___/|_|\\_\\\n",
      "      /____/\n",
      "\n",
      " Copyright (c) 2021-present Zhi YU (Institute of Plasma Physics Chinese Academy of Sciences)\n",
      "            \n",
      " url: https://gitee.com/openfusion/fytok_tutorial \n",
      "      https://github.com/fusion-yun/fytok_tutorial\n",
      "\n",
      " version = alpha  (spdm=beta extension=0.2.2.dev19+g14adade.d20231205, imas_version=v3_38_1_dirty)\n",
      "\n",
      " Run by salmon at 2024-01-10T21:56:18.396999.\n",
      " Job ID: fytok_salmon_surface_11699\n",
      "\n",
      "###################################################################################################\n",
      "\u001b[0m\n"
     ]
    }
   ],
   "source": [
    "import pathlib\n",
    "import scipy.constants\n",
    "import numpy as np\n",
    "import pandas as pd\n",
    "import matplotlib.pyplot as plt\n",
    "from fytok.Tokamak import Tokamak\n",
    "from fytok.modules.CoreProfiles import CoreProfiles\n",
    "from fytok.modules.Equilibrium import Equilibrium\n",
    "from spdm.view import View as sp_view\n",
    "from spdm.data.Path import Path\n",
    "from spdm.data.Function import Function\n",
    "\n",
    "data_path = pathlib.Path(\"/home/salmon/workspace/fytok_data/data/15MA inductive - burn\")\n",
    "\n",
    "astra_profiles = pd.read_excel(\n",
    "    next(data_path.glob(\"*ASTRA.xls\")).absolute().as_posix(), sheet_name=1, header=10, usecols=\"B:BN\"\n",
    ")"
   ]
  },
  {
   "cell_type": "code",
   "execution_count": 2,
   "metadata": {},
   "outputs": [
    {
     "name": "stdout",
     "output_type": "stream",
     "text": [
      "\u001b[0;34m2024-01-10 21:56:18,966 [    spdm]     INFO: Load module spdm.plugins.data.plugin_iterprofiles\u001b[0m\n",
      "\u001b[0;34m2024-01-10 21:56:19,126 [    spdm]     INFO: Initialize module fytok.modules.CoreProfiles \u001b[0m\n",
      "\u001b[0;34m2024-01-10 21:56:19,279 [    spdm]     INFO: Load module fytok.plugins.equilibrium.fy_eq\u001b[0m\n",
      "\u001b[0;34m2024-01-10 21:56:19,282 [    spdm]     INFO: Load module spdm.plugins.data.plugin_geqdsk\u001b[0m\n",
      "\u001b[0;34m2024-01-10 21:56:19,323 [    spdm]     INFO: Initialize module fytok.plugins.equilibrium.fy_eq-FyTok \u001b[0m\n"
     ]
    }
   ],
   "source": [
    "core_profiles_astra = CoreProfiles(\n",
    "    f\"file+iterprofiles://{next(data_path.glob('*ASTRA.xls')).absolute().as_posix()}#core_profiles\"\n",
    ")\n",
    "\n",
    "core_profiles_1d_astra = core_profiles_astra.time_slice.current.profiles_1d\n",
    "\n",
    "equilibrium_astra = Equilibrium(f\"file+geqdsk://{next(data_path.glob('**/g*.txt')).absolute().as_posix()}#equilibrium\")\n"
   ]
  },
  {
   "cell_type": "code",
   "execution_count": 3,
   "metadata": {},
   "outputs": [
    {
     "name": "stdout",
     "output_type": "stream",
     "text": [
      "\u001b[0;34m2024-01-10 21:56:19,375 [    spdm]     INFO: Load module spdm.plugins.data.plugin_xml\u001b[0m\n"
     ]
    }
   ],
   "source": [
    "tokamak = Tokamak(\n",
    "    f\"file+iterprofiles://{next(data_path.glob('*ASTRA.xls')).absolute().as_posix()}\",\n",
    "    f\"file+geqdsk://{next(data_path.glob('**/g*.txt')).absolute().as_posix()}\",\n",
    "    device=\"iter\",\n",
    "    shot=900003,\n",
    "    equilibrium={\"code\": {\"parameters\": {\"psi_norm\": np.linspace(0.0001, 0.999, 128)}}},\n",
    "    core_transport={\n",
    "        \"model\": [\n",
    "            {\"code\": {\"name\": \"dummy\"}},\n",
    "            # {\"code\": {\"name\": \"fast_alpha\"}},\n",
    "        ]\n",
    "    },\n",
    "    core_sources={\n",
    "        \"source\": [\n",
    "            {\"code\": {\"name\": \"dummy\"}},\n",
    "            # {\"code\": {\"name\": \"fusion\", \"parameters\": {\"fusion_reactions\": [\"D(t,n)alpha\"]}}},\n",
    "            # {\"code\": {\"name\": \"radiation\"}},\n",
    "            # {\"code\": {\"name\": \"synchrotron_radiation\"}},\n",
    "            # {\"code\": {\"name\": \"collisional_equipartition\"}},\n",
    "        ]\n",
    "    },\n",
    "    transport_solver={\n",
    "        \"code\": {\n",
    "            \"name\": \"fy_trans\",\n",
    "            \"parameters\": {\n",
    "                \"rho_tor_norm\": np.linspace(0.01, 0.995, 128),\n",
    "                # \"bvp_rms_mask\": [0.96],\n",
    "                \"hyper_diff\": 1.0e-5,\n",
    "                \"max_nodes\": 512,\n",
    "                \"bc_tol\": 1,\n",
    "                \"verbose\": 2,\n",
    "                \"units\": {\n",
    "                    \"*/density\": 1.0e21,\n",
    "                    \"*/density_flux\": 1.0e24,\n",
    "                    \"ion/alpha/density\": 1.0e18,\n",
    "                    \"ion/alpha/density_flux\": 1.0e21,\n",
    "                    \"*/temperature\": 1.0e6,\n",
    "                    \"*/temperature_flux\": 1.0e27,\n",
    "                },\n",
    "            },\n",
    "        },\n",
    "        \"ion_thermal\": [\"D\", \"T\"],  #\n",
    "        # \"ion_non_thermal\": [\"alpha\", \"He\"],\n",
    "        # \"impurities\": [\"Ar\", \"Be\"],\n",
    "        \"boundary_condition_type\": {\n",
    "            # fmt: off\n",
    "            # psi                          at axis \\frac{d\\psi}{dx}=0  , at boundary \\psi=?\n",
    "            \"psi\"                       : 1, \n",
    "            # density                      at axis \\Gamma_s=0          , at boundary n=?\n",
    "            \"*/density\"                 : 1, \n",
    "            # temperatur                   at axis \\frac{dT}{dx}=0     , at boundary T=?\n",
    "            \"*/temperature\"             : 1,\n",
    "            # fmt: on\n",
    "        },\n",
    "    },\n",
    ")\n"
   ]
  },
  {
   "cell_type": "code",
   "execution_count": 4,
   "metadata": {},
   "outputs": [
    {
     "name": "stdout",
     "output_type": "stream",
     "text": [
      "\u001b[0;34m2024-01-10 21:56:19,529 [    spdm]     INFO: Initialize module fytok.modules.CoreSources \u001b[0m\n",
      "\u001b[0;34m2024-01-10 21:56:19,535 [    spdm]     INFO: Initialize module fytok.plugins.core_sources.source.dummy \u001b[0m\n",
      "tags.not_found\n"
     ]
    }
   ],
   "source": [
    "for source in tokamak.core_sources.source:\n",
    "    print(source.identifier)"
   ]
  },
  {
   "cell_type": "code",
   "execution_count": 5,
   "metadata": {},
   "outputs": [
    {
     "name": "stdout",
     "output_type": "stream",
     "text": [
      "\u001b[0;34m2024-01-10 21:56:19,558 [    spdm]     INFO: Initialize module fytok.plugins.equilibrium.FyEqAnalyze \u001b[0m\n"
     ]
    },
    {
     "data": {
      "text/plain": [
       "6.5"
      ]
     },
     "execution_count": 5,
     "metadata": {},
     "output_type": "execute_result"
    }
   ],
   "source": [
    "tokamak.equilibrium.time_slice.current.vacuum_toroidal_field.r0"
   ]
  },
  {
   "cell_type": "code",
   "execution_count": 6,
   "metadata": {},
   "outputs": [
    {
     "name": "stdout",
     "output_type": "stream",
     "text": [
      "\u001b[0;34m2024-01-10 21:56:19,599 [    spdm]     INFO: Initialize module fytok.modules.CoreProfiles \u001b[0m\n",
      "\u001b[0;34m2024-01-10 21:56:19,624 [    spdm]     INFO: Initialize module fytok.modules.CoreTransport \u001b[0m\n",
      "\u001b[0;34m2024-01-10 21:56:19,637 [    spdm]     INFO: Initialize module fytok.plugins.core_transport.model.dummy \u001b[0m\n",
      "\u001b[0;34m2024-01-10 21:56:19,657 [    spdm]     INFO: Load module fytok.plugins.transport_solver_numerics.fy_trans\u001b[0m\n",
      "\u001b[0;34m2024-01-10 21:56:19,662 [    spdm]     INFO: Initialize module fytok.plugins.transport_solver_numerics.fy_trans \u001b[0m\n",
      "\u001b[0;33m2024-01-10 21:56:19,682 [    spdm]  WARNING: /home/salmon/workspace/fytok/SpDM/python/spdm/data/sp_property.py:248:__set__: set proptery alias rho_tor_norm => grid/rho_tor_nrom!\u001b[0m\n"
     ]
    },
    {
     "ename": "KeyError",
     "evalue": "\"AoS can not find '0'! \"",
     "output_type": "error",
     "traceback": [
      "\u001b[0;31m---------------------------------------------------------------------------\u001b[0m",
      "\u001b[0;31mKeyError\u001b[0m                                  Traceback (most recent call last)",
      "Cell \u001b[0;32mIn[6], line 1\u001b[0m\n\u001b[0;32m----> 1\u001b[0m \u001b[43mtokamak\u001b[49m\u001b[38;5;241;43m.\u001b[39;49m\u001b[43minitialize\u001b[49m\u001b[43m(\u001b[49m\u001b[43m)\u001b[49m\n",
      "File \u001b[0;32m~/workspace/fytok/python/fytok/Tokamak.py:178\u001b[0m, in \u001b[0;36mTokamak.initialize\u001b[0;34m(self, *args, **kwargs)\u001b[0m\n\u001b[1;32m    176\u001b[0m \u001b[38;5;28mself\u001b[39m\u001b[38;5;241m.\u001b[39mcore_sources\u001b[38;5;241m.\u001b[39minitialize(\u001b[38;5;241m*\u001b[39margs, \u001b[38;5;241m*\u001b[39m\u001b[38;5;241m*\u001b[39mkwargs)\n\u001b[1;32m    177\u001b[0m \u001b[38;5;28mself\u001b[39m\u001b[38;5;241m.\u001b[39mcore_transport\u001b[38;5;241m.\u001b[39minitialize(\u001b[38;5;241m*\u001b[39margs, \u001b[38;5;241m*\u001b[39m\u001b[38;5;241m*\u001b[39mkwargs)\n\u001b[0;32m--> 178\u001b[0m \u001b[38;5;28;43mself\u001b[39;49m\u001b[38;5;241;43m.\u001b[39;49m\u001b[43mtransport_solver\u001b[49m\u001b[38;5;241;43m.\u001b[39;49m\u001b[43minitialize\u001b[49m\u001b[43m(\u001b[49m\u001b[38;5;241;43m*\u001b[39;49m\u001b[43margs\u001b[49m\u001b[43m,\u001b[49m\u001b[43m \u001b[49m\u001b[38;5;241;43m*\u001b[39;49m\u001b[38;5;241;43m*\u001b[39;49m\u001b[43mkwargs\u001b[49m\u001b[43m)\u001b[49m\n",
      "File \u001b[0;32m~/workspace/fytok/python/fytok/plugins/transport_solver_numerics/fy_trans/fy_trans.py:179\u001b[0m, in \u001b[0;36mFyTrans.initialize\u001b[0;34m(self, *args, **kwargs)\u001b[0m\n\u001b[1;32m    168\u001b[0m     equations\u001b[38;5;241m.\u001b[39mappend(\n\u001b[1;32m    169\u001b[0m         {\n\u001b[1;32m    170\u001b[0m             \u001b[38;5;124m\"\u001b[39m\u001b[38;5;124m@name\u001b[39m\u001b[38;5;124m\"\u001b[39m: s,\n\u001b[0;32m   (...)\u001b[0m\n\u001b[1;32m    174\u001b[0m         }\n\u001b[1;32m    175\u001b[0m     )\n\u001b[1;32m    177\u001b[0m \u001b[38;5;28mself\u001b[39m[\u001b[38;5;124m\"\u001b[39m\u001b[38;5;124mequations\u001b[39m\u001b[38;5;124m\"\u001b[39m] \u001b[38;5;241m=\u001b[39m equations\n\u001b[0;32m--> 179\u001b[0m ni \u001b[38;5;241m=\u001b[39m \u001b[38;5;28msum\u001b[39m([ion\u001b[38;5;241m.\u001b[39mz \u001b[38;5;241m*\u001b[39m ion\u001b[38;5;241m.\u001b[39mdensity \u001b[38;5;28;01mfor\u001b[39;00m ion \u001b[38;5;129;01min\u001b[39;00m profiles_1d\u001b[38;5;241m.\u001b[39mion], zero)\n\u001b[1;32m    180\u001b[0m ni_flux \u001b[38;5;241m=\u001b[39m \u001b[38;5;28msum\u001b[39m([ion\u001b[38;5;241m.\u001b[39mz \u001b[38;5;241m*\u001b[39m ion\u001b[38;5;241m.\u001b[39mget(\u001b[38;5;124m\"\u001b[39m\u001b[38;5;124mdensity_flux\u001b[39m\u001b[38;5;124m\"\u001b[39m) \u001b[38;5;28;01mfor\u001b[39;00m ion \u001b[38;5;129;01min\u001b[39;00m profiles_1d\u001b[38;5;241m.\u001b[39mion], zero)\n\u001b[1;32m    182\u001b[0m profiles_1d\u001b[38;5;241m.\u001b[39melectrons[\u001b[38;5;124m\"\u001b[39m\u001b[38;5;124mdensity\u001b[39m\u001b[38;5;124m\"\u001b[39m] \u001b[38;5;241m=\u001b[39m ni\n",
      "File \u001b[0;32m~/workspace/fytok/python/fytok/plugins/transport_solver_numerics/fy_trans/fy_trans.py:179\u001b[0m, in \u001b[0;36m<listcomp>\u001b[0;34m(.0)\u001b[0m\n\u001b[1;32m    168\u001b[0m     equations\u001b[38;5;241m.\u001b[39mappend(\n\u001b[1;32m    169\u001b[0m         {\n\u001b[1;32m    170\u001b[0m             \u001b[38;5;124m\"\u001b[39m\u001b[38;5;124m@name\u001b[39m\u001b[38;5;124m\"\u001b[39m: s,\n\u001b[0;32m   (...)\u001b[0m\n\u001b[1;32m    174\u001b[0m         }\n\u001b[1;32m    175\u001b[0m     )\n\u001b[1;32m    177\u001b[0m \u001b[38;5;28mself\u001b[39m[\u001b[38;5;124m\"\u001b[39m\u001b[38;5;124mequations\u001b[39m\u001b[38;5;124m\"\u001b[39m] \u001b[38;5;241m=\u001b[39m equations\n\u001b[0;32m--> 179\u001b[0m ni \u001b[38;5;241m=\u001b[39m \u001b[38;5;28msum\u001b[39m([ion\u001b[38;5;241m.\u001b[39mz \u001b[38;5;241m*\u001b[39m ion\u001b[38;5;241m.\u001b[39mdensity \u001b[38;5;28;01mfor\u001b[39;00m ion \u001b[38;5;129;01min\u001b[39;00m profiles_1d\u001b[38;5;241m.\u001b[39mion], zero)\n\u001b[1;32m    180\u001b[0m ni_flux \u001b[38;5;241m=\u001b[39m \u001b[38;5;28msum\u001b[39m([ion\u001b[38;5;241m.\u001b[39mz \u001b[38;5;241m*\u001b[39m ion\u001b[38;5;241m.\u001b[39mget(\u001b[38;5;124m\"\u001b[39m\u001b[38;5;124mdensity_flux\u001b[39m\u001b[38;5;124m\"\u001b[39m) \u001b[38;5;28;01mfor\u001b[39;00m ion \u001b[38;5;129;01min\u001b[39;00m profiles_1d\u001b[38;5;241m.\u001b[39mion], zero)\n\u001b[1;32m    182\u001b[0m profiles_1d\u001b[38;5;241m.\u001b[39melectrons[\u001b[38;5;124m\"\u001b[39m\u001b[38;5;124mdensity\u001b[39m\u001b[38;5;124m\"\u001b[39m] \u001b[38;5;241m=\u001b[39m ni\n",
      "File \u001b[0;32m~/workspace/fytok/SpDM/python/spdm/data/HTree.py:399\u001b[0m, in \u001b[0;36mHTree.__iter__\u001b[0;34m(self)\u001b[0m\n\u001b[1;32m    396\u001b[0m \u001b[38;5;129m@typing\u001b[39m\u001b[38;5;241m.\u001b[39mfinal\n\u001b[1;32m    397\u001b[0m \u001b[38;5;28;01mdef\u001b[39;00m \u001b[38;5;21m__iter__\u001b[39m(\u001b[38;5;28mself\u001b[39m) \u001b[38;5;241m-\u001b[39m\u001b[38;5;241m>\u001b[39m typing\u001b[38;5;241m.\u001b[39mGenerator[_T \u001b[38;5;241m|\u001b[39m \u001b[38;5;28mstr\u001b[39m, \u001b[38;5;28;01mNone\u001b[39;00m, \u001b[38;5;28;01mNone\u001b[39;00m]:\n\u001b[1;32m    398\u001b[0m \u001b[38;5;250m    \u001b[39m\u001b[38;5;124;03m\"\"\"遍历 children\"\"\"\u001b[39;00m\n\u001b[0;32m--> 399\u001b[0m     \u001b[38;5;28;01myield from\u001b[39;00m \u001b[38;5;28mself\u001b[39m\u001b[38;5;241m.\u001b[39m_for_each_()\n",
      "File \u001b[0;32m~/workspace/fytok/SpDM/python/spdm/data/AoS.py:155\u001b[0m, in \u001b[0;36mAoS._for_each_\u001b[0;34m(self, *args, **kwargs)\u001b[0m\n\u001b[1;32m    153\u001b[0m key \u001b[38;5;241m=\u001b[39m Path(tag)\u001b[38;5;241m.\u001b[39mget(v, _not_found_)\n\u001b[1;32m    154\u001b[0m \u001b[38;5;28;01mif\u001b[39;00m key \u001b[38;5;129;01mis\u001b[39;00m _not_found_:\n\u001b[0;32m--> 155\u001b[0m     \u001b[38;5;28;01myield\u001b[39;00m \u001b[38;5;28;43mself\u001b[39;49m\u001b[38;5;241;43m.\u001b[39;49m\u001b[43m_find_\u001b[49m\u001b[43m(\u001b[49m\u001b[43midx\u001b[49m\u001b[43m,\u001b[49m\u001b[43m \u001b[49m\u001b[38;5;241;43m*\u001b[39;49m\u001b[43margs\u001b[49m\u001b[43m,\u001b[49m\u001b[43m \u001b[49m\u001b[38;5;241;43m*\u001b[39;49m\u001b[38;5;241;43m*\u001b[39;49m\u001b[43mkwargs\u001b[49m\u001b[43m)\u001b[49m\n\u001b[1;32m    156\u001b[0m \u001b[38;5;28;01melse\u001b[39;00m:\n\u001b[1;32m    157\u001b[0m     \u001b[38;5;28;01myield\u001b[39;00m \u001b[38;5;28mself\u001b[39m\u001b[38;5;241m.\u001b[39m_find_(key, \u001b[38;5;241m*\u001b[39margs, \u001b[38;5;241m*\u001b[39m\u001b[38;5;241m*\u001b[39mkwargs)\n",
      "File \u001b[0;32m~/workspace/fytok/SpDM/python/spdm/data/AoS.py:116\u001b[0m, in \u001b[0;36mAoS._find_\u001b[0;34m(self, key, *args, **kwargs)\u001b[0m\n\u001b[1;32m    113\u001b[0m \u001b[38;5;250m\u001b[39m\u001b[38;5;124;03m\"\"\" \"\"\"\u001b[39;00m\n\u001b[1;32m    115\u001b[0m \u001b[38;5;28;01mif\u001b[39;00m \u001b[38;5;129;01mnot\u001b[39;00m (\u001b[38;5;28misinstance\u001b[39m(key, \u001b[38;5;28mstr\u001b[39m) \u001b[38;5;129;01mand\u001b[39;00m key\u001b[38;5;241m.\u001b[39misidentifier()) \u001b[38;5;129;01mor\u001b[39;00m \u001b[38;5;28mlen\u001b[39m(args) \u001b[38;5;241m>\u001b[39m \u001b[38;5;241m0\u001b[39m:\n\u001b[0;32m--> 116\u001b[0m     \u001b[38;5;28;01mreturn\u001b[39;00m \u001b[38;5;28;43msuper\u001b[39;49m\u001b[43m(\u001b[49m\u001b[43m)\u001b[49m\u001b[38;5;241;43m.\u001b[39;49m\u001b[43m_find_\u001b[49m\u001b[43m(\u001b[49m\u001b[43mkey\u001b[49m\u001b[43m,\u001b[49m\u001b[43m \u001b[49m\u001b[38;5;241;43m*\u001b[39;49m\u001b[43margs\u001b[49m\u001b[43m,\u001b[49m\u001b[43m \u001b[49m\u001b[38;5;241;43m*\u001b[39;49m\u001b[38;5;241;43m*\u001b[39;49m\u001b[43mkwargs\u001b[49m\u001b[43m)\u001b[49m\n\u001b[1;32m    118\u001b[0m \u001b[38;5;28mself\u001b[39m\u001b[38;5;241m.\u001b[39m_update_cache()\n\u001b[1;32m    120\u001b[0m index, value \u001b[38;5;241m=\u001b[39m Path()\u001b[38;5;241m.\u001b[39msearch(\u001b[38;5;28mself\u001b[39m\u001b[38;5;241m.\u001b[39m_cache, key)\n",
      "File \u001b[0;32m~/workspace/fytok/SpDM/python/spdm/data/HTree.py:488\u001b[0m, in \u001b[0;36mHTree._find_\u001b[0;34m(self, key, _getter, default_value, *args, **kwargs)\u001b[0m\n\u001b[1;32m    485\u001b[0m     _entry \u001b[38;5;241m=\u001b[39m \u001b[38;5;28mself\u001b[39m\u001b[38;5;241m.\u001b[39m_entry\u001b[38;5;241m.\u001b[39mchild(key) \u001b[38;5;28;01mif\u001b[39;00m \u001b[38;5;28mself\u001b[39m\u001b[38;5;241m.\u001b[39m_entry \u001b[38;5;129;01mis\u001b[39;00m \u001b[38;5;129;01mnot\u001b[39;00m \u001b[38;5;28;01mNone\u001b[39;00m \u001b[38;5;28;01melse\u001b[39;00m \u001b[38;5;28;01mNone\u001b[39;00m\n\u001b[1;32m    487\u001b[0m     \u001b[38;5;28;01mif\u001b[39;00m value \u001b[38;5;129;01mis\u001b[39;00m _not_found_ \u001b[38;5;129;01mand\u001b[39;00m default_value \u001b[38;5;129;01mis\u001b[39;00m _undefined_ \u001b[38;5;129;01mand\u001b[39;00m \u001b[38;5;129;01mnot\u001b[39;00m _entry\u001b[38;5;241m.\u001b[39mexists:\n\u001b[0;32m--> 488\u001b[0m         value \u001b[38;5;241m=\u001b[39m \u001b[38;5;28;43mself\u001b[39;49m\u001b[38;5;241;43m.\u001b[39;49m\u001b[38;5;21;43m__missing__\u001b[39;49m\u001b[43m(\u001b[49m\u001b[43mkey\u001b[49m\u001b[43m)\u001b[49m\n\u001b[1;32m    490\u001b[0m     value \u001b[38;5;241m=\u001b[39m \u001b[38;5;28mself\u001b[39m\u001b[38;5;241m.\u001b[39m_type_convert(value, key, _entry\u001b[38;5;241m=\u001b[39m_entry, default_value\u001b[38;5;241m=\u001b[39mdefault_value, \u001b[38;5;241m*\u001b[39m\u001b[38;5;241m*\u001b[39mkwargs)\n\u001b[1;32m    492\u001b[0m \u001b[38;5;28;01mreturn\u001b[39;00m value\n",
      "File \u001b[0;32m~/workspace/fytok/SpDM/python/spdm/data/HTree.py:436\u001b[0m, in \u001b[0;36mHTree.__missing__\u001b[0;34m(self, key)\u001b[0m\n\u001b[1;32m    434\u001b[0m \u001b[38;5;28;01mdef\u001b[39;00m \u001b[38;5;21m__missing__\u001b[39m(\u001b[38;5;28mself\u001b[39m, key) \u001b[38;5;241m-\u001b[39m\u001b[38;5;241m>\u001b[39m typing\u001b[38;5;241m.\u001b[39mAny:\n\u001b[0;32m--> 436\u001b[0m     \u001b[38;5;28;01mraise\u001b[39;00m \u001b[38;5;167;01mKeyError\u001b[39;00m(\u001b[38;5;124mf\u001b[39m\u001b[38;5;124m\"\u001b[39m\u001b[38;5;132;01m{\u001b[39;00m\u001b[38;5;28mself\u001b[39m\u001b[38;5;241m.\u001b[39m\u001b[38;5;18m__class__\u001b[39m\u001b[38;5;241m.\u001b[39m\u001b[38;5;18m__name__\u001b[39m\u001b[38;5;132;01m}\u001b[39;00m\u001b[38;5;124m can not find \u001b[39m\u001b[38;5;124m'\u001b[39m\u001b[38;5;132;01m{\u001b[39;00mkey\u001b[38;5;132;01m}\u001b[39;00m\u001b[38;5;124m'\u001b[39m\u001b[38;5;124m! \u001b[39m\u001b[38;5;124m\"\u001b[39m)\n",
      "\u001b[0;31mKeyError\u001b[0m: \"AoS can not find '0'! \""
     ]
    }
   ],
   "source": [
    "tokamak.initialize()"
   ]
  },
  {
   "cell_type": "code",
   "execution_count": null,
   "metadata": {},
   "outputs": [],
   "source": [
    "model = tokamak.core_transport.model[0]\n",
    "trans_1d = model.time_slice.current.profiles_1d\n",
    "ions = trans_1d.ion"
   ]
  },
  {
   "cell_type": "code",
   "execution_count": null,
   "metadata": {},
   "outputs": [],
   "source": [
    "ion = ions[\"D\"]\n",
    "ion.particles.d"
   ]
  },
  {
   "cell_type": "code",
   "execution_count": null,
   "metadata": {},
   "outputs": [],
   "source": [
    "Path(\"ion/D/particles/d\").find(trans_1d)"
   ]
  },
  {
   "cell_type": "code",
   "execution_count": null,
   "metadata": {},
   "outputs": [],
   "source": [
    "Path(\"T/particles/d\").find(ions)"
   ]
  },
  {
   "cell_type": "code",
   "execution_count": null,
   "metadata": {},
   "outputs": [],
   "source": [
    "print([ion.label for ion in ions])"
   ]
  },
  {
   "cell_type": "code",
   "execution_count": null,
   "metadata": {},
   "outputs": [],
   "source": [
    "solver = tokamak.transport_solver"
   ]
  },
  {
   "cell_type": "code",
   "execution_count": null,
   "metadata": {},
   "outputs": [],
   "source": [
    "solver_1d = solver.preprocess(\n",
    "    time=0.0,\n",
    "    # fmt:off\n",
    "    initial_value={\n",
    "        \"psi\":0.0,\n",
    "        \"ion/D/density\":                    1.0e19,\n",
    "        \"ion/T/density\":                    1.0e19,\n",
    "        \"ion/He/density\":                   1.0,\n",
    "        \"ion/alpha/density\":                1.0,\n",
    "\n",
    "        \"ion/D/temperature\":                2.0e3,\n",
    "        \"ion/T/temperature\":                2.0e3,\n",
    "        \"ion/He/temperature\":               2.0e3,\n",
    "        \"electrons/temperature\":            2.0e3,\n",
    "    },\n",
    "    boundary_value={\n",
    "        \"ion/D/density\":                    1.3e19, \n",
    "        \"ion/T/density\":                    1.3e19, \n",
    "        \"ion/He/density\":                   1.0, \n",
    "        \"ion/alpha/density\":                1.0, \n",
    "\n",
    "        \"ion/D/temperature\":                200,   \n",
    "        \"ion/T/temperature\":                200,   \n",
    "        \"ion/He/temperature\":               200,   \n",
    "        \"electrons/temperature\":            200,   \n",
    "    },\n",
    "    # fmt:on\n",
    ")"
   ]
  },
  {
   "cell_type": "code",
   "execution_count": null,
   "metadata": {},
   "outputs": [],
   "source": [
    "fig = sp_view.plot(\n",
    "    solver_1d.X,\n",
    "    *[(solver_1d.Y[idx * 2], equ.identifier) for idx, equ in enumerate(solver.equations)],\n",
    "    *[(solver_1d.Y[idx * 2+1], f\"{equ.identifier}_flux\") for idx, equ in enumerate(solver.equations)],\n",
    ")"
   ]
  },
  {
   "cell_type": "code",
   "execution_count": null,
   "metadata": {},
   "outputs": [],
   "source": [
    "solver_1d = solver.execute(solver_1d)\n",
    "solver_1d = solver.postprocess(solver_1d)"
   ]
  },
  {
   "cell_type": "code",
   "execution_count": null,
   "metadata": {},
   "outputs": [],
   "source": [
    "fig = sp_view.plot(\n",
    "    solver_1d.X,\n",
    "    *[(solver_1d.Y[idx * 2], equ.identifier) for idx, equ in enumerate(solver.equations)],\n",
    "    *[(solver_1d.Y[idx * 2+1], f\"{equ.identifier}_flux\") for idx, equ in enumerate(solver.equations)],\n",
    ")"
   ]
  },
  {
   "cell_type": "code",
   "execution_count": null,
   "metadata": {},
   "outputs": [],
   "source": [
    "tokamak.flush()\n",
    "core_profiles_1d = tokamak.core_profiles.time_slice.current.profiles_1d"
   ]
  },
  {
   "cell_type": "code",
   "execution_count": null,
   "metadata": {},
   "outputs": [],
   "source": [
    "fig = sp_view.plot(\n",
    "    solver_1d.grid.rho_tor_norm,\n",
    "    [\n",
    "        (core_profiles_1d.psi, r\"$\\psi$\"),\n",
    "        (\n",
    "            equilibrium_astra.time_slice.current.profiles_1d.psi(solver_1d.grid.psi_norm),\n",
    "            {\"label\": r\"$\\psi$ astra\", \"$matplotlib\": {\"linestyle\": \"dashed\"}},\n",
    "        ),\n",
    "    ],\n",
    "    *[\n",
    "        [\n",
    "            (Path(equ.identifier).get(core_profiles_1d, 0), f\"{equ.identifier} \"),\n",
    "            (\n",
    "                Path(equ.identifier).get(core_profiles_1d_astra, 0),\n",
    "                {\"label\": f\"{equ.identifier} astra\", \"$matplotlib\": {\"linestyle\": \"dashed\"}},\n",
    "            ),\n",
    "        ]\n",
    "        for equ in solver_1d.equations\n",
    "        if equ.identifier != \"psi\"\n",
    "    ],\n",
    ")"
   ]
  },
  {
   "cell_type": "code",
   "execution_count": null,
   "metadata": {},
   "outputs": [],
   "source": [
    "fig = sp_view.plot(\n",
    "    solver_1d.grid.rho_tor_norm,\n",
    "    [\n",
    "        # (core_profiles_1d.ion[\"alpha\"].density, r\"$\\alpha$\"),\n",
    "        (core_profiles_1d.ion[\"He\"].density, r\"He\"),\n",
    "        (core_profiles_1d.ion[\"He\"].density + core_profiles_1d.ion[\"alpha\"].density, r\"He+$\\alpha$\"),\n",
    "        (core_profiles_1d_astra.ion[\"He\"].density, {\"label\": f\"He astra\", \"$matplotlib\": {\"linestyle\": \"dashed\"}}),\n",
    "    ],\n",
    "    fontsize=10,\n",
    ")"
   ]
  },
  {
   "cell_type": "code",
   "execution_count": null,
   "metadata": {},
   "outputs": [],
   "source": [
    "source_1d = tokamak.core_sources.source[0].time_slice.current.profiles_1d\n",
    "fig = sp_view.plot(\n",
    "    source_1d.grid.rho_tor_norm,\n",
    "    [(source_1d.electrons.particles, r\"$S_{e}$\")] + [(ion.particles, rf\"$S_{{{ion.label}}}$\") for ion in source_1d.ion],\n",
    "    [(source_1d.electrons.energy, r\"$Q_{e}$\")],\n",
    "    [(ion.energy, rf\"$Q_{{{ion.label}}}$\") for ion in source_1d.ion],\n",
    "    x_label=r\"$\\bar{\\rho}$ [-]\",\n",
    "    fontsize=12,\n",
    ")"
   ]
  },
  {
   "cell_type": "code",
   "execution_count": null,
   "metadata": {},
   "outputs": [],
   "source": [
    "source_1d = tokamak.core_sources.source[1].time_slice.current.profiles_1d\n",
    "fig = sp_view.plot(\n",
    "    source_1d.grid.rho_tor_norm,\n",
    "    [\n",
    "        (core_profiles_1d.electrons.temperature, r\"$T_{e}$\"),\n",
    "        *[(ion.temperature, rf\"$T_{{{ion.label}}}$\") for ion in core_profiles_1d.ion],\n",
    "    ],  # [(source_1d.electrons.particles, r\"$S_{e}$\")] + [(ion.particles, rf\"$S_{{{ion.label}}}$\") for ion in source_1d.ion],\n",
    "    [\n",
    "        (source_1d.electrons.energy, {\"label\": r\"$Q_{e}$\", \"$matplotlib\": {\"linestyle\": \"-\", \"marker\": \".\"}}),\n",
    "        *[(ion.energy, rf\"$Q_{{{ion.label}}}$\") for ion in source_1d.ion],\n",
    "    ],\n",
    "    x_label=r\"$\\bar{\\rho}$ [-]\",\n",
    "    fontsize=12,\n",
    ")"
   ]
  },
  {
   "cell_type": "code",
   "execution_count": null,
   "metadata": {},
   "outputs": [],
   "source": [
    "astra_rho_tor_norm = astra_profiles[\"x\"].values\n",
    "fig = sp_view.plot(\n",
    "    source_1d.grid.rho_tor_norm,\n",
    "    (\n",
    "        Function(astra_rho_tor_norm, astra_profiles[\"Poh\"].values * 1.0e6 / scipy.constants.electron_volt),\n",
    "        r\"$Q_{oh}$ astra\",\n",
    "    ),\n",
    "    [\n",
    "        (tokamak.core_sources.source[1].time_slice.current.profiles_1d.electrons.energy, r\"$Q_{e}$\"),\n",
    "        *[\n",
    "            (ion.energy, rf\"$Q_{{{ion.label}}}$\")\n",
    "            for ion in tokamak.core_sources.source[1].time_slice.current.profiles_1d.ion\n",
    "        ],\n",
    "    ],\n",
    "    [\n",
    "        (\n",
    "            Function(astra_rho_tor_norm, astra_profiles[\"Pdte\"].values * 1.0e6 / scipy.constants.electron_volt),\n",
    "            r\"$Q_{dte}$ astra\",\n",
    "        ),\n",
    "        (\n",
    "            Function(astra_rho_tor_norm, astra_profiles[\"Pdti\"].values * 1.0e6 / scipy.constants.electron_volt),\n",
    "            r\"$Q_{dti}$ astra\",\n",
    "        ),\n",
    "        (\n",
    "            Function(astra_rho_tor_norm, (astra_profiles[\"Pdt\"].values) * 1.0e6 / scipy.constants.electron_volt),\n",
    "            r\"$Q_{dt}$ astra total\",\n",
    "        ),\n",
    "    ],\n",
    "    *[\n",
    "        (\n",
    "            Function(astra_rho_tor_norm, astra_profiles[\"Peic\"].values * 1.0e6 / scipy.constants.electron_volt),\n",
    "            r\"$Q_{e}$ astra\",\n",
    "        ),\n",
    "        (source_1d.electrons.energy, r\"$Q_{e}$\"),\n",
    "    ],\n",
    "    x_label=r\"$\\bar{\\rho}$ [-]\",\n",
    "    fontsize=10,\n",
    ")"
   ]
  },
  {
   "cell_type": "code",
   "execution_count": null,
   "metadata": {},
   "outputs": [],
   "source": [
    "source_1d = tokamak.core_sources.source[2].time_slice.current.profiles_1d\n",
    "fig = sp_view.plot(\n",
    "    source_1d.grid.rho_tor_norm,\n",
    "    [(source_1d.electrons.particles, r\"$S_{e}$\")] + [(ion.particles, rf\"$S_{{{ion.label}}}$\") for ion in source_1d.ion],\n",
    "    [(source_1d.electrons.energy, r\"$Q_{e}$\")],\n",
    "    [(ion.energy, rf\"$Q_{{{ion.label}}}$\") for ion in source_1d.ion],\n",
    "    x_label=r\"$\\bar{\\rho}$ [-]\",\n",
    "    fontsize=12,\n",
    ")"
   ]
  },
  {
   "cell_type": "code",
   "execution_count": null,
   "metadata": {},
   "outputs": [],
   "source": [
    "fig = sp_view.plot(\n",
    "    solver_1d.grid.rho_tor_norm,\n",
    "    *sum(\n",
    "        [\n",
    "            [\n",
    "                # (solver_1d.Y0[2 * idx], f\"d({equ.identifier})/dr\"),\n",
    "                # (solver_1d.Y0[2 * idx + 1], f\"d({equ.identifier}_flux)/dr\"),\n",
    "                (equ.d_dr, f\"d({equ.identifier})/dr\"),\n",
    "                (equ.dflux_dr, f\"d({equ.identifier}_flux)/dr\"),\n",
    "            ]\n",
    "            for idx, equ in enumerate(solver_1d.equations)\n",
    "        ],\n",
    "        [],\n",
    "    ),\n",
    ")"
   ]
  },
  {
   "cell_type": "code",
   "execution_count": null,
   "metadata": {},
   "outputs": [],
   "source": [
    "trans_1d = tokamak.core_transport.model[0].time_slice.current.profiles_1d\n",
    "fig = sp_view.plot(\n",
    "    trans_1d.grid_d.rho_tor_norm,\n",
    "    (\n",
    "        [\n",
    "            (trans_1d.ion[0].particles.d, trans_1d.ion[0].label),\n",
    "            (trans_1d.ion[1].particles.d, trans_1d.ion[1].label),\n",
    "        ],\n",
    "        {\"y_label\": \"D\"},\n",
    "    ),\n",
    "    (\n",
    "        [\n",
    "            (trans_1d.ion[0].particles.v, trans_1d.ion[0].label),\n",
    "            (trans_1d.ion[1].particles.v, trans_1d.ion[1].label),\n",
    "        ],\n",
    "        {\"y_label\": \"v\"},\n",
    "    ),\n",
    ")"
   ]
  },
  {
   "cell_type": "code",
   "execution_count": null,
   "metadata": {},
   "outputs": [],
   "source": [
    "source_1d = tokamak.core_sources.source[0].time_slice.current.profiles_1d\n",
    "fig = sp_view.plot(\n",
    "    source_1d.grid.rho_tor_norm,\n",
    "    (\n",
    "        [\n",
    "            (source_1d.ion[0].particles, source_1d.ion[0].label),\n",
    "            (source_1d.ion[2].particles, source_1d.ion[2].label),\n",
    "        ],\n",
    "        {\"y_label\": \"Particles\"},\n",
    "    ),\n",
    "    (\n",
    "        [\n",
    "            (source_1d.ion[0].energy, source_1d.ion[0].label),\n",
    "            (source_1d.ion[2].energy, source_1d.ion[2].label),\n",
    "        ],\n",
    "        {\"y_label\": \"Energy\"},\n",
    "    ),\n",
    ")"
   ]
  }
 ],
 "metadata": {
  "kernelspec": {
   "display_name": "Python 3",
   "language": "python",
   "name": "python3"
  },
  "language_info": {
   "codemirror_mode": {
    "name": "ipython",
    "version": 3
   },
   "file_extension": ".py",
   "mimetype": "text/x-python",
   "name": "python",
   "nbconvert_exporter": "python",
   "pygments_lexer": "ipython3",
   "version": "3.10.12"
  }
 },
 "nbformat": 4,
 "nbformat_minor": 2
}
