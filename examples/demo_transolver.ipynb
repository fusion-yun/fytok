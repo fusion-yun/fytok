{
 "cells": [
  {
   "cell_type": "code",
   "execution_count": 1,
   "metadata": {},
   "outputs": [
    {
     "name": "stdout",
     "output_type": "stream",
     "text": [
      "\u001b[0;34m2023-11-21 10:56:29,147 [   fytok]     INFO: \n",
      "#######################################################################################################################\n",
      "    ______      _____     _\n",
      "   / ____/_  __|_   _|__ | | __\n",
      "  / /_  / / / /  | |/ _ \\| |/ /\n",
      " / __/ / /_/ /   | | (_) |   <\n",
      "/_/    \\__, /    |_|\\___/|_|\\_\\\n",
      "      /____/\n",
      "\n",
      " Copyright (c) 2021-present Zhi YU (Institute of Plasma Physics Chinese Academy of Sciences)\n",
      "            \n",
      " url: https://gitee.com/openfusion/fytok_tutorial \n",
      "      https://github.com/fusion-yun/fytok_tutorial\n",
      "\n",
      " version = develop  (spdm=develop extension=0.2.2.dev11+g706f667, imas_version=v3_38_1_dirty)\n",
      "\n",
      " Run by salmon at 2023-11-21T10:56:29.147146.\n",
      " Job ID: fytok_salmon_surface_7099\n",
      "\n",
      "#######################################################################################################################\n",
      "\u001b[0m\n"
     ]
    }
   ],
   "source": [
    "import pathlib\n",
    "import numpy as np\n",
    "from fytok.Tokamak import Tokamak\n",
    "from spdm.view import View as sp_view\n",
    "\n",
    "input_path = pathlib.Path(\"/home/salmon/workspace/fytok_data/data/15MA inductive - burn\")"
   ]
  },
  {
   "cell_type": "code",
   "execution_count": 2,
   "metadata": {},
   "outputs": [
    {
     "name": "stdout",
     "output_type": "stream",
     "text": [
      "\u001b[0;37m2023-11-21 10:56:29,306 [   fytok]    DEBUG: /home/salmon/workspace/fytok/SpDM/python/spdm/utils/sp_export.py:66:sp_load_module: Load module spdm.plugins.data.plugin_xml\u001b[0m\n",
      "\u001b[0;37m2023-11-21 10:56:29,502 [   fytok]    DEBUG: /home/salmon/workspace/fytok/SpDM/python/spdm/utils/sp_export.py:66:sp_load_module: Load module spdm.plugins.data.plugin_iterprofiles\u001b[0m\n",
      "\u001b[0;37m2023-11-21 10:56:29,563 [   fytok]    DEBUG: /home/salmon/workspace/fytok/SpDM/python/spdm/utils/sp_export.py:66:sp_load_module: Load module spdm.plugins.data.plugin_geqdsk\u001b[0m\n"
     ]
    }
   ],
   "source": [
    "tokamak = Tokamak(\n",
    "    f\"file+iterprofiles://{next(input_path.glob('*ASTRA.xls')).absolute().as_posix()}\",\n",
    "    f\"file+geqdsk://{next(input_path.glob('**/g*.txt')).absolute().as_posix()}\",\n",
    "    device=\"iter\",\n",
    "    shot=900003,\n",
    "    time=2.30,\n",
    "    core_transport={\"model\": [{\"code\": {\"name\": \"dummy\"}}]},\n",
    "    core_sources={\n",
    "        \"source\": [\n",
    "            {\"code\": {\"name\": \"dummy\"}},\n",
    "            # {\"code\": {\"name\": \"fusion_reaction\"}},\n",
    "        ]\n",
    "    },\n",
    "    transport_solver={\n",
    "        \"code\": {\n",
    "            \"name\": \"fy_trans\",\n",
    "            \"parameters\": {\n",
    "                \"rho_tor_norm\": np.linspace(0.01, 0.995, 128),\n",
    "                \"bvp_rms_mask\": [0.96],\n",
    "                \"hyper_diff\": 0.0001,\n",
    "                \"max_nodes\": 250,\n",
    "            },\n",
    "        },\n",
    "    },\n",
    ")"
   ]
  },
  {
   "cell_type": "code",
   "execution_count": 3,
   "metadata": {},
   "outputs": [
    {
     "name": "stdout",
     "output_type": "stream",
     "text": [
      "\u001b[0;37m2023-11-21 10:56:29,937 [   fytok]    DEBUG: /home/salmon/workspace/fytok/SpDM/python/spdm/utils/sp_export.py:66:sp_load_module: Load module fytok.plugins.equilibrium.fy_eq\u001b[0m\n",
      "\u001b[0;37m2023-11-21 10:56:29,943 [   fytok]    DEBUG: /home/salmon/workspace/fytok/python/fytok/modules/Utilities.py:114:execute: Execute fytok.plugins.equilibrium.fy_eq-0.0.1 [Zhi YU@ASIPP]\u001b[0m\n",
      "\u001b[0;37m2023-11-21 10:56:29,948 [   fytok]    DEBUG: /home/salmon/workspace/fytok/SpDM/python/spdm/utils/sp_export.py:66:sp_load_module: Load module fytok.plugins.core_sources.source.dummy\u001b[0m\n",
      "\u001b[0;37m2023-11-21 10:56:29,966 [   fytok]    DEBUG: /home/salmon/workspace/fytok/SpDM/python/spdm/utils/sp_export.py:66:sp_load_module: Load module spdm.mesh.mesh_rectangular\u001b[0m\n",
      "\u001b[0;37m2023-11-21 10:56:30,316 [   fytok]    DEBUG: /home/salmon/workspace/fytok/python/fytok/modules/Utilities.py:114:execute: Execute fytok.plugins.core_sources.source.dummy-0.0.0 [fytok]\u001b[0m\n",
      "\u001b[0;37m2023-11-21 10:56:30,321 [   fytok]    DEBUG: /home/salmon/workspace/fytok/SpDM/python/spdm/utils/sp_export.py:66:sp_load_module: Load module fytok.plugins.core_transport.model.dummy\u001b[0m\n",
      "\u001b[0;37m2023-11-21 10:56:30,328 [   fytok]    DEBUG: /home/salmon/workspace/fytok/python/fytok/modules/Utilities.py:114:execute: Execute fytok.plugins.core_transport.model.dummy-0.0.0 [fytok]\u001b[0m\n",
      "\u001b[0;37m2023-11-21 10:56:30,336 [   fytok]    DEBUG: /home/salmon/workspace/fytok/SpDM/python/spdm/utils/sp_export.py:66:sp_load_module: Load module fytok.plugins.transport_solver_numerics.fy_trans\u001b[0m\n",
      "\u001b[0;34m2023-11-21 10:56:30,929 [   fytok]     INFO: Solve transport equations [5] : ion/D/density_thermal,ion/T/density_thermal,ion/D/temperature,ion/T/temperature,electrons/temperature\u001b[0m\n"
     ]
    },
    {
     "ename": "RuntimeError",
     "evalue": "Failure to calculate equation  ion/D/temperature_flux $$\\frac{\\left(\\left(\\left(Expression\\left(psi\\left(NoneType\\right)\\right) ^ 1.6666666666666667\\right) \\cdot \\left(energy\\left(NoneType\\right) + \\left(NoneType \\cdot NoneType\\right)\\right)\\right) + \\left(0.0001 \\cdot NoneType\\right)\\right)}{\\left(\\frac{1.0}{\\left(2.7170177040213015 \\cdot \\left(Expression\\left(psi\\left(NoneType\\right)\\right) ^ -0.6666666666666666\\right)\\right)} + 0.0001\\right)}$$ x=[0.01       0.01775591 0.02551181 0.03326772 0.04102362 0.04877953\n 0.05653543 0.06429134 0.07204724 0.07980315 0.08755906 0.09531496\n 0.10307087 0.11082677 0.11858268 0.12633858 0.13409449 0.14185039\n 0.1496063  0.1573622  0.16511811 0.17287402 0.18062992 0.18838583\n 0.19614173 0.20389764 0.21165354 0.21940945 0.22716535 0.23492126\n 0.24267717 0.25043307 0.25818898 0.26594488 0.27370079 0.28145669\n 0.2892126  0.2969685  0.30472441 0.31248031 0.32023622 0.32799213\n 0.33574803 0.34350394 0.35125984 0.35901575 0.36677165 0.37452756\n 0.38228346 0.39003937 0.39779528 0.40555118 0.41330709 0.42106299\n 0.4288189  0.4365748  0.44433071 0.45208661 0.45984252 0.46759843\n 0.47535433 0.48311024 0.49086614 0.49862205 0.50637795 0.51413386\n 0.52188976 0.52964567 0.53740157 0.54515748 0.55291339 0.56066929\n 0.5684252  0.5761811  0.58393701 0.59169291 0.59944882 0.60720472\n 0.61496063 0.62271654 0.63047244 0.63822835 0.64598425 0.65374016\n 0.66149606 0.66925197 0.67700787 0.68476378 0.69251969 0.70027559\n 0.7080315  0.7157874  0.72354331 0.73129921 0.73905512 0.74681102\n 0.75456693 0.76232283 0.77007874 0.77783465 0.78559055 0.79334646\n 0.80110236 0.80885827 0.81661417 0.82437008 0.83212598 0.83988189\n 0.8476378  0.8553937  0.86314961 0.87090551 0.87866142 0.88641732\n 0.89417323 0.90192913 0.90968504 0.91744094 0.92519685 0.93295276\n 0.94070866 0.94846457 0.95622047 0.96397638 0.97173228 0.97948819\n 0.98724409 0.995     ] args=[[1.00000000e+00 1.00000000e+00 1.00000000e+00 ... 1.00000000e+00\n  1.00000000e+00 1.00000000e+00]\n [4.81815301e-04 1.69534692e-03 3.59428867e-03 ... 5.13342881e+00\n  5.36660895e+00 5.72585199e+00]\n [1.00000000e+00 1.00000000e+00 1.00000000e+00 ... 1.00000000e+00\n  1.00000000e+00 1.00000000e+00]\n ...\n [3.93482496e-03 1.38453332e-02 2.93533575e-02 ... 3.33672873e+01\n  3.48829582e+01 3.72180379e+01]\n [1.00000000e+00 1.00000000e+00 1.00000000e+00 ... 1.00000000e+00\n  1.00000000e+00 1.00000000e+00]\n [1.89514018e-02 6.66836456e-02 1.41375354e-01 ... 2.87472013e+02\n  3.00530101e+02 3.20647711e+02]]  !",
     "output_type": "error",
     "traceback": [
      "\u001b[0;31m---------------------------------------------------------------------------\u001b[0m",
      "\u001b[0;31mRuntimeError\u001b[0m                              Traceback (most recent call last)",
      "File \u001b[0;32m~/workspace/fytok/SpDM/python/spdm/data/Expression.py:485\u001b[0m, in \u001b[0;36mExpression._eval\u001b[0;34m(self, *args, **kwargs)\u001b[0m\n\u001b[1;32m    484\u001b[0m \u001b[39mtry\u001b[39;00m:\n\u001b[0;32m--> 485\u001b[0m     value \u001b[39m=\u001b[39m func(\u001b[39m*\u001b[39;49margs, \u001b[39m*\u001b[39;49m\u001b[39m*\u001b[39;49mkwargs)\n\u001b[1;32m    486\u001b[0m \u001b[39mexcept\u001b[39;00m \u001b[39mException\u001b[39;00m \u001b[39mas\u001b[39;00m error:\n",
      "File \u001b[0;32m~/workspace/fytok/SpDM/python/spdm/data/Function.py:157\u001b[0m, in \u001b[0;36mFunction.__call__\u001b[0;34m(self, *args, **kwargs)\u001b[0m\n\u001b[1;32m    156\u001b[0m \u001b[39melse\u001b[39;00m:\n\u001b[0;32m--> 157\u001b[0m     \u001b[39mreturn\u001b[39;00m \u001b[39msuper\u001b[39;49m()\u001b[39m.\u001b[39;49m\u001b[39m__call__\u001b[39;49m(\u001b[39m*\u001b[39;49margs, \u001b[39m*\u001b[39;49m\u001b[39m*\u001b[39;49mkwargs)\n",
      "File \u001b[0;32m~/workspace/fytok/SpDM/python/spdm/data/Expression.py:538\u001b[0m, in \u001b[0;36mExpression.__call__\u001b[0;34m(self, *args, **kwargs)\u001b[0m\n\u001b[1;32m    537\u001b[0m \u001b[39melse\u001b[39;00m:\n\u001b[0;32m--> 538\u001b[0m     \u001b[39mreturn\u001b[39;00m \u001b[39mself\u001b[39;49m\u001b[39m.\u001b[39;49m_eval(\u001b[39m*\u001b[39;49margs, \u001b[39m*\u001b[39;49m\u001b[39m*\u001b[39;49mkwargs)\n",
      "File \u001b[0;32m~/workspace/fytok/SpDM/python/spdm/data/Expression.py:479\u001b[0m, in \u001b[0;36mExpression._eval\u001b[0;34m(self, *args, **kwargs)\u001b[0m\n\u001b[1;32m    478\u001b[0m \u001b[39mdef\u001b[39;00m \u001b[39m_eval\u001b[39m(\u001b[39mself\u001b[39m, \u001b[39m*\u001b[39margs, \u001b[39m*\u001b[39m\u001b[39m*\u001b[39mkwargs):\n\u001b[0;32m--> 479\u001b[0m     func \u001b[39m=\u001b[39m \u001b[39mself\u001b[39;49m\u001b[39m.\u001b[39;49m__functor__()\n\u001b[1;32m    481\u001b[0m     \u001b[39mif\u001b[39;00m func \u001b[39mis\u001b[39;00m \u001b[39mNone\u001b[39;00m:\n",
      "File \u001b[0;32m~/workspace/fytok/SpDM/python/spdm/data/Function.py:136\u001b[0m, in \u001b[0;36mFunction.__functor__\u001b[0;34m(self)\u001b[0m\n\u001b[1;32m    135\u001b[0m \u001b[39mif\u001b[39;00m \u001b[39mself\u001b[39m\u001b[39m.\u001b[39m_func \u001b[39mis\u001b[39;00m \u001b[39mNone\u001b[39;00m:\n\u001b[0;32m--> 136\u001b[0m     \u001b[39mself\u001b[39m\u001b[39m.\u001b[39m_func \u001b[39m=\u001b[39m \u001b[39mself\u001b[39;49m\u001b[39m.\u001b[39;49m_interpolate()\n\u001b[1;32m    137\u001b[0m \u001b[39mreturn\u001b[39;00m \u001b[39mself\u001b[39m\u001b[39m.\u001b[39m_func\n",
      "File \u001b[0;32m~/workspace/fytok/SpDM/python/spdm/data/Function.py:146\u001b[0m, in \u001b[0;36mFunction._interpolate\u001b[0;34m(self)\u001b[0m\n\u001b[1;32m    144\u001b[0m     \u001b[39mraise\u001b[39;00m \u001b[39mRuntimeError\u001b[39;00m(\u001b[39mf\u001b[39m\u001b[39m\"\u001b[39m\u001b[39m{\u001b[39;00m\u001b[39mself\u001b[39m\u001b[39m}\u001b[39;00m\u001b[39m\"\u001b[39m)\n\u001b[0;32m--> 146\u001b[0m \u001b[39mreturn\u001b[39;00m interpolate(\n\u001b[1;32m    147\u001b[0m     \u001b[39m*\u001b[39;49m\u001b[39mself\u001b[39;49m\u001b[39m.\u001b[39;49mdomain\u001b[39m.\u001b[39;49mdims,\n\u001b[1;32m    148\u001b[0m     \u001b[39mself\u001b[39;49m\u001b[39m.\u001b[39;49m_cache,\n\u001b[1;32m    149\u001b[0m     periods\u001b[39m=\u001b[39;49m\u001b[39mself\u001b[39;49m\u001b[39m.\u001b[39;49mdomain\u001b[39m.\u001b[39;49mperiods,\n\u001b[1;32m    150\u001b[0m     extrapolate\u001b[39m=\u001b[39;49m\u001b[39mself\u001b[39;49m\u001b[39m.\u001b[39;49m_metadata\u001b[39m.\u001b[39;49mget(\u001b[39m\"\u001b[39;49m\u001b[39mextrapolate\u001b[39;49m\u001b[39m\"\u001b[39;49m, \u001b[39m0\u001b[39;49m),\n\u001b[1;32m    151\u001b[0m )\n",
      "File \u001b[0;32m~/workspace/fytok/SpDM/python/spdm/numlib/interpolate.py:136\u001b[0m, in \u001b[0;36minterpolate\u001b[0;34m(type, *args, **kwargs)\u001b[0m\n\u001b[1;32m    135\u001b[0m \u001b[39mcase\u001b[39;00m \u001b[39m\"\u001b[39m\u001b[39mrectlinear\u001b[39m\u001b[39m\"\u001b[39m:\n\u001b[0;32m--> 136\u001b[0m     res \u001b[39m=\u001b[39m RectInterpolateOp(\u001b[39m*\u001b[39;49margs, \u001b[39m*\u001b[39;49m\u001b[39m*\u001b[39;49mkwargs)\n\u001b[1;32m    137\u001b[0m \u001b[39mcase\u001b[39;00m\u001b[39m \u001b[39m\u001b[39m_\u001b[39;00m:\n",
      "File \u001b[0;32m~/workspace/fytok/SpDM/python/spdm/numlib/interpolate.py:41\u001b[0m, in \u001b[0;36mRectInterpolateOp.__init__\u001b[0;34m(self, periods, check_nan, extrapolate, *xy, **kwargs)\u001b[0m\n\u001b[1;32m     40\u001b[0m     \u001b[39melif\u001b[39;00m \u001b[39mtuple\u001b[39m(\u001b[39mself\u001b[39m\u001b[39m.\u001b[39m_value\u001b[39m.\u001b[39mshape) \u001b[39m!=\u001b[39m \u001b[39mtuple\u001b[39m(\u001b[39mself\u001b[39m\u001b[39m.\u001b[39m_shape):\n\u001b[0;32m---> 41\u001b[0m         \u001b[39mraise\u001b[39;00m \u001b[39mRuntimeError\u001b[39;00m(\n\u001b[1;32m     42\u001b[0m             \u001b[39mf\u001b[39m\u001b[39m\"\u001b[39m\u001b[39mFunction.compile() incorrect value shape \u001b[39m\u001b[39m{\u001b[39;00m\u001b[39m \u001b[39m\u001b[39mself\u001b[39m\u001b[39m.\u001b[39m_value\u001b[39m.\u001b[39mshape\u001b[39m}\u001b[39;00m\u001b[39m!=\u001b[39m\u001b[39m{\u001b[39;00m\u001b[39mself\u001b[39m\u001b[39m.\u001b[39m_shape\u001b[39m}\u001b[39;00m\u001b[39m! func=\u001b[39m\u001b[39m{\u001b[39;00m\u001b[39mself\u001b[39m\u001b[39m.\u001b[39m\u001b[39m__str__\u001b[39m()\u001b[39m}\u001b[39;00m\u001b[39m \u001b[39m\u001b[39m\"\u001b[39m\n\u001b[1;32m     43\u001b[0m         )\n\u001b[1;32m     44\u001b[0m \u001b[39mself\u001b[39m\u001b[39m.\u001b[39m_ppoly \u001b[39m=\u001b[39m \u001b[39mNone\u001b[39;00m\n",
      "\u001b[0;31mRuntimeError\u001b[0m: Function.compile() incorrect value shape (153,)!=(129,)! func=None ",
      "\nThe above exception was the direct cause of the following exception:\n",
      "\u001b[0;31mRuntimeError\u001b[0m                              Traceback (most recent call last)",
      "File \u001b[0;32m~/workspace/fytok/python/fytok/plugins/transport_solver_numerics/fy_trans.py:626\u001b[0m, in \u001b[0;36mFyTrans.execute.<locals>.func\u001b[0;34m(x, y, *args)\u001b[0m\n\u001b[1;32m    625\u001b[0m \u001b[39mtry\u001b[39;00m:\n\u001b[0;32m--> 626\u001b[0m     res[idx] \u001b[39m=\u001b[39m equ(x, \u001b[39m*\u001b[39;49my, \u001b[39m*\u001b[39;49margs)\n\u001b[1;32m    627\u001b[0m \u001b[39mexcept\u001b[39;00m \u001b[39mException\u001b[39;00m \u001b[39mas\u001b[39;00m error:\n",
      "File \u001b[0;32m~/workspace/fytok/SpDM/python/spdm/data/Expression.py:523\u001b[0m, in \u001b[0;36mExpression.__call__\u001b[0;34m(self, *args, **kwargs)\u001b[0m\n\u001b[1;32m    522\u001b[0m \u001b[39mif\u001b[39;00m \u001b[39mcallable\u001b[39m(child):\n\u001b[0;32m--> 523\u001b[0m     value \u001b[39m=\u001b[39m child(\u001b[39m*\u001b[39;49margs, \u001b[39m*\u001b[39;49m\u001b[39m*\u001b[39;49mkwargs)\n\u001b[1;32m    524\u001b[0m \u001b[39melif\u001b[39;00m \u001b[39mhasattr\u001b[39m(child, \u001b[39m\"\u001b[39m\u001b[39m__value__\u001b[39m\u001b[39m\"\u001b[39m):\n",
      "File \u001b[0;32m~/workspace/fytok/SpDM/python/spdm/data/Expression.py:523\u001b[0m, in \u001b[0;36mExpression.__call__\u001b[0;34m(self, *args, **kwargs)\u001b[0m\n\u001b[1;32m    522\u001b[0m \u001b[39mif\u001b[39;00m \u001b[39mcallable\u001b[39m(child):\n\u001b[0;32m--> 523\u001b[0m     value \u001b[39m=\u001b[39m child(\u001b[39m*\u001b[39;49margs, \u001b[39m*\u001b[39;49m\u001b[39m*\u001b[39;49mkwargs)\n\u001b[1;32m    524\u001b[0m \u001b[39melif\u001b[39;00m \u001b[39mhasattr\u001b[39m(child, \u001b[39m\"\u001b[39m\u001b[39m__value__\u001b[39m\u001b[39m\"\u001b[39m):\n",
      "    \u001b[0;31m[... skipping similar frames: Expression.__call__ at line 523 (1 times)]\u001b[0m\n",
      "File \u001b[0;32m~/workspace/fytok/SpDM/python/spdm/data/Expression.py:523\u001b[0m, in \u001b[0;36mExpression.__call__\u001b[0;34m(self, *args, **kwargs)\u001b[0m\n\u001b[1;32m    522\u001b[0m \u001b[39mif\u001b[39;00m \u001b[39mcallable\u001b[39m(child):\n\u001b[0;32m--> 523\u001b[0m     value \u001b[39m=\u001b[39m child(\u001b[39m*\u001b[39;49margs, \u001b[39m*\u001b[39;49m\u001b[39m*\u001b[39;49mkwargs)\n\u001b[1;32m    524\u001b[0m \u001b[39melif\u001b[39;00m \u001b[39mhasattr\u001b[39m(child, \u001b[39m\"\u001b[39m\u001b[39m__value__\u001b[39m\u001b[39m\"\u001b[39m):\n",
      "File \u001b[0;32m~/workspace/fytok/SpDM/python/spdm/data/Expression.py:538\u001b[0m, in \u001b[0;36mExpression.__call__\u001b[0;34m(self, *args, **kwargs)\u001b[0m\n\u001b[1;32m    537\u001b[0m \u001b[39melse\u001b[39;00m:\n\u001b[0;32m--> 538\u001b[0m     \u001b[39mreturn\u001b[39;00m \u001b[39mself\u001b[39;49m\u001b[39m.\u001b[39;49m_eval(\u001b[39m*\u001b[39;49margs, \u001b[39m*\u001b[39;49m\u001b[39m*\u001b[39;49mkwargs)\n",
      "File \u001b[0;32m~/workspace/fytok/SpDM/python/spdm/data/Expression.py:487\u001b[0m, in \u001b[0;36mExpression._eval\u001b[0;34m(self, *args, **kwargs)\u001b[0m\n\u001b[1;32m    486\u001b[0m     \u001b[39mexcept\u001b[39;00m \u001b[39mException\u001b[39;00m \u001b[39mas\u001b[39;00m error:\n\u001b[0;32m--> 487\u001b[0m         \u001b[39mraise\u001b[39;00m \u001b[39mRuntimeError\u001b[39;00m(\u001b[39mf\u001b[39m\u001b[39m\"\u001b[39m\u001b[39mError when evaluating \u001b[39m\u001b[39m{\u001b[39;00m\u001b[39mself\u001b[39m\u001b[39m.\u001b[39m\u001b[39m__repr__\u001b[39m()\u001b[39m}\u001b[39;00m\u001b[39m !\u001b[39m\u001b[39m\"\u001b[39m) \u001b[39mfrom\u001b[39;00m \u001b[39merror\u001b[39;00m\n\u001b[1;32m    489\u001b[0m \u001b[39melif\u001b[39;00m \u001b[39misinstance\u001b[39m(func, numeric_type):\n",
      "\u001b[0;31mRuntimeError\u001b[0m: Error when evaluating energy !",
      "\nThe above exception was the direct cause of the following exception:\n",
      "\u001b[0;31mRuntimeError\u001b[0m                              Traceback (most recent call last)",
      "\u001b[1;32m/home/salmon/workspace/fytok/examples/demo_transolver.ipynb Cell 3\u001b[0m line \u001b[0;36m1\n\u001b[0;32m----> <a href='vscode-notebook-cell://wsl%2Bubuntu-22.04/home/salmon/workspace/fytok/examples/demo_transolver.ipynb#W2sdnNjb2RlLXJlbW90ZQ%3D%3D?line=0'>1</a>\u001b[0m tokamak\u001b[39m.\u001b[39;49mupdate_core_profiles(\n\u001b[1;32m      <a href='vscode-notebook-cell://wsl%2Bubuntu-22.04/home/salmon/workspace/fytok/examples/demo_transolver.ipynb#W2sdnNjb2RlLXJlbW90ZQ%3D%3D?line=1'>2</a>\u001b[0m     {\n\u001b[1;32m      <a href='vscode-notebook-cell://wsl%2Bubuntu-22.04/home/salmon/workspace/fytok/examples/demo_transolver.ipynb#W2sdnNjb2RlLXJlbW90ZQ%3D%3D?line=2'>3</a>\u001b[0m         \u001b[39m\"\u001b[39;49m\u001b[39mequation\u001b[39;49m\u001b[39m\"\u001b[39;49m: [\n\u001b[1;32m      <a href='vscode-notebook-cell://wsl%2Bubuntu-22.04/home/salmon/workspace/fytok/examples/demo_transolver.ipynb#W2sdnNjb2RlLXJlbW90ZQ%3D%3D?line=3'>4</a>\u001b[0m             \u001b[39m# fmt:off\u001b[39;49;00m\n\u001b[1;32m      <a href='vscode-notebook-cell://wsl%2Bubuntu-22.04/home/salmon/workspace/fytok/examples/demo_transolver.ipynb#W2sdnNjb2RlLXJlbW90ZQ%3D%3D?line=4'>5</a>\u001b[0m         {\u001b[39m\"\u001b[39;49m\u001b[39mprimary_quantity\u001b[39;49m\u001b[39m\"\u001b[39;49m:{\u001b[39m\"\u001b[39;49m\u001b[39midentifier\u001b[39;49m\u001b[39m\"\u001b[39;49m: \u001b[39m\"\u001b[39;49m\u001b[39mion/D/density_thermal\u001b[39;49m\u001b[39m\"\u001b[39;49m,\u001b[39m\"\u001b[39;49m\u001b[39mprofile\u001b[39;49m\u001b[39m\"\u001b[39;49m:\u001b[39m1.0\u001b[39;49m},\u001b[39m\"\u001b[39;49m\u001b[39mboundary_condition\u001b[39;49m\u001b[39m\"\u001b[39;49m:[{\u001b[39m\"\u001b[39;49m\u001b[39midentifier\u001b[39;49m\u001b[39m\"\u001b[39;49m:{\u001b[39m\"\u001b[39;49m\u001b[39mindex\u001b[39;49m\u001b[39m\"\u001b[39;49m:\u001b[39m2\u001b[39;49m},\u001b[39m\"\u001b[39;49m\u001b[39mrho_tor_norm\u001b[39;49m\u001b[39m\"\u001b[39;49m:\u001b[39m0.01\u001b[39;49m,\u001b[39m\"\u001b[39;49m\u001b[39mvalue\u001b[39;49m\u001b[39m\"\u001b[39;49m:[\u001b[39m0.0\u001b[39;49m]},{\u001b[39m\"\u001b[39;49m\u001b[39midentifier\u001b[39;49m\u001b[39m\"\u001b[39;49m:{\u001b[39m\"\u001b[39;49m\u001b[39mindex\u001b[39;49m\u001b[39m\"\u001b[39;49m:\u001b[39m1\u001b[39;49m},\u001b[39m\"\u001b[39;49m\u001b[39mrho_thor_norm\u001b[39;49m\u001b[39m\"\u001b[39;49m:\u001b[39m0.995\u001b[39;49m,\u001b[39m\"\u001b[39;49m\u001b[39mvalue\u001b[39;49m\u001b[39m\"\u001b[39;49m:[\u001b[39m2.0e19\u001b[39;49m]}]},\n\u001b[1;32m      <a href='vscode-notebook-cell://wsl%2Bubuntu-22.04/home/salmon/workspace/fytok/examples/demo_transolver.ipynb#W2sdnNjb2RlLXJlbW90ZQ%3D%3D?line=5'>6</a>\u001b[0m         {\u001b[39m\"\u001b[39;49m\u001b[39mprimary_quantity\u001b[39;49m\u001b[39m\"\u001b[39;49m:{\u001b[39m\"\u001b[39;49m\u001b[39midentifier\u001b[39;49m\u001b[39m\"\u001b[39;49m: \u001b[39m\"\u001b[39;49m\u001b[39mion/T/density_thermal\u001b[39;49m\u001b[39m\"\u001b[39;49m,\u001b[39m\"\u001b[39;49m\u001b[39mprofile\u001b[39;49m\u001b[39m\"\u001b[39;49m:\u001b[39m1.0\u001b[39;49m},\u001b[39m\"\u001b[39;49m\u001b[39mboundary_condition\u001b[39;49m\u001b[39m\"\u001b[39;49m:[{\u001b[39m\"\u001b[39;49m\u001b[39midentifier\u001b[39;49m\u001b[39m\"\u001b[39;49m:{\u001b[39m\"\u001b[39;49m\u001b[39mindex\u001b[39;49m\u001b[39m\"\u001b[39;49m:\u001b[39m2\u001b[39;49m},\u001b[39m\"\u001b[39;49m\u001b[39mrho_tor_norm\u001b[39;49m\u001b[39m\"\u001b[39;49m:\u001b[39m0.01\u001b[39;49m,\u001b[39m\"\u001b[39;49m\u001b[39mvalue\u001b[39;49m\u001b[39m\"\u001b[39;49m:[\u001b[39m0.0\u001b[39;49m]},{\u001b[39m\"\u001b[39;49m\u001b[39midentifier\u001b[39;49m\u001b[39m\"\u001b[39;49m:{\u001b[39m\"\u001b[39;49m\u001b[39mindex\u001b[39;49m\u001b[39m\"\u001b[39;49m:\u001b[39m1\u001b[39;49m},\u001b[39m\"\u001b[39;49m\u001b[39mrho_thor_norm\u001b[39;49m\u001b[39m\"\u001b[39;49m:\u001b[39m0.995\u001b[39;49m,\u001b[39m\"\u001b[39;49m\u001b[39mvalue\u001b[39;49m\u001b[39m\"\u001b[39;49m:[\u001b[39m2.0e19\u001b[39;49m]}]},\n\u001b[1;32m      <a href='vscode-notebook-cell://wsl%2Bubuntu-22.04/home/salmon/workspace/fytok/examples/demo_transolver.ipynb#W2sdnNjb2RlLXJlbW90ZQ%3D%3D?line=6'>7</a>\u001b[0m         {\u001b[39m\"\u001b[39;49m\u001b[39mprimary_quantity\u001b[39;49m\u001b[39m\"\u001b[39;49m:{\u001b[39m\"\u001b[39;49m\u001b[39midentifier\u001b[39;49m\u001b[39m\"\u001b[39;49m: \u001b[39m\"\u001b[39;49m\u001b[39mion/D/temperature\u001b[39;49m\u001b[39m\"\u001b[39;49m,    \u001b[39m\"\u001b[39;49m\u001b[39mprofile\u001b[39;49m\u001b[39m\"\u001b[39;49m:\u001b[39m1.0\u001b[39;49m},\u001b[39m\"\u001b[39;49m\u001b[39mboundary_condition\u001b[39;49m\u001b[39m\"\u001b[39;49m:[{\u001b[39m\"\u001b[39;49m\u001b[39midentifier\u001b[39;49m\u001b[39m\"\u001b[39;49m:{\u001b[39m\"\u001b[39;49m\u001b[39mindex\u001b[39;49m\u001b[39m\"\u001b[39;49m:\u001b[39m2\u001b[39;49m},\u001b[39m\"\u001b[39;49m\u001b[39mrho_tor_norm\u001b[39;49m\u001b[39m\"\u001b[39;49m:\u001b[39m0.01\u001b[39;49m,\u001b[39m\"\u001b[39;49m\u001b[39mvalue\u001b[39;49m\u001b[39m\"\u001b[39;49m:[\u001b[39m0.0\u001b[39;49m]},{\u001b[39m\"\u001b[39;49m\u001b[39midentifier\u001b[39;49m\u001b[39m\"\u001b[39;49m:{\u001b[39m\"\u001b[39;49m\u001b[39mindex\u001b[39;49m\u001b[39m\"\u001b[39;49m:\u001b[39m1\u001b[39;49m},\u001b[39m\"\u001b[39;49m\u001b[39mrho_thor_norm\u001b[39;49m\u001b[39m\"\u001b[39;49m:\u001b[39m0.995\u001b[39;49m,\u001b[39m\"\u001b[39;49m\u001b[39mvalue\u001b[39;49m\u001b[39m\"\u001b[39;49m:[\u001b[39m1000\u001b[39;49m]  }]},\n\u001b[1;32m      <a href='vscode-notebook-cell://wsl%2Bubuntu-22.04/home/salmon/workspace/fytok/examples/demo_transolver.ipynb#W2sdnNjb2RlLXJlbW90ZQ%3D%3D?line=7'>8</a>\u001b[0m         {\u001b[39m\"\u001b[39;49m\u001b[39mprimary_quantity\u001b[39;49m\u001b[39m\"\u001b[39;49m:{\u001b[39m\"\u001b[39;49m\u001b[39midentifier\u001b[39;49m\u001b[39m\"\u001b[39;49m: \u001b[39m\"\u001b[39;49m\u001b[39mion/T/temperature\u001b[39;49m\u001b[39m\"\u001b[39;49m,    \u001b[39m\"\u001b[39;49m\u001b[39mprofile\u001b[39;49m\u001b[39m\"\u001b[39;49m:\u001b[39m1.0\u001b[39;49m},\u001b[39m\"\u001b[39;49m\u001b[39mboundary_condition\u001b[39;49m\u001b[39m\"\u001b[39;49m:[{\u001b[39m\"\u001b[39;49m\u001b[39midentifier\u001b[39;49m\u001b[39m\"\u001b[39;49m:{\u001b[39m\"\u001b[39;49m\u001b[39mindex\u001b[39;49m\u001b[39m\"\u001b[39;49m:\u001b[39m2\u001b[39;49m},\u001b[39m\"\u001b[39;49m\u001b[39mrho_tor_norm\u001b[39;49m\u001b[39m\"\u001b[39;49m:\u001b[39m0.01\u001b[39;49m,\u001b[39m\"\u001b[39;49m\u001b[39mvalue\u001b[39;49m\u001b[39m\"\u001b[39;49m:[\u001b[39m0.0\u001b[39;49m]},{\u001b[39m\"\u001b[39;49m\u001b[39midentifier\u001b[39;49m\u001b[39m\"\u001b[39;49m:{\u001b[39m\"\u001b[39;49m\u001b[39mindex\u001b[39;49m\u001b[39m\"\u001b[39;49m:\u001b[39m1\u001b[39;49m},\u001b[39m\"\u001b[39;49m\u001b[39mrho_thor_norm\u001b[39;49m\u001b[39m\"\u001b[39;49m:\u001b[39m0.995\u001b[39;49m,\u001b[39m\"\u001b[39;49m\u001b[39mvalue\u001b[39;49m\u001b[39m\"\u001b[39;49m:[\u001b[39m1000\u001b[39;49m]  }]},\n\u001b[1;32m      <a href='vscode-notebook-cell://wsl%2Bubuntu-22.04/home/salmon/workspace/fytok/examples/demo_transolver.ipynb#W2sdnNjb2RlLXJlbW90ZQ%3D%3D?line=8'>9</a>\u001b[0m         {\u001b[39m\"\u001b[39;49m\u001b[39mprimary_quantity\u001b[39;49m\u001b[39m\"\u001b[39;49m:{\u001b[39m\"\u001b[39;49m\u001b[39midentifier\u001b[39;49m\u001b[39m\"\u001b[39;49m: \u001b[39m\"\u001b[39;49m\u001b[39melectrons/temperature\u001b[39;49m\u001b[39m\"\u001b[39;49m,\u001b[39m\"\u001b[39;49m\u001b[39mprofile\u001b[39;49m\u001b[39m\"\u001b[39;49m:\u001b[39m1.0\u001b[39;49m},\u001b[39m\"\u001b[39;49m\u001b[39mboundary_condition\u001b[39;49m\u001b[39m\"\u001b[39;49m:[{\u001b[39m\"\u001b[39;49m\u001b[39midentifier\u001b[39;49m\u001b[39m\"\u001b[39;49m:{\u001b[39m\"\u001b[39;49m\u001b[39mindex\u001b[39;49m\u001b[39m\"\u001b[39;49m:\u001b[39m2\u001b[39;49m},\u001b[39m\"\u001b[39;49m\u001b[39mrho_tor_norm\u001b[39;49m\u001b[39m\"\u001b[39;49m:\u001b[39m0.01\u001b[39;49m,\u001b[39m\"\u001b[39;49m\u001b[39mvalue\u001b[39;49m\u001b[39m\"\u001b[39;49m:[\u001b[39m0.0\u001b[39;49m]},{\u001b[39m\"\u001b[39;49m\u001b[39midentifier\u001b[39;49m\u001b[39m\"\u001b[39;49m:{\u001b[39m\"\u001b[39;49m\u001b[39mindex\u001b[39;49m\u001b[39m\"\u001b[39;49m:\u001b[39m1\u001b[39;49m},\u001b[39m\"\u001b[39;49m\u001b[39mrho_thor_norm\u001b[39;49m\u001b[39m\"\u001b[39;49m:\u001b[39m0.995\u001b[39;49m,\u001b[39m\"\u001b[39;49m\u001b[39mvalue\u001b[39;49m\u001b[39m\"\u001b[39;49m:[\u001b[39m1000\u001b[39;49m]  }]},\n\u001b[1;32m     <a href='vscode-notebook-cell://wsl%2Bubuntu-22.04/home/salmon/workspace/fytok/examples/demo_transolver.ipynb#W2sdnNjb2RlLXJlbW90ZQ%3D%3D?line=9'>10</a>\u001b[0m             \u001b[39m# fmt:on\u001b[39;49;00m\n\u001b[1;32m     <a href='vscode-notebook-cell://wsl%2Bubuntu-22.04/home/salmon/workspace/fytok/examples/demo_transolver.ipynb#W2sdnNjb2RlLXJlbW90ZQ%3D%3D?line=10'>11</a>\u001b[0m         ]\n\u001b[1;32m     <a href='vscode-notebook-cell://wsl%2Bubuntu-22.04/home/salmon/workspace/fytok/examples/demo_transolver.ipynb#W2sdnNjb2RlLXJlbW90ZQ%3D%3D?line=11'>12</a>\u001b[0m     },\n\u001b[1;32m     <a href='vscode-notebook-cell://wsl%2Bubuntu-22.04/home/salmon/workspace/fytok/examples/demo_transolver.ipynb#W2sdnNjb2RlLXJlbW90ZQ%3D%3D?line=12'>13</a>\u001b[0m )\n",
      "File \u001b[0;32m~/workspace/fytok/python/fytok/Tokamak.py:156\u001b[0m, in \u001b[0;36mTokamak.update_core_profiles\u001b[0;34m(self, *args, **kwargs)\u001b[0m\n\u001b[1;32m    153\u001b[0m \u001b[39mdef\u001b[39;00m \u001b[39mupdate_core_profiles\u001b[39m(\u001b[39mself\u001b[39m, \u001b[39m*\u001b[39margs, \u001b[39m*\u001b[39m\u001b[39m*\u001b[39mkwargs) \u001b[39m-\u001b[39m\u001b[39m>\u001b[39m \u001b[39mNone\u001b[39;00m:\n\u001b[1;32m    154\u001b[0m     \u001b[39mself\u001b[39m\u001b[39m.\u001b[39mrefresh()\n\u001b[0;32m--> 156\u001b[0m     \u001b[39mself\u001b[39;49m\u001b[39m.\u001b[39;49mtransport_solver\u001b[39m.\u001b[39;49mrefresh(\u001b[39m*\u001b[39;49margs, time\u001b[39m=\u001b[39;49m\u001b[39mself\u001b[39;49m\u001b[39m.\u001b[39;49mtime, \u001b[39m*\u001b[39;49m\u001b[39m*\u001b[39;49mkwargs)\n\u001b[1;32m    158\u001b[0m     trans_solver_1d: TransportSolverNumerics\u001b[39m.\u001b[39mTimeSlice \u001b[39m=\u001b[39m \u001b[39mself\u001b[39m\u001b[39m.\u001b[39mtransport_solver\u001b[39m.\u001b[39mfetch()\n\u001b[1;32m    160\u001b[0m     \u001b[39m# self.core_profiles.refresh({\"time\": self.time, \"profiles_1d\": {\"grid\": trans_solver_1d.grid}})\u001b[39;00m\n",
      "File \u001b[0;32m~/workspace/fytok/python/fytok/modules/TransportSolverNumerics.py:287\u001b[0m, in \u001b[0;36mTransportSolverNumerics.refresh\u001b[0;34m(self, equilibrium, core_transport, core_sources, *args, **kwargs)\u001b[0m\n\u001b[1;32m    279\u001b[0m \u001b[39mdef\u001b[39;00m \u001b[39mrefresh\u001b[39m(\n\u001b[1;32m    280\u001b[0m     \u001b[39mself\u001b[39m,\n\u001b[1;32m    281\u001b[0m     \u001b[39m*\u001b[39margs,\n\u001b[0;32m   (...)\u001b[0m\n\u001b[1;32m    285\u001b[0m     \u001b[39m*\u001b[39m\u001b[39m*\u001b[39mkwargs,\n\u001b[1;32m    286\u001b[0m ):\n\u001b[0;32m--> 287\u001b[0m     \u001b[39msuper\u001b[39;49m()\u001b[39m.\u001b[39;49mrefresh(\n\u001b[1;32m    288\u001b[0m         \u001b[39m*\u001b[39;49margs,\n\u001b[1;32m    289\u001b[0m         equilibrium\u001b[39m=\u001b[39;49mequilibrium,\n\u001b[1;32m    290\u001b[0m         core_transport\u001b[39m=\u001b[39;49mcore_transport,\n\u001b[1;32m    291\u001b[0m         core_sources\u001b[39m=\u001b[39;49mcore_sources,\n\u001b[1;32m    292\u001b[0m         \u001b[39m*\u001b[39;49m\u001b[39m*\u001b[39;49mkwargs,\n\u001b[1;32m    293\u001b[0m     )\n",
      "File \u001b[0;32m~/workspace/fytok/SpDM/python/spdm/data/Actor.py:169\u001b[0m, in \u001b[0;36mActor.refresh\u001b[0;34m(self, time, *args, **kwargs)\u001b[0m\n\u001b[1;32m    165\u001b[0m current \u001b[39m=\u001b[39m \u001b[39mself\u001b[39m\u001b[39m.\u001b[39mtime_slice\u001b[39m.\u001b[39mcurrent\n\u001b[1;32m    167\u001b[0m previous \u001b[39m=\u001b[39m \u001b[39mself\u001b[39m\u001b[39m.\u001b[39mtime_slice\u001b[39m.\u001b[39mprevious\n\u001b[0;32m--> 169\u001b[0m \u001b[39mself\u001b[39;49m\u001b[39m.\u001b[39;49mexecute(current, previous, \u001b[39m*\u001b[39;49m\u001b[39m*\u001b[39;49mkwargs, \u001b[39m*\u001b[39;49m\u001b[39m*\u001b[39;49m\u001b[39mself\u001b[39;49m\u001b[39m.\u001b[39;49m_inputs)\n",
      "File \u001b[0;32m~/workspace/fytok/python/fytok/plugins/transport_solver_numerics/fy_trans.py:637\u001b[0m, in \u001b[0;36mFyTrans.execute\u001b[0;34m(self, current, previous, *other_slices, **inputs)\u001b[0m\n\u001b[1;32m    634\u001b[0m \u001b[39mdef\u001b[39;00m \u001b[39mbc\u001b[39m(ya: array_type, yb: array_type, \u001b[39m*\u001b[39margs) \u001b[39m-\u001b[39m\u001b[39m>\u001b[39m array_type:\n\u001b[1;32m    635\u001b[0m     \u001b[39mreturn\u001b[39;00m np\u001b[39m.\u001b[39marray([bc(rho_tor_norm_axis, \u001b[39m*\u001b[39mya, \u001b[39m*\u001b[39margs) \u001b[39mif\u001b[39;00m idx \u001b[39m%\u001b[39m \u001b[39m2\u001b[39m \u001b[39m==\u001b[39m \u001b[39m0\u001b[39m \u001b[39melse\u001b[39;00m bc(rho_tor_norm_bdry, \u001b[39m*\u001b[39myb, \u001b[39m*\u001b[39margs) \u001b[39mfor\u001b[39;00m bc \u001b[39min\u001b[39;00m \u001b[39menumerate\u001b[39m(bc_list)])\n\u001b[0;32m--> 637\u001b[0m sol \u001b[39m=\u001b[39m solve_bvp(\n\u001b[1;32m    638\u001b[0m     func,\n\u001b[1;32m    639\u001b[0m     bc,\n\u001b[1;32m    640\u001b[0m     x,\n\u001b[1;32m    641\u001b[0m     Y0,\n\u001b[1;32m    642\u001b[0m     bvp_rms_mask\u001b[39m=\u001b[39;49m\u001b[39mself\u001b[39;49m\u001b[39m.\u001b[39;49mcode\u001b[39m.\u001b[39;49mparameters\u001b[39m.\u001b[39;49mget(\u001b[39m\"\u001b[39;49m\u001b[39mbvp_rms_mask\u001b[39;49m\u001b[39m\"\u001b[39;49m, []),\n\u001b[1;32m    643\u001b[0m     tolerance\u001b[39m=\u001b[39;49m\u001b[39mself\u001b[39;49m\u001b[39m.\u001b[39;49mcode\u001b[39m.\u001b[39;49mparameters\u001b[39m.\u001b[39;49mget(\u001b[39m\"\u001b[39;49m\u001b[39mtolerance\u001b[39;49m\u001b[39m\"\u001b[39;49m, \u001b[39m1.0e-3\u001b[39;49m),\n\u001b[1;32m    644\u001b[0m     max_nodes\u001b[39m=\u001b[39;49m\u001b[39mself\u001b[39;49m\u001b[39m.\u001b[39;49mcode\u001b[39m.\u001b[39;49mparameters\u001b[39m.\u001b[39;49mget(\u001b[39m\"\u001b[39;49m\u001b[39mmax_nodes\u001b[39;49m\u001b[39m\"\u001b[39;49m, \u001b[39m250\u001b[39;49m),\n\u001b[1;32m    645\u001b[0m     verbose\u001b[39m=\u001b[39;49m\u001b[39mself\u001b[39;49m\u001b[39m.\u001b[39;49mcode\u001b[39m.\u001b[39;49mparameters\u001b[39m.\u001b[39;49mget(\u001b[39m\"\u001b[39;49m\u001b[39mverbose\u001b[39;49m\u001b[39m\"\u001b[39;49m, \u001b[39m2\u001b[39;49m),\n\u001b[1;32m    646\u001b[0m )\n\u001b[1;32m    648\u001b[0m x \u001b[39m=\u001b[39m sol\u001b[39m.\u001b[39mx\n\u001b[1;32m    650\u001b[0m \u001b[39mvars\u001b[39m\u001b[39m.\u001b[39mpop(\u001b[39m\"\u001b[39m\u001b[39mx\u001b[39m\u001b[39m\"\u001b[39m)\n",
      "File \u001b[0;32m~/workspace/fytok/SpDM/python/spdm/numlib/bvp.py:1097\u001b[0m, in \u001b[0;36msolve_bvp\u001b[0;34m(fun, bc, x, y, p, S, fun_jac, bc_jac, tol, max_nodes, verbose, bc_tol, bvp_rms_mask, *args, **kwargs)\u001b[0m\n\u001b[1;32m   1092\u001b[0m max_iteration \u001b[39m=\u001b[39m \u001b[39m10\u001b[39m\n\u001b[1;32m   1094\u001b[0m fun_wrapped, bc_wrapped, fun_jac_wrapped, bc_jac_wrapped \u001b[39m=\u001b[39m wrap_functions(\n\u001b[1;32m   1095\u001b[0m     fun, bc, fun_jac, bc_jac, k, a, S, D, dtype)\n\u001b[0;32m-> 1097\u001b[0m f \u001b[39m=\u001b[39m fun_wrapped(x, y, p)\n\u001b[1;32m   1098\u001b[0m \u001b[39mif\u001b[39;00m f\u001b[39m.\u001b[39mshape \u001b[39m!=\u001b[39m y\u001b[39m.\u001b[39mshape:\n\u001b[1;32m   1099\u001b[0m     \u001b[39mraise\u001b[39;00m \u001b[39mValueError\u001b[39;00m(\u001b[39m\"\u001b[39m\u001b[39m`fun` return is expected to have shape \u001b[39m\u001b[39m{}\u001b[39;00m\u001b[39m, \u001b[39m\u001b[39m\"\u001b[39m\n\u001b[1;32m   1100\u001b[0m                      \u001b[39m\"\u001b[39m\u001b[39mbut actually has \u001b[39m\u001b[39m{}\u001b[39;00m\u001b[39m.\u001b[39m\u001b[39m\"\u001b[39m\u001b[39m.\u001b[39mformat(y\u001b[39m.\u001b[39mshape, f\u001b[39m.\u001b[39mshape))\n",
      "File \u001b[0;32m~/workspace/fytok/SpDM/python/spdm/numlib/bvp.py:677\u001b[0m, in \u001b[0;36mwrap_functions.<locals>.fun_p\u001b[0;34m(x, y, _)\u001b[0m\n\u001b[1;32m    676\u001b[0m \u001b[39mdef\u001b[39;00m \u001b[39mfun_p\u001b[39m(x, y, _):\n\u001b[0;32m--> 677\u001b[0m     \u001b[39mreturn\u001b[39;00m np\u001b[39m.\u001b[39masarray(fun(x, y), dtype)\n",
      "File \u001b[0;32m~/workspace/fytok/python/fytok/plugins/transport_solver_numerics/fy_trans.py:628\u001b[0m, in \u001b[0;36mFyTrans.execute.<locals>.func\u001b[0;34m(x, y, *args)\u001b[0m\n\u001b[1;32m    626\u001b[0m         res[idx] \u001b[39m=\u001b[39m equ(x, \u001b[39m*\u001b[39my, \u001b[39m*\u001b[39margs)\n\u001b[1;32m    627\u001b[0m     \u001b[39mexcept\u001b[39;00m \u001b[39mException\u001b[39;00m \u001b[39mas\u001b[39;00m error:\n\u001b[0;32m--> 628\u001b[0m         \u001b[39mraise\u001b[39;00m \u001b[39mRuntimeError\u001b[39;00m(\n\u001b[1;32m    629\u001b[0m             \u001b[39mf\u001b[39m\u001b[39m\"\u001b[39m\u001b[39mFailure to calculate equation  \u001b[39m\u001b[39m{\u001b[39;00msolver_1d\u001b[39m.\u001b[39mequation[\u001b[39mint\u001b[39m(idx\u001b[39m/\u001b[39m\u001b[39m2\u001b[39m)]\u001b[39m.\u001b[39mprimary_quantity\u001b[39m.\u001b[39midentifier\u001b[39m}\u001b[39;00m\u001b[39m{\u001b[39;00m\u001b[39m'\u001b[39m\u001b[39m_flux\u001b[39m\u001b[39m'\u001b[39m\u001b[39m \u001b[39m\u001b[39mif\u001b[39;00m\u001b[39m \u001b[39m\u001b[39mint\u001b[39m(idx\u001b[39m/\u001b[39m\u001b[39m2\u001b[39m)\u001b[39m*\u001b[39m\u001b[39m2\u001b[39m\u001b[39m!=\u001b[39midx\u001b[39m \u001b[39m\u001b[39melse\u001b[39;00m\u001b[39m \u001b[39m\u001b[39m'\u001b[39m\u001b[39m'\u001b[39m\u001b[39m}\u001b[39;00m\u001b[39m \u001b[39m\u001b[39m{\u001b[39;00mequ\u001b[39m.\u001b[39m_repr_latex_()\u001b[39m}\u001b[39;00m\u001b[39m x=\u001b[39m\u001b[39m{\u001b[39;00mx\u001b[39m}\u001b[39;00m\u001b[39m args=\u001b[39m\u001b[39m{\u001b[39;00m(y)\u001b[39m}\u001b[39;00m\u001b[39m  !\u001b[39m\u001b[39m\"\u001b[39m\n\u001b[1;32m    630\u001b[0m         ) \u001b[39mfrom\u001b[39;00m \u001b[39merror\u001b[39;00m\n\u001b[1;32m    632\u001b[0m \u001b[39mreturn\u001b[39;00m res\n",
      "\u001b[0;31mRuntimeError\u001b[0m: Failure to calculate equation  ion/D/temperature_flux $$\\frac{\\left(\\left(\\left(Expression\\left(psi\\left(NoneType\\right)\\right) ^ 1.6666666666666667\\right) \\cdot \\left(energy\\left(NoneType\\right) + \\left(NoneType \\cdot NoneType\\right)\\right)\\right) + \\left(0.0001 \\cdot NoneType\\right)\\right)}{\\left(\\frac{1.0}{\\left(2.7170177040213015 \\cdot \\left(Expression\\left(psi\\left(NoneType\\right)\\right) ^ -0.6666666666666666\\right)\\right)} + 0.0001\\right)}$$ x=[0.01       0.01775591 0.02551181 0.03326772 0.04102362 0.04877953\n 0.05653543 0.06429134 0.07204724 0.07980315 0.08755906 0.09531496\n 0.10307087 0.11082677 0.11858268 0.12633858 0.13409449 0.14185039\n 0.1496063  0.1573622  0.16511811 0.17287402 0.18062992 0.18838583\n 0.19614173 0.20389764 0.21165354 0.21940945 0.22716535 0.23492126\n 0.24267717 0.25043307 0.25818898 0.26594488 0.27370079 0.28145669\n 0.2892126  0.2969685  0.30472441 0.31248031 0.32023622 0.32799213\n 0.33574803 0.34350394 0.35125984 0.35901575 0.36677165 0.37452756\n 0.38228346 0.39003937 0.39779528 0.40555118 0.41330709 0.42106299\n 0.4288189  0.4365748  0.44433071 0.45208661 0.45984252 0.46759843\n 0.47535433 0.48311024 0.49086614 0.49862205 0.50637795 0.51413386\n 0.52188976 0.52964567 0.53740157 0.54515748 0.55291339 0.56066929\n 0.5684252  0.5761811  0.58393701 0.59169291 0.59944882 0.60720472\n 0.61496063 0.62271654 0.63047244 0.63822835 0.64598425 0.65374016\n 0.66149606 0.66925197 0.67700787 0.68476378 0.69251969 0.70027559\n 0.7080315  0.7157874  0.72354331 0.73129921 0.73905512 0.74681102\n 0.75456693 0.76232283 0.77007874 0.77783465 0.78559055 0.79334646\n 0.80110236 0.80885827 0.81661417 0.82437008 0.83212598 0.83988189\n 0.8476378  0.8553937  0.86314961 0.87090551 0.87866142 0.88641732\n 0.89417323 0.90192913 0.90968504 0.91744094 0.92519685 0.93295276\n 0.94070866 0.94846457 0.95622047 0.96397638 0.97173228 0.97948819\n 0.98724409 0.995     ] args=[[1.00000000e+00 1.00000000e+00 1.00000000e+00 ... 1.00000000e+00\n  1.00000000e+00 1.00000000e+00]\n [4.81815301e-04 1.69534692e-03 3.59428867e-03 ... 5.13342881e+00\n  5.36660895e+00 5.72585199e+00]\n [1.00000000e+00 1.00000000e+00 1.00000000e+00 ... 1.00000000e+00\n  1.00000000e+00 1.00000000e+00]\n ...\n [3.93482496e-03 1.38453332e-02 2.93533575e-02 ... 3.33672873e+01\n  3.48829582e+01 3.72180379e+01]\n [1.00000000e+00 1.00000000e+00 1.00000000e+00 ... 1.00000000e+00\n  1.00000000e+00 1.00000000e+00]\n [1.89514018e-02 6.66836456e-02 1.41375354e-01 ... 2.87472013e+02\n  3.00530101e+02 3.20647711e+02]]  !"
     ]
    }
   ],
   "source": [
    "tokamak.update_core_profiles(\n",
    "    {\n",
    "        \"equation\": [\n",
    "            # fmt:off\n",
    "        {\"primary_quantity\":{\"identifier\": \"ion/D/density_thermal\",\"profile\":1.0},\"boundary_condition\":[{\"identifier\":{\"index\":2},\"rho_tor_norm\":0.01,\"value\":[0.0]},{\"identifier\":{\"index\":1},\"rho_thor_norm\":0.995,\"value\":[2.0e19]}]},\n",
    "        {\"primary_quantity\":{\"identifier\": \"ion/T/density_thermal\",\"profile\":1.0},\"boundary_condition\":[{\"identifier\":{\"index\":2},\"rho_tor_norm\":0.01,\"value\":[0.0]},{\"identifier\":{\"index\":1},\"rho_thor_norm\":0.995,\"value\":[2.0e19]}]},\n",
    "        {\"primary_quantity\":{\"identifier\": \"ion/D/temperature\",    \"profile\":1.0},\"boundary_condition\":[{\"identifier\":{\"index\":2},\"rho_tor_norm\":0.01,\"value\":[0.0]},{\"identifier\":{\"index\":1},\"rho_thor_norm\":0.995,\"value\":[1000]  }]},\n",
    "        {\"primary_quantity\":{\"identifier\": \"ion/T/temperature\",    \"profile\":1.0},\"boundary_condition\":[{\"identifier\":{\"index\":2},\"rho_tor_norm\":0.01,\"value\":[0.0]},{\"identifier\":{\"index\":1},\"rho_thor_norm\":0.995,\"value\":[1000]  }]},\n",
    "        {\"primary_quantity\":{\"identifier\": \"electrons/temperature\",\"profile\":1.0},\"boundary_condition\":[{\"identifier\":{\"index\":2},\"rho_tor_norm\":0.01,\"value\":[0.0]},{\"identifier\":{\"index\":1},\"rho_thor_norm\":0.995,\"value\":[1000]  }]},\n",
    "            # fmt:on\n",
    "        ]\n",
    "    },\n",
    ")"
   ]
  },
  {
   "cell_type": "code",
   "execution_count": null,
   "metadata": {},
   "outputs": [],
   "source": [
    "tokamak.transport_solver.time_slice.time"
   ]
  },
  {
   "cell_type": "code",
   "execution_count": null,
   "metadata": {},
   "outputs": [],
   "source": [
    "solver_1d = tokamak.transport_solver.time_slice.current\n",
    "fig = sp_view.plot(\n",
    "    sum(\n",
    "        [\n",
    "            [\n",
    "                (equ.primary_quantity.profile, equ.primary_quantity.identifier),\n",
    "                # (equ.primary_quantity.flux, f\"{equ.primary_quantity.identifier}_flux\"),\n",
    "                # (equ.primary_quantity.d_dr,f\"d({equ.primary_quantity.identifier})/dr\"),\n",
    "                # (equ.primary_quantity.dflux_dr, f\"d({equ.primary_quantity.identifier}_flux)/dr\"),\n",
    "            ]\n",
    "            for equ in solver_1d.equation\n",
    "        ],\n",
    "        [],\n",
    "    ),\n",
    "    x_axis=solver_1d.grid.rho_tor_norm,\n",
    ")"
   ]
  },
  {
   "cell_type": "code",
   "execution_count": null,
   "metadata": {},
   "outputs": [],
   "source": [
    "core_profiles_1d = tokamak.core_profiles.time_slice.current.profiles_1d"
   ]
  },
  {
   "cell_type": "code",
   "execution_count": null,
   "metadata": {},
   "outputs": [],
   "source": [
    "fig = sp_view.plot([\n",
    "    [\n",
    "        (core_profiles_1d.get(equ.primary_quantity.identifier), rf\"{equ.primary_quantity.identifier} astra\"),\n",
    "        (equ.primary_quantity.profile, rf\"{equ.primary_quantity.identifier}\")\n",
    "    ] for equ in solver_1d.equation\n",
    "],\n",
    "    x_axis=solver_1d.grid.rho_tor_norm\n",
    ")"
   ]
  },
  {
   "cell_type": "code",
   "execution_count": null,
   "metadata": {},
   "outputs": [],
   "source": [
    "core_sources_1d = tokamak.core_sources.source[0].time_slice.current.profiles_1d\n",
    "core_transport_1d = tokamak.core_transport.model[0].time_slice.current.profiles_1d\n",
    "\n",
    "fig = sp_view.plot(\n",
    "    [\n",
    "        # (core_sources_1d.electrons.energy, r\"$Q_e$\"),\n",
    "        (core_transport_1d.electrons.energy.d, r\"$\\chi_e$\"),\n",
    "        (core_transport_1d.electrons.energy.v, r\"$V^{pinch}_{Te}$\"),\n",
    "        # (core_sources_1d.electrons.energy_decomposed.explicit_part, r\"$Q_{e}$ explicit\"),\n",
    "        # (core_sources_1d.electrons.energy_decomposed.implicit_part, r\"$Q_{e}$ implicit\"),\n",
    "        (core_transport_1d.electrons.particles.d, r\"$D_e$\"),\n",
    "        (core_transport_1d.electrons.particles.v, r\"$V_e$\"),\n",
    "\n",
    "        # (core_sources_1d.ion[0].energy, r\"$Q_D$\"),\n",
    "        # (core_sources_1d.ion[1].energy, r\"$Q_T$\"),\n",
    "    ],\n",
    "    x_axis=solver_1d.grid.rho_tor_norm,\n",
    "    x_label=r\"$\\bar{\\rho}_{tor}$\",\n",
    ")"
   ]
  },
  {
   "cell_type": "code",
   "execution_count": null,
   "metadata": {},
   "outputs": [],
   "source": [
    "equ = solver_1d.equation[1]\n",
    "a, b, c, d, e, f, g,*_ = equ.coefficient\n",
    "x = solver_1d.grid.rho_tor_norm\n",
    "y       = equ.primary_quantity.profile\n",
    "yp      = equ.primary_quantity.d_dr\n",
    "flux    = equ.primary_quantity.flux\n",
    "dflux   = equ.primary_quantity.dflux_dr\n",
    "fig = sp_view.plot([\n",
    "    a, b, c, d, e, f, g,\n",
    "    # [\n",
    "    #     (d*yp, \"$D$\"),\n",
    "    #     (e*y,   \"$v$\"),\n",
    "    #     # (flux,   f\"$\\Gamma$\"),\n",
    "    #     ((c*(f - g * y)).I, r\"$S$\"),  # $\\int c*(f - g \\cdot y)$\n",
    "    #     # ((-d*yp+e*y).I, r\"$\\Gamma$\"),\n",
    "    #     (-d*yp+e*y-(c*(f - g * y)).I, \"residual\"),\n",
    "\n",
    "    # ],\n",
    "    y, yp\n",
    "\n",
    "    # [\n",
    "\n",
    "    #     (dflux, {\"label\": r\"$d\\Gamma$\"}),\n",
    "    #     # (Function(flux, x).d(), r\"$d\\Gamma$\"),\n",
    "    #     ((c*(f - g * y)), r\"$c*(f - g \\cdot y)$\"),\n",
    "    # ],\n",
    "],\n",
    "    x_axis=x)"
   ]
  }
 ],
 "metadata": {
  "kernelspec": {
   "display_name": "Python 3",
   "language": "python",
   "name": "python3"
  },
  "language_info": {
   "codemirror_mode": {
    "name": "ipython",
    "version": 3
   },
   "file_extension": ".py",
   "mimetype": "text/x-python",
   "name": "python",
   "nbconvert_exporter": "python",
   "pygments_lexer": "ipython3",
   "version": "3.10.12"
  }
 },
 "nbformat": 4,
 "nbformat_minor": 2
}
