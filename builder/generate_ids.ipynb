{
 "cells": [
  {
   "cell_type": "code",
   "execution_count": 1,
   "metadata": {},
   "outputs": [],
   "source": [
    "import pathlib\n",
    "import pprint\n",
    "import datetime\n",
    "import saxonche as saxonc"
   ]
  },
  {
   "cell_type": "code",
   "execution_count": 2,
   "metadata": {},
   "outputs": [],
   "source": [
    "DD_VERSION = \"3.38.1\"\n",
    "\n",
    "DD_PATH = pathlib.Path(f\"/fuyun/software/data-dictionary/{DD_VERSION}/dd_{DD_VERSION}\")\n",
    "\n",
    "ids_name=\"distributions\"\n",
    "stylesheet_path=pathlib.Path(\"/home/salmon/workspace/fytok/dev_tools\")\n",
    "output_path=pathlib.Path(\"/home/salmon/workspace/fytok/dev_tools\")"
   ]
  },
  {
   "cell_type": "code",
   "execution_count": 11,
   "metadata": {},
   "outputs": [],
   "source": [
    "with saxonc.PySaxonProcessor(license=False) as proc:\n",
    "    xslt_processor = proc.new_xslt30_processor()\n",
    "    xslt_processor.set_parameter(\"IDS_NAME\",proc.make_string_value(ids_name))\n",
    "    xslt_processor.set_parameter(\"CURRENT_DATETIME\",proc.make_string_value(datetime.datetime.now().strftime(\"%Y-%m-%d %H:%M:%S\")))\n",
    "    executable=xslt_processor.compile_stylesheet(stylesheet_file=(stylesheet_path/\"fy_ids.xsl\").as_posix())\n",
    "    result = executable.transform_to_file(source_file=(DD_PATH/\"include/IDSDef.xml\").as_posix(),\n",
    "                                          output_file=(output_path/f\"{ids_name}.py\").as_posix())\n",
    "    "
   ]
  },
  {
   "cell_type": "code",
   "execution_count": null,
   "metadata": {},
   "outputs": [],
   "source": [
    "import lxml.etree as etree\n",
    "\n",
    "dom = etree.parse((DD_PATH/\"include/IDSDef.xml\").as_posix())\n",
    "\n",
    "xslt = etree.parse(\"/home/salmon/workspace/fytok/dev_tools/fy_ids.xsl\")\n",
    "\n",
    "transform = etree.XSLT(xslt)\n",
    "\n",
    "output=transform(dom, IDS_NAME=etree.XSLT.strparam(ids_name),\n",
    "              CURRENT_DATETIME=etree.XSLT.strparam(datetime.datetime.now().strftime(\"%Y-%m-%d %H:%M:%S\")))\n",
    "\n",
    "output.write_output((output_path/ids_name.capitalize()).as_posix())"
   ]
  }
 ],
 "metadata": {
  "kernelspec": {
   "display_name": "Python 3",
   "language": "python",
   "name": "python3"
  },
  "language_info": {
   "codemirror_mode": {
    "name": "ipython",
    "version": 3
   },
   "file_extension": ".py",
   "mimetype": "text/x-python",
   "name": "python",
   "nbconvert_exporter": "python",
   "pygments_lexer": "ipython3",
   "version": "3.8.6"
  },
  "orig_nbformat": 4
 },
 "nbformat": 4,
 "nbformat_minor": 2
}
